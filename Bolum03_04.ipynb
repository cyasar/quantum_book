{
  "nbformat": 4,
  "nbformat_minor": 0,
  "metadata": {
    "colab": {
      "provenance": []
    },
    "kernelspec": {
      "name": "python3",
      "display_name": "Python 3"
    },
    "language_info": {
      "name": "python"
    }
  },
  "cells": [
    {
      "cell_type": "markdown",
      "source": [
        "Ön hazırlık (kütüphane kurulumu)"
      ],
      "metadata": {
        "id": "HkikwNrKNzeD"
      }
    },
    {
      "cell_type": "code",
      "execution_count": 1,
      "metadata": {
        "colab": {
          "base_uri": "https://localhost:8080/"
        },
        "id": "anfl_eMVNzeD",
        "outputId": "801ad206-1fdd-45c4-83f0-c8a2f9f1f260"
      },
      "outputs": [
        {
          "output_type": "stream",
          "name": "stdout",
          "text": [
            "\u001b[?25l   \u001b[90m━━━━━━━━━━━━━━━━━━━━━━━━━━━━━━━━━━━━━━━━\u001b[0m \u001b[32m0.0/2.0 MB\u001b[0m \u001b[31m?\u001b[0m eta \u001b[36m-:--:--\u001b[0m\r\u001b[2K   \u001b[91m━━━━━━━━━\u001b[0m\u001b[91m╸\u001b[0m\u001b[90m━━━━━━━━━━━━━━━━━━━━━━━━━━━━━━\u001b[0m \u001b[32m0.5/2.0 MB\u001b[0m \u001b[31m17.2 MB/s\u001b[0m eta \u001b[36m0:00:01\u001b[0m\r\u001b[2K   \u001b[91m━━━━━━━━━━━━━━━━━━━━━━━━━━━━━━━━━━━━━━━\u001b[0m\u001b[91m╸\u001b[0m \u001b[32m2.0/2.0 MB\u001b[0m \u001b[31m36.9 MB/s\u001b[0m eta \u001b[36m0:00:01\u001b[0m\r\u001b[2K   \u001b[90m━━━━━━━━━━━━━━━━━━━━━━━━━━━━━━━━━━━━━━━━\u001b[0m \u001b[32m2.0/2.0 MB\u001b[0m \u001b[31m26.4 MB/s\u001b[0m eta \u001b[36m0:00:00\u001b[0m\n",
            "\u001b[?25h\u001b[?25l   \u001b[90m━━━━━━━━━━━━━━━━━━━━━━━━━━━━━━━━━━━━━━━━\u001b[0m \u001b[32m0.0/670.8 kB\u001b[0m \u001b[31m?\u001b[0m eta \u001b[36m-:--:--\u001b[0m\r\u001b[2K   \u001b[90m━━━━━━━━━━━━━━━━━━━━━━━━━━━━━━━━━━━━━━━━\u001b[0m \u001b[32m670.8/670.8 kB\u001b[0m \u001b[31m38.8 MB/s\u001b[0m eta \u001b[36m0:00:00\u001b[0m\n",
            "\u001b[?25h\u001b[?25l   \u001b[90m━━━━━━━━━━━━━━━━━━━━━━━━━━━━━━━━━━━━━━━━\u001b[0m \u001b[32m0.0/73.5 kB\u001b[0m \u001b[31m?\u001b[0m eta \u001b[36m-:--:--\u001b[0m\r\u001b[2K   \u001b[90m━━━━━━━━━━━━━━━━━━━━━━━━━━━━━━━━━━━━━━━━\u001b[0m \u001b[32m73.5/73.5 kB\u001b[0m \u001b[31m5.0 MB/s\u001b[0m eta \u001b[36m0:00:00\u001b[0m\n",
            "\u001b[2K   \u001b[90m━━━━━━━━━━━━━━━━━━━━━━━━━━━━━━━━━━━━━━━━\u001b[0m \u001b[32m430.5/430.5 kB\u001b[0m \u001b[31m26.7 MB/s\u001b[0m eta \u001b[36m0:00:00\u001b[0m\n",
            "\u001b[2K   \u001b[90m━━━━━━━━━━━━━━━━━━━━━━━━━━━━━━━━━━━━━━━━\u001b[0m \u001b[32m8.0/8.0 MB\u001b[0m \u001b[31m106.1 MB/s\u001b[0m eta \u001b[36m0:00:00\u001b[0m\n",
            "\u001b[2K   \u001b[90m━━━━━━━━━━━━━━━━━━━━━━━━━━━━━━━━━━━━━━━━\u001b[0m \u001b[32m31.8/31.8 MB\u001b[0m \u001b[31m60.4 MB/s\u001b[0m eta \u001b[36m0:00:00\u001b[0m\n",
            "\u001b[2K   \u001b[90m━━━━━━━━━━━━━━━━━━━━━━━━━━━━━━━━━━━━━━━━\u001b[0m \u001b[32m2.2/2.2 MB\u001b[0m \u001b[31m78.7 MB/s\u001b[0m eta \u001b[36m0:00:00\u001b[0m\n",
            "\u001b[2K   \u001b[90m━━━━━━━━━━━━━━━━━━━━━━━━━━━━━━━━━━━━━━━━\u001b[0m \u001b[32m49.5/49.5 kB\u001b[0m \u001b[31m3.4 MB/s\u001b[0m eta \u001b[36m0:00:00\u001b[0m\n",
            "\u001b[2K   \u001b[90m━━━━━━━━━━━━━━━━━━━━━━━━━━━━━━━━━━━━━━━━\u001b[0m \u001b[32m2.6/2.6 MB\u001b[0m \u001b[31m72.4 MB/s\u001b[0m eta \u001b[36m0:00:00\u001b[0m\n",
            "\u001b[?25h"
          ]
        }
      ],
      "source": [
        "# Gerekli kütüphaneleri yükleyelim (Colab hücresine)\n",
        "!pip install cirq qiskit qutip numpy matplotlib --quiet"
      ]
    },
    {
      "cell_type": "markdown",
      "source": [
        "1. Lineerlik Kontrolü\n",
        "\n",
        " ![image.png](data:image/png;base64,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)\n",
        "\n",
        "Cirq / Qiskit / QuTiP"
      ],
      "metadata": {
        "id": "jooqMuMLZn_o"
      }
    },
    {
      "cell_type": "code",
      "execution_count": 3,
      "metadata": {
        "colab": {
          "base_uri": "https://localhost:8080/"
        },
        "id": "3hMABqahZbJ0",
        "outputId": "72c05885-dfd1-4f39-aa8f-f44a657e95bb"
      },
      "outputs": [
        {
          "output_type": "stream",
          "name": "stdout",
          "text": [
            "Lineerlik Kontrolü:\n",
            "A(v1+v2) = [8 3]\n",
            "Av1 + Av2 = [8 3]\n",
            "Eşit mi? -> True\n"
          ]
        }
      ],
      "source": [
        "import numpy as np\n",
        "from qutip import Qobj\n",
        "\n",
        "# Vektörler\n",
        "v1 = np.array([1, 2])\n",
        "v2 = np.array([3, -1])\n",
        "A = np.array([[2, 0], [0, 3]])\n",
        "\n",
        "# Hesaplama\n",
        "lhs = A @ (v1 + v2)\n",
        "rhs = A @ v1 + A @ v2\n",
        "\n",
        "print(\"Lineerlik Kontrolü:\")\n",
        "print(\"A(v1+v2) =\", lhs)\n",
        "print(\"Av1 + Av2 =\", rhs)\n",
        "print(\"Eşit mi? ->\", np.allclose(lhs, rhs))\n"
      ]
    },
    {
      "cell_type": "markdown",
      "source": [
        "2. Terslenebilir Operatör\n",
        "\n",
        "![image.png](data:image/png;base64,iVBORw0KGgoAAAANSUhEUgAAAPUAAABNCAYAAAB+KCJ9AAAABGdBTUEAALGPC/xhBQAAAAlwSFlzAAAZ1QAAGdUBtWjrgAAACMlJREFUeF7tncerFEsUh9+/ctduXQnuxIUoouDCgIiIuFDRhYphIUYUEVHEhAkVs6hgwoURVERFxRxAxYBizrGeX+EZaurWzNzre3Onp+Z34OM6XVXd01XnV30q9PhPW1ubE0Lkg0QtRGZI1EJkhkQtRGZI1EJkhkQtRGZI1EJkhkQtRGZI1EJkhkQtRGZI1EJkhkQtRGZI1EJkhkQtRGZI1EJkhkQtRGZI1EJkhkQtRGZI1EJkhkQtRGZI1EJkhkQtRGZI1EJkhkQtRGZI1EJkRsuLunfv3u7IkSPu7t27rk+fPsk8QjQTLSnqyZMnu71797rr16+7r1+/Ouzhw4euX79+yfxCNBMtKeoVK1a4ixcvut27d7v9+/dL1CIrWj78XrVqlUQtsqIQop4wYYJbuXKl69u3bzK9nkjUIjcaLurRo0e7ly9fui9fvrhZs2Yl89QTiVrkRkNF3a1bN3f8+HEvKgyBpfLVE4la5EZDRT1z5kz36dMnLypMohbiv9MwUffs2dPduHHDC8rs8OHDybz15P8StZ3nzZs3buTIkck89ebKlSv+OzSiHkVxaJio165d6378+OGd0KyaM9IJLFmyxK1fv77TTJ8+PXlOkKhFbjRE1IMHD3ZPnz519+/fd/fu3fOOiOGUqfwgUddGohbQEFHjdIylGVObI2JXr171k2epMvVCoha50eWiZk36/fv3ftYbAeOAZo2YrJKoRW50qah79OjhLl265NelWZ/mWCjqR48euf79+7crV08kapEbXSrqpUuXuu/fv7stW7aUjpkYsK4SRK9evfx14ODBg/7az549c5MmTfLHhgwZ0ulhgEQtikKXiZqnIE/DO3fu+Ncd7XgoasLy8ePHl5WrB+E1U/Y3T+1Y1Gx5PXTokHv37p0//uvXLx+hbN26tez+DcpQFuNccbphwuVvpbRY1OzUY8detV171j6p8vG9DRgwwJ0+fbq0x4BVDF5dnTJlSlk5w6Ixq1fykZ9yVi/r1q0rdaRMim7fvt1fj3TLs2HDBte9e/d25weOL1iwwJ+X+8Qoxzl4aSdV58A1586d68t9+/bNl/v586d79eqVbz+iS8tr9Wj1EJ6nSHSZqPfs2eM+f/7sKzA8Pnv27NLrj43aKvp/EDr+/Pnz3YsXL/xnHIT7Do0Z/4EDB5aVbxZRc284PEa7hcuSiHzOnDllZSEU9bZt27x4qJewLAIk36BBg0r7F8hjQsMsTxxFEXnFex6oc8qbUedxR03nceHCBX9eLG6ruHOXqAPGjBnjHeHs2bPtGsQqCiM0X7hwYVl6s2COj2M/f/7ch/MzZswo3a/9GIM5clwXzSBqytOOt2/fduPGjfNp3MO8efPc27dvfZ4nT56067BM1B8/fvTs2rXLC4o0ljdZ9cCoO95xp47CPMOHD3e3bt3yeYh87NqGfXc6UpY9rRxP7507d5Yigk2bNpWV4zPHuS6v41oUwF+WQfne4Q9nSNR/oNFx4NevX7uxY8e2SyfcJuw2q+bQRcYcH2MNftiwYcl8RCw4Es7NjzXY8WYQNfbgwYN2ogXbTJTqmE3UGB1b3LGPGDHCh9dYpafxxIkTfZ1hmzdvLktDeITrqRCb81y+fNmXY5I2TKtWlykk6j8QbhPS4Myp9NCZsbjBmgVz/NQTISR04PBem0HUiHb58uVlaQb3RceNxd/fRF1pzgTh2dOaOhg1alS7PAiXDgWLv18t7PpxOH3u3Dl/nMjDnu7VkKh/Q8/JxBhjFRqUEC2G4+HYp7MNVhTM8WtN9oUOfPLkydLxZhA1oa8tRcZUK2+iqrZkaXmYsGKMnMpj9xfWWwjCnDp1qu8sESxDAZ7udLRYLGpWYyw0R9hM4MURQohE/ZuNGzf6SqskaMBRyGNGY6TOVXTM8TvS4ClhNoOoq91bR0QdiyqVJ3VfRqV7Zwy8b9++0oRraPhWpd+hQ8CsRoSTccwZEMqnfrCj5UXN5AYTF4xnqoU24ZMLq9aoReZvRB12YBL134ka/6EsT1siPnyJSS8iCnvi17o+k3XksTE7xr+ZdAvztbSoqWi2gVIxhEOpPCHWWBjjpmb8qd6OijocGx44cKB0XKL+O1Ez/uZ78UQmMgzzGx25PthaNysXWOy/LS1q+/GDuHErcfToUV+JWK2KLyrm+LWW5aZNm+brJs43dOjQ0tp2pclC1nCZWcc6I2pm2XHQat8tXIWIyxdZ1LWExgPm/PnzvlxHfSuczAw73pYVtU2O4aCE4Kk8MdagWNErrBLm+BgbIVJDDo7x08RYvJ7LzqWbN2/6NF5JTS3P2BwF1hlRh50BDo6jh+l8ZqnJLC7fDKKm0wqXCA02w9CJYh0VddgW4b20pKhxxDNnzvjxDc6TypOCJ5NZtRnWImOOj+iYeAk3aADjNpyRuiHP6tWry8qDbYYAhi82WUNnwH55HBenwlLOb04fiwqOHTvm07h2uLGDayBozmsTSnH5Iovawm+MDSr2ICGUZnabNOoNi6/PNtA1a9aUzbZTjjE5HQHtyA46S2sZUeOs7APGicNZRCYtWJ7YsWNH2f5ZY9GiRf6pFf4vGRgOzdIHaSdOnKi4iaNohI7PXmOrC/6G9YKomKmNn5aAw4U/GoHZdkfqhXq+du2aP95ZUdNRstPNjPNxbv7ynShTSZRFFjXwUg73YRZuESVqOnXqlP93fH07H0Z+xG/n4TPnDdupZUS9ePFi7xSVrNISFXtuaxmVR0+cKl80YscPX1rAcAZWAngTLFXeINqhU+A8OBiELzNUcmywtFhUhr2I8eHDB58Px338+LHvYElrVlEjPO6BezExE/HZixyVrr9s2TI/1LHoB0PYdJzhFl+jZcfUQojGIlELkRkStRCZIVELkRkStRCZIVELkRkStRCZIVELkRkStRCZIVELkRkStRCZIVELkRkStRCZIVELkRkStRCZIVELkRkStRCZIVELkRkStRCZIVELkRkStRCZIVELkRkStRBZ0eb+BYb6JPn6c0fAAAAAAElFTkSuQmCC)\n"
      ],
      "metadata": {
        "id": "DF1M1wJLZ-bl"
      }
    },
    {
      "cell_type": "code",
      "source": [
        "A = np.array([[1, 2], [3, 4]])\n",
        "A_inv = np.linalg.inv(A)\n",
        "\n",
        "print(\"A^-1 =\\n\", A_inv)\n"
      ],
      "metadata": {
        "colab": {
          "base_uri": "https://localhost:8080/"
        },
        "id": "BjEIBj-KZ-8q",
        "outputId": "9e65153b-cb0a-4a28-bc4a-e6ae147e0908"
      },
      "execution_count": 5,
      "outputs": [
        {
          "output_type": "stream",
          "name": "stdout",
          "text": [
            "A^-1 =\n",
            " [[-2.   1. ]\n",
            " [ 1.5 -0.5]]\n"
          ]
        }
      ]
    },
    {
      "cell_type": "markdown",
      "source": [
        "3. Operatörün Bir Vektöre Etkisi\n",
        "\n",
        "![image.png](data:image/png;base64,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)"
      ],
      "metadata": {
        "id": "LIl0rhbUaOoL"
      }
    },
    {
      "cell_type": "code",
      "source": [
        "A = np.array([[0, -1j], [1j, 0]])\n",
        "v = np.array([1, 0])\n",
        "\n",
        "result = A @ v\n",
        "print(\"A v =\", result)\n"
      ],
      "metadata": {
        "colab": {
          "base_uri": "https://localhost:8080/"
        },
        "id": "Vn3RabwiaRkk",
        "outputId": "fb9e0b6d-ebde-4502-a513-d34fe5876b6f"
      },
      "execution_count": 6,
      "outputs": [
        {
          "output_type": "stream",
          "name": "stdout",
          "text": [
            "A v = [0.+0.j 0.+1.j]\n"
          ]
        }
      ]
    },
    {
      "cell_type": "markdown",
      "source": [
        "4. Komütatör Hesabı\n",
        "\n",
        "![image.png](data:image/png;base64,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)"
      ],
      "metadata": {
        "id": "uk3Ui-tvaUDU"
      }
    },
    {
      "cell_type": "code",
      "source": [
        "A = np.array([[0, 1], [1, 0]])     # Pauli-X\n",
        "B = np.array([[0, -1j], [1j, 0]])  # Pauli-Y\n",
        "\n",
        "commutator = A @ B - B @ A\n",
        "print(\"[A,B] =\\n\", commutator)\n"
      ],
      "metadata": {
        "colab": {
          "base_uri": "https://localhost:8080/"
        },
        "id": "dgebH0FzaUL8",
        "outputId": "8aee6a60-6560-4690-ed3e-84cc4408766d"
      },
      "execution_count": 7,
      "outputs": [
        {
          "output_type": "stream",
          "name": "stdout",
          "text": [
            "[A,B] =\n",
            " [[0.+2.j 0.+0.j]\n",
            " [0.+0.j 0.-2.j]]\n"
          ]
        }
      ]
    },
    {
      "cell_type": "markdown",
      "source": [
        "5. Operatörün Matris Temsili\n",
        "\n",
        "![image.png](data:image/png;base64,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)\n",
        "\n"
      ],
      "metadata": {
        "id": "Tj3_YRlwai_U"
      }
    },
    {
      "cell_type": "code",
      "source": [
        "A = np.array([[0, 1], [1, 0]])  # Pauli-X\n",
        "print(\"A =\\n\", A)\n"
      ],
      "metadata": {
        "colab": {
          "base_uri": "https://localhost:8080/"
        },
        "id": "ZPs6Y_FKajGj",
        "outputId": "19dee716-c9fd-402d-c8b8-0c0dc2f9bf5f"
      },
      "execution_count": 8,
      "outputs": [
        {
          "output_type": "stream",
          "name": "stdout",
          "text": [
            "A =\n",
            " [[0 1]\n",
            " [1 0]]\n"
          ]
        }
      ]
    },
    {
      "cell_type": "markdown",
      "source": [
        "QuTiP ile Özellik Kontrolleri"
      ],
      "metadata": {
        "id": "SnfT3TbTaqoG"
      }
    },
    {
      "cell_type": "code",
      "source": [
        "from qutip import sigmax, sigmay\n",
        "\n",
        "X = sigmax()\n",
        "Y = sigmay()\n",
        "\n",
        "print(\"Komütatör [X,Y] =\\n\", (X*Y - Y*X))\n",
        "print(\"X hermitik mi?\", X.isherm)\n",
        "print(\"Y birimsel mi?\", Y.isunitary())\n"
      ],
      "metadata": {
        "colab": {
          "base_uri": "https://localhost:8080/",
          "height": 280
        },
        "id": "oQfwTlMKaqwa",
        "outputId": "2f9934bb-80cb-4102-c20d-ae280c33d61b"
      },
      "execution_count": 9,
      "outputs": [
        {
          "output_type": "stream",
          "name": "stdout",
          "text": [
            "Komütatör [X,Y] =\n",
            " Quantum object: dims=[[2], [2]], shape=(2, 2), type='oper', dtype=CSR, isherm=False\n",
            "Qobj data =\n",
            "[[0.+2.j 0.+0.j]\n",
            " [0.+0.j 0.-2.j]]\n",
            "X hermitik mi? True\n"
          ]
        },
        {
          "output_type": "error",
          "ename": "TypeError",
          "evalue": "'bool' object is not callable",
          "traceback": [
            "\u001b[0;31m---------------------------------------------------------------------------\u001b[0m",
            "\u001b[0;31mTypeError\u001b[0m                                 Traceback (most recent call last)",
            "\u001b[0;32m/tmp/ipython-input-354245299.py\u001b[0m in \u001b[0;36m<cell line: 0>\u001b[0;34m()\u001b[0m\n\u001b[1;32m      6\u001b[0m \u001b[0mprint\u001b[0m\u001b[0;34m(\u001b[0m\u001b[0;34m\"Komütatör [X,Y] =\\n\"\u001b[0m\u001b[0;34m,\u001b[0m \u001b[0;34m(\u001b[0m\u001b[0mX\u001b[0m\u001b[0;34m*\u001b[0m\u001b[0mY\u001b[0m \u001b[0;34m-\u001b[0m \u001b[0mY\u001b[0m\u001b[0;34m*\u001b[0m\u001b[0mX\u001b[0m\u001b[0;34m)\u001b[0m\u001b[0;34m)\u001b[0m\u001b[0;34m\u001b[0m\u001b[0;34m\u001b[0m\u001b[0m\n\u001b[1;32m      7\u001b[0m \u001b[0mprint\u001b[0m\u001b[0;34m(\u001b[0m\u001b[0;34m\"X hermitik mi?\"\u001b[0m\u001b[0;34m,\u001b[0m \u001b[0mX\u001b[0m\u001b[0;34m.\u001b[0m\u001b[0misherm\u001b[0m\u001b[0;34m)\u001b[0m\u001b[0;34m\u001b[0m\u001b[0;34m\u001b[0m\u001b[0m\n\u001b[0;32m----> 8\u001b[0;31m \u001b[0mprint\u001b[0m\u001b[0;34m(\u001b[0m\u001b[0;34m\"Y birimsel mi?\"\u001b[0m\u001b[0;34m,\u001b[0m \u001b[0mY\u001b[0m\u001b[0;34m.\u001b[0m\u001b[0misunitary\u001b[0m\u001b[0;34m(\u001b[0m\u001b[0;34m)\u001b[0m\u001b[0;34m)\u001b[0m\u001b[0;34m\u001b[0m\u001b[0;34m\u001b[0m\u001b[0m\n\u001b[0m",
            "\u001b[0;31mTypeError\u001b[0m: 'bool' object is not callable"
          ]
        }
      ]
    }
  ]
}