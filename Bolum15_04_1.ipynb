{
  "nbformat": 4,
  "nbformat_minor": 0,
  "metadata": {
    "colab": {
      "provenance": []
    },
    "kernelspec": {
      "name": "python3",
      "display_name": "Python 3"
    },
    "language_info": {
      "name": "python"
    }
  },
  "cells": [
    {
      "cell_type": "markdown",
      "metadata": {
        "id": "HkikwNrKNzeD"
      },
      "source": [
        "Ön hazırlık (kütüphane kurulumu)"
      ]
    },
    {
      "cell_type": "code",
      "execution_count": 4,
      "metadata": {
        "id": "anfl_eMVNzeD"
      },
      "outputs": [],
      "source": [
        "# Gerekli kütüphaneleri yükleyelim (Colab hücresine)\n",
        "!pip install cirq qiskit qutip numpy matplotlib --quiet"
      ]
    },
    {
      "cell_type": "markdown",
      "source": [
        "SHOR'UN ALGORİTMASI"
      ],
      "metadata": {
        "id": "lEmjiyRBHbpI"
      }
    },
    {
      "cell_type": "markdown",
      "source": [
        "Cirq ile Shor Algoritması (Basitleştirilmiş)"
      ],
      "metadata": {
        "id": "D5E3tiz6Hbrf"
      }
    },
    {
      "cell_type": "code",
      "source": [
        "import cirq\n",
        "import numpy as np\n",
        "\n",
        "# 4 qubitlik bir sistem (basit örnek)\n",
        "qubits = [cirq.LineQubit(i) for i in range(4)]\n",
        "\n",
        "# Başlangıç devresi\n",
        "circuit = cirq.Circuit()\n",
        "\n",
        "# Hadamard kapılarıyla süperpozisyon\n",
        "circuit.append([cirq.H(q) for q in qubits])\n",
        "\n",
        "# Basitleştirilmiş modüler üstel operatör (örnek için)\n",
        "# Bu örnekte doğrudan modüler çarpma yerine X kapıları kullanıyoruz\n",
        "circuit.append(cirq.CNOT(qubits[0], qubits[1]))\n",
        "circuit.append(cirq.CNOT(qubits[1], qubits[2]))\n",
        "circuit.append(cirq.CNOT(qubits[2], qubits[3]))\n",
        "\n",
        "# Ölçüm\n",
        "circuit.append([cirq.measure(q) for q in qubits])\n",
        "\n",
        "# Simülasyon\n",
        "simulator = cirq.Simulator()\n",
        "result = simulator.run(circuit, repetitions=10)\n",
        "print(result)\n"
      ],
      "metadata": {
        "colab": {
          "base_uri": "https://localhost:8080/"
        },
        "id": "IEK4NMdzHb8W",
        "outputId": "cc3d727d-4d3a-4665-de31-09cd55a420ca"
      },
      "execution_count": 5,
      "outputs": [
        {
          "output_type": "stream",
          "name": "stdout",
          "text": [
            "q(0)=0111111111\n",
            "q(1)=0001111001\n",
            "q(2)=0000000100\n",
            "q(3)=0100110111\n"
          ]
        }
      ]
    },
    {
      "cell_type": "markdown",
      "source": [
        "Qiskit ile Shor Algoritması (Basitleştirilmiş)"
      ],
      "metadata": {
        "id": "ws6VPB5RHcER"
      }
    },
    {
      "cell_type": "code",
      "source": [
        "from qiskit import QuantumCircuit, Aer, execute\n",
        "import numpy as np\n",
        "\n",
        "# 4 qubitlik bir devre\n",
        "qc = QuantumCircuit(4, 4)\n",
        "\n",
        "# Hadamard ile süperpozisyon\n",
        "for i in range(4):\n",
        "    qc.h(i)\n",
        "\n",
        "# Basitleştirilmiş modüler üstel (X kapılarıyla örnek)\n",
        "qc.cx(0,1)\n",
        "qc.cx(1,2)\n",
        "qc.cx(2,3)\n",
        "\n",
        "# Ölçüm\n",
        "qc.measure(range(4), range(4))\n",
        "\n",
        "# Simülasyon\n",
        "backend = Aer.get_backend('qasm_simulator')\n",
        "result = execute(qc, backend, shots=10).result()\n",
        "counts = result.get_counts()\n",
        "print(counts)\n"
      ],
      "metadata": {
        "colab": {
          "base_uri": "https://localhost:8080/",
          "height": 384
        },
        "id": "QsCZJpK9HcI9",
        "outputId": "44d7bb49-e45c-4161-c508-52251f8d4e8e"
      },
      "execution_count": 6,
      "outputs": [
        {
          "output_type": "error",
          "ename": "ImportError",
          "evalue": "cannot import name 'Aer' from 'qiskit' (/usr/local/lib/python3.12/dist-packages/qiskit/__init__.py)",
          "traceback": [
            "\u001b[0;31m---------------------------------------------------------------------------\u001b[0m",
            "\u001b[0;31mImportError\u001b[0m                               Traceback (most recent call last)",
            "\u001b[0;32m/tmp/ipython-input-3239175298.py\u001b[0m in \u001b[0;36m<cell line: 0>\u001b[0;34m()\u001b[0m\n\u001b[0;32m----> 1\u001b[0;31m \u001b[0;32mfrom\u001b[0m \u001b[0mqiskit\u001b[0m \u001b[0;32mimport\u001b[0m \u001b[0mQuantumCircuit\u001b[0m\u001b[0;34m,\u001b[0m \u001b[0mAer\u001b[0m\u001b[0;34m,\u001b[0m \u001b[0mexecute\u001b[0m\u001b[0;34m\u001b[0m\u001b[0;34m\u001b[0m\u001b[0m\n\u001b[0m\u001b[1;32m      2\u001b[0m \u001b[0;32mimport\u001b[0m \u001b[0mnumpy\u001b[0m \u001b[0;32mas\u001b[0m \u001b[0mnp\u001b[0m\u001b[0;34m\u001b[0m\u001b[0;34m\u001b[0m\u001b[0m\n\u001b[1;32m      3\u001b[0m \u001b[0;34m\u001b[0m\u001b[0m\n\u001b[1;32m      4\u001b[0m \u001b[0;31m# 4 qubitlik bir devre\u001b[0m\u001b[0;34m\u001b[0m\u001b[0;34m\u001b[0m\u001b[0m\n\u001b[1;32m      5\u001b[0m \u001b[0mqc\u001b[0m \u001b[0;34m=\u001b[0m \u001b[0mQuantumCircuit\u001b[0m\u001b[0;34m(\u001b[0m\u001b[0;36m4\u001b[0m\u001b[0;34m,\u001b[0m \u001b[0;36m4\u001b[0m\u001b[0;34m)\u001b[0m\u001b[0;34m\u001b[0m\u001b[0;34m\u001b[0m\u001b[0m\n",
            "\u001b[0;31mImportError\u001b[0m: cannot import name 'Aer' from 'qiskit' (/usr/local/lib/python3.12/dist-packages/qiskit/__init__.py)",
            "",
            "\u001b[0;31m---------------------------------------------------------------------------\u001b[0;32m\nNOTE: If your import is failing due to a missing package, you can\nmanually install dependencies using either !pip or !apt.\n\nTo view examples of installing some common dependencies, click the\n\"Open Examples\" button below.\n\u001b[0;31m---------------------------------------------------------------------------\u001b[0m\n"
          ],
          "errorDetails": {
            "actions": [
              {
                "action": "open_url",
                "actionText": "Open Examples",
                "url": "/notebooks/snippets/importing_libraries.ipynb"
              }
            ]
          }
        }
      ]
    },
    {
      "cell_type": "markdown",
      "source": [
        "QuTiP ile Basitleştirilmiş Shor Algoritması"
      ],
      "metadata": {
        "id": "5hvqCQhSHcQZ"
      }
    },
    {
      "cell_type": "code",
      "source": [
        "import numpy as np\n",
        "from qutip import *\n",
        "\n",
        "# Qubit sayısı (basit örnek)\n",
        "n_qubits = 4\n",
        "\n",
        "# Başlangıç durumu |0000>\n",
        "psi0 = tensor([basis(2,0) for _ in range(n_qubits)])\n",
        "\n",
        "# Hadamard ile süperpozisyon: H ⊗ H ⊗ H ⊗ H\n",
        "H = hadamard_transform(n_qubits)\n",
        "psi1 = H * psi0\n",
        "\n",
        "# Basitleştirilmiş modüler üstel operatör\n",
        "# Örnek: a^x mod 15 fonksiyonu yerine basit bir permutation (demo)\n",
        "# Gerçek Shor'da burada modüler üstel operatör uygulanır\n",
        "U_mod = qeye(2**n_qubits)\n",
        "U_mod[1,1] = 0\n",
        "U_mod[1,2] = 1\n",
        "U_mod[2,2] = 0\n",
        "U_mod[2,1] = 1\n",
        "\n",
        "psi2 = U_mod * psi1\n",
        "\n",
        "# Ölçüm simülasyonu\n",
        "# Qutip ölçüm projeksiyonları\n",
        "proj0 = tensor([basis(2,0)*basis(2,0).dag() for _ in range(n_qubits)])\n",
        "proj1 = qeye(2**n_qubits) - proj0\n",
        "\n",
        "# Ölçüm sonuçlarını hesapla\n",
        "prob0 = (psi2.dag() * proj0 * psi2).full()[0,0].real\n",
        "prob1 = (psi2.dag() * proj1 * psi2).full()[0,0].real\n",
        "\n",
        "print(\"Ölçüm olasılığı |0000>: {:.2f}\".format(prob0))\n",
        "print(\"Ölçüm olasılığı diğer durumlar: {:.2f}\".format(prob1))\n"
      ],
      "metadata": {
        "id": "YfEFGUw-HcVI",
        "colab": {
          "base_uri": "https://localhost:8080/",
          "height": 211
        },
        "outputId": "e8c0bbc0-ecb0-44ad-ed6c-e8802b19b7ce"
      },
      "execution_count": 7,
      "outputs": [
        {
          "output_type": "error",
          "ename": "NameError",
          "evalue": "name 'hadamard_transform' is not defined",
          "traceback": [
            "\u001b[0;31m---------------------------------------------------------------------------\u001b[0m",
            "\u001b[0;31mNameError\u001b[0m                                 Traceback (most recent call last)",
            "\u001b[0;32m/tmp/ipython-input-1141534476.py\u001b[0m in \u001b[0;36m<cell line: 0>\u001b[0;34m()\u001b[0m\n\u001b[1;32m      9\u001b[0m \u001b[0;34m\u001b[0m\u001b[0m\n\u001b[1;32m     10\u001b[0m \u001b[0;31m# Hadamard ile süperpozisyon: H ⊗ H ⊗ H ⊗ H\u001b[0m\u001b[0;34m\u001b[0m\u001b[0;34m\u001b[0m\u001b[0m\n\u001b[0;32m---> 11\u001b[0;31m \u001b[0mH\u001b[0m \u001b[0;34m=\u001b[0m \u001b[0mhadamard_transform\u001b[0m\u001b[0;34m(\u001b[0m\u001b[0mn_qubits\u001b[0m\u001b[0;34m)\u001b[0m\u001b[0;34m\u001b[0m\u001b[0;34m\u001b[0m\u001b[0m\n\u001b[0m\u001b[1;32m     12\u001b[0m \u001b[0mpsi1\u001b[0m \u001b[0;34m=\u001b[0m \u001b[0mH\u001b[0m \u001b[0;34m*\u001b[0m \u001b[0mpsi0\u001b[0m\u001b[0;34m\u001b[0m\u001b[0;34m\u001b[0m\u001b[0m\n\u001b[1;32m     13\u001b[0m \u001b[0;34m\u001b[0m\u001b[0m\n",
            "\u001b[0;31mNameError\u001b[0m: name 'hadamard_transform' is not defined"
          ]
        }
      ]
    },
    {
      "cell_type": "markdown",
      "source": [
        "QUANTUM PHASE ESTIMATION (QPE)"
      ],
      "metadata": {
        "id": "O7DUeaI8JiDR"
      }
    },
    {
      "cell_type": "markdown",
      "source": [
        "Cirq ile QPE Örneği"
      ],
      "metadata": {
        "id": "WdCJjDlxJiGB"
      }
    },
    {
      "cell_type": "code",
      "source": [
        "import cirq\n",
        "import numpy as np\n",
        "\n",
        "# ------------------------------\n",
        "# Parametreler\n",
        "# ------------------------------\n",
        "n_control = 3\n",
        "phi = 1/4\n",
        "\n",
        "# Qubitler\n",
        "controls = [cirq.GridQubit(0, i) for i in range(n_control)]\n",
        "target = cirq.GridQubit(1, 0)\n",
        "\n",
        "# Devre\n",
        "circuit = cirq.Circuit()\n",
        "\n",
        "# Başlangıç: kontrol qubitleri H ile süperpozisyon\n",
        "circuit.append([cirq.H(q) for q in controls])\n",
        "\n",
        "# Hedef qubit hazırla |1> (U özvektörü için)\n",
        "circuit.append(cirq.X(target))\n",
        "\n",
        "# Kontrollü-U^2^j işlemleri\n",
        "for j, q in enumerate(controls):\n",
        "    exponent = 2**j * phi\n",
        "    circuit.append(cirq.CZPowGate(exponent=exponent*2).on(q, target))\n",
        "\n",
        "# Inverse QFT\n",
        "def qft_rotations(qubits):\n",
        "    if len(qubits) == 0:\n",
        "        return []\n",
        "    q = qubits[0]\n",
        "    rest = qubits[1:]\n",
        "    ops = qft_rotations(rest)\n",
        "    for i, r in enumerate(rest):\n",
        "        ops.append(cirq.CZPowGate(exponent=-1/2**(i+1)).on(r,q))\n",
        "    ops.append(cirq.H(q))\n",
        "    return ops\n",
        "\n",
        "circuit.append(qft_rotations(controls))\n",
        "circuit.append(cirq.measure(*controls, key='result'))\n",
        "\n",
        "# Simülasyon\n",
        "sim = cirq.Simulator()\n",
        "result = sim.run(circuit, repetitions=1000)\n",
        "\n",
        "print(\"Cirq QPE Ölçüm Sonuçları:\")\n",
        "print(result.histogram(key='result'))\n"
      ],
      "metadata": {
        "colab": {
          "base_uri": "https://localhost:8080/"
        },
        "id": "NO7RG-NEJiPf",
        "outputId": "7c11ea4d-c187-4d40-dff5-680307184b9a"
      },
      "execution_count": 10,
      "outputs": [
        {
          "output_type": "stream",
          "name": "stdout",
          "text": [
            "Cirq QPE Ölçüm Sonuçları:\n",
            "Counter({2: 1000})\n"
          ]
        }
      ]
    },
    {
      "cell_type": "markdown",
      "source": [
        "Qiskit ile QPE Örneği"
      ],
      "metadata": {
        "id": "Ak9ACCcdJiWH"
      }
    },
    {
      "cell_type": "code",
      "source": [
        "from qiskit import QuantumCircuit, Aer, execute\n",
        "from qiskit.circuit.library import QFT\n",
        "\n",
        "# ------------------------------\n",
        "# Parametreler\n",
        "# ------------------------------\n",
        "n_control = 3  # Kontrol qubit sayısı\n",
        "phi = 1/4      # Hedef faz\n",
        "U = [[1, 0], [0, complex(np.exp(2*np.pi*1j*phi))]]  # 1-qubit üniter\n",
        "\n",
        "# ------------------------------\n",
        "# QPE Devresi\n",
        "# ------------------------------\n",
        "qc = QuantumCircuit(n_control+1, n_control)\n",
        "\n",
        "# Hadamard Kapıları (kontrol register)\n",
        "for q in range(n_control):\n",
        "    qc.h(q)\n",
        "\n",
        "# Kontrollü-U operatörleri\n",
        "for j in range(n_control):\n",
        "    power = 2**j\n",
        "    qc.cu1(2*np.pi*phi*power, j, n_control)\n",
        "\n",
        "# Inverse QFT\n",
        "qc.append(QFT(num_qubits=n_control, do_swaps=True).inverse(), range(n_control))\n",
        "\n",
        "# Ölçüm\n",
        "qc.measure(range(n_co_\n"
      ],
      "metadata": {
        "colab": {
          "base_uri": "https://localhost:8080/",
          "height": 106
        },
        "id": "L7yvsuvEJicM",
        "outputId": "44616bf4-6e06-459d-a9c1-dc0060510a1f"
      },
      "execution_count": 9,
      "outputs": [
        {
          "output_type": "error",
          "ename": "SyntaxError",
          "evalue": "incomplete input (ipython-input-560160484.py, line 29)",
          "traceback": [
            "\u001b[0;36m  File \u001b[0;32m\"/tmp/ipython-input-560160484.py\"\u001b[0;36m, line \u001b[0;32m29\u001b[0m\n\u001b[0;31m    qc.measure(range(n_co_\u001b[0m\n\u001b[0m                          ^\u001b[0m\n\u001b[0;31mSyntaxError\u001b[0m\u001b[0;31m:\u001b[0m incomplete input\n"
          ]
        }
      ]
    },
    {
      "cell_type": "markdown",
      "source": [
        "QuTiP ile Basit QPE Örneği"
      ],
      "metadata": {
        "id": "wambimLjJihY"
      }
    },
    {
      "cell_type": "code",
      "source": [
        "import numpy as np\n",
        "from qutip import *\n",
        "\n",
        "# ------------------------------\n",
        "# 1. Parametreler\n",
        "# ------------------------------\n",
        "n_control = 2  # Kontrol qubit sayısı\n",
        "n_target = 1   # Hedef qubit sayısı\n",
        "\n",
        "# Hedef üniter operatör U ve özvektör |u> (Hedef qubit)\n",
        "phi = 0.25  # Faz = 1/4\n",
        "U = Qobj([[1, 0], [0, np.exp(2*np.pi*1j*phi)]])\n",
        "u = basis(2,0)  # |0> özvektör\n",
        "\n",
        "# Başlangıç durumu: |0...0> ⊗ |u>\n",
        "psi0 = tensor([basis(2,0) for _ in range(n_control)] + [u])\n",
        "\n",
        "# ------------------------------\n",
        "# 2. Hadamard Kapıları\n",
        "# ------------------------------\n",
        "H = hadamard_transform(n_control)\n",
        "H_full = tensor(H, qeye(2**n_target))\n",
        "psi1 = H_full * psi0\n",
        "\n",
        "# ------------------------------\n",
        "# 3. Kontrollü-U Operatörleri\n",
        "# ------------------------------\n",
        "def controlled_U(U, control_index, n_total):\n",
        "    # Basit 2-qubit kontrol için\n",
        "    P0 = tensor([basis(2,0)*basis(2,0).dag() if i==control_index else qeye(2) for i in range(n_total)])\n",
        "    P1 = tensor([basis(2,1)*basis(2,1).dag() if i==control_index else qeye(2) for i in range(n_total)])\n",
        "    U_ext = tensor([qeye(2) for _ in range(n_total-1)] + [U])\n",
        "    return P0 + P1 * U_ext\n",
        "\n",
        "# n_control = 2 için U, U^2 uygula\n",
        "psi2 = psi1\n",
        "for j in range(n_control):\n",
        "    Uj = U**(2**j)\n",
        "    CU = controlled_U(Uj, j, n_control+n_target)\n",
        "    psi2 = CU * psi2\n",
        "\n",
        "# ------------------------------\n",
        "# 4. Inverse QFT (basit 2 qubit)\n",
        "# ------------------------------\n",
        "def inverse_qft(psi, n):\n",
        "    \"\"\"2 qubit için basit Inverse QFT\"\"\"\n",
        "    psi = swap(psi, 0, 1)  # Swap qubit 0 ve 1\n",
        "    psi = qft([psi], dagger=True)  # Qutip qft fonksiyonu\n",
        "    return psi\n",
        "\n",
        "# Burada basitleştirilmiş gösterim\n",
        "# psi3 = inverse_qft(psi2, n_control)  # 2 qubit register\n",
        "\n",
        "# ------------------------------\n",
        "# 5. Ölçüm (kontrol register)\n",
        "# ------------------------------\n",
        "# Not: QuTiP ölçüm fonksiyonları ile kontrol register olasılıkları bulunabilir\n",
        "proj_list = [tensor([basis(2,i)*basis(2,i).dag() for _ in range(n_control)] + [qeye(2)]) for i in range(2**n_control)]\n",
        "probs = [abs((proj * psi2).norm())**2 for proj in proj_list]\n",
        "\n",
        "print(\"Kontrol register olasılıkları:\")\n",
        "for i, p in enumerate(probs):\n",
        "    print(f\"{i:02b}: {p:.2f}\")\n"
      ],
      "metadata": {
        "colab": {
          "base_uri": "https://localhost:8080/",
          "height": 211
        },
        "id": "xMQuoFfuJil4",
        "outputId": "03db2b96-1e67-425d-a7a1-3e8a402de84c"
      },
      "execution_count": 8,
      "outputs": [
        {
          "output_type": "error",
          "ename": "NameError",
          "evalue": "name 'hadamard_transform' is not defined",
          "traceback": [
            "\u001b[0;31m---------------------------------------------------------------------------\u001b[0m",
            "\u001b[0;31mNameError\u001b[0m                                 Traceback (most recent call last)",
            "\u001b[0;32m/tmp/ipython-input-2063243323.py\u001b[0m in \u001b[0;36m<cell line: 0>\u001b[0;34m()\u001b[0m\n\u001b[1;32m     19\u001b[0m \u001b[0;31m# 2. Hadamard Kapıları\u001b[0m\u001b[0;34m\u001b[0m\u001b[0;34m\u001b[0m\u001b[0m\n\u001b[1;32m     20\u001b[0m \u001b[0;31m# ------------------------------\u001b[0m\u001b[0;34m\u001b[0m\u001b[0;34m\u001b[0m\u001b[0m\n\u001b[0;32m---> 21\u001b[0;31m \u001b[0mH\u001b[0m \u001b[0;34m=\u001b[0m \u001b[0mhadamard_transform\u001b[0m\u001b[0;34m(\u001b[0m\u001b[0mn_control\u001b[0m\u001b[0;34m)\u001b[0m\u001b[0;34m\u001b[0m\u001b[0;34m\u001b[0m\u001b[0m\n\u001b[0m\u001b[1;32m     22\u001b[0m \u001b[0mH_full\u001b[0m \u001b[0;34m=\u001b[0m \u001b[0mtensor\u001b[0m\u001b[0;34m(\u001b[0m\u001b[0mH\u001b[0m\u001b[0;34m,\u001b[0m \u001b[0mqeye\u001b[0m\u001b[0;34m(\u001b[0m\u001b[0;36m2\u001b[0m\u001b[0;34m**\u001b[0m\u001b[0mn_target\u001b[0m\u001b[0;34m)\u001b[0m\u001b[0;34m)\u001b[0m\u001b[0;34m\u001b[0m\u001b[0;34m\u001b[0m\u001b[0m\n\u001b[1;32m     23\u001b[0m \u001b[0mpsi1\u001b[0m \u001b[0;34m=\u001b[0m \u001b[0mH_full\u001b[0m \u001b[0;34m*\u001b[0m \u001b[0mpsi0\u001b[0m\u001b[0;34m\u001b[0m\u001b[0;34m\u001b[0m\u001b[0m\n",
            "\u001b[0;31mNameError\u001b[0m: name 'hadamard_transform' is not defined"
          ]
        }
      ]
    },
    {
      "cell_type": "markdown",
      "source": [
        "QuTiP ile QPE Örneği (Geliştirilmiş)"
      ],
      "metadata": {
        "id": "SNwZvazXKJq5"
      }
    },
    {
      "cell_type": "code",
      "execution_count": 11,
      "metadata": {
        "id": "3hHVk_efHN6F",
        "colab": {
          "base_uri": "https://localhost:8080/",
          "height": 211
        },
        "outputId": "1683b2e5-9088-4613-c0fc-b4f0b026772a"
      },
      "outputs": [
        {
          "output_type": "error",
          "ename": "NameError",
          "evalue": "name 'hadamard_transform' is not defined",
          "traceback": [
            "\u001b[0;31m---------------------------------------------------------------------------\u001b[0m",
            "\u001b[0;31mNameError\u001b[0m                                 Traceback (most recent call last)",
            "\u001b[0;32m/tmp/ipython-input-3786123980.py\u001b[0m in \u001b[0;36m<cell line: 0>\u001b[0;34m()\u001b[0m\n\u001b[1;32m     17\u001b[0m \u001b[0;34m\u001b[0m\u001b[0m\n\u001b[1;32m     18\u001b[0m \u001b[0;31m# Hadamard Kapıları\u001b[0m\u001b[0;34m\u001b[0m\u001b[0;34m\u001b[0m\u001b[0m\n\u001b[0;32m---> 19\u001b[0;31m \u001b[0mH_list\u001b[0m \u001b[0;34m=\u001b[0m \u001b[0;34m[\u001b[0m\u001b[0mhadamard_transform\u001b[0m\u001b[0;34m(\u001b[0m\u001b[0;36m1\u001b[0m\u001b[0;34m)\u001b[0m \u001b[0;32mfor\u001b[0m \u001b[0m_\u001b[0m \u001b[0;32min\u001b[0m \u001b[0mrange\u001b[0m\u001b[0;34m(\u001b[0m\u001b[0mn_control\u001b[0m\u001b[0;34m)\u001b[0m\u001b[0;34m]\u001b[0m\u001b[0;34m\u001b[0m\u001b[0;34m\u001b[0m\u001b[0m\n\u001b[0m\u001b[1;32m     20\u001b[0m \u001b[0mH_full\u001b[0m \u001b[0;34m=\u001b[0m \u001b[0mtensor\u001b[0m\u001b[0;34m(\u001b[0m\u001b[0mH_list\u001b[0m \u001b[0;34m+\u001b[0m \u001b[0;34m[\u001b[0m\u001b[0mqeye\u001b[0m\u001b[0;34m(\u001b[0m\u001b[0;36m2\u001b[0m\u001b[0;34m)\u001b[0m\u001b[0;34m]\u001b[0m\u001b[0;34m)\u001b[0m\u001b[0;34m\u001b[0m\u001b[0;34m\u001b[0m\u001b[0m\n\u001b[1;32m     21\u001b[0m \u001b[0mpsi1\u001b[0m \u001b[0;34m=\u001b[0m \u001b[0mH_full\u001b[0m \u001b[0;34m*\u001b[0m \u001b[0mpsi0\u001b[0m\u001b[0;34m\u001b[0m\u001b[0;34m\u001b[0m\u001b[0m\n",
            "\u001b[0;31mNameError\u001b[0m: name 'hadamard_transform' is not defined"
          ]
        }
      ],
      "source": [
        "import numpy as np\n",
        "from qutip import *\n",
        "\n",
        "# ------------------------------\n",
        "# Parametreler\n",
        "# ------------------------------\n",
        "n_control = 3\n",
        "phi = 1/4\n",
        "n_total = n_control + 1  # toplam qubit sayısı\n",
        "\n",
        "# Hedef özvektör |u> ve üniter U\n",
        "u = basis(2,0)\n",
        "U = Qobj([[1,0],[0,np.exp(2*np.pi*1j*phi)]])\n",
        "\n",
        "# Başlangıç durumu\n",
        "psi0 = tensor([basis(2,0) for _ in range(n_control)] + [u])\n",
        "\n",
        "# Hadamard Kapıları\n",
        "H_list = [hadamard_transform(1) for _ in range(n_control)]\n",
        "H_full = tensor(H_list + [qeye(2)])\n",
        "psi1 = H_full * psi0\n",
        "\n",
        "# Kontrollü-U işlemleri\n",
        "def controlled_U(U, ctrl, tgt, n_total):\n",
        "    P0 = tensor([basis(2,0)*basis(2,0).dag() if i==ctrl else qeye(2) for i in range(n_total)])\n",
        "    P1 = tensor([basis(2,1)*basis(2,1).dag() if i==ctrl else qeye(2) for i in range(n_total)])\n",
        "    U_ext = tensor([qeye(2) if i!=tgt else U for i in range(n_total)])\n",
        "    return P0 + P1*U_ext\n",
        "\n",
        "psi2 = psi1\n",
        "for j in range(n_control):\n",
        "    psi2 = controlled_U(U**(2**j), j, n_control, n_total) * psi2\n",
        "\n",
        "# Basit ölçüm: kontrol register olasılıkları\n",
        "probs = []\n",
        "for i in range(2**n_control):\n",
        "    proj = tensor([basis(2,(i>>j)&1)*basis(2,(i>>j)&1).dag() for j in range(n_control)] + [qeye(2)])\n",
        "    probs.append(abs((proj * psi2).norm())**2)\n",
        "\n",
        "print(\"QuTiP QPE Ölçüm Olasılıkları:\")\n",
        "for i, p in enumerate(probs):\n",
        "    print(f\"{i:03b}: {p:.3f}\")\n"
      ]
    },
    {
      "cell_type": "markdown",
      "source": [
        "ORDER FINDING ALGORİTMASI"
      ],
      "metadata": {
        "id": "8OidTlkYKO5t"
      }
    },
    {
      "cell_type": "markdown",
      "source": [
        "Cirq ile Order Finding Örneği"
      ],
      "metadata": {
        "id": "WGkMvR-gKPFh"
      }
    },
    {
      "cell_type": "code",
      "source": [
        "import cirq\n",
        "import numpy as np\n",
        "\n",
        "# ------------------------------\n",
        "# Parametreler\n",
        "# ------------------------------\n",
        "n_control = 4\n",
        "N = 15\n",
        "a = 2\n",
        "\n",
        "# Qubitler\n",
        "controls = [cirq.GridQubit(0, i) for i in range(n_control)]\n",
        "targets = [cirq.GridQubit(1, i) for i in range(4)]  # hedef register\n",
        "\n",
        "# Devre\n",
        "circuit = cirq.Circuit()\n",
        "\n",
        "# Başlangıç: kontrol qubitleri H ile süperpozisyon\n",
        "circuit.append([cirq.H(q) for q in controls])\n",
        "\n",
        "# Hedef register |1>\n",
        "circuit.append(cirq.X(targets[0]))\n",
        "\n",
        "# ------------------------------\n",
        "# Basitleştirilmiş kontrollü modüler üslü operatör\n",
        "# ------------------------------\n",
        "# Gerçek U_a^2^j operatörü için kuantum mantık kapıları gerekir\n",
        "for j, q in enumerate(controls):\n",
        "    for t in targets:\n",
        "        circuit.append(cirq.CX(q, t))  # örnek amaçlı, küçük simülasyon\n",
        "\n",
        "# Inverse QFT\n",
        "def qft_rotations(qubits):\n",
        "    if len(qubits) == 0:\n",
        "        return []\n",
        "    q = qubits[0]\n",
        "    rest = qubits[1:]\n",
        "    ops = qft_rotations(rest)\n",
        "    for i, r in enumerate(rest):\n",
        "        ops.append(cirq.CZPowGate(exponent=-1/2**(i+1)).on(r,q))\n",
        "    ops.append(cirq.H(q))\n",
        "    return ops\n",
        "\n",
        "circuit.append(qft_rotations(controls))\n",
        "circuit.append(cirq.measure(*controls, key='result'))\n",
        "\n",
        "# Simülasyon\n",
        "sim = cirq.Simulator()\n",
        "result = sim.run(circuit, repetitions=1000)\n",
        "\n",
        "print(\"Cirq Order Finding Ölçüm Sonuçları:\")\n",
        "print(result.histogram(key='result'))\n"
      ],
      "metadata": {
        "colab": {
          "base_uri": "https://localhost:8080/"
        },
        "id": "KwFHDNHjKPb2",
        "outputId": "42c228e9-ad0f-4a80-bd63-32848c105b28"
      },
      "execution_count": 12,
      "outputs": [
        {
          "output_type": "stream",
          "name": "stdout",
          "text": [
            "Cirq Order Finding Ölçüm Sonuçları:\n",
            "Counter({0: 515, 5: 146, 11: 121, 3: 75, 13: 59, 9: 44, 7: 35, 1: 5})\n"
          ]
        }
      ]
    },
    {
      "cell_type": "markdown",
      "source": [
        "Qiskit ile Order Finding Örneği"
      ],
      "metadata": {
        "id": "5DS-FC62KP6t"
      }
    },
    {
      "cell_type": "code",
      "source": [
        "import numpy as np\n",
        "from qiskit import QuantumCircuit, Aer, execute\n",
        "from qiskit.circuit.library import QFT\n",
        "\n",
        "# ------------------------------\n",
        "# Parametreler\n",
        "# ------------------------------\n",
        "n_control = 4  # kontrol qubit sayısı (üst register)\n",
        "N = 15\n",
        "a = 2\n",
        "\n",
        "# ------------------------------\n",
        "# Devre oluşturma\n",
        "# ------------------------------\n",
        "qc = QuantumCircuit(n_control+4, n_control)  # 4 qubit hedef register (N<16)\n",
        "# Başlangıç: kontrol register H kapıları\n",
        "for q in range(n_control):\n",
        "    qc.h(q)\n",
        "\n",
        "# Hedef register |1> başlangıç\n",
        "qc.x(n_control)\n",
        "\n",
        "# ------------------------------\n",
        "# Kontrollü modüler üs alma (basitleştirilmiş örnek)\n",
        "# ------------------------------\n",
        "# Bu kısım gerçek devrede kompleks modüler üslü operatör gerektirir\n",
        "# Küçük örnek için klasik modüler hesaplama ve controlled-X ile simüle edelim\n",
        "# Kontrollü-U^2^j işlemleri\n",
        "for j in range(n_control):\n",
        "    exponent = 2**j\n",
        "    # Basit modüler işlemi simüle et (örnek amaçlı)\n",
        "    for _ in range(exponent):\n",
        "        for k in range(n_control, n_control+4):\n",
        "            qc.cx(j, k)  # bu sadece örnek, gerçek U_a^2^j operatörü daha karmaşıktır\n",
        "\n",
        "# Inverse QFT\n",
        "qc.append(QFT(num_qubits=n_control, do_swaps=True).inverse(), range(n_control))\n",
        "\n",
        "# Ölçüm\n",
        "qc.measure(range(n_control), range(n_control))\n",
        "\n",
        "# ------------------------------\n",
        "# Simülasyon\n",
        "# ------------------------------\n",
        "backend = Aer.get_backend('qasm_simulator')\n",
        "result = execute(qc, backend, shots=1024).result()\n",
        "counts = result.get_counts()\n",
        "\n",
        "print(\"Qiskit Order Finding Ölçüm Sonuçları:\")\n",
        "print(counts)\n",
        "qc.draw('mpl')\n"
      ],
      "metadata": {
        "colab": {
          "base_uri": "https://localhost:8080/",
          "height": 384
        },
        "id": "-r5q97YpKQBp",
        "outputId": "fd01f562-303b-4d66-badc-1d19342e65b3"
      },
      "execution_count": 13,
      "outputs": [
        {
          "output_type": "error",
          "ename": "ImportError",
          "evalue": "cannot import name 'Aer' from 'qiskit' (/usr/local/lib/python3.12/dist-packages/qiskit/__init__.py)",
          "traceback": [
            "\u001b[0;31m---------------------------------------------------------------------------\u001b[0m",
            "\u001b[0;31mImportError\u001b[0m                               Traceback (most recent call last)",
            "\u001b[0;32m/tmp/ipython-input-2026393110.py\u001b[0m in \u001b[0;36m<cell line: 0>\u001b[0;34m()\u001b[0m\n\u001b[1;32m      1\u001b[0m \u001b[0;32mimport\u001b[0m \u001b[0mnumpy\u001b[0m \u001b[0;32mas\u001b[0m \u001b[0mnp\u001b[0m\u001b[0;34m\u001b[0m\u001b[0;34m\u001b[0m\u001b[0m\n\u001b[0;32m----> 2\u001b[0;31m \u001b[0;32mfrom\u001b[0m \u001b[0mqiskit\u001b[0m \u001b[0;32mimport\u001b[0m \u001b[0mQuantumCircuit\u001b[0m\u001b[0;34m,\u001b[0m \u001b[0mAer\u001b[0m\u001b[0;34m,\u001b[0m \u001b[0mexecute\u001b[0m\u001b[0;34m\u001b[0m\u001b[0;34m\u001b[0m\u001b[0m\n\u001b[0m\u001b[1;32m      3\u001b[0m \u001b[0;32mfrom\u001b[0m \u001b[0mqiskit\u001b[0m\u001b[0;34m.\u001b[0m\u001b[0mcircuit\u001b[0m\u001b[0;34m.\u001b[0m\u001b[0mlibrary\u001b[0m \u001b[0;32mimport\u001b[0m \u001b[0mQFT\u001b[0m\u001b[0;34m\u001b[0m\u001b[0;34m\u001b[0m\u001b[0m\n\u001b[1;32m      4\u001b[0m \u001b[0;34m\u001b[0m\u001b[0m\n\u001b[1;32m      5\u001b[0m \u001b[0;31m# ------------------------------\u001b[0m\u001b[0;34m\u001b[0m\u001b[0;34m\u001b[0m\u001b[0m\n",
            "\u001b[0;31mImportError\u001b[0m: cannot import name 'Aer' from 'qiskit' (/usr/local/lib/python3.12/dist-packages/qiskit/__init__.py)",
            "",
            "\u001b[0;31m---------------------------------------------------------------------------\u001b[0;32m\nNOTE: If your import is failing due to a missing package, you can\nmanually install dependencies using either !pip or !apt.\n\nTo view examples of installing some common dependencies, click the\n\"Open Examples\" button below.\n\u001b[0;31m---------------------------------------------------------------------------\u001b[0m\n"
          ],
          "errorDetails": {
            "actions": [
              {
                "action": "open_url",
                "actionText": "Open Examples",
                "url": "/notebooks/snippets/importing_libraries.ipynb"
              }
            ]
          }
        }
      ]
    },
    {
      "cell_type": "markdown",
      "source": [
        "QuTiP ile Order Finding (Küçük Sistem Örneği)"
      ],
      "metadata": {
        "id": "AIQKRRVRKQH7"
      }
    },
    {
      "cell_type": "code",
      "source": [
        "import numpy as np\n",
        "from qutip import basis, tensor, qft, Qobj, measurement_statistics_povm\n",
        "\n",
        "# ------------------------------\n",
        "# Parametreler\n",
        "# ------------------------------\n",
        "N = 15\n",
        "a = 2\n",
        "n_control = 3  # kontrol register (süperpozisyon) qubit sayısı\n",
        "n_target = 4   # hedef register (N<16 için 4 qubit)\n",
        "\n",
        "# ------------------------------\n",
        "# Qubit register başlangıç\n",
        "# ------------------------------\n",
        "# Kontrol register |0>\n",
        "control = tensor([basis(2,0) for _ in range(n_control)])\n",
        "# Hedef register |1>\n",
        "target = tensor([basis(2,1)]+[basis(2,0) for _ in range(n_target-1)])\n",
        "# Başlangıç durumu\n",
        "psi0 = tensor(control, target)\n",
        "\n",
        "# ------------------------------\n",
        "# Hadamard kontrol qubitleri\n",
        "# ------------------------------\n",
        "H = (1/np.sqrt(2)) * np.array([[1,1],[1,-1]])\n",
        "H_control = tensor([Qobj(H) for _ in range(n_control)])\n",
        "# Süperpozisyon durumu\n",
        "psi1 = H_control * control\n",
        "psi1 = tensor(psi1, target)\n",
        "\n",
        "# ------------------------------\n",
        "# Basitleştirilmiş kontrollü modüler üs alma\n",
        "# ------------------------------\n",
        "# Bu küçük örnek için hedef register mod N üzerindeki döngüsel permütasyon ile simüle edilir\n",
        "def controlled_modular_exponentiation(psi, a, N, n_control, n_target):\n",
        "    \"\"\"\n",
        "    Küçük örnek: hedef register'da basit permütasyon\n",
        "    \"\"\"\n",
        "    # Bu örnekte modüler üs alma tam simülasyonu yapılmamıştır\n",
        "    # Ama mantığı göstermek için döngü eklenebilir\n",
        "    return psi  # basit placeholder\n",
        "\n",
        "psi2 = controlled_modular_exponentiation(psi1, a, N, n_control, n_target)\n",
        "\n",
        "# ------------------------------\n",
        "# Inverse QFT\n",
        "# ------------------------------\n",
        "# Sadece kontrol register üzerine uygulayacağız\n",
        "qft_dagger_control = qft(n_control).dag()\n",
        "psi3 = tensor(qft_dagger_control * psi2.ptrace(list(range(n_control))), psi2.ptrace(list(range(n_control, n_control+n_target))))\n",
        "\n",
        "# ------------------------------\n",
        "# Ölçüm (kontrol register)\n",
        "# ------------------------------\n",
        "# Basitleştirilmiş ölçüm: eigenstate prob. simülasyonu\n",
        "measurement_operators = [basis(2**n_control, i) * basis(2**n_control, i).dag() for i in range(2**n_control)]\n",
        "probs = [abs((op * psi3.ptrace(list(range(n_control)))).norm())**2 for op in measurement_operators]\n",
        "\n",
        "print(\"Kontrol register ölçüm olasılıkları:\")\n",
        "for i, p in enumerate(probs):\n",
        "    print(f\"|{i:0{n_control}b}> : {p:.4f}\")\n"
      ],
      "metadata": {
        "colab": {
          "base_uri": "https://localhost:8080/",
          "height": 384
        },
        "id": "II7uAjYkKQNS",
        "outputId": "fe2505ba-2cf0-4214-dc85-e980e0649e3f"
      },
      "execution_count": 14,
      "outputs": [
        {
          "output_type": "error",
          "ename": "ImportError",
          "evalue": "cannot import name 'measurement_statistics_povm' from 'qutip' (/usr/local/lib/python3.12/dist-packages/qutip/__init__.py)",
          "traceback": [
            "\u001b[0;31m---------------------------------------------------------------------------\u001b[0m",
            "\u001b[0;31mImportError\u001b[0m                               Traceback (most recent call last)",
            "\u001b[0;32m/tmp/ipython-input-4114633736.py\u001b[0m in \u001b[0;36m<cell line: 0>\u001b[0;34m()\u001b[0m\n\u001b[1;32m      1\u001b[0m \u001b[0;32mimport\u001b[0m \u001b[0mnumpy\u001b[0m \u001b[0;32mas\u001b[0m \u001b[0mnp\u001b[0m\u001b[0;34m\u001b[0m\u001b[0;34m\u001b[0m\u001b[0m\n\u001b[0;32m----> 2\u001b[0;31m \u001b[0;32mfrom\u001b[0m \u001b[0mqutip\u001b[0m \u001b[0;32mimport\u001b[0m \u001b[0mbasis\u001b[0m\u001b[0;34m,\u001b[0m \u001b[0mtensor\u001b[0m\u001b[0;34m,\u001b[0m \u001b[0mqft\u001b[0m\u001b[0;34m,\u001b[0m \u001b[0mQobj\u001b[0m\u001b[0;34m,\u001b[0m \u001b[0mmeasurement_statistics_povm\u001b[0m\u001b[0;34m\u001b[0m\u001b[0;34m\u001b[0m\u001b[0m\n\u001b[0m\u001b[1;32m      3\u001b[0m \u001b[0;34m\u001b[0m\u001b[0m\n\u001b[1;32m      4\u001b[0m \u001b[0;31m# ------------------------------\u001b[0m\u001b[0;34m\u001b[0m\u001b[0;34m\u001b[0m\u001b[0m\n\u001b[1;32m      5\u001b[0m \u001b[0;31m# Parametreler\u001b[0m\u001b[0;34m\u001b[0m\u001b[0;34m\u001b[0m\u001b[0m\n",
            "\u001b[0;31mImportError\u001b[0m: cannot import name 'measurement_statistics_povm' from 'qutip' (/usr/local/lib/python3.12/dist-packages/qutip/__init__.py)",
            "",
            "\u001b[0;31m---------------------------------------------------------------------------\u001b[0;32m\nNOTE: If your import is failing due to a missing package, you can\nmanually install dependencies using either !pip or !apt.\n\nTo view examples of installing some common dependencies, click the\n\"Open Examples\" button below.\n\u001b[0;31m---------------------------------------------------------------------------\u001b[0m\n"
          ],
          "errorDetails": {
            "actions": [
              {
                "action": "open_url",
                "actionText": "Open Examples",
                "url": "/notebooks/snippets/importing_libraries.ipynb"
              }
            ]
          }
        }
      ]
    },
    {
      "cell_type": "markdown",
      "source": [
        "DISCRETE LOGARİTHM ALGORİTMASI (AYRIK\n",
        "LOGARİTMA ALGORİTMASI) ."
      ],
      "metadata": {
        "id": "A_EPYzdhLWAM"
      }
    },
    {
      "cell_type": "markdown",
      "source": [
        "Qiskit Örneği"
      ],
      "metadata": {
        "id": "84KwOvgfLWLH"
      }
    },
    {
      "cell_type": "code",
      "source": [
        "from qiskit import QuantumCircuit, Aer, transpile, assemble, execute\n",
        "from qiskit.circuit.library import QFT\n",
        "import numpy as np\n",
        "\n",
        "# Basitleştirilmiş QFT tabanlı ayrık logaritma simülasyonu\n",
        "n = 5  # kontrol register boyutu (2^5 > p)\n",
        "qc = QuantumCircuit(n, n)\n",
        "\n",
        "# Adım 1: Hadamard ile süperpozisyon\n",
        "qc.h(range(n))\n",
        "\n",
        "# Adım 2: Kontrollü modüler üs alma işlemi (küçük örnek için manuel)\n",
        "# Gerçek Shor tabanlı DLP devresi çok karmaşık, simülasyon için placeholder\n",
        "\n",
        "# Adım 3: QFT^\\dagger\n",
        "qc.append(QFT(num_qubits=n, do_swaps=False).inverse(), range(n))\n",
        "\n",
        "# Adım 4: Ölçüm\n",
        "qc.measure(range(n), range(n))\n",
        "\n",
        "# Çalıştırma\n",
        "sim = Aer.get_backend('aer_simulator')\n",
        "tqc = transpile(qc, sim)\n",
        "qobj = assemble(tqc)\n",
        "result = sim.run(qobj).result()\n",
        "counts = result.get_counts()\n",
        "print(\"Qiskit ölçüm sonuçları:\", counts)\n"
      ],
      "metadata": {
        "colab": {
          "base_uri": "https://localhost:8080/",
          "height": 384
        },
        "id": "Rh9wJpLMLWgi",
        "outputId": "bccc2c92-b6d4-4996-a2a1-7742137634dd"
      },
      "execution_count": 15,
      "outputs": [
        {
          "output_type": "error",
          "ename": "ImportError",
          "evalue": "cannot import name 'Aer' from 'qiskit' (/usr/local/lib/python3.12/dist-packages/qiskit/__init__.py)",
          "traceback": [
            "\u001b[0;31m---------------------------------------------------------------------------\u001b[0m",
            "\u001b[0;31mImportError\u001b[0m                               Traceback (most recent call last)",
            "\u001b[0;32m/tmp/ipython-input-2513696075.py\u001b[0m in \u001b[0;36m<cell line: 0>\u001b[0;34m()\u001b[0m\n\u001b[0;32m----> 1\u001b[0;31m \u001b[0;32mfrom\u001b[0m \u001b[0mqiskit\u001b[0m \u001b[0;32mimport\u001b[0m \u001b[0mQuantumCircuit\u001b[0m\u001b[0;34m,\u001b[0m \u001b[0mAer\u001b[0m\u001b[0;34m,\u001b[0m \u001b[0mtranspile\u001b[0m\u001b[0;34m,\u001b[0m \u001b[0massemble\u001b[0m\u001b[0;34m,\u001b[0m \u001b[0mexecute\u001b[0m\u001b[0;34m\u001b[0m\u001b[0;34m\u001b[0m\u001b[0m\n\u001b[0m\u001b[1;32m      2\u001b[0m \u001b[0;32mfrom\u001b[0m \u001b[0mqiskit\u001b[0m\u001b[0;34m.\u001b[0m\u001b[0mcircuit\u001b[0m\u001b[0;34m.\u001b[0m\u001b[0mlibrary\u001b[0m \u001b[0;32mimport\u001b[0m \u001b[0mQFT\u001b[0m\u001b[0;34m\u001b[0m\u001b[0;34m\u001b[0m\u001b[0m\n\u001b[1;32m      3\u001b[0m \u001b[0;32mimport\u001b[0m \u001b[0mnumpy\u001b[0m \u001b[0;32mas\u001b[0m \u001b[0mnp\u001b[0m\u001b[0;34m\u001b[0m\u001b[0;34m\u001b[0m\u001b[0m\n\u001b[1;32m      4\u001b[0m \u001b[0;34m\u001b[0m\u001b[0m\n\u001b[1;32m      5\u001b[0m \u001b[0;31m# Basitleştirilmiş QFT tabanlı ayrık logaritma simülasyonu\u001b[0m\u001b[0;34m\u001b[0m\u001b[0;34m\u001b[0m\u001b[0m\n",
            "\u001b[0;31mImportError\u001b[0m: cannot import name 'Aer' from 'qiskit' (/usr/local/lib/python3.12/dist-packages/qiskit/__init__.py)",
            "",
            "\u001b[0;31m---------------------------------------------------------------------------\u001b[0;32m\nNOTE: If your import is failing due to a missing package, you can\nmanually install dependencies using either !pip or !apt.\n\nTo view examples of installing some common dependencies, click the\n\"Open Examples\" button below.\n\u001b[0;31m---------------------------------------------------------------------------\u001b[0m\n"
          ],
          "errorDetails": {
            "actions": [
              {
                "action": "open_url",
                "actionText": "Open Examples",
                "url": "/notebooks/snippets/importing_libraries.ipynb"
              }
            ]
          }
        }
      ]
    },
    {
      "cell_type": "markdown",
      "source": [
        "Cirq Örneği"
      ],
      "metadata": {
        "id": "sws1p2afQXXK"
      }
    },
    {
      "cell_type": "code",
      "source": [
        "import cirq\n",
        "import numpy as np\n",
        "\n",
        "n = 5  # kontrol register boyutu\n",
        "qubits = [cirq.LineQubit(i) for i in range(n)]\n",
        "\n",
        "circuit = cirq.Circuit()\n",
        "\n",
        "# Adım 1: Hadamard ile süperpozisyon\n",
        "for q in qubits:\n",
        "    circuit.append(cirq.H(q))\n",
        "\n",
        "# Adım 2: Kontrollü modüler üs alma (placeholder)\n",
        "# Gerçek DLP devresi çok karmaşık\n",
        "\n",
        "# Adım 3: Inverse QFT\n",
        "def inverse_qft(qubits):\n",
        "    n = len(qubits)\n",
        "    for i in range(n//2):\n",
        "        circuit.append(cirq.SWAP(qubits[i], qubits[n-i-1]))\n",
        "    for j in range(n):\n",
        "        for m in range(j):\n",
        "            circuit.append(cirq.CZ(qubits[j], qubits[m])**- (1/2**(j-m)))\n",
        "        circuit.append(cirq.H(qubits[j]))\n",
        "\n",
        "inverse_qft(qubits)\n",
        "\n",
        "# Adım 4: Ölçüm\n",
        "circuit.append(cirq.measure(*qubits, key='result'))\n",
        "\n",
        "# Simülasyon\n",
        "simulator = cirq.Simulator()\n",
        "result = simulator.run(circuit, repetitions=10)\n",
        "print(\"Cirq ölçüm sonuçları:\\n\", result)\n"
      ],
      "metadata": {
        "colab": {
          "base_uri": "https://localhost:8080/"
        },
        "id": "8W5ytzmjQXdd",
        "outputId": "e0ad357b-29cf-44d8-ebc6-1fdff776e041"
      },
      "execution_count": 16,
      "outputs": [
        {
          "output_type": "stream",
          "name": "stdout",
          "text": [
            "Cirq ölçüm sonuçları:\n",
            " result=0000000000, 0000000000, 0000000000, 0000000000, 0000000000\n"
          ]
        }
      ]
    },
    {
      "cell_type": "markdown",
      "source": [
        "QuTiP Örneği"
      ],
      "metadata": {
        "id": "3kkv68lNQXio"
      }
    },
    {
      "cell_type": "code",
      "source": [
        "import numpy as np\n",
        "from qutip import basis, tensor, qft, Qobj\n",
        "\n",
        "# Parametreler\n",
        "n_control = 5\n",
        "n_target = 5  # küçük örnek\n",
        "p = 23\n",
        "g = 5\n",
        "y = 8\n",
        "\n",
        "# Başlangıç register\n",
        "control = tensor([basis(2,0) for _ in range(n_control)])\n",
        "target = tensor([basis(2,1) for _ in range(n_target)])\n",
        "psi0 = tensor(control, target)\n",
        "\n",
        "# Hadamard süperpozisyon\n",
        "H = (1/np.sqrt(2))*np.array([[1,1],[1,-1]])\n",
        "H_control = tensor([Qobj(H) for _ in range(n_control)])\n",
        "psi1 = tensor(H_control*control, target)\n",
        "\n",
        "# Kontrollü modüler üs alma placeholder\n",
        "psi2 = psi1  # Küçük örnek simülasyonu için\n",
        "\n",
        "# Inverse QFT\n",
        "qft_dagger_control = qft(n_control).dag()\n",
        "psi3 = tensor(qft_dagger_control*psi2.ptrace(range(n_control)), psi2.ptrace(range(n_control, n_control+n_target)))\n",
        "\n",
        "# Ölçüm olasılıkları\n",
        "measurement_operators = [basis(2**n_control,i)*basis(2**n_control,i).dag() for i in range(2**n_control)]\n",
        "probs = [abs((op*psi3.ptrace(range(n_control))).norm())**2 for op in measurement_operators]\n",
        "\n",
        "for i, p_ in enumerate(probs):\n",
        "    if p_>0.01:\n",
        "        print(f\"|{i:0{n_control}b}> : {p_:.4f}\")\n"
      ],
      "metadata": {
        "colab": {
          "base_uri": "https://localhost:8080/",
          "height": 356
        },
        "id": "PDL8i1ajQXmY",
        "outputId": "56da5724-aa2f-4a32-d89c-b4ef54d228be"
      },
      "execution_count": 17,
      "outputs": [
        {
          "output_type": "error",
          "ename": "TypeError",
          "evalue": "incompatible dimensions [[5], [5]] and [[2, 2, 2, 2, 2], [2, 2, 2, 2, 2]]",
          "traceback": [
            "\u001b[0;31m---------------------------------------------------------------------------\u001b[0m",
            "\u001b[0;31mTypeError\u001b[0m                                 Traceback (most recent call last)",
            "\u001b[0;32m/tmp/ipython-input-3223322005.py\u001b[0m in \u001b[0;36m<cell line: 0>\u001b[0;34m()\u001b[0m\n\u001b[1;32m     24\u001b[0m \u001b[0;31m# Inverse QFT\u001b[0m\u001b[0;34m\u001b[0m\u001b[0;34m\u001b[0m\u001b[0m\n\u001b[1;32m     25\u001b[0m \u001b[0mqft_dagger_control\u001b[0m \u001b[0;34m=\u001b[0m \u001b[0mqft\u001b[0m\u001b[0;34m(\u001b[0m\u001b[0mn_control\u001b[0m\u001b[0;34m)\u001b[0m\u001b[0;34m.\u001b[0m\u001b[0mdag\u001b[0m\u001b[0;34m(\u001b[0m\u001b[0;34m)\u001b[0m\u001b[0;34m\u001b[0m\u001b[0;34m\u001b[0m\u001b[0m\n\u001b[0;32m---> 26\u001b[0;31m \u001b[0mpsi3\u001b[0m \u001b[0;34m=\u001b[0m \u001b[0mtensor\u001b[0m\u001b[0;34m(\u001b[0m\u001b[0mqft_dagger_control\u001b[0m\u001b[0;34m*\u001b[0m\u001b[0mpsi2\u001b[0m\u001b[0;34m.\u001b[0m\u001b[0mptrace\u001b[0m\u001b[0;34m(\u001b[0m\u001b[0mrange\u001b[0m\u001b[0;34m(\u001b[0m\u001b[0mn_control\u001b[0m\u001b[0;34m)\u001b[0m\u001b[0;34m)\u001b[0m\u001b[0;34m,\u001b[0m \u001b[0mpsi2\u001b[0m\u001b[0;34m.\u001b[0m\u001b[0mptrace\u001b[0m\u001b[0;34m(\u001b[0m\u001b[0mrange\u001b[0m\u001b[0;34m(\u001b[0m\u001b[0mn_control\u001b[0m\u001b[0;34m,\u001b[0m \u001b[0mn_control\u001b[0m\u001b[0;34m+\u001b[0m\u001b[0mn_target\u001b[0m\u001b[0;34m)\u001b[0m\u001b[0;34m)\u001b[0m\u001b[0;34m)\u001b[0m\u001b[0;34m\u001b[0m\u001b[0;34m\u001b[0m\u001b[0m\n\u001b[0m\u001b[1;32m     27\u001b[0m \u001b[0;34m\u001b[0m\u001b[0m\n\u001b[1;32m     28\u001b[0m \u001b[0;31m# Ölçüm olasılıkları\u001b[0m\u001b[0;34m\u001b[0m\u001b[0;34m\u001b[0m\u001b[0m\n",
            "\u001b[0;32m/usr/local/lib/python3.12/dist-packages/qutip/core/qobj.py\u001b[0m in \u001b[0;36m__mul__\u001b[0;34m(self, other)\u001b[0m\n\u001b[1;32m    422\u001b[0m \u001b[0;34m\u001b[0m\u001b[0m\n\u001b[1;32m    423\u001b[0m         \u001b[0;32mif\u001b[0m \u001b[0misinstance\u001b[0m\u001b[0;34m(\u001b[0m\u001b[0mother\u001b[0m\u001b[0;34m,\u001b[0m \u001b[0mQobj\u001b[0m\u001b[0;34m)\u001b[0m\u001b[0;34m:\u001b[0m\u001b[0;34m\u001b[0m\u001b[0;34m\u001b[0m\u001b[0m\n\u001b[0;32m--> 424\u001b[0;31m             \u001b[0;32mreturn\u001b[0m \u001b[0mself\u001b[0m\u001b[0;34m.\u001b[0m\u001b[0m__matmul__\u001b[0m\u001b[0;34m(\u001b[0m\u001b[0mother\u001b[0m\u001b[0;34m)\u001b[0m\u001b[0;34m\u001b[0m\u001b[0;34m\u001b[0m\u001b[0m\n\u001b[0m\u001b[1;32m    425\u001b[0m \u001b[0;34m\u001b[0m\u001b[0m\n\u001b[1;32m    426\u001b[0m         \u001b[0;31m# We send other to mul instead of complex(other) to be more flexible.\u001b[0m\u001b[0;34m\u001b[0m\u001b[0;34m\u001b[0m\u001b[0m\n",
            "\u001b[0;32m/usr/local/lib/python3.12/dist-packages/qutip/core/qobj.py\u001b[0m in \u001b[0;36m__matmul__\u001b[0;34m(self, other)\u001b[0m\n\u001b[1;32m    459\u001b[0m             \u001b[0;32mexcept\u001b[0m \u001b[0mTypeError\u001b[0m\u001b[0;34m:\u001b[0m\u001b[0;34m\u001b[0m\u001b[0;34m\u001b[0m\u001b[0m\n\u001b[1;32m    460\u001b[0m                 \u001b[0;32mreturn\u001b[0m \u001b[0mNotImplemented\u001b[0m\u001b[0;34m\u001b[0m\u001b[0;34m\u001b[0m\u001b[0m\n\u001b[0;32m--> 461\u001b[0;31m         \u001b[0mnew_dims\u001b[0m \u001b[0;34m=\u001b[0m \u001b[0mself\u001b[0m\u001b[0;34m.\u001b[0m\u001b[0m_dims\u001b[0m \u001b[0;34m@\u001b[0m \u001b[0mother\u001b[0m\u001b[0;34m.\u001b[0m\u001b[0m_dims\u001b[0m\u001b[0;34m\u001b[0m\u001b[0;34m\u001b[0m\u001b[0m\n\u001b[0m\u001b[1;32m    462\u001b[0m         \u001b[0;32mif\u001b[0m \u001b[0mnew_dims\u001b[0m\u001b[0;34m.\u001b[0m\u001b[0mtype\u001b[0m \u001b[0;34m==\u001b[0m \u001b[0;34m'scalar'\u001b[0m\u001b[0;34m:\u001b[0m\u001b[0;34m\u001b[0m\u001b[0;34m\u001b[0m\u001b[0m\n\u001b[1;32m    463\u001b[0m             \u001b[0;32mreturn\u001b[0m \u001b[0m_data\u001b[0m\u001b[0;34m.\u001b[0m\u001b[0minner\u001b[0m\u001b[0;34m(\u001b[0m\u001b[0mself\u001b[0m\u001b[0;34m.\u001b[0m\u001b[0m_data\u001b[0m\u001b[0;34m,\u001b[0m \u001b[0mother\u001b[0m\u001b[0;34m.\u001b[0m\u001b[0m_data\u001b[0m\u001b[0;34m)\u001b[0m\u001b[0;34m\u001b[0m\u001b[0;34m\u001b[0m\u001b[0m\n",
            "\u001b[0;32m/usr/local/lib/python3.12/dist-packages/qutip/core/dimensions.py\u001b[0m in \u001b[0;36m__matmul__\u001b[0;34m(self, other)\u001b[0m\n\u001b[1;32m    798\u001b[0m     \u001b[0;32mdef\u001b[0m \u001b[0m__matmul__\u001b[0m\u001b[0;34m(\u001b[0m\u001b[0mself\u001b[0m\u001b[0;34m,\u001b[0m \u001b[0mother\u001b[0m\u001b[0;34m:\u001b[0m \u001b[0;34m\"Dimensions\"\u001b[0m\u001b[0;34m)\u001b[0m \u001b[0;34m->\u001b[0m \u001b[0;34m\"Dimensions\"\u001b[0m\u001b[0;34m:\u001b[0m\u001b[0;34m\u001b[0m\u001b[0;34m\u001b[0m\u001b[0m\n\u001b[1;32m    799\u001b[0m         \u001b[0;32mif\u001b[0m \u001b[0mself\u001b[0m\u001b[0;34m.\u001b[0m\u001b[0mfrom_\u001b[0m \u001b[0;34m!=\u001b[0m \u001b[0mother\u001b[0m\u001b[0;34m.\u001b[0m\u001b[0mto_\u001b[0m\u001b[0;34m:\u001b[0m\u001b[0;34m\u001b[0m\u001b[0;34m\u001b[0m\u001b[0m\n\u001b[0;32m--> 800\u001b[0;31m             \u001b[0;32mraise\u001b[0m \u001b[0mTypeError\u001b[0m\u001b[0;34m(\u001b[0m\u001b[0;34mf\"incompatible dimensions {self} and {other}\"\u001b[0m\u001b[0;34m)\u001b[0m\u001b[0;34m\u001b[0m\u001b[0;34m\u001b[0m\u001b[0m\n\u001b[0m\u001b[1;32m    801\u001b[0m         \u001b[0margs\u001b[0m \u001b[0;34m=\u001b[0m \u001b[0mother\u001b[0m\u001b[0;34m.\u001b[0m\u001b[0mfrom_\u001b[0m\u001b[0;34m,\u001b[0m \u001b[0mself\u001b[0m\u001b[0;34m.\u001b[0m\u001b[0mto_\u001b[0m\u001b[0;34m\u001b[0m\u001b[0;34m\u001b[0m\u001b[0m\n\u001b[1;32m    802\u001b[0m         \u001b[0;32mif\u001b[0m \u001b[0margs\u001b[0m \u001b[0;32min\u001b[0m \u001b[0mDimensions\u001b[0m\u001b[0;34m.\u001b[0m\u001b[0m_stored_dims\u001b[0m\u001b[0;34m:\u001b[0m\u001b[0;34m\u001b[0m\u001b[0;34m\u001b[0m\u001b[0m\n",
            "\u001b[0;31mTypeError\u001b[0m: incompatible dimensions [[5], [5]] and [[2, 2, 2, 2, 2], [2, 2, 2, 2, 2]]"
          ]
        }
      ]
    },
    {
      "cell_type": "markdown",
      "source": [],
      "metadata": {
        "id": "o6YRW0WUQe6K"
      }
    },
    {
      "cell_type": "markdown",
      "source": [],
      "metadata": {
        "id": "vzsxZXoCQfIG"
      }
    },
    {
      "cell_type": "code",
      "source": [],
      "metadata": {
        "id": "sdjYpQU6QfRd"
      },
      "execution_count": null,
      "outputs": []
    },
    {
      "cell_type": "markdown",
      "source": [],
      "metadata": {
        "id": "5jesqLueQfZA"
      }
    },
    {
      "cell_type": "code",
      "source": [],
      "metadata": {
        "id": "khEzjCGJQfdl"
      },
      "execution_count": null,
      "outputs": []
    },
    {
      "cell_type": "markdown",
      "source": [],
      "metadata": {
        "id": "1xeayXUSQfiJ"
      }
    },
    {
      "cell_type": "code",
      "source": [],
      "metadata": {
        "id": "uuy44HiBQfmU"
      },
      "execution_count": null,
      "outputs": []
    }
  ]
}