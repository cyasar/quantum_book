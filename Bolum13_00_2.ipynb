{
  "nbformat": 4,
  "nbformat_minor": 0,
  "metadata": {
    "colab": {
      "provenance": []
    },
    "kernelspec": {
      "name": "python3",
      "display_name": "Python 3"
    },
    "language_info": {
      "name": "python"
    }
  },
  "cells": [
    {
      "cell_type": "markdown",
      "source": [
        "Ön hazırlık (kütüphane kurulumu)"
      ],
      "metadata": {
        "id": "HkikwNrKNzeD"
      }
    },
    {
      "cell_type": "code",
      "execution_count": 1,
      "metadata": {
        "colab": {
          "base_uri": "https://localhost:8080/"
        },
        "id": "anfl_eMVNzeD",
        "outputId": "ae5d1c39-da79-4a99-daa6-8c9bf0c766d2"
      },
      "outputs": [
        {
          "output_type": "stream",
          "name": "stdout",
          "text": [
            "\u001b[?25l   \u001b[90m━━━━━━━━━━━━━━━━━━━━━━━━━━━━━━━━━━━━━━━━\u001b[0m \u001b[32m0.0/2.0 MB\u001b[0m \u001b[31m?\u001b[0m eta \u001b[36m-:--:--\u001b[0m\r\u001b[2K   \u001b[91m━━━━━━━━━━━━━━━━━━━━\u001b[0m\u001b[90m╺\u001b[0m\u001b[90m━━━━━━━━━━━━━━━━━━━\u001b[0m \u001b[32m1.0/2.0 MB\u001b[0m \u001b[31m30.9 MB/s\u001b[0m eta \u001b[36m0:00:01\u001b[0m\r\u001b[2K   \u001b[90m━━━━━━━━━━━━━━━━━━━━━━━━━━━━━━━━━━━━━━━━\u001b[0m \u001b[32m2.0/2.0 MB\u001b[0m \u001b[31m33.7 MB/s\u001b[0m eta \u001b[36m0:00:00\u001b[0m\n",
            "\u001b[?25h\u001b[?25l   \u001b[90m━━━━━━━━━━━━━━━━━━━━━━━━━━━━━━━━━━━━━━━━\u001b[0m \u001b[32m0.0/670.8 kB\u001b[0m \u001b[31m?\u001b[0m eta \u001b[36m-:--:--\u001b[0m\r\u001b[2K   \u001b[90m━━━━━━━━━━━━━━━━━━━━━━━━━━━━━━━━━━━━━━━━\u001b[0m \u001b[32m670.8/670.8 kB\u001b[0m \u001b[31m42.2 MB/s\u001b[0m eta \u001b[36m0:00:00\u001b[0m\n",
            "\u001b[?25h\u001b[?25l   \u001b[90m━━━━━━━━━━━━━━━━━━━━━━━━━━━━━━━━━━━━━━━━\u001b[0m \u001b[32m0.0/73.5 kB\u001b[0m \u001b[31m?\u001b[0m eta \u001b[36m-:--:--\u001b[0m\r\u001b[2K   \u001b[90m━━━━━━━━━━━━━━━━━━━━━━━━━━━━━━━━━━━━━━━━\u001b[0m \u001b[32m73.5/73.5 kB\u001b[0m \u001b[31m7.4 MB/s\u001b[0m eta \u001b[36m0:00:00\u001b[0m\n",
            "\u001b[2K   \u001b[90m━━━━━━━━━━━━━━━━━━━━━━━━━━━━━━━━━━━━━━━━\u001b[0m \u001b[32m430.5/430.5 kB\u001b[0m \u001b[31m32.7 MB/s\u001b[0m eta \u001b[36m0:00:00\u001b[0m\n",
            "\u001b[2K   \u001b[90m━━━━━━━━━━━━━━━━━━━━━━━━━━━━━━━━━━━━━━━━\u001b[0m \u001b[32m8.0/8.0 MB\u001b[0m \u001b[31m31.1 MB/s\u001b[0m eta \u001b[36m0:00:00\u001b[0m\n",
            "\u001b[2K   \u001b[90m━━━━━━━━━━━━━━━━━━━━━━━━━━━━━━━━━━━━━━━━\u001b[0m \u001b[32m31.8/31.8 MB\u001b[0m \u001b[31m23.5 MB/s\u001b[0m eta \u001b[36m0:00:00\u001b[0m\n",
            "\u001b[2K   \u001b[90m━━━━━━━━━━━━━━━━━━━━━━━━━━━━━━━━━━━━━━━━\u001b[0m \u001b[32m2.2/2.2 MB\u001b[0m \u001b[31m72.7 MB/s\u001b[0m eta \u001b[36m0:00:00\u001b[0m\n",
            "\u001b[2K   \u001b[90m━━━━━━━━━━━━━━━━━━━━━━━━━━━━━━━━━━━━━━━━\u001b[0m \u001b[32m49.5/49.5 kB\u001b[0m \u001b[31m4.1 MB/s\u001b[0m eta \u001b[36m0:00:00\u001b[0m\n",
            "\u001b[2K   \u001b[90m━━━━━━━━━━━━━━━━━━━━━━━━━━━━━━━━━━━━━━━━\u001b[0m \u001b[32m2.8/2.8 MB\u001b[0m \u001b[31m53.8 MB/s\u001b[0m eta \u001b[36m0:00:00\u001b[0m\n",
            "\u001b[?25h"
          ]
        }
      ],
      "source": [
        "# Gerekli kütüphaneleri yükleyelim (Colab hücresine)\n",
        "!pip install cirq qiskit qutip numpy matplotlib --quiet"
      ]
    },
    {
      "cell_type": "markdown",
      "source": [
        "Cirq ile örnekler"
      ],
      "metadata": {
        "id": "T6NQA_okg0In"
      }
    },
    {
      "cell_type": "code",
      "source": [
        "# cirq_examples.py\n",
        "# Gereksinimler: pip install cirq numpy\n",
        "import numpy as np\n",
        "import cirq\n",
        "\n",
        "# Pauli matrisleri\n",
        "I = np.array([[1,0],[0,1]], dtype=complex)\n",
        "X = np.array([[0,1],[1,0]], dtype=complex)\n",
        "Y = np.array([[0,-1j],[1j,0]], dtype=complex)\n",
        "Z = np.array([[1,0],[0,-1]], dtype=complex)\n",
        "paulis = [I, X, Y, Z]\n",
        "\n",
        "def pauli_coeffs(rho):\n",
        "    \"\"\"Tek qubit için c_i = Tr(rho * sigma_i). Döndürür: [c0,c1,c2,c3]\"\"\"\n",
        "    return [np.trace(rho @ P).real for P in paulis]\n",
        "\n",
        "def reconstruct_from_paulis(coeffs):\n",
        "    \"\"\"rho = 1/2 * sum_i c_i * sigma_i\"\"\"\n",
        "    rho = sum(c * P for c, P in zip(coeffs, paulis)) / 2.0\n",
        "    return rho\n",
        "\n",
        "# --------- Örnek 1: tek qubit rho = 3/4 |0><0| + 1/4 |1><1| ----------\n",
        "rho_single = 0.75 * np.array([[1,0],[0,0]], dtype=complex) + 0.25 * np.array([[0,0],[0,1]], dtype=complex)\n",
        "print(\"rho single:\\n\", rho_single)\n",
        "c = pauli_coeffs(rho_single)\n",
        "print(\"Pauli katsayıları c0..c3:\", c)\n",
        "rho_recon = reconstruct_from_paulis(c)\n",
        "print(\"Yeniden oluşturulan rho (Pauli gösterimiyle):\\n\", np.round(rho_recon, 6))\n",
        "\n",
        "# --------- Örnek 2: H⊗H |00> durumunun Pauli katsayıları ----------\n",
        "# Oluştur H|0> ⊗ H|0>\n",
        "H = 1/np.sqrt(2) * np.array([[1,1],[1,-1]], dtype=complex)\n",
        "zero = np.array([1,0], dtype=complex)\n",
        "psi = np.kron(H @ zero, H @ zero)          # state vector\n",
        "rho2 = np.outer(psi, np.conjugate(psi))    # density matrix 4x4\n",
        "\n",
        "# Pauli tensör ürünleri c_{ij} = Tr(rho * sigma_i ⊗ sigma_j)\n",
        "def two_qubit_pauli_coeffs(rho):\n",
        "    coeffs = np.zeros((4,4), dtype=float)\n",
        "    for i, P1 in enumerate(paulis):\n",
        "        for j, P2 in enumerate(paulis):\n",
        "            coeffs[i,j] = np.trace(rho @ np.kron(P1, P2)).real\n",
        "    return coeffs\n",
        "\n",
        "c2 = two_qubit_pauli_coeffs(rho2)\n",
        "print(\"\\nİki qubit Pauli katsayı matrisi c_{ij}:\\n\", np.round(c2,4))\n",
        "# kontrol: |c11|+|c22|+|c33|\n",
        "sum_c = abs(c2[1,1]) + abs(c2[2,2]) + abs(c2[3,3])\n",
        "print(\" |c11|+|c22|+|c33| =\", sum_c, \" -> ayrılabilirlik kriteri:\", \"Ayrılabilir\" if sum_c <= 1 else \"Dolaşık\")\n",
        "\n",
        "# --------- Örnek 3: Bell state B00 Schmidt ayrıştırma ----------\n",
        "bell = 1/np.sqrt(2) * (np.kron([1,0],[1,0]) + np.kron([0,1],[0,1]))\n",
        "rho_bell = np.outer(bell, np.conjugate(bell))\n",
        "\n",
        "# kısmi iz al ve özdeğerleri hesapla (rho_A)\n",
        "def partial_trace_A(rho, dimA=2, dimB=2):\n",
        "    # genel 2x2 sistem için hızlı kısmi iz\n",
        "    rhoA = np.zeros((dimA,dimA), dtype=complex)\n",
        "    for i in range(dimB):\n",
        "        # select block i,i of size dimA\n",
        "        idx = slice(i*dimA, (i+1)*dimA)\n",
        "        rhoA += rho[idx, idx]\n",
        "    return rhoA\n",
        "\n",
        "rhoA_bell = partial_trace_A(rho_bell)\n",
        "eigvals = np.linalg.eigvals(rhoA_bell)\n",
        "print(\"\\nBell state rho_A özdeğerleri (Schmidt kareleri):\", np.round(np.real(eigvals),6))\n",
        "print(\"Schmidt sayısı (pozitif özdeğerler):\", sum(1 for ev in eigvals if np.real(ev) > 1e-9))\n"
      ],
      "metadata": {
        "colab": {
          "base_uri": "https://localhost:8080/"
        },
        "id": "bel3UGCsg0OW",
        "outputId": "e5a69a3b-4612-4d2a-fb13-935598f03168"
      },
      "execution_count": 2,
      "outputs": [
        {
          "output_type": "stream",
          "name": "stdout",
          "text": [
            "rho single:\n",
            " [[0.75+0.j 0.  +0.j]\n",
            " [0.  +0.j 0.25+0.j]]\n",
            "Pauli katsayıları c0..c3: [np.float64(1.0), np.float64(0.0), np.float64(0.0), np.float64(0.5)]\n",
            "Yeniden oluşturulan rho (Pauli gösterimiyle):\n",
            " [[0.75+0.j 0.  +0.j]\n",
            " [0.  +0.j 0.25+0.j]]\n",
            "\n",
            "İki qubit Pauli katsayı matrisi c_{ij}:\n",
            " [[1. 1. 0. 0.]\n",
            " [1. 1. 0. 0.]\n",
            " [0. 0. 0. 0.]\n",
            " [0. 0. 0. 0.]]\n",
            " |c11|+|c22|+|c33| = 0.9999999999999996  -> ayrılabilirlik kriteri: Ayrılabilir\n",
            "\n",
            "Bell state rho_A özdeğerleri (Schmidt kareleri): [0.5 0.5]\n",
            "Schmidt sayısı (pozitif özdeğerler): 2\n"
          ]
        }
      ]
    },
    {
      "cell_type": "markdown",
      "source": [
        "Qiskit ile örnekler"
      ],
      "metadata": {
        "id": "Wvq-YJ_5g0S-"
      }
    },
    {
      "cell_type": "code",
      "source": [
        "# qiskit_examples.py\n",
        "# Gereksinimler: pip install qiskit numpy\n",
        "import numpy as np\n",
        "from qiskit import QuantumCircuit\n",
        "from qiskit.quantum_info import Statevector, DensityMatrix, partial_trace\n",
        "# Pauli matrisleri (NumPy)\n",
        "I = np.array([[1,0],[0,1]], dtype=complex)\n",
        "X = np.array([[0,1],[1,0]], dtype=complex)\n",
        "Y = np.array([[0,-1j],[1j,0]], dtype=complex)\n",
        "Z = np.array([[1,0],[0,-1]], dtype=complex)\n",
        "paulis = [I,X,Y,Z]\n",
        "\n",
        "def pauli_coeffs_from_rho(rho):\n",
        "    return [np.trace(rho @ P).real for P in paulis]\n",
        "\n",
        "# ---------- Tek qubit örneği ----------\n",
        "rho_single = 0.75 * np.array([[1,0],[0,0]], dtype=complex) + 0.25 * np.array([[0,0],[0,1]], dtype=complex)\n",
        "print(\"rho_single:\\n\", rho_single)\n",
        "c = pauli_coeffs_from_rho(rho_single)\n",
        "print(\"Pauli c0..c3:\", c)\n",
        "rho_recon = sum(ci * P for ci,P in zip(c, paulis)) / 2.0\n",
        "print(\"Reconstructed rho:\\n\", np.round(rho_recon,6))\n",
        "\n",
        "# ---------- H⊗H |00> ----------\n",
        "# Qiskit Statevector ile oluştur\n",
        "qc = QuantumCircuit(2)\n",
        "# apply H on both qubits\n",
        "qc.h(0)\n",
        "qc.h(1)\n",
        "sv = Statevector.from_instruction(qc)\n",
        "rho2 = DensityMatrix(sv).data  # numpy array 4x4\n",
        "# compute c_{ij}\n",
        "c2 = np.zeros((4,4))\n",
        "for i,P1 in enumerate(paulis):\n",
        "    for j,P2 in enumerate(paulis):\n",
        "        c2[i,j] = np.trace(rho2 @ np.kron(P1,P2)).real\n",
        "print(\"\\nTwo-qubit c_{ij} (Qiskit):\\n\", np.round(c2,4))\n",
        "sum_c = abs(c2[1,1]) + abs(c2[2,2]) + abs(c2[3,3])\n",
        "print(\" |c11|+|c22|+|c33| =\", sum_c, \" ->\", \"Ayrılabilir\" if sum_c <= 1 else \"Dolaşık\")\n",
        "\n",
        "# ---------- Bell B00 Schmidt ----------\n",
        "# Build Bell state via circuit\n",
        "qc2 = QuantumCircuit(2)\n",
        "qc2.h(0)\n",
        "qc2.cx(0,1)\n",
        "sv_bell = Statevector.from_instruction(qc2)\n",
        "rho_bell = DensityMatrix(sv_bell).data\n",
        "# partial trace (qiskit function)\n",
        "rhoA = partial_trace(DensityMatrix(rho_bell), [1]).data   # trace out qubit 1 (B), left A\n",
        "eigvals = np.linalg.eigvals(rhoA)\n",
        "print(\"\\nBell rho_A özdeğerleri (Qiskit):\", np.round(np.real(eigvals),6))\n",
        "print(\"Schmidt sayısı:\", sum(1 for ev in eigvals if np.real(ev) > 1e-9))\n"
      ],
      "metadata": {
        "colab": {
          "base_uri": "https://localhost:8080/"
        },
        "id": "S_UkOITbg0X7",
        "outputId": "b45f7684-5f26-4f48-d18e-b03a711b61e4"
      },
      "execution_count": 3,
      "outputs": [
        {
          "output_type": "stream",
          "name": "stdout",
          "text": [
            "rho_single:\n",
            " [[0.75+0.j 0.  +0.j]\n",
            " [0.  +0.j 0.25+0.j]]\n",
            "Pauli c0..c3: [np.float64(1.0), np.float64(0.0), np.float64(0.0), np.float64(0.5)]\n",
            "Reconstructed rho:\n",
            " [[0.75+0.j 0.  +0.j]\n",
            " [0.  +0.j 0.25+0.j]]\n",
            "\n",
            "Two-qubit c_{ij} (Qiskit):\n",
            " [[1. 1. 0. 0.]\n",
            " [1. 1. 0. 0.]\n",
            " [0. 0. 0. 0.]\n",
            " [0. 0. 0. 0.]]\n",
            " |c11|+|c22|+|c33| = 0.9999999999999996  -> Ayrılabilir\n",
            "\n",
            "Bell rho_A özdeğerleri (Qiskit): [0.5 0.5]\n",
            "Schmidt sayısı: 2\n"
          ]
        }
      ]
    },
    {
      "cell_type": "markdown",
      "source": [
        "QuTiP ile örnekler"
      ],
      "metadata": {
        "id": "CH6CqtnXg0dQ"
      }
    },
    {
      "cell_type": "code",
      "source": [
        "# qutip_examples.py\n",
        "# Gereksinimler: pip install qutip numpy\n",
        "import numpy as np\n",
        "import qutip as qt\n",
        "\n",
        "# Pauli operatörleri QuTiP ile\n",
        "I = qt.qeye(2)\n",
        "X = qt.sigmax()\n",
        "Y = qt.sigmay()\n",
        "Z = qt.sigmaz()\n",
        "paulis_q = [I, X, Y, Z]\n",
        "\n",
        "def pauli_coeffs_qutip(rho_qobj):\n",
        "    coeffs = []\n",
        "    for P in paulis_q:\n",
        "        val = (rho_qobj * P).tr()\n",
        "        coeffs.append(np.real(val))\n",
        "    return coeffs\n",
        "\n",
        "# ---------- Tek qubit rho ----------\n",
        "rho_single_q = 0.75 * qt.ket2dm(qt.basis(2,0)) + 0.25 * qt.ket2dm(qt.basis(2,1))\n",
        "print(\"rho_single (QuTiP):\\n\", rho_single_q)\n",
        "c = pauli_coeffs_qutip(rho_single_q)\n",
        "print(\"Pauli c0..c3 (QuTiP):\", c)\n",
        "# reconstruct\n",
        "rho_recon_q = sum(ci * P for ci,P in zip(c, paulis_q)) * 0.5\n",
        "print(\"Reconstructed rho (QuTiP):\\n\", rho_recon_q)\n",
        "\n",
        "# ---------- H⊗H |00> ----------\n",
        "H = (1/np.sqrt(2)) * qt.Qobj(np.array([[1,1],[1,-1]], dtype=complex))\n",
        "zero = qt.basis(2,0)\n",
        "psi = qt.tensor(H * zero, H * zero)  # state vector\n",
        "rho2 = psi.proj()\n",
        "# compute c_{ij}\n",
        "c2 = np.zeros((4,4))\n",
        "for i,P1 in enumerate(paulis_q):\n",
        "    for j,P2 in enumerate(paulis_q):\n",
        "        M = qt.tensor(P1, P2)\n",
        "        c2[i,j] = np.real((rho2 * M).tr())\n",
        "print(\"\\nTwo-qubit c_{ij} (QuTiP):\\n\", np.round(c2,4))\n",
        "sum_c = abs(c2[1,1]) + abs(c2[2,2]) + abs(c2[3,3])\n",
        "print(\" |c11|+|c22|+|c33| =\", sum_c, \" ->\", \"Ayrılabilir\" if sum_c <= 1 else \"Dolaşık\")\n",
        "\n",
        "# ---------- Bell B00 Schmidt (QuTiP partial trace) ----------\n",
        "bell = (qt.basis(2,0) * qt.basis(2,0).dag() + qt.basis(2,1) * qt.basis(2,1).dag()) # yanlış kullanım; yapalım düzgün\n",
        "# do Bell properly:\n",
        "bell_state = (qt.tensor(qt.basis(2,0), qt.basis(2,0)) + qt.tensor(qt.basis(2,1), qt.basis(2,1))).unit()\n",
        "rho_bell = bell_state.proj()\n",
        "rhoA = rho_bell.ptrace(0)   # partial trace over subsystem 1 (keep subsystem 0)\n",
        "eigvals = np.real(rhoA.eigenenergies())\n",
        "print(\"\\nBell rho_A özdeğerleri (QuTiP):\", np.round(eigvals,6))\n",
        "print(\"Schmidt sayısı:\", sum(1 for ev in eigvals if ev > 1e-9))\n"
      ],
      "metadata": {
        "colab": {
          "base_uri": "https://localhost:8080/"
        },
        "id": "JwFJgSvIg0if",
        "outputId": "07ed3dee-5da1-472c-fc0b-ff875fe74767"
      },
      "execution_count": 4,
      "outputs": [
        {
          "output_type": "stream",
          "name": "stdout",
          "text": [
            "rho_single (QuTiP):\n",
            " Quantum object: dims=[[2], [2]], shape=(2, 2), type='oper', dtype=CSR, isherm=True\n",
            "Qobj data =\n",
            "[[0.75 0.  ]\n",
            " [0.   0.25]]\n",
            "Pauli c0..c3 (QuTiP): [1.0, 0.0, 0.0, 0.5]\n",
            "Reconstructed rho (QuTiP):\n",
            " Quantum object: dims=[[2], [2]], shape=(2, 2), type='oper', dtype=CSR, isherm=True\n",
            "Qobj data =\n",
            "[[0.75 0.  ]\n",
            " [0.   0.25]]\n",
            "\n",
            "Two-qubit c_{ij} (QuTiP):\n",
            " [[1. 1. 0. 0.]\n",
            " [1. 1. 0. 0.]\n",
            " [0. 0. 0. 0.]\n",
            " [0. 0. 0. 0.]]\n",
            " |c11|+|c22|+|c33| = 0.9999999999999996  -> Ayrılabilir\n",
            "\n",
            "Bell rho_A özdeğerleri (QuTiP): [0.5 0.5]\n",
            "Schmidt sayısı: 2\n"
          ]
        }
      ]
    },
    {
      "cell_type": "code",
      "execution_count": null,
      "metadata": {
        "id": "m3wyP-I-SimA"
      },
      "outputs": [],
      "source": []
    }
  ]
}