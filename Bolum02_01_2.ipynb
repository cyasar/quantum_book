{
  "nbformat": 4,
  "nbformat_minor": 0,
  "metadata": {
    "colab": {
      "provenance": []
    },
    "kernelspec": {
      "name": "python3",
      "display_name": "Python 3"
    },
    "language_info": {
      "name": "python"
    }
  },
  "cells": [
    {
      "cell_type": "markdown",
      "source": [
        "Ön hazırlık (kütüphane kurulumu)\n"
      ],
      "metadata": {
        "id": "tKq-NQEcHYvh"
      }
    },
    {
      "cell_type": "code",
      "source": [
        "!pip install cirq --quiet"
      ],
      "metadata": {
        "id": "81s60Jp7JQ4R"
      },
      "execution_count": 6,
      "outputs": []
    },
    {
      "cell_type": "code",
      "source": [
        "!pip install qutip --quiet\n"
      ],
      "metadata": {
        "id": "aSDZbkzhJP0C"
      },
      "execution_count": 4,
      "outputs": []
    },
    {
      "cell_type": "code",
      "source": [
        "!pip install qiskit --quiet\n"
      ],
      "metadata": {
        "colab": {
          "base_uri": "https://localhost:8080/"
        },
        "id": "dtel198jKaWp",
        "outputId": "39b96a74-920d-4cea-8953-43ca7f933d1f"
      },
      "execution_count": 5,
      "outputs": [
        {
          "output_type": "stream",
          "name": "stdout",
          "text": [
            "\u001b[?25l   \u001b[90m━━━━━━━━━━━━━━━━━━━━━━━━━━━━━━━━━━━━━━━━\u001b[0m \u001b[32m0.0/8.0 MB\u001b[0m \u001b[31m?\u001b[0m eta \u001b[36m-:--:--\u001b[0m\r\u001b[2K   \u001b[91m━━━━━\u001b[0m\u001b[91m╸\u001b[0m\u001b[90m━━━━━━━━━━━━━━━━━━━━━━━━━━━━━━━━━━\u001b[0m \u001b[32m1.1/8.0 MB\u001b[0m \u001b[31m34.0 MB/s\u001b[0m eta \u001b[36m0:00:01\u001b[0m\r\u001b[2K   \u001b[91m━━━━━━━━━━━━━━━━━━━━━━━━━━━━━━━━━━━━━━\u001b[0m\u001b[91m╸\u001b[0m\u001b[90m━\u001b[0m \u001b[32m7.7/8.0 MB\u001b[0m \u001b[31m112.1 MB/s\u001b[0m eta \u001b[36m0:00:01\u001b[0m\r\u001b[2K   \u001b[91m━━━━━━━━━━━━━━━━━━━━━━━━━━━━━━━━━━━━━━━\u001b[0m\u001b[91m╸\u001b[0m \u001b[32m8.0/8.0 MB\u001b[0m \u001b[31m110.2 MB/s\u001b[0m eta \u001b[36m0:00:01\u001b[0m\r\u001b[2K   \u001b[90m━━━━━━━━━━━━━━━━━━━━━━━━━━━━━━━━━━━━━━━━\u001b[0m \u001b[32m8.0/8.0 MB\u001b[0m \u001b[31m69.3 MB/s\u001b[0m eta \u001b[36m0:00:00\u001b[0m\n",
            "\u001b[?25h\u001b[?25l   \u001b[90m━━━━━━━━━━━━━━━━━━━━━━━━━━━━━━━━━━━━━━━━\u001b[0m \u001b[32m0.0/2.2 MB\u001b[0m \u001b[31m?\u001b[0m eta \u001b[36m-:--:--\u001b[0m\r\u001b[2K   \u001b[90m━━━━━━━━━━━━━━━━━━━━━━━━━━━━━━━━━━━━━━━━\u001b[0m \u001b[32m2.2/2.2 MB\u001b[0m \u001b[31m76.5 MB/s\u001b[0m eta \u001b[36m0:00:00\u001b[0m\n",
            "\u001b[?25h\u001b[?25l   \u001b[90m━━━━━━━━━━━━━━━━━━━━━━━━━━━━━━━━━━━━━━━━\u001b[0m \u001b[32m0.0/49.5 kB\u001b[0m \u001b[31m?\u001b[0m eta \u001b[36m-:--:--\u001b[0m\r\u001b[2K   \u001b[90m━━━━━━━━━━━━━━━━━━━━━━━━━━━━━━━━━━━━━━━━\u001b[0m \u001b[32m49.5/49.5 kB\u001b[0m \u001b[31m3.2 MB/s\u001b[0m eta \u001b[36m0:00:00\u001b[0m\n",
            "\u001b[?25h"
          ]
        }
      ]
    },
    {
      "cell_type": "markdown",
      "source": [
        "1. Cirq Örneği\n",
        "\n",
        "Cirq’te kuantum kapıları zaten kompleks matrislerle ifade edilir. Mesela Pauli-Y kapısının matrisi:"
      ],
      "metadata": {
        "id": "9tuptkmFJDMe"
      }
    },
    {
      "cell_type": "markdown",
      "source": [
        "![image.png](data:image/png;base64,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)"
      ],
      "metadata": {
        "id": "YFOKEVwgIrp6"
      }
    },
    {
      "cell_type": "code",
      "execution_count": 7,
      "metadata": {
        "colab": {
          "base_uri": "https://localhost:8080/"
        },
        "id": "bd_1M8rOHWff",
        "outputId": "542994d3-f754-476b-8ff2-9206999ecbbf"
      },
      "outputs": [
        {
          "output_type": "stream",
          "name": "stdout",
          "text": [
            "Pauli-Y kapısının matrisi:\n",
            "[[0.+0.j 0.-1.j]\n",
            " [0.+1.j 0.+0.j]]\n",
            "z1 + z2 = (3-1j)\n",
            "z1 * z2 = (14-5j)\n"
          ]
        }
      ],
      "source": [
        "import cirq\n",
        "import numpy as np\n",
        "\n",
        "# Tek qubit seçelim\n",
        "qubit = cirq.LineQubit(0)\n",
        "\n",
        "# Pauli-Y kapısını al\n",
        "Y_gate = cirq.Y\n",
        "\n",
        "# Matris gösterimi\n",
        "print(\"Pauli-Y kapısının matrisi:\")\n",
        "print(cirq.unitary(Y_gate))\n",
        "\n",
        "# Bir kompleks sayı işlemi örneği\n",
        "z1 = 2 + 3j\n",
        "z2 = 1 - 4j\n",
        "print(\"z1 + z2 =\", z1 + z2)\n",
        "print(\"z1 * z2 =\", z1 * z2)\n"
      ]
    },
    {
      "cell_type": "markdown",
      "source": [
        "2. QuTiP Örneği\n",
        "\n",
        "QuTiP’te kuantum operatörleri ve vektörleri de kompleks sayı uzayında tanımlanır."
      ],
      "metadata": {
        "id": "ksDTbiUSKrah"
      }
    },
    {
      "cell_type": "code",
      "source": [
        "import qutip as qt\n",
        "\n",
        "# |0> ve |1> temel vektörleri\n",
        "ket0 = qt.basis(2, 0)\n",
        "ket1 = qt.basis(2, 1)\n",
        "\n",
        "# Süperpozisyon oluşturma (kompleks katsayılarla)\n",
        "psi = (2 + 3j) * ket0 + (1 - 4j) * ket1\n",
        "\n",
        "print(\"Durum vektörü (psi):\")\n",
        "print(psi)\n",
        "\n",
        "# Norm ve iç çarpım\n",
        "print(\"Norm:\", psi.norm())\n",
        "print(\"İç çarpım <psi|psi>:\", (psi.dag() * psi)[0,0])\n"
      ],
      "metadata": {
        "colab": {
          "base_uri": "https://localhost:8080/",
          "height": 280
        },
        "id": "DcTodVcTKrvw",
        "outputId": "cb79448d-193a-491c-fc27-7fe3c783d68d"
      },
      "execution_count": 8,
      "outputs": [
        {
          "output_type": "stream",
          "name": "stdout",
          "text": [
            "Durum vektörü (psi):\n",
            "Quantum object: dims=[[2], [1]], shape=(2, 1), type='ket', dtype=Dense\n",
            "Qobj data =\n",
            "[[2.+3.j]\n",
            " [1.-4.j]]\n",
            "Norm: 5.477225575051661\n"
          ]
        },
        {
          "output_type": "error",
          "ename": "TypeError",
          "evalue": "'complex' object is not subscriptable",
          "traceback": [
            "\u001b[0;31m---------------------------------------------------------------------------\u001b[0m",
            "\u001b[0;31mTypeError\u001b[0m                                 Traceback (most recent call last)",
            "\u001b[0;32m/tmp/ipython-input-2789325397.py\u001b[0m in \u001b[0;36m<cell line: 0>\u001b[0;34m()\u001b[0m\n\u001b[1;32m     13\u001b[0m \u001b[0;31m# Norm ve iç çarpım\u001b[0m\u001b[0;34m\u001b[0m\u001b[0;34m\u001b[0m\u001b[0m\n\u001b[1;32m     14\u001b[0m \u001b[0mprint\u001b[0m\u001b[0;34m(\u001b[0m\u001b[0;34m\"Norm:\"\u001b[0m\u001b[0;34m,\u001b[0m \u001b[0mpsi\u001b[0m\u001b[0;34m.\u001b[0m\u001b[0mnorm\u001b[0m\u001b[0;34m(\u001b[0m\u001b[0;34m)\u001b[0m\u001b[0;34m)\u001b[0m\u001b[0;34m\u001b[0m\u001b[0;34m\u001b[0m\u001b[0m\n\u001b[0;32m---> 15\u001b[0;31m \u001b[0mprint\u001b[0m\u001b[0;34m(\u001b[0m\u001b[0;34m\"İç çarpım <psi|psi>:\"\u001b[0m\u001b[0;34m,\u001b[0m \u001b[0;34m(\u001b[0m\u001b[0mpsi\u001b[0m\u001b[0;34m.\u001b[0m\u001b[0mdag\u001b[0m\u001b[0;34m(\u001b[0m\u001b[0;34m)\u001b[0m \u001b[0;34m*\u001b[0m \u001b[0mpsi\u001b[0m\u001b[0;34m)\u001b[0m\u001b[0;34m[\u001b[0m\u001b[0;36m0\u001b[0m\u001b[0;34m,\u001b[0m\u001b[0;36m0\u001b[0m\u001b[0;34m]\u001b[0m\u001b[0;34m)\u001b[0m\u001b[0;34m\u001b[0m\u001b[0;34m\u001b[0m\u001b[0m\n\u001b[0m",
            "\u001b[0;31mTypeError\u001b[0m: 'complex' object is not subscriptable"
          ]
        }
      ]
    },
    {
      "cell_type": "markdown",
      "source": [
        "3. Qiskit Örneği\n",
        "\n",
        "Qiskit’te de unitary matrisler kompleks sayılar içerir."
      ],
      "metadata": {
        "id": "1g6z0TZOK042"
      }
    },
    {
      "cell_type": "code",
      "source": [
        "from qiskit import QuantumCircuit\n",
        "from qiskit.quantum_info import Operator\n",
        "import numpy as np\n",
        "\n",
        "# 1 qubitlik devre\n",
        "qc = QuantumCircuit(1)\n",
        "qc.h(0)  # Hadamard uygula\n",
        "\n",
        "# Operatörünü yazdıralım\n",
        "op = Operator(qc)\n",
        "print(\"Hadamard kapısının matrisi:\")\n",
        "print(op.data)\n",
        "\n",
        "# Kompleks sayı işlemleri\n",
        "z1 = 2 + 3j\n",
        "z2 = 1 - 4j\n",
        "print(\"z1 + z2 =\", z1 + z2)\n",
        "print(\"z1 * z2 =\", z1 * z2)\n"
      ],
      "metadata": {
        "colab": {
          "base_uri": "https://localhost:8080/"
        },
        "id": "Q6PVt8AVKsGg",
        "outputId": "4290ce50-45c2-4c88-e675-74d32c87f746"
      },
      "execution_count": 9,
      "outputs": [
        {
          "output_type": "stream",
          "name": "stdout",
          "text": [
            "Hadamard kapısının matrisi:\n",
            "[[ 0.70710678+0.j  0.70710678+0.j]\n",
            " [ 0.70710678+0.j -0.70710678+0.j]]\n",
            "z1 + z2 = (3-1j)\n",
            "z1 * z2 = (14-5j)\n"
          ]
        }
      ]
    },
    {
      "cell_type": "markdown",
      "source": [
        "Bu üç örnek, sizin yazdığınız matematiksel tanımı kuantum kütüphanelerinde doğrudan nasıl görüyoruz sorusunun cevabı. Hepsi kompleks sayı cismi (\n",
        "𝐶\n",
        "C) üzerinde çalışıyor."
      ],
      "metadata": {
        "id": "KqJtmpnBLMcB"
      }
    },
    {
      "cell_type": "code",
      "source": [],
      "metadata": {
        "id": "8_vlsSsiKsI3"
      },
      "execution_count": null,
      "outputs": []
    },
    {
      "cell_type": "code",
      "source": [],
      "metadata": {
        "id": "EPQOhmVbKsLH"
      },
      "execution_count": null,
      "outputs": []
    },
    {
      "cell_type": "code",
      "source": [],
      "metadata": {
        "id": "X7FJjRXIKsNL"
      },
      "execution_count": null,
      "outputs": []
    },
    {
      "cell_type": "code",
      "source": [],
      "metadata": {
        "id": "HBDbJmXoKsPd"
      },
      "execution_count": null,
      "outputs": []
    }
  ]
}