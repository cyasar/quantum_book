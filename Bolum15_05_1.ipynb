{
  "nbformat": 4,
  "nbformat_minor": 0,
  "metadata": {
    "colab": {
      "provenance": []
    },
    "kernelspec": {
      "name": "python3",
      "display_name": "Python 3"
    },
    "language_info": {
      "name": "python"
    }
  },
  "cells": [
    {
      "cell_type": "markdown",
      "metadata": {
        "id": "HkikwNrKNzeD"
      },
      "source": [
        "Ön hazırlık (kütüphane kurulumu)"
      ]
    },
    {
      "cell_type": "code",
      "execution_count": 1,
      "metadata": {
        "id": "anfl_eMVNzeD",
        "colab": {
          "base_uri": "https://localhost:8080/"
        },
        "outputId": "b073fc4f-7613-4a7d-e564-b99020e077d1"
      },
      "outputs": [
        {
          "output_type": "stream",
          "name": "stdout",
          "text": [
            "\u001b[?25l   \u001b[90m━━━━━━━━━━━━━━━━━━━━━━━━━━━━━━━━━━━━━━━━\u001b[0m \u001b[32m0.0/2.0 MB\u001b[0m \u001b[31m?\u001b[0m eta \u001b[36m-:--:--\u001b[0m\r\u001b[2K   \u001b[91m━━━━━━━━━━\u001b[0m\u001b[91m╸\u001b[0m\u001b[90m━━━━━━━━━━━━━━━━━━━━━━━━━━━━━\u001b[0m \u001b[32m0.6/2.0 MB\u001b[0m \u001b[31m17.0 MB/s\u001b[0m eta \u001b[36m0:00:01\u001b[0m\r\u001b[2K   \u001b[91m━━━━━━━━━━━━━━━━━━━━━━━━━━━━━━━━━━━━━━━\u001b[0m\u001b[91m╸\u001b[0m \u001b[32m2.0/2.0 MB\u001b[0m \u001b[31m39.4 MB/s\u001b[0m eta \u001b[36m0:00:01\u001b[0m\r\u001b[2K   \u001b[90m━━━━━━━━━━━━━━━━━━━━━━━━━━━━━━━━━━━━━━━━\u001b[0m \u001b[32m2.0/2.0 MB\u001b[0m \u001b[31m27.9 MB/s\u001b[0m eta \u001b[36m0:00:00\u001b[0m\n",
            "\u001b[?25h\u001b[?25l   \u001b[90m━━━━━━━━━━━━━━━━━━━━━━━━━━━━━━━━━━━━━━━━\u001b[0m \u001b[32m0.0/670.8 kB\u001b[0m \u001b[31m?\u001b[0m eta \u001b[36m-:--:--\u001b[0m\r\u001b[2K   \u001b[90m━━━━━━━━━━━━━━━━━━━━━━━━━━━━━━━━━━━━━━━━\u001b[0m \u001b[32m670.8/670.8 kB\u001b[0m \u001b[31m39.6 MB/s\u001b[0m eta \u001b[36m0:00:00\u001b[0m\n",
            "\u001b[2K   \u001b[90m━━━━━━━━━━━━━━━━━━━━━━━━━━━━━━━━━━━━━━━━\u001b[0m \u001b[32m73.5/73.5 kB\u001b[0m \u001b[31m5.1 MB/s\u001b[0m eta \u001b[36m0:00:00\u001b[0m\n",
            "\u001b[2K   \u001b[90m━━━━━━━━━━━━━━━━━━━━━━━━━━━━━━━━━━━━━━━━\u001b[0m \u001b[32m430.5/430.5 kB\u001b[0m \u001b[31m27.0 MB/s\u001b[0m eta \u001b[36m0:00:00\u001b[0m\n",
            "\u001b[2K   \u001b[90m━━━━━━━━━━━━━━━━━━━━━━━━━━━━━━━━━━━━━━━━\u001b[0m \u001b[32m8.0/8.0 MB\u001b[0m \u001b[31m102.9 MB/s\u001b[0m eta \u001b[36m0:00:00\u001b[0m\n",
            "\u001b[2K   \u001b[90m━━━━━━━━━━━━━━━━━━━━━━━━━━━━━━━━━━━━━━━━\u001b[0m \u001b[32m31.8/31.8 MB\u001b[0m \u001b[31m27.8 MB/s\u001b[0m eta \u001b[36m0:00:00\u001b[0m\n",
            "\u001b[2K   \u001b[90m━━━━━━━━━━━━━━━━━━━━━━━━━━━━━━━━━━━━━━━━\u001b[0m \u001b[32m2.2/2.2 MB\u001b[0m \u001b[31m77.3 MB/s\u001b[0m eta \u001b[36m0:00:00\u001b[0m\n",
            "\u001b[2K   \u001b[90m━━━━━━━━━━━━━━━━━━━━━━━━━━━━━━━━━━━━━━━━\u001b[0m \u001b[32m49.5/49.5 kB\u001b[0m \u001b[31m3.2 MB/s\u001b[0m eta \u001b[36m0:00:00\u001b[0m\n",
            "\u001b[2K   \u001b[90m━━━━━━━━━━━━━━━━━━━━━━━━━━━━━━━━━━━━━━━━\u001b[0m \u001b[32m2.8/2.8 MB\u001b[0m \u001b[31m75.7 MB/s\u001b[0m eta \u001b[36m0:00:00\u001b[0m\n",
            "\u001b[?25h"
          ]
        }
      ],
      "source": [
        "# Gerekli kütüphaneleri yükleyelim (Colab hücresine)\n",
        "!pip install cirq qiskit qutip numpy matplotlib --quiet"
      ]
    },
    {
      "cell_type": "markdown",
      "source": [
        "LİNEER CEBİR VE MATRİS İŞLEMLERİ\n",
        "\n",
        "5.1. HARROW-HASSIDIM-LLOYD ALGORİTMASI (HHL)"
      ],
      "metadata": {
        "id": "PHjgGbDTQ0m3"
      }
    },
    {
      "cell_type": "markdown",
      "source": [
        "Qiskit — toy HHL (2×2, QPE via controlled-Unitary)\n",
        "\n",
        "Gereksinimler: qiskit>=0.25 (Aer simülatörü), numpy, scipy (expm)"
      ],
      "metadata": {
        "id": "-Wts3TLhQ0q-"
      }
    },
    {
      "cell_type": "code",
      "source": [
        "# qiskit_hhl_toy.py\n",
        "import numpy as np\n",
        "from scipy.linalg import expm, eig\n",
        "from qiskit import QuantumCircuit, Aer, transpile\n",
        "from qiskit.extensions import UnitaryGate\n",
        "from qiskit.circuit.library import QFT\n",
        "from qiskit.visualization import plot_histogram\n",
        "\n",
        "# --- Problem setup (toy A and |b>)\n",
        "A = np.array([[1.0, 0.0],\n",
        "              [0.0, 2.0]])\n",
        "# eigen-decomposition (diagonal already)\n",
        "eigvals, eigvecs = eig(A)\n",
        "print(\"eigvals:\", eigvals)\n",
        "\n",
        "# choose U = exp(2π i A / 4)\n",
        "U = expm(2j * np.pi * A / 4)\n",
        "\n",
        "# parameters\n",
        "n_count = 3  # number of counting (QPE) qubits\n",
        "n_sys = 1    # system qubits\n",
        "n_anc = 1    # ancilla for controlled rotation\n",
        "\n",
        "# Build circuit: [count register] [system qubit] [ancilla]\n",
        "qc = QuantumCircuit(n_count + n_sys + n_anc, n_count)\n",
        "\n",
        "# 1) Prepare |b> on system. Here |b>=|0>, so do nothing. If different, use initialize.\n",
        "# For demonstration, prepare |b> = |0>\n",
        "sys_index = n_count\n",
        "anc_index = n_count + n_sys\n",
        "\n",
        "# 2) Hadamard on counting qubits\n",
        "for q in range(n_count):\n",
        "    qc.h(q)\n",
        "\n",
        "# 3) QPE: apply controlled-U^{2^j} from counting qubit j to system qubit\n",
        "# build UnitaryGate from U\n",
        "# We need controlled-U^{2^j}, use UnitaryGate and .control()\n",
        "for j in range(n_count):\n",
        "    power = 2**j\n",
        "    Uj = np.linalg.matrix_power(U, power)\n",
        "    gate = UnitaryGate(Uj)\n",
        "    # make controlled and attach: control on qubit j, target sys_index\n",
        "    cgate = gate.control(1)  # 1 control\n",
        "    # cgate acts on [control, target]\n",
        "    qc.append(cgate, [j, sys_index])\n",
        "\n",
        "# 4) inverse QFT on counting register\n",
        "qc.append(QFT(num_qubits=n_count, do_swaps=True).inverse(), range(n_count))\n",
        "\n",
        "# 5) controlled rotation on ancilla conditioned on counting register states.\n",
        "# For our toy problem, after inverse QFT the counting register basis states approximately correspond to\n",
        "# |001> -> eigenvalue 1/4, |010> etc. We'll implement controlled rotations by enumerating\n",
        "# the 2^n_count basis: if basis corresponds to lambda_j we rotate ancilla by theta = 2*arcsin(C/lambda_j)\n",
        "# (for small C approx C/lambda). We use a multi-controlled single-qubit rotation by constructing\n",
        "# a simple implementation: decompose control by flipping states into a single control via X and mcx,\n",
        "# but for simplicity in this toy code we condition on measurement later (post-selection).\n",
        "#\n",
        "# Simpler educational approach: do NOT apply multi-controlled rotation in circuit; instead we will\n",
        "# extract counting register probabilities, infer eigenvalue and classically construct the final |x>.\n",
        "#\n",
        "qc.barrier()\n",
        "\n",
        "# measurement of counting register (we will simulate and read distribution)\n",
        "qc.measure(range(n_count), range(n_count))\n",
        "\n",
        "# Run\n",
        "backend = Aer.get_backend('aer_simulator')\n",
        "tqc = transpile(qc, backend)\n",
        "result = backend.run(tqc, shots=1024).result()\n",
        "counts = result.get_counts()\n",
        "print(\"Counting register counts:\", counts)\n",
        "\n",
        "# Interpretation (educational):\n",
        "# If we get measurement result close to 0.010 (binary) = decimal 2 => corresponds to phi=1/4 eigenvalue\n",
        "# or 0.100 (binary) = decimal 4 => corresponds to phi=1/2 eigenvalue.\n",
        "# After obtaining eigenvalue (or a sample), classically apply 1/λ factor to compute x = A^{-1} b.\n",
        "#\n",
        "# For this toy A and b=|0>, solution x is proportional to A^{-1}|b> = [1/1, 0] = |0> (so trivial)\n",
        "#\n",
        "# Display histogram (optional)\n",
        "try:\n",
        "    from matplotlib import pyplot as plt\n",
        "    plot_histogram(counts)\n",
        "    plt.show()\n",
        "except Exception:\n",
        "    pass\n"
      ],
      "metadata": {
        "colab": {
          "base_uri": "https://localhost:8080/",
          "height": 384
        },
        "id": "V3DoZ4gSQ0yO",
        "outputId": "acc09613-ea4a-4061-9092-b356880db027"
      },
      "execution_count": 3,
      "outputs": [
        {
          "output_type": "error",
          "ename": "ImportError",
          "evalue": "cannot import name 'Aer' from 'qiskit' (/usr/local/lib/python3.12/dist-packages/qiskit/__init__.py)",
          "traceback": [
            "\u001b[0;31m---------------------------------------------------------------------------\u001b[0m",
            "\u001b[0;31mImportError\u001b[0m                               Traceback (most recent call last)",
            "\u001b[0;32m/tmp/ipython-input-4179290865.py\u001b[0m in \u001b[0;36m<cell line: 0>\u001b[0;34m()\u001b[0m\n\u001b[1;32m      2\u001b[0m \u001b[0;32mimport\u001b[0m \u001b[0mnumpy\u001b[0m \u001b[0;32mas\u001b[0m \u001b[0mnp\u001b[0m\u001b[0;34m\u001b[0m\u001b[0;34m\u001b[0m\u001b[0m\n\u001b[1;32m      3\u001b[0m \u001b[0;32mfrom\u001b[0m \u001b[0mscipy\u001b[0m\u001b[0;34m.\u001b[0m\u001b[0mlinalg\u001b[0m \u001b[0;32mimport\u001b[0m \u001b[0mexpm\u001b[0m\u001b[0;34m,\u001b[0m \u001b[0meig\u001b[0m\u001b[0;34m\u001b[0m\u001b[0;34m\u001b[0m\u001b[0m\n\u001b[0;32m----> 4\u001b[0;31m \u001b[0;32mfrom\u001b[0m \u001b[0mqiskit\u001b[0m \u001b[0;32mimport\u001b[0m \u001b[0mQuantumCircuit\u001b[0m\u001b[0;34m,\u001b[0m \u001b[0mAer\u001b[0m\u001b[0;34m,\u001b[0m \u001b[0mtranspile\u001b[0m\u001b[0;34m\u001b[0m\u001b[0;34m\u001b[0m\u001b[0m\n\u001b[0m\u001b[1;32m      5\u001b[0m \u001b[0;32mfrom\u001b[0m \u001b[0mqiskit\u001b[0m\u001b[0;34m.\u001b[0m\u001b[0mextensions\u001b[0m \u001b[0;32mimport\u001b[0m \u001b[0mUnitaryGate\u001b[0m\u001b[0;34m\u001b[0m\u001b[0;34m\u001b[0m\u001b[0m\n\u001b[1;32m      6\u001b[0m \u001b[0;32mfrom\u001b[0m \u001b[0mqiskit\u001b[0m\u001b[0;34m.\u001b[0m\u001b[0mcircuit\u001b[0m\u001b[0;34m.\u001b[0m\u001b[0mlibrary\u001b[0m \u001b[0;32mimport\u001b[0m \u001b[0mQFT\u001b[0m\u001b[0;34m\u001b[0m\u001b[0;34m\u001b[0m\u001b[0m\n",
            "\u001b[0;31mImportError\u001b[0m: cannot import name 'Aer' from 'qiskit' (/usr/local/lib/python3.12/dist-packages/qiskit/__init__.py)",
            "",
            "\u001b[0;31m---------------------------------------------------------------------------\u001b[0;32m\nNOTE: If your import is failing due to a missing package, you can\nmanually install dependencies using either !pip or !apt.\n\nTo view examples of installing some common dependencies, click the\n\"Open Examples\" button below.\n\u001b[0;31m---------------------------------------------------------------------------\u001b[0m\n"
          ],
          "errorDetails": {
            "actions": [
              {
                "action": "open_url",
                "actionText": "Open Examples",
                "url": "/notebooks/snippets/importing_libraries.ipynb"
              }
            ]
          }
        }
      ]
    },
    {
      "cell_type": "markdown",
      "source": [
        "Cirq — toy HHL (aynı fikir, controlled MatrixGate ile QPE)"
      ],
      "metadata": {
        "id": "OX9cfKyZQ07Z"
      }
    },
    {
      "cell_type": "code",
      "source": [
        "# cirq_hhl_toy.py\n",
        "import numpy as np\n",
        "import cirq\n",
        "from scipy.linalg import expm\n",
        "\n",
        "# Problem setup (same A)\n",
        "A = np.array([[1.0, 0.0],\n",
        "              [0.0, 2.0]])\n",
        "U = expm(2j * np.pi * A / 4)\n",
        "\n",
        "n_count = 3\n",
        "controls = [cirq.LineQubit(i) for i in range(n_count)]\n",
        "sys_q = cirq.LineQubit(n_count)\n",
        "anc = cirq.LineQubit(n_count+1)\n",
        "\n",
        "circuit = cirq.Circuit()\n",
        "\n",
        "# prepare system |b>=|0> -> nothing; if needed use X or initializer\n",
        "# Hadamards on counting qubits\n",
        "circuit.append([cirq.H(q) for q in controls])\n",
        "\n",
        "# Controlled-U^(2^j) : Cirq allows controlled gates from MatrixGate\n",
        "for j, q in enumerate(controls):\n",
        "    power = 2**j\n",
        "    Uj = np.linalg.matrix_power(U, power)\n",
        "    # construct gate acting on system qubit\n",
        "    mg = cirq.MatrixGate(Uj)\n",
        "    # controlled version\n",
        "    cgate = mg.controlled()\n",
        "    circuit.append(cgate(q, sys_q))\n",
        "\n",
        "# inverse QFT (implement simple inverse QFT function)\n",
        "def inverse_qft(qubits):\n",
        "    ops = []\n",
        "    n = len(qubits)\n",
        "    # swap\n",
        "    for i in range(n//2):\n",
        "        ops.append(cirq.SWAP(qubits[i], qubits[n-i-1]))\n",
        "    # inverse rotations + H\n",
        "    for j in range(n):\n",
        "        for k in range(j):\n",
        "            ops.append(cirq.CZ(qubits[j], qubits[k])**(-1/2**(j-k)))\n",
        "        ops.append(cirq.H(qubits[j]))\n",
        "    return ops\n",
        "\n",
        "circuit.append(inverse_qft(controls))\n",
        "\n",
        "# measure counting register\n",
        "circuit.append([cirq.measure(q, key=f'c{idx}') for idx,q in enumerate(controls)])\n",
        "\n",
        "sim = cirq.Simulator()\n",
        "res = sim.run(circuit, repetitions=1000)\n",
        "print(res.histogram(keys=[f'c{i}' for i in range(n_count)]))\n",
        "print(circuit)\n"
      ],
      "metadata": {
        "colab": {
          "base_uri": "https://localhost:8080/",
          "height": 193
        },
        "id": "zxQYYL57Q1AS",
        "outputId": "8f751a66-5d72-495b-8556-d1ef67ebe772"
      },
      "execution_count": 4,
      "outputs": [
        {
          "output_type": "error",
          "ename": "TypeError",
          "evalue": "Result.histogram() got an unexpected keyword argument 'keys'",
          "traceback": [
            "\u001b[0;31m---------------------------------------------------------------------------\u001b[0m",
            "\u001b[0;31mTypeError\u001b[0m                                 Traceback (most recent call last)",
            "\u001b[0;32m/tmp/ipython-input-542762103.py\u001b[0m in \u001b[0;36m<cell line: 0>\u001b[0;34m()\u001b[0m\n\u001b[1;32m     51\u001b[0m \u001b[0msim\u001b[0m \u001b[0;34m=\u001b[0m \u001b[0mcirq\u001b[0m\u001b[0;34m.\u001b[0m\u001b[0mSimulator\u001b[0m\u001b[0;34m(\u001b[0m\u001b[0;34m)\u001b[0m\u001b[0;34m\u001b[0m\u001b[0;34m\u001b[0m\u001b[0m\n\u001b[1;32m     52\u001b[0m \u001b[0mres\u001b[0m \u001b[0;34m=\u001b[0m \u001b[0msim\u001b[0m\u001b[0;34m.\u001b[0m\u001b[0mrun\u001b[0m\u001b[0;34m(\u001b[0m\u001b[0mcircuit\u001b[0m\u001b[0;34m,\u001b[0m \u001b[0mrepetitions\u001b[0m\u001b[0;34m=\u001b[0m\u001b[0;36m1000\u001b[0m\u001b[0;34m)\u001b[0m\u001b[0;34m\u001b[0m\u001b[0;34m\u001b[0m\u001b[0m\n\u001b[0;32m---> 53\u001b[0;31m \u001b[0mprint\u001b[0m\u001b[0;34m(\u001b[0m\u001b[0mres\u001b[0m\u001b[0;34m.\u001b[0m\u001b[0mhistogram\u001b[0m\u001b[0;34m(\u001b[0m\u001b[0mkeys\u001b[0m\u001b[0;34m=\u001b[0m\u001b[0;34m[\u001b[0m\u001b[0;34mf'c{i}'\u001b[0m \u001b[0;32mfor\u001b[0m \u001b[0mi\u001b[0m \u001b[0;32min\u001b[0m \u001b[0mrange\u001b[0m\u001b[0;34m(\u001b[0m\u001b[0mn_count\u001b[0m\u001b[0;34m)\u001b[0m\u001b[0;34m]\u001b[0m\u001b[0;34m)\u001b[0m\u001b[0;34m)\u001b[0m\u001b[0;34m\u001b[0m\u001b[0;34m\u001b[0m\u001b[0m\n\u001b[0m\u001b[1;32m     54\u001b[0m \u001b[0mprint\u001b[0m\u001b[0;34m(\u001b[0m\u001b[0mcircuit\u001b[0m\u001b[0;34m)\u001b[0m\u001b[0;34m\u001b[0m\u001b[0;34m\u001b[0m\u001b[0m\n",
            "\u001b[0;31mTypeError\u001b[0m: Result.histogram() got an unexpected keyword argument 'keys'"
          ]
        }
      ]
    },
    {
      "cell_type": "markdown",
      "source": [
        "QuTiP — tam toy HHL simülasyonu (matris tabanlı, tam statevector kullanımı)"
      ],
      "metadata": {
        "id": "jcRx67hGQ1FH"
      }
    },
    {
      "cell_type": "code",
      "source": [
        "# qutip_hhl_toy.py\n",
        "import numpy as np\n",
        "from scipy.linalg import expm\n",
        "from qutip import tensor, basis, qeye, Qobj, ket2dm\n",
        "\n",
        "# --- Problem definition: A (2x2), |b>\n",
        "A = np.array([[1.0, 0.0],\n",
        "              [0.0, 2.0]])\n",
        "# eigen-decomposition\n",
        "eigvals, eigvecs = np.linalg.eigh(A)\n",
        "print(\"Eigenvalues:\", eigvals)\n",
        "\n",
        "# choose U = exp(2π i A / 4) so phases = lambda / 4\n",
        "U_sys = expm(2j * np.pi * A / 4)  # 2x2\n",
        "\n",
        "# register sizes\n",
        "n_count = 3   # QPE qubits\n",
        "n_sys = 1     # system qubit\n",
        "n_anc = 1     # ancilla for controlled rotation\n",
        "N_count = 2**n_count\n",
        "\n",
        "# build full Hilbert space operators using Qobj\n",
        "from qutip import Qobj\n",
        "U_sys_q = Qobj(U_sys)\n",
        "\n",
        "# basis states\n",
        "zero = basis(2,0)\n",
        "one  = basis(2,1)\n",
        "\n",
        "# Initial total state |0>^{count} ⊗ |b> ⊗ |0>_anc\n",
        "# here |b>=|0>\n",
        "count_zeros = tensor([zero for _ in range(n_count)])\n",
        "sys_b = zero\n",
        "anc0 = zero\n",
        "psi0 = tensor(count_zeros, sys_b, anc0)\n",
        "\n",
        "# 1) Apply Hadamard to each counting qubit: build H_full\n",
        "H = (1/np.sqrt(2)) * np.array([[1,1],[1,-1]])\n",
        "H_q = Qobj(H)\n",
        "H_counts_full = tensor(*([H_q]*n_count), qeye(2), qeye(2))  # counts x sys x anc\n",
        "psi1 = H_counts_full * psi0\n",
        "\n",
        "# 2) Apply controlled-U^{2^j}: build full unitary for each j\n",
        "# We'll compose the full operator as product of controlled operators\n",
        "def controlled_unitary_on_sys(U_mat, control_index, n_count, n_sys, n_anc):\n",
        "    # control_index in [0..n_count-1], 0 is first qubit\n",
        "    # Build projector P0 and P1 on that control qubit\n",
        "    P0 = Qobj([[1,0],[0,0]])\n",
        "    P1 = Qobj([[0,0],[0,1]])\n",
        "    # build identity lists\n",
        "    ops_P0 = []\n",
        "    ops_P1 = []\n",
        "    for i in range(n_count):\n",
        "        if i == control_index:\n",
        "            ops_P0.append(P0)\n",
        "            ops_P1.append(P1)\n",
        "        else:\n",
        "            ops_P0.append(qeye(2))\n",
        "            ops_P1.append(qeye(2))\n",
        "    # append system and anc spaces\n",
        "    ops_P0.extend([qeye(2)] * (n_sys + n_anc))\n",
        "    ops_P1.extend([Qobj(U_mat)] + [qeye(2)] * n_anc)  # U acts on system only\n",
        "    Op = tensor(*ops_P0) + tensor(*ops_P1)\n",
        "    return Op\n",
        "\n",
        "U_total = Qobj(np.eye(2**(n_count+n_sys+n_anc)), dims=[[2]*(n_count+n_sys+n_anc), [2]*(n_count+n_sys+n_anc)])\n",
        "psi2 = psi1\n",
        "for j in range(n_count):\n",
        "    power = 2**j\n",
        "    Uj = np.linalg.matrix_power(U_sys, power)\n",
        "    C_Uj = controlled_unitary_on_sys(Uj, j, n_count, n_sys, n_anc)\n",
        "    psi2 = C_Uj * psi2\n",
        "\n",
        "# 3) Apply inverse QFT on counting register (as unitary)\n",
        "# build QFT matrix on n_count qubits\n",
        "def qft_matrix(n):\n",
        "    N = 2**n\n",
        "    omega = np.exp(2j*np.pi / N)\n",
        "    F = np.zeros((N,N), dtype=complex)\n",
        "    for x in range(N):\n",
        "        for y in range(N):\n",
        "            F[x,y] = omega**(x*y)\n",
        "    return F/np.sqrt(N)\n",
        "\n",
        "QFT_n = Qobj(qft_matrix(n_count))\n",
        "# embed QFT^\\dagger on counting register\n",
        "QFT_dagger_full = tensor(QFT_n.dag(), qeye(2), qeye(2))\n",
        "psi3 = QFT_dagger_full * psi2\n",
        "\n",
        "# 4) Controlled rotation on ancilla depending on counting register value\n",
        "# After QFT_dagger, counting register computational basis approx encodes eigenvalue index.\n",
        "# We'll implement controlled rotations R_y(θ_k) where θ_k = 2*arcsin(C/λ_k).\n",
        "# For our toy eigenvalues λ∈{1,2}, choose mapping from counting basis states to nearest eigenvalue.\n",
        "# Map: if counting register state corresponds to decimal ~2 -> eigenvalue 1; decimal ~4 -> eigenvalue 2.\n",
        "# We'll implement control by projector onto that counting basis state.\n",
        "C = 1.0\n",
        "N_count = 2**n_count\n",
        "psi4 = psi3\n",
        "for basis_idx in range(N_count):\n",
        "    # decide which eigenvalue this basis_idx corresponds to (simple nearest test)\n",
        "    # get phase estimate phi = basis_idx / 2^n_count\n",
        "    phi_est = basis_idx / float(N_count)\n",
        "    # nearest eigenvalue ratio is phi_est*4 approx lambda\n",
        "    lambda_est = round(phi_est * 4)\n",
        "    if lambda_est == 0:\n",
        "        continue\n",
        "    theta = 2 * np.arcsin(C / lambda_est) if abs(C/lambda_est) <= 1 else np.pi\n",
        "    # projector onto |basis_idx> on counting register\n",
        "    ket_idx = basis(N_count, basis_idx)\n",
        "    P_idx = ket_idx * ket_idx.dag()\n",
        "    # expand to full space: P_idx ⊗ I_sys ⊗ Ry(θ)_anc\n",
        "    from qutip import rx, ry, rz\n",
        "    Ry = Qobj(expm(-1j * theta/2 * np.array([[0,-1j],[1j,0]])))  # explicit Ry\n",
        "    full_op = tensor(P_idx, qeye(2), Ry) + tensor((qeye(N_count)-P_idx), qeye(2), qeye(2))\n",
        "    psi4 = full_op * psi4\n",
        "\n",
        "# 5) Uncompute QFT & uncompute QPE: for small toy we'll skip explicit uncompute and instead\n",
        "# trace out counting register, postselect ancilla=|1>, and get resulting system state.\n",
        "# (In full HHL you'd uncompute counting register to disentangle)\n",
        "from qutip import measurement_statistics_povm\n",
        "# get reduced density on ancilla and system\n",
        "rho_full = ket2dm(psi4)\n",
        "# trace over counting register to obtain joint (sys,anc)\n",
        "# dims: [count]*(n_count) , [sys], [anc]\n",
        "rho_sysanc = rho_full.ptrace(list(range(n_count, n_count + n_sys + n_anc)))\n",
        "# measure ancilla in computational basis and postselect on |1>\n",
        "proj_anc_1 = tensor(qeye(2), basis(2,1)*basis(2,1).dag())  # sys x anc\n",
        "# actually need operators on sys+anc: project anc\n",
        "P_anc1 = tensor(qeye(2), basis(2,1)*basis(2,1).dag())\n",
        "# probability of anc=1\n",
        "prob_anc1 = (P_anc1 * rho_sysanc).tr().real\n",
        "print(\"Prob(ancilla=1):\", prob_anc1)\n",
        "\n",
        "if prob_anc1 > 1e-9:\n",
        "    # postselected state (sys only)\n",
        "    rho_post = (P_anc1 * rho_sysanc * P_anc1) / prob_anc1\n",
        "    # trace out anc to get system density\n",
        "    rho_sys = rho_post.ptrace(0)\n",
        "    # compute fidelity with ideal |x> ∝ A^{-1} |b>\n",
        "    x_exact = np.linalg.inv(A) @ np.array([1.0, 0.0])\n",
        "    x_exact = x_exact / np.linalg.norm(x_exact)\n",
        "    from qutip import Qobj\n",
        "    psi_x_exact = Qobj(x_exact)\n",
        "    fidelity = (psi_x_exact.dag() * rho_sys * psi_x_exact).tr().real\n",
        "    print(\"Fidelity with exact solution |x>:\", fidelity)\n",
        "else:\n",
        "    print(\"Postselection failed (ancilla=1 prob too small).\")\n"
      ],
      "metadata": {
        "colab": {
          "base_uri": "https://localhost:8080/",
          "height": 374
        },
        "id": "vAQVg-JRQ1Jd",
        "outputId": "012d18d9-d1ea-44fd-e629-70810c524812"
      },
      "execution_count": 5,
      "outputs": [
        {
          "output_type": "stream",
          "name": "stdout",
          "text": [
            "Eigenvalues: [1. 2.]\n"
          ]
        },
        {
          "output_type": "error",
          "ename": "TypeError",
          "evalue": "incompatible dimensions [[8, 2, 2], [8, 2, 2]] and [[2, 2, 2, 2, 2], [1]]",
          "traceback": [
            "\u001b[0;31m---------------------------------------------------------------------------\u001b[0m",
            "\u001b[0;31mTypeError\u001b[0m                                 Traceback (most recent call last)",
            "\u001b[0;32m/tmp/ipython-input-589807783.py\u001b[0m in \u001b[0;36m<cell line: 0>\u001b[0;34m()\u001b[0m\n\u001b[1;32m     86\u001b[0m \u001b[0;31m# embed QFT^\\dagger on counting register\u001b[0m\u001b[0;34m\u001b[0m\u001b[0;34m\u001b[0m\u001b[0m\n\u001b[1;32m     87\u001b[0m \u001b[0mQFT_dagger_full\u001b[0m \u001b[0;34m=\u001b[0m \u001b[0mtensor\u001b[0m\u001b[0;34m(\u001b[0m\u001b[0mQFT_n\u001b[0m\u001b[0;34m.\u001b[0m\u001b[0mdag\u001b[0m\u001b[0;34m(\u001b[0m\u001b[0;34m)\u001b[0m\u001b[0;34m,\u001b[0m \u001b[0mqeye\u001b[0m\u001b[0;34m(\u001b[0m\u001b[0;36m2\u001b[0m\u001b[0;34m)\u001b[0m\u001b[0;34m,\u001b[0m \u001b[0mqeye\u001b[0m\u001b[0;34m(\u001b[0m\u001b[0;36m2\u001b[0m\u001b[0;34m)\u001b[0m\u001b[0;34m)\u001b[0m\u001b[0;34m\u001b[0m\u001b[0;34m\u001b[0m\u001b[0m\n\u001b[0;32m---> 88\u001b[0;31m \u001b[0mpsi3\u001b[0m \u001b[0;34m=\u001b[0m \u001b[0mQFT_dagger_full\u001b[0m \u001b[0;34m*\u001b[0m \u001b[0mpsi2\u001b[0m\u001b[0;34m\u001b[0m\u001b[0;34m\u001b[0m\u001b[0m\n\u001b[0m\u001b[1;32m     89\u001b[0m \u001b[0;34m\u001b[0m\u001b[0m\n\u001b[1;32m     90\u001b[0m \u001b[0;31m# 4) Controlled rotation on ancilla depending on counting register value\u001b[0m\u001b[0;34m\u001b[0m\u001b[0;34m\u001b[0m\u001b[0m\n",
            "\u001b[0;32m/usr/local/lib/python3.12/dist-packages/qutip/core/qobj.py\u001b[0m in \u001b[0;36m__mul__\u001b[0;34m(self, other)\u001b[0m\n\u001b[1;32m    422\u001b[0m \u001b[0;34m\u001b[0m\u001b[0m\n\u001b[1;32m    423\u001b[0m         \u001b[0;32mif\u001b[0m \u001b[0misinstance\u001b[0m\u001b[0;34m(\u001b[0m\u001b[0mother\u001b[0m\u001b[0;34m,\u001b[0m \u001b[0mQobj\u001b[0m\u001b[0;34m)\u001b[0m\u001b[0;34m:\u001b[0m\u001b[0;34m\u001b[0m\u001b[0;34m\u001b[0m\u001b[0m\n\u001b[0;32m--> 424\u001b[0;31m             \u001b[0;32mreturn\u001b[0m \u001b[0mself\u001b[0m\u001b[0;34m.\u001b[0m\u001b[0m__matmul__\u001b[0m\u001b[0;34m(\u001b[0m\u001b[0mother\u001b[0m\u001b[0;34m)\u001b[0m\u001b[0;34m\u001b[0m\u001b[0;34m\u001b[0m\u001b[0m\n\u001b[0m\u001b[1;32m    425\u001b[0m \u001b[0;34m\u001b[0m\u001b[0m\n\u001b[1;32m    426\u001b[0m         \u001b[0;31m# We send other to mul instead of complex(other) to be more flexible.\u001b[0m\u001b[0;34m\u001b[0m\u001b[0;34m\u001b[0m\u001b[0m\n",
            "\u001b[0;32m/usr/local/lib/python3.12/dist-packages/qutip/core/qobj.py\u001b[0m in \u001b[0;36m__matmul__\u001b[0;34m(self, other)\u001b[0m\n\u001b[1;32m    459\u001b[0m             \u001b[0;32mexcept\u001b[0m \u001b[0mTypeError\u001b[0m\u001b[0;34m:\u001b[0m\u001b[0;34m\u001b[0m\u001b[0;34m\u001b[0m\u001b[0m\n\u001b[1;32m    460\u001b[0m                 \u001b[0;32mreturn\u001b[0m \u001b[0mNotImplemented\u001b[0m\u001b[0;34m\u001b[0m\u001b[0;34m\u001b[0m\u001b[0m\n\u001b[0;32m--> 461\u001b[0;31m         \u001b[0mnew_dims\u001b[0m \u001b[0;34m=\u001b[0m \u001b[0mself\u001b[0m\u001b[0;34m.\u001b[0m\u001b[0m_dims\u001b[0m \u001b[0;34m@\u001b[0m \u001b[0mother\u001b[0m\u001b[0;34m.\u001b[0m\u001b[0m_dims\u001b[0m\u001b[0;34m\u001b[0m\u001b[0;34m\u001b[0m\u001b[0m\n\u001b[0m\u001b[1;32m    462\u001b[0m         \u001b[0;32mif\u001b[0m \u001b[0mnew_dims\u001b[0m\u001b[0;34m.\u001b[0m\u001b[0mtype\u001b[0m \u001b[0;34m==\u001b[0m \u001b[0;34m'scalar'\u001b[0m\u001b[0;34m:\u001b[0m\u001b[0;34m\u001b[0m\u001b[0;34m\u001b[0m\u001b[0m\n\u001b[1;32m    463\u001b[0m             \u001b[0;32mreturn\u001b[0m \u001b[0m_data\u001b[0m\u001b[0;34m.\u001b[0m\u001b[0minner\u001b[0m\u001b[0;34m(\u001b[0m\u001b[0mself\u001b[0m\u001b[0;34m.\u001b[0m\u001b[0m_data\u001b[0m\u001b[0;34m,\u001b[0m \u001b[0mother\u001b[0m\u001b[0;34m.\u001b[0m\u001b[0m_data\u001b[0m\u001b[0;34m)\u001b[0m\u001b[0;34m\u001b[0m\u001b[0;34m\u001b[0m\u001b[0m\n",
            "\u001b[0;32m/usr/local/lib/python3.12/dist-packages/qutip/core/dimensions.py\u001b[0m in \u001b[0;36m__matmul__\u001b[0;34m(self, other)\u001b[0m\n\u001b[1;32m    798\u001b[0m     \u001b[0;32mdef\u001b[0m \u001b[0m__matmul__\u001b[0m\u001b[0;34m(\u001b[0m\u001b[0mself\u001b[0m\u001b[0;34m,\u001b[0m \u001b[0mother\u001b[0m\u001b[0;34m:\u001b[0m \u001b[0;34m\"Dimensions\"\u001b[0m\u001b[0;34m)\u001b[0m \u001b[0;34m->\u001b[0m \u001b[0;34m\"Dimensions\"\u001b[0m\u001b[0;34m:\u001b[0m\u001b[0;34m\u001b[0m\u001b[0;34m\u001b[0m\u001b[0m\n\u001b[1;32m    799\u001b[0m         \u001b[0;32mif\u001b[0m \u001b[0mself\u001b[0m\u001b[0;34m.\u001b[0m\u001b[0mfrom_\u001b[0m \u001b[0;34m!=\u001b[0m \u001b[0mother\u001b[0m\u001b[0;34m.\u001b[0m\u001b[0mto_\u001b[0m\u001b[0;34m:\u001b[0m\u001b[0;34m\u001b[0m\u001b[0;34m\u001b[0m\u001b[0m\n\u001b[0;32m--> 800\u001b[0;31m             \u001b[0;32mraise\u001b[0m \u001b[0mTypeError\u001b[0m\u001b[0;34m(\u001b[0m\u001b[0;34mf\"incompatible dimensions {self} and {other}\"\u001b[0m\u001b[0;34m)\u001b[0m\u001b[0;34m\u001b[0m\u001b[0;34m\u001b[0m\u001b[0m\n\u001b[0m\u001b[1;32m    801\u001b[0m         \u001b[0margs\u001b[0m \u001b[0;34m=\u001b[0m \u001b[0mother\u001b[0m\u001b[0;34m.\u001b[0m\u001b[0mfrom_\u001b[0m\u001b[0;34m,\u001b[0m \u001b[0mself\u001b[0m\u001b[0;34m.\u001b[0m\u001b[0mto_\u001b[0m\u001b[0;34m\u001b[0m\u001b[0;34m\u001b[0m\u001b[0m\n\u001b[1;32m    802\u001b[0m         \u001b[0;32mif\u001b[0m \u001b[0margs\u001b[0m \u001b[0;32min\u001b[0m \u001b[0mDimensions\u001b[0m\u001b[0;34m.\u001b[0m\u001b[0m_stored_dims\u001b[0m\u001b[0;34m:\u001b[0m\u001b[0;34m\u001b[0m\u001b[0;34m\u001b[0m\u001b[0m\n",
            "\u001b[0;31mTypeError\u001b[0m: incompatible dimensions [[8, 2, 2], [8, 2, 2]] and [[2, 2, 2, 2, 2], [1]]"
          ]
        }
      ]
    },
    {
      "cell_type": "markdown",
      "source": [
        "QUANTUM SİNGULAR VALUE TRANSFORMATİON\n",
        "(QSVT)"
      ],
      "metadata": {
        "id": "gK--hI_UQ1o_"
      }
    },
    {
      "cell_type": "markdown",
      "source": [
        "Qiskit — Toy QSVT (1 ancilla qubit + 1 system qubit)"
      ],
      "metadata": {
        "id": "Wmt1xx_bQ18i"
      }
    },
    {
      "cell_type": "code",
      "source": [
        "# qiskit_qsvt_toy.py\n",
        "# Gerekli paketler: qiskit, numpy, scipy\n",
        "import numpy as np\n",
        "from scipy.linalg import sqrtm\n",
        "from qiskit import QuantumCircuit, Aer, transpile\n",
        "from qiskit.extensions import UnitaryGate\n",
        "\n",
        "# ---------------------------\n",
        "# 1) Problem: küçük diag(A) örneği\n",
        "# ---------------------------\n",
        "# Tekil değerler (sigma'lar) 0..1 aralığında\n",
        "s0 = 0.6\n",
        "s1 = 0.9\n",
        "# A = diag(s0, s1)\n",
        "A = np.diag([s0, s1])\n",
        "\n",
        "# normalizasyon katsayısı (alpha) = 1 (sigma <=1 olduğu için)\n",
        "alpha = 1.0\n",
        "\n",
        "# ---------------------------\n",
        "# 2) Blok-kodlama: 4x4 unitary oluştur\n",
        "#    top-left = A, top-right = sqrt(I - A^2)\n",
        "#    bottom-left = sqrt(I - A^2), bottom-right = -A\n",
        "#    Bu, her tekil değer için 2x2 rotasyon bloğu oluşturur => 4x4 unitary\n",
        "# ---------------------------\n",
        "I2 = np.eye(2)\n",
        "sqrt_term = sqrtm(I2 - A.dot(A))  # sqrt(I - A^2)\n",
        "U_block = np.block([[A, sqrt_term],\n",
        "                    [sqrt_term, -A]])\n",
        "# kontrol: U_block birimleriyle unitary mi?\n",
        "print(\"U_block^† U_block hata (küçük olmalı):\", np.linalg.norm(U_block.conj().T @ U_block - np.eye(4)))\n",
        "\n",
        "# ---------------------------\n",
        "# 3) QSVT tarzı \"alternating\" sequence (öğretici)\n",
        "#    Sıra: (apply U) -> Rz(φ1) on ancilla -> (apply U†) -> Rz(φ2) -> (apply U)\n",
        "#    (bu basit sequence mamafih tam QSVT polinom tasarımı değildir, ama mantığı gösterir)\n",
        "# ---------------------------\n",
        "# örnek fazlar: küçük dizi (örnek)\n",
        "phi_list = [np.pi/2, np.pi/3]  # ancilla üzerindeki Rz fazları (öğretici amaçlı)\n",
        "\n",
        "# Qiskit devre: 2 qubit (ancilla: q0, system: q1)\n",
        "qc = QuantumCircuit(2)\n",
        "# devrede matrisler Qiskit sütun sırasına göre uygulanır (q0 is ancilla)\n",
        "# apply U_block as a 2-qubit unitary\n",
        "U_gate = UnitaryGate(U_block, label='U_block')\n",
        "# 1) U\n",
        "qc.append(U_gate, [0,1])\n",
        "# 2) Rz(phi1) on ancilla\n",
        "qc.rz(phi_list[0], 0)\n",
        "# 3) U†\n",
        "qc.append(UnitaryGate(U_block.conj().T, label='U_dag'), [0,1])\n",
        "# 4) Rz(phi2)\n",
        "qc.rz(phi_list[1], 0)\n",
        "# 5) U\n",
        "qc.append(U_gate, [0,1])\n",
        "\n",
        "# 6) ölçümlü değil — statevector üzerinden sonuç çıkaracağız\n",
        "backend = Aer.get_backend('aer_simulator_statevector')\n",
        "tqc = transpile(qc, backend)\n",
        "result = backend.run(tqc).result()\n",
        "psi = result.get_statevector()  # 4 amplitüdlü statevector (ancilla ⊗ system)\n",
        "\n",
        "# ---------------------------\n",
        "# 4) Post-select ancilla = |0> ve sistem üzerine etki eden effective operatörü çıkar\n",
        "#    (başlangıç sistem baz vektörlerini uygulayıp mapping M : |ψ> -> <0| (QSVTsequence) |0>⊗|ψ> )\n",
        "# ---------------------------\n",
        "# ilk olarak baz vektörleri için (|0>, |1>) test et\n",
        "zero_sys = np.array([1,0], dtype=complex)\n",
        "one_sys  = np.array([0,1], dtype=complex)\n",
        "\n",
        "# fonksiyon: full unitary U_seq olarak uygulayıp ancilla projeksiyonuyla sistem haritası elde et\n",
        "from numpy import kron\n",
        "\n",
        "# compute full unitary matrix of the circuit (manually build sequence)\n",
        "U = U_block\n",
        "U_dag = U_block.conj().T\n",
        "# full sequence: U * (Rz on ancilla) * U_dag * (Rz on ancilla) * U\n",
        "Rz_phi1 = np.kron(np.array([[np.exp(-1j*phi_list[0]/2), 0],\n",
        "                             [0, np.exp(1j*phi_list[0]/2)]]), np.eye(2))\n",
        "Rz_phi2 = np.kron(np.array([[np.exp(-1j*phi_list[1]/2), 0],\n",
        "                             [0, np.exp(1j*phi_list[1]/2)]]), np.eye(2))_*]()\n"
      ],
      "metadata": {
        "colab": {
          "base_uri": "https://localhost:8080/",
          "height": 106
        },
        "id": "oqaGDZwWQ2OU",
        "outputId": "afed1722-37df-42a0-de8f-0e92754f75e1"
      },
      "execution_count": 6,
      "outputs": [
        {
          "output_type": "error",
          "ename": "SyntaxError",
          "evalue": "unmatched ']' (ipython-input-758288482.py, line 81)",
          "traceback": [
            "\u001b[0;36m  File \u001b[0;32m\"/tmp/ipython-input-758288482.py\"\u001b[0;36m, line \u001b[0;32m81\u001b[0m\n\u001b[0;31m    [0, np.exp(1j*phi_list[1]/2)]]), np.eye(2))_*]()\u001b[0m\n\u001b[0m                                                 ^\u001b[0m\n\u001b[0;31mSyntaxError\u001b[0m\u001b[0;31m:\u001b[0m unmatched ']'\n"
          ]
        }
      ]
    },
    {
      "cell_type": "markdown",
      "source": [
        "Cirq — aynı toy QSVT akışı (Cirq MatrixGate kullanılarak)"
      ],
      "metadata": {
        "id": "DB9RgD2eQ2UB"
      }
    },
    {
      "cell_type": "code",
      "source": [
        "# cirq_qsvt_toy.py\n",
        "# Gerekli paketler: cirq, numpy, scipy\n",
        "import cirq\n",
        "import numpy as np\n",
        "from scipy.linalg import sqrtm\n",
        "\n",
        "# ---------------------------\n",
        "# 1) Problem: A = diag(s0, s1)\n",
        "# ---------------------------\n",
        "s0 = 0.6\n",
        "s1 = 0.9\n",
        "A = np.diag([s0, s1])\n",
        "I2 = np.eye(2)\n",
        "sqrt_term = sqrtm(I2 - A.dot(A))\n",
        "U_block = np.block([[A, sqrt_term],\n",
        "                    [sqrt_term, -A]])\n",
        "# birimlik kontrol\n",
        "print(\"U_block unitary check (Cirq):\", np.linalg.norm(U_block.conj().T @ U_block - np.eye(4)))\n",
        "\n",
        "# ---------------------------\n",
        "# 2) QSVT alternation sequence (öğretici)\n",
        "# ---------------------------\n",
        "phi_list = [np.pi/2, np.pi/3]\n",
        "\n",
        "# qubit tanımları: ancilla q0, system q1\n",
        "q0 = cirq.LineQubit(0)  # ancilla\n",
        "q1 = cirq.LineQubit(1)  # system\n",
        "\n",
        "circuit = cirq.Circuit()\n",
        "\n",
        "# 1) U\n",
        "circuit.append(cirq.MatrixGate(U_block).on(q0, q1))\n",
        "# 2) Rz(phi1) on ancilla\n",
        "circuit.append(cirq.rz(phi_list[0]).on(q0))\n",
        "# 3) U†\n",
        "circuit.append(cirq.MatrixGate(U_block.conj().T).on(q0, q1))\n",
        "# 4) Rz(phi2)\n",
        "circuit.append(cirq.rz(phi_list[1]).on(q0))\n",
        "# 5) U\n",
        "circuit.append(cirq.MatrixGate(U_block).on(q0, q1))\n",
        "\n",
        "# Circuit gösterimi\n",
        "print(\"Cirq devresi:\\n\", circuit)\n",
        "\n",
        "# ---------------------------\n",
        "# 3) Simülasyon: statevector üzerinden etkileri hesapla\n",
        "# ---------------------------\n",
        "sim = cirq.Simulator()\n",
        "# başlangıç sistem baz vektörleri için M matrisini elde etmek üzere her baz için simüle et\n",
        "basis_sys = [np.array([1,0], dtype=complex), np.array([0,1], dtype=complex)]\n",
        "M = np.zeros((2,2), dtype=complex)\n",
        "for j, b in enumerate(basis_sys):\n",
        "    init = np.kron(np.array([1,0]), b)  # ancilla |0> ⊗ system |b>\n",
        "    # simülasyon: Cirq expect statevector from unitary sequence by applying unitary matrix product\n",
        "    # kolaylık: hesapları doğrudan numpy ile yap (aynı U_seq mantığı)\n",
        "    # construct Rz matrices as kron(Rz, I)\n",
        "    Rz1 = np.kron(np.array([[np.exp(-1j*phi_list[0]/2),0],[0,np.exp(1j*phi_list[0]/2)]]), np.eye(2))\n",
        "    Rz2 = np.kron(np.array([[np.exp(-1j*phi_list[1]/2),0],[0,np.exp(1j*phi_list[1]/2)]]), np.eye(2))\n",
        "    U = U_block\n",
        "    U_dag = U_block.conj().T\n",
        "    U_seq = U @ Rz1 @ U_dag @ Rz2 @ U\n",
        "    out = U_seq.dot(init)\n",
        "    # ancilla=|0> için komponentler out[0], out[1] (ancilla index 0)\n",
        "    sys_vec = np.array([out[0], out[1]])\n",
        "    M[:, j] = sys_vec\n",
        "\n",
        "print(\"Cirq ile elde edilen M (unnormalized):\\n\", M)\n",
        "\n",
        "# Klasik referans f(A)=A^2 örnek\n",
        "fA = n\n"
      ],
      "metadata": {
        "colab": {
          "base_uri": "https://localhost:8080/",
          "height": 402
        },
        "id": "uGHuPI7aQ2Yw",
        "outputId": "76b9ab3c-0559-41d3-f849-5037b12f8621"
      },
      "execution_count": 7,
      "outputs": [
        {
          "output_type": "stream",
          "name": "stdout",
          "text": [
            "U_block unitary check (Cirq): 4.3403273643888066e-17\n",
            "Cirq devresi:\n",
            "       ┌                           ┐              ┌                           ┐                ┌                           ┐\n",
            "      │ 0.6    0.     0.8    0.   │              │ 0.6    0.     0.8    0.   │                │ 0.6    0.     0.8    0.   │\n",
            "0: ───│ 0.     0.9    0.     0.436│───Rz(0.5π)───│ 0.     0.9    0.     0.436│───Rz(0.333π)───│ 0.     0.9    0.     0.436│───\n",
            "      │ 0.8    0.    -0.6   -0.   │              │ 0.8    0.    -0.6   -0.   │                │ 0.8    0.    -0.6   -0.   │\n",
            "      │ 0.     0.436 -0.    -0.9  │              │ 0.     0.436 -0.    -0.9  │                │ 0.     0.436 -0.    -0.9  │\n",
            "      └                           ┘              └                           ┘                └                           ┘\n",
            "      │                                          │                                            │\n",
            "1: ───#2─────────────────────────────────────────#2───────────────────────────────────────────#2──────────────────────────────\n",
            "Cirq ile elde edilen M (unnormalized):\n",
            " [[0.69834944-0.5795555j  0.        +0.j        ]\n",
            " [0.        +0.j         0.47476766-0.86933324j]]\n"
          ]
        },
        {
          "output_type": "error",
          "ename": "NameError",
          "evalue": "name 'n' is not defined",
          "traceback": [
            "\u001b[0;31m---------------------------------------------------------------------------\u001b[0m",
            "\u001b[0;31mNameError\u001b[0m                                 Traceback (most recent call last)",
            "\u001b[0;32m/tmp/ipython-input-1474709382.py\u001b[0m in \u001b[0;36m<cell line: 0>\u001b[0;34m()\u001b[0m\n\u001b[1;32m     68\u001b[0m \u001b[0;34m\u001b[0m\u001b[0m\n\u001b[1;32m     69\u001b[0m \u001b[0;31m# Klasik referans f(A)=A^2 örnek\u001b[0m\u001b[0;34m\u001b[0m\u001b[0;34m\u001b[0m\u001b[0m\n\u001b[0;32m---> 70\u001b[0;31m \u001b[0mfA\u001b[0m \u001b[0;34m=\u001b[0m \u001b[0mn\u001b[0m\u001b[0;34m\u001b[0m\u001b[0;34m\u001b[0m\u001b[0m\n\u001b[0m",
            "\u001b[0;31mNameError\u001b[0m: name 'n' is not defined"
          ]
        }
      ]
    },
    {
      "cell_type": "markdown",
      "source": [
        "QuTiP — Matris tabanlı tam HILBERT örneği (en net gösterim)"
      ],
      "metadata": {
        "id": "Ls0D4fOeQ2d3"
      }
    },
    {
      "cell_type": "code",
      "source": [
        "# qutip_qsvt_toy.py\n",
        "# Gerekli paketler: qutip, numpy, scipy\n",
        "import numpy as np\n",
        "from scipy.linalg import sqrtm\n",
        "from qutip import Qobj, tensor, basis, ket2dm\n",
        "\n",
        "# ---------------------------\n",
        "# 1) Problem: A = diag(s0, s1)\n",
        "# ---------------------------\n",
        "s0 = 0.6\n",
        "s1 = 0.9\n",
        "A = np.diag([s0, s1])\n",
        "I2 = np.eye(2)\n",
        "sqrt_term = sqrtm(I2 - A.dot(A))\n",
        "# 4x4 block unitary\n",
        "U_block = np.block([[A, sqrt_term],\n",
        "                    [sqrt_term, -A]])\n",
        "# doğruluk kontrolü\n",
        "print(\"U_block unitary check (QuTiP):\", np.linalg.norm(U_block.conj().T @ U_block - np.eye(4)))\n",
        "\n",
        "# Qobj formuna çevir\n",
        "U_q = Qobj(U_block)\n",
        "\n",
        "# ---------------------------\n",
        "# 2) QSVT alternation sequence\n",
        "# ---------------------------\n",
        "phi_list = [np.pi/2, np.pi/3]\n",
        "\n",
        "# Rz(φ) on ancilla as Qobj\n",
        "def Rz_qobj(phi):\n",
        "    Rz = np.array([[np.exp(-1j*phi/2), 0],\n",
        "                   [0, np.exp(1j*phi/2)]], dtype=complex)\n",
        "    return Qobj(Rz)\n",
        "\n",
        "# full Rz on ancilla = Rz ⊗ I_sys\n",
        "Rz1_full = tensor(Rz_qobj(phi_list[0]), Qobj(np.eye(2)))\n",
        "Rz2_full = tensor(Rz_qobj(phi_list[1]), Qobj(np.eye(2)))\n",
        "\n",
        "# U and U† as Qobj act on ancilla⊗sys subspace\n",
        "U_qobj = Qobj(U_block)\n",
        "U_dag_qobj = U_qobj.dag()\n",
        "\n",
        "# Compose full sequence U_seq = U * Rz1 * U† * Rz2 * U\n",
        "U_seq = U_qobj * Rz1_full * U_dag_qobj * Rz2_full * U_qobj\n",
        "\n",
        "# ---------------------------\n",
        "# 3) Elde edilen M matrisini çıkart (ancilla=|0> projeksiyonu sonrası)\n",
        "# ---------------------------\n",
        "# başlangıç vektörleri sistem için |0>, |1>\n",
        "zero = basis(2,0)\n",
        "one  = basis(2,1)\n",
        "M = np.zeros((2,2), dtype=complex)\n",
        "for j, psi_sys in enumerate([zero, one]):\n",
        "    psi_in = tensor(basis(2,0), psi_sys)  # ancilla |0> ⊗ system |psi_sys>\n",
        "    out = U_seq * psi_in\n",
        "    # ancilla=|0> durumunun komponentleri: projeyle al\n",
        "    P0 = tensor(basis(2,0)*basis(2,0).dag(), Qobj(np.eye(2)))\n",
        "    out0 = P0 * out\n",
        "    # sistem durumunu al (ancilla=0 için full vector entry 0..1)\n",
        "    # rep: out.full() gives 4 amplitude vector; ancilla=0 components are indices 0,1\n",
        "    amp = out.full().flatten()\n",
        "    sys_vec = np.array([amp[0,0], amp[1,0]])\n",
        "    M[:, j] = sys_vec\n",
        "\n",
        "print(\"QuTiP ile M (unnormalized):\\n\", M)\n",
        "\n",
        "# Klasik referans f(A) örnek (f(x)=x^2)\n",
        "fA = np.diag([s0**2, s1**2])\n",
        "print(\"Klasik f(A) (örnek f(x)=x^2):\\n\", fA)\n",
        "\n",
        "# Postselection olasılığı (ör: başlangıç |ψ> = |0> superpozisyonu ile)\n",
        "psi_in = tensor(basis(2,0), basis(2,0))\n",
        "out_global = U_seq * psi_in\n",
        "rho = ket2dm(out_global)\n",
        "P_anc1 = tensor(Qobj(np.eye(2)), basis(2,1)*basis(2,1).dag())\n",
        "prob_anc1 = (P_anc1 * rho).tr().real\n",
        "print(\"Örnek: ancilla=|1> prob (örnek) =\", prob_anc1)\n",
        "\n",
        "print(\"\\nNot: QuTiP örneği tüm adımları matris tabanlı olarak gösterir ve postselect ile M'yi çıkarır.\")\n"
      ],
      "metadata": {
        "colab": {
          "base_uri": "https://localhost:8080/",
          "height": 374
        },
        "id": "2qlQRFv_Q2ii",
        "outputId": "029a22d3-ec4b-49c8-f0ea-7e665824c427"
      },
      "execution_count": 8,
      "outputs": [
        {
          "output_type": "stream",
          "name": "stdout",
          "text": [
            "U_block unitary check (QuTiP): 4.3403273643888066e-17\n"
          ]
        },
        {
          "output_type": "error",
          "ename": "TypeError",
          "evalue": "incompatible dimensions [[4], [4]] and [[2, 2], [2, 2]]",
          "traceback": [
            "\u001b[0;31m---------------------------------------------------------------------------\u001b[0m",
            "\u001b[0;31mTypeError\u001b[0m                                 Traceback (most recent call last)",
            "\u001b[0;32m/tmp/ipython-input-644731025.py\u001b[0m in \u001b[0;36m<cell line: 0>\u001b[0;34m()\u001b[0m\n\u001b[1;32m     42\u001b[0m \u001b[0;34m\u001b[0m\u001b[0m\n\u001b[1;32m     43\u001b[0m \u001b[0;31m# Compose full sequence U_seq = U * Rz1 * U† * Rz2 * U\u001b[0m\u001b[0;34m\u001b[0m\u001b[0;34m\u001b[0m\u001b[0m\n\u001b[0;32m---> 44\u001b[0;31m \u001b[0mU_seq\u001b[0m \u001b[0;34m=\u001b[0m \u001b[0mU_qobj\u001b[0m \u001b[0;34m*\u001b[0m \u001b[0mRz1_full\u001b[0m \u001b[0;34m*\u001b[0m \u001b[0mU_dag_qobj\u001b[0m \u001b[0;34m*\u001b[0m \u001b[0mRz2_full\u001b[0m \u001b[0;34m*\u001b[0m \u001b[0mU_qobj\u001b[0m\u001b[0;34m\u001b[0m\u001b[0;34m\u001b[0m\u001b[0m\n\u001b[0m\u001b[1;32m     45\u001b[0m \u001b[0;34m\u001b[0m\u001b[0m\n\u001b[1;32m     46\u001b[0m \u001b[0;31m# ---------------------------\u001b[0m\u001b[0;34m\u001b[0m\u001b[0;34m\u001b[0m\u001b[0m\n",
            "\u001b[0;32m/usr/local/lib/python3.12/dist-packages/qutip/core/qobj.py\u001b[0m in \u001b[0;36m__mul__\u001b[0;34m(self, other)\u001b[0m\n\u001b[1;32m    422\u001b[0m \u001b[0;34m\u001b[0m\u001b[0m\n\u001b[1;32m    423\u001b[0m         \u001b[0;32mif\u001b[0m \u001b[0misinstance\u001b[0m\u001b[0;34m(\u001b[0m\u001b[0mother\u001b[0m\u001b[0;34m,\u001b[0m \u001b[0mQobj\u001b[0m\u001b[0;34m)\u001b[0m\u001b[0;34m:\u001b[0m\u001b[0;34m\u001b[0m\u001b[0;34m\u001b[0m\u001b[0m\n\u001b[0;32m--> 424\u001b[0;31m             \u001b[0;32mreturn\u001b[0m \u001b[0mself\u001b[0m\u001b[0;34m.\u001b[0m\u001b[0m__matmul__\u001b[0m\u001b[0;34m(\u001b[0m\u001b[0mother\u001b[0m\u001b[0;34m)\u001b[0m\u001b[0;34m\u001b[0m\u001b[0;34m\u001b[0m\u001b[0m\n\u001b[0m\u001b[1;32m    425\u001b[0m \u001b[0;34m\u001b[0m\u001b[0m\n\u001b[1;32m    426\u001b[0m         \u001b[0;31m# We send other to mul instead of complex(other) to be more flexible.\u001b[0m\u001b[0;34m\u001b[0m\u001b[0;34m\u001b[0m\u001b[0m\n",
            "\u001b[0;32m/usr/local/lib/python3.12/dist-packages/qutip/core/qobj.py\u001b[0m in \u001b[0;36m__matmul__\u001b[0;34m(self, other)\u001b[0m\n\u001b[1;32m    459\u001b[0m             \u001b[0;32mexcept\u001b[0m \u001b[0mTypeError\u001b[0m\u001b[0;34m:\u001b[0m\u001b[0;34m\u001b[0m\u001b[0;34m\u001b[0m\u001b[0m\n\u001b[1;32m    460\u001b[0m                 \u001b[0;32mreturn\u001b[0m \u001b[0mNotImplemented\u001b[0m\u001b[0;34m\u001b[0m\u001b[0;34m\u001b[0m\u001b[0m\n\u001b[0;32m--> 461\u001b[0;31m         \u001b[0mnew_dims\u001b[0m \u001b[0;34m=\u001b[0m \u001b[0mself\u001b[0m\u001b[0;34m.\u001b[0m\u001b[0m_dims\u001b[0m \u001b[0;34m@\u001b[0m \u001b[0mother\u001b[0m\u001b[0;34m.\u001b[0m\u001b[0m_dims\u001b[0m\u001b[0;34m\u001b[0m\u001b[0;34m\u001b[0m\u001b[0m\n\u001b[0m\u001b[1;32m    462\u001b[0m         \u001b[0;32mif\u001b[0m \u001b[0mnew_dims\u001b[0m\u001b[0;34m.\u001b[0m\u001b[0mtype\u001b[0m \u001b[0;34m==\u001b[0m \u001b[0;34m'scalar'\u001b[0m\u001b[0;34m:\u001b[0m\u001b[0;34m\u001b[0m\u001b[0;34m\u001b[0m\u001b[0m\n\u001b[1;32m    463\u001b[0m             \u001b[0;32mreturn\u001b[0m \u001b[0m_data\u001b[0m\u001b[0;34m.\u001b[0m\u001b[0minner\u001b[0m\u001b[0;34m(\u001b[0m\u001b[0mself\u001b[0m\u001b[0;34m.\u001b[0m\u001b[0m_data\u001b[0m\u001b[0;34m,\u001b[0m \u001b[0mother\u001b[0m\u001b[0;34m.\u001b[0m\u001b[0m_data\u001b[0m\u001b[0;34m)\u001b[0m\u001b[0;34m\u001b[0m\u001b[0;34m\u001b[0m\u001b[0m\n",
            "\u001b[0;32m/usr/local/lib/python3.12/dist-packages/qutip/core/dimensions.py\u001b[0m in \u001b[0;36m__matmul__\u001b[0;34m(self, other)\u001b[0m\n\u001b[1;32m    798\u001b[0m     \u001b[0;32mdef\u001b[0m \u001b[0m__matmul__\u001b[0m\u001b[0;34m(\u001b[0m\u001b[0mself\u001b[0m\u001b[0;34m,\u001b[0m \u001b[0mother\u001b[0m\u001b[0;34m:\u001b[0m \u001b[0;34m\"Dimensions\"\u001b[0m\u001b[0;34m)\u001b[0m \u001b[0;34m->\u001b[0m \u001b[0;34m\"Dimensions\"\u001b[0m\u001b[0;34m:\u001b[0m\u001b[0;34m\u001b[0m\u001b[0;34m\u001b[0m\u001b[0m\n\u001b[1;32m    799\u001b[0m         \u001b[0;32mif\u001b[0m \u001b[0mself\u001b[0m\u001b[0;34m.\u001b[0m\u001b[0mfrom_\u001b[0m \u001b[0;34m!=\u001b[0m \u001b[0mother\u001b[0m\u001b[0;34m.\u001b[0m\u001b[0mto_\u001b[0m\u001b[0;34m:\u001b[0m\u001b[0;34m\u001b[0m\u001b[0;34m\u001b[0m\u001b[0m\n\u001b[0;32m--> 800\u001b[0;31m             \u001b[0;32mraise\u001b[0m \u001b[0mTypeError\u001b[0m\u001b[0;34m(\u001b[0m\u001b[0;34mf\"incompatible dimensions {self} and {other}\"\u001b[0m\u001b[0;34m)\u001b[0m\u001b[0;34m\u001b[0m\u001b[0;34m\u001b[0m\u001b[0m\n\u001b[0m\u001b[1;32m    801\u001b[0m         \u001b[0margs\u001b[0m \u001b[0;34m=\u001b[0m \u001b[0mother\u001b[0m\u001b[0;34m.\u001b[0m\u001b[0mfrom_\u001b[0m\u001b[0;34m,\u001b[0m \u001b[0mself\u001b[0m\u001b[0;34m.\u001b[0m\u001b[0mto_\u001b[0m\u001b[0;34m\u001b[0m\u001b[0;34m\u001b[0m\u001b[0m\n\u001b[1;32m    802\u001b[0m         \u001b[0;32mif\u001b[0m \u001b[0margs\u001b[0m \u001b[0;32min\u001b[0m \u001b[0mDimensions\u001b[0m\u001b[0;34m.\u001b[0m\u001b[0m_stored_dims\u001b[0m\u001b[0;34m:\u001b[0m\u001b[0;34m\u001b[0m\u001b[0;34m\u001b[0m\u001b[0m\n",
            "\u001b[0;31mTypeError\u001b[0m: incompatible dimensions [[4], [4]] and [[2, 2], [2, 2]]"
          ]
        }
      ]
    },
    {
      "cell_type": "code",
      "execution_count": null,
      "metadata": {
        "id": "w_RBTIHRQsbw"
      },
      "outputs": [],
      "source": []
    },
    {
      "cell_type": "markdown",
      "source": [
        "QUANTUM PRINCIPAL COMPONENT ANALYSİS\n",
        "(QPCA)"
      ],
      "metadata": {
        "id": "uujPNKIKGDJ2"
      }
    },
    {
      "cell_type": "markdown",
      "source": [
        "QPCA — Cirq ile Uygulama"
      ],
      "metadata": {
        "id": "InQmevRuGDPp"
      }
    },
    {
      "cell_type": "code",
      "source": [
        "import cirq\n",
        "import numpy as np\n",
        "\n",
        "# --- 1. Kübitlerin tanımlanması ---\n",
        "qubits = [cirq.NamedQubit(\"q0\"), cirq.NamedQubit(\"q1\")]\n",
        "\n",
        "# --- 2. Veri kümesinden türetilmiş örnek yoğunluk matrisi ---\n",
        "rho = np.array([[0.7, 0.3],\n",
        "                [0.3, 0.3]])\n",
        "\n",
        "# --- 3. Yoğunluk matrisinin özdeğer ve özvektör ayrışımı ---\n",
        "eigvals, eigvecs = np.linalg.eigh(rho)\n",
        "\n",
        "print(\"Özdeğerler:\", eigvals)\n",
        "print(\"Özvektörler:\\n\", eigvecs)\n",
        "\n",
        "# --- 4. En büyük özdeğere karşılık gelen özvektör seçilir ---\n",
        "principal_component = eigvecs[:, np.argmax(eigvals)]\n",
        "\n",
        "# --- 5. Bu vektörü kuantum durumuna dönüştür ---\n",
        "norm_state = principal_component / np.linalg.norm(principal_component)\n",
        "qc = cirq.Circuit()\n",
        "qc.append(cirq.StatePreparationChannel(norm_state).on(qubits[0]))\n",
        "\n",
        "print(\"\\n--- QPCA CIRCUIT ---\")\n",
        "print(qc)\n",
        "\n",
        "# --- 6. Simülasyon ---\n",
        "sim = cirq.Simulator()\n",
        "result = sim.simulate(qc)\n",
        "print(\"\\nÇıktı durumu:\", np.round(result.final_state_vector, 3))\n"
      ],
      "metadata": {
        "colab": {
          "base_uri": "https://localhost:8080/"
        },
        "id": "x_a0NF1VGDdU",
        "outputId": "7ee2ae4a-a2d8-4719-cb67-f7abe49c5834"
      },
      "execution_count": 9,
      "outputs": [
        {
          "output_type": "stream",
          "name": "stdout",
          "text": [
            "Özdeğerler: [0.13944487 0.86055513]\n",
            "Özvektörler:\n",
            " [[ 0.47185793 -0.8816746 ]\n",
            " [-0.8816746  -0.47185793]]\n",
            "\n",
            "--- QPCA CIRCUIT ---\n",
            "q0: ───StatePreparation───\n",
            "\n",
            "Çıktı durumu: [-0.882+0.j -0.472+0.j]\n"
          ]
        }
      ]
    },
    {
      "cell_type": "markdown",
      "source": [
        "2. QPCA — Qiskit ile Uygulama"
      ],
      "metadata": {
        "id": "MuxFJsoBGDkE"
      }
    },
    {
      "cell_type": "code",
      "source": [
        "from qiskit import QuantumCircuit, Aer, transpile, assemble\n",
        "from qiskit.quantum_info import DensityMatrix\n",
        "import numpy as np\n",
        "\n",
        "# --- 1. Kovaryans matrisi örneği ---\n",
        "rho = np.array([[0.6, 0.4],\n",
        "                [0.4, 0.4]])\n",
        "\n",
        "# --- 2. Yoğunluk matrisi oluşturma ---\n",
        "dm = DensityMatrix(rho)\n",
        "eigvals, eigvecs = np.linalg.eigh(rho)\n",
        "\n",
        "print(\"Özdeğerler:\", eigvals)\n",
        "print(\"Özvektörler:\\n\", eigvecs)\n",
        "\n",
        "# --- 3. En büyük özdeğere karşılık gelen özvektör seçimi ---\n",
        "principal = eigvecs[:, np.argmax(eigvals)]\n",
        "\n",
        "# --- 4. Kuantum devresi oluştur ---\n",
        "qc = QuantumCircuit(1)\n",
        "qc.initialize(principal, [0])\n",
        "\n",
        "print(\"\\n--- QPCA QISKIT DEVRESİ ---\")\n",
        "print(qc)\n",
        "\n",
        "# --- 5. Simülasyon ---\n",
        "backend = Aer.get_backend('statevector_simulator')\n",
        "tqc = transpile(qc, backend)\n",
        "qobj = assemble(tqc)\n",
        "result = backend.run(qobj).result()\n",
        "state = result.get_statevector()\n",
        "print(\"\\nÇıktı Durumu:\", np.round(state, 3))\n"
      ],
      "metadata": {
        "colab": {
          "base_uri": "https://localhost:8080/",
          "height": 384
        },
        "id": "FlX9QQaHGDpR",
        "outputId": "05165ec4-462b-4be5-a043-9c9658ba21cb"
      },
      "execution_count": 10,
      "outputs": [
        {
          "output_type": "error",
          "ename": "ImportError",
          "evalue": "cannot import name 'Aer' from 'qiskit' (/usr/local/lib/python3.12/dist-packages/qiskit/__init__.py)",
          "traceback": [
            "\u001b[0;31m---------------------------------------------------------------------------\u001b[0m",
            "\u001b[0;31mImportError\u001b[0m                               Traceback (most recent call last)",
            "\u001b[0;32m/tmp/ipython-input-2691945060.py\u001b[0m in \u001b[0;36m<cell line: 0>\u001b[0;34m()\u001b[0m\n\u001b[0;32m----> 1\u001b[0;31m \u001b[0;32mfrom\u001b[0m \u001b[0mqiskit\u001b[0m \u001b[0;32mimport\u001b[0m \u001b[0mQuantumCircuit\u001b[0m\u001b[0;34m,\u001b[0m \u001b[0mAer\u001b[0m\u001b[0;34m,\u001b[0m \u001b[0mtranspile\u001b[0m\u001b[0;34m,\u001b[0m \u001b[0massemble\u001b[0m\u001b[0;34m\u001b[0m\u001b[0;34m\u001b[0m\u001b[0m\n\u001b[0m\u001b[1;32m      2\u001b[0m \u001b[0;32mfrom\u001b[0m \u001b[0mqiskit\u001b[0m\u001b[0;34m.\u001b[0m\u001b[0mquantum_info\u001b[0m \u001b[0;32mimport\u001b[0m \u001b[0mDensityMatrix\u001b[0m\u001b[0;34m\u001b[0m\u001b[0;34m\u001b[0m\u001b[0m\n\u001b[1;32m      3\u001b[0m \u001b[0;32mimport\u001b[0m \u001b[0mnumpy\u001b[0m \u001b[0;32mas\u001b[0m \u001b[0mnp\u001b[0m\u001b[0;34m\u001b[0m\u001b[0;34m\u001b[0m\u001b[0m\n\u001b[1;32m      4\u001b[0m \u001b[0;34m\u001b[0m\u001b[0m\n\u001b[1;32m      5\u001b[0m \u001b[0;31m# --- 1. Kovaryans matrisi örneği ---\u001b[0m\u001b[0;34m\u001b[0m\u001b[0;34m\u001b[0m\u001b[0m\n",
            "\u001b[0;31mImportError\u001b[0m: cannot import name 'Aer' from 'qiskit' (/usr/local/lib/python3.12/dist-packages/qiskit/__init__.py)",
            "",
            "\u001b[0;31m---------------------------------------------------------------------------\u001b[0;32m\nNOTE: If your import is failing due to a missing package, you can\nmanually install dependencies using either !pip or !apt.\n\nTo view examples of installing some common dependencies, click the\n\"Open Examples\" button below.\n\u001b[0;31m---------------------------------------------------------------------------\u001b[0m\n"
          ],
          "errorDetails": {
            "actions": [
              {
                "action": "open_url",
                "actionText": "Open Examples",
                "url": "/notebooks/snippets/importing_libraries.ipynb"
              }
            ]
          }
        }
      ]
    },
    {
      "cell_type": "markdown",
      "source": [
        "3. QPCA — QuTiP ile Uygulama"
      ],
      "metadata": {
        "id": "jBcYHKp3GDuh"
      }
    },
    {
      "cell_type": "code",
      "source": [
        "from qutip import Qobj, ket2dm, basis\n",
        "import numpy as np\n",
        "\n",
        "# --- 1. Kovaryans matrisini (yoğunluk matrisi olarak) tanımla ---\n",
        "rho_matrix = np.array([[0.6, 0.4],\n",
        "                       [0.4, 0.4]])\n",
        "\n",
        "rho = Qobj(rho_matrix)\n",
        "\n",
        "# --- 2. Özdeğer ve özvektör analizi ---\n",
        "eigvals, eigvecs = rho.eigenstates()\n",
        "\n",
        "print(\"Özdeğerler:\", [v for v in eigvals])\n",
        "\n",
        "# --- 3. En büyük özdeğere sahip bileşen seçilir ---\n",
        "principal_component = eigvecs[0]  # En büyük özdeğer sıralamada ilk sırada\n",
        "\n",
        "# --- 4. Çıktı durumunu (principal component) yazdır ---\n",
        "print(\"\\nAna Bileşen (kuantum durumu):\")\n",
        "print(principal_component)\n",
        "\n",
        "# --- 5. Yoğunluk matrisi biçiminde gösterim ---\n",
        "rho_reduced = ket2dm(principal_component)\n",
        "print(\"\\nAzaltılmış yoğunluk matrisi:\")\n",
        "print(rho_reduced)\n"
      ],
      "metadata": {
        "colab": {
          "base_uri": "https://localhost:8080/"
        },
        "id": "wqOVj6ieGDzc",
        "outputId": "dce56c30-481e-4aaa-dfb1-15b2f6918bc8"
      },
      "execution_count": 11,
      "outputs": [
        {
          "output_type": "stream",
          "name": "stdout",
          "text": [
            "Özdeğerler: [np.float64(0.08768943743823393), np.float64(0.912310562561766)]\n",
            "\n",
            "Ana Bileşen (kuantum durumu):\n",
            "Quantum object: dims=[[2], [1]], shape=(2, 1), type='ket', dtype=Dense\n",
            "Qobj data =\n",
            "[[ 0.61541221]\n",
            " [-0.78820544]]\n",
            "\n",
            "Azaltılmış yoğunluk matrisi:\n",
            "Quantum object: dims=[[2], [2]], shape=(2, 2), type='oper', dtype=Dense, isherm=True\n",
            "Qobj data =\n",
            "[[ 0.37873219 -0.48507125]\n",
            " [-0.48507125  0.62126781]]\n"
          ]
        }
      ]
    },
    {
      "cell_type": "markdown",
      "source": [
        "QUANTUM LINEAR SYSTEMS ALGORİTHM(QLSA)"
      ],
      "metadata": {
        "id": "acck30vsGECf"
      }
    },
    {
      "cell_type": "markdown",
      "source": [
        "1. QLSA — Qiskit ile (HHL benzeri)"
      ],
      "metadata": {
        "id": "nFV9A-ZvGEGT"
      }
    },
    {
      "cell_type": "code",
      "source": [
        "from qiskit import Aer, transpile, assemble\n",
        "from qiskit.circuit.library import HHL\n",
        "from qiskit.quantum_info import Statevector\n",
        "import numpy as np\n",
        "\n",
        "# --- 1. Lineer sistem tanımı ---\n",
        "# A * x = b\n",
        "# A 2x2 Hermitian matris, b normalize edilmiş vektör\n",
        "A = np.array([[1, 1/2],\n",
        "              [1/2, 1]])\n",
        "b = np.array([1, 0])\n",
        "b = b / np.linalg.norm(b)  # normalize\n",
        "\n",
        "# --- 2. Qiskit'in hazır HHL devresini oluştur ---\n",
        "num_qubits = 2\n",
        "hhl = HHL()\n",
        "circuit = hhl.construct_circuit(matrix=A, vector=b)\n",
        "\n",
        "print(\"\\n--- QLSA (HHL) Qiskit Devresi ---\")\n",
        "print(circuit.draw())\n",
        "\n",
        "# --- 3. Simülasyon ---\n",
        "backend = Aer.get_backend(\"statevector_simulator\")\n",
        "tqc = transpile(circuit, backend)\n",
        "qobj = assemble(tqc)\n",
        "result = backend.run(qobj).result()\n",
        "state = result.get_statevector()\n",
        "\n",
        "print(\"\\nÇözümün kuantum temsili (|x>):\")\n",
        "print(np.round(state, 3))\n"
      ],
      "metadata": {
        "colab": {
          "base_uri": "https://localhost:8080/",
          "height": 384
        },
        "id": "DyDDgWnzGEUD",
        "outputId": "fa647465-38ac-4441-80af-b1dff1ba707b"
      },
      "execution_count": 12,
      "outputs": [
        {
          "output_type": "error",
          "ename": "ImportError",
          "evalue": "cannot import name 'Aer' from 'qiskit' (/usr/local/lib/python3.12/dist-packages/qiskit/__init__.py)",
          "traceback": [
            "\u001b[0;31m---------------------------------------------------------------------------\u001b[0m",
            "\u001b[0;31mImportError\u001b[0m                               Traceback (most recent call last)",
            "\u001b[0;32m/tmp/ipython-input-1435541377.py\u001b[0m in \u001b[0;36m<cell line: 0>\u001b[0;34m()\u001b[0m\n\u001b[0;32m----> 1\u001b[0;31m \u001b[0;32mfrom\u001b[0m \u001b[0mqiskit\u001b[0m \u001b[0;32mimport\u001b[0m \u001b[0mAer\u001b[0m\u001b[0;34m,\u001b[0m \u001b[0mtranspile\u001b[0m\u001b[0;34m,\u001b[0m \u001b[0massemble\u001b[0m\u001b[0;34m\u001b[0m\u001b[0;34m\u001b[0m\u001b[0m\n\u001b[0m\u001b[1;32m      2\u001b[0m \u001b[0;32mfrom\u001b[0m \u001b[0mqiskit\u001b[0m\u001b[0;34m.\u001b[0m\u001b[0mcircuit\u001b[0m\u001b[0;34m.\u001b[0m\u001b[0mlibrary\u001b[0m \u001b[0;32mimport\u001b[0m \u001b[0mHHL\u001b[0m\u001b[0;34m\u001b[0m\u001b[0;34m\u001b[0m\u001b[0m\n\u001b[1;32m      3\u001b[0m \u001b[0;32mfrom\u001b[0m \u001b[0mqiskit\u001b[0m\u001b[0;34m.\u001b[0m\u001b[0mquantum_info\u001b[0m \u001b[0;32mimport\u001b[0m \u001b[0mStatevector\u001b[0m\u001b[0;34m\u001b[0m\u001b[0;34m\u001b[0m\u001b[0m\n\u001b[1;32m      4\u001b[0m \u001b[0;32mimport\u001b[0m \u001b[0mnumpy\u001b[0m \u001b[0;32mas\u001b[0m \u001b[0mnp\u001b[0m\u001b[0;34m\u001b[0m\u001b[0;34m\u001b[0m\u001b[0m\n\u001b[1;32m      5\u001b[0m \u001b[0;34m\u001b[0m\u001b[0m\n",
            "\u001b[0;31mImportError\u001b[0m: cannot import name 'Aer' from 'qiskit' (/usr/local/lib/python3.12/dist-packages/qiskit/__init__.py)",
            "",
            "\u001b[0;31m---------------------------------------------------------------------------\u001b[0;32m\nNOTE: If your import is failing due to a missing package, you can\nmanually install dependencies using either !pip or !apt.\n\nTo view examples of installing some common dependencies, click the\n\"Open Examples\" button below.\n\u001b[0;31m---------------------------------------------------------------------------\u001b[0m\n"
          ],
          "errorDetails": {
            "actions": [
              {
                "action": "open_url",
                "actionText": "Open Examples",
                "url": "/notebooks/snippets/importing_libraries.ipynb"
              }
            ]
          }
        }
      ]
    },
    {
      "cell_type": "markdown",
      "source": [
        "QLSA — Cirq ile Temel Uygulama"
      ],
      "metadata": {
        "id": "uPxO1KuzGEad"
      }
    },
    {
      "cell_type": "code",
      "source": [
        "import cirq\n",
        "import numpy as np\n",
        "\n",
        "# --- 1. Kübitleri tanımla ---\n",
        "q0, q1, ancilla = cirq.LineQubit.range(3)\n",
        "\n",
        "# --- 2. Basit bir sistem: A * x = b ---\n",
        "A = np.array([[1, 0.5], [0.5, 1]])\n",
        "b = np.array([1, 0])\n",
        "b = b / np.linalg.norm(b)\n",
        "\n",
        "# --- 3. |b> durumunu hazırla ---\n",
        "prep = cirq.Circuit(cirq.StatePreparationChannel(b).on(q0))\n",
        "\n",
        "# --- 4. QPE ve kontrollü rotasyon adımlarını basitleştirilmiş şekilde temsil et ---\n",
        "# (Gerçek HHL kadar ayrıntılı değil; konsepti gösterir)\n",
        "circuit = cirq.Circuit()\n",
        "circuit.append(prep)\n",
        "circuit.append(cirq.H(ancilla))\n",
        "circuit.append(cirq.CNOT(q0, ancilla))\n",
        "circuit.append(cirq.H(ancilla))\n",
        "circuit.append(cirq.measure(ancilla, key='ancilla'))\n",
        "\n",
        "print(\"\\n--- QLSA (HHL Basitleştirilmiş) Cirq Devresi ---\")\n",
        "print(circuit)\n",
        "\n",
        "# --- 5. Simülasyon ---\n",
        "sim = cirq.Simulator()\n",
        "result = sim.simulate(circuit)\n",
        "print(\"\\nFinal durum vektörü:\", np.round(result.final_state_vector, 3))\n"
      ],
      "metadata": {
        "colab": {
          "base_uri": "https://localhost:8080/"
        },
        "id": "O4Ww6eYGGEgK",
        "outputId": "940a95b3-702a-470a-94f1-35278e16468b"
      },
      "execution_count": 13,
      "outputs": [
        {
          "output_type": "stream",
          "name": "stdout",
          "text": [
            "\n",
            "--- QLSA (HHL Basitleştirilmiş) Cirq Devresi ---\n",
            "0: ───StatePreparation───@──────────────────────\n",
            "                         │\n",
            "2: ───H──────────────────X───H───M('ancilla')───\n",
            "\n",
            "Final durum vektörü: [1.+0.j 0.+0.j 0.+0.j 0.+0.j]\n"
          ]
        }
      ]
    },
    {
      "cell_type": "markdown",
      "source": [
        "QLSA — QuTiP ile Doğrudan Çözümleme"
      ],
      "metadata": {
        "id": "dmPTYaztGElV"
      }
    },
    {
      "cell_type": "code",
      "source": [
        "from qutip import Qobj, ket2dm, basis\n",
        "import numpy as np\n",
        "\n",
        "# --- 1. Lineer sistem tanımı ---\n",
        "A = np.array([[1, 0.5],\n",
        "              [0.5, 1]])\n",
        "b = np.array([1, 0])\n",
        "b = b / np.linalg.norm(b)\n",
        "\n",
        "# --- 2. Klasik çözümü kuantum biçimde göster ---\n",
        "x = np.linalg.solve(A, b)\n",
        "x = x / np.linalg.norm(x)\n",
        "\n",
        "# --- 3. Kuantum durumu oluştur ---\n",
        "x_ket = Qobj(x).unit()\n",
        "rho_x = ket2dm(x_ket)\n",
        "\n",
        "print(\"\\n--- QLSA (QuTiP) ---\")\n",
        "print(\"Kuantum durumu |x> =\\n\", x_ket)\n",
        "print(\"\\nYoğunluk matrisi:\\n\", rho_x)\n",
        "\n",
        "# --- 4. A'nın operatör formu ---\n",
        "A_qobj = Qobj(A)\n",
        "# --- 5. Doğrulama: A|x> ≈ |b> ? ---\n",
        "b_pred = A_qobj * x_ket\n",
        "print(\"\\nA|x> sonucu (yaklaşık |b>):\\n\", b_pred)\n"
      ],
      "metadata": {
        "colab": {
          "base_uri": "https://localhost:8080/"
        },
        "id": "g1ls8YE9GEqU",
        "outputId": "7f2f20be-070b-40eb-bcfd-98de80070d98"
      },
      "execution_count": 14,
      "outputs": [
        {
          "output_type": "stream",
          "name": "stdout",
          "text": [
            "\n",
            "--- QLSA (QuTiP) ---\n",
            "Kuantum durumu |x> =\n",
            " Quantum object: dims=[[2], [1]], shape=(2, 1), type='ket', dtype=Dense\n",
            "Qobj data =\n",
            "[[ 0.89442719]\n",
            " [-0.4472136 ]]\n",
            "\n",
            "Yoğunluk matrisi:\n",
            " Quantum object: dims=[[2], [2]], shape=(2, 2), type='oper', dtype=Dense, isherm=True\n",
            "Qobj data =\n",
            "[[ 0.8 -0.4]\n",
            " [-0.4  0.2]]\n",
            "\n",
            "A|x> sonucu (yaklaşık |b>):\n",
            " Quantum object: dims=[[2], [1]], shape=(2, 1), type='ket', dtype=Dense\n",
            "Qobj data =\n",
            "[[0.67082039]\n",
            " [0.        ]]\n"
          ]
        }
      ]
    },
    {
      "cell_type": "markdown",
      "source": [
        "HHL Yaklaşımı"
      ],
      "metadata": {
        "id": "Wm_asbTeHSkW"
      }
    },
    {
      "cell_type": "markdown",
      "source": [
        "QuTiP ile HHL (QLSA) Basit Örneği"
      ],
      "metadata": {
        "id": "LbayJRtRHSri"
      }
    },
    {
      "cell_type": "code",
      "source": [
        "import numpy as np\n",
        "from qutip import tensor, qeye, basis, Qobj, cnot, rx, ry, rz, qeye\n",
        "\n",
        "# 1. Adım: Sistemin Tanımı\n",
        "# A * x = b\n",
        "A = np.array([[1, 0.5],\n",
        "              [0.5, 1]])\n",
        "b = np.array([1, 0])\n",
        "\n",
        "# |b> durumunu normalize et\n",
        "b_norm = b / np.linalg.norm(b)\n",
        "ket_b = Qobj(b_norm)\n",
        "\n",
        "# 2. Adım: A matrisinin özdeğerlerini ve özvektörlerini bul\n",
        "eigvals, eigvecs = np.linalg.eigh(A)\n",
        "\n",
        "# Özdeğerleri ve özvektörleri kuantum temsiline dönüştür\n",
        "U = Qobj(eigvecs)\n",
        "Lambda = np.diag(eigvals)\n",
        "\n",
        "# 3. Adım: Quantum Phase Estimation (QPE) benzetimi\n",
        "# Burada QPE işlemini doğrudan simüle ediyoruz\n",
        "lambda_inv = np.diag(1 / eigvals)\n",
        "A_inv = eigvecs @ lambda_inv @ eigvecs.T\n",
        "\n",
        "# 4. Adım: Kuantum durumda çözümü elde et\n",
        "x_quantum = Qobj(A_inv @ b_norm)\n",
        "x_quantum = x_quantum.unit()  # normalize et\n",
        "\n",
        "print(\"A:\")\n",
        "print(A)\n",
        "print(\"\\n|b> =\", b_norm)\n",
        "print(\"\\nA^-1 * |b> (|x>):\")\n",
        "print(x_quantum.full())\n",
        "\n",
        "# 5. Adım: Ölçüm simülasyonu\n",
        "probabilities = np.abs(x_quantum.full())**2\n",
        "print(\"\\nÖlçüm olasılıkları:\")\n",
        "print(probabilities)\n"
      ],
      "metadata": {
        "colab": {
          "base_uri": "https://localhost:8080/",
          "height": 384
        },
        "id": "1Dz7D-L9HS6H",
        "outputId": "8b1cdfa5-ad6a-420e-ed9c-d5216901f62a"
      },
      "execution_count": 15,
      "outputs": [
        {
          "output_type": "error",
          "ename": "ImportError",
          "evalue": "cannot import name 'cnot' from 'qutip' (/usr/local/lib/python3.12/dist-packages/qutip/__init__.py)",
          "traceback": [
            "\u001b[0;31m---------------------------------------------------------------------------\u001b[0m",
            "\u001b[0;31mImportError\u001b[0m                               Traceback (most recent call last)",
            "\u001b[0;32m/tmp/ipython-input-63436469.py\u001b[0m in \u001b[0;36m<cell line: 0>\u001b[0;34m()\u001b[0m\n\u001b[1;32m      1\u001b[0m \u001b[0;32mimport\u001b[0m \u001b[0mnumpy\u001b[0m \u001b[0;32mas\u001b[0m \u001b[0mnp\u001b[0m\u001b[0;34m\u001b[0m\u001b[0;34m\u001b[0m\u001b[0m\n\u001b[0;32m----> 2\u001b[0;31m \u001b[0;32mfrom\u001b[0m \u001b[0mqutip\u001b[0m \u001b[0;32mimport\u001b[0m \u001b[0mtensor\u001b[0m\u001b[0;34m,\u001b[0m \u001b[0mqeye\u001b[0m\u001b[0;34m,\u001b[0m \u001b[0mbasis\u001b[0m\u001b[0;34m,\u001b[0m \u001b[0mQobj\u001b[0m\u001b[0;34m,\u001b[0m \u001b[0mcnot\u001b[0m\u001b[0;34m,\u001b[0m \u001b[0mrx\u001b[0m\u001b[0;34m,\u001b[0m \u001b[0mry\u001b[0m\u001b[0;34m,\u001b[0m \u001b[0mrz\u001b[0m\u001b[0;34m,\u001b[0m \u001b[0mqeye\u001b[0m\u001b[0;34m\u001b[0m\u001b[0;34m\u001b[0m\u001b[0m\n\u001b[0m\u001b[1;32m      3\u001b[0m \u001b[0;34m\u001b[0m\u001b[0m\n\u001b[1;32m      4\u001b[0m \u001b[0;31m# 1. Adım: Sistemin Tanımı\u001b[0m\u001b[0;34m\u001b[0m\u001b[0;34m\u001b[0m\u001b[0m\n\u001b[1;32m      5\u001b[0m \u001b[0;31m# A * x = b\u001b[0m\u001b[0;34m\u001b[0m\u001b[0;34m\u001b[0m\u001b[0m\n",
            "\u001b[0;31mImportError\u001b[0m: cannot import name 'cnot' from 'qutip' (/usr/local/lib/python3.12/dist-packages/qutip/__init__.py)",
            "",
            "\u001b[0;31m---------------------------------------------------------------------------\u001b[0;32m\nNOTE: If your import is failing due to a missing package, you can\nmanually install dependencies using either !pip or !apt.\n\nTo view examples of installing some common dependencies, click the\n\"Open Examples\" button below.\n\u001b[0;31m---------------------------------------------------------------------------\u001b[0m\n"
          ],
          "errorDetails": {
            "actions": [
              {
                "action": "open_url",
                "actionText": "Open Examples",
                "url": "/notebooks/snippets/importing_libraries.ipynb"
              }
            ]
          }
        }
      ]
    },
    {
      "cell_type": "markdown",
      "source": [
        "QuTiP ile Kavramsal HHL Simülasyonu"
      ],
      "metadata": {
        "id": "PytpF4U1HTCi"
      }
    },
    {
      "cell_type": "code",
      "source": [
        "import numpy as np\n",
        "from qutip import Qobj\n",
        "\n",
        "# --- Sistem Tanımı ---\n",
        "A = np.array([[1, 0.5],\n",
        "              [0.5, 1]])\n",
        "b = np.array([1, 0])\n",
        "\n",
        "# |b> durumunu normalize et\n",
        "b_norm = b / np.linalg.norm(b)\n",
        "ket_b = Qobj(b_norm)\n",
        "\n",
        "# --- Özdeğer Ayrışımı ---\n",
        "eigvals, eigvecs = np.linalg.eigh(A)\n",
        "\n",
        "# A^-1 işlemi\n",
        "A_inv = eigvecs @ np.diag(1 / eigvals) @ eigvecs.T\n",
        "\n",
        "# --- Çözüm Durumu ---\n",
        "x_quantum = Qobj(A_inv @ b_norm).unit()\n",
        "\n",
        "print(\"A:\\n\", A)\n",
        "print(\"\\n|b> =\", b_norm)\n",
        "print(\"\\nA^-1 |b> = |x> :\\n\", x_quantum.full())\n",
        "print(\"\\nÖlçüm Olasılıkları:\\n\", np.abs(x_quantum.full())**2)\n"
      ],
      "metadata": {
        "colab": {
          "base_uri": "https://localhost:8080/"
        },
        "id": "kaQT9WeDHTJX",
        "outputId": "54b740de-cf51-45e1-ae09-a724f001d4a1"
      },
      "execution_count": 16,
      "outputs": [
        {
          "output_type": "stream",
          "name": "stdout",
          "text": [
            "A:\n",
            " [[1.  0.5]\n",
            " [0.5 1. ]]\n",
            "\n",
            "|b> = [1. 0.]\n",
            "\n",
            "A^-1 |b> = |x> :\n",
            " [[ 0.89442719+0.j]\n",
            " [-0.4472136 +0.j]]\n",
            "\n",
            "Ölçüm Olasılıkları:\n",
            " [[0.8]\n",
            " [0.2]]\n"
          ]
        }
      ]
    },
    {
      "cell_type": "markdown",
      "source": [
        "Qiskit ile HHL Devresi"
      ],
      "metadata": {
        "id": "j7XtgHLbHTQa"
      }
    },
    {
      "cell_type": "code",
      "source": [
        "from qiskit import Aer, transpile\n",
        "from qiskit.visualization import plot_histogram\n",
        "from qiskit.algorithms.linear_solvers import HHL\n",
        "from qiskit.algorithms.linear_solvers.observables import MatrixFunctional\n",
        "from qiskit.quantum_info import Statevector\n",
        "from qiskit.algorithms.linear_solvers.matrices import Matrix\n",
        "from qiskit.utils import QuantumInstance\n",
        "import numpy as np\n",
        "\n",
        "# --- Sistem Tanımı ---\n",
        "A = [[1, 0.5],\n",
        "     [0.5, 1]]\n",
        "b = [1, 0]\n",
        "\n",
        "# --- Qiskit HHL Algoritması ---\n",
        "hhl = HHL()\n",
        "matrix = Matrix(A)\n",
        "rhs = Statevector(b)\n",
        "\n",
        "# --- Simülasyon ---\n",
        "backend = Aer.get_backend('statevector_simulator')\n",
        "result = hhl.solve(matrix, rhs, quantum_instance=QuantumInstance(backend))\n",
        "\n",
        "# --- Çıktı ---\n",
        "print(\"A^-1 |b> (yaklaşık |x>):\")\n",
        "print(result.state.solution)\n"
      ],
      "metadata": {
        "colab": {
          "base_uri": "https://localhost:8080/",
          "height": 384
        },
        "id": "9-JXjlFyHTV7",
        "outputId": "308914c6-5106-4283-acd9-4ff9eb0951c4"
      },
      "execution_count": 17,
      "outputs": [
        {
          "output_type": "error",
          "ename": "ImportError",
          "evalue": "cannot import name 'Aer' from 'qiskit' (/usr/local/lib/python3.12/dist-packages/qiskit/__init__.py)",
          "traceback": [
            "\u001b[0;31m---------------------------------------------------------------------------\u001b[0m",
            "\u001b[0;31mImportError\u001b[0m                               Traceback (most recent call last)",
            "\u001b[0;32m/tmp/ipython-input-1852608349.py\u001b[0m in \u001b[0;36m<cell line: 0>\u001b[0;34m()\u001b[0m\n\u001b[0;32m----> 1\u001b[0;31m \u001b[0;32mfrom\u001b[0m \u001b[0mqiskit\u001b[0m \u001b[0;32mimport\u001b[0m \u001b[0mAer\u001b[0m\u001b[0;34m,\u001b[0m \u001b[0mtranspile\u001b[0m\u001b[0;34m\u001b[0m\u001b[0;34m\u001b[0m\u001b[0m\n\u001b[0m\u001b[1;32m      2\u001b[0m \u001b[0;32mfrom\u001b[0m \u001b[0mqiskit\u001b[0m\u001b[0;34m.\u001b[0m\u001b[0mvisualization\u001b[0m \u001b[0;32mimport\u001b[0m \u001b[0mplot_histogram\u001b[0m\u001b[0;34m\u001b[0m\u001b[0;34m\u001b[0m\u001b[0m\n\u001b[1;32m      3\u001b[0m \u001b[0;32mfrom\u001b[0m \u001b[0mqiskit\u001b[0m\u001b[0;34m.\u001b[0m\u001b[0malgorithms\u001b[0m\u001b[0;34m.\u001b[0m\u001b[0mlinear_solvers\u001b[0m \u001b[0;32mimport\u001b[0m \u001b[0mHHL\u001b[0m\u001b[0;34m\u001b[0m\u001b[0;34m\u001b[0m\u001b[0m\n\u001b[1;32m      4\u001b[0m \u001b[0;32mfrom\u001b[0m \u001b[0mqiskit\u001b[0m\u001b[0;34m.\u001b[0m\u001b[0malgorithms\u001b[0m\u001b[0;34m.\u001b[0m\u001b[0mlinear_solvers\u001b[0m\u001b[0;34m.\u001b[0m\u001b[0mobservables\u001b[0m \u001b[0;32mimport\u001b[0m \u001b[0mMatrixFunctional\u001b[0m\u001b[0;34m\u001b[0m\u001b[0;34m\u001b[0m\u001b[0m\n\u001b[1;32m      5\u001b[0m \u001b[0;32mfrom\u001b[0m \u001b[0mqiskit\u001b[0m\u001b[0;34m.\u001b[0m\u001b[0mquantum_info\u001b[0m \u001b[0;32mimport\u001b[0m \u001b[0mStatevector\u001b[0m\u001b[0;34m\u001b[0m\u001b[0;34m\u001b[0m\u001b[0m\n",
            "\u001b[0;31mImportError\u001b[0m: cannot import name 'Aer' from 'qiskit' (/usr/local/lib/python3.12/dist-packages/qiskit/__init__.py)",
            "",
            "\u001b[0;31m---------------------------------------------------------------------------\u001b[0;32m\nNOTE: If your import is failing due to a missing package, you can\nmanually install dependencies using either !pip or !apt.\n\nTo view examples of installing some common dependencies, click the\n\"Open Examples\" button below.\n\u001b[0;31m---------------------------------------------------------------------------\u001b[0m\n"
          ],
          "errorDetails": {
            "actions": [
              {
                "action": "open_url",
                "actionText": "Open Examples",
                "url": "/notebooks/snippets/importing_libraries.ipynb"
              }
            ]
          }
        }
      ]
    },
    {
      "cell_type": "markdown",
      "source": [
        "Cirq ile Basitleştirilmiş HHL Yaklaşımı"
      ],
      "metadata": {
        "id": "zxKPOsvXH79D"
      }
    },
    {
      "cell_type": "code",
      "source": [
        "import cirq\n",
        "import numpy as np\n",
        "\n",
        "# Kübitler\n",
        "ancilla = cirq.NamedQubit(\"ancilla\")\n",
        "q0 = cirq.NamedQubit(\"q0\")\n",
        "q1 = cirq.NamedQubit(\"q1\")\n",
        "\n",
        "# --- Devre tanımı ---\n",
        "circuit = cirq.Circuit()\n",
        "\n",
        "# 1. |b> durumunu hazırla (örneğin |10>)\n",
        "circuit.append([cirq.X(q0)])\n",
        "\n",
        "# 2. QPE benzeri işlem (örnek olarak küçük faz dönüşümü)\n",
        "circuit.append(cirq.ry(np.pi / 4)(q1))\n",
        "circuit.append(cirq.CNOT(q1, ancilla))\n",
        "\n",
        "# 3. Kontrollü rotasyon (1/λ kodlama)\n",
        "circuit.append(cirq.ry(-np.pi / 8)(ancilla))\n",
        "\n",
        "# 4. Uncompute işlemi\n",
        "circuit.append(cirq.CNOT(q1, ancilla))\n",
        "circuit.append(cirq.ry(-np.pi / 4)(q1))\n",
        "\n",
        "# 5. Ölçüm\n",
        "circuit.append(cirq.measure(ancilla, q0, q1))\n",
        "\n",
        "# --- Simülasyon ---\n",
        "simulator = cirq.Simulator()\n",
        "result = simulator.run(circuit, repetitions=1000)\n",
        "\n",
        "print(\"Sonuçlar:\")\n",
        "print(result.histogram(key=('ancilla', 'q0', 'q1')))\n",
        "print(\"\\nDevre:\\n\")\n",
        "print(circuit)\n"
      ],
      "metadata": {
        "colab": {
          "base_uri": "https://localhost:8080/"
        },
        "id": "J6aIhiQPH8CN",
        "outputId": "11ec771d-92e3-4aa1-96df-dc1eb4bafc43"
      },
      "execution_count": 18,
      "outputs": [
        {
          "output_type": "stream",
          "name": "stdout",
          "text": [
            "Sonuçlar:\n",
            "Counter({2: 964, 6: 22, 7: 14})\n",
            "\n",
            "Devre:\n",
            "\n",
            "ancilla: ───────────────X───Ry(-0.125π)───X────────────────M───\n",
            "                        │                 │                │\n",
            "q0: ────────X───────────┼─────────────────┼────────────────M───\n",
            "                        │                 │                │\n",
            "q1: ────────Ry(0.25π)───@─────────────────@───Ry(-0.25π)───M───\n"
          ]
        }
      ]
    }
  ]
}