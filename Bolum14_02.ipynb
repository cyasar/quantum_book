{
  "cells": [
    {
      "cell_type": "markdown",
      "metadata": {
        "id": "HkikwNrKNzeD"
      },
      "source": [
        "Ön hazırlık (kütüphane kurulumu)"
      ]
    },
    {
      "cell_type": "code",
      "execution_count": null,
      "metadata": {
        "colab": {
          "background_save": true,
          "base_uri": "https://localhost:8080/"
        },
        "id": "anfl_eMVNzeD",
        "outputId": "9b25c6ef-1ea7-4a40-f7aa-7a993114599a"
      },
      "outputs": [
        {
          "name": "stdout",
          "output_type": "stream",
          "text": [
            "\u001b[2K   \u001b[90m━━━━━━━━━━━━━━━━━━━━━━━━━━━━━━━━━━━━━━━━\u001b[0m \u001b[32m2.0/2.0 MB\u001b[0m \u001b[31m28.8 MB/s\u001b[0m eta \u001b[36m0:00:00\u001b[0m\n",
            "\u001b[2K   \u001b[90m━━━━━━━━━━━━━━━━━━━━━━━━━━━━━━━━━━━━━━━━\u001b[0m \u001b[32m670.8/670.8 kB\u001b[0m \u001b[31m36.7 MB/s\u001b[0m eta \u001b[36m0:00:00\u001b[0m\n",
            "\u001b[2K   \u001b[90m━━━━━━━━━━━━━━━━━━━━━━━━━━━━━━━━━━━━━━━━\u001b[0m \u001b[32m73.5/73.5 kB\u001b[0m \u001b[31m4.3 MB/s\u001b[0m eta \u001b[36m0:00:00\u001b[0m\n",
            "\u001b[2K   \u001b[90m━━━━━━━━━━━━━━━━━━━━━━━━━━━━━━━━━━━━━━━━\u001b[0m \u001b[32m430.5/430.5 kB\u001b[0m \u001b[31m27.8 MB/s\u001b[0m eta \u001b[36m0:00:00\u001b[0m\n",
            "\u001b[2K   \u001b[90m━━━━━━━━━━━━━━━━━━━━━━━━━━━━━━━━━━━━━━━━\u001b[0m \u001b[32m8.0/8.0 MB\u001b[0m \u001b[31m103.6 MB/s\u001b[0m eta \u001b[36m0:00:00\u001b[0m\n",
            "\u001b[2K   \u001b[90m━━━━━━━━━━━━━━━━━━━━━━━━━━━━━━━━━━━━━━━━\u001b[0m \u001b[32m31.8/31.8 MB\u001b[0m \u001b[31m49.9 MB/s\u001b[0m eta \u001b[36m0:00:00\u001b[0m\n",
            "\u001b[2K   \u001b[90m━━━━━━━━━━━━━━━━━━━━━━━━━━━━━━━━━━━━━━━━\u001b[0m \u001b[32m2.2/2.2 MB\u001b[0m \u001b[31m71.6 MB/s\u001b[0m eta \u001b[36m0:00:00\u001b[0m\n",
            "\u001b[2K   \u001b[90m━━━━━━━━━━━━━━━━━━━━━━━━━━━━━━━━━━━━━━━━\u001b[0m \u001b[32m49.5/49.5 kB\u001b[0m \u001b[31m2.9 MB/s\u001b[0m eta \u001b[36m0:00:00\u001b[0m\n",
            "\u001b[2K   \u001b[90m━━━━━━━━━━━━━━━━━━━━━━━━━━━━━━━━━━━━━━━━\u001b[0m \u001b[32m2.8/2.8 MB\u001b[0m \u001b[31m55.4 MB/s\u001b[0m eta \u001b[36m0:00:00\u001b[0m\n",
            "\u001b[?25h"
          ]
        }
      ],
      "source": [
        "# Gerekli kütüphaneleri yükleyelim (Colab hücresine)\n",
        "!pip install cirq qiskit qutip numpy matplotlib --quiet"
      ]
    },
    {
      "cell_type": "markdown",
      "source": [
        "Burada amaç, klasik bir sayının ikili gösterimini kuantum bitleri (qubitler) üzerinde ifade etmek — yani sayının kuantum temsiline dönüştürülmesidir.\n",
        "\n",
        "Aşağıdaki örneklerde:\n",
        "\n",
        "Sayı 3 ele alınmıştır.\n",
        "\n",
        "İkili gösterimi 11 (yani |11⟩ durumu).\n",
        "\n",
        "Her kütüphane bu durumu farklı şekilde temsil eder ve ölçümle doğrular."
      ],
      "metadata": {
        "id": "IN96VTNQ0Vad"
      }
    },
    {
      "cell_type": "markdown",
      "source": [
        "1. Cirq ile Binary Gösterim (|11⟩ durumu)"
      ],
      "metadata": {
        "id": "BUhDC6_pz3zv"
      }
    },
    {
      "cell_type": "code",
      "source": [
        "import cirq\n",
        "\n",
        "# 2 qubit (binary 11)\n",
        "qubits = cirq.LineQubit.range(2)\n",
        "circuit = cirq.Circuit()\n",
        "\n",
        "# |11⟩ oluşturmak için her qubit'e X kapısı uygula\n",
        "circuit.append([cirq.X(qubits[0]), cirq.X(qubits[1])])\n",
        "\n",
        "# Ölçüm\n",
        "circuit.append(cirq.measure(*qubits, key='result'))\n",
        "\n",
        "sim = cirq.Simulator()\n",
        "result = sim.run(circuit, repetitions=10)\n",
        "\n",
        "print(\"Cirq Devresi:\")\n",
        "print(circuit)\n",
        "print(\"\\nÖlçüm Sonuçları:\")\n",
        "print(result)\n"
      ],
      "metadata": {
        "colab": {
          "base_uri": "https://localhost:8080/"
        },
        "id": "v7gkYQFbz34u",
        "outputId": "7e82ae4f-9ecc-4155-d4f6-9f9f3745672c"
      },
      "execution_count": 6,
      "outputs": [
        {
          "output_type": "stream",
          "name": "stdout",
          "text": [
            "Cirq Devresi:\n",
            "0: ───X───M('result')───\n",
            "          │\n",
            "1: ───X───M─────────────\n",
            "\n",
            "Ölçüm Sonuçları:\n",
            "result=1111111111, 1111111111\n"
          ]
        }
      ]
    },
    {
      "cell_type": "markdown",
      "source": [
        "2. Qiskit ile Binary Gösterim (|11⟩ durumu)"
      ],
      "metadata": {
        "id": "9SXRjX7Fz39e"
      }
    },
    {
      "cell_type": "code",
      "source": [
        "from qiskit import QuantumCircuit, Aer, execute\n",
        "\n",
        "# 2 qubit'lik bir kuantum devresi\n",
        "qc = QuantumCircuit(2, 2)\n",
        "\n",
        "# |11⟩ durumu oluştur\n",
        "qc.x(0)\n",
        "qc.x(1)\n",
        "\n",
        "# Ölçüm\n",
        "qc.measure([0,1], [0,1])\n",
        "\n",
        "# Simülasyon\n",
        "sim = Aer.get_backend('qasm_simulator')\n",
        "result = execute(qc, sim, shots=10).result()\n",
        "counts = result.get_counts()\n",
        "\n",
        "print(qc.draw())\n",
        "print(\"\\nÖlçüm Sonuçları:\", counts)\n"
      ],
      "metadata": {
        "colab": {
          "base_uri": "https://localhost:8080/",
          "height": 384
        },
        "id": "W0l-iFYhz4Cp",
        "outputId": "bc90273f-8e67-4292-fafc-1ed9c4f3a517"
      },
      "execution_count": 10,
      "outputs": [
        {
          "output_type": "error",
          "ename": "ImportError",
          "evalue": "cannot import name 'Aer' from 'qiskit' (/usr/local/lib/python3.12/dist-packages/qiskit/__init__.py)",
          "traceback": [
            "\u001b[0;31m---------------------------------------------------------------------------\u001b[0m",
            "\u001b[0;31mImportError\u001b[0m                               Traceback (most recent call last)",
            "\u001b[0;32m/tmp/ipython-input-1207699771.py\u001b[0m in \u001b[0;36m<cell line: 0>\u001b[0;34m()\u001b[0m\n\u001b[0;32m----> 1\u001b[0;31m \u001b[0;32mfrom\u001b[0m \u001b[0mqiskit\u001b[0m \u001b[0;32mimport\u001b[0m \u001b[0mQuantumCircuit\u001b[0m\u001b[0;34m,\u001b[0m \u001b[0mAer\u001b[0m\u001b[0;34m,\u001b[0m \u001b[0mexecute\u001b[0m\u001b[0;34m\u001b[0m\u001b[0;34m\u001b[0m\u001b[0m\n\u001b[0m\u001b[1;32m      2\u001b[0m \u001b[0;34m\u001b[0m\u001b[0m\n\u001b[1;32m      3\u001b[0m \u001b[0;31m# 2 qubit'lik bir kuantum devresi\u001b[0m\u001b[0;34m\u001b[0m\u001b[0;34m\u001b[0m\u001b[0m\n\u001b[1;32m      4\u001b[0m \u001b[0mqc\u001b[0m \u001b[0;34m=\u001b[0m \u001b[0mQuantumCircuit\u001b[0m\u001b[0;34m(\u001b[0m\u001b[0;36m2\u001b[0m\u001b[0;34m,\u001b[0m \u001b[0;36m2\u001b[0m\u001b[0;34m)\u001b[0m\u001b[0;34m\u001b[0m\u001b[0;34m\u001b[0m\u001b[0m\n\u001b[1;32m      5\u001b[0m \u001b[0;34m\u001b[0m\u001b[0m\n",
            "\u001b[0;31mImportError\u001b[0m: cannot import name 'Aer' from 'qiskit' (/usr/local/lib/python3.12/dist-packages/qiskit/__init__.py)",
            "",
            "\u001b[0;31m---------------------------------------------------------------------------\u001b[0;32m\nNOTE: If your import is failing due to a missing package, you can\nmanually install dependencies using either !pip or !apt.\n\nTo view examples of installing some common dependencies, click the\n\"Open Examples\" button below.\n\u001b[0;31m---------------------------------------------------------------------------\u001b[0m\n"
          ],
          "errorDetails": {
            "actions": [
              {
                "action": "open_url",
                "actionText": "Open Examples",
                "url": "/notebooks/snippets/importing_libraries.ipynb"
              }
            ]
          }
        }
      ]
    },
    {
      "cell_type": "markdown",
      "source": [
        "3. QuTiP ile Binary Gösterim (|11⟩ durumu)"
      ],
      "metadata": {
        "id": "OqEeoSo-z4Hj"
      }
    },
    {
      "cell_type": "code",
      "source": [
        "from qutip import *\n",
        "import numpy as np\n",
        "\n",
        "# 2 qubit sistem: |11⟩ = |1⟩⊗|1⟩\n",
        "psi = tensor(basis(2,1), basis(2,1))\n",
        "\n",
        "print(\"Durum vektörü |ψ⟩ = |11⟩ :\\n\", psi.full())\n",
        "\n",
        "# Yoğunluk matrisi\n",
        "rho = ket2dm(psi)\n",
        "print(\"\\nYoğunluk Matrisi:\\n\", rho.full())\n",
        "\n",
        "# Ölçüm olasılıklarını göster\n",
        "probs = [abs(psi.full()[i][0])**2 for i in range(len(psi.full()))]\n",
        "print(\"\\nOlasılıklar:\", probs)\n"
      ],
      "metadata": {
        "colab": {
          "base_uri": "https://localhost:8080/"
        },
        "id": "JF5w_eq4z4MB",
        "outputId": "4cacb2d9-8a15-47cd-c40e-419aa54698d1"
      },
      "execution_count": 9,
      "outputs": [
        {
          "output_type": "stream",
          "name": "stdout",
          "text": [
            "Durum vektörü |ψ⟩ = |11⟩ :\n",
            " [[0.+0.j]\n",
            " [0.+0.j]\n",
            " [0.+0.j]\n",
            " [1.+0.j]]\n",
            "\n",
            "Yoğunluk Matrisi:\n",
            " [[0.+0.j 0.+0.j 0.+0.j 0.+0.j]\n",
            " [0.+0.j 0.+0.j 0.+0.j 0.+0.j]\n",
            " [0.+0.j 0.+0.j 0.+0.j 0.+0.j]\n",
            " [0.+0.j 0.+0.j 0.+0.j 1.+0.j]]\n",
            "\n",
            "Olasılıklar: [np.float64(0.0), np.float64(0.0), np.float64(0.0), np.float64(1.0)]\n"
          ]
        }
      ]
    },
    {
      "cell_type": "code",
      "execution_count": null,
      "metadata": {
        "id": "r2na3fKExOBY"
      },
      "outputs": [],
      "source": []
    }
  ],
  "metadata": {
    "colab": {
      "provenance": []
    },
    "kernelspec": {
      "display_name": "Python 3",
      "name": "python3"
    },
    "language_info": {
      "name": "python"
    }
  },
  "nbformat": 4,
  "nbformat_minor": 0
}