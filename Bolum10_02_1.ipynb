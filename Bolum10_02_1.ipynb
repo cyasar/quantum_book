{
  "nbformat": 4,
  "nbformat_minor": 0,
  "metadata": {
    "colab": {
      "provenance": []
    },
    "kernelspec": {
      "name": "python3",
      "display_name": "Python 3"
    },
    "language_info": {
      "name": "python"
    }
  },
  "cells": [
    {
      "cell_type": "markdown",
      "source": [
        "Ön hazırlık (kütüphane kurulumu)"
      ],
      "metadata": {
        "id": "HkikwNrKNzeD"
      }
    },
    {
      "cell_type": "code",
      "execution_count": 1,
      "metadata": {
        "colab": {
          "base_uri": "https://localhost:8080/"
        },
        "id": "anfl_eMVNzeD",
        "outputId": "d074ee9c-26bf-460a-db57-2f5c5d0ed6eb"
      },
      "outputs": [
        {
          "output_type": "stream",
          "name": "stdout",
          "text": [
            "\u001b[?25l   \u001b[90m━━━━━━━━━━━━━━━━━━━━━━━━━━━━━━━━━━━━━━━━\u001b[0m \u001b[32m0.0/2.0 MB\u001b[0m \u001b[31m?\u001b[0m eta \u001b[36m-:--:--\u001b[0m\r\u001b[2K   \u001b[91m━━━━━━━━━━━\u001b[0m\u001b[91m╸\u001b[0m\u001b[90m━━━━━━━━━━━━━━━━━━━━━━━━━━━━\u001b[0m \u001b[32m0.6/2.0 MB\u001b[0m \u001b[31m17.6 MB/s\u001b[0m eta \u001b[36m0:00:01\u001b[0m\r\u001b[2K   \u001b[91m━━━━━━━━━━━━━━━━━━━━━━━━━━━━━━━━━━━━━━━\u001b[0m\u001b[91m╸\u001b[0m \u001b[32m2.0/2.0 MB\u001b[0m \u001b[31m39.0 MB/s\u001b[0m eta \u001b[36m0:00:01\u001b[0m\r\u001b[2K   \u001b[90m━━━━━━━━━━━━━━━━━━━━━━━━━━━━━━━━━━━━━━━━\u001b[0m \u001b[32m2.0/2.0 MB\u001b[0m \u001b[31m27.2 MB/s\u001b[0m eta \u001b[36m0:00:00\u001b[0m\n",
            "\u001b[2K   \u001b[90m━━━━━━━━━━━━━━━━━━━━━━━━━━━━━━━━━━━━━━━━\u001b[0m \u001b[32m670.8/670.8 kB\u001b[0m \u001b[31m30.3 MB/s\u001b[0m eta \u001b[36m0:00:00\u001b[0m\n",
            "\u001b[2K   \u001b[90m━━━━━━━━━━━━━━━━━━━━━━━━━━━━━━━━━━━━━━━━\u001b[0m \u001b[32m73.5/73.5 kB\u001b[0m \u001b[31m3.5 MB/s\u001b[0m eta \u001b[36m0:00:00\u001b[0m\n",
            "\u001b[2K   \u001b[90m━━━━━━━━━━━━━━━━━━━━━━━━━━━━━━━━━━━━━━━━\u001b[0m \u001b[32m430.5/430.5 kB\u001b[0m \u001b[31m18.3 MB/s\u001b[0m eta \u001b[36m0:00:00\u001b[0m\n",
            "\u001b[2K   \u001b[90m━━━━━━━━━━━━━━━━━━━━━━━━━━━━━━━━━━━━━━━━\u001b[0m \u001b[32m8.0/8.0 MB\u001b[0m \u001b[31m105.7 MB/s\u001b[0m eta \u001b[36m0:00:00\u001b[0m\n",
            "\u001b[2K   \u001b[90m━━━━━━━━━━━━━━━━━━━━━━━━━━━━━━━━━━━━━━━━\u001b[0m \u001b[32m31.8/31.8 MB\u001b[0m \u001b[31m19.9 MB/s\u001b[0m eta \u001b[36m0:00:00\u001b[0m\n",
            "\u001b[2K   \u001b[90m━━━━━━━━━━━━━━━━━━━━━━━━━━━━━━━━━━━━━━━━\u001b[0m \u001b[32m2.2/2.2 MB\u001b[0m \u001b[31m50.5 MB/s\u001b[0m eta \u001b[36m0:00:00\u001b[0m\n",
            "\u001b[2K   \u001b[90m━━━━━━━━━━━━━━━━━━━━━━━━━━━━━━━━━━━━━━━━\u001b[0m \u001b[32m49.5/49.5 kB\u001b[0m \u001b[31m967.7 kB/s\u001b[0m eta \u001b[36m0:00:00\u001b[0m\n",
            "\u001b[2K   \u001b[90m━━━━━━━━━━━━━━━━━━━━━━━━━━━━━━━━━━━━━━━━\u001b[0m \u001b[32m2.8/2.8 MB\u001b[0m \u001b[31m66.9 MB/s\u001b[0m eta \u001b[36m0:00:00\u001b[0m\n",
            "\u001b[?25h"
          ]
        }
      ],
      "source": [
        "# Gerekli kütüphaneleri yükleyelim (Colab hücresine)\n",
        "!pip install cirq qiskit qutip numpy matplotlib --quiet"
      ]
    },
    {
      "cell_type": "markdown",
      "source": [
        "Örnek: Bell Durumu $\\ket{B_{00}}$’in Pauli Gösterimi ile Dolaşıklık Kontrolü\n",
        "\n",
        "\n",
        "Cirq"
      ],
      "metadata": {
        "id": "Uns29dSnMFu8"
      }
    },
    {
      "cell_type": "code",
      "execution_count": 2,
      "metadata": {
        "colab": {
          "base_uri": "https://localhost:8080/"
        },
        "id": "8MU5P108L9wb",
        "outputId": "822576f4-e04f-4bfa-f41c-eaaf04f8825d"
      },
      "outputs": [
        {
          "output_type": "stream",
          "name": "stdout",
          "text": [
            "Pauli katsayıları c_ij:\n",
            "[[ 1.  0.  0.  0.]\n",
            " [ 0.  1.  0.  0.]\n",
            " [ 0.  0. -1.  0.]\n",
            " [ 0.  0.  0.  1.]]\n",
            "Cirq: Sistem dolaşık.\n"
          ]
        }
      ],
      "source": [
        "import cirq\n",
        "import numpy as np\n",
        "\n",
        "# Pauli matrisleri\n",
        "I = np.array([[1,0],[0,1]])\n",
        "X = np.array([[0,1],[1,0]])\n",
        "Y = np.array([[0,-1j],[1j,0]])\n",
        "Z = np.array([[1,0],[0,-1]])\n",
        "\n",
        "paulis = [I, X, Y, Z]\n",
        "\n",
        "# Bell durumu |B00>\n",
        "q0, q1 = cirq.LineQubit.range(2)\n",
        "circuit = cirq.Circuit(\n",
        "    cirq.H(q0),\n",
        "    cirq.CNOT(q0,q1)\n",
        ")\n",
        "simulator = cirq.Simulator()\n",
        "result = simulator.simulate(circuit)\n",
        "psi = result.final_state_vector\n",
        "\n",
        "# Yoğunluk matrisi\n",
        "rho = np.outer(psi, np.conj(psi))\n",
        "\n",
        "# Pauli katsayılarını hesapla\n",
        "c = np.zeros((4,4), dtype=complex)\n",
        "for i in range(4):\n",
        "    for j in range(4):\n",
        "        c[i,j] = np.trace(rho @ np.kron(paulis[i], paulis[j]))\n",
        "\n",
        "print(\"Pauli katsayıları c_ij:\")\n",
        "print(np.round(c.real, 3))\n",
        "\n",
        "# Dolaşıklık kriteri\n",
        "criterion = abs(c[0,0]) + abs(c[1,1]) + abs(c[2,2]) + abs(c[3,3])\n",
        "if criterion <= 1:\n",
        "    print(\"Cirq: Sistem ayrılabilir (dolaşık değil).\")\n",
        "else:\n",
        "    print(\"Cirq: Sistem dolaşık.\")\n"
      ]
    },
    {
      "cell_type": "markdown",
      "source": [
        "Qiskit"
      ],
      "metadata": {
        "id": "WVPZot20MJfc"
      }
    },
    {
      "cell_type": "code",
      "source": [
        "from qiskit import QuantumCircuit\n",
        "from qiskit.quantum_info import Statevector\n",
        "import numpy as np\n",
        "\n",
        "# Pauli matrisleri\n",
        "I = np.array([[1,0],[0,1]])\n",
        "X = np.array([[0,1],[1,0]])\n",
        "Y = np.array([[0,-1j],[1j,0]])\n",
        "Z = np.array([[1,0],[0,-1]])\n",
        "paulis = [I, X, Y, Z]\n",
        "\n",
        "# Devre ve durum vektörü\n",
        "qc = QuantumCircuit(2)\n",
        "qc.h(0)\n",
        "qc.cx(0,1)\n",
        "psi = Statevector.from_instruction(qc).data\n",
        "\n",
        "# Yoğunluk matrisi\n",
        "rho = np.outer(psi, np.conj(psi))\n",
        "\n",
        "# Pauli katsayıları\n",
        "c = np.zeros((4,4), dtype=complex)\n",
        "for i in range(4):\n",
        "    for j in range(4):\n",
        "        c[i,j] = np.trace(rho @ np.kron(paulis[i], paulis[j]))\n",
        "\n",
        "print(\"Pauli katsayıları c_ij:\")\n",
        "print(np.round(c.real,3))\n",
        "\n",
        "# Dolaşıklık kriteri\n",
        "criterion = abs(c[0,0]) + abs(c[1,1]) + abs(c[2,2]) + abs(c[3,3])\n",
        "if criterion <= 1:\n",
        "    print(\"Qiskit: Sistem ayrılabilir (dolaşık değil).\")\n",
        "else:\n",
        "    print(\"Qiskit: Sistem dolaşık.\")\n"
      ],
      "metadata": {
        "colab": {
          "base_uri": "https://localhost:8080/"
        },
        "id": "kxrfeiFQMJmY",
        "outputId": "63d1e180-c78d-4034-fd25-0cf11af7740b"
      },
      "execution_count": 3,
      "outputs": [
        {
          "output_type": "stream",
          "name": "stdout",
          "text": [
            "Pauli katsayıları c_ij:\n",
            "[[ 1.  0.  0.  0.]\n",
            " [ 0.  1.  0.  0.]\n",
            " [ 0.  0. -1.  0.]\n",
            " [ 0.  0.  0.  1.]]\n",
            "Qiskit: Sistem dolaşık.\n"
          ]
        }
      ]
    },
    {
      "cell_type": "markdown",
      "source": [
        "QuTiP"
      ],
      "metadata": {
        "id": "LGujiZIvMJvU"
      }
    },
    {
      "cell_type": "code",
      "source": [
        "from qutip import tensor, basis, cnot, hadamard_transform\n",
        "import numpy as np\n",
        "\n",
        "# Pauli matrisleri\n",
        "I = np.array([[1,0],[0,1]])\n",
        "X = np.array([[0,1],[1,0]])\n",
        "Y = np.array([[0,-1j],[1j,0]])\n",
        "Z = np.array([[1,0],[0,-1]])\n",
        "paulis = [I,X,Y,Z]\n",
        "\n",
        "# Bell durumu |B00>\n",
        "psi0 = tensor(basis(2,0), basis(2,0))\n",
        "H = hadamard_transform()\n",
        "psi1 = tensor(H*psi0.ptrace(0), psi0.ptrace(1))\n",
        "psi_final = cnot() * psi1\n",
        "\n",
        "# Yoğunluk matrisi\n",
        "rho = psi_final * psi_final.dag()\n",
        "rho_mat = rho.full()\n",
        "\n",
        "# Pauli katsayıları\n",
        "c = np.zeros((4,4), dtype=complex)\n",
        "for i in range(4):\n",
        "    for j in range(4):\n",
        "        c[i,j] = np.trace(rho_mat @ np.kron(paulis[i], paulis[j]))\n",
        "\n",
        "print(\"Pauli katsayıları c_ij:\")\n",
        "print(np.round(c.real,3))\n",
        "\n",
        "# Dolaşıklık kriteri\n",
        "criterion = abs(c[0,0]) + abs(c[1,1]) + abs(c[2,2]) + abs(c[3,3])\n",
        "if criterion <= 1:\n",
        "    print(\"QuTiP: Sistem ayrılabilir (dolaşık değil).\")\n",
        "else:\n",
        "    print(\"QuTiP: Sistem dolaşıktır.\")\n"
      ],
      "metadata": {
        "colab": {
          "base_uri": "https://localhost:8080/",
          "height": 384
        },
        "id": "IXR_bEaZMJ5a",
        "outputId": "7b8d067b-1429-4f3b-ee6e-1da964dfca14"
      },
      "execution_count": 4,
      "outputs": [
        {
          "output_type": "error",
          "ename": "ImportError",
          "evalue": "cannot import name 'cnot' from 'qutip' (/usr/local/lib/python3.12/dist-packages/qutip/__init__.py)",
          "traceback": [
            "\u001b[0;31m---------------------------------------------------------------------------\u001b[0m",
            "\u001b[0;31mImportError\u001b[0m                               Traceback (most recent call last)",
            "\u001b[0;32m/tmp/ipython-input-404668157.py\u001b[0m in \u001b[0;36m<cell line: 0>\u001b[0;34m()\u001b[0m\n\u001b[0;32m----> 1\u001b[0;31m \u001b[0;32mfrom\u001b[0m \u001b[0mqutip\u001b[0m \u001b[0;32mimport\u001b[0m \u001b[0mtensor\u001b[0m\u001b[0;34m,\u001b[0m \u001b[0mbasis\u001b[0m\u001b[0;34m,\u001b[0m \u001b[0mcnot\u001b[0m\u001b[0;34m,\u001b[0m \u001b[0mhadamard_transform\u001b[0m\u001b[0;34m\u001b[0m\u001b[0;34m\u001b[0m\u001b[0m\n\u001b[0m\u001b[1;32m      2\u001b[0m \u001b[0;32mimport\u001b[0m \u001b[0mnumpy\u001b[0m \u001b[0;32mas\u001b[0m \u001b[0mnp\u001b[0m\u001b[0;34m\u001b[0m\u001b[0;34m\u001b[0m\u001b[0m\n\u001b[1;32m      3\u001b[0m \u001b[0;34m\u001b[0m\u001b[0m\n\u001b[1;32m      4\u001b[0m \u001b[0;31m# Pauli matrisleri\u001b[0m\u001b[0;34m\u001b[0m\u001b[0;34m\u001b[0m\u001b[0m\n\u001b[1;32m      5\u001b[0m \u001b[0mI\u001b[0m \u001b[0;34m=\u001b[0m \u001b[0mnp\u001b[0m\u001b[0;34m.\u001b[0m\u001b[0marray\u001b[0m\u001b[0;34m(\u001b[0m\u001b[0;34m[\u001b[0m\u001b[0;34m[\u001b[0m\u001b[0;36m1\u001b[0m\u001b[0;34m,\u001b[0m\u001b[0;36m0\u001b[0m\u001b[0;34m]\u001b[0m\u001b[0;34m,\u001b[0m\u001b[0;34m[\u001b[0m\u001b[0;36m0\u001b[0m\u001b[0;34m,\u001b[0m\u001b[0;36m1\u001b[0m\u001b[0;34m]\u001b[0m\u001b[0;34m]\u001b[0m\u001b[0;34m)\u001b[0m\u001b[0;34m\u001b[0m\u001b[0;34m\u001b[0m\u001b[0m\n",
            "\u001b[0;31mImportError\u001b[0m: cannot import name 'cnot' from 'qutip' (/usr/local/lib/python3.12/dist-packages/qutip/__init__.py)",
            "",
            "\u001b[0;31m---------------------------------------------------------------------------\u001b[0;32m\nNOTE: If your import is failing due to a missing package, you can\nmanually install dependencies using either !pip or !apt.\n\nTo view examples of installing some common dependencies, click the\n\"Open Examples\" button below.\n\u001b[0;31m---------------------------------------------------------------------------\u001b[0m\n"
          ],
          "errorDetails": {
            "actions": [
              {
                "action": "open_url",
                "actionText": "Open Examples",
                "url": "/notebooks/snippets/importing_libraries.ipynb"
              }
            ]
          }
        }
      ]
    }
  ]
}