{
  "nbformat": 4,
  "nbformat_minor": 0,
  "metadata": {
    "colab": {
      "provenance": []
    },
    "kernelspec": {
      "name": "python3",
      "display_name": "Python 3"
    },
    "language_info": {
      "name": "python"
    }
  },
  "cells": [
    {
      "cell_type": "markdown",
      "source": [
        "Ön hazırlık (kütüphane kurulumu)"
      ],
      "metadata": {
        "id": "HkikwNrKNzeD"
      }
    },
    {
      "cell_type": "code",
      "execution_count": 1,
      "metadata": {
        "colab": {
          "base_uri": "https://localhost:8080/"
        },
        "id": "anfl_eMVNzeD",
        "outputId": "c6b38d26-fd7f-4c0d-d52f-746a02b0ec01"
      },
      "outputs": [
        {
          "output_type": "stream",
          "name": "stdout",
          "text": [
            "\u001b[2K   \u001b[90m━━━━━━━━━━━━━━━━━━━━━━━━━━━━━━━━━━━━━━━━\u001b[0m \u001b[32m2.0/2.0 MB\u001b[0m \u001b[31m17.6 MB/s\u001b[0m eta \u001b[36m0:00:00\u001b[0m\n",
            "\u001b[2K   \u001b[90m━━━━━━━━━━━━━━━━━━━━━━━━━━━━━━━━━━━━━━━━\u001b[0m \u001b[32m670.8/670.8 kB\u001b[0m \u001b[31m38.1 MB/s\u001b[0m eta \u001b[36m0:00:00\u001b[0m\n",
            "\u001b[2K   \u001b[90m━━━━━━━━━━━━━━━━━━━━━━━━━━━━━━━━━━━━━━━━\u001b[0m \u001b[32m73.5/73.5 kB\u001b[0m \u001b[31m5.4 MB/s\u001b[0m eta \u001b[36m0:00:00\u001b[0m\n",
            "\u001b[2K   \u001b[90m━━━━━━━━━━━━━━━━━━━━━━━━━━━━━━━━━━━━━━━━\u001b[0m \u001b[32m430.5/430.5 kB\u001b[0m \u001b[31m28.1 MB/s\u001b[0m eta \u001b[36m0:00:00\u001b[0m\n",
            "\u001b[2K   \u001b[90m━━━━━━━━━━━━━━━━━━━━━━━━━━━━━━━━━━━━━━━━\u001b[0m \u001b[32m8.0/8.0 MB\u001b[0m \u001b[31m92.6 MB/s\u001b[0m eta \u001b[36m0:00:00\u001b[0m\n",
            "\u001b[2K   \u001b[90m━━━━━━━━━━━━━━━━━━━━━━━━━━━━━━━━━━━━━━━━\u001b[0m \u001b[32m31.8/31.8 MB\u001b[0m \u001b[31m52.9 MB/s\u001b[0m eta \u001b[36m0:00:00\u001b[0m\n",
            "\u001b[2K   \u001b[90m━━━━━━━━━━━━━━━━━━━━━━━━━━━━━━━━━━━━━━━━\u001b[0m \u001b[32m2.2/2.2 MB\u001b[0m \u001b[31m78.2 MB/s\u001b[0m eta \u001b[36m0:00:00\u001b[0m\n",
            "\u001b[2K   \u001b[90m━━━━━━━━━━━━━━━━━━━━━━━━━━━━━━━━━━━━━━━━\u001b[0m \u001b[32m49.5/49.5 kB\u001b[0m \u001b[31m3.7 MB/s\u001b[0m eta \u001b[36m0:00:00\u001b[0m\n",
            "\u001b[2K   \u001b[90m━━━━━━━━━━━━━━━━━━━━━━━━━━━━━━━━━━━━━━━━\u001b[0m \u001b[32m2.8/2.8 MB\u001b[0m \u001b[31m85.3 MB/s\u001b[0m eta \u001b[36m0:00:00\u001b[0m\n",
            "\u001b[?25h"
          ]
        }
      ],
      "source": [
        "# Gerekli kütüphaneleri yükleyelim (Colab hücresine)\n",
        "!pip install cirq qiskit qutip numpy matplotlib --quiet"
      ]
    },
    {
      "cell_type": "markdown",
      "source": [
        "Cirq ile İç ve Dış Çarpım"
      ],
      "metadata": {
        "id": "9nhlPay4slLT"
      }
    },
    {
      "cell_type": "code",
      "execution_count": 2,
      "metadata": {
        "colab": {
          "base_uri": "https://localhost:8080/"
        },
        "id": "daaxUPSVsQXB",
        "outputId": "dd96c32e-ff12-4b0c-a55f-4c67b72fcec4"
      },
      "outputs": [
        {
          "output_type": "stream",
          "name": "stdout",
          "text": [
            "⟨ψ|ψ⟩ = (1+0j)\n",
            "|ψ⟩⟨ψ| =\n",
            " [[0.2       +0.j         0.        +0.30550505j 0.25819889+0.j        ]\n",
            " [0.        -0.30550505j 0.46666667+0.j         0.        -0.39440532j]\n",
            " [0.25819889+0.j         0.        +0.39440532j 0.33333333+0.j        ]]\n"
          ]
        }
      ],
      "source": [
        "import numpy as np\n",
        "\n",
        "# Ortonormal bazları tanımlayalım\n",
        "u1 = np.array([1, 0, 0], dtype=complex)  # |u1>\n",
        "u2 = np.array([0, 1, 0], dtype=complex)  # |u2>\n",
        "u3 = np.array([0, 0, 1], dtype=complex)  # |u3>\n",
        "\n",
        "# Kuantum durumu: |ψ> = 1/sqrt(5)|u1> - i√(7/15)|u2> + 1/√3 |u3>\n",
        "psi = (1/np.sqrt(5))*u1 - 1j*np.sqrt(7/15)*u2 + (1/np.sqrt(3))*u3\n",
        "\n",
        "# İç çarpım ⟨ψ|ψ⟩\n",
        "inner = np.vdot(psi, psi)\n",
        "\n",
        "# Dış çarpım |ψ⟩⟨ψ|\n",
        "outer = np.outer(psi, np.conjugate(psi))\n",
        "\n",
        "print(\"⟨ψ|ψ⟩ =\", inner)\n",
        "print(\"|ψ⟩⟨ψ| =\\n\", outer)\n"
      ]
    },
    {
      "cell_type": "markdown",
      "source": [
        "Qiskit ile İç ve Dış Çarpım"
      ],
      "metadata": {
        "id": "OH1_Tsi2s9C2"
      }
    },
    {
      "cell_type": "code",
      "source": [
        "import numpy as np\n",
        "from qiskit.quantum_info import Statevector, DensityMatrix\n",
        "\n",
        "# Kuantum durumu\n",
        "psi = Statevector([1/np.sqrt(5), -1j*np.sqrt(7/15), 1/np.sqrt(3)])\n",
        "\n",
        "# İç çarpım ⟨ψ|ψ⟩\n",
        "inner = np.vdot(psi.data, psi.data)\n",
        "\n",
        "# Dış çarpım |ψ⟩⟨ψ| (yoğunluk matrisi)\n",
        "outer = DensityMatrix(psi)\n",
        "\n",
        "print(\"⟨ψ|ψ⟩ =\", inner)\n",
        "print(\"|ψ⟩⟨ψ| =\\n\", outer.data)\n"
      ],
      "metadata": {
        "colab": {
          "base_uri": "https://localhost:8080/"
        },
        "id": "scJDz3T5sk_u",
        "outputId": "79118178-7b38-45a9-870f-86a51c37e0a6"
      },
      "execution_count": 3,
      "outputs": [
        {
          "output_type": "stream",
          "name": "stdout",
          "text": [
            "⟨ψ|ψ⟩ = (1+0j)\n",
            "|ψ⟩⟨ψ| =\n",
            " [[0.2       +0.j         0.        +0.30550505j 0.25819889+0.j        ]\n",
            " [0.        -0.30550505j 0.46666667+0.j         0.        -0.39440532j]\n",
            " [0.25819889+0.j         0.        +0.39440532j 0.33333333+0.j        ]]\n"
          ]
        }
      ]
    },
    {
      "cell_type": "markdown",
      "source": [
        "QuTiP ile İç ve Dış Çarpım"
      ],
      "metadata": {
        "id": "qXJ5bsx6s__7"
      }
    },
    {
      "cell_type": "code",
      "source": [
        "import numpy as np\n",
        "from qutip import Qobj\n",
        "\n",
        "# Kuantum durumu\n",
        "psi = Qobj([1/np.sqrt(5), -1j*np.sqrt(7/15), 1/np.sqrt(3)])\n",
        "\n",
        "# İç çarpım ⟨ψ|ψ⟩\n",
        "inner = (psi.dag() * psi)[0,0]\n",
        "\n",
        "# Dış çarpım |ψ⟩⟨ψ|\n",
        "outer = psi * psi.dag()\n",
        "\n",
        "print(\"⟨ψ|ψ⟩ =\", inner)\n",
        "print(\"|ψ⟩⟨ψ| =\\n\", outer)\n"
      ],
      "metadata": {
        "colab": {
          "base_uri": "https://localhost:8080/",
          "height": 211
        },
        "id": "ilv_xP_BslCW",
        "outputId": "528d5267-995a-464c-da9a-d4be784b399f"
      },
      "execution_count": 5,
      "outputs": [
        {
          "output_type": "error",
          "ename": "TypeError",
          "evalue": "'complex' object is not subscriptable",
          "traceback": [
            "\u001b[0;31m---------------------------------------------------------------------------\u001b[0m",
            "\u001b[0;31mTypeError\u001b[0m                                 Traceback (most recent call last)",
            "\u001b[0;32m/tmp/ipython-input-1788912777.py\u001b[0m in \u001b[0;36m<cell line: 0>\u001b[0;34m()\u001b[0m\n\u001b[1;32m      6\u001b[0m \u001b[0;34m\u001b[0m\u001b[0m\n\u001b[1;32m      7\u001b[0m \u001b[0;31m# İç çarpım ⟨ψ|ψ⟩\u001b[0m\u001b[0;34m\u001b[0m\u001b[0;34m\u001b[0m\u001b[0m\n\u001b[0;32m----> 8\u001b[0;31m \u001b[0minner\u001b[0m \u001b[0;34m=\u001b[0m \u001b[0;34m(\u001b[0m\u001b[0mpsi\u001b[0m\u001b[0;34m.\u001b[0m\u001b[0mdag\u001b[0m\u001b[0;34m(\u001b[0m\u001b[0;34m)\u001b[0m \u001b[0;34m*\u001b[0m \u001b[0mpsi\u001b[0m\u001b[0;34m)\u001b[0m\u001b[0;34m[\u001b[0m\u001b[0;36m0\u001b[0m\u001b[0;34m,\u001b[0m\u001b[0;36m0\u001b[0m\u001b[0;34m]\u001b[0m\u001b[0;34m\u001b[0m\u001b[0;34m\u001b[0m\u001b[0m\n\u001b[0m\u001b[1;32m      9\u001b[0m \u001b[0;34m\u001b[0m\u001b[0m\n\u001b[1;32m     10\u001b[0m \u001b[0;31m# Dış çarpım |ψ⟩⟨ψ|\u001b[0m\u001b[0;34m\u001b[0m\u001b[0;34m\u001b[0m\u001b[0m\n",
            "\u001b[0;31mTypeError\u001b[0m: 'complex' object is not subscriptable"
          ]
        }
      ]
    },
    {
      "cell_type": "code",
      "source": [],
      "metadata": {
        "id": "J2Lw8ogdsloz"
      },
      "execution_count": null,
      "outputs": []
    }
  ]
}