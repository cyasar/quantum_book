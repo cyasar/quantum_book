{
  "nbformat": 4,
  "nbformat_minor": 0,
  "metadata": {
    "colab": {
      "provenance": []
    },
    "kernelspec": {
      "name": "python3",
      "display_name": "Python 3"
    },
    "language_info": {
      "name": "python"
    }
  },
  "cells": [
    {
      "cell_type": "markdown",
      "metadata": {
        "id": "HkikwNrKNzeD"
      },
      "source": [
        "Ön hazırlık (kütüphane kurulumu)"
      ]
    },
    {
      "cell_type": "code",
      "execution_count": 1,
      "metadata": {
        "id": "anfl_eMVNzeD",
        "colab": {
          "base_uri": "https://localhost:8080/"
        },
        "outputId": "99e6eb33-c101-486c-fc32-f3117733ac4d"
      },
      "outputs": [
        {
          "output_type": "stream",
          "name": "stdout",
          "text": [
            "\u001b[?25l   \u001b[90m━━━━━━━━━━━━━━━━━━━━━━━━━━━━━━━━━━━━━━━━\u001b[0m \u001b[32m0.0/2.0 MB\u001b[0m \u001b[31m?\u001b[0m eta \u001b[36m-:--:--\u001b[0m\r\u001b[2K   \u001b[91m━━━━━━━━━━━━━━━━━━━━━━━━━━━━━━━━━━━━━━━\u001b[0m\u001b[91m╸\u001b[0m \u001b[32m2.0/2.0 MB\u001b[0m \u001b[31m62.4 MB/s\u001b[0m eta \u001b[36m0:00:01\u001b[0m\r\u001b[2K   \u001b[90m━━━━━━━━━━━━━━━━━━━━━━━━━━━━━━━━━━━━━━━━\u001b[0m \u001b[32m2.0/2.0 MB\u001b[0m \u001b[31m33.3 MB/s\u001b[0m eta \u001b[36m0:00:00\u001b[0m\n",
            "\u001b[?25h\u001b[?25l   \u001b[90m━━━━━━━━━━━━━━━━━━━━━━━━━━━━━━━━━━━━━━━━\u001b[0m \u001b[32m0.0/670.8 kB\u001b[0m \u001b[31m?\u001b[0m eta \u001b[36m-:--:--\u001b[0m\r\u001b[2K   \u001b[90m━━━━━━━━━━━━━━━━━━━━━━━━━━━━━━━━━━━━━━━━\u001b[0m \u001b[32m670.8/670.8 kB\u001b[0m \u001b[31m23.8 MB/s\u001b[0m eta \u001b[36m0:00:00\u001b[0m\n",
            "\u001b[?25h\u001b[?25l   \u001b[90m━━━━━━━━━━━━━━━━━━━━━━━━━━━━━━━━━━━━━━━━\u001b[0m \u001b[32m0.0/73.5 kB\u001b[0m \u001b[31m?\u001b[0m eta \u001b[36m-:--:--\u001b[0m\r\u001b[2K   \u001b[90m━━━━━━━━━━━━━━━━━━━━━━━━━━━━━━━━━━━━━━━━\u001b[0m \u001b[32m73.5/73.5 kB\u001b[0m \u001b[31m4.4 MB/s\u001b[0m eta \u001b[36m0:00:00\u001b[0m\n",
            "\u001b[2K   \u001b[90m━━━━━━━━━━━━━━━━━━━━━━━━━━━━━━━━━━━━━━━━\u001b[0m \u001b[32m430.5/430.5 kB\u001b[0m \u001b[31m23.8 MB/s\u001b[0m eta \u001b[36m0:00:00\u001b[0m\n",
            "\u001b[2K   \u001b[90m━━━━━━━━━━━━━━━━━━━━━━━━━━━━━━━━━━━━━━━━\u001b[0m \u001b[32m8.0/8.0 MB\u001b[0m \u001b[31m62.5 MB/s\u001b[0m eta \u001b[36m0:00:00\u001b[0m\n",
            "\u001b[2K   \u001b[90m━━━━━━━━━━━━━━━━━━━━━━━━━━━━━━━━━━━━━━━━\u001b[0m \u001b[32m31.8/31.8 MB\u001b[0m \u001b[31m46.4 MB/s\u001b[0m eta \u001b[36m0:00:00\u001b[0m\n",
            "\u001b[2K   \u001b[90m━━━━━━━━━━━━━━━━━━━━━━━━━━━━━━━━━━━━━━━━\u001b[0m \u001b[32m2.2/2.2 MB\u001b[0m \u001b[31m80.6 MB/s\u001b[0m eta \u001b[36m0:00:00\u001b[0m\n",
            "\u001b[2K   \u001b[90m━━━━━━━━━━━━━━━━━━━━━━━━━━━━━━━━━━━━━━━━\u001b[0m \u001b[32m49.5/49.5 kB\u001b[0m \u001b[31m4.0 MB/s\u001b[0m eta \u001b[36m0:00:00\u001b[0m\n",
            "\u001b[2K   \u001b[90m━━━━━━━━━━━━━━━━━━━━━━━━━━━━━━━━━━━━━━━━\u001b[0m \u001b[32m2.8/2.8 MB\u001b[0m \u001b[31m76.5 MB/s\u001b[0m eta \u001b[36m0:00:00\u001b[0m\n",
            "\u001b[?25h"
          ]
        }
      ],
      "source": [
        "# Gerekli kütüphaneleri yükleyelim (Colab hücresine)\n",
        "!pip install cirq qiskit qutip numpy matplotlib --quiet"
      ]
    },
    {
      "cell_type": "markdown",
      "source": [
        "BİR GRAFTA RASTGELE YÜRÜME"
      ],
      "metadata": {
        "id": "LzGvmBdMcUHW"
      }
    },
    {
      "cell_type": "markdown",
      "source": [
        "Cirq Örneği: 1-boyutlu kuantum yürüyüşü"
      ],
      "metadata": {
        "id": "vNqRmarpcULB"
      }
    },
    {
      "cell_type": "code",
      "source": [
        "import cirq\n",
        "import numpy as np\n",
        "\n",
        "# Qubitler: pozisyon ve coin (1 qubit coin, 3 qubit pozisyon)\n",
        "coin = cirq.LineQubit(0)\n",
        "positions = [cirq.LineQubit(i) for i in range(1,4)]\n",
        "\n",
        "circuit = cirq.Circuit()\n",
        "\n",
        "# Başlangıç durumu: pozisyon 0, coin süperpozisyon\n",
        "circuit.append(cirq.H(coin))\n",
        "circuit.append(cirq.X(positions[0]))  # Başlangıç pozisyonu |1>\n",
        "\n",
        "# 3 adımlık yürüyüş\n",
        "for _ in range(3):\n",
        "    # Coin: Hadamard\n",
        "    circuit.append(cirq.H(coin))\n",
        "    # Koşullu kayma\n",
        "    for i in range(len(positions)):\n",
        "        if i < len(positions)-1:\n",
        "            circuit.append(cirq.CX(coin, positions[i+1]))\n",
        "        if i > 0:\n",
        "            circuit.append(cirq.CX(coin, positions[i-1]))\n",
        "\n",
        "# Ölçüm\n",
        "circuit.append([cirq.measure(q, key=f'p{i}') for i, q in enumerate(positions)])\n",
        "circuit.append(cirq.measure(coin, key='coin'))\n",
        "\n",
        "sim = cirq.Simulator()\n",
        "result = sim.run(circuit, repetitions=10)\n",
        "print(result)\n"
      ],
      "metadata": {
        "colab": {
          "base_uri": "https://localhost:8080/"
        },
        "id": "M8PnTXO5cUYy",
        "outputId": "93f14f68-e14e-4019-ddf0-0cd68fc3b16c"
      },
      "execution_count": 2,
      "outputs": [
        {
          "output_type": "stream",
          "name": "stdout",
          "text": [
            "coin=1110100010\n",
            "p0=0101011110\n",
            "p1=0000000000\n",
            "p2=1010100001\n"
          ]
        }
      ]
    },
    {
      "cell_type": "markdown",
      "source": [
        "Qiskit Örneği: 1-boyutlu kuantum yürüyüşü"
      ],
      "metadata": {
        "id": "PEcAgdWQcUd8"
      }
    },
    {
      "cell_type": "code",
      "source": [
        "from qiskit import QuantumCircuit, Aer, execute\n",
        "\n",
        "qc = QuantumCircuit(4, 4)  # 1 coin + 3 pozisyon qubit\n",
        "\n",
        "# Başlangıç durumu\n",
        "qc.h(0)          # coin\n",
        "qc.x(1)          # pozisyon |1>\n",
        "\n",
        "# 3 adım\n",
        "for _ in range(3):\n",
        "    qc.h(0)  # coin\n",
        "    qc.cx(0,1)  # koşullu kayma örneği\n",
        "    qc.cx(0,2)\n",
        "    qc.cx(0,3)\n",
        "\n",
        "# Ölçüm\n",
        "for i in range(4):\n",
        "    qc.measure(i,i)\n",
        "\n",
        "backend = Aer.get_backend('qasm_simulator')\n",
        "result = execute(qc, backend, shots=1000).result()\n",
        "counts = result.get_counts()\n",
        "print(counts)\n"
      ],
      "metadata": {
        "colab": {
          "base_uri": "https://localhost:8080/",
          "height": 384
        },
        "id": "zbTLRkK_cUh6",
        "outputId": "5ad70175-4e1a-4529-a4c7-9d68419e71fd"
      },
      "execution_count": 4,
      "outputs": [
        {
          "output_type": "error",
          "ename": "ImportError",
          "evalue": "cannot import name 'Aer' from 'qiskit' (/usr/local/lib/python3.12/dist-packages/qiskit/__init__.py)",
          "traceback": [
            "\u001b[0;31m---------------------------------------------------------------------------\u001b[0m",
            "\u001b[0;31mImportError\u001b[0m                               Traceback (most recent call last)",
            "\u001b[0;32m/tmp/ipython-input-479416729.py\u001b[0m in \u001b[0;36m<cell line: 0>\u001b[0;34m()\u001b[0m\n\u001b[0;32m----> 1\u001b[0;31m \u001b[0;32mfrom\u001b[0m \u001b[0mqiskit\u001b[0m \u001b[0;32mimport\u001b[0m \u001b[0mQuantumCircuit\u001b[0m\u001b[0;34m,\u001b[0m \u001b[0mAer\u001b[0m\u001b[0;34m,\u001b[0m \u001b[0mexecute\u001b[0m\u001b[0;34m\u001b[0m\u001b[0;34m\u001b[0m\u001b[0m\n\u001b[0m\u001b[1;32m      2\u001b[0m \u001b[0;34m\u001b[0m\u001b[0m\n\u001b[1;32m      3\u001b[0m \u001b[0mqc\u001b[0m \u001b[0;34m=\u001b[0m \u001b[0mQuantumCircuit\u001b[0m\u001b[0;34m(\u001b[0m\u001b[0;36m4\u001b[0m\u001b[0;34m,\u001b[0m \u001b[0;36m4\u001b[0m\u001b[0;34m)\u001b[0m  \u001b[0;31m# 1 coin + 3 pozisyon qubit\u001b[0m\u001b[0;34m\u001b[0m\u001b[0;34m\u001b[0m\u001b[0m\n\u001b[1;32m      4\u001b[0m \u001b[0;34m\u001b[0m\u001b[0m\n\u001b[1;32m      5\u001b[0m \u001b[0;31m# Başlangıç durumu\u001b[0m\u001b[0;34m\u001b[0m\u001b[0;34m\u001b[0m\u001b[0m\n",
            "\u001b[0;31mImportError\u001b[0m: cannot import name 'Aer' from 'qiskit' (/usr/local/lib/python3.12/dist-packages/qiskit/__init__.py)",
            "",
            "\u001b[0;31m---------------------------------------------------------------------------\u001b[0;32m\nNOTE: If your import is failing due to a missing package, you can\nmanually install dependencies using either !pip or !apt.\n\nTo view examples of installing some common dependencies, click the\n\"Open Examples\" button below.\n\u001b[0;31m---------------------------------------------------------------------------\u001b[0m\n"
          ],
          "errorDetails": {
            "actions": [
              {
                "action": "open_url",
                "actionText": "Open Examples",
                "url": "/notebooks/snippets/importing_libraries.ipynb"
              }
            ]
          }
        }
      ]
    },
    {
      "cell_type": "markdown",
      "source": [
        "QuTiP Örneği: 1-boyutlu kuantum yürüyüşü (matris temelli)"
      ],
      "metadata": {
        "id": "r-VlgLGEcU02"
      }
    },
    {
      "cell_type": "code",
      "execution_count": 5,
      "metadata": {
        "colab": {
          "base_uri": "https://localhost:8080/"
        },
        "id": "4VZtn8N7cGcr",
        "outputId": "6e081885-d63a-432e-a901-3065c59adb5e"
      },
      "outputs": [
        {
          "output_type": "stream",
          "name": "stdout",
          "text": [
            "Quantum object: dims=[[2, 2, 2, 2], [1]], shape=(16, 1), type='ket', dtype=Dense\n",
            "Qobj data =\n",
            "[[0.70710678]\n",
            " [0.        ]\n",
            " [0.        ]\n",
            " [0.        ]\n",
            " [0.        ]\n",
            " [0.        ]\n",
            " [0.        ]\n",
            " [0.        ]\n",
            " [0.70710678]\n",
            " [0.        ]\n",
            " [0.        ]\n",
            " [0.        ]\n",
            " [0.        ]\n",
            " [0.        ]\n",
            " [0.        ]\n",
            " [0.        ]]\n"
          ]
        }
      ],
      "source": [
        "from qutip import *\n",
        "import numpy as np\n",
        "\n",
        "# Coin qubit + 3 pozisyon qubit\n",
        "coin = basis(2,0)  # |0>\n",
        "positions = [basis(2,0) for _ in range(3)]\n",
        "state = tensor([coin]+positions)\n",
        "\n",
        "# Hadamard operator (coin)\n",
        "H = (1/np.sqrt(2)) * Qobj([[1,1],[1,-1]])\n",
        "\n",
        "# Koşullu kayma operatorü (basitleştirilmiş)\n",
        "shift = tensor([qeye(2)]*4)  # Basit placeholder\n",
        "\n",
        "# 3 adım yürüyüş\n",
        "for _ in range(3):\n",
        "    H_op = tensor([H if i==0 else qeye(2) for i in range(4)])\n",
        "    state = H_op * state\n",
        "    state = shift * state\n",
        "\n",
        "print(state)\n"
      ]
    },
    {
      "cell_type": "markdown",
      "source": [
        "BİR GRAFTA KUANTUMSAL YÜRÜME"
      ],
      "metadata": {
        "id": "8zYvP7H4cYeX"
      }
    },
    {
      "cell_type": "markdown",
      "source": [
        "Cirq ile Kuantum Yürüme"
      ],
      "metadata": {
        "id": "W1mjXIOpcYz5"
      }
    },
    {
      "cell_type": "code",
      "source": [
        "import cirq\n",
        "import numpy as np\n",
        "\n",
        "# 3 pozisyon qubiti + 1 coin qubit\n",
        "coin = cirq.LineQubit(0)\n",
        "positions = [cirq.LineQubit(i) for i in range(1,4)]\n",
        "\n",
        "circuit = cirq.Circuit()\n",
        "\n",
        "# Başlangıç durumu: pozisyon 1 (|100>) ve coin süperpozisyon\n",
        "circuit.append(cirq.H(coin))\n",
        "circuit.append(cirq.X(positions[0]))\n",
        "\n",
        "# 3 adım kuantum yürüme\n",
        "for _ in range(3):\n",
        "    circuit.append(cirq.H(coin))  # coin Hadamard\n",
        "    for i in range(len(positions)-1):\n",
        "        # Koşullu kayma (basitleştirilmiş)\n",
        "        circuit.append(cirq.CX(coin, positions[i+1]))\n",
        "\n",
        "# Ölçüm\n",
        "circuit.append([cirq.measure(q, key=f'p{i}') for i, q in enumerate(positions)])\n",
        "circuit.append(cirq.measure(coin, key='coin'))\n",
        "\n",
        "sim = cirq.Simulator()\n",
        "result = sim.run(circuit, repetitions=1000)\n",
        "print(result.histogram(key='p0'), result.histogram(key='p1'), result.histogram(key='p2'))\n"
      ],
      "metadata": {
        "colab": {
          "base_uri": "https://localhost:8080/"
        },
        "id": "srgAm2SOcY5G",
        "outputId": "b1a006e2-e91d-4d33-fafa-25975c46d634"
      },
      "execution_count": 6,
      "outputs": [
        {
          "output_type": "stream",
          "name": "stdout",
          "text": [
            "Counter({1: 1000}) Counter({0: 519, 1: 481}) Counter({0: 519, 1: 481})\n"
          ]
        }
      ]
    },
    {
      "cell_type": "markdown",
      "source": [
        "Qiskit ile Kuantum Yürüme"
      ],
      "metadata": {
        "id": "rMHF48fucZQh"
      }
    },
    {
      "cell_type": "code",
      "source": [
        "from qiskit import QuantumCircuit, Aer, execute\n",
        "\n",
        "qc = QuantumCircuit(4, 4)  # 1 coin + 3 pozisyon\n",
        "\n",
        "# Başlangıç durumu\n",
        "qc.h(0)      # coin süperpozisyon\n",
        "qc.x(1)      # pozisyon 1\n",
        "\n",
        "# 3 adım kuantum yürüme\n",
        "for _ in range(3):\n",
        "    qc.h(0)  # coin\n",
        "    qc.cx(0,1)  # koşullu kayma (basitleştirilmiş)\n",
        "    qc.cx(0,2)\n",
        "\n",
        "# Ölçüm\n",
        "for i in range(4):\n",
        "    qc.measure(i,i)\n",
        "\n",
        "backend = Aer.get_backend('qasm_simulator')\n",
        "result = execute(qc, backend, shots=1000).result()\n",
        "counts = result.get_counts()\n",
        "print(counts)\n"
      ],
      "metadata": {
        "colab": {
          "base_uri": "https://localhost:8080/",
          "height": 384
        },
        "id": "FTFRXLWDcZVh",
        "outputId": "ebf1060d-b7d6-45ce-9a27-d491dbbd8885"
      },
      "execution_count": 7,
      "outputs": [
        {
          "output_type": "error",
          "ename": "ImportError",
          "evalue": "cannot import name 'Aer' from 'qiskit' (/usr/local/lib/python3.12/dist-packages/qiskit/__init__.py)",
          "traceback": [
            "\u001b[0;31m---------------------------------------------------------------------------\u001b[0m",
            "\u001b[0;31mImportError\u001b[0m                               Traceback (most recent call last)",
            "\u001b[0;32m/tmp/ipython-input-854705192.py\u001b[0m in \u001b[0;36m<cell line: 0>\u001b[0;34m()\u001b[0m\n\u001b[0;32m----> 1\u001b[0;31m \u001b[0;32mfrom\u001b[0m \u001b[0mqiskit\u001b[0m \u001b[0;32mimport\u001b[0m \u001b[0mQuantumCircuit\u001b[0m\u001b[0;34m,\u001b[0m \u001b[0mAer\u001b[0m\u001b[0;34m,\u001b[0m \u001b[0mexecute\u001b[0m\u001b[0;34m\u001b[0m\u001b[0;34m\u001b[0m\u001b[0m\n\u001b[0m\u001b[1;32m      2\u001b[0m \u001b[0;34m\u001b[0m\u001b[0m\n\u001b[1;32m      3\u001b[0m \u001b[0mqc\u001b[0m \u001b[0;34m=\u001b[0m \u001b[0mQuantumCircuit\u001b[0m\u001b[0;34m(\u001b[0m\u001b[0;36m4\u001b[0m\u001b[0;34m,\u001b[0m \u001b[0;36m4\u001b[0m\u001b[0;34m)\u001b[0m  \u001b[0;31m# 1 coin + 3 pozisyon\u001b[0m\u001b[0;34m\u001b[0m\u001b[0;34m\u001b[0m\u001b[0m\n\u001b[1;32m      4\u001b[0m \u001b[0;34m\u001b[0m\u001b[0m\n\u001b[1;32m      5\u001b[0m \u001b[0;31m# Başlangıç durumu\u001b[0m\u001b[0;34m\u001b[0m\u001b[0;34m\u001b[0m\u001b[0m\n",
            "\u001b[0;31mImportError\u001b[0m: cannot import name 'Aer' from 'qiskit' (/usr/local/lib/python3.12/dist-packages/qiskit/__init__.py)",
            "",
            "\u001b[0;31m---------------------------------------------------------------------------\u001b[0;32m\nNOTE: If your import is failing due to a missing package, you can\nmanually install dependencies using either !pip or !apt.\n\nTo view examples of installing some common dependencies, click the\n\"Open Examples\" button below.\n\u001b[0;31m---------------------------------------------------------------------------\u001b[0m\n"
          ],
          "errorDetails": {
            "actions": [
              {
                "action": "open_url",
                "actionText": "Open Examples",
                "url": "/notebooks/snippets/importing_libraries.ipynb"
              }
            ]
          }
        }
      ]
    },
    {
      "cell_type": "markdown",
      "source": [
        "QuTiP ile Kuantum Yürüme (Statevector)"
      ],
      "metadata": {
        "id": "MTPv3tERcZbw"
      }
    },
    {
      "cell_type": "code",
      "source": [
        "from qutip import *\n",
        "import numpy as np\n",
        "\n",
        "# 3 pozisyon + 1 coin\n",
        "coin = basis(2,0)\n",
        "positions = [basis(2,0) for _ in range(3)]\n",
        "state = tensor([coin]+positions)\n",
        "\n",
        "# Hadamard (coin)\n",
        "H = (1/np.sqrt(2)) * Qobj([[1,1],[1,-1]])\n",
        "\n",
        "# Basitleştirilmiş koşullu kayma matrisi\n",
        "shift = tensor([qeye(2)]*4)  # gerçek graf için detaylandırılabilir\n",
        "\n",
        "# 3 adım yürüyüş\n",
        "for _ in range(3):\n",
        "    H_op = tensor([H if i==0 else qeye(2) for i in range(4)])\n",
        "    state = H_op * state\n",
        "    state = shift * state\n",
        "\n",
        "# Ölçüm olasılıkları\n",
        "probs = np.abs(state.full())**2\n",
        "print(probs)\n"
      ],
      "metadata": {
        "colab": {
          "base_uri": "https://localhost:8080/"
        },
        "id": "DLEVkDeLcZgZ",
        "outputId": "3d989dcd-f183-4051-fb98-0a747ab049e9"
      },
      "execution_count": 8,
      "outputs": [
        {
          "output_type": "stream",
          "name": "stdout",
          "text": [
            "[[0.5]\n",
            " [0. ]\n",
            " [0. ]\n",
            " [0. ]\n",
            " [0. ]\n",
            " [0. ]\n",
            " [0. ]\n",
            " [0. ]\n",
            " [0.5]\n",
            " [0. ]\n",
            " [0. ]\n",
            " [0. ]\n",
            " [0. ]\n",
            " [0. ]\n",
            " [0. ]\n",
            " [0. ]]\n"
          ]
        }
      ]
    },
    {
      "cell_type": "markdown",
      "source": [
        "KUANTUM YÜRÜMENİN MATEMATİKSEL TANIMI"
      ],
      "metadata": {
        "id": "iqT_gQ3KcZn7"
      }
    },
    {
      "cell_type": "markdown",
      "source": [
        "Cirq ile Kuantum Para Atma (Coin Toss)"
      ],
      "metadata": {
        "id": "ddHGn9XDcZrB"
      }
    },
    {
      "cell_type": "code",
      "source": [
        "import cirq\n",
        "import numpy as np\n",
        "\n",
        "# Qubitler: coin ve pozisyon\n",
        "coin = cirq.LineQubit(0)\n",
        "position = cirq.LineQubit(1)\n",
        "\n",
        "circuit = cirq.Circuit()\n",
        "\n",
        "# Başlangıç: coin |0> ve pozisyon |0>\n",
        "circuit.append(cirq.X(position))  # pozisyon başlangıç |1> de olabilir\n",
        "\n",
        "# Coin Hadamard ile süperpozisyon\n",
        "circuit.append(cirq.H(coin))\n",
        "\n",
        "# Ölçüm\n",
        "circuit.append(cirq.measure(coin, key='coin'))\n",
        "circuit.append(cirq.measure(position, key='pos'))\n",
        "\n",
        "sim = cirq.Simulator()\n",
        "result = sim.run(circuit, repetitions=1000)\n",
        "print(result.histogram(key='coin'))\n",
        "print(result.histogram(key='pos'))\n"
      ],
      "metadata": {
        "colab": {
          "base_uri": "https://localhost:8080/"
        },
        "id": "zKbt4ZGycZyj",
        "outputId": "9e9a3006-b08c-46c2-9c14-737e1f0403bc"
      },
      "execution_count": 9,
      "outputs": [
        {
          "output_type": "stream",
          "name": "stdout",
          "text": [
            "Counter({1: 518, 0: 482})\n",
            "Counter({1: 1000})\n"
          ]
        }
      ]
    },
    {
      "cell_type": "markdown",
      "source": [
        "Qiskit ile Kuantum Para Atma"
      ],
      "metadata": {
        "id": "YE6g4aZacZ4Q"
      }
    },
    {
      "cell_type": "code",
      "source": [
        "from qiskit import QuantumCircuit, Aer, execute\n",
        "\n",
        "qc = QuantumCircuit(2, 2)  # 1 coin + 1 pozisyon\n",
        "\n",
        "# Başlangıç\n",
        "qc.x(1)   # pozisyon |1>\n",
        "qc.h(0)   # coin süperpozisyon\n",
        "\n",
        "# Ölçüm\n",
        "qc.measure([0,1], [0,1])\n",
        "\n",
        "backend = Aer.get_backend('qasm_simulator')\n",
        "result = execute(qc, backend, shots=1000).result()\n",
        "counts = result.get_counts()\n",
        "print(counts)\n"
      ],
      "metadata": {
        "colab": {
          "base_uri": "https://localhost:8080/",
          "height": 384
        },
        "id": "RoYiDKtzcZ9a",
        "outputId": "4f7af5a3-49ef-4d8c-de5e-032f0a6ca8cd"
      },
      "execution_count": 10,
      "outputs": [
        {
          "output_type": "error",
          "ename": "ImportError",
          "evalue": "cannot import name 'Aer' from 'qiskit' (/usr/local/lib/python3.12/dist-packages/qiskit/__init__.py)",
          "traceback": [
            "\u001b[0;31m---------------------------------------------------------------------------\u001b[0m",
            "\u001b[0;31mImportError\u001b[0m                               Traceback (most recent call last)",
            "\u001b[0;32m/tmp/ipython-input-3148283012.py\u001b[0m in \u001b[0;36m<cell line: 0>\u001b[0;34m()\u001b[0m\n\u001b[0;32m----> 1\u001b[0;31m \u001b[0;32mfrom\u001b[0m \u001b[0mqiskit\u001b[0m \u001b[0;32mimport\u001b[0m \u001b[0mQuantumCircuit\u001b[0m\u001b[0;34m,\u001b[0m \u001b[0mAer\u001b[0m\u001b[0;34m,\u001b[0m \u001b[0mexecute\u001b[0m\u001b[0;34m\u001b[0m\u001b[0;34m\u001b[0m\u001b[0m\n\u001b[0m\u001b[1;32m      2\u001b[0m \u001b[0;34m\u001b[0m\u001b[0m\n\u001b[1;32m      3\u001b[0m \u001b[0mqc\u001b[0m \u001b[0;34m=\u001b[0m \u001b[0mQuantumCircuit\u001b[0m\u001b[0;34m(\u001b[0m\u001b[0;36m2\u001b[0m\u001b[0;34m,\u001b[0m \u001b[0;36m2\u001b[0m\u001b[0;34m)\u001b[0m  \u001b[0;31m# 1 coin + 1 pozisyon\u001b[0m\u001b[0;34m\u001b[0m\u001b[0;34m\u001b[0m\u001b[0m\n\u001b[1;32m      4\u001b[0m \u001b[0;34m\u001b[0m\u001b[0m\n\u001b[1;32m      5\u001b[0m \u001b[0;31m# Başlangıç\u001b[0m\u001b[0;34m\u001b[0m\u001b[0;34m\u001b[0m\u001b[0m\n",
            "\u001b[0;31mImportError\u001b[0m: cannot import name 'Aer' from 'qiskit' (/usr/local/lib/python3.12/dist-packages/qiskit/__init__.py)",
            "",
            "\u001b[0;31m---------------------------------------------------------------------------\u001b[0;32m\nNOTE: If your import is failing due to a missing package, you can\nmanually install dependencies using either !pip or !apt.\n\nTo view examples of installing some common dependencies, click the\n\"Open Examples\" button below.\n\u001b[0;31m---------------------------------------------------------------------------\u001b[0m\n"
          ],
          "errorDetails": {
            "actions": [
              {
                "action": "open_url",
                "actionText": "Open Examples",
                "url": "/notebooks/snippets/importing_libraries.ipynb"
              }
            ]
          }
        }
      ]
    },
    {
      "cell_type": "markdown",
      "source": [
        "QuTiP ile Matematiksel Durum ve Olasılık"
      ],
      "metadata": {
        "id": "kkfxukGjcaCR"
      }
    },
    {
      "cell_type": "code",
      "source": [
        "from qutip import *\n",
        "import numpy as np\n",
        "\n",
        "# Başlangıç durumları\n",
        "coin = basis(2,0)        # |0> coin\n",
        "position = basis(2,1)    # |1> pozisyon\n",
        "state = tensor(coin, position)\n",
        "\n",
        "# Hadamard (coin)\n",
        "H = (1/np.sqrt(2)) * Qobj([[1,1],[1,-1]])\n",
        "H_op = tensor(H, qeye(2))\n",
        "state = H_op * state\n",
        "\n",
        "# Olasılık hesaplama\n",
        "probs = np.abs(state.full())**2\n",
        "print(probs)  # toplam olasılık = 1\n",
        "print(\"Toplam olasılık:\", np.sum(probs))\n"
      ],
      "metadata": {
        "colab": {
          "base_uri": "https://localhost:8080/"
        },
        "id": "5dusofIxcaGt",
        "outputId": "075936b4-0a30-4ba8-b96d-f9299ad517c1"
      },
      "execution_count": 11,
      "outputs": [
        {
          "output_type": "stream",
          "name": "stdout",
          "text": [
            "[[0. ]\n",
            " [0.5]\n",
            " [0. ]\n",
            " [0.5]]\n",
            "Toplam olasılık: 0.9999999999999998\n"
          ]
        }
      ]
    },
    {
      "cell_type": "markdown",
      "source": [
        "BİR ÇİZGİ ÜZERİNDE RASTGELE YÜRÜME"
      ],
      "metadata": {
        "id": "Pqdbz9IBexJy"
      }
    },
    {
      "cell_type": "markdown",
      "source": [
        "Cirq ile 1D Kuantum Yürüyüşü (Coin + Pozisyon)"
      ],
      "metadata": {
        "id": "6u26OjS6exWR"
      }
    },
    {
      "cell_type": "code",
      "source": [
        "import cirq\n",
        "import numpy as np\n",
        "\n",
        "n_steps = 5  # yürüyüş adımı\n",
        "coin = cirq.LineQubit(0)\n",
        "positions = [cirq.LineQubit(i+1) for i in range(2*n_steps+1)]  # -5..5 pozisyon\n",
        "\n",
        "circuit = cirq.Circuit()\n",
        "\n",
        "# Başlangıç: coin |0> ve pozisyon ortada |1>\n",
        "circuit.append(cirq.X(positions[n_steps]))  # ortadaki pozisyon\n",
        "\n",
        "# Adım fonksiyonu\n",
        "def step(circuit, coin, positions):\n",
        "    circuit.append(cirq.H(coin))  # coin süperpozisyon\n",
        "    # Koşullu kaydırma\n",
        "    for i in range(len(positions)-1):\n",
        "        circuit.append(cirq.CNOT(coin, positions[i+1]))\n",
        "\n",
        "# Adım sayısı kadar tekrar\n",
        "for _ in range(n_steps):\n",
        "    step(circuit, coin, positions)\n",
        "\n",
        "# Ölçüm\n",
        "circuit.append(cirq.measure(*positions, key='pos'))\n",
        "\n",
        "sim = cirq.Simulator()\n",
        "result = sim.run(circuit, repetitions=1000)\n",
        "print(result.histogram(key='pos'))\n"
      ],
      "metadata": {
        "colab": {
          "base_uri": "https://localhost:8080/"
        },
        "id": "Sb3k7V3Lexe_",
        "outputId": "483e5c83-6a24-4ca4-b389-b50b66b4ca72"
      },
      "execution_count": 12,
      "outputs": [
        {
          "output_type": "stream",
          "name": "stdout",
          "text": [
            "Counter({991: 500, 32: 500})\n"
          ]
        }
      ]
    },
    {
      "cell_type": "markdown",
      "source": [
        "Qiskit ile 1D Kuantum Yürüyüşü"
      ],
      "metadata": {
        "id": "wSYtfG9dexk7"
      }
    },
    {
      "cell_type": "code",
      "source": [
        "from qiskit import QuantumCircuit, Aer, execute\n",
        "import numpy as np\n",
        "\n",
        "n_steps = 5\n",
        "n_pos = 2*n_steps + 1\n",
        "\n",
        "qc = QuantumCircuit(n_pos + 1, n_pos)  # 1 coin + pozisyon qubitleri\n",
        "qc.x(n_steps+1)  # ortadaki pozisyon\n",
        "\n",
        "# Adım fonksiyonu\n",
        "def step(qc):\n",
        "    qc.h(0)  # coin süperpozisyon\n",
        "    for i in range(1, n_pos):\n",
        "        qc.cx(0, i)\n",
        "\n",
        "for _ in range(n_steps):\n",
        "    step(qc)\n",
        "\n",
        "# Ölçüm\n",
        "qc.measure(range(1,n_pos+1), range(n_pos))\n",
        "\n",
        "backend = Aer.get_backend('qasm_simulator')\n",
        "result = execute(qc, backend, shots=1000).result()\n",
        "counts = result.get_counts()\n",
        "print(counts)\n"
      ],
      "metadata": {
        "colab": {
          "base_uri": "https://localhost:8080/",
          "height": 384
        },
        "id": "ruSeFCYKexqY",
        "outputId": "cd2bb3d6-2aad-4513-f388-ba71c50495aa"
      },
      "execution_count": 13,
      "outputs": [
        {
          "output_type": "error",
          "ename": "ImportError",
          "evalue": "cannot import name 'Aer' from 'qiskit' (/usr/local/lib/python3.12/dist-packages/qiskit/__init__.py)",
          "traceback": [
            "\u001b[0;31m---------------------------------------------------------------------------\u001b[0m",
            "\u001b[0;31mImportError\u001b[0m                               Traceback (most recent call last)",
            "\u001b[0;32m/tmp/ipython-input-3514231446.py\u001b[0m in \u001b[0;36m<cell line: 0>\u001b[0;34m()\u001b[0m\n\u001b[0;32m----> 1\u001b[0;31m \u001b[0;32mfrom\u001b[0m \u001b[0mqiskit\u001b[0m \u001b[0;32mimport\u001b[0m \u001b[0mQuantumCircuit\u001b[0m\u001b[0;34m,\u001b[0m \u001b[0mAer\u001b[0m\u001b[0;34m,\u001b[0m \u001b[0mexecute\u001b[0m\u001b[0;34m\u001b[0m\u001b[0;34m\u001b[0m\u001b[0m\n\u001b[0m\u001b[1;32m      2\u001b[0m \u001b[0;32mimport\u001b[0m \u001b[0mnumpy\u001b[0m \u001b[0;32mas\u001b[0m \u001b[0mnp\u001b[0m\u001b[0;34m\u001b[0m\u001b[0;34m\u001b[0m\u001b[0m\n\u001b[1;32m      3\u001b[0m \u001b[0;34m\u001b[0m\u001b[0m\n\u001b[1;32m      4\u001b[0m \u001b[0mn_steps\u001b[0m \u001b[0;34m=\u001b[0m \u001b[0;36m5\u001b[0m\u001b[0;34m\u001b[0m\u001b[0;34m\u001b[0m\u001b[0m\n\u001b[1;32m      5\u001b[0m \u001b[0mn_pos\u001b[0m \u001b[0;34m=\u001b[0m \u001b[0;36m2\u001b[0m\u001b[0;34m*\u001b[0m\u001b[0mn_steps\u001b[0m \u001b[0;34m+\u001b[0m \u001b[0;36m1\u001b[0m\u001b[0;34m\u001b[0m\u001b[0;34m\u001b[0m\u001b[0m\n",
            "\u001b[0;31mImportError\u001b[0m: cannot import name 'Aer' from 'qiskit' (/usr/local/lib/python3.12/dist-packages/qiskit/__init__.py)",
            "",
            "\u001b[0;31m---------------------------------------------------------------------------\u001b[0;32m\nNOTE: If your import is failing due to a missing package, you can\nmanually install dependencies using either !pip or !apt.\n\nTo view examples of installing some common dependencies, click the\n\"Open Examples\" button below.\n\u001b[0;31m---------------------------------------------------------------------------\u001b[0m\n"
          ],
          "errorDetails": {
            "actions": [
              {
                "action": "open_url",
                "actionText": "Open Examples",
                "url": "/notebooks/snippets/importing_libraries.ipynb"
              }
            ]
          }
        }
      ]
    },
    {
      "cell_type": "markdown",
      "source": [
        "QuTiP ile Matematiksel Modelleme"
      ],
      "metadata": {
        "id": "HRYujbnAexwJ"
      }
    },
    {
      "cell_type": "code",
      "source": [
        "from qutip import *\n",
        "import numpy as np\n",
        "\n",
        "n_steps = 5\n",
        "n_pos = 2*n_steps + 1\n",
        "\n",
        "# Başlangıç: coin |0>, pozisyon ortada\n",
        "coin = basis(2,0)\n",
        "positions = basis(n_pos, n_steps)\n",
        "state = tensor(coin, positions)\n",
        "\n",
        "# Hadamard coin\n",
        "H = (1/np.sqrt(2)) * Qobj([[1,1],[1,-1]])\n",
        "H_op = tensor(H, qeye(n_pos))\n",
        "\n",
        "state = H_op * state  # coin süperpozisyon\n",
        "\n",
        "# Ölçüm olasılıkları\n",
        "probs = np.abs(state.full())**2\n",
        "print(\"Olasılık dağılımı:\", probs)\n",
        "print(\"Toplam olasılık:\", np.sum(probs))  # =1\n"
      ],
      "metadata": {
        "colab": {
          "base_uri": "https://localhost:8080/"
        },
        "id": "Y4T9mTCiex1k",
        "outputId": "5470456b-3dca-43de-81a8-d4345198736b"
      },
      "execution_count": 14,
      "outputs": [
        {
          "output_type": "stream",
          "name": "stdout",
          "text": [
            "Olasılık dağılımı: [[0. ]\n",
            " [0. ]\n",
            " [0. ]\n",
            " [0. ]\n",
            " [0. ]\n",
            " [0.5]\n",
            " [0. ]\n",
            " [0. ]\n",
            " [0. ]\n",
            " [0. ]\n",
            " [0. ]\n",
            " [0. ]\n",
            " [0. ]\n",
            " [0. ]\n",
            " [0. ]\n",
            " [0. ]\n",
            " [0.5]\n",
            " [0. ]\n",
            " [0. ]\n",
            " [0. ]\n",
            " [0. ]\n",
            " [0. ]]\n",
            "Toplam olasılık: 0.9999999999999998\n"
          ]
        }
      ]
    },
    {
      "cell_type": "markdown",
      "source": [
        "BİR ÇİZGİ ÜZERİNDE KUANTUMSAL YÜRÜME"
      ],
      "metadata": {
        "id": "ozznZ_a-ex8F"
      }
    },
    {
      "cell_type": "markdown",
      "source": [
        "Cirq ile 1D Kuantum Yürüyüşü (Coin + Pozisyon)"
      ],
      "metadata": {
        "id": "nRkPGtBcex-2"
      }
    },
    {
      "cell_type": "code",
      "source": [
        "import cirq\n",
        "import numpy as np\n",
        "\n",
        "n_steps = 5\n",
        "coin = cirq.LineQubit(0)\n",
        "positions = [cirq.LineQubit(i+1) for i in range(2*n_steps+1)]  # pozisyon -n..+n\n",
        "\n",
        "circuit = cirq.Circuit()\n",
        "\n",
        "# Başlangıç: coin |L> ve pozisyon ortada\n",
        "circuit.append(cirq.X(positions[n_steps]))\n",
        "\n",
        "# Hadamard coin + kaydırma operatörü\n",
        "def step(circuit, coin, positions):\n",
        "    circuit.append(cirq.H(coin))  # coin süperpozisyon\n",
        "    for i in range(len(positions)-1):\n",
        "        circuit.append(cirq.CNOT(coin, positions[i+1]))  # L/R koşullu kaydırma\n",
        "\n",
        "for _ in range(n_steps):\n",
        "    step(circuit, coin, positions)\n",
        "\n",
        "circuit.append(cirq.measure(*positions, key='pos'))\n",
        "sim = cirq.Simulator()\n",
        "result = sim.run(circuit, repetitions=1000)\n",
        "print(result.histogram(key='pos'))\n"
      ],
      "metadata": {
        "colab": {
          "base_uri": "https://localhost:8080/"
        },
        "id": "lNNMur4HeyFC",
        "outputId": "7cdfda81-6e2f-4fed-a979-5bbeabcafbf2"
      },
      "execution_count": 15,
      "outputs": [
        {
          "output_type": "stream",
          "name": "stdout",
          "text": [
            "Counter({32: 539, 991: 461})\n"
          ]
        }
      ]
    },
    {
      "cell_type": "markdown",
      "source": [
        "Qiskit ile 1D Kuantum Yürüyüşü (L/R Coin)"
      ],
      "metadata": {
        "id": "ioky36obeyKD"
      }
    },
    {
      "cell_type": "code",
      "source": [
        "from qiskit import QuantumCircuit, Aer, execute\n",
        "\n",
        "n_steps = 5\n",
        "n_pos = 2*n_steps + 1\n",
        "\n",
        "qc = QuantumCircuit(n_pos + 1, n_pos)  # 1 coin + pozisyon qubitleri\n",
        "qc.x(n_steps+1)  # ortadaki pozisyon\n",
        "\n",
        "def step(qc):\n",
        "    qc.h(0)  # coin süperpozisyon\n",
        "    for i in range(1, n_pos):\n",
        "        qc.cx(0, i)  # koşullu kaydırma\n",
        "\n",
        "for _ in range(n_steps):\n",
        "    step(qc)\n",
        "\n",
        "qc.measure(range(1,n_pos+1), range(n_pos))\n",
        "backend = Aer.get_backend('qasm_simulator')\n",
        "result = execute(qc, backend, shots=1000).result()\n",
        "counts = result.get_counts()\n",
        "print(counts)\n"
      ],
      "metadata": {
        "colab": {
          "base_uri": "https://localhost:8080/",
          "height": 384
        },
        "id": "NOS8ZsFgeyOr",
        "outputId": "fd1e7daa-9121-4ba7-9314-1bbb177057da"
      },
      "execution_count": 16,
      "outputs": [
        {
          "output_type": "error",
          "ename": "ImportError",
          "evalue": "cannot import name 'Aer' from 'qiskit' (/usr/local/lib/python3.12/dist-packages/qiskit/__init__.py)",
          "traceback": [
            "\u001b[0;31m---------------------------------------------------------------------------\u001b[0m",
            "\u001b[0;31mImportError\u001b[0m                               Traceback (most recent call last)",
            "\u001b[0;32m/tmp/ipython-input-3734322532.py\u001b[0m in \u001b[0;36m<cell line: 0>\u001b[0;34m()\u001b[0m\n\u001b[0;32m----> 1\u001b[0;31m \u001b[0;32mfrom\u001b[0m \u001b[0mqiskit\u001b[0m \u001b[0;32mimport\u001b[0m \u001b[0mQuantumCircuit\u001b[0m\u001b[0;34m,\u001b[0m \u001b[0mAer\u001b[0m\u001b[0;34m,\u001b[0m \u001b[0mexecute\u001b[0m\u001b[0;34m\u001b[0m\u001b[0;34m\u001b[0m\u001b[0m\n\u001b[0m\u001b[1;32m      2\u001b[0m \u001b[0;34m\u001b[0m\u001b[0m\n\u001b[1;32m      3\u001b[0m \u001b[0mn_steps\u001b[0m \u001b[0;34m=\u001b[0m \u001b[0;36m5\u001b[0m\u001b[0;34m\u001b[0m\u001b[0;34m\u001b[0m\u001b[0m\n\u001b[1;32m      4\u001b[0m \u001b[0mn_pos\u001b[0m \u001b[0;34m=\u001b[0m \u001b[0;36m2\u001b[0m\u001b[0;34m*\u001b[0m\u001b[0mn_steps\u001b[0m \u001b[0;34m+\u001b[0m \u001b[0;36m1\u001b[0m\u001b[0;34m\u001b[0m\u001b[0;34m\u001b[0m\u001b[0m\n\u001b[1;32m      5\u001b[0m \u001b[0;34m\u001b[0m\u001b[0m\n",
            "\u001b[0;31mImportError\u001b[0m: cannot import name 'Aer' from 'qiskit' (/usr/local/lib/python3.12/dist-packages/qiskit/__init__.py)",
            "",
            "\u001b[0;31m---------------------------------------------------------------------------\u001b[0;32m\nNOTE: If your import is failing due to a missing package, you can\nmanually install dependencies using either !pip or !apt.\n\nTo view examples of installing some common dependencies, click the\n\"Open Examples\" button below.\n\u001b[0;31m---------------------------------------------------------------------------\u001b[0m\n"
          ],
          "errorDetails": {
            "actions": [
              {
                "action": "open_url",
                "actionText": "Open Examples",
                "url": "/notebooks/snippets/importing_libraries.ipynb"
              }
            ]
          }
        }
      ]
    },
    {
      "cell_type": "markdown",
      "source": [
        "QuTiP ile Matematiksel Modelleme (L/R Coin)"
      ],
      "metadata": {
        "id": "ZtO-HSHreyUE"
      }
    },
    {
      "cell_type": "code",
      "source": [
        "from qutip import *\n",
        "import numpy as np\n",
        "\n",
        "n_steps = 5\n",
        "n_pos = 2*n_steps + 1\n",
        "\n",
        "# Coin |L> = |0>, |R> = |1>, pozisyon ortada\n",
        "coin = basis(2,0)\n",
        "positions = basis(n_pos, n_steps)\n",
        "state = tensor(coin, positions)\n",
        "\n",
        "# Hadamard coin\n",
        "H = (1/np.sqrt(2)) * Qobj([[1,1],[1,-1]])\n",
        "H_op = tensor(H, qeye(n_pos))\n",
        "state = H_op * state\n",
        "\n",
        "# Shift operatörü\n",
        "shift_left = sum([tensor(basis(2,0)*basis(2,0).dag(), basis(n_pos, max(i-1,0))*basis(n_pos,i).dag()) for i in range(n_pos)])\n",
        "shift_right = sum([tensor(basis(2,1)*basis(2,1).dag(), basis(n_pos, min(i+1,n_pos-1))*basis(n_pos,i).dag()) for i in range(n_pos)])\n",
        "shift = shift_left + shift_right\n",
        "\n",
        "state = shift * state\n",
        "probs = np.abs(state.full())**2\n",
        "print(\"Olasılık dağılımı:\", probs.flatten())\n",
        "print(\"Toplam olasılık:\", np.sum(probs))\n"
      ],
      "metadata": {
        "colab": {
          "base_uri": "https://localhost:8080/"
        },
        "id": "PsaBYJBZeyYO",
        "outputId": "b36b2f0f-9442-464d-d642-e9ed792a9c57"
      },
      "execution_count": 17,
      "outputs": [
        {
          "output_type": "stream",
          "name": "stdout",
          "text": [
            "Olasılık dağılımı: [0.  0.  0.  0.  0.5 0.  0.  0.  0.  0.  0.  0.  0.  0.  0.  0.  0.  0.5\n",
            " 0.  0.  0.  0. ]\n",
            "Toplam olasılık: 0.9999999999999998\n"
          ]
        }
      ]
    },
    {
      "cell_type": "markdown",
      "source": [
        "YÖNLÜ OLMAYAN KUANTUM YÜRÜME DAVRANIŞI"
      ],
      "metadata": {
        "id": "eMS0TZLXoczj"
      }
    },
    {
      "cell_type": "markdown",
      "source": [
        "Cirq ile Yönsüz Kuantum Yürüyüşü"
      ],
      "metadata": {
        "id": "X8SxGhTooc3E"
      }
    },
    {
      "cell_type": "code",
      "source": [
        "import cirq\n",
        "import numpy as np\n",
        "\n",
        "n_steps = 4\n",
        "coin = cirq.LineQubit(0)\n",
        "positions = [cirq.LineQubit(i+1) for i in range(5)]  # 5 pozisyonlu yönsüz graf\n",
        "\n",
        "circuit = cirq.Circuit()\n",
        "circuit.append(cirq.X(positions[2]))  # başlangıç ortada\n",
        "\n",
        "def step(circuit, coin, positions):\n",
        "    circuit.append(cirq.H(coin))\n",
        "    for i in range(len(positions)):\n",
        "        if i > 0:\n",
        "            circuit.append(cirq.CNOT(coin, positions[i-1]))  # sola kaydır\n",
        "        if i < len(positions)-1:\n",
        "            circuit.append(cirq.CNOT(coin, positions[i+1]))  # sağa kaydır\n",
        "\n",
        "for _ in range(n_steps):\n",
        "    step(circuit, coin, positions)\n",
        "\n",
        "circuit.append(cirq.measure(*positions, key='pos'))\n",
        "sim = cirq.Simulator()\n",
        "result = sim.run(circuit, repetitions=1000)\n",
        "print(result.histogram(key='pos'))\n"
      ],
      "metadata": {
        "colab": {
          "base_uri": "https://localhost:8080/"
        },
        "id": "PtcYvc-1odVu",
        "outputId": "80cab29d-fe89-4a4d-d73a-8f44d69fafb2"
      },
      "execution_count": 18,
      "outputs": [
        {
          "output_type": "stream",
          "name": "stdout",
          "text": [
            "Counter({21: 1000})\n"
          ]
        }
      ]
    },
    {
      "cell_type": "markdown",
      "source": [
        "Qiskit ile Yönsüz Kuantum Yürüyüşü"
      ],
      "metadata": {
        "id": "To1AN-ECode_"
      }
    },
    {
      "cell_type": "code",
      "source": [
        "from qiskit import QuantumCircuit, Aer, execute\n",
        "\n",
        "n_pos = 5\n",
        "n_steps = 4\n",
        "qc = QuantumCircuit(n_pos + 1, n_pos)  # coin + pozisyon qubitleri\n",
        "qc.x(3)  # ortadaki pozisyon\n",
        "\n",
        "def step(qc):\n",
        "    qc.h(0)  # coin süperpozisyon\n",
        "    for i in range(1, n_pos+1):\n",
        "        if i > 1:\n",
        "            qc.cx(0, i-1)  # sola kaydır\n",
        "        if i < n_pos:\n",
        "            qc.cx(0, i)  # sağa kaydır\n",
        "\n",
        "for _ in range(n_steps):\n",
        "    step(qc)\n",
        "\n",
        "qc.measure(range(1, n_pos+1), range(n_pos))\n",
        "backend = Aer.get_backend('qasm_simulator')\n",
        "counts = execute(qc, backend, shots=1000).result().get_counts()\n",
        "print(counts)\n"
      ],
      "metadata": {
        "colab": {
          "base_uri": "https://localhost:8080/",
          "height": 384
        },
        "id": "DZBgHZs0odjy",
        "outputId": "1cdcc710-da83-4022-ef27-abd4ac127a5e"
      },
      "execution_count": 19,
      "outputs": [
        {
          "output_type": "error",
          "ename": "ImportError",
          "evalue": "cannot import name 'Aer' from 'qiskit' (/usr/local/lib/python3.12/dist-packages/qiskit/__init__.py)",
          "traceback": [
            "\u001b[0;31m---------------------------------------------------------------------------\u001b[0m",
            "\u001b[0;31mImportError\u001b[0m                               Traceback (most recent call last)",
            "\u001b[0;32m/tmp/ipython-input-1415654584.py\u001b[0m in \u001b[0;36m<cell line: 0>\u001b[0;34m()\u001b[0m\n\u001b[0;32m----> 1\u001b[0;31m \u001b[0;32mfrom\u001b[0m \u001b[0mqiskit\u001b[0m \u001b[0;32mimport\u001b[0m \u001b[0mQuantumCircuit\u001b[0m\u001b[0;34m,\u001b[0m \u001b[0mAer\u001b[0m\u001b[0;34m,\u001b[0m \u001b[0mexecute\u001b[0m\u001b[0;34m\u001b[0m\u001b[0;34m\u001b[0m\u001b[0m\n\u001b[0m\u001b[1;32m      2\u001b[0m \u001b[0;34m\u001b[0m\u001b[0m\n\u001b[1;32m      3\u001b[0m \u001b[0mn_pos\u001b[0m \u001b[0;34m=\u001b[0m \u001b[0;36m5\u001b[0m\u001b[0;34m\u001b[0m\u001b[0;34m\u001b[0m\u001b[0m\n\u001b[1;32m      4\u001b[0m \u001b[0mn_steps\u001b[0m \u001b[0;34m=\u001b[0m \u001b[0;36m4\u001b[0m\u001b[0;34m\u001b[0m\u001b[0;34m\u001b[0m\u001b[0m\n\u001b[1;32m      5\u001b[0m \u001b[0mqc\u001b[0m \u001b[0;34m=\u001b[0m \u001b[0mQuantumCircuit\u001b[0m\u001b[0;34m(\u001b[0m\u001b[0mn_pos\u001b[0m \u001b[0;34m+\u001b[0m \u001b[0;36m1\u001b[0m\u001b[0;34m,\u001b[0m \u001b[0mn_pos\u001b[0m\u001b[0;34m)\u001b[0m  \u001b[0;31m# coin + pozisyon qubitleri\u001b[0m\u001b[0;34m\u001b[0m\u001b[0;34m\u001b[0m\u001b[0m\n",
            "\u001b[0;31mImportError\u001b[0m: cannot import name 'Aer' from 'qiskit' (/usr/local/lib/python3.12/dist-packages/qiskit/__init__.py)",
            "",
            "\u001b[0;31m---------------------------------------------------------------------------\u001b[0;32m\nNOTE: If your import is failing due to a missing package, you can\nmanually install dependencies using either !pip or !apt.\n\nTo view examples of installing some common dependencies, click the\n\"Open Examples\" button below.\n\u001b[0;31m---------------------------------------------------------------------------\u001b[0m\n"
          ],
          "errorDetails": {
            "actions": [
              {
                "action": "open_url",
                "actionText": "Open Examples",
                "url": "/notebooks/snippets/importing_libraries.ipynb"
              }
            ]
          }
        }
      ]
    },
    {
      "cell_type": "markdown",
      "source": [
        "QuTiP ile Yönsüz Kuantum Yürüyüşü"
      ],
      "metadata": {
        "id": "Ugk0lqXhodpT"
      }
    },
    {
      "cell_type": "code",
      "source": [
        "from qutip import *\n",
        "import numpy as np\n",
        "\n",
        "n_pos = 5\n",
        "n_steps = 4\n",
        "\n",
        "# Başlangıç: coin |0> ve pozisyon ortada\n",
        "coin = basis(2,0)\n",
        "positions = basis(n_pos, n_pos//2)\n",
        "state = tensor(coin, positions)\n",
        "\n",
        "H = (1/np.sqrt(2)) * Qobj([[1,1],[1,-1]])\n",
        "H_op = tensor(H, qeye(n_pos))\n",
        "\n",
        "shift_left = sum([tensor(basis(2,0)*basis(2,0).dag(), basis(n_pos, max(i-1,0))*basis(n_pos,i).dag()) for i in range(n_pos)])\n",
        "shift_right = sum([tensor(basis(2,1)*basis(2,1).dag(), basis(n_pos, min(i+1,n_pos-1))*basis(n_pos,i).dag()) for i in range(n_pos)])\n",
        "shift = shift_left + shift_right\n",
        "\n",
        "for _ in range(n_steps):\n",
        "    state = H_op * state\n",
        "    state = shift * state\n",
        "\n",
        "probs = np.abs(state.full())**2\n",
        "print(\"Olasılık dağılımı:\", probs.flatten())\n",
        "print(\"Toplam olasılık:\", np.sum(probs))\n"
      ],
      "metadata": {
        "colab": {
          "base_uri": "https://localhost:8080/"
        },
        "id": "UF5SR4xOoduA",
        "outputId": "613f571b-8779-444a-946e-d7baf95a2530"
      },
      "execution_count": 20,
      "outputs": [
        {
          "output_type": "stream",
          "name": "stdout",
          "text": [
            "Olasılık dağılımı: [1.     0.     0.0625 0.0625 0.     0.     0.0625 0.0625 0.     0.25  ]\n",
            "Toplam olasılık: 1.4999999999999991\n"
          ]
        }
      ]
    },
    {
      "cell_type": "markdown",
      "source": [
        "TERSLENEBİLEN VE TERSLENEMEYEN GRAFLAR"
      ],
      "metadata": {
        "id": "bH10qtMpo41-"
      }
    },
    {
      "cell_type": "markdown",
      "source": [
        "Cirq ile Terslenebilir Kuantum Yürüyüşü"
      ],
      "metadata": {
        "id": "CNsxRryao5AD"
      }
    },
    {
      "cell_type": "code",
      "source": [
        "import cirq\n",
        "import numpy as np\n",
        "import matplotlib.pyplot as plt\n",
        "\n",
        "# Qubitler: coin + pozisyonlar\n",
        "n_pos = 5\n",
        "coin = cirq.LineQubit(0)\n",
        "positions = [cirq.LineQubit(i+1) for i in range(n_pos)]\n",
        "\n",
        "circuit = cirq.Circuit()\n",
        "circuit.append(cirq.X(positions[2]))  # Başlangıç ortada\n",
        "\n",
        "def step(circuit, coin, positions):\n",
        "    circuit.append(cirq.H(coin))\n",
        "    for i in range(len(positions)):\n",
        "        if i > 0:\n",
        "            circuit.append(cirq.CNOT(coin, positions[i-1]))\n",
        "        if i < len(positions)-1:\n",
        "            circuit.append(cirq.CNOT(coin, positions[i+1]))\n",
        "\n",
        "# 4 adım yürüyüş\n",
        "for _ in range(4):\n",
        "    step(circuit, coin, positions)\n",
        "\n",
        "circuit.append(cirq.measure(*positions, key='pos'))\n",
        "sim = cirq.Simulator()\n",
        "result = sim.run(circuit, repetitions=1000)\n",
        "counts = result.histogram(key='pos')\n",
        "print(\"Olasılık dağılımı:\", counts)\n"
      ],
      "metadata": {
        "colab": {
          "base_uri": "https://localhost:8080/"
        },
        "id": "3SvVz_ueo65R",
        "outputId": "693159e5-78c3-41ab-86b0-f0a23b98bf10"
      },
      "execution_count": 21,
      "outputs": [
        {
          "output_type": "stream",
          "name": "stdout",
          "text": [
            "Olasılık dağılımı: Counter({21: 1000})\n"
          ]
        }
      ]
    },
    {
      "cell_type": "markdown",
      "source": [
        "Qiskit ile Terslenebilir Kuantum Yürüyüşü"
      ],
      "metadata": {
        "id": "EzCgoVAho7Og"
      }
    },
    {
      "cell_type": "code",
      "source": [
        "from qiskit import QuantumCircuit, Aer, execute\n",
        "\n",
        "n_pos = 5\n",
        "qc = QuantumCircuit(n_pos + 1, n_pos)  # coin + pozisyon\n",
        "qc.x(3)  # başlangıç ortada\n",
        "\n",
        "def step(qc):\n",
        "    qc.h(0)  # coin\n",
        "    for i in range(1, n_pos+1):\n",
        "        if i > 1:\n",
        "            qc.cx(0, i-1)  # sola kaydır\n",
        "        if i < n_pos:\n",
        "            qc.cx(0, i)  # sağa kaydır\n",
        "\n",
        "for _ in range(4):\n",
        "    step(qc)\n",
        "\n",
        "qc.measure(range(1, n_pos+1), range(n_pos))\n",
        "backend = Aer.get_backend('qasm_simulator')\n",
        "counts = execute(qc, backend, shots=1000).result().get_counts()\n",
        "print(\"Olasılık dağılımı:\", counts)\n"
      ],
      "metadata": {
        "colab": {
          "base_uri": "https://localhost:8080/",
          "height": 384
        },
        "id": "J6xJP_VXo7UD",
        "outputId": "755bc81e-bdef-41ae-db6d-df4e379ae8c8"
      },
      "execution_count": 22,
      "outputs": [
        {
          "output_type": "error",
          "ename": "ImportError",
          "evalue": "cannot import name 'Aer' from 'qiskit' (/usr/local/lib/python3.12/dist-packages/qiskit/__init__.py)",
          "traceback": [
            "\u001b[0;31m---------------------------------------------------------------------------\u001b[0m",
            "\u001b[0;31mImportError\u001b[0m                               Traceback (most recent call last)",
            "\u001b[0;32m/tmp/ipython-input-2986380510.py\u001b[0m in \u001b[0;36m<cell line: 0>\u001b[0;34m()\u001b[0m\n\u001b[0;32m----> 1\u001b[0;31m \u001b[0;32mfrom\u001b[0m \u001b[0mqiskit\u001b[0m \u001b[0;32mimport\u001b[0m \u001b[0mQuantumCircuit\u001b[0m\u001b[0;34m,\u001b[0m \u001b[0mAer\u001b[0m\u001b[0;34m,\u001b[0m \u001b[0mexecute\u001b[0m\u001b[0;34m\u001b[0m\u001b[0;34m\u001b[0m\u001b[0m\n\u001b[0m\u001b[1;32m      2\u001b[0m \u001b[0;34m\u001b[0m\u001b[0m\n\u001b[1;32m      3\u001b[0m \u001b[0mn_pos\u001b[0m \u001b[0;34m=\u001b[0m \u001b[0;36m5\u001b[0m\u001b[0;34m\u001b[0m\u001b[0;34m\u001b[0m\u001b[0m\n\u001b[1;32m      4\u001b[0m \u001b[0mqc\u001b[0m \u001b[0;34m=\u001b[0m \u001b[0mQuantumCircuit\u001b[0m\u001b[0;34m(\u001b[0m\u001b[0mn_pos\u001b[0m \u001b[0;34m+\u001b[0m \u001b[0;36m1\u001b[0m\u001b[0;34m,\u001b[0m \u001b[0mn_pos\u001b[0m\u001b[0;34m)\u001b[0m  \u001b[0;31m# coin + pozisyon\u001b[0m\u001b[0;34m\u001b[0m\u001b[0;34m\u001b[0m\u001b[0m\n\u001b[1;32m      5\u001b[0m \u001b[0mqc\u001b[0m\u001b[0;34m.\u001b[0m\u001b[0mx\u001b[0m\u001b[0;34m(\u001b[0m\u001b[0;36m3\u001b[0m\u001b[0;34m)\u001b[0m  \u001b[0;31m# başlangıç ortada\u001b[0m\u001b[0;34m\u001b[0m\u001b[0;34m\u001b[0m\u001b[0m\n",
            "\u001b[0;31mImportError\u001b[0m: cannot import name 'Aer' from 'qiskit' (/usr/local/lib/python3.12/dist-packages/qiskit/__init__.py)",
            "",
            "\u001b[0;31m---------------------------------------------------------------------------\u001b[0;32m\nNOTE: If your import is failing due to a missing package, you can\nmanually install dependencies using either !pip or !apt.\n\nTo view examples of installing some common dependencies, click the\n\"Open Examples\" button below.\n\u001b[0;31m---------------------------------------------------------------------------\u001b[0m\n"
          ],
          "errorDetails": {
            "actions": [
              {
                "action": "open_url",
                "actionText": "Open Examples",
                "url": "/notebooks/snippets/importing_libraries.ipynb"
              }
            ]
          }
        }
      ]
    },
    {
      "cell_type": "markdown",
      "source": [
        "QuTiP ile Terslenebilir Kuantum Yürüyüşü"
      ],
      "metadata": {
        "id": "0FYEEM4xo7aA"
      }
    },
    {
      "cell_type": "code",
      "source": [
        "from qutip import *\n",
        "import numpy as np\n",
        "\n",
        "n_pos = 5\n",
        "n_steps = 4\n",
        "\n",
        "# Başlangıç: coin |0> ve pozisyon ortada\n",
        "coin = basis(2,0)\n",
        "positions = basis(n_pos, n_pos//2)\n",
        "state = tensor(coin, positions)\n",
        "\n",
        "H = (1/np.sqrt(2)) * Qobj([[1,1],[1,-1]])\n",
        "H_op = tensor(H, qeye(n_pos))\n",
        "\n",
        "# Kaydırma operatörleri\n",
        "shift_left = sum([tensor(basis(2,0)*basis(2,0).dag(), basis(n_pos, max(i-1,0))*basis(n_pos,i).dag()) for i in range(n_pos)])\n",
        "shift_right = sum([tensor(basis(2,1)*basis(2,1).dag(), basis(n_pos, min(i+1,n_pos-1))*basis(n_pos,i).dag()) for i in range(n_pos)])\n",
        "shift = shift_left + shift_right\n",
        "\n",
        "for _ in range(n_steps):\n",
        "    state = H_op * state\n",
        "    state = shift * state\n",
        "\n",
        "probs = np.abs(state.full())**2\n",
        "print(\"Olasılık dağılımı:\", probs.flatten())\n",
        "print(\"Toplam olasılık:\", np.sum(probs))\n"
      ],
      "metadata": {
        "colab": {
          "base_uri": "https://localhost:8080/"
        },
        "id": "oE1IPK2Vo7eP",
        "outputId": "a17449f9-0c86-4d97-897a-6f3f0ba72936"
      },
      "execution_count": 23,
      "outputs": [
        {
          "output_type": "stream",
          "name": "stdout",
          "text": [
            "Olasılık dağılımı: [1.     0.     0.0625 0.0625 0.     0.     0.0625 0.0625 0.     0.25  ]\n",
            "Toplam olasılık: 1.4999999999999991\n"
          ]
        }
      ]
    }
  ]
}