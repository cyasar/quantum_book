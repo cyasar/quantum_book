{
  "nbformat": 4,
  "nbformat_minor": 0,
  "metadata": {
    "colab": {
      "provenance": []
    },
    "kernelspec": {
      "name": "python3",
      "display_name": "Python 3"
    },
    "language_info": {
      "name": "python"
    }
  },
  "cells": [
    {
      "cell_type": "markdown",
      "source": [
        "Ön hazırlık (kütüphane kurulumu)"
      ],
      "metadata": {
        "id": "HkikwNrKNzeD"
      }
    },
    {
      "cell_type": "code",
      "execution_count": 1,
      "metadata": {
        "colab": {
          "base_uri": "https://localhost:8080/"
        },
        "id": "anfl_eMVNzeD",
        "outputId": "e50ae46b-3cf1-4fb5-c804-7577329815f2"
      },
      "outputs": [
        {
          "output_type": "stream",
          "name": "stdout",
          "text": [
            "\u001b[2K   \u001b[90m━━━━━━━━━━━━━━━━━━━━━━━━━━━━━━━━━━━━━━━━\u001b[0m \u001b[32m2.0/2.0 MB\u001b[0m \u001b[31m25.7 MB/s\u001b[0m eta \u001b[36m0:00:00\u001b[0m\n",
            "\u001b[2K   \u001b[90m━━━━━━━━━━━━━━━━━━━━━━━━━━━━━━━━━━━━━━━━\u001b[0m \u001b[32m670.8/670.8 kB\u001b[0m \u001b[31m34.9 MB/s\u001b[0m eta \u001b[36m0:00:00\u001b[0m\n",
            "\u001b[2K   \u001b[90m━━━━━━━━━━━━━━━━━━━━━━━━━━━━━━━━━━━━━━━━\u001b[0m \u001b[32m73.5/73.5 kB\u001b[0m \u001b[31m4.3 MB/s\u001b[0m eta \u001b[36m0:00:00\u001b[0m\n",
            "\u001b[2K   \u001b[90m━━━━━━━━━━━━━━━━━━━━━━━━━━━━━━━━━━━━━━━━\u001b[0m \u001b[32m430.5/430.5 kB\u001b[0m \u001b[31m17.4 MB/s\u001b[0m eta \u001b[36m0:00:00\u001b[0m\n",
            "\u001b[2K   \u001b[90m━━━━━━━━━━━━━━━━━━━━━━━━━━━━━━━━━━━━━━━━\u001b[0m \u001b[32m8.0/8.0 MB\u001b[0m \u001b[31m84.8 MB/s\u001b[0m eta \u001b[36m0:00:00\u001b[0m\n",
            "\u001b[2K   \u001b[90m━━━━━━━━━━━━━━━━━━━━━━━━━━━━━━━━━━━━━━━━\u001b[0m \u001b[32m31.8/31.8 MB\u001b[0m \u001b[31m41.3 MB/s\u001b[0m eta \u001b[36m0:00:00\u001b[0m\n",
            "\u001b[2K   \u001b[90m━━━━━━━━━━━━━━━━━━━━━━━━━━━━━━━━━━━━━━━━\u001b[0m \u001b[32m2.2/2.2 MB\u001b[0m \u001b[31m70.2 MB/s\u001b[0m eta \u001b[36m0:00:00\u001b[0m\n",
            "\u001b[2K   \u001b[90m━━━━━━━━━━━━━━━━━━━━━━━━━━━━━━━━━━━━━━━━\u001b[0m \u001b[32m49.5/49.5 kB\u001b[0m \u001b[31m2.5 MB/s\u001b[0m eta \u001b[36m0:00:00\u001b[0m\n",
            "\u001b[2K   \u001b[90m━━━━━━━━━━━━━━━━━━━━━━━━━━━━━━━━━━━━━━━━\u001b[0m \u001b[32m2.8/2.8 MB\u001b[0m \u001b[31m61.5 MB/s\u001b[0m eta \u001b[36m0:00:00\u001b[0m\n",
            "\u001b[?25h"
          ]
        }
      ],
      "source": [
        "# Gerekli kütüphaneleri yükleyelim (Colab hücresine)\n",
        "!pip install cirq qiskit qutip numpy matplotlib --quiet"
      ]
    },
    {
      "cell_type": "markdown",
      "source": [
        "Cirq ile İç Çarpım, Norm ve Ortogonallik"
      ],
      "metadata": {
        "id": "PmcsQyQJrsNu"
      }
    },
    {
      "cell_type": "code",
      "source": [
        "import numpy as np\n",
        "\n",
        "# İki farklı kuantum durumu tanımlayalım\n",
        "psi1 = np.array([1/np.sqrt(2), 1/np.sqrt(2)])   # |ψ1> = (|0> + |1>) / sqrt(2)\n",
        "psi2 = np.array([1/np.sqrt(2), -1/np.sqrt(2)])  # |ψ2> = (|0> - |1>) / sqrt(2)\n",
        "\n",
        "# Bra vektörleri (conjugate transpose)\n",
        "bra1 = np.conjugate(psi1)\n",
        "bra2 = np.conjugate(psi2)\n",
        "\n",
        "# İç çarpımlar\n",
        "inner1 = np.vdot(psi1, psi1)   # <ψ1|ψ1>\n",
        "inner2 = np.vdot(psi2, psi2)   # <ψ2|ψ2>\n",
        "inner12 = np.vdot(psi1, psi2)  # <ψ1|ψ2>\n",
        "\n",
        "print(\"⟨ψ1|ψ1⟩ =\", inner1)\n",
        "print(\"⟨ψ2|ψ2⟩ =\", inner2)\n",
        "print(\"⟨ψ1|ψ2⟩ =\", inner12)\n"
      ],
      "metadata": {
        "colab": {
          "base_uri": "https://localhost:8080/"
        },
        "id": "PvFZdut9rso2",
        "outputId": "c561d604-b1da-4966-d724-8fc229b2fd3c"
      },
      "execution_count": 2,
      "outputs": [
        {
          "output_type": "stream",
          "name": "stdout",
          "text": [
            "⟨ψ1|ψ1⟩ = 0.9999999999999998\n",
            "⟨ψ2|ψ2⟩ = 0.9999999999999998\n",
            "⟨ψ1|ψ2⟩ = 0.0\n"
          ]
        }
      ]
    },
    {
      "cell_type": "markdown",
      "source": [
        "Qiskit ile İç Çarpım"
      ],
      "metadata": {
        "id": "ceppI4AIr7D_"
      }
    },
    {
      "cell_type": "code",
      "execution_count": 3,
      "metadata": {
        "colab": {
          "base_uri": "https://localhost:8080/"
        },
        "id": "sXrJI_Vmrkrt",
        "outputId": "03ef5dd0-8614-4338-f54f-decd74b5a5dc"
      },
      "outputs": [
        {
          "output_type": "stream",
          "name": "stdout",
          "text": [
            "⟨ψ1|ψ1⟩ = (0.9999999999999998+0j)\n",
            "⟨ψ2|ψ2⟩ = (0.9999999999999998+0j)\n",
            "⟨ψ1|ψ2⟩ = 0j\n"
          ]
        }
      ],
      "source": [
        "import numpy as np\n",
        "from qiskit.quantum_info import Statevector\n",
        "\n",
        "# Durum vektörleri\n",
        "psi1 = Statevector([1/np.sqrt(2), 1/np.sqrt(2)])\n",
        "psi2 = Statevector([1/np.sqrt(2), -1/np.sqrt(2)])\n",
        "\n",
        "# İç çarpımlar\n",
        "inner1 = np.vdot(psi1.data, psi1.data)\n",
        "inner2 = np.vdot(psi2.data, psi2.data)\n",
        "inner12 = np.vdot(psi1.data, psi2.data)\n",
        "\n",
        "print(\"⟨ψ1|ψ1⟩ =\", inner1)\n",
        "print(\"⟨ψ2|ψ2⟩ =\", inner2)\n",
        "print(\"⟨ψ1|ψ2⟩ =\", inner12)\n"
      ]
    },
    {
      "cell_type": "markdown",
      "source": [
        "QuTiP ile İç Çarpım"
      ],
      "metadata": {
        "id": "i95yQNRqr8uW"
      }
    },
    {
      "cell_type": "code",
      "source": [
        "import numpy as np\n",
        "from qutip import Qobj\n",
        "\n",
        "# Kuantum durumları\n",
        "psi1 = Qobj([1/np.sqrt(2), 1/np.sqrt(2)])\n",
        "psi2 = Qobj([1/np.sqrt(2), -1/np.sqrt(2)])\n",
        "\n",
        "# İç çarpımlar\n",
        "inner1 = (psi1.dag() * psi1)[0,0]\n",
        "inner2 = (psi2.dag() * psi2)[0,0]\n",
        "inner12 = (psi1.dag() * psi2)[0,0]\n",
        "\n",
        "print(\"⟨ψ1|ψ1⟩ =\", inner1)\n",
        "print(\"⟨ψ2|ψ2⟩ =\", inner2)\n",
        "print(\"⟨ψ1|ψ2⟩ =\", inner12)\n"
      ],
      "metadata": {
        "colab": {
          "base_uri": "https://localhost:8080/",
          "height": 211
        },
        "id": "Qsjt56fir8_D",
        "outputId": "0c33910f-8606-43cf-d83b-24a5215fe824"
      },
      "execution_count": 7,
      "outputs": [
        {
          "output_type": "error",
          "ename": "TypeError",
          "evalue": "'complex' object is not subscriptable",
          "traceback": [
            "\u001b[0;31m---------------------------------------------------------------------------\u001b[0m",
            "\u001b[0;31mTypeError\u001b[0m                                 Traceback (most recent call last)",
            "\u001b[0;32m/tmp/ipython-input-551166580.py\u001b[0m in \u001b[0;36m<cell line: 0>\u001b[0;34m()\u001b[0m\n\u001b[1;32m      7\u001b[0m \u001b[0;34m\u001b[0m\u001b[0m\n\u001b[1;32m      8\u001b[0m \u001b[0;31m# İç çarpımlar\u001b[0m\u001b[0;34m\u001b[0m\u001b[0;34m\u001b[0m\u001b[0m\n\u001b[0;32m----> 9\u001b[0;31m \u001b[0minner1\u001b[0m \u001b[0;34m=\u001b[0m \u001b[0;34m(\u001b[0m\u001b[0mpsi1\u001b[0m\u001b[0;34m.\u001b[0m\u001b[0mdag\u001b[0m\u001b[0;34m(\u001b[0m\u001b[0;34m)\u001b[0m \u001b[0;34m*\u001b[0m \u001b[0mpsi1\u001b[0m\u001b[0;34m)\u001b[0m\u001b[0;34m[\u001b[0m\u001b[0;36m0\u001b[0m\u001b[0;34m,\u001b[0m\u001b[0;36m0\u001b[0m\u001b[0;34m]\u001b[0m\u001b[0;34m\u001b[0m\u001b[0;34m\u001b[0m\u001b[0m\n\u001b[0m\u001b[1;32m     10\u001b[0m \u001b[0minner2\u001b[0m \u001b[0;34m=\u001b[0m \u001b[0;34m(\u001b[0m\u001b[0mpsi2\u001b[0m\u001b[0;34m.\u001b[0m\u001b[0mdag\u001b[0m\u001b[0;34m(\u001b[0m\u001b[0;34m)\u001b[0m \u001b[0;34m*\u001b[0m \u001b[0mpsi2\u001b[0m\u001b[0;34m)\u001b[0m\u001b[0;34m[\u001b[0m\u001b[0;36m0\u001b[0m\u001b[0;34m,\u001b[0m\u001b[0;36m0\u001b[0m\u001b[0;34m]\u001b[0m\u001b[0;34m\u001b[0m\u001b[0;34m\u001b[0m\u001b[0m\n\u001b[1;32m     11\u001b[0m \u001b[0minner12\u001b[0m \u001b[0;34m=\u001b[0m \u001b[0;34m(\u001b[0m\u001b[0mpsi1\u001b[0m\u001b[0;34m.\u001b[0m\u001b[0mdag\u001b[0m\u001b[0;34m(\u001b[0m\u001b[0;34m)\u001b[0m \u001b[0;34m*\u001b[0m \u001b[0mpsi2\u001b[0m\u001b[0;34m)\u001b[0m\u001b[0;34m[\u001b[0m\u001b[0;36m0\u001b[0m\u001b[0;34m,\u001b[0m\u001b[0;36m0\u001b[0m\u001b[0;34m]\u001b[0m\u001b[0;34m\u001b[0m\u001b[0;34m\u001b[0m\u001b[0m\n",
            "\u001b[0;31mTypeError\u001b[0m: 'complex' object is not subscriptable"
          ]
        }
      ]
    }
  ]
}