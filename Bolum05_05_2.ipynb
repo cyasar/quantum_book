{
  "nbformat": 4,
  "nbformat_minor": 0,
  "metadata": {
    "colab": {
      "provenance": []
    },
    "kernelspec": {
      "name": "python3",
      "display_name": "Python 3"
    },
    "language_info": {
      "name": "python"
    }
  },
  "cells": [
    {
      "cell_type": "markdown",
      "source": [
        "Ön hazırlık (kütüphane kurulumu)"
      ],
      "metadata": {
        "id": "HkikwNrKNzeD"
      }
    },
    {
      "cell_type": "code",
      "execution_count": 1,
      "metadata": {
        "colab": {
          "base_uri": "https://localhost:8080/"
        },
        "id": "anfl_eMVNzeD",
        "outputId": "dc2103b8-5021-4696-ce79-ca98fe27d3a2"
      },
      "outputs": [
        {
          "output_type": "stream",
          "name": "stdout",
          "text": [
            "\u001b[?25l   \u001b[90m━━━━━━━━━━━━━━━━━━━━━━━━━━━━━━━━━━━━━━━━\u001b[0m \u001b[32m0.0/2.0 MB\u001b[0m \u001b[31m?\u001b[0m eta \u001b[36m-:--:--\u001b[0m\r\u001b[2K   \u001b[91m━━━━━━━━━━━━━━━━━━━━━━━━━━━━━━━━━━━━━━━\u001b[0m\u001b[91m╸\u001b[0m \u001b[32m2.0/2.0 MB\u001b[0m \u001b[31m109.6 MB/s\u001b[0m eta \u001b[36m0:00:01\u001b[0m\r\u001b[2K   \u001b[90m━━━━━━━━━━━━━━━━━━━━━━━━━━━━━━━━━━━━━━━━\u001b[0m \u001b[32m2.0/2.0 MB\u001b[0m \u001b[31m45.1 MB/s\u001b[0m eta \u001b[36m0:00:00\u001b[0m\n",
            "\u001b[?25h\u001b[?25l   \u001b[90m━━━━━━━━━━━━━━━━━━━━━━━━━━━━━━━━━━━━━━━━\u001b[0m \u001b[32m0.0/670.8 kB\u001b[0m \u001b[31m?\u001b[0m eta \u001b[36m-:--:--\u001b[0m\r\u001b[2K   \u001b[90m━━━━━━━━━━━━━━━━━━━━━━━━━━━━━━━━━━━━━━━━\u001b[0m \u001b[32m670.8/670.8 kB\u001b[0m \u001b[31m30.7 MB/s\u001b[0m eta \u001b[36m0:00:00\u001b[0m\n",
            "\u001b[?25h\u001b[?25l   \u001b[90m━━━━━━━━━━━━━━━━━━━━━━━━━━━━━━━━━━━━━━━━\u001b[0m \u001b[32m0.0/73.5 kB\u001b[0m \u001b[31m?\u001b[0m eta \u001b[36m-:--:--\u001b[0m\r\u001b[2K   \u001b[90m━━━━━━━━━━━━━━━━━━━━━━━━━━━━━━━━━━━━━━━━\u001b[0m \u001b[32m73.5/73.5 kB\u001b[0m \u001b[31m4.7 MB/s\u001b[0m eta \u001b[36m0:00:00\u001b[0m\n",
            "\u001b[2K   \u001b[90m━━━━━━━━━━━━━━━━━━━━━━━━━━━━━━━━━━━━━━━━\u001b[0m \u001b[32m430.5/430.5 kB\u001b[0m \u001b[31m29.1 MB/s\u001b[0m eta \u001b[36m0:00:00\u001b[0m\n",
            "\u001b[2K   \u001b[90m━━━━━━━━━━━━━━━━━━━━━━━━━━━━━━━━━━━━━━━━\u001b[0m \u001b[32m8.0/8.0 MB\u001b[0m \u001b[31m89.7 MB/s\u001b[0m eta \u001b[36m0:00:00\u001b[0m\n",
            "\u001b[2K   \u001b[90m━━━━━━━━━━━━━━━━━━━━━━━━━━━━━━━━━━━━━━━━\u001b[0m \u001b[32m31.8/31.8 MB\u001b[0m \u001b[31m48.6 MB/s\u001b[0m eta \u001b[36m0:00:00\u001b[0m\n",
            "\u001b[2K   \u001b[90m━━━━━━━━━━━━━━━━━━━━━━━━━━━━━━━━━━━━━━━━\u001b[0m \u001b[32m2.2/2.2 MB\u001b[0m \u001b[31m69.5 MB/s\u001b[0m eta \u001b[36m0:00:00\u001b[0m\n",
            "\u001b[2K   \u001b[90m━━━━━━━━━━━━━━━━━━━━━━━━━━━━━━━━━━━━━━━━\u001b[0m \u001b[32m49.5/49.5 kB\u001b[0m \u001b[31m3.4 MB/s\u001b[0m eta \u001b[36m0:00:00\u001b[0m\n",
            "\u001b[2K   \u001b[90m━━━━━━━━━━━━━━━━━━━━━━━━━━━━━━━━━━━━━━━━\u001b[0m \u001b[32m2.8/2.8 MB\u001b[0m \u001b[31m69.8 MB/s\u001b[0m eta \u001b[36m0:00:00\u001b[0m\n",
            "\u001b[?25h"
          ]
        }
      ],
      "source": [
        "# Gerekli kütüphaneleri yükleyelim (Colab hücresine)\n",
        "!pip install cirq qiskit qutip numpy matplotlib --quiet"
      ]
    },
    {
      "cell_type": "markdown",
      "source": [
        "Cirq / NumPy — genel ve verilen 3×3 örneği"
      ],
      "metadata": {
        "id": "LwTUsghvt78L"
      }
    },
    {
      "cell_type": "code",
      "source": [
        "# cirq_eig_example.py  (uses numpy; Cirq only for unitary-check examples if needed)\n",
        "import numpy as np\n",
        "\n",
        "def normalize(v):\n",
        "    norm = np.linalg.norm(v)\n",
        "    return v / norm if norm != 0 else v\n",
        "\n",
        "# --- Genel 2x2 örnek (a b; c d) için eigen decomposition ---\n",
        "A2 = np.array([[1, 2],\n",
        "               [3, 4]], dtype=complex)\n",
        "eigvals2, eigvecs2 = np.linalg.eig(A2)\n",
        "print(\"A2 eigenvalues:\", eigvals2)\n",
        "print(\"A2 eigenvectors (columns):\\n\", eigvecs2)\n",
        "\n",
        "# Normalize eigenvectors and verify A v = lambda v\n",
        "for i, lam in enumerate(eigvals2):\n",
        "    v = eigvecs2[:, i]\n",
        "    v_norm = normalize(v)\n",
        "    lhs = A2 @ v_norm\n",
        "    rhs = lam * v_norm\n",
        "    print(f\"\\n2x2 eigenpair {i}: lambda={lam}\")\n",
        "    print(\"||lhs - rhs|| =\", np.linalg.norm(lhs - rhs))  # should be ~0\n",
        "\n",
        "# --- Given 3x3 matrix from your example ---\n",
        "A = np.array([[1, 0, 4],\n",
        "              [0, 1, 2j],\n",
        "              [4, -2j, 0]], dtype=complex)\n",
        "\n",
        "eigvals, eigvecs = np.linalg.eig(A)\n",
        "print(\"\\nGiven 3x3 A eigenvalues:\", eigvals)   # expect [1,5,-4] up to ordering\n",
        "print(\"Eigenvectors (columns):\\n\", eigvecs)\n",
        "\n",
        "# Normalize eigenvectors and check\n",
        "for i, lam in enumerate(eigvals):\n",
        "    v = eigvecs[:, i]\n",
        "    v_norm = normalize(v)\n",
        "    print(f\"\\nEigenvalue {i}: lambda = {lam}\")\n",
        "    print(\"Normalized eigenvector:\", v_norm)\n",
        "    # verify A v = lambda v\n",
        "    err = np.linalg.norm(A @ v_norm - lam * v_norm)\n",
        "    print(\"Verification error ||A v - lambda v|| =\", err)\n",
        "\n",
        "# Hermitian check\n",
        "is_herm = np.allclose(A.conj().T, A)\n",
        "print(\"\\nA is Hermitian?\", is_herm)\n",
        "if is_herm:\n",
        "    print(\"Eigenvalues (should be real):\", np.real_if_close(eigvals))\n",
        "\n",
        "# Example: unitary operator eigenvalue property\n",
        "U = (1/np.sqrt(2)) * np.array([[1, 1], [-1, 1]], dtype=complex)  # example unitary\n",
        "print(\"\\nU eigenvalues (unit modulus expected):\", np.linalg.eigvals(U))\n",
        "print(\"moduli:\", np.abs(np.linalg.eigvals(U)))\n"
      ],
      "metadata": {
        "colab": {
          "base_uri": "https://localhost:8080/"
        },
        "id": "MgCSqjGxt8fz",
        "outputId": "a8d08c52-36f6-4f24-b592-cd8cbc6f255f"
      },
      "execution_count": 2,
      "outputs": [
        {
          "output_type": "stream",
          "name": "stdout",
          "text": [
            "A2 eigenvalues: [-0.37228132+0.j  5.37228132+0.j]\n",
            "A2 eigenvectors (columns):\n",
            " [[ 0.82456484+0.j  0.41597356+0.j]\n",
            " [-0.56576746-0.j  0.90937671+0.j]]\n",
            "\n",
            "2x2 eigenpair 0: lambda=(-0.3722813232690143+0j)\n",
            "||lhs - rhs|| = 5.551115123125783e-17\n",
            "\n",
            "2x2 eigenpair 1: lambda=(5.372281323269014+0j)\n",
            "||lhs - rhs|| = 4.440892098500626e-16\n",
            "\n",
            "Given 3x3 A eigenvalues: [-4.+0.j  5.+0.j  1.+0.j]\n",
            "Eigenvectors (columns):\n",
            " [[-0.59628479+0.00000000e+00j  0.66666667+0.00000000e+00j\n",
            "   0.        +4.47213595e-01j]\n",
            " [ 0.        -2.98142397e-01j -0.        +3.33333333e-01j\n",
            "   0.89442719+0.00000000e+00j]\n",
            " [ 0.74535599+0.00000000e+00j  0.66666667-0.00000000e+00j\n",
            "   0.        -7.45604291e-17j]]\n",
            "\n",
            "Eigenvalue 0: lambda = (-4+0j)\n",
            "Normalized eigenvector: [-0.59628479+0.j         0.        -0.2981424j  0.74535599+0.j       ]\n",
            "Verification error ||A v - lambda v|| = 1.6616296724220897e-15\n",
            "\n",
            "Eigenvalue 1: lambda = (5.000000000000004+0j)\n",
            "Normalized eigenvector: [0.66666667+0.j         0.        +0.33333333j 0.66666667-0.j        ]\n",
            "Verification error ||A v - lambda v|| = 4.5288390936029406e-15\n",
            "\n",
            "Eigenvalue 2: lambda = (1+0j)\n",
            "Normalized eigenvector: [0.        +4.47213595e-01j 0.89442719+0.00000000e+00j\n",
            " 0.        -7.45604291e-17j]\n",
            "Verification error ||A v - lambda v|| = 5.986322723036164e-16\n",
            "\n",
            "A is Hermitian? True\n",
            "Eigenvalues (should be real): [-4.  5.  1.]\n",
            "\n",
            "U eigenvalues (unit modulus expected): [0.70710678+0.70710678j 0.70710678-0.70710678j]\n",
            "moduli: [1. 1.]\n"
          ]
        }
      ]
    },
    {
      "cell_type": "markdown",
      "source": [
        "Qiskit — Operator + NumPy (eigen decomposition NumPy ile)"
      ],
      "metadata": {
        "id": "hGro24eBt-U1"
      }
    },
    {
      "cell_type": "code",
      "execution_count": 3,
      "metadata": {
        "colab": {
          "base_uri": "https://localhost:8080/"
        },
        "id": "9gMOkHIBtkj2",
        "outputId": "00085a58-0a6c-4228-a947-370002734b7d"
      },
      "outputs": [
        {
          "output_type": "stream",
          "name": "stdout",
          "text": [
            "Eigenvalues (Qiskit/Numpy): [-4.+0.j  5.+0.j  1.+0.j]\n",
            "\n",
            "λ = (-4+0j)\n",
            "||A v_norm - λ v_norm|| = 1.6616296724220897e-15\n",
            "\n",
            "λ = (5.000000000000004+0j)\n",
            "||A v_norm - λ v_norm|| = 4.5288390936029406e-15\n",
            "\n",
            "λ = (1+0j)\n",
            "||A v_norm - λ v_norm|| = 5.986322723036164e-16\n",
            "\n",
            "Is A Hermitian? True\n",
            "Eigenvalues are real (approx): [-4.  5.  1.]\n"
          ]
        }
      ],
      "source": [
        "# qiskit_eig_example.py\n",
        "import numpy as np\n",
        "from qiskit.quantum_info import Operator\n",
        "\n",
        "# Use same A as above\n",
        "A = np.array([[1, 0, 4],\n",
        "              [0, 1, 2j],\n",
        "              [4, -2j, 0]], dtype=complex)\n",
        "\n",
        "# Wrap as Qiskit Operator (for convenience/printing)\n",
        "# Note: Operator currently expects 2^n dims; but we can still use it for small matrices if shape okay.\n",
        "# We'll use numpy.linalg.eig for decomposition\n",
        "eigvals, eigvecs = np.linalg.eig(A)\n",
        "print(\"Eigenvalues (Qiskit/Numpy):\", eigvals)\n",
        "\n",
        "# Normalize eigenvectors and verify using Qiskit Operator multiplication (if square)\n",
        "op = Operator(A) if A.shape[0] in (1,2,4,8) else None\n",
        "# verify A v = lambda v using numpy\n",
        "for i, lam in enumerate(eigvals):\n",
        "    v = eigvecs[:, i]\n",
        "    v_norm = v / np.linalg.norm(v)\n",
        "    print(f\"\\nλ = {lam}\")\n",
        "    print(\"||A v_norm - λ v_norm|| =\", np.linalg.norm(A @ v_norm - lam * v_norm))\n",
        "\n",
        "# Hermitian test\n",
        "is_herm = np.allclose(A.conj().T, A)\n",
        "print(\"\\nIs A Hermitian?\", is_herm)\n",
        "if is_herm:\n",
        "    print(\"Eigenvalues are real (approx):\", np.real_if_close(eigvals))\n"
      ]
    },
    {
      "cell_type": "markdown",
      "source": [
        "QuTiP — doğrudan Qobj.eigenstates() kullanımı"
      ],
      "metadata": {
        "id": "uNbpGTR6uC5Q"
      }
    },
    {
      "cell_type": "code",
      "source": [
        "# qutip_eig_example.py\n",
        "import numpy as np\n",
        "import qutip as qt\n",
        "\n",
        "A_q = qt.Qobj([[1, 0, 4],\n",
        "               [0, 1, 2j],\n",
        "               [4, -2j, 0]], dims=[[3],[3]])  # Qobj\n",
        "\n",
        "# eigenstates returns (eigvals, eigkets)\n",
        "eigvals, eigstates = A_q.eigenstates()\n",
        "print(\"QuTiP eigenvalues:\", eigvals)\n",
        "\n",
        "# eigstates is list of Qobj kets; normalize is automatic in eigenstates()\n",
        "for i, lam in enumerate(eigvals):\n",
        "    ket = eigstates[i]\n",
        "    # check normalization\n",
        "    norm = (ket.dag() * ket)[0,0]\n",
        "    # verify A|v> = lambda |v>\n",
        "    lhs = A_q * ket\n",
        "    rhs = lam * ket\n",
        "    diff_norm = (lhs - rhs).norm()\n",
        "    print(f\"\\nEigen {i}: λ={lam}, ||A|v> - λ|v>|| = {diff_norm}, norm(|v|) = {norm}\")\n",
        "\n",
        "# Hermitian check\n",
        "print(\"\\nA is Hermitian?:\", A_q.isherm)\n",
        "if A_q.isherm:\n",
        "    print(\"Eigenvalues are real (QuTiP):\", eigvals)\n"
      ],
      "metadata": {
        "colab": {
          "base_uri": "https://localhost:8080/",
          "height": 228
        },
        "id": "edAJV_YduE2q",
        "outputId": "1f552363-5f37-496a-c8a5-9a213dfd298a"
      },
      "execution_count": 5,
      "outputs": [
        {
          "output_type": "stream",
          "name": "stdout",
          "text": [
            "QuTiP eigenvalues: [-4.  1.  5.]\n"
          ]
        },
        {
          "output_type": "error",
          "ename": "TypeError",
          "evalue": "'complex' object is not subscriptable",
          "traceback": [
            "\u001b[0;31m---------------------------------------------------------------------------\u001b[0m",
            "\u001b[0;31mTypeError\u001b[0m                                 Traceback (most recent call last)",
            "\u001b[0;32m/tmp/ipython-input-1674677124.py\u001b[0m in \u001b[0;36m<cell line: 0>\u001b[0;34m()\u001b[0m\n\u001b[1;32m     15\u001b[0m     \u001b[0mket\u001b[0m \u001b[0;34m=\u001b[0m \u001b[0meigstates\u001b[0m\u001b[0;34m[\u001b[0m\u001b[0mi\u001b[0m\u001b[0;34m]\u001b[0m\u001b[0;34m\u001b[0m\u001b[0;34m\u001b[0m\u001b[0m\n\u001b[1;32m     16\u001b[0m     \u001b[0;31m# check normalization\u001b[0m\u001b[0;34m\u001b[0m\u001b[0;34m\u001b[0m\u001b[0m\n\u001b[0;32m---> 17\u001b[0;31m     \u001b[0mnorm\u001b[0m \u001b[0;34m=\u001b[0m \u001b[0;34m(\u001b[0m\u001b[0mket\u001b[0m\u001b[0;34m.\u001b[0m\u001b[0mdag\u001b[0m\u001b[0;34m(\u001b[0m\u001b[0;34m)\u001b[0m \u001b[0;34m*\u001b[0m \u001b[0mket\u001b[0m\u001b[0;34m)\u001b[0m\u001b[0;34m[\u001b[0m\u001b[0;36m0\u001b[0m\u001b[0;34m,\u001b[0m\u001b[0;36m0\u001b[0m\u001b[0;34m]\u001b[0m\u001b[0;34m\u001b[0m\u001b[0;34m\u001b[0m\u001b[0m\n\u001b[0m\u001b[1;32m     18\u001b[0m     \u001b[0;31m# verify A|v> = lambda |v>\u001b[0m\u001b[0;34m\u001b[0m\u001b[0;34m\u001b[0m\u001b[0m\n\u001b[1;32m     19\u001b[0m     \u001b[0mlhs\u001b[0m \u001b[0;34m=\u001b[0m \u001b[0mA_q\u001b[0m \u001b[0;34m*\u001b[0m \u001b[0mket\u001b[0m\u001b[0;34m\u001b[0m\u001b[0;34m\u001b[0m\u001b[0m\n",
            "\u001b[0;31mTypeError\u001b[0m: 'complex' object is not subscriptable"
          ]
        }
      ]
    }
  ]
}