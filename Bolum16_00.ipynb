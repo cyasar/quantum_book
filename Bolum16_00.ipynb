{
  "nbformat": 4,
  "nbformat_minor": 0,
  "metadata": {
    "colab": {
      "provenance": []
    },
    "kernelspec": {
      "name": "python3",
      "display_name": "Python 3"
    },
    "language_info": {
      "name": "python"
    }
  },
  "cells": [
    {
      "cell_type": "markdown",
      "metadata": {
        "id": "HkikwNrKNzeD"
      },
      "source": [
        "Ön hazırlık (kütüphane kurulumu)"
      ]
    },
    {
      "cell_type": "code",
      "execution_count": 1,
      "metadata": {
        "id": "anfl_eMVNzeD",
        "colab": {
          "base_uri": "https://localhost:8080/"
        },
        "outputId": "e0e0e03e-eb62-4927-b098-e92c89825a09"
      },
      "outputs": [
        {
          "output_type": "stream",
          "name": "stdout",
          "text": [
            "\u001b[?25l   \u001b[90m━━━━━━━━━━━━━━━━━━━━━━━━━━━━━━━━━━━━━━━━\u001b[0m \u001b[32m0.0/2.0 MB\u001b[0m \u001b[31m?\u001b[0m eta \u001b[36m-:--:--\u001b[0m\r\u001b[2K   \u001b[91m━━━━━━━━━━━━━━━━━━━━━━━━━━━━━━━━━━━━━━━\u001b[0m\u001b[91m╸\u001b[0m \u001b[32m2.0/2.0 MB\u001b[0m \u001b[31m60.8 MB/s\u001b[0m eta \u001b[36m0:00:01\u001b[0m\r\u001b[2K   \u001b[90m━━━━━━━━━━━━━━━━━━━━━━━━━━━━━━━━━━━━━━━━\u001b[0m \u001b[32m2.0/2.0 MB\u001b[0m \u001b[31m35.3 MB/s\u001b[0m eta \u001b[36m0:00:00\u001b[0m\n",
            "\u001b[?25h\u001b[?25l   \u001b[90m━━━━━━━━━━━━━━━━━━━━━━━━━━━━━━━━━━━━━━━━\u001b[0m \u001b[32m0.0/670.8 kB\u001b[0m \u001b[31m?\u001b[0m eta \u001b[36m-:--:--\u001b[0m\r\u001b[2K   \u001b[90m━━━━━━━━━━━━━━━━━━━━━━━━━━━━━━━━━━━━━━━━\u001b[0m \u001b[32m670.8/670.8 kB\u001b[0m \u001b[31m33.4 MB/s\u001b[0m eta \u001b[36m0:00:00\u001b[0m\n",
            "\u001b[?25h\u001b[?25l   \u001b[90m━━━━━━━━━━━━━━━━━━━━━━━━━━━━━━━━━━━━━━━━\u001b[0m \u001b[32m0.0/73.5 kB\u001b[0m \u001b[31m?\u001b[0m eta \u001b[36m-:--:--\u001b[0m\r\u001b[2K   \u001b[90m━━━━━━━━━━━━━━━━━━━━━━━━━━━━━━━━━━━━━━━━\u001b[0m \u001b[32m73.5/73.5 kB\u001b[0m \u001b[31m4.8 MB/s\u001b[0m eta \u001b[36m0:00:00\u001b[0m\n",
            "\u001b[2K   \u001b[90m━━━━━━━━━━━━━━━━━━━━━━━━━━━━━━━━━━━━━━━━\u001b[0m \u001b[32m430.5/430.5 kB\u001b[0m \u001b[31m26.2 MB/s\u001b[0m eta \u001b[36m0:00:00\u001b[0m\n",
            "\u001b[2K   \u001b[90m━━━━━━━━━━━━━━━━━━━━━━━━━━━━━━━━━━━━━━━━\u001b[0m \u001b[32m8.0/8.0 MB\u001b[0m \u001b[31m85.9 MB/s\u001b[0m eta \u001b[36m0:00:00\u001b[0m\n",
            "\u001b[2K   \u001b[90m━━━━━━━━━━━━━━━━━━━━━━━━━━━━━━━━━━━━━━━━\u001b[0m \u001b[32m31.8/31.8 MB\u001b[0m \u001b[31m53.3 MB/s\u001b[0m eta \u001b[36m0:00:00\u001b[0m\n",
            "\u001b[2K   \u001b[90m━━━━━━━━━━━━━━━━━━━━━━━━━━━━━━━━━━━━━━━━\u001b[0m \u001b[32m2.2/2.2 MB\u001b[0m \u001b[31m70.6 MB/s\u001b[0m eta \u001b[36m0:00:00\u001b[0m\n",
            "\u001b[2K   \u001b[90m━━━━━━━━━━━━━━━━━━━━━━━━━━━━━━━━━━━━━━━━\u001b[0m \u001b[32m49.5/49.5 kB\u001b[0m \u001b[31m3.1 MB/s\u001b[0m eta \u001b[36m0:00:00\u001b[0m\n",
            "\u001b[2K   \u001b[90m━━━━━━━━━━━━━━━━━━━━━━━━━━━━━━━━━━━━━━━━\u001b[0m \u001b[32m2.8/2.8 MB\u001b[0m \u001b[31m73.1 MB/s\u001b[0m eta \u001b[36m0:00:00\u001b[0m\n",
            "\u001b[?25h"
          ]
        }
      ],
      "source": [
        "# Gerekli kütüphaneleri yükleyelim (Colab hücresine)\n",
        "!pip install cirq qiskit qutip numpy matplotlib --quiet"
      ]
    },
    {
      "cell_type": "markdown",
      "source": [
        "BB84 PROTOKOLÜ"
      ],
      "metadata": {
        "id": "8zoS9eD8ZdIQ"
      }
    },
    {
      "cell_type": "markdown",
      "source": [
        "Cirq ile BB84 Örneği"
      ],
      "metadata": {
        "id": "stsVhkAzZdNm"
      }
    },
    {
      "cell_type": "code",
      "source": [
        "import cirq\n",
        "import numpy as np\n",
        "\n",
        "# Alice ve Bob için qubit sayısı\n",
        "n = 10\n",
        "qubits = cirq.LineQubit.range(n)\n",
        "\n",
        "# Alice'in rastgele bit ve baz seçimleri\n",
        "alice_bits = np.random.randint(2, size=n)\n",
        "alice_bases = np.random.choice(['Z', 'X'], size=n)  # Z=basis, X=Hadamard\n",
        "\n",
        "# Bob'un rastgele baz seçimleri\n",
        "bob_bases = np.random.choice(['Z', 'X'], size=n)\n",
        "\n",
        "# Devreyi oluştur\n",
        "circuit = cirq.Circuit()\n",
        "\n",
        "for i in range(n):\n",
        "    # Alice bitini uygula\n",
        "    if alice_bits[i] == 1:\n",
        "        circuit.append(cirq.X(qubits[i]))\n",
        "    # Alice bazını uygula\n",
        "    if alice_bases[i] == 'X':\n",
        "        circuit.append(cirq.H(qubits[i]))\n",
        "    # Bob bazını uygula\n",
        "    if bob_bases[i] == 'X':\n",
        "        circuit.append(cirq.H(qubits[i]))\n",
        "    # Ölçüm\n",
        "    circuit.append(cirq.measure(qubits[i], key=f'q{i}'))\n",
        "\n",
        "print(\"BB84 Devresi:\")\n",
        "print(circuit)\n",
        "\n",
        "# Simülasyon\n",
        "simulator = cirq.Simulator()\n",
        "result = simulator.run(circuit)\n",
        "\n",
        "# Ölçüm sonuçlarını al\n",
        "bob_results = [result.measurements[f'q{i}'][0][0] for i in range(n)]\n",
        "\n",
        "# Ortak anahtarı belirle (sadece aynı bazları kullandılar)\n",
        "shared_key = [alice_bits[i] for i in range(n) if alice_bases[i] == bob_bases[i]]\n",
        "print(\"\\nAlice'in bitleri:\", alice_bits)\n",
        "print(\"Alice bazları:\", alice_bases)\n",
        "print(\"Bob bazları:\", bob_bases)\n",
        "print(\"Bob ölçüm sonuçları:\", bob_results)\n",
        "print(\"Oluşan ortak anahtar:\", shared_key)\n"
      ],
      "metadata": {
        "colab": {
          "base_uri": "https://localhost:8080/"
        },
        "id": "iudCqkmHZdT3",
        "outputId": "43ab0dcb-6783-46fc-b017-71d2c9c1c238"
      },
      "execution_count": 2,
      "outputs": [
        {
          "output_type": "stream",
          "name": "stdout",
          "text": [
            "BB84 Devresi:\n",
            "0: ───X─────────H─────────H─────────M('q0')───\n",
            "\n",
            "1: ───H─────────M('q1')───────────────────────\n",
            "\n",
            "2: ───X─────────H─────────H─────────M('q2')───\n",
            "\n",
            "3: ───X─────────H─────────M('q3')─────────────\n",
            "\n",
            "4: ───H─────────M('q4')───────────────────────\n",
            "\n",
            "5: ───X─────────H─────────M('q5')─────────────\n",
            "\n",
            "6: ───M('q6')─────────────────────────────────\n",
            "\n",
            "7: ───X─────────H─────────H─────────M('q7')───\n",
            "\n",
            "8: ───X─────────H─────────H─────────M('q8')───\n",
            "\n",
            "9: ───H─────────M('q9')───────────────────────\n",
            "\n",
            "Alice'in bitleri: [1 0 1 1 0 1 0 1 1 0]\n",
            "Alice bazları: ['X' 'Z' 'X' 'X' 'X' 'X' 'Z' 'X' 'X' 'Z']\n",
            "Bob bazları: ['X' 'X' 'X' 'Z' 'Z' 'Z' 'Z' 'X' 'X' 'X']\n",
            "Bob ölçüm sonuçları: [np.int8(1), np.int8(1), np.int8(1), np.int8(0), np.int8(1), np.int8(1), np.int8(0), np.int8(1), np.int8(1), np.int8(0)]\n",
            "Oluşan ortak anahtar: [np.int64(1), np.int64(1), np.int64(0), np.int64(1), np.int64(1)]\n"
          ]
        }
      ]
    },
    {
      "cell_type": "markdown",
      "source": [
        "Qiskit ile BB84 Örneği"
      ],
      "metadata": {
        "id": "kFvVXLp6ZddY"
      }
    },
    {
      "cell_type": "code",
      "source": [
        "from qiskit import QuantumCircuit, Aer, execute\n",
        "import numpy as np\n",
        "\n",
        "n = 10\n",
        "\n",
        "# Alice bit ve baz seçimleri\n",
        "alice_bits = np.random.randint(2, size=n)\n",
        "alice_bases = np.random.choice(['Z','X'], size=n)\n",
        "\n",
        "# Bob bazları\n",
        "bob_bases = np.random.choice(['Z','X'], size=n)\n",
        "\n",
        "qc = QuantumCircuit(n, n)\n",
        "\n",
        "for i in range(n):\n",
        "    # Alice bit\n",
        "    if alice_bits[i] == 1:\n",
        "        qc.x(i)\n",
        "    # Alice baz\n",
        "    if alice_bases[i] == 'X':\n",
        "        qc.h(i)\n",
        "    # Bob baz\n",
        "    if bob_bases[i] == 'X':\n",
        "        qc.h(i)\n",
        "    qc.measure(i, i)\n",
        "\n",
        "print(\"BB84 Quantum Circuit:\")\n",
        "print(qc.draw(output='text'))\n",
        "\n",
        "# Simülasyon\n",
        "backend = Aer.get_backend('qasm_simulator')\n",
        "job = execute(qc, backend, shots=1)\n",
        "result = job.result()\n",
        "counts = result.get_counts()\n",
        "\n",
        "# Ölçüm sonucu\n",
        "bitstring = list(counts.keys())[0][::-1]  # Qiskit bit sıralaması ters\n",
        "shared_key = [alice_bits[i] for i in range(n) if alice_bases[i] == bob_bases[i]]\n",
        "\n",
        "print(\"\\nAlice bitleri:\", alice_bits)\n",
        "print(\"Alice bazları:\", alice_bases)\n",
        "print(\"Bob bazları:\", bob_bases)\n",
        "print(\"Bob ölçüm sonucu:\", bitstring)\n",
        "print(\"Oluşan ortak anahtar:\", shared_key)\n"
      ],
      "metadata": {
        "colab": {
          "base_uri": "https://localhost:8080/",
          "height": 384
        },
        "id": "fg9D_EhoZdh5",
        "outputId": "2c6e9b2c-8f63-4673-cb7a-0b1fc1f43d07"
      },
      "execution_count": 3,
      "outputs": [
        {
          "output_type": "error",
          "ename": "ImportError",
          "evalue": "cannot import name 'Aer' from 'qiskit' (/usr/local/lib/python3.12/dist-packages/qiskit/__init__.py)",
          "traceback": [
            "\u001b[0;31m---------------------------------------------------------------------------\u001b[0m",
            "\u001b[0;31mImportError\u001b[0m                               Traceback (most recent call last)",
            "\u001b[0;32m/tmp/ipython-input-872255299.py\u001b[0m in \u001b[0;36m<cell line: 0>\u001b[0;34m()\u001b[0m\n\u001b[0;32m----> 1\u001b[0;31m \u001b[0;32mfrom\u001b[0m \u001b[0mqiskit\u001b[0m \u001b[0;32mimport\u001b[0m \u001b[0mQuantumCircuit\u001b[0m\u001b[0;34m,\u001b[0m \u001b[0mAer\u001b[0m\u001b[0;34m,\u001b[0m \u001b[0mexecute\u001b[0m\u001b[0;34m\u001b[0m\u001b[0;34m\u001b[0m\u001b[0m\n\u001b[0m\u001b[1;32m      2\u001b[0m \u001b[0;32mimport\u001b[0m \u001b[0mnumpy\u001b[0m \u001b[0;32mas\u001b[0m \u001b[0mnp\u001b[0m\u001b[0;34m\u001b[0m\u001b[0;34m\u001b[0m\u001b[0m\n\u001b[1;32m      3\u001b[0m \u001b[0;34m\u001b[0m\u001b[0m\n\u001b[1;32m      4\u001b[0m \u001b[0mn\u001b[0m \u001b[0;34m=\u001b[0m \u001b[0;36m10\u001b[0m\u001b[0;34m\u001b[0m\u001b[0;34m\u001b[0m\u001b[0m\n\u001b[1;32m      5\u001b[0m \u001b[0;34m\u001b[0m\u001b[0m\n",
            "\u001b[0;31mImportError\u001b[0m: cannot import name 'Aer' from 'qiskit' (/usr/local/lib/python3.12/dist-packages/qiskit/__init__.py)",
            "",
            "\u001b[0;31m---------------------------------------------------------------------------\u001b[0;32m\nNOTE: If your import is failing due to a missing package, you can\nmanually install dependencies using either !pip or !apt.\n\nTo view examples of installing some common dependencies, click the\n\"Open Examples\" button below.\n\u001b[0;31m---------------------------------------------------------------------------\u001b[0m\n"
          ],
          "errorDetails": {
            "actions": [
              {
                "action": "open_url",
                "actionText": "Open Examples",
                "url": "/notebooks/snippets/importing_libraries.ipynb"
              }
            ]
          }
        }
      ]
    },
    {
      "cell_type": "markdown",
      "source": [
        "QuTiP ile BB84 Örneği"
      ],
      "metadata": {
        "id": "OhWTF1_8ZdnQ"
      }
    },
    {
      "cell_type": "code",
      "source": [
        "import numpy as np\n",
        "from qutip import basis, tensor, hadamard_transform, measurement_statistics\n",
        "\n",
        "n = 10\n",
        "\n",
        "# Alice bit ve baz\n",
        "alice_bits = np.random.randint(2, size=n)\n",
        "alice_bases = np.random.choice(['Z','X'], size=n)\n",
        "bob_bases = np.random.choice(['Z','X'], size=n)\n",
        "\n",
        "# Qubitleri oluştur\n",
        "alice_qubits = []\n",
        "for i in range(n):\n",
        "    qubit = basis(2, alice_bits[i])\n",
        "    if alice_bases[i] == 'X':\n",
        "        qubit = hadamard_transform() * qubit\n",
        "    alice_qubits.append(qubit)\n",
        "\n",
        "# Bob ölçümleri\n",
        "bob_results = []\n",
        "for i in range(n):\n",
        "    qubit = alice_qubits[i]\n",
        "    if bob_bases[i] == 'X':\n",
        "        qubit = hadamard_transform() * qubit\n",
        "    # Ölçüm\n",
        "    p0, p1 = measurement_statistics(qubit, [basis(2,0), basis(2,1)])\n",
        "    bob_results.append(np.random.choice([0,1], p=[p0,p1]))\n",
        "\n",
        "# Ortak anahtar\n",
        "shared_key = [alice_bits[i] for i in range(n) if alice_bases[i]==bob_bases[i]]\n",
        "\n",
        "print(\"Alice bitleri:\", alice_bits)\n",
        "print(\"Alice bazları:\", alice_bases)\n",
        "print(\"Bob bazları:\", bob_bases)\n",
        "print(\"Bob ölçüm sonucu:\", bob_results)\n",
        "print(\"Oluşan ortak anahtar:\", shared_key)\n"
      ],
      "metadata": {
        "colab": {
          "base_uri": "https://localhost:8080/",
          "height": 384
        },
        "id": "bk_LPNFyZdr0",
        "outputId": "7d56f5db-db3c-4769-9cbc-bdfb672a8f26"
      },
      "execution_count": 4,
      "outputs": [
        {
          "output_type": "error",
          "ename": "ImportError",
          "evalue": "cannot import name 'hadamard_transform' from 'qutip' (/usr/local/lib/python3.12/dist-packages/qutip/__init__.py)",
          "traceback": [
            "\u001b[0;31m---------------------------------------------------------------------------\u001b[0m",
            "\u001b[0;31mImportError\u001b[0m                               Traceback (most recent call last)",
            "\u001b[0;32m/tmp/ipython-input-498134320.py\u001b[0m in \u001b[0;36m<cell line: 0>\u001b[0;34m()\u001b[0m\n\u001b[1;32m      1\u001b[0m \u001b[0;32mimport\u001b[0m \u001b[0mnumpy\u001b[0m \u001b[0;32mas\u001b[0m \u001b[0mnp\u001b[0m\u001b[0;34m\u001b[0m\u001b[0;34m\u001b[0m\u001b[0m\n\u001b[0;32m----> 2\u001b[0;31m \u001b[0;32mfrom\u001b[0m \u001b[0mqutip\u001b[0m \u001b[0;32mimport\u001b[0m \u001b[0mbasis\u001b[0m\u001b[0;34m,\u001b[0m \u001b[0mtensor\u001b[0m\u001b[0;34m,\u001b[0m \u001b[0mhadamard_transform\u001b[0m\u001b[0;34m,\u001b[0m \u001b[0mmeasurement_statistics\u001b[0m\u001b[0;34m\u001b[0m\u001b[0;34m\u001b[0m\u001b[0m\n\u001b[0m\u001b[1;32m      3\u001b[0m \u001b[0;34m\u001b[0m\u001b[0m\n\u001b[1;32m      4\u001b[0m \u001b[0mn\u001b[0m \u001b[0;34m=\u001b[0m \u001b[0;36m10\u001b[0m\u001b[0;34m\u001b[0m\u001b[0;34m\u001b[0m\u001b[0m\n\u001b[1;32m      5\u001b[0m \u001b[0;34m\u001b[0m\u001b[0m\n",
            "\u001b[0;31mImportError\u001b[0m: cannot import name 'hadamard_transform' from 'qutip' (/usr/local/lib/python3.12/dist-packages/qutip/__init__.py)",
            "",
            "\u001b[0;31m---------------------------------------------------------------------------\u001b[0;32m\nNOTE: If your import is failing due to a missing package, you can\nmanually install dependencies using either !pip or !apt.\n\nTo view examples of installing some common dependencies, click the\n\"Open Examples\" button below.\n\u001b[0;31m---------------------------------------------------------------------------\u001b[0m\n"
          ],
          "errorDetails": {
            "actions": [
              {
                "action": "open_url",
                "actionText": "Open Examples",
                "url": "/notebooks/snippets/importing_libraries.ipynb"
              }
            ]
          }
        }
      ]
    },
    {
      "cell_type": "markdown",
      "source": [
        "B92 PROTOKOLÜ"
      ],
      "metadata": {
        "id": "fyhf5G3IZd2L"
      }
    },
    {
      "cell_type": "markdown",
      "source": [
        "Cirq ile B92 Örneği"
      ],
      "metadata": {
        "id": "AuZdlF6YZd5Q"
      }
    },
    {
      "cell_type": "code",
      "source": [
        "import cirq\n",
        "import numpy as np\n",
        "\n",
        "# Qubit sayısı\n",
        "n = 8\n",
        "qubits = cirq.LineQubit.range(n)\n",
        "\n",
        "# Alice'in bitleri (sadece 0 veya 0' bazları)\n",
        "alice_bits = np.zeros(n, dtype=int)  # tüm bitler 0\n",
        "# Alice'in bazları: 0 -> |0>, 0' -> |0'>\n",
        "alice_bases = np.random.choice(['0', '0prime'], size=n)\n",
        "\n",
        "# Bob'un ölçüm bazları: hesaplama bazı veya dik olmayan baz\n",
        "bob_bases = np.random.choice(['0_1', '0prime_1prime'], size=n)\n",
        "\n",
        "circuit = cirq.Circuit()\n",
        "\n",
        "# Alice'in qubitlerini hazırla\n",
        "for i in range(n):\n",
        "    if alice_bases[i] == '0prime':\n",
        "        circuit.append(cirq.ry(np.pi/4)(qubits[i]))  # dik olmayan baz dönüşümü\n",
        "    # Bob'un bazını uygula\n",
        "    if bob_bases[i] == '0prime_1prime':\n",
        "        circuit.append(cirq.ry(-np.pi/4)(qubits[i]))\n",
        "    # Ölçüm\n",
        "    circuit.append(cirq.measure(qubits[i], key=f'q{i}'))\n",
        "\n",
        "simulator = cirq.Simulator()\n",
        "result = simulator.run(circuit)\n",
        "\n",
        "# Ölçüm sonuçları\n",
        "bob_results = [result.measurements[f'q{i}'][0][0] for i in range(n)]\n",
        "\n",
        "# Bob'un anahtar oluşturma (ölçüm sonucu 1 veya 1' ise)\n",
        "shared_key_indices = [i for i in range(n) if bob_results[i] == 1]\n",
        "shared_key = [bob_results[i] for i in shared_key_indices]\n",
        "\n",
        "print(\"Alice bazları:\", alice_bases)\n",
        "print(\"Bob bazları:\", bob_bases)\n",
        "print(\"Bob ölçüm sonuçları:\", bob_results)\n",
        "print(\"Anahtar için seçilen pozisyonlar:\", shared_key_indices)\n",
        "print(\"Oluşan anahtar:\", shared_key)\n"
      ],
      "metadata": {
        "colab": {
          "base_uri": "https://localhost:8080/"
        },
        "id": "wDflu76bZeAc",
        "outputId": "afce6ce2-8ed1-424c-b6e8-c0128f626849"
      },
      "execution_count": 5,
      "outputs": [
        {
          "output_type": "stream",
          "name": "stdout",
          "text": [
            "Alice bazları: ['0prime' '0prime' '0prime' '0' '0prime' '0prime' '0prime' '0prime']\n",
            "Bob bazları: ['0prime_1prime' '0_1' '0_1' '0_1' '0prime_1prime' '0_1' '0prime_1prime'\n",
            " '0_1']\n",
            "Bob ölçüm sonuçları: [np.int8(0), np.int8(0), np.int8(0), np.int8(0), np.int8(0), np.int8(0), np.int8(0), np.int8(0)]\n",
            "Anahtar için seçilen pozisyonlar: []\n",
            "Oluşan anahtar: []\n"
          ]
        }
      ]
    },
    {
      "cell_type": "markdown",
      "source": [
        "Qiskit ile B92 Örneği"
      ],
      "metadata": {
        "id": "QAdZM_RfZeGd"
      }
    },
    {
      "cell_type": "code",
      "source": [
        "from qiskit import QuantumCircuit, Aer, execute\n",
        "import numpy as np\n",
        "\n",
        "n = 8\n",
        "\n",
        "# Alice bazları\n",
        "alice_bases = np.random.choice(['0','0prime'], size=n)\n",
        "# Bob bazları\n",
        "bob_bases = np.random.choice(['0_1','0prime_1prime'], size=n)\n",
        "\n",
        "qc = QuantumCircuit(n, n)\n",
        "\n",
        "for i in range(n):\n",
        "    # Alice qubit\n",
        "    if alice_bases[i] == '0prime':\n",
        "        qc.ry(np.pi/4, i)\n",
        "    # Bob bazı\n",
        "    if bob_bases[i] == '0prime_1prime':\n",
        "        qc.ry(-np.pi/4, i)\n",
        "    qc.measure(i, i)\n",
        "\n",
        "backend = Aer.get_backend('qasm_simulator')\n",
        "job = execute(qc, backend, shots=1)\n",
        "result = job.result()\n",
        "bitstring = list(result.get_counts().keys())[0][::-1]\n",
        "\n",
        "# Bob anahtarı oluştur\n",
        "bob_results = [int(b) for b in bitstring]\n",
        "shared_key_indices = [i for i in range(n) if bob_results[i] == 1]\n",
        "shared_key = [bob_results[i] for i in shared_key_indices]\n",
        "\n",
        "print(\"Alice bazları:\", alice_bases)\n",
        "print(\"Bob bazları:\", bob_bases)\n",
        "print(\"Bob ölçüm sonucu:\", bob_results)\n",
        "print(\"Anahtar için seçilen pozisyonlar:\", shared_key_indices)\n",
        "print(\"Oluşan anahtar:\", shared_key)\n"
      ],
      "metadata": {
        "colab": {
          "base_uri": "https://localhost:8080/",
          "height": 384
        },
        "id": "pTTXh2ruZeKx",
        "outputId": "16813be7-9e04-43d6-9134-de137389bdaa"
      },
      "execution_count": 6,
      "outputs": [
        {
          "output_type": "error",
          "ename": "ImportError",
          "evalue": "cannot import name 'Aer' from 'qiskit' (/usr/local/lib/python3.12/dist-packages/qiskit/__init__.py)",
          "traceback": [
            "\u001b[0;31m---------------------------------------------------------------------------\u001b[0m",
            "\u001b[0;31mImportError\u001b[0m                               Traceback (most recent call last)",
            "\u001b[0;32m/tmp/ipython-input-1502617004.py\u001b[0m in \u001b[0;36m<cell line: 0>\u001b[0;34m()\u001b[0m\n\u001b[0;32m----> 1\u001b[0;31m \u001b[0;32mfrom\u001b[0m \u001b[0mqiskit\u001b[0m \u001b[0;32mimport\u001b[0m \u001b[0mQuantumCircuit\u001b[0m\u001b[0;34m,\u001b[0m \u001b[0mAer\u001b[0m\u001b[0;34m,\u001b[0m \u001b[0mexecute\u001b[0m\u001b[0;34m\u001b[0m\u001b[0;34m\u001b[0m\u001b[0m\n\u001b[0m\u001b[1;32m      2\u001b[0m \u001b[0;32mimport\u001b[0m \u001b[0mnumpy\u001b[0m \u001b[0;32mas\u001b[0m \u001b[0mnp\u001b[0m\u001b[0;34m\u001b[0m\u001b[0;34m\u001b[0m\u001b[0m\n\u001b[1;32m      3\u001b[0m \u001b[0;34m\u001b[0m\u001b[0m\n\u001b[1;32m      4\u001b[0m \u001b[0mn\u001b[0m \u001b[0;34m=\u001b[0m \u001b[0;36m8\u001b[0m\u001b[0;34m\u001b[0m\u001b[0;34m\u001b[0m\u001b[0m\n\u001b[1;32m      5\u001b[0m \u001b[0;34m\u001b[0m\u001b[0m\n",
            "\u001b[0;31mImportError\u001b[0m: cannot import name 'Aer' from 'qiskit' (/usr/local/lib/python3.12/dist-packages/qiskit/__init__.py)",
            "",
            "\u001b[0;31m---------------------------------------------------------------------------\u001b[0;32m\nNOTE: If your import is failing due to a missing package, you can\nmanually install dependencies using either !pip or !apt.\n\nTo view examples of installing some common dependencies, click the\n\"Open Examples\" button below.\n\u001b[0;31m---------------------------------------------------------------------------\u001b[0m\n"
          ],
          "errorDetails": {
            "actions": [
              {
                "action": "open_url",
                "actionText": "Open Examples",
                "url": "/notebooks/snippets/importing_libraries.ipynb"
              }
            ]
          }
        }
      ]
    },
    {
      "cell_type": "markdown",
      "source": [
        "QuTiP ile B92 Örneği"
      ],
      "metadata": {
        "id": "-VYfG7pRZePj"
      }
    },
    {
      "cell_type": "code",
      "source": [
        "import numpy as np\n",
        "from qutip import basis, ket, Qobj, measurement_statistics, ry\n",
        "\n",
        "n = 8\n",
        "\n",
        "# Alice bazları ve Bob bazları\n",
        "alice_bases = np.random.choice(['0','0prime'], size=n)\n",
        "bob_bases = np.random.choice(['0_1','0prime_1prime'], size=n)\n",
        "\n",
        "# Alice qubitleri\n",
        "alice_qubits = []\n",
        "for i in range(n):\n",
        "    qubit = basis(2,0)  # |0>\n",
        "    if alice_bases[i] == '0prime':\n",
        "        qubit = ry(np.pi/4) * qubit\n",
        "    alice_qubits.append(qubit)\n",
        "\n",
        "# Bob ölçümleri\n",
        "bob_results = []\n",
        "for i in range(n):\n",
        "    qubit = alice_qubits[i]\n",
        "    if bob_bases[i] == '0prime_1prime':\n",
        "        qubit = ry(-np.pi/4) * qubit\n",
        "    p0, p1 = measurement_statistics(qubit, [basis(2,0), basis(2,1)])\n",
        "    bob_results.append(np.random.choice([0,1], p=[p0,p1]))\n",
        "\n",
        "# Anahtar oluşturma\n",
        "shared_key_indices = [i for i in range(n) if bob_results[i]==1]\n",
        "shared_key = [bob_results[i] for i in shared_key_indices]\n",
        "\n",
        "print(\"Alice bazları:\", alice_bases)\n",
        "print(\"Bob bazları:\", bob_bases)\n",
        "print(\"Bob ölçüm sonuçları:\", bob_results)\n",
        "print(\"Anahtar için seçilen pozisyonlar:\", shared_key_indices)\n",
        "print(\"Oluşan anahtar:\", shared_key)\n"
      ],
      "metadata": {
        "colab": {
          "base_uri": "https://localhost:8080/",
          "height": 384
        },
        "id": "p1t81PBIZeT4",
        "outputId": "42dd4f94-c13f-4d61-c702-0c945648b731"
      },
      "execution_count": 7,
      "outputs": [
        {
          "output_type": "error",
          "ename": "ImportError",
          "evalue": "cannot import name 'measurement_statistics' from 'qutip' (/usr/local/lib/python3.12/dist-packages/qutip/__init__.py)",
          "traceback": [
            "\u001b[0;31m---------------------------------------------------------------------------\u001b[0m",
            "\u001b[0;31mImportError\u001b[0m                               Traceback (most recent call last)",
            "\u001b[0;32m/tmp/ipython-input-3346733127.py\u001b[0m in \u001b[0;36m<cell line: 0>\u001b[0;34m()\u001b[0m\n\u001b[1;32m      1\u001b[0m \u001b[0;32mimport\u001b[0m \u001b[0mnumpy\u001b[0m \u001b[0;32mas\u001b[0m \u001b[0mnp\u001b[0m\u001b[0;34m\u001b[0m\u001b[0;34m\u001b[0m\u001b[0m\n\u001b[0;32m----> 2\u001b[0;31m \u001b[0;32mfrom\u001b[0m \u001b[0mqutip\u001b[0m \u001b[0;32mimport\u001b[0m \u001b[0mbasis\u001b[0m\u001b[0;34m,\u001b[0m \u001b[0mket\u001b[0m\u001b[0;34m,\u001b[0m \u001b[0mQobj\u001b[0m\u001b[0;34m,\u001b[0m \u001b[0mmeasurement_statistics\u001b[0m\u001b[0;34m,\u001b[0m \u001b[0mry\u001b[0m\u001b[0;34m\u001b[0m\u001b[0;34m\u001b[0m\u001b[0m\n\u001b[0m\u001b[1;32m      3\u001b[0m \u001b[0;34m\u001b[0m\u001b[0m\n\u001b[1;32m      4\u001b[0m \u001b[0mn\u001b[0m \u001b[0;34m=\u001b[0m \u001b[0;36m8\u001b[0m\u001b[0;34m\u001b[0m\u001b[0;34m\u001b[0m\u001b[0m\n\u001b[1;32m      5\u001b[0m \u001b[0;34m\u001b[0m\u001b[0m\n",
            "\u001b[0;31mImportError\u001b[0m: cannot import name 'measurement_statistics' from 'qutip' (/usr/local/lib/python3.12/dist-packages/qutip/__init__.py)",
            "",
            "\u001b[0;31m---------------------------------------------------------------------------\u001b[0;32m\nNOTE: If your import is failing due to a missing package, you can\nmanually install dependencies using either !pip or !apt.\n\nTo view examples of installing some common dependencies, click the\n\"Open Examples\" button below.\n\u001b[0;31m---------------------------------------------------------------------------\u001b[0m\n"
          ],
          "errorDetails": {
            "actions": [
              {
                "action": "open_url",
                "actionText": "Open Examples",
                "url": "/notebooks/snippets/importing_libraries.ipynb"
              }
            ]
          }
        }
      ]
    },
    {
      "cell_type": "markdown",
      "source": [
        "E91 PROTOKOLÜ"
      ],
      "metadata": {
        "id": "ZIAPI2lzZedF"
      }
    },
    {
      "cell_type": "markdown",
      "source": [
        "Cirq ile E91 Örneği"
      ],
      "metadata": {
        "id": "ac-sdrn7ZegQ"
      }
    },
    {
      "cell_type": "code",
      "source": [
        "import cirq\n",
        "import numpy as np\n",
        "\n",
        "# Qubit sayısı (Alice ve Bob için çiftler)\n",
        "n = 4\n",
        "alice_qubits = cirq.LineQubit.range(n)\n",
        "bob_qubits = cirq.LineQubit.range(n, 2*n)\n",
        "\n",
        "circuit = cirq.Circuit()\n",
        "\n",
        "# Bell durumlarını hazırla (|Φ+> = (|00> + |11>)/√2)\n",
        "for i in range(n):\n",
        "    circuit.append(cirq.H(alice_qubits[i]))\n",
        "    circuit.append(cirq.CNOT(alice_qubits[i], bob_qubits[i]))\n",
        "\n",
        "# Alice ve Bob rastgele bazlar seçer\n",
        "alice_bases = np.random.choice(['Z','X'], size=n)\n",
        "bob_bases = np.random.choice(['Z','X'], size=n)\n",
        "\n",
        "# Alice ölçüm bazını uygula\n",
        "for i in range(n):\n",
        "    if alice_bases[i] == 'X':\n",
        "        circuit.append(cirq.H(alice_qubits[i]))\n",
        "    if bob_bases[i] == 'X':\n",
        "        circuit.append(cirq.H(bob_qubits[i]))\n",
        "\n",
        "# Ölçümler\n",
        "for i in range(n):\n",
        "    circuit.append(cirq.measure(alice_qubits[i], key=f'A{i}'))\n",
        "    circuit.append(cirq.measure(bob_qubits[i], key=f'B{i}'))\n",
        "\n",
        "print(\"E91 Devresi:\")\n",
        "print(circuit)\n",
        "\n",
        "simulator = cirq.Simulator()\n",
        "result = simulator.run(circuit)\n",
        "\n",
        "# Ölçüm sonuçları\n",
        "alice_results = [result.measurements[f'A{i}'][0][0] for i in range(n)]\n",
        "bob_results = [result.measurements[f'B{i}'][0][0] for i in range(n)]\n",
        "\n",
        "# Ortak anahtar: Alice ve Bob aynı bazda ölçüm yaptıysa\n",
        "shared_key = [alice_results[i] for i in range(n) if alice_bases[i]==bob_bases[i]]\n",
        "\n",
        "print(\"\\nAlice bazları:\", alice_bases)\n",
        "print(\"Bob bazları:\", bob_bases)\n",
        "print(\"Alice ölçüm sonuçları:\", alice_results)\n",
        "print(\"Bob ölçüm sonuçları:\", bob_results)\n",
        "print(\"Oluşan ortak anahtar:\", shared_key)\n"
      ],
      "metadata": {
        "colab": {
          "base_uri": "https://localhost:8080/"
        },
        "id": "rEwzlvypZesI",
        "outputId": "3ff35cbd-b7fc-4532-df1e-7761387e9b1c"
      },
      "execution_count": 8,
      "outputs": [
        {
          "output_type": "stream",
          "name": "stdout",
          "text": [
            "E91 Devresi:\n",
            "          ┌────┐\n",
            "0: ───H────@───────M('A0')─────────────\n",
            "           │\n",
            "1: ───H────┼@──────M('A1')─────────────\n",
            "           ││\n",
            "2: ───H────┼┼@─────H─────────M('A2')───\n",
            "           │││\n",
            "3: ───H────┼┼┼@────M('A3')─────────────\n",
            "           ││││\n",
            "4: ────────X┼┼┼────H─────────M('B0')───\n",
            "            │││\n",
            "5: ─────────X┼┼────M('B1')─────────────\n",
            "             ││\n",
            "6: ──────────X┼────H─────────M('B2')───\n",
            "              │\n",
            "7: ───────────X────M('B3')─────────────\n",
            "          └────┘\n",
            "\n",
            "Alice bazları: ['Z' 'Z' 'X' 'Z']\n",
            "Bob bazları: ['X' 'Z' 'X' 'Z']\n",
            "Alice ölçüm sonuçları: [np.int8(0), np.int8(1), np.int8(0), np.int8(0)]\n",
            "Bob ölçüm sonuçları: [np.int8(1), np.int8(1), np.int8(0), np.int8(0)]\n",
            "Oluşan ortak anahtar: [np.int8(1), np.int8(0), np.int8(0)]\n"
          ]
        }
      ]
    },
    {
      "cell_type": "markdown",
      "source": [
        "Qiskit ile E91 Örneği"
      ],
      "metadata": {
        "id": "AZlAaUwYZexi"
      }
    },
    {
      "cell_type": "code",
      "source": [
        "from qiskit import QuantumCircuit, Aer, execute\n",
        "import numpy as np\n",
        "\n",
        "n = 4\n",
        "qc = QuantumCircuit(2*n, 2*n)\n",
        "\n",
        "# Bell durumlarını hazırla\n",
        "for i in range(n):\n",
        "    qc.h(i)\n",
        "    qc.cx(i, i+n)\n",
        "\n",
        "# Alice ve Bob bazları\n",
        "alice_bases = np.random.choice(['Z','X'], size=n)\n",
        "bob_bases = np.random.choice(['Z','X'], size=n)\n",
        "\n",
        "# Baz dönüşümleri\n",
        "for i in range(n):\n",
        "    if alice_bases[i] == 'X':\n",
        "        qc.h(i)\n",
        "    if bob_bases[i] == 'X':\n",
        "        qc.h(i+n)\n",
        "\n",
        "# Ölçüm\n",
        "for i in range(n):\n",
        "    qc.measure(i, i)\n",
        "    qc.measure(i+n, i+n)\n",
        "\n",
        "backend = Aer.get_backend('qasm_simulator')\n",
        "job = execute(qc, backend, shots=1)\n",
        "result = job.result()\n",
        "bitstring = list(result.get_counts().keys())[0][::-1]\n",
        "\n",
        "alice_results = [int(bitstring[i]) for i in range(n)]\n",
        "bob_results = [int(bitstring[i+n]) for i in range(n)]\n",
        "\n",
        "shared_key = [alice_results[i] for i in range(n) if alice_bases[i]==bob_bases[i]]\n",
        "\n",
        "print(\"Alice bazları:\", alice_bases)\n",
        "print(\"Bob bazları:\", bob_bases)\n",
        "print(\"Alice ölçüm sonuçları:\", alice_results)\n",
        "print(\"Bob ölçüm sonuçları:\", bob_results)\n",
        "print(\"Oluşan ortak anahtar:\", shared_key)\n"
      ],
      "metadata": {
        "colab": {
          "base_uri": "https://localhost:8080/",
          "height": 384
        },
        "id": "6j5dLx5iZe2a",
        "outputId": "66e0f445-fe90-4942-e013-df47e4a05916"
      },
      "execution_count": 9,
      "outputs": [
        {
          "output_type": "error",
          "ename": "ImportError",
          "evalue": "cannot import name 'Aer' from 'qiskit' (/usr/local/lib/python3.12/dist-packages/qiskit/__init__.py)",
          "traceback": [
            "\u001b[0;31m---------------------------------------------------------------------------\u001b[0m",
            "\u001b[0;31mImportError\u001b[0m                               Traceback (most recent call last)",
            "\u001b[0;32m/tmp/ipython-input-213776798.py\u001b[0m in \u001b[0;36m<cell line: 0>\u001b[0;34m()\u001b[0m\n\u001b[0;32m----> 1\u001b[0;31m \u001b[0;32mfrom\u001b[0m \u001b[0mqiskit\u001b[0m \u001b[0;32mimport\u001b[0m \u001b[0mQuantumCircuit\u001b[0m\u001b[0;34m,\u001b[0m \u001b[0mAer\u001b[0m\u001b[0;34m,\u001b[0m \u001b[0mexecute\u001b[0m\u001b[0;34m\u001b[0m\u001b[0;34m\u001b[0m\u001b[0m\n\u001b[0m\u001b[1;32m      2\u001b[0m \u001b[0;32mimport\u001b[0m \u001b[0mnumpy\u001b[0m \u001b[0;32mas\u001b[0m \u001b[0mnp\u001b[0m\u001b[0;34m\u001b[0m\u001b[0;34m\u001b[0m\u001b[0m\n\u001b[1;32m      3\u001b[0m \u001b[0;34m\u001b[0m\u001b[0m\n\u001b[1;32m      4\u001b[0m \u001b[0mn\u001b[0m \u001b[0;34m=\u001b[0m \u001b[0;36m4\u001b[0m\u001b[0;34m\u001b[0m\u001b[0;34m\u001b[0m\u001b[0m\n\u001b[1;32m      5\u001b[0m \u001b[0mqc\u001b[0m \u001b[0;34m=\u001b[0m \u001b[0mQuantumCircuit\u001b[0m\u001b[0;34m(\u001b[0m\u001b[0;36m2\u001b[0m\u001b[0;34m*\u001b[0m\u001b[0mn\u001b[0m\u001b[0;34m,\u001b[0m \u001b[0;36m2\u001b[0m\u001b[0;34m*\u001b[0m\u001b[0mn\u001b[0m\u001b[0;34m)\u001b[0m\u001b[0;34m\u001b[0m\u001b[0;34m\u001b[0m\u001b[0m\n",
            "\u001b[0;31mImportError\u001b[0m: cannot import name 'Aer' from 'qiskit' (/usr/local/lib/python3.12/dist-packages/qiskit/__init__.py)",
            "",
            "\u001b[0;31m---------------------------------------------------------------------------\u001b[0;32m\nNOTE: If your import is failing due to a missing package, you can\nmanually install dependencies using either !pip or !apt.\n\nTo view examples of installing some common dependencies, click the\n\"Open Examples\" button below.\n\u001b[0;31m---------------------------------------------------------------------------\u001b[0m\n"
          ],
          "errorDetails": {
            "actions": [
              {
                "action": "open_url",
                "actionText": "Open Examples",
                "url": "/notebooks/snippets/importing_libraries.ipynb"
              }
            ]
          }
        }
      ]
    },
    {
      "cell_type": "markdown",
      "source": [
        "QuTiP ile E91 Örneği"
      ],
      "metadata": {
        "id": "2IWLcCj5Ze7U"
      }
    },
    {
      "cell_type": "code",
      "source": [
        "import numpy as np\n",
        "from qutip import basis, tensor, measurement_statistics, hadamard_transform\n",
        "\n",
        "n = 4\n",
        "\n",
        "# Bell durumlarını hazırla |Φ+>\n",
        "bell_states = [tensor(basis(2,0), basis(2,0)) + tensor(basis(2,1), basis(2,1)) for _ in range(n)]\n",
        "bell_states = [state.unit() for state in bell_states]  # Normalize et\n",
        "\n",
        "# Alice ve Bob bazları\n",
        "alice_bases = np.random.choice(['Z','X'], size=n)\n",
        "bob_bases = np.random.choice(['Z','X'], size=n)\n",
        "\n",
        "alice_results = []\n",
        "bob_results = []\n",
        "\n",
        "for i in range(n):\n",
        "    qubit = bell_states[i]\n",
        "\n",
        "    # Alice baz dönüşümü\n",
        "    if alice_bases[i] == 'X':\n",
        "        qubit = tensor(hadamard_transform(), np.identity(2)) * qubit\n",
        "    # Bob baz dönüşümü\n",
        "    if bob_bases[i] == 'X':\n",
        "        qubit = tensor(np.identity(2), hadamard_transform()) * qubit\n",
        "\n",
        "    # Ölçüm\n",
        "    p00, p01, p10, p11 = [np.abs((tensor(basis(2,i), basis(2,j)).dag() * qubit).full()[0][0])**2 for i in [0,1] for j in [0,1]]\n",
        "    outcomes = [0,0,1,1]  # mantıksal bitler\n",
        "    probs = [p00, p01, p10, p11]\n",
        "    choice = np.random.choice([0,1,2,3], p=probs/np.sum(probs))\n",
        "\n",
        "    alice_bit = 0 if choice in [0,1] else 1\n",
        "    bob_bit = 0 if choice in [0,2] else 1\n",
        "\n",
        "    alice_results.append(alice_bit)\n",
        "    bob_results.append(bob_bit)\n",
        "\n",
        "shared_key = [alice_results[i] for i in range(n) if alice_bases[i]==bob_bases[i]]\n",
        "\n",
        "print(\"Alice bazları:\", alice_bases)\n",
        "print(\"Bob bazları:\", bob_bases)\n",
        "print(\"Alice ölçüm sonuçları:\", alice_results)\n",
        "print(\"Bob ölçüm sonuçları:\", bob_results)\n",
        "print(\"Oluşan ortak anahtar:\", shared_key)\n"
      ],
      "metadata": {
        "colab": {
          "base_uri": "https://localhost:8080/",
          "height": 384
        },
        "id": "bN6-0wabZe_n",
        "outputId": "bd30b038-93ad-44b6-aa10-df4c2799afd9"
      },
      "execution_count": 10,
      "outputs": [
        {
          "output_type": "error",
          "ename": "ImportError",
          "evalue": "cannot import name 'measurement_statistics' from 'qutip' (/usr/local/lib/python3.12/dist-packages/qutip/__init__.py)",
          "traceback": [
            "\u001b[0;31m---------------------------------------------------------------------------\u001b[0m",
            "\u001b[0;31mImportError\u001b[0m                               Traceback (most recent call last)",
            "\u001b[0;32m/tmp/ipython-input-3819360036.py\u001b[0m in \u001b[0;36m<cell line: 0>\u001b[0;34m()\u001b[0m\n\u001b[1;32m      1\u001b[0m \u001b[0;32mimport\u001b[0m \u001b[0mnumpy\u001b[0m \u001b[0;32mas\u001b[0m \u001b[0mnp\u001b[0m\u001b[0;34m\u001b[0m\u001b[0;34m\u001b[0m\u001b[0m\n\u001b[0;32m----> 2\u001b[0;31m \u001b[0;32mfrom\u001b[0m \u001b[0mqutip\u001b[0m \u001b[0;32mimport\u001b[0m \u001b[0mbasis\u001b[0m\u001b[0;34m,\u001b[0m \u001b[0mtensor\u001b[0m\u001b[0;34m,\u001b[0m \u001b[0mmeasurement_statistics\u001b[0m\u001b[0;34m,\u001b[0m \u001b[0mhadamard_transform\u001b[0m\u001b[0;34m\u001b[0m\u001b[0;34m\u001b[0m\u001b[0m\n\u001b[0m\u001b[1;32m      3\u001b[0m \u001b[0;34m\u001b[0m\u001b[0m\n\u001b[1;32m      4\u001b[0m \u001b[0mn\u001b[0m \u001b[0;34m=\u001b[0m \u001b[0;36m4\u001b[0m\u001b[0;34m\u001b[0m\u001b[0;34m\u001b[0m\u001b[0m\n\u001b[1;32m      5\u001b[0m \u001b[0;34m\u001b[0m\u001b[0m\n",
            "\u001b[0;31mImportError\u001b[0m: cannot import name 'measurement_statistics' from 'qutip' (/usr/local/lib/python3.12/dist-packages/qutip/__init__.py)",
            "",
            "\u001b[0;31m---------------------------------------------------------------------------\u001b[0;32m\nNOTE: If your import is failing due to a missing package, you can\nmanually install dependencies using either !pip or !apt.\n\nTo view examples of installing some common dependencies, click the\n\"Open Examples\" button below.\n\u001b[0;31m---------------------------------------------------------------------------\u001b[0m\n"
          ],
          "errorDetails": {
            "actions": [
              {
                "action": "open_url",
                "actionText": "Open Examples",
                "url": "/notebooks/snippets/importing_libraries.ipynb"
              }
            ]
          }
        }
      ]
    },
    {
      "cell_type": "markdown",
      "source": [
        "DEUTSCH-JOZSA ALGORİTMASI İLE NASIL ATAK YAPILIR?"
      ],
      "metadata": {
        "id": "QUCevQiUatBO"
      }
    },
    {
      "cell_type": "markdown",
      "source": [
        "Cirq ile Deutsch-Jozsa + Entanglement Attack"
      ],
      "metadata": {
        "id": "mwxeS5CMatDk"
      }
    },
    {
      "cell_type": "code",
      "source": [
        "import cirq\n",
        "import numpy as np\n",
        "\n",
        "n = 3  # Giriş qubit sayısı\n",
        "\n",
        "# Alice qubitleri\n",
        "alice_qubits = cirq.LineQubit.range(n)\n",
        "# Son qubit\n",
        "ancilla = cirq.LineQubit(n)\n",
        "# Saldırgan qubitleri\n",
        "eve_qubits = cirq.LineQubit(range(n+1, n+1+n))\n",
        "\n",
        "circuit = cirq.Circuit()\n",
        "\n",
        "# Başlangıç durumları\n",
        "circuit.append([cirq.X(ancilla)])  # |1> durumuna getir\n",
        "circuit.append([cirq.H(q) for q in alice_qubits + [ancilla]])\n",
        "\n",
        "# Saldırganın dolanıklık saldırısı: A_i qubitini kendi qubit ile Bell durumu yap\n",
        "for i in range(n):\n",
        "    circuit.append(cirq.H(alice_qubits[i]))\n",
        "    circuit.append(cirq.CNOT(alice_qubits[i], eve_qubits[i]))\n",
        "\n",
        "# Karakutu U_f (sabit fonksiyon örneği: f(x)=0)\n",
        "# U_f: y -> y ⊕ f(x), burada sabit 0 için sadece identite\n",
        "# Bu örnekte sadece göstermek için pas geçiyoruz\n",
        "\n",
        "# Hadamard tekrar\n",
        "circuit.append([cirq.H(q) for q in alice_qubits + [ancilla]])\n",
        "circuit.append([cirq.measure(q, key=f'A{i}') for i,q in enumerate(alice_qubits)])\n",
        "circuit.append(cirq.measure(ancilla, key='B'))\n",
        "\n",
        "sim = cirq.Simulator()\n",
        "result = sim.run(circuit)\n",
        "\n",
        "print(\"Ölçüm sonuçları (Alice ve Ancilla):\")\n",
        "print(result)\n"
      ],
      "metadata": {
        "colab": {
          "base_uri": "https://localhost:8080/",
          "height": 211
        },
        "id": "w-KKhWIOatJg",
        "outputId": "e554ec04-3daf-4609-8075-f63c43be4190"
      },
      "execution_count": 12,
      "outputs": [
        {
          "output_type": "error",
          "ename": "TypeError",
          "evalue": "'LineQubit' object is not subscriptable",
          "traceback": [
            "\u001b[0;31m---------------------------------------------------------------------------\u001b[0m",
            "\u001b[0;31mTypeError\u001b[0m                                 Traceback (most recent call last)",
            "\u001b[0;32m/tmp/ipython-input-3630027189.py\u001b[0m in \u001b[0;36m<cell line: 0>\u001b[0;34m()\u001b[0m\n\u001b[1;32m     20\u001b[0m \u001b[0;32mfor\u001b[0m \u001b[0mi\u001b[0m \u001b[0;32min\u001b[0m \u001b[0mrange\u001b[0m\u001b[0;34m(\u001b[0m\u001b[0mn\u001b[0m\u001b[0;34m)\u001b[0m\u001b[0;34m:\u001b[0m\u001b[0;34m\u001b[0m\u001b[0;34m\u001b[0m\u001b[0m\n\u001b[1;32m     21\u001b[0m     \u001b[0mcircuit\u001b[0m\u001b[0;34m.\u001b[0m\u001b[0mappend\u001b[0m\u001b[0;34m(\u001b[0m\u001b[0mcirq\u001b[0m\u001b[0;34m.\u001b[0m\u001b[0mH\u001b[0m\u001b[0;34m(\u001b[0m\u001b[0malice_qubits\u001b[0m\u001b[0;34m[\u001b[0m\u001b[0mi\u001b[0m\u001b[0;34m]\u001b[0m\u001b[0;34m)\u001b[0m\u001b[0;34m)\u001b[0m\u001b[0;34m\u001b[0m\u001b[0;34m\u001b[0m\u001b[0m\n\u001b[0;32m---> 22\u001b[0;31m     \u001b[0mcircuit\u001b[0m\u001b[0;34m.\u001b[0m\u001b[0mappend\u001b[0m\u001b[0;34m(\u001b[0m\u001b[0mcirq\u001b[0m\u001b[0;34m.\u001b[0m\u001b[0mCNOT\u001b[0m\u001b[0;34m(\u001b[0m\u001b[0malice_qubits\u001b[0m\u001b[0;34m[\u001b[0m\u001b[0mi\u001b[0m\u001b[0;34m]\u001b[0m\u001b[0;34m,\u001b[0m \u001b[0meve_qubits\u001b[0m\u001b[0;34m[\u001b[0m\u001b[0mi\u001b[0m\u001b[0;34m]\u001b[0m\u001b[0;34m)\u001b[0m\u001b[0;34m)\u001b[0m\u001b[0;34m\u001b[0m\u001b[0;34m\u001b[0m\u001b[0m\n\u001b[0m\u001b[1;32m     23\u001b[0m \u001b[0;34m\u001b[0m\u001b[0m\n\u001b[1;32m     24\u001b[0m \u001b[0;31m# Karakutu U_f (sabit fonksiyon örneği: f(x)=0)\u001b[0m\u001b[0;34m\u001b[0m\u001b[0;34m\u001b[0m\u001b[0m\n",
            "\u001b[0;31mTypeError\u001b[0m: 'LineQubit' object is not subscriptable"
          ]
        }
      ]
    },
    {
      "cell_type": "markdown",
      "source": [
        "Qiskit ile Deutsch-Jozsa + Entanglement Attack"
      ],
      "metadata": {
        "id": "EhsvwkN5atO2"
      }
    },
    {
      "cell_type": "code",
      "source": [
        "from qiskit import QuantumCircuit, Aer, execute\n",
        "\n",
        "n = 3\n",
        "qc = QuantumCircuit(2*n + 1, n + 1)  # Alice, Eve ve ancilla\n",
        "\n",
        "# Başlangıç durumları\n",
        "qc.x(n*2)  # ancilla |1>\n",
        "qc.h(range(n))  # Alice qubitleri\n",
        "qc.h(n*2)      # ancilla\n",
        "\n",
        "# Eve ile dolanıklık saldırısı\n",
        "for i in range(n):\n",
        "    qc.h(i)\n",
        "    qc.cx(i, n + i)  # A_i ile Eve qubitleri dolanık\n",
        "\n",
        "# Karakutu U_f (f(x)=0)\n",
        "# Örnek: pas geçiyoruz\n",
        "\n",
        "# Hadamard tekrar\n",
        "qc.h(range(n))\n",
        "qc.h(n*2)\n",
        "\n",
        "# Ölçüm\n",
        "qc.measure(range(n), range(n))\n",
        "qc.measure(n*2, n)\n",
        "\n",
        "backend = Aer.get_backend('qasm_simulator')\n",
        "job = execute(qc, backend, shots=1)\n",
        "result = job.result()\n",
        "counts = result.get_counts()\n",
        "\n",
        "print(\"Ölçüm sonuçları:\")\n",
        "print(counts)\n"
      ],
      "metadata": {
        "colab": {
          "base_uri": "https://localhost:8080/",
          "height": 384
        },
        "id": "lbZwAGYFatTA",
        "outputId": "0877d45f-d4a8-4e62-9c67-874f24261367"
      },
      "execution_count": 13,
      "outputs": [
        {
          "output_type": "error",
          "ename": "ImportError",
          "evalue": "cannot import name 'Aer' from 'qiskit' (/usr/local/lib/python3.12/dist-packages/qiskit/__init__.py)",
          "traceback": [
            "\u001b[0;31m---------------------------------------------------------------------------\u001b[0m",
            "\u001b[0;31mImportError\u001b[0m                               Traceback (most recent call last)",
            "\u001b[0;32m/tmp/ipython-input-2087884831.py\u001b[0m in \u001b[0;36m<cell line: 0>\u001b[0;34m()\u001b[0m\n\u001b[0;32m----> 1\u001b[0;31m \u001b[0;32mfrom\u001b[0m \u001b[0mqiskit\u001b[0m \u001b[0;32mimport\u001b[0m \u001b[0mQuantumCircuit\u001b[0m\u001b[0;34m,\u001b[0m \u001b[0mAer\u001b[0m\u001b[0;34m,\u001b[0m \u001b[0mexecute\u001b[0m\u001b[0;34m\u001b[0m\u001b[0;34m\u001b[0m\u001b[0m\n\u001b[0m\u001b[1;32m      2\u001b[0m \u001b[0;34m\u001b[0m\u001b[0m\n\u001b[1;32m      3\u001b[0m \u001b[0mn\u001b[0m \u001b[0;34m=\u001b[0m \u001b[0;36m3\u001b[0m\u001b[0;34m\u001b[0m\u001b[0;34m\u001b[0m\u001b[0m\n\u001b[1;32m      4\u001b[0m \u001b[0mqc\u001b[0m \u001b[0;34m=\u001b[0m \u001b[0mQuantumCircuit\u001b[0m\u001b[0;34m(\u001b[0m\u001b[0;36m2\u001b[0m\u001b[0;34m*\u001b[0m\u001b[0mn\u001b[0m \u001b[0;34m+\u001b[0m \u001b[0;36m1\u001b[0m\u001b[0;34m,\u001b[0m \u001b[0mn\u001b[0m \u001b[0;34m+\u001b[0m \u001b[0;36m1\u001b[0m\u001b[0;34m)\u001b[0m  \u001b[0;31m# Alice, Eve ve ancilla\u001b[0m\u001b[0;34m\u001b[0m\u001b[0;34m\u001b[0m\u001b[0m\n\u001b[1;32m      5\u001b[0m \u001b[0;34m\u001b[0m\u001b[0m\n",
            "\u001b[0;31mImportError\u001b[0m: cannot import name 'Aer' from 'qiskit' (/usr/local/lib/python3.12/dist-packages/qiskit/__init__.py)",
            "",
            "\u001b[0;31m---------------------------------------------------------------------------\u001b[0;32m\nNOTE: If your import is failing due to a missing package, you can\nmanually install dependencies using either !pip or !apt.\n\nTo view examples of installing some common dependencies, click the\n\"Open Examples\" button below.\n\u001b[0;31m---------------------------------------------------------------------------\u001b[0m\n"
          ],
          "errorDetails": {
            "actions": [
              {
                "action": "open_url",
                "actionText": "Open Examples",
                "url": "/notebooks/snippets/importing_libraries.ipynb"
              }
            ]
          }
        }
      ]
    },
    {
      "cell_type": "markdown",
      "source": [
        "QuTiP ile Deutsch-Jozsa + Entanglement Attack"
      ],
      "metadata": {
        "id": "s80jTEvqatXR"
      }
    },
    {
      "cell_type": "code",
      "source": [
        "import numpy as np\n",
        "from qutip import basis, tensor, hadamard_transform, qeye, measurement_statistics\n",
        "\n",
        "n = 3\n",
        "# Başlangıç durumları |0001>\n",
        "alice = tensor([basis(2,0) for _ in range(n)])\n",
        "ancilla = basis(2,1)\n",
        "eve = tensor([basis(2,0) for _ in range(n)])\n",
        "\n",
        "# Dolanıklık saldırısı: |phi+> = (|00> + |11>)/√2\n",
        "bell = (tensor(basis(2,0), basis(2,0)) + tensor(basis(2,1), basis(2,1))).unit()\n",
        "# Her Alice qubit ile Eve qubiti dolanık\n",
        "state = tensor(bell, bell, basis(2,1))  # Örnek n=2 için\n",
        "\n",
        "# Hadamard tüm Alice ve ancilla\n",
        "Hn = hadamard_transform()\n",
        "# Ölçüm örneği: sadece göstermek için\n",
        "# QuTiP ölçümü simülasyonu burada yapılabilir\n",
        "\n",
        "print(\"Deutsch-Jozsa başlangıç durumu (saldırgan dolanıklı):\")\n",
        "print(state)\n"
      ],
      "metadata": {
        "colab": {
          "base_uri": "https://localhost:8080/",
          "height": 384
        },
        "id": "gZZSoJ1datbH",
        "outputId": "ad8acecb-3060-4c11-c593-946e0c3d74fd"
      },
      "execution_count": 14,
      "outputs": [
        {
          "output_type": "error",
          "ename": "ImportError",
          "evalue": "cannot import name 'hadamard_transform' from 'qutip' (/usr/local/lib/python3.12/dist-packages/qutip/__init__.py)",
          "traceback": [
            "\u001b[0;31m---------------------------------------------------------------------------\u001b[0m",
            "\u001b[0;31mImportError\u001b[0m                               Traceback (most recent call last)",
            "\u001b[0;32m/tmp/ipython-input-2645396064.py\u001b[0m in \u001b[0;36m<cell line: 0>\u001b[0;34m()\u001b[0m\n\u001b[1;32m      1\u001b[0m \u001b[0;32mimport\u001b[0m \u001b[0mnumpy\u001b[0m \u001b[0;32mas\u001b[0m \u001b[0mnp\u001b[0m\u001b[0;34m\u001b[0m\u001b[0;34m\u001b[0m\u001b[0m\n\u001b[0;32m----> 2\u001b[0;31m \u001b[0;32mfrom\u001b[0m \u001b[0mqutip\u001b[0m \u001b[0;32mimport\u001b[0m \u001b[0mbasis\u001b[0m\u001b[0;34m,\u001b[0m \u001b[0mtensor\u001b[0m\u001b[0;34m,\u001b[0m \u001b[0mhadamard_transform\u001b[0m\u001b[0;34m,\u001b[0m \u001b[0mqeye\u001b[0m\u001b[0;34m,\u001b[0m \u001b[0mmeasurement_statistics\u001b[0m\u001b[0;34m\u001b[0m\u001b[0;34m\u001b[0m\u001b[0m\n\u001b[0m\u001b[1;32m      3\u001b[0m \u001b[0;34m\u001b[0m\u001b[0m\n\u001b[1;32m      4\u001b[0m \u001b[0mn\u001b[0m \u001b[0;34m=\u001b[0m \u001b[0;36m3\u001b[0m\u001b[0;34m\u001b[0m\u001b[0;34m\u001b[0m\u001b[0m\n\u001b[1;32m      5\u001b[0m \u001b[0;31m# Başlangıç durumları |0001>\u001b[0m\u001b[0;34m\u001b[0m\u001b[0;34m\u001b[0m\u001b[0m\n",
            "\u001b[0;31mImportError\u001b[0m: cannot import name 'hadamard_transform' from 'qutip' (/usr/local/lib/python3.12/dist-packages/qutip/__init__.py)",
            "",
            "\u001b[0;31m---------------------------------------------------------------------------\u001b[0;32m\nNOTE: If your import is failing due to a missing package, you can\nmanually install dependencies using either !pip or !apt.\n\nTo view examples of installing some common dependencies, click the\n\"Open Examples\" button below.\n\u001b[0;31m---------------------------------------------------------------------------\u001b[0m\n"
          ],
          "errorDetails": {
            "actions": [
              {
                "action": "open_url",
                "actionText": "Open Examples",
                "url": "/notebooks/snippets/importing_libraries.ipynb"
              }
            ]
          }
        }
      ]
    },
    {
      "cell_type": "markdown",
      "source": [
        "SIMON ALGORİTMASI İLE NASIL ATAK YAPILIR?  "
      ],
      "metadata": {
        "id": "pj_CwrG_atki"
      }
    },
    {
      "cell_type": "markdown",
      "source": [
        "Cirq Örneği"
      ],
      "metadata": {
        "id": "yWRyRqzzatnX"
      }
    },
    {
      "cell_type": "code",
      "source": [
        "import cirq\n",
        "import numpy as np\n",
        "\n",
        "# Qubitleri oluştur\n",
        "n = 2  # örnek olarak 2-bit Simon\n",
        "A = [cirq.LineQubit(i) for i in range(n)]\n",
        "C = [cirq.LineQubit(i+n) for i in range(n)]\n",
        "B = cirq.LineQubit(2*n)\n",
        "\n",
        "# Simon fonksiyonu (örnek s = 11)\n",
        "s = np.array([1,1])\n",
        "f_map = { (0,0):(0,0), (0,1):(0,1), (1,0):(1,1), (1,1):(1,0) }\n",
        "\n",
        "def simon_U(circuit, qubits_A, qubit_B):\n",
        "    for x in [(0,0),(0,1),(1,0),(1,1)]:\n",
        "        fx = f_map[x]\n",
        "        # basit simülasyon olarak kontrollü X uygulanabilir\n",
        "        for i, bit in enumerate(fx):\n",
        "            if bit:\n",
        "                circuit.append(cirq.X(qubit_B).controlled_by(*[qubits_A[j] for j, b in enumerate(x) if b]))\n",
        "\n",
        "# Devre oluştur\n",
        "circuit = cirq.Circuit()\n",
        "\n",
        "# Başlangıç durumu ve dolanıklık saldırısı\n",
        "for i in range(n):\n",
        "    circuit.append(cirq.H(A[i]))\n",
        "    circuit.append(cirq.H(C[i]))\n",
        "    # Dolanık hale getirme\n",
        "    circuit.append(cirq.CNOT(A[i], C[i]))\n",
        "\n",
        "# B qubitini başlat\n",
        "circuit.append(cirq.X(B))\n",
        "circuit.append(cirq.H(B))\n",
        "\n",
        "# Karakutu uygulama\n",
        "simon_U(circuit, A, B)\n",
        "\n",
        "# Hadamard tekrar\n",
        "for q in A + C:\n",
        "    circuit.append(cirq.H(q))\n",
        "\n",
        "# Ölçümler\n",
        "circuit.append([cirq.measure(q, key=f'a{i}') for i, q in enumerate(A)])\n",
        "circuit.append([cirq.measure(q, key=f'c{i}') for i, q in enumerate(C)])\n",
        "circuit.append(cirq.measure(B, key='B'))\n",
        "\n",
        "simulator = cirq.Simulator()\n",
        "result = simulator.run(circuit, repetitions=10)\n",
        "print(result)\n"
      ],
      "metadata": {
        "colab": {
          "base_uri": "https://localhost:8080/"
        },
        "id": "v6-dg1BAatxY",
        "outputId": "1019b98b-1251-493b-b481-462f7934b255"
      },
      "execution_count": 15,
      "outputs": [
        {
          "output_type": "stream",
          "name": "stdout",
          "text": [
            "B=0011010011\n",
            "a0=1000111111\n",
            "a1=1001001101\n",
            "c0=0000000000\n",
            "c1=0000000000\n"
          ]
        }
      ]
    },
    {
      "cell_type": "markdown",
      "source": [
        "Qiskit Örneği"
      ],
      "metadata": {
        "id": "CLMTG1OGat2x"
      }
    },
    {
      "cell_type": "code",
      "source": [
        "from qiskit import QuantumCircuit, Aer, execute\n",
        "from qiskit.visualization import plot_histogram\n",
        "\n",
        "n = 2\n",
        "A = [i for i in range(n)]\n",
        "C = [i+n for i in range(n)]\n",
        "B = 2*n\n",
        "\n",
        "qc = QuantumCircuit(2*n+1, 2*n+1)\n",
        "\n",
        "# Başlangıç ve dolanıklık\n",
        "for i in range(n):\n",
        "    qc.h(i)      # A qubitleri\n",
        "    qc.h(i+n)    # C qubitleri\n",
        "    qc.cx(i, i+n) # Dolanıklık\n",
        "\n",
        "qc.x(B)\n",
        "qc.h(B)\n",
        "\n",
        "# Basit simon fonksiyonu (örnek)\n",
        "# Kontrollü-X uygulanabilir\n",
        "qc.cx(0,B)\n",
        "qc.cx(1,B)\n",
        "\n",
        "# Hadamard tekrar\n",
        "for i in range(n):\n",
        "    qc.h(i)\n",
        "    qc.h(i+n)\n",
        "\n",
        "# Ölçüm\n",
        "for i in range(2*n+1):\n",
        "    qc.measure(i, i)\n",
        "\n",
        "backend = Aer.get_backend('qasm_simulator')\n",
        "result = execute(qc, backend, shots=10).result()\n",
        "counts = result.get_counts()\n",
        "print(counts)\n"
      ],
      "metadata": {
        "colab": {
          "base_uri": "https://localhost:8080/",
          "height": 384
        },
        "id": "SMiw2Qufat67",
        "outputId": "8d0d8902-0987-46f5-dd01-64bd2ac15e0f"
      },
      "execution_count": 16,
      "outputs": [
        {
          "output_type": "error",
          "ename": "ImportError",
          "evalue": "cannot import name 'Aer' from 'qiskit' (/usr/local/lib/python3.12/dist-packages/qiskit/__init__.py)",
          "traceback": [
            "\u001b[0;31m---------------------------------------------------------------------------\u001b[0m",
            "\u001b[0;31mImportError\u001b[0m                               Traceback (most recent call last)",
            "\u001b[0;32m/tmp/ipython-input-2084278763.py\u001b[0m in \u001b[0;36m<cell line: 0>\u001b[0;34m()\u001b[0m\n\u001b[0;32m----> 1\u001b[0;31m \u001b[0;32mfrom\u001b[0m \u001b[0mqiskit\u001b[0m \u001b[0;32mimport\u001b[0m \u001b[0mQuantumCircuit\u001b[0m\u001b[0;34m,\u001b[0m \u001b[0mAer\u001b[0m\u001b[0;34m,\u001b[0m \u001b[0mexecute\u001b[0m\u001b[0;34m\u001b[0m\u001b[0;34m\u001b[0m\u001b[0m\n\u001b[0m\u001b[1;32m      2\u001b[0m \u001b[0;32mfrom\u001b[0m \u001b[0mqiskit\u001b[0m\u001b[0;34m.\u001b[0m\u001b[0mvisualization\u001b[0m \u001b[0;32mimport\u001b[0m \u001b[0mplot_histogram\u001b[0m\u001b[0;34m\u001b[0m\u001b[0;34m\u001b[0m\u001b[0m\n\u001b[1;32m      3\u001b[0m \u001b[0;34m\u001b[0m\u001b[0m\n\u001b[1;32m      4\u001b[0m \u001b[0mn\u001b[0m \u001b[0;34m=\u001b[0m \u001b[0;36m2\u001b[0m\u001b[0;34m\u001b[0m\u001b[0;34m\u001b[0m\u001b[0m\n\u001b[1;32m      5\u001b[0m \u001b[0mA\u001b[0m \u001b[0;34m=\u001b[0m \u001b[0;34m[\u001b[0m\u001b[0mi\u001b[0m \u001b[0;32mfor\u001b[0m \u001b[0mi\u001b[0m \u001b[0;32min\u001b[0m \u001b[0mrange\u001b[0m\u001b[0;34m(\u001b[0m\u001b[0mn\u001b[0m\u001b[0;34m)\u001b[0m\u001b[0;34m]\u001b[0m\u001b[0;34m\u001b[0m\u001b[0;34m\u001b[0m\u001b[0m\n",
            "\u001b[0;31mImportError\u001b[0m: cannot import name 'Aer' from 'qiskit' (/usr/local/lib/python3.12/dist-packages/qiskit/__init__.py)",
            "",
            "\u001b[0;31m---------------------------------------------------------------------------\u001b[0;32m\nNOTE: If your import is failing due to a missing package, you can\nmanually install dependencies using either !pip or !apt.\n\nTo view examples of installing some common dependencies, click the\n\"Open Examples\" button below.\n\u001b[0;31m---------------------------------------------------------------------------\u001b[0m\n"
          ],
          "errorDetails": {
            "actions": [
              {
                "action": "open_url",
                "actionText": "Open Examples",
                "url": "/notebooks/snippets/importing_libraries.ipynb"
              }
            ]
          }
        }
      ]
    },
    {
      "cell_type": "markdown",
      "source": [
        "QuTiP Örneği"
      ],
      "metadata": {
        "id": "eeeecTEXauDj"
      }
    },
    {
      "cell_type": "code",
      "source": [
        "from qutip import *\n",
        "import numpy as np\n",
        "\n",
        "n = 2\n",
        "\n",
        "# Basis state oluştur\n",
        "A = [basis(2,0) for _ in range(n)]\n",
        "C = [basis(2,0) for _ in range(n)]\n",
        "B = basis(2,1)  # B qubitini |1> olarak başlat\n",
        "\n",
        "# Tensor ürünleri\n",
        "state = tensor(A + C + [B])\n",
        "\n",
        "# Hadamard operatörü\n",
        "H = (1/np.sqrt(2)) * Qobj([[1,1],[1,-1]])\n",
        "\n",
        "# Dolanıklık: CNOT\n",
        "def apply_cnot(state, control, target, n_total):\n",
        "    X = sigmax()\n",
        "    P0 = basis(2,0)*basis(2,0).dag()\n",
        "    P1 = basis(2,1)*basis(2,1).dag()\n",
        "    op = tensor([P0 if i==control else qeye(2) for i in range(n_total)]) + \\\n",
        "         tensor([P1 if i==control else (X if i==target else qeye(2)) for i in range(n_total)])\n",
        "    return op*state\n",
        "\n",
        "# Hadamard A ve C\n",
        "for i in range(n):\n",
        "    H_i = tensor([H if j==i or j==i+n else qeye(2) for j in range(2*n+1)])\n",
        "    state = H_i*state\n",
        "    state = apply_cnot(state, i, i+n, 2*n+1)\n",
        "\n",
        "# B qubitini Hadamard ve X\n",
        "state = tensor([qeye(2) for _ in range(2*n)] + [sigmax()*H*B]) * state\n",
        "\n",
        "print(state)\n"
      ],
      "metadata": {
        "colab": {
          "base_uri": "https://localhost:8080/",
          "height": 356
        },
        "id": "tKpCunXdauHG",
        "outputId": "813cff9f-fdf3-4b17-912c-d99fa8af9479"
      },
      "execution_count": 17,
      "outputs": [
        {
          "output_type": "error",
          "ename": "TypeError",
          "evalue": "incompatible dimensions [[2, 2, 2, 2, 2], [2, 2, 2, 2, 1]] and [[2, 2, 2, 2, 2], [1]]",
          "traceback": [
            "\u001b[0;31m---------------------------------------------------------------------------\u001b[0m",
            "\u001b[0;31mTypeError\u001b[0m                                 Traceback (most recent call last)",
            "\u001b[0;32m/tmp/ipython-input-3279160245.py\u001b[0m in \u001b[0;36m<cell line: 0>\u001b[0;34m()\u001b[0m\n\u001b[1;32m     31\u001b[0m \u001b[0;34m\u001b[0m\u001b[0m\n\u001b[1;32m     32\u001b[0m \u001b[0;31m# B qubitini Hadamard ve X\u001b[0m\u001b[0;34m\u001b[0m\u001b[0;34m\u001b[0m\u001b[0m\n\u001b[0;32m---> 33\u001b[0;31m \u001b[0mstate\u001b[0m \u001b[0;34m=\u001b[0m \u001b[0mtensor\u001b[0m\u001b[0;34m(\u001b[0m\u001b[0;34m[\u001b[0m\u001b[0mqeye\u001b[0m\u001b[0;34m(\u001b[0m\u001b[0;36m2\u001b[0m\u001b[0;34m)\u001b[0m \u001b[0;32mfor\u001b[0m \u001b[0m_\u001b[0m \u001b[0;32min\u001b[0m \u001b[0mrange\u001b[0m\u001b[0;34m(\u001b[0m\u001b[0;36m2\u001b[0m\u001b[0;34m*\u001b[0m\u001b[0mn\u001b[0m\u001b[0;34m)\u001b[0m\u001b[0;34m]\u001b[0m \u001b[0;34m+\u001b[0m \u001b[0;34m[\u001b[0m\u001b[0msigmax\u001b[0m\u001b[0;34m(\u001b[0m\u001b[0;34m)\u001b[0m\u001b[0;34m*\u001b[0m\u001b[0mH\u001b[0m\u001b[0;34m*\u001b[0m\u001b[0mB\u001b[0m\u001b[0;34m]\u001b[0m\u001b[0;34m)\u001b[0m \u001b[0;34m*\u001b[0m \u001b[0mstate\u001b[0m\u001b[0;34m\u001b[0m\u001b[0;34m\u001b[0m\u001b[0m\n\u001b[0m\u001b[1;32m     34\u001b[0m \u001b[0;34m\u001b[0m\u001b[0m\n\u001b[1;32m     35\u001b[0m \u001b[0mprint\u001b[0m\u001b[0;34m(\u001b[0m\u001b[0mstate\u001b[0m\u001b[0;34m)\u001b[0m\u001b[0;34m\u001b[0m\u001b[0;34m\u001b[0m\u001b[0m\n",
            "\u001b[0;32m/usr/local/lib/python3.12/dist-packages/qutip/core/qobj.py\u001b[0m in \u001b[0;36m__mul__\u001b[0;34m(self, other)\u001b[0m\n\u001b[1;32m    422\u001b[0m \u001b[0;34m\u001b[0m\u001b[0m\n\u001b[1;32m    423\u001b[0m         \u001b[0;32mif\u001b[0m \u001b[0misinstance\u001b[0m\u001b[0;34m(\u001b[0m\u001b[0mother\u001b[0m\u001b[0;34m,\u001b[0m \u001b[0mQobj\u001b[0m\u001b[0;34m)\u001b[0m\u001b[0;34m:\u001b[0m\u001b[0;34m\u001b[0m\u001b[0;34m\u001b[0m\u001b[0m\n\u001b[0;32m--> 424\u001b[0;31m             \u001b[0;32mreturn\u001b[0m \u001b[0mself\u001b[0m\u001b[0;34m.\u001b[0m\u001b[0m__matmul__\u001b[0m\u001b[0;34m(\u001b[0m\u001b[0mother\u001b[0m\u001b[0;34m)\u001b[0m\u001b[0;34m\u001b[0m\u001b[0;34m\u001b[0m\u001b[0m\n\u001b[0m\u001b[1;32m    425\u001b[0m \u001b[0;34m\u001b[0m\u001b[0m\n\u001b[1;32m    426\u001b[0m         \u001b[0;31m# We send other to mul instead of complex(other) to be more flexible.\u001b[0m\u001b[0;34m\u001b[0m\u001b[0;34m\u001b[0m\u001b[0m\n",
            "\u001b[0;32m/usr/local/lib/python3.12/dist-packages/qutip/core/qobj.py\u001b[0m in \u001b[0;36m__matmul__\u001b[0;34m(self, other)\u001b[0m\n\u001b[1;32m    459\u001b[0m             \u001b[0;32mexcept\u001b[0m \u001b[0mTypeError\u001b[0m\u001b[0;34m:\u001b[0m\u001b[0;34m\u001b[0m\u001b[0;34m\u001b[0m\u001b[0m\n\u001b[1;32m    460\u001b[0m                 \u001b[0;32mreturn\u001b[0m \u001b[0mNotImplemented\u001b[0m\u001b[0;34m\u001b[0m\u001b[0;34m\u001b[0m\u001b[0m\n\u001b[0;32m--> 461\u001b[0;31m         \u001b[0mnew_dims\u001b[0m \u001b[0;34m=\u001b[0m \u001b[0mself\u001b[0m\u001b[0;34m.\u001b[0m\u001b[0m_dims\u001b[0m \u001b[0;34m@\u001b[0m \u001b[0mother\u001b[0m\u001b[0;34m.\u001b[0m\u001b[0m_dims\u001b[0m\u001b[0;34m\u001b[0m\u001b[0;34m\u001b[0m\u001b[0m\n\u001b[0m\u001b[1;32m    462\u001b[0m         \u001b[0;32mif\u001b[0m \u001b[0mnew_dims\u001b[0m\u001b[0;34m.\u001b[0m\u001b[0mtype\u001b[0m \u001b[0;34m==\u001b[0m \u001b[0;34m'scalar'\u001b[0m\u001b[0;34m:\u001b[0m\u001b[0;34m\u001b[0m\u001b[0;34m\u001b[0m\u001b[0m\n\u001b[1;32m    463\u001b[0m             \u001b[0;32mreturn\u001b[0m \u001b[0m_data\u001b[0m\u001b[0;34m.\u001b[0m\u001b[0minner\u001b[0m\u001b[0;34m(\u001b[0m\u001b[0mself\u001b[0m\u001b[0;34m.\u001b[0m\u001b[0m_data\u001b[0m\u001b[0;34m,\u001b[0m \u001b[0mother\u001b[0m\u001b[0;34m.\u001b[0m\u001b[0m_data\u001b[0m\u001b[0;34m)\u001b[0m\u001b[0;34m\u001b[0m\u001b[0;34m\u001b[0m\u001b[0m\n",
            "\u001b[0;32m/usr/local/lib/python3.12/dist-packages/qutip/core/dimensions.py\u001b[0m in \u001b[0;36m__matmul__\u001b[0;34m(self, other)\u001b[0m\n\u001b[1;32m    798\u001b[0m     \u001b[0;32mdef\u001b[0m \u001b[0m__matmul__\u001b[0m\u001b[0;34m(\u001b[0m\u001b[0mself\u001b[0m\u001b[0;34m,\u001b[0m \u001b[0mother\u001b[0m\u001b[0;34m:\u001b[0m \u001b[0;34m\"Dimensions\"\u001b[0m\u001b[0;34m)\u001b[0m \u001b[0;34m->\u001b[0m \u001b[0;34m\"Dimensions\"\u001b[0m\u001b[0;34m:\u001b[0m\u001b[0;34m\u001b[0m\u001b[0;34m\u001b[0m\u001b[0m\n\u001b[1;32m    799\u001b[0m         \u001b[0;32mif\u001b[0m \u001b[0mself\u001b[0m\u001b[0;34m.\u001b[0m\u001b[0mfrom_\u001b[0m \u001b[0;34m!=\u001b[0m \u001b[0mother\u001b[0m\u001b[0;34m.\u001b[0m\u001b[0mto_\u001b[0m\u001b[0;34m:\u001b[0m\u001b[0;34m\u001b[0m\u001b[0;34m\u001b[0m\u001b[0m\n\u001b[0;32m--> 800\u001b[0;31m             \u001b[0;32mraise\u001b[0m \u001b[0mTypeError\u001b[0m\u001b[0;34m(\u001b[0m\u001b[0;34mf\"incompatible dimensions {self} and {other}\"\u001b[0m\u001b[0;34m)\u001b[0m\u001b[0;34m\u001b[0m\u001b[0;34m\u001b[0m\u001b[0m\n\u001b[0m\u001b[1;32m    801\u001b[0m         \u001b[0margs\u001b[0m \u001b[0;34m=\u001b[0m \u001b[0mother\u001b[0m\u001b[0;34m.\u001b[0m\u001b[0mfrom_\u001b[0m\u001b[0;34m,\u001b[0m \u001b[0mself\u001b[0m\u001b[0;34m.\u001b[0m\u001b[0mto_\u001b[0m\u001b[0;34m\u001b[0m\u001b[0;34m\u001b[0m\u001b[0m\n\u001b[1;32m    802\u001b[0m         \u001b[0;32mif\u001b[0m \u001b[0margs\u001b[0m \u001b[0;32min\u001b[0m \u001b[0mDimensions\u001b[0m\u001b[0;34m.\u001b[0m\u001b[0m_stored_dims\u001b[0m\u001b[0;34m:\u001b[0m\u001b[0;34m\u001b[0m\u001b[0;34m\u001b[0m\u001b[0m\n",
            "\u001b[0;31mTypeError\u001b[0m: incompatible dimensions [[2, 2, 2, 2, 2], [2, 2, 2, 2, 1]] and [[2, 2, 2, 2, 2], [1]]"
          ]
        }
      ]
    },
    {
      "cell_type": "markdown",
      "source": [
        "GROVER ALGORİTMASI İLE NASIL ATAK YAPILIR?"
      ],
      "metadata": {
        "id": "7k_iqm-BbcPw"
      }
    },
    {
      "cell_type": "markdown",
      "source": [
        "Cirq Örneği (2 qubit Grover + dolanıklık)"
      ],
      "metadata": {
        "id": "NZANckaSbcUN"
      }
    },
    {
      "cell_type": "code",
      "source": [
        "import cirq\n",
        "import numpy as np\n",
        "\n",
        "# Qubitler\n",
        "A = [cirq.LineQubit(i) for i in range(2)]\n",
        "B = [cirq.LineQubit(i+2) for i in range(2)]\n",
        "\n",
        "# Devre\n",
        "circuit = cirq.Circuit()\n",
        "\n",
        "# Başlangıç durumu ve dolanıklık\n",
        "for i in range(2):\n",
        "    circuit.append(cirq.H(A[i]))\n",
        "    circuit.append(cirq.H(B[i]))\n",
        "    circuit.append(cirq.CNOT(A[i], B[i]))  # Dolanıklık\n",
        "\n",
        "# Oracle fonksiyonu örneği (aranan state |00>)\n",
        "circuit.append(cirq.Z(A[0]).controlled_by(*A[1:]))  # Basit oracle\n",
        "circuit.append(cirq.Z(A[1]).controlled_by(*A[:1]))\n",
        "\n",
        "# Diffusion operator (Grover iterasyonu)\n",
        "for q in A:\n",
        "    circuit.append(cirq.H(q))\n",
        "    circuit.append(cirq.X(q))\n",
        "circuit.append(cirq.H(A[-1]))\n",
        "circuit.append(cirq.CNOT(A[0], A[1]))\n",
        "circuit.append(cirq.H(A[-1]))\n",
        "for q in A:\n",
        "    circuit.append(cirq.X(q))\n",
        "    circuit.append(cirq.H(q))\n",
        "\n",
        "# Ölçüm\n",
        "circuit.append([cirq.measure(q, key=f'a{i}') for i, q in enumerate(A)])\n",
        "circuit.append([cirq.measure(q, key=f'b{i}') for i, q in enumerate(B)])\n",
        "\n",
        "simulator = cirq.Simulator()\n",
        "result = simulator.run(circuit, repetitions=10)\n",
        "print(result)\n"
      ],
      "metadata": {
        "colab": {
          "base_uri": "https://localhost:8080/"
        },
        "id": "6Zu-RjeZbcbr",
        "outputId": "3478780b-5927-444e-b0cf-a5949cb3cda1"
      },
      "execution_count": 18,
      "outputs": [
        {
          "output_type": "stream",
          "name": "stdout",
          "text": [
            "a0=1100001100\n",
            "a1=1001010001\n",
            "b0=1110010001\n",
            "b1=0110011100\n"
          ]
        }
      ]
    },
    {
      "cell_type": "markdown",
      "source": [
        "Qiskit Örneği (2 qubit Grover + dolanıklık)"
      ],
      "metadata": {
        "id": "O5oWwYsJbcgW"
      }
    },
    {
      "cell_type": "code",
      "source": [
        "from qiskit import QuantumCircuit, Aer, execute\n",
        "\n",
        "qc = QuantumCircuit(4,4)\n",
        "A = [0,1]\n",
        "B = [2,3]\n",
        "\n",
        "# Başlangıç ve dolanıklık\n",
        "for i in range(2):\n",
        "    qc.h(A[i])\n",
        "    qc.h(B[i])\n",
        "    qc.cx(A[i], B[i])\n",
        "\n",
        "# Oracle (aranan |00>)\n",
        "qc.cz(A[0], A[1])\n",
        "\n",
        "# Diffusion operator\n",
        "for q in A:\n",
        "    qc.h(q)\n",
        "    qc.x(q)\n",
        "qc.h(A[1])\n",
        "qc.cx(A[0], A[1])\n",
        "qc.h(A[1])\n",
        "for q in A:\n",
        "    qc.x(q)\n",
        "    qc.h(q)\n",
        "\n",
        "# Ölçüm\n",
        "for i in range(2):\n",
        "    qc.measure(A[i],i)\n",
        "    qc.measure(B[i],i+2)\n",
        "\n",
        "backend = Aer.get_backend('qasm_simulator')\n",
        "result = execute(qc, backend, shots=10).result()\n",
        "print(result.get_counts())\n"
      ],
      "metadata": {
        "colab": {
          "base_uri": "https://localhost:8080/",
          "height": 384
        },
        "id": "D6XHC5p9bckw",
        "outputId": "6f706553-67c5-4e78-c5a6-50155c29755f"
      },
      "execution_count": 19,
      "outputs": [
        {
          "output_type": "error",
          "ename": "ImportError",
          "evalue": "cannot import name 'Aer' from 'qiskit' (/usr/local/lib/python3.12/dist-packages/qiskit/__init__.py)",
          "traceback": [
            "\u001b[0;31m---------------------------------------------------------------------------\u001b[0m",
            "\u001b[0;31mImportError\u001b[0m                               Traceback (most recent call last)",
            "\u001b[0;32m/tmp/ipython-input-1850145939.py\u001b[0m in \u001b[0;36m<cell line: 0>\u001b[0;34m()\u001b[0m\n\u001b[0;32m----> 1\u001b[0;31m \u001b[0;32mfrom\u001b[0m \u001b[0mqiskit\u001b[0m \u001b[0;32mimport\u001b[0m \u001b[0mQuantumCircuit\u001b[0m\u001b[0;34m,\u001b[0m \u001b[0mAer\u001b[0m\u001b[0;34m,\u001b[0m \u001b[0mexecute\u001b[0m\u001b[0;34m\u001b[0m\u001b[0;34m\u001b[0m\u001b[0m\n\u001b[0m\u001b[1;32m      2\u001b[0m \u001b[0;34m\u001b[0m\u001b[0m\n\u001b[1;32m      3\u001b[0m \u001b[0mqc\u001b[0m \u001b[0;34m=\u001b[0m \u001b[0mQuantumCircuit\u001b[0m\u001b[0;34m(\u001b[0m\u001b[0;36m4\u001b[0m\u001b[0;34m,\u001b[0m\u001b[0;36m4\u001b[0m\u001b[0;34m)\u001b[0m\u001b[0;34m\u001b[0m\u001b[0;34m\u001b[0m\u001b[0m\n\u001b[1;32m      4\u001b[0m \u001b[0mA\u001b[0m \u001b[0;34m=\u001b[0m \u001b[0;34m[\u001b[0m\u001b[0;36m0\u001b[0m\u001b[0;34m,\u001b[0m\u001b[0;36m1\u001b[0m\u001b[0;34m]\u001b[0m\u001b[0;34m\u001b[0m\u001b[0;34m\u001b[0m\u001b[0m\n\u001b[1;32m      5\u001b[0m \u001b[0mB\u001b[0m \u001b[0;34m=\u001b[0m \u001b[0;34m[\u001b[0m\u001b[0;36m2\u001b[0m\u001b[0;34m,\u001b[0m\u001b[0;36m3\u001b[0m\u001b[0;34m]\u001b[0m\u001b[0;34m\u001b[0m\u001b[0;34m\u001b[0m\u001b[0m\n",
            "\u001b[0;31mImportError\u001b[0m: cannot import name 'Aer' from 'qiskit' (/usr/local/lib/python3.12/dist-packages/qiskit/__init__.py)",
            "",
            "\u001b[0;31m---------------------------------------------------------------------------\u001b[0;32m\nNOTE: If your import is failing due to a missing package, you can\nmanually install dependencies using either !pip or !apt.\n\nTo view examples of installing some common dependencies, click the\n\"Open Examples\" button below.\n\u001b[0;31m---------------------------------------------------------------------------\u001b[0m\n"
          ],
          "errorDetails": {
            "actions": [
              {
                "action": "open_url",
                "actionText": "Open Examples",
                "url": "/notebooks/snippets/importing_libraries.ipynb"
              }
            ]
          }
        }
      ]
    },
    {
      "cell_type": "markdown",
      "source": [
        "QuTiP Örneği (2 qubit Grover + dolanıklık)"
      ],
      "metadata": {
        "id": "ruemddr7bco7"
      }
    },
    {
      "cell_type": "code",
      "source": [
        "from qutip import *\n",
        "import numpy as np\n",
        "\n",
        "# Qubit sayısı\n",
        "n = 2\n",
        "\n",
        "# Başlangıç durumu |00>_A |00>_B\n",
        "A = [basis(2,0) for _ in range(n)]\n",
        "B = [basis(2,0) for _ in range(n)]\n",
        "state = tensor(A+B)\n",
        "\n",
        "# Hadamard A ve B\n",
        "H = (1/np.sqrt(2)) * Qobj([[1,1],[1,-1]])\n",
        "for i in range(n):\n",
        "    H_i = tensor([H if j==i or j==i+n else qeye(2) for j in range(2*n)])\n",
        "    state = H_i*state\n",
        "    # Dolanıklık: CNOT\n",
        "    X = sigmax()\n",
        "    P0 = basis(2,0)*basis(2,0).dag()\n",
        "    P1 = basis(2,1)*basis(2,1).dag()\n",
        "    op = tensor([P0 if j==i else qeye(2) for j in range(2*n)]) + \\\n",
        "         tensor([P1 if j==i else (X if j==i+n else qeye(2)) for j in range(2*n)])\n",
        "    state = op*state\n",
        "\n",
        "# Basit oracle (|00> hedef)\n",
        "Z = sigmaz()\n",
        "oracle = tensor([Z if i==0 else qeye(2) for i in range(2*n)])\n",
        "state = oracle*state\n",
        "\n",
        "print(state)\n"
      ],
      "metadata": {
        "colab": {
          "base_uri": "https://localhost:8080/"
        },
        "id": "-8okUSs6bcs_",
        "outputId": "b47876ae-716f-4882-ebe9-b86bf00076f2"
      },
      "execution_count": 20,
      "outputs": [
        {
          "output_type": "stream",
          "name": "stdout",
          "text": [
            "Quantum object: dims=[[2, 2, 2, 2], [1]], shape=(16, 1), type='ket', dtype=Dense\n",
            "Qobj data =\n",
            "[[ 0.25]\n",
            " [ 0.25]\n",
            " [ 0.25]\n",
            " [ 0.25]\n",
            " [ 0.25]\n",
            " [ 0.25]\n",
            " [ 0.25]\n",
            " [ 0.25]\n",
            " [-0.25]\n",
            " [-0.25]\n",
            " [-0.25]\n",
            " [-0.25]\n",
            " [-0.25]\n",
            " [-0.25]\n",
            " [-0.25]\n",
            " [-0.25]]\n"
          ]
        }
      ]
    },
    {
      "cell_type": "code",
      "execution_count": null,
      "metadata": {
        "id": "j5k2s8LCZWKA"
      },
      "outputs": [],
      "source": []
    }
  ]
}