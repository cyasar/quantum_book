{
  "nbformat": 4,
  "nbformat_minor": 0,
  "metadata": {
    "colab": {
      "provenance": []
    },
    "kernelspec": {
      "name": "python3",
      "display_name": "Python 3"
    },
    "language_info": {
      "name": "python"
    }
  },
  "cells": [
    {
      "cell_type": "markdown",
      "source": [
        "Ön hazırlık (kütüphane kurulumu)"
      ],
      "metadata": {
        "id": "HkikwNrKNzeD"
      }
    },
    {
      "cell_type": "code",
      "execution_count": 1,
      "metadata": {
        "colab": {
          "base_uri": "https://localhost:8080/"
        },
        "id": "anfl_eMVNzeD",
        "outputId": "98772fa3-4f3b-4d3b-99b2-80506d08b66f"
      },
      "outputs": [
        {
          "output_type": "stream",
          "name": "stdout",
          "text": [
            "\u001b[?25l   \u001b[90m━━━━━━━━━━━━━━━━━━━━━━━━━━━━━━━━━━━━━━━━\u001b[0m \u001b[32m0.0/2.0 MB\u001b[0m \u001b[31m?\u001b[0m eta \u001b[36m-:--:--\u001b[0m\r\u001b[2K   \u001b[91m━━━━━━━━━━\u001b[0m\u001b[91m╸\u001b[0m\u001b[90m━━━━━━━━━━━━━━━━━━━━━━━━━━━━━\u001b[0m \u001b[32m0.5/2.0 MB\u001b[0m \u001b[31m15.8 MB/s\u001b[0m eta \u001b[36m0:00:01\u001b[0m\r\u001b[2K   \u001b[91m━━━━━━━━━━━━━━━━━━━━━━━━━━━━━━━━━━━━━━━\u001b[0m\u001b[91m╸\u001b[0m \u001b[32m2.0/2.0 MB\u001b[0m \u001b[31m36.6 MB/s\u001b[0m eta \u001b[36m0:00:01\u001b[0m\r\u001b[2K   \u001b[90m━━━━━━━━━━━━━━━━━━━━━━━━━━━━━━━━━━━━━━━━\u001b[0m \u001b[32m2.0/2.0 MB\u001b[0m \u001b[31m25.4 MB/s\u001b[0m eta \u001b[36m0:00:00\u001b[0m\n",
            "\u001b[?25h\u001b[?25l   \u001b[90m━━━━━━━━━━━━━━━━━━━━━━━━━━━━━━━━━━━━━━━━\u001b[0m \u001b[32m0.0/670.8 kB\u001b[0m \u001b[31m?\u001b[0m eta \u001b[36m-:--:--\u001b[0m\r\u001b[2K   \u001b[90m━━━━━━━━━━━━━━━━━━━━━━━━━━━━━━━━━━━━━━━━\u001b[0m \u001b[32m670.8/670.8 kB\u001b[0m \u001b[31m35.8 MB/s\u001b[0m eta \u001b[36m0:00:00\u001b[0m\n",
            "\u001b[2K   \u001b[90m━━━━━━━━━━━━━━━━━━━━━━━━━━━━━━━━━━━━━━━━\u001b[0m \u001b[32m73.5/73.5 kB\u001b[0m \u001b[31m5.3 MB/s\u001b[0m eta \u001b[36m0:00:00\u001b[0m\n",
            "\u001b[2K   \u001b[90m━━━━━━━━━━━━━━━━━━━━━━━━━━━━━━━━━━━━━━━━\u001b[0m \u001b[32m430.5/430.5 kB\u001b[0m \u001b[31m17.3 MB/s\u001b[0m eta \u001b[36m0:00:00\u001b[0m\n",
            "\u001b[2K   \u001b[90m━━━━━━━━━━━━━━━━━━━━━━━━━━━━━━━━━━━━━━━━\u001b[0m \u001b[32m8.0/8.0 MB\u001b[0m \u001b[31m75.9 MB/s\u001b[0m eta \u001b[36m0:00:00\u001b[0m\n",
            "\u001b[2K   \u001b[90m━━━━━━━━━━━━━━━━━━━━━━━━━━━━━━━━━━━━━━━━\u001b[0m \u001b[32m31.8/31.8 MB\u001b[0m \u001b[31m33.3 MB/s\u001b[0m eta \u001b[36m0:00:00\u001b[0m\n",
            "\u001b[2K   \u001b[90m━━━━━━━━━━━━━━━━━━━━━━━━━━━━━━━━━━━━━━━━\u001b[0m \u001b[32m2.2/2.2 MB\u001b[0m \u001b[31m38.1 MB/s\u001b[0m eta \u001b[36m0:00:00\u001b[0m\n",
            "\u001b[2K   \u001b[90m━━━━━━━━━━━━━━━━━━━━━━━━━━━━━━━━━━━━━━━━\u001b[0m \u001b[32m49.5/49.5 kB\u001b[0m \u001b[31m2.0 MB/s\u001b[0m eta \u001b[36m0:00:00\u001b[0m\n",
            "\u001b[2K   \u001b[90m━━━━━━━━━━━━━━━━━━━━━━━━━━━━━━━━━━━━━━━━\u001b[0m \u001b[32m2.8/2.8 MB\u001b[0m \u001b[31m48.3 MB/s\u001b[0m eta \u001b[36m0:00:00\u001b[0m\n",
            "\u001b[?25h"
          ]
        }
      ],
      "source": [
        "# Gerekli kütüphaneleri yükleyelim (Colab hücresine)\n",
        "!pip install cirq qiskit qutip numpy matplotlib --quiet"
      ]
    },
    {
      "cell_type": "markdown",
      "source": [
        "1. CIRQ ile Fidelity Hesabı"
      ],
      "metadata": {
        "id": "Vi4HtelrhYc6"
      }
    },
    {
      "cell_type": "code",
      "source": [
        "import cirq\n",
        "import numpy as np\n",
        "\n",
        "# Qubit tanımı\n",
        "q0, q1 = cirq.LineQubit.range(2)\n",
        "\n",
        "# Bell durumu oluşturma: (|00> + |11>) / sqrt(2)\n",
        "circuit = cirq.Circuit(\n",
        "    cirq.H(q0),\n",
        "    cirq.CNOT(q0, q1)\n",
        ")\n",
        "\n",
        "# Simülatör\n",
        "sim = cirq.Simulator()\n",
        "result = sim.simulate(circuit)\n",
        "\n",
        "# Durum vektörü\n",
        "psi = result.final_state_vector\n",
        "\n",
        "# Referans saf durum: |00>\n",
        "phi = np.array([1, 0, 0, 0])\n",
        "\n",
        "# Fidelity hesabı: |<phi|psi>|^2\n",
        "fidelity = np.abs(np.vdot(phi, psi))**2\n",
        "print(\"Cirq - Fidelity(|Φ⁺>, |00>):\", fidelity)\n"
      ],
      "metadata": {
        "colab": {
          "base_uri": "https://localhost:8080/"
        },
        "id": "2Hab9mzJhYhm",
        "outputId": "e03daa9a-aeec-4ae3-8421-0be9e898d32e"
      },
      "execution_count": 2,
      "outputs": [
        {
          "output_type": "stream",
          "name": "stdout",
          "text": [
            "Cirq - Fidelity(|Φ⁺>, |00>): 0.4999999828857291\n"
          ]
        }
      ]
    },
    {
      "cell_type": "markdown",
      "source": [
        "2. QISKIT ile Fidelity Hesabı"
      ],
      "metadata": {
        "id": "E8afSVeQhYmG"
      }
    },
    {
      "cell_type": "code",
      "source": [
        "from qiskit import QuantumCircuit\n",
        "from qiskit.quantum_info import Statevector, state_fidelity\n",
        "\n",
        "# Bell durumu devresi\n",
        "qc = QuantumCircuit(2)\n",
        "qc.h(0)\n",
        "qc.cx(0, 1)\n",
        "\n",
        "# Durum vektörleri\n",
        "psi = Statevector.from_instruction(qc)\n",
        "phi = Statevector.from_label('00')\n",
        "\n",
        "# Fidelity hesapla\n",
        "fidelity = state_fidelity(psi, phi)\n",
        "print(\"Qiskit - Fidelity(|Φ⁺>, |00>):\", fidelity)\n"
      ],
      "metadata": {
        "colab": {
          "base_uri": "https://localhost:8080/"
        },
        "id": "dhxLbrRkhYqs",
        "outputId": "70b8fe48-10f1-46f0-901a-49cc02b13b1c"
      },
      "execution_count": 3,
      "outputs": [
        {
          "output_type": "stream",
          "name": "stdout",
          "text": [
            "Qiskit - Fidelity(|Φ⁺>, |00>): 0.4999999999999999\n"
          ]
        }
      ]
    },
    {
      "cell_type": "markdown",
      "source": [
        "3. QUTIP ile Fidelity Hesabı"
      ],
      "metadata": {
        "id": "1HPgDu3UhYvI"
      }
    },
    {
      "cell_type": "code",
      "source": [
        "from qutip import basis, tensor, bell_state, fidelity\n",
        "\n",
        "# Bell durumu |Φ⁺> = (|00> + |11>) / sqrt(2)\n",
        "psi = bell_state('00')\n",
        "\n",
        "# Referans saf durum |00>\n",
        "phi = tensor(basis(2, 0), basis(2, 0))\n",
        "\n",
        "# Fidelity hesabı\n",
        "f = fidelity(psi, phi)\n",
        "print(\"QuTiP - Fidelity(|Φ⁺>, |00>):\", f)\n"
      ],
      "metadata": {
        "colab": {
          "base_uri": "https://localhost:8080/"
        },
        "id": "_aweDWuihYzS",
        "outputId": "f828a2e7-c2f6-431f-d744-8c302ae89d66"
      },
      "execution_count": 4,
      "outputs": [
        {
          "output_type": "stream",
          "name": "stdout",
          "text": [
            "QuTiP - Fidelity(|Φ⁺>, |00>): 0.7071067811865476\n"
          ]
        }
      ]
    },
    {
      "cell_type": "code",
      "execution_count": null,
      "metadata": {
        "id": "pgetuU2OhLe8"
      },
      "outputs": [],
      "source": []
    }
  ]
}