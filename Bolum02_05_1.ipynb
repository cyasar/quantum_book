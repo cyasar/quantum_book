{
  "nbformat": 4,
  "nbformat_minor": 0,
  "metadata": {
    "colab": {
      "provenance": []
    },
    "kernelspec": {
      "name": "python3",
      "display_name": "Python 3"
    },
    "language_info": {
      "name": "python"
    }
  },
  "cells": [
    {
      "cell_type": "markdown",
      "source": [
        "**Çözümlü Sorular**"
      ],
      "metadata": {
        "id": "tz-dieBNQkCt"
      }
    },
    {
      "cell_type": "markdown",
      "source": [
        "Ön hazırlık (kütüphane kurulumu)"
      ],
      "metadata": {
        "id": "HkikwNrKNzeD"
      }
    },
    {
      "cell_type": "code",
      "execution_count": 5,
      "metadata": {
        "colab": {
          "base_uri": "https://localhost:8080/"
        },
        "id": "anfl_eMVNzeD",
        "outputId": "83f2408b-9f4e-4dc0-c668-403575f96285"
      },
      "outputs": [
        {
          "output_type": "stream",
          "name": "stdout",
          "text": [
            "\u001b[?25l   \u001b[90m━━━━━━━━━━━━━━━━━━━━━━━━━━━━━━━━━━━━━━━━\u001b[0m \u001b[32m0.0/2.0 MB\u001b[0m \u001b[31m?\u001b[0m eta \u001b[36m-:--:--\u001b[0m\r\u001b[2K   \u001b[91m━━━━━━━━━━━━━━━━\u001b[0m\u001b[90m╺\u001b[0m\u001b[90m━━━━━━━━━━━━━━━━━━━━━━━\u001b[0m \u001b[32m0.8/2.0 MB\u001b[0m \u001b[31m24.3 MB/s\u001b[0m eta \u001b[36m0:00:01\u001b[0m\r\u001b[2K   \u001b[90m━━━━━━━━━━━━━━━━━━━━━━━━━━━━━━━━━━━━━━━━\u001b[0m \u001b[32m2.0/2.0 MB\u001b[0m \u001b[31m31.0 MB/s\u001b[0m eta \u001b[36m0:00:00\u001b[0m\n",
            "\u001b[2K   \u001b[90m━━━━━━━━━━━━━━━━━━━━━━━━━━━━━━━━━━━━━━━━\u001b[0m \u001b[32m670.8/670.8 kB\u001b[0m \u001b[31m43.8 MB/s\u001b[0m eta \u001b[36m0:00:00\u001b[0m\n",
            "\u001b[2K   \u001b[90m━━━━━━━━━━━━━━━━━━━━━━━━━━━━━━━━━━━━━━━━\u001b[0m \u001b[32m73.5/73.5 kB\u001b[0m \u001b[31m6.3 MB/s\u001b[0m eta \u001b[36m0:00:00\u001b[0m\n",
            "\u001b[2K   \u001b[90m━━━━━━━━━━━━━━━━━━━━━━━━━━━━━━━━━━━━━━━━\u001b[0m \u001b[32m430.5/430.5 kB\u001b[0m \u001b[31m31.2 MB/s\u001b[0m eta \u001b[36m0:00:00\u001b[0m\n",
            "\u001b[2K   \u001b[90m━━━━━━━━━━━━━━━━━━━━━━━━━━━━━━━━━━━━━━━━\u001b[0m \u001b[32m8.0/8.0 MB\u001b[0m \u001b[31m73.4 MB/s\u001b[0m eta \u001b[36m0:00:00\u001b[0m\n",
            "\u001b[2K   \u001b[90m━━━━━━━━━━━━━━━━━━━━━━━━━━━━━━━━━━━━━━━━\u001b[0m \u001b[32m31.8/31.8 MB\u001b[0m \u001b[31m46.4 MB/s\u001b[0m eta \u001b[36m0:00:00\u001b[0m\n",
            "\u001b[2K   \u001b[90m━━━━━━━━━━━━━━━━━━━━━━━━━━━━━━━━━━━━━━━━\u001b[0m \u001b[32m2.2/2.2 MB\u001b[0m \u001b[31m82.8 MB/s\u001b[0m eta \u001b[36m0:00:00\u001b[0m\n",
            "\u001b[2K   \u001b[90m━━━━━━━━━━━━━━━━━━━━━━━━━━━━━━━━━━━━━━━━\u001b[0m \u001b[32m49.5/49.5 kB\u001b[0m \u001b[31m3.2 MB/s\u001b[0m eta \u001b[36m0:00:00\u001b[0m\n",
            "\u001b[2K   \u001b[90m━━━━━━━━━━━━━━━━━━━━━━━━━━━━━━━━━━━━━━━━\u001b[0m \u001b[32m2.6/2.6 MB\u001b[0m \u001b[31m91.2 MB/s\u001b[0m eta \u001b[36m0:00:00\u001b[0m\n",
            "\u001b[?25h"
          ]
        }
      ],
      "source": [
        "# Gerekli kütüphaneleri yükleyelim (Colab hücresine)\n",
        "!pip install cirq qiskit qutip numpy matplotlib --quiet"
      ]
    },
    {
      "cell_type": "markdown",
      "source": [
        "🔹 1. Soru\n",
        "\n",
        "Soru:\n",
        "𝑧\n",
        "=\n",
        "1\n",
        "+\n",
        "𝑖\n",
        "z=1+i sayısının kutupsal formunu bulunuz."
      ],
      "metadata": {
        "id": "P2mkBEeGQsEY"
      }
    },
    {
      "cell_type": "code",
      "execution_count": 6,
      "metadata": {
        "colab": {
          "base_uri": "https://localhost:8080/"
        },
        "id": "4gTN49T1QVmB",
        "outputId": "69cb670d-3543-43fd-8cef-6c798e66063e"
      },
      "outputs": [
        {
          "output_type": "stream",
          "name": "stdout",
          "text": [
            "Kartezyen: (1+1j)\n",
            "Kutupsal form: 1.4142135623730951 (cos(0.7853981633974483) + i sin(0.7853981633974483))\n"
          ]
        }
      ],
      "source": [
        "import numpy as np\n",
        "import matplotlib.pyplot as plt\n",
        "\n",
        "z = 1 + 1j\n",
        "r = np.abs(z)\n",
        "theta = np.angle(z)\n",
        "\n",
        "print(\"Kartezyen:\", z)\n",
        "print(\"Kutupsal form:\", f\"{r} (cos({theta}) + i sin({theta}))\")\n"
      ]
    },
    {
      "cell_type": "code",
      "source": [
        "# Cirq ile:\n",
        "\n",
        "import cirq\n",
        "q = cirq.LineQubit(0)\n",
        "circuit = cirq.Circuit(cirq.rz(theta)(q))\n",
        "print(\"Cirq devresi:\\n\", circuit)"
      ],
      "metadata": {
        "colab": {
          "base_uri": "https://localhost:8080/"
        },
        "id": "0qO3zsiQQWog",
        "outputId": "2c21b772-5cbb-4750-ddee-af931f4c28a3"
      },
      "execution_count": 7,
      "outputs": [
        {
          "output_type": "stream",
          "name": "stdout",
          "text": [
            "Cirq devresi:\n",
            " 0: ───Rz(0.25π)───\n"
          ]
        }
      ]
    },
    {
      "cell_type": "code",
      "source": [
        "# QuTiP ile:\n",
        "\n",
        "from qutip import Qobj\n",
        "z_q = Qobj([[z]])\n",
        "print(\"Norm (r) =\", z_q.norm())\n",
        "print(\"Arg (theta) =\", np.angle(z))"
      ],
      "metadata": {
        "colab": {
          "base_uri": "https://localhost:8080/"
        },
        "id": "pTMszeTCRAeF",
        "outputId": "4550f330-28cc-4c1e-8de0-8d0412492b77"
      },
      "execution_count": 8,
      "outputs": [
        {
          "output_type": "stream",
          "name": "stdout",
          "text": [
            "Norm (r) = 1.4142135623730951\n",
            "Arg (theta) = 0.7853981633974483\n"
          ]
        }
      ]
    },
    {
      "cell_type": "code",
      "source": [
        "# Qiskit ile (Argand çizimi):\n",
        "\n",
        "from qiskit import QuantumCircuit\n",
        "qc = QuantumCircuit(1)\n",
        "qc.rz(theta,0)\n",
        "qc.draw(\"mpl\")\n",
        "\n",
        "plt.quiver(0,0,z.real,z.imag,angles=\"xy\",scale_units=\"xy\",scale=1,color=\"r\")\n",
        "plt.text(z.real, z.imag, f\"{z}\", fontsize=12)\n",
        "plt.axhline(0,color=\"gray\"); plt.axvline(0,color=\"gray\")\n",
        "plt.axis(\"equal\"); plt.grid(True)\n",
        "plt.show()"
      ],
      "metadata": {
        "colab": {
          "base_uri": "https://localhost:8080/",
          "height": 530
        },
        "id": "-fc__UDJROCJ",
        "outputId": "4bc1534a-2f01-48b7-e376-c613baf065e2"
      },
      "execution_count": 10,
      "outputs": [
        {
          "output_type": "error",
          "ename": "MissingOptionalLibraryError",
          "evalue": "\"The 'pylatexenc' library is required to use 'MatplotlibDrawer'. You can install it with 'pip install pylatexenc'.\"",
          "traceback": [
            "\u001b[0;31m---------------------------------------------------------------------------\u001b[0m",
            "\u001b[0;31mMissingOptionalLibraryError\u001b[0m               Traceback (most recent call last)",
            "\u001b[0;32m/tmp/ipython-input-1036962628.py\u001b[0m in \u001b[0;36m<cell line: 0>\u001b[0;34m()\u001b[0m\n\u001b[1;32m      4\u001b[0m \u001b[0mqc\u001b[0m \u001b[0;34m=\u001b[0m \u001b[0mQuantumCircuit\u001b[0m\u001b[0;34m(\u001b[0m\u001b[0;36m1\u001b[0m\u001b[0;34m)\u001b[0m\u001b[0;34m\u001b[0m\u001b[0;34m\u001b[0m\u001b[0m\n\u001b[1;32m      5\u001b[0m \u001b[0mqc\u001b[0m\u001b[0;34m.\u001b[0m\u001b[0mrz\u001b[0m\u001b[0;34m(\u001b[0m\u001b[0mtheta\u001b[0m\u001b[0;34m,\u001b[0m\u001b[0;36m0\u001b[0m\u001b[0;34m)\u001b[0m\u001b[0;34m\u001b[0m\u001b[0;34m\u001b[0m\u001b[0m\n\u001b[0;32m----> 6\u001b[0;31m \u001b[0mqc\u001b[0m\u001b[0;34m.\u001b[0m\u001b[0mdraw\u001b[0m\u001b[0;34m(\u001b[0m\u001b[0;34m\"mpl\"\u001b[0m\u001b[0;34m)\u001b[0m\u001b[0;34m\u001b[0m\u001b[0;34m\u001b[0m\u001b[0m\n\u001b[0m\u001b[1;32m      7\u001b[0m \u001b[0;34m\u001b[0m\u001b[0m\n\u001b[1;32m      8\u001b[0m \u001b[0mplt\u001b[0m\u001b[0;34m.\u001b[0m\u001b[0mquiver\u001b[0m\u001b[0;34m(\u001b[0m\u001b[0;36m0\u001b[0m\u001b[0;34m,\u001b[0m\u001b[0;36m0\u001b[0m\u001b[0;34m,\u001b[0m\u001b[0mz\u001b[0m\u001b[0;34m.\u001b[0m\u001b[0mreal\u001b[0m\u001b[0;34m,\u001b[0m\u001b[0mz\u001b[0m\u001b[0;34m.\u001b[0m\u001b[0mimag\u001b[0m\u001b[0;34m,\u001b[0m\u001b[0mangles\u001b[0m\u001b[0;34m=\u001b[0m\u001b[0;34m\"xy\"\u001b[0m\u001b[0;34m,\u001b[0m\u001b[0mscale_units\u001b[0m\u001b[0;34m=\u001b[0m\u001b[0;34m\"xy\"\u001b[0m\u001b[0;34m,\u001b[0m\u001b[0mscale\u001b[0m\u001b[0;34m=\u001b[0m\u001b[0;36m1\u001b[0m\u001b[0;34m,\u001b[0m\u001b[0mcolor\u001b[0m\u001b[0;34m=\u001b[0m\u001b[0;34m\"r\"\u001b[0m\u001b[0;34m)\u001b[0m\u001b[0;34m\u001b[0m\u001b[0;34m\u001b[0m\u001b[0m\n",
            "\u001b[0;32m/usr/local/lib/python3.12/dist-packages/qiskit/circuit/quantumcircuit.py\u001b[0m in \u001b[0;36mdraw\u001b[0;34m(self, output, scale, filename, style, interactive, plot_barriers, reverse_bits, justify, vertical_compression, idle_wires, with_layout, fold, ax, initial_state, cregbundle, wire_order, expr_len, measure_arrows)\u001b[0m\n\u001b[1;32m   3941\u001b[0m         \u001b[0;32mfrom\u001b[0m \u001b[0mqiskit\u001b[0m\u001b[0;34m.\u001b[0m\u001b[0mvisualization\u001b[0m \u001b[0;32mimport\u001b[0m \u001b[0mcircuit_drawer\u001b[0m\u001b[0;34m\u001b[0m\u001b[0;34m\u001b[0m\u001b[0m\n\u001b[1;32m   3942\u001b[0m \u001b[0;34m\u001b[0m\u001b[0m\n\u001b[0;32m-> 3943\u001b[0;31m         return circuit_drawer(\n\u001b[0m\u001b[1;32m   3944\u001b[0m             \u001b[0mself\u001b[0m\u001b[0;34m,\u001b[0m\u001b[0;34m\u001b[0m\u001b[0;34m\u001b[0m\u001b[0m\n\u001b[1;32m   3945\u001b[0m             \u001b[0mscale\u001b[0m\u001b[0;34m=\u001b[0m\u001b[0mscale\u001b[0m\u001b[0;34m,\u001b[0m\u001b[0;34m\u001b[0m\u001b[0;34m\u001b[0m\u001b[0m\n",
            "\u001b[0;32m/usr/local/lib/python3.12/dist-packages/qiskit/visualization/circuit/circuit_visualization.py\u001b[0m in \u001b[0;36mcircuit_drawer\u001b[0;34m(circuit, scale, filename, style, output, interactive, plot_barriers, reverse_bits, justify, vertical_compression, idle_wires, with_layout, fold, ax, initial_state, cregbundle, wire_order, expr_len, measure_arrows)\u001b[0m\n\u001b[1;32m    348\u001b[0m         )\n\u001b[1;32m    349\u001b[0m     \u001b[0;32melif\u001b[0m \u001b[0moutput\u001b[0m \u001b[0;34m==\u001b[0m \u001b[0;34m\"mpl\"\u001b[0m\u001b[0;34m:\u001b[0m\u001b[0;34m\u001b[0m\u001b[0;34m\u001b[0m\u001b[0m\n\u001b[0;32m--> 350\u001b[0;31m         image = _matplotlib_circuit_drawer(\n\u001b[0m\u001b[1;32m    351\u001b[0m             \u001b[0mcircuit\u001b[0m\u001b[0;34m,\u001b[0m\u001b[0;34m\u001b[0m\u001b[0;34m\u001b[0m\u001b[0m\n\u001b[1;32m    352\u001b[0m             \u001b[0mscale\u001b[0m\u001b[0;34m=\u001b[0m\u001b[0mscale\u001b[0m\u001b[0;34m,\u001b[0m\u001b[0;34m\u001b[0m\u001b[0;34m\u001b[0m\u001b[0m\n",
            "\u001b[0;32m/usr/local/lib/python3.12/dist-packages/qiskit/visualization/circuit/circuit_visualization.py\u001b[0m in \u001b[0;36m_matplotlib_circuit_drawer\u001b[0;34m(circuit, scale, filename, style, plot_barriers, reverse_bits, justify, idle_wires, with_layout, fold, ax, initial_state, cregbundle, wire_order, expr_len, measure_arrows)\u001b[0m\n\u001b[1;32m    740\u001b[0m         \u001b[0mfold\u001b[0m \u001b[0;34m=\u001b[0m \u001b[0;36m25\u001b[0m\u001b[0;34m\u001b[0m\u001b[0;34m\u001b[0m\u001b[0m\n\u001b[1;32m    741\u001b[0m \u001b[0;34m\u001b[0m\u001b[0m\n\u001b[0;32m--> 742\u001b[0;31m     qcd = _matplotlib.MatplotlibDrawer(\n\u001b[0m\u001b[1;32m    743\u001b[0m         \u001b[0mqubits\u001b[0m\u001b[0;34m,\u001b[0m\u001b[0;34m\u001b[0m\u001b[0;34m\u001b[0m\u001b[0m\n\u001b[1;32m    744\u001b[0m         \u001b[0mclbits\u001b[0m\u001b[0;34m,\u001b[0m\u001b[0;34m\u001b[0m\u001b[0;34m\u001b[0m\u001b[0m\n",
            "\u001b[0;32m/usr/local/lib/python3.12/dist-packages/qiskit/utils/classtools.py\u001b[0m in \u001b[0;36mout\u001b[0;34m(*args, **kwargs)\u001b[0m\n\u001b[1;32m    109\u001b[0m         \u001b[0;32mdef\u001b[0m \u001b[0mout\u001b[0m\u001b[0;34m(\u001b[0m\u001b[0;34m*\u001b[0m\u001b[0margs\u001b[0m\u001b[0;34m,\u001b[0m \u001b[0;34m**\u001b[0m\u001b[0mkwargs\u001b[0m\u001b[0;34m)\u001b[0m\u001b[0;34m:\u001b[0m\u001b[0;34m\u001b[0m\u001b[0;34m\u001b[0m\u001b[0m\n\u001b[1;32m    110\u001b[0m             \u001b[0;32mfor\u001b[0m \u001b[0mcallback\u001b[0m \u001b[0;32min\u001b[0m \u001b[0mself\u001b[0m\u001b[0;34m.\u001b[0m\u001b[0m_before\u001b[0m\u001b[0;34m:\u001b[0m\u001b[0;34m\u001b[0m\u001b[0;34m\u001b[0m\u001b[0m\n\u001b[0;32m--> 111\u001b[0;31m                 \u001b[0mcallback\u001b[0m\u001b[0;34m.\u001b[0m\u001b[0m__get__\u001b[0m\u001b[0;34m(\u001b[0m\u001b[0mobj\u001b[0m\u001b[0;34m,\u001b[0m \u001b[0mobjtype\u001b[0m\u001b[0;34m)\u001b[0m\u001b[0;34m(\u001b[0m\u001b[0;34m*\u001b[0m\u001b[0margs\u001b[0m\u001b[0;34m,\u001b[0m \u001b[0;34m**\u001b[0m\u001b[0mkwargs\u001b[0m\u001b[0;34m)\u001b[0m\u001b[0;34m\u001b[0m\u001b[0;34m\u001b[0m\u001b[0m\n\u001b[0m\u001b[1;32m    112\u001b[0m             \u001b[0mretval\u001b[0m \u001b[0;34m=\u001b[0m \u001b[0mmethod\u001b[0m\u001b[0;34m(\u001b[0m\u001b[0;34m*\u001b[0m\u001b[0margs\u001b[0m\u001b[0;34m,\u001b[0m \u001b[0;34m**\u001b[0m\u001b[0mkwargs\u001b[0m\u001b[0;34m)\u001b[0m\u001b[0;34m\u001b[0m\u001b[0;34m\u001b[0m\u001b[0m\n\u001b[1;32m    113\u001b[0m             \u001b[0;32mfor\u001b[0m \u001b[0mcallback\u001b[0m \u001b[0;32min\u001b[0m \u001b[0mself\u001b[0m\u001b[0;34m.\u001b[0m\u001b[0m_after\u001b[0m\u001b[0;34m:\u001b[0m\u001b[0;34m\u001b[0m\u001b[0;34m\u001b[0m\u001b[0m\n",
            "\u001b[0;32m/usr/local/lib/python3.12/dist-packages/qiskit/utils/lazy_tester.py\u001b[0m in \u001b[0;36m__call__\u001b[0;34m(self, *_args, **_kwargs)\u001b[0m\n\u001b[1;32m     39\u001b[0m \u001b[0;34m\u001b[0m\u001b[0m\n\u001b[1;32m     40\u001b[0m     \u001b[0;32mdef\u001b[0m \u001b[0m__call__\u001b[0m\u001b[0;34m(\u001b[0m\u001b[0mself\u001b[0m\u001b[0;34m,\u001b[0m \u001b[0;34m*\u001b[0m\u001b[0m_args\u001b[0m\u001b[0;34m,\u001b[0m \u001b[0;34m**\u001b[0m\u001b[0m_kwargs\u001b[0m\u001b[0;34m)\u001b[0m\u001b[0;34m:\u001b[0m\u001b[0;34m\u001b[0m\u001b[0;34m\u001b[0m\u001b[0m\n\u001b[0;32m---> 41\u001b[0;31m         \u001b[0mself\u001b[0m\u001b[0;34m.\u001b[0m\u001b[0m_tester\u001b[0m\u001b[0;34m.\u001b[0m\u001b[0mrequire_now\u001b[0m\u001b[0;34m(\u001b[0m\u001b[0mself\u001b[0m\u001b[0;34m.\u001b[0m\u001b[0m_feature\u001b[0m\u001b[0;34m)\u001b[0m\u001b[0;34m\u001b[0m\u001b[0;34m\u001b[0m\u001b[0m\n\u001b[0m\u001b[1;32m     42\u001b[0m \u001b[0;34m\u001b[0m\u001b[0m\n\u001b[1;32m     43\u001b[0m \u001b[0;34m\u001b[0m\u001b[0m\n",
            "\u001b[0;32m/usr/local/lib/python3.12/dist-packages/qiskit/utils/lazy_tester.py\u001b[0m in \u001b[0;36mrequire_now\u001b[0;34m(self, feature)\u001b[0m\n\u001b[1;32m    219\u001b[0m         \u001b[0;32mif\u001b[0m \u001b[0mself\u001b[0m\u001b[0;34m:\u001b[0m\u001b[0;34m\u001b[0m\u001b[0;34m\u001b[0m\u001b[0m\n\u001b[1;32m    220\u001b[0m             \u001b[0;32mreturn\u001b[0m\u001b[0;34m\u001b[0m\u001b[0;34m\u001b[0m\u001b[0m\n\u001b[0;32m--> 221\u001b[0;31m         raise MissingOptionalLibraryError(\n\u001b[0m\u001b[1;32m    222\u001b[0m             \u001b[0mlibname\u001b[0m\u001b[0;34m=\u001b[0m\u001b[0mself\u001b[0m\u001b[0;34m.\u001b[0m\u001b[0m_name\u001b[0m\u001b[0;34m,\u001b[0m \u001b[0mname\u001b[0m\u001b[0;34m=\u001b[0m\u001b[0mfeature\u001b[0m\u001b[0;34m,\u001b[0m \u001b[0mpip_install\u001b[0m\u001b[0;34m=\u001b[0m\u001b[0mself\u001b[0m\u001b[0;34m.\u001b[0m\u001b[0m_install\u001b[0m\u001b[0;34m,\u001b[0m \u001b[0mmsg\u001b[0m\u001b[0;34m=\u001b[0m\u001b[0mself\u001b[0m\u001b[0;34m.\u001b[0m\u001b[0m_msg\u001b[0m\u001b[0;34m\u001b[0m\u001b[0;34m\u001b[0m\u001b[0m\n\u001b[1;32m    223\u001b[0m         )\n",
            "\u001b[0;31mMissingOptionalLibraryError\u001b[0m: \"The 'pylatexenc' library is required to use 'MatplotlibDrawer'. You can install it with 'pip install pylatexenc'.\"",
            "",
            "\u001b[0;31m---------------------------------------------------------------------------\u001b[0;32m\nNOTE: If your import is failing due to a missing package, you can\nmanually install dependencies using either !pip or !apt.\n\nTo view examples of installing some common dependencies, click the\n\"Open Examples\" button below.\n\u001b[0;31m---------------------------------------------------------------------------\u001b[0m\n"
          ],
          "errorDetails": {
            "actions": [
              {
                "action": "open_url",
                "actionText": "Open Examples",
                "url": "/notebooks/snippets/importing_libraries.ipynb"
              }
            ]
          }
        }
      ]
    },
    {
      "cell_type": "markdown",
      "source": [
        "2. Soru\n",
        "\n",
        "Soru:\n",
        "𝑧\n",
        "1\n",
        "=\n",
        "2\n",
        "−\n",
        "3\n",
        "𝑖\n",
        ",\n",
        "𝑧\n",
        "2\n",
        "=\n",
        "−\n",
        "5\n",
        "+\n",
        "𝑖\n",
        "z\n",
        "1\n",
        "\t​\n",
        "\n",
        "=2−3i,z\n",
        "2\n",
        "\t​\n",
        "\n",
        "=−5+i için toplama, çıkarma, çarpma, bölme."
      ],
      "metadata": {
        "id": "M5lwjrUdRS2Q"
      }
    },
    {
      "cell_type": "code",
      "source": [
        "z1, z2 = 2-3j, -5+1j\n",
        "print(\"z1+z2 =\", z1+z2)\n",
        "print(\"z1-z2 =\", z1-z2)\n",
        "print(\"z1*z2 =\", z1*z2)\n",
        "print(\"z1/z2 =\", z1/z2)\n"
      ],
      "metadata": {
        "colab": {
          "base_uri": "https://localhost:8080/"
        },
        "id": "q5MykmATRTEt",
        "outputId": "3f578c57-4943-4628-dacd-ff7cbcb88a2e"
      },
      "execution_count": 14,
      "outputs": [
        {
          "output_type": "stream",
          "name": "stdout",
          "text": [
            "z1+z2 = (-3-2j)\n",
            "z1-z2 = (7-4j)\n",
            "z1*z2 = (-7+17j)\n",
            "z1/z2 = (-0.5+0.5j)\n"
          ]
        }
      ]
    },
    {
      "cell_type": "code",
      "source": [
        "# QuTiP:\n",
        "\n",
        "z1_q, z2_q = Qobj([[z1]]), Qobj([[z2]])\n",
        "print(\"z1+z2 =\", z1_q + z2_q)\n",
        "print(\"z1-z2 =\", z1_q - z2_q)\n",
        "print(\"z1*z2 =\", z1_q * z2_q)\n",
        "print(\"z1/z2 =\", (z1_q * (1/z2_q)))"
      ],
      "metadata": {
        "colab": {
          "base_uri": "https://localhost:8080/",
          "height": 297
        },
        "id": "dxeZwRjVRckN",
        "outputId": "02362345-548d-4b5d-ffb1-bfcb77a6d401"
      },
      "execution_count": 15,
      "outputs": [
        {
          "output_type": "stream",
          "name": "stdout",
          "text": [
            "z1+z2 = Quantum object: dims=[[1], [1]], shape=(1, 1), type='scalar', dtype=Dense\n",
            "Qobj data =\n",
            "[[-3.-2.j]]\n",
            "z1-z2 = Quantum object: dims=[[1], [1]], shape=(1, 1), type='scalar', dtype=Dense\n",
            "Qobj data =\n",
            "[[7.-4.j]]\n",
            "z1*z2 = (-7+17j)\n"
          ]
        },
        {
          "output_type": "error",
          "ename": "TypeError",
          "evalue": "unsupported operand type(s) for /: 'int' and 'Qobj'",
          "traceback": [
            "\u001b[0;31m---------------------------------------------------------------------------\u001b[0m",
            "\u001b[0;31mTypeError\u001b[0m                                 Traceback (most recent call last)",
            "\u001b[0;32m/tmp/ipython-input-1395793439.py\u001b[0m in \u001b[0;36m<cell line: 0>\u001b[0;34m()\u001b[0m\n\u001b[1;32m      5\u001b[0m \u001b[0mprint\u001b[0m\u001b[0;34m(\u001b[0m\u001b[0;34m\"z1-z2 =\"\u001b[0m\u001b[0;34m,\u001b[0m \u001b[0mz1_q\u001b[0m \u001b[0;34m-\u001b[0m \u001b[0mz2_q\u001b[0m\u001b[0;34m)\u001b[0m\u001b[0;34m\u001b[0m\u001b[0;34m\u001b[0m\u001b[0m\n\u001b[1;32m      6\u001b[0m \u001b[0mprint\u001b[0m\u001b[0;34m(\u001b[0m\u001b[0;34m\"z1*z2 =\"\u001b[0m\u001b[0;34m,\u001b[0m \u001b[0mz1_q\u001b[0m \u001b[0;34m*\u001b[0m \u001b[0mz2_q\u001b[0m\u001b[0;34m)\u001b[0m\u001b[0;34m\u001b[0m\u001b[0;34m\u001b[0m\u001b[0m\n\u001b[0;32m----> 7\u001b[0;31m \u001b[0mprint\u001b[0m\u001b[0;34m(\u001b[0m\u001b[0;34m\"z1/z2 =\"\u001b[0m\u001b[0;34m,\u001b[0m \u001b[0;34m(\u001b[0m\u001b[0mz1_q\u001b[0m \u001b[0;34m*\u001b[0m \u001b[0;34m(\u001b[0m\u001b[0;36m1\u001b[0m\u001b[0;34m/\u001b[0m\u001b[0mz2_q\u001b[0m\u001b[0;34m)\u001b[0m\u001b[0;34m)\u001b[0m\u001b[0;34m)\u001b[0m\u001b[0;34m\u001b[0m\u001b[0;34m\u001b[0m\u001b[0m\n\u001b[0m",
            "\u001b[0;31mTypeError\u001b[0m: unsupported operand type(s) for /: 'int' and 'Qobj'"
          ]
        }
      ]
    },
    {
      "cell_type": "markdown",
      "source": [
        "3. Soru\n",
        "\n",
        "Soru:\n",
        "𝑧\n",
        "8\n",
        "=\n",
        "1\n",
        "z\n",
        "8\n",
        "=1 köklerini bulunuz."
      ],
      "metadata": {
        "id": "q0TF3Pp4RlAy"
      }
    },
    {
      "cell_type": "code",
      "source": [
        "roots = [np.cos(2*np.pi*k/8)+1j*np.sin(2*np.pi*k/8) for k in range(8)]\n",
        "print(\"8. kökler:\", roots)\n",
        "\n",
        "# Görselleştirme\n",
        "plt.figure(figsize=(5,5))\n",
        "for r in roots:\n",
        "    plt.plot(r.real, r.imag, 'o')\n",
        "plt.axhline(0,color='gray'); plt.axvline(0,color='gray')\n",
        "plt.title(\"z^8=1 kökleri\")\n",
        "plt.axis(\"equal\"); plt.grid(True); plt.show()\n"
      ],
      "metadata": {
        "colab": {
          "base_uri": "https://localhost:8080/",
          "height": 505
        },
        "id": "PtcnQhN1Rll1",
        "outputId": "ef71bf46-c916-4756-e33f-8a27eeb5dd53"
      },
      "execution_count": 16,
      "outputs": [
        {
          "output_type": "stream",
          "name": "stdout",
          "text": [
            "8. kökler: [np.complex128(1+0j), np.complex128(0.7071067811865476+0.7071067811865475j), np.complex128(6.123233995736766e-17+1j), np.complex128(-0.7071067811865475+0.7071067811865476j), np.complex128(-1+1.2246467991473532e-16j), np.complex128(-0.7071067811865477-0.7071067811865475j), np.complex128(-1.8369701987210297e-16-1j), np.complex128(0.7071067811865474-0.7071067811865477j)]\n"
          ]
        },
        {
          "output_type": "display_data",
          "data": {
            "text/plain": [
              "<Figure size 500x500 with 1 Axes>"
            ],
            "image/png": "[encoded data removed]"
          },
          "metadata": {}
        }
      ]
    },
    {
      "cell_type": "code",
      "source": [
        "# QuTiP:\n",
        "\n",
        "roots_q = [Qobj([[r]]) for r in roots]\n",
        "print(\"QuTiP kökler:\", roots_q)"
      ],
      "metadata": {
        "colab": {
          "base_uri": "https://localhost:8080/"
        },
        "id": "exXH48GCRqtS",
        "outputId": "c9c61f02-4653-4bb2-f00b-f7b0d49de705"
      },
      "execution_count": 17,
      "outputs": [
        {
          "output_type": "stream",
          "name": "stdout",
          "text": [
            "QuTiP kökler: [Quantum object: dims=[[1], [1]], shape=(1, 1), type='scalar', dtype=Dense\n",
            "Qobj data =\n",
            "[[1.]], Quantum object: dims=[[1], [1]], shape=(1, 1), type='scalar', dtype=Dense\n",
            "Qobj data =\n",
            "[[0.70710678+0.70710678j]], Quantum object: dims=[[1], [1]], shape=(1, 1), type='scalar', dtype=Dense\n",
            "Qobj data =\n",
            "[[6.123234e-17+1.j]], Quantum object: dims=[[1], [1]], shape=(1, 1), type='scalar', dtype=Dense\n",
            "Qobj data =\n",
            "[[-0.70710678+0.70710678j]], Quantum object: dims=[[1], [1]], shape=(1, 1), type='scalar', dtype=Dense\n",
            "Qobj data =\n",
            "[[-1.]], Quantum object: dims=[[1], [1]], shape=(1, 1), type='scalar', dtype=Dense\n",
            "Qobj data =\n",
            "[[-0.70710678-0.70710678j]], Quantum object: dims=[[1], [1]], shape=(1, 1), type='scalar', dtype=Dense\n",
            "Qobj data =\n",
            "[[-1.8369702e-16-1.j]], Quantum object: dims=[[1], [1]], shape=(1, 1), type='scalar', dtype=Dense\n",
            "Qobj data =\n",
            "[[0.70710678-0.70710678j]]]\n"
          ]
        }
      ]
    },
    {
      "cell_type": "code",
      "source": [
        "#  Qiskit/Cirq: kökler birim çemberde eşit aralıklarla\n",
        "#  bunları faz kapılarıyla encode edebiliriz:\n",
        "\n",
        "for k in range(8):\n",
        "    qc = QuantumCircuit(1)\n",
        "    qc.rz(2*np.pi*k/8, 0)\n",
        "    print(f\"Kök {k}: faz açısı = {2*np.pi*k/8}\")"
      ],
      "metadata": {
        "colab": {
          "base_uri": "https://localhost:8080/"
        },
        "id": "L3szdi7SRwyN",
        "outputId": "f4aa72a6-e9f4-4229-af5f-1cda8ac215bf"
      },
      "execution_count": 18,
      "outputs": [
        {
          "output_type": "stream",
          "name": "stdout",
          "text": [
            "Kök 0: faz açısı = 0.0\n",
            "Kök 1: faz açısı = 0.7853981633974483\n",
            "Kök 2: faz açısı = 1.5707963267948966\n",
            "Kök 3: faz açısı = 2.356194490192345\n",
            "Kök 4: faz açısı = 3.141592653589793\n",
            "Kök 5: faz açısı = 3.9269908169872414\n",
            "Kök 6: faz açısı = 4.71238898038469\n",
            "Kök 7: faz açısı = 5.497787143782138\n"
          ]
        }
      ]
    },
    {
      "cell_type": "markdown",
      "source": [
        "4. ve 5. Sorular\n",
        "\n",
        "Aynı mantıkla toplama/çıkarma ve çarpma/bölme işlemleri → NumPy ile yapılır, QuTiP ile matris temsilinde gösterilir, Qiskit/Cirq ile faz devresi kurulur."
      ],
      "metadata": {
        "id": "oaj3yGXMR3YL"
      }
    },
    {
      "cell_type": "markdown",
      "source": [
        "6. Soru\n",
        "\n",
        "Soru:\n",
        "𝑧\n",
        "=\n",
        "3\n",
        "+\n",
        "𝑖\n",
        "z=\n",
        "3\n",
        "\t​\n",
        "\n",
        "+i sayısının küpü."
      ],
      "metadata": {
        "id": "rtcp2MW-SACF"
      }
    },
    {
      "cell_type": "code",
      "source": [
        "z = np.sqrt(3) + 1j\n",
        "r, theta = np.abs(z), np.angle(z)\n",
        "z3 = r**3 * (np.cos(3*theta) + 1j*np.sin(3*theta))\n",
        "print(\"z^3 =\", z3)  # Beklenen: 8i\n"
      ],
      "metadata": {
        "colab": {
          "base_uri": "https://localhost:8080/"
        },
        "id": "20IgT8wcR4Ed",
        "outputId": "02fd4d40-4c23-4f51-fc04-bb12060be72a"
      },
      "execution_count": 19,
      "outputs": [
        {
          "output_type": "stream",
          "name": "stdout",
          "text": [
            "z^3 = (-1.286498119741309e-15+8j)\n"
          ]
        }
      ]
    },
    {
      "cell_type": "markdown",
      "source": [
        "7. Soru\n",
        "\n",
        "Soru:\n",
        "𝑧\n",
        "=\n",
        "−\n",
        "1\n",
        "z=−1 esas 4. kökü."
      ],
      "metadata": {
        "id": "nu0ibmuLSDdb"
      }
    },
    {
      "cell_type": "code",
      "source": [
        "z = -1\n",
        "root = np.cos(np.pi/4) + 1j*np.sin(np.pi/4)\n",
        "print(\"Esas 4. kök =\", root)\n"
      ],
      "metadata": {
        "colab": {
          "base_uri": "https://localhost:8080/"
        },
        "id": "mJVTdTvGSFkJ",
        "outputId": "711ef6cc-ad00-43d2-c58a-a0f1f1b8b913"
      },
      "execution_count": 20,
      "outputs": [
        {
          "output_type": "stream",
          "name": "stdout",
          "text": [
            "Esas 4. kök = (0.7071067811865476+0.7071067811865475j)\n"
          ]
        }
      ]
    },
    {
      "cell_type": "code",
      "source": [
        " # QuTiP ile:\n",
        "\n",
        "z_q = Qobj([[z]])\n",
        "print(\"4. kök (esas) =\", np.sqrt(np.sqrt(z)))"
      ],
      "metadata": {
        "colab": {
          "base_uri": "https://localhost:8080/"
        },
        "id": "4JiI0bsNSHrV",
        "outputId": "0a6f1177-6f93-42a4-860c-a06e83286550"
      },
      "execution_count": 22,
      "outputs": [
        {
          "output_type": "stream",
          "name": "stdout",
          "text": [
            "4. kök (esas) = nan\n"
          ]
        },
        {
          "output_type": "stream",
          "name": "stderr",
          "text": [
            "/tmp/ipython-input-1395675822.py:4: RuntimeWarning: invalid value encountered in sqrt\n",
            "  print(\"4. kök (esas) =\", np.sqrt(np.sqrt(z)))\n"
          ]
        }
      ]
    }
  ]
}