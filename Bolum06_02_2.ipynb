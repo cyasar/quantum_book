{
  "nbformat": 4,
  "nbformat_minor": 0,
  "metadata": {
    "colab": {
      "provenance": []
    },
    "kernelspec": {
      "name": "python3",
      "display_name": "Python 3"
    },
    "language_info": {
      "name": "python"
    }
  },
  "cells": [
    {
      "cell_type": "markdown",
      "source": [
        "Ön hazırlık (kütüphane kurulumu)"
      ],
      "metadata": {
        "id": "HkikwNrKNzeD"
      }
    },
    {
      "cell_type": "code",
      "execution_count": null,
      "metadata": {
        "colab": {
          "base_uri": "https://localhost:8080/"
        },
        "id": "anfl_eMVNzeD",
        "outputId": "950ce446-2828-4d9e-ec5f-2ad9c72bbeae"
      },
      "outputs": [
        {
          "output_type": "stream",
          "name": "stdout",
          "text": [
            "\u001b[?25l   \u001b[90m━━━━━━━━━━━━━━━━━━━━━━━━━━━━━━━━━━━━━━━━\u001b[0m \u001b[32m0.0/2.0 MB\u001b[0m \u001b[31m?\u001b[0m eta \u001b[36m-:--:--\u001b[0m\r\u001b[2K   \u001b[91m━━━━━━━━━━━━━━━\u001b[0m\u001b[91m╸\u001b[0m\u001b[90m━━━━━━━━━━━━━━━━━━━━━━━━\u001b[0m \u001b[32m0.8/2.0 MB\u001b[0m \u001b[31m23.4 MB/s\u001b[0m eta \u001b[36m0:00:01\u001b[0m\r\u001b[2K   \u001b[90m━━━━━━━━━━━━━━━━━━━━━━━━━━━━━━━━━━━━━━━━\u001b[0m \u001b[32m2.0/2.0 MB\u001b[0m \u001b[31m34.3 MB/s\u001b[0m eta \u001b[36m0:00:00\u001b[0m\n",
            "\u001b[2K   \u001b[90m━━━━━━━━━━━━━━━━━━━━━━━━━━━━━━━━━━━━━━━━\u001b[0m \u001b[32m670.8/670.8 kB\u001b[0m \u001b[31m60.1 MB/s\u001b[0m eta \u001b[36m0:00:00\u001b[0m\n",
            "\u001b[2K   \u001b[90m━━━━━━━━━━━━━━━━━━━━━━━━━━━━━━━━━━━━━━━━\u001b[0m \u001b[32m73.5/73.5 kB\u001b[0m \u001b[31m7.2 MB/s\u001b[0m eta \u001b[36m0:00:00\u001b[0m\n",
            "\u001b[2K   \u001b[90m━━━━━━━━━━━━━━━━━━━━━━━━━━━━━━━━━━━━━━━━\u001b[0m \u001b[32m430.5/430.5 kB\u001b[0m \u001b[31m34.1 MB/s\u001b[0m eta \u001b[36m0:00:00\u001b[0m\n",
            "\u001b[2K   \u001b[90m━━━━━━━━━━━━━━━━━━━━━━━━━━━━━━━━━━━━━━━━\u001b[0m \u001b[32m8.0/8.0 MB\u001b[0m \u001b[31m129.3 MB/s\u001b[0m eta \u001b[36m0:00:00\u001b[0m\n",
            "\u001b[2K   \u001b[90m━━━━━━━━━━━━━━━━━━━━━━━━━━━━━━━━━━━━━━━━\u001b[0m \u001b[32m31.8/31.8 MB\u001b[0m \u001b[31m72.9 MB/s\u001b[0m eta \u001b[36m0:00:00\u001b[0m\n",
            "\u001b[2K   \u001b[90m━━━━━━━━━━━━━━━━━━━━━━━━━━━━━━━━━━━━━━━━\u001b[0m \u001b[32m2.2/2.2 MB\u001b[0m \u001b[31m94.4 MB/s\u001b[0m eta \u001b[36m0:00:00\u001b[0m\n",
            "\u001b[2K   \u001b[90m━━━━━━━━━━━━━━━━━━━━━━━━━━━━━━━━━━━━━━━━\u001b[0m \u001b[32m49.5/49.5 kB\u001b[0m \u001b[31m5.1 MB/s\u001b[0m eta \u001b[36m0:00:00\u001b[0m\n",
            "\u001b[2K   \u001b[90m━━━━━━━━━━━━━━━━━━━━━━━━━━━━━━━━━━━━━━━━\u001b[0m \u001b[32m2.8/2.8 MB\u001b[0m \u001b[31m127.4 MB/s\u001b[0m eta \u001b[36m0:00:00\u001b[0m\n",
            "\u001b[?25h"
          ]
        }
      ],
      "source": [
        "# Gerekli kütüphaneleri yükleyelim (Colab hücresine)\n",
        "!pip install cirq qiskit qutip numpy matplotlib --quiet"
      ]
    },
    {
      "cell_type": "markdown",
      "source": [
        "Python ile Kuantum Kapı Simülasyonları (Numpy ile)\n",
        "\n",
        "\n",
        "Siz zaten uygulamalı örneklerle hem cebirsel hem de vektörel çözüm yapmışsınız. Bunu bir adım ileri taşıyarak, aşağıda Python ile her kapının tek ve iki qubit üzerindeki etkilerini simüle eden bir tam örnek hazırladım"
      ],
      "metadata": {
        "id": "GrgMDSw9zbIJ"
      }
    },
    {
      "cell_type": "code",
      "execution_count": 1,
      "metadata": {
        "colab": {
          "base_uri": "https://localhost:8080/"
        },
        "id": "v7Be4wZ5zFeP",
        "outputId": "00e78509-066e-4223-b672-5ca03bf639ec"
      },
      "outputs": [
        {
          "output_type": "stream",
          "name": "stdout",
          "text": [
            "I|ψ> = [[0.6]\n",
            " [0.8]]\n",
            "X|ψ> = [[0.8]\n",
            " [0.6]]\n",
            "Y|ψ> = [[0.-0.8j]\n",
            " [0.+0.6j]]\n",
            "Z|ψ> = [[ 0.6]\n",
            " [-0.8]]\n",
            "H|ψ> = [[ 0.98994949]\n",
            " [-0.14142136]]\n",
            "CNOT |00> = [[1]\n",
            " [0]\n",
            " [0]\n",
            " [0]]\n",
            "X⊗Z |01> = [[ 0]\n",
            " [ 0]\n",
            " [ 0]\n",
            " [-1]]\n",
            "H^2 |ψ> = [[0.6]\n",
            " [0.8]]\n"
          ]
        }
      ],
      "source": [
        "import numpy as np\n",
        "\n",
        "# Tek qubit durumları\n",
        "alpha, beta = 0.6, 0.8\n",
        "psi = np.array([[alpha], [beta]])  # |ψ> = α|0> + β|1>\n",
        "\n",
        "# Tek qubit kapıları\n",
        "I = np.array([[1, 0], [0, 1]])\n",
        "X = np.array([[0, 1], [1, 0]])\n",
        "Y = np.array([[0, -1j], [1j, 0]])\n",
        "Z = np.array([[1, 0], [0, -1]])\n",
        "H = (1/np.sqrt(2)) * np.array([[1, 1], [1, -1]])\n",
        "\n",
        "# Uygulamalar\n",
        "print(\"I|ψ> =\", np.dot(I, psi))\n",
        "print(\"X|ψ> =\", np.dot(X, psi))\n",
        "print(\"Y|ψ> =\", np.dot(Y, psi))\n",
        "print(\"Z|ψ> =\", np.dot(Z, psi))\n",
        "print(\"H|ψ> =\", np.dot(H, psi))\n",
        "\n",
        "# İki qubit durumu |ψ>⊗|φ> örneği\n",
        "a, b, c, d = 1, 0, 0, 0  # |00>\n",
        "psi2 = np.array([[a], [b], [c], [d]])\n",
        "\n",
        "# İki qubit kapıları\n",
        "CNOT = np.array([[1,0,0,0],\n",
        "                 [0,1,0,0],\n",
        "                 [0,0,0,1],\n",
        "                 [0,0,1,0]])\n",
        "\n",
        "# Tensörel çarpım: X⊗Z\n",
        "X_tensor_Z = np.kron(X, Z)\n",
        "psi_tensor = np.array([[0],[1],[0],[0]])  # |01>\n",
        "\n",
        "# Uygulamalar\n",
        "print(\"CNOT |00> =\", np.dot(CNOT, psi2))\n",
        "print(\"X⊗Z |01> =\", np.dot(X_tensor_Z, psi_tensor))\n",
        "\n",
        "# H kapısını iki defa uygulamak\n",
        "print(\"H^2 |ψ> =\", np.dot(H, np.dot(H, psi)))\n"
      ]
    }
  ]
}