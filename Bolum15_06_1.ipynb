{
  "nbformat": 4,
  "nbformat_minor": 0,
  "metadata": {
    "colab": {
      "provenance": []
    },
    "kernelspec": {
      "name": "python3",
      "display_name": "Python 3"
    },
    "language_info": {
      "name": "python"
    }
  },
  "cells": [
    {
      "cell_type": "markdown",
      "metadata": {
        "id": "HkikwNrKNzeD"
      },
      "source": [
        "Ön hazırlık (kütüphane kurulumu)"
      ]
    },
    {
      "cell_type": "code",
      "execution_count": 1,
      "metadata": {
        "id": "anfl_eMVNzeD",
        "colab": {
          "base_uri": "https://localhost:8080/"
        },
        "outputId": "2300d3ab-0f74-4dca-c1cf-e374b0b1c2a7"
      },
      "outputs": [
        {
          "output_type": "stream",
          "name": "stdout",
          "text": [
            "\u001b[?25l   \u001b[90m━━━━━━━━━━━━━━━━━━━━━━━━━━━━━━━━━━━━━━━━\u001b[0m \u001b[32m0.0/2.0 MB\u001b[0m \u001b[31m?\u001b[0m eta \u001b[36m-:--:--\u001b[0m\r\u001b[2K   \u001b[91m━━━━━━━━━━━━━━━━━━━━━━━━━━━━━━━━━━━━━━━\u001b[0m\u001b[91m╸\u001b[0m \u001b[32m2.0/2.0 MB\u001b[0m \u001b[31m85.3 MB/s\u001b[0m eta \u001b[36m0:00:01\u001b[0m\r\u001b[2K   \u001b[90m━━━━━━━━━━━━━━━━━━━━━━━━━━━━━━━━━━━━━━━━\u001b[0m \u001b[32m2.0/2.0 MB\u001b[0m \u001b[31m36.1 MB/s\u001b[0m eta \u001b[36m0:00:00\u001b[0m\n",
            "\u001b[?25h\u001b[?25l   \u001b[90m━━━━━━━━━━━━━━━━━━━━━━━━━━━━━━━━━━━━━━━━\u001b[0m \u001b[32m0.0/670.8 kB\u001b[0m \u001b[31m?\u001b[0m eta \u001b[36m-:--:--\u001b[0m\r\u001b[2K   \u001b[90m━━━━━━━━━━━━━━━━━━━━━━━━━━━━━━━━━━━━━━━━\u001b[0m \u001b[32m670.8/670.8 kB\u001b[0m \u001b[31m31.8 MB/s\u001b[0m eta \u001b[36m0:00:00\u001b[0m\n",
            "\u001b[2K   \u001b[90m━━━━━━━━━━━━━━━━━━━━━━━━━━━━━━━━━━━━━━━━\u001b[0m \u001b[32m73.5/73.5 kB\u001b[0m \u001b[31m3.1 MB/s\u001b[0m eta \u001b[36m0:00:00\u001b[0m\n",
            "\u001b[2K   \u001b[90m━━━━━━━━━━━━━━━━━━━━━━━━━━━━━━━━━━━━━━━━\u001b[0m \u001b[32m430.5/430.5 kB\u001b[0m \u001b[31m16.5 MB/s\u001b[0m eta \u001b[36m0:00:00\u001b[0m\n",
            "\u001b[2K   \u001b[90m━━━━━━━━━━━━━━━━━━━━━━━━━━━━━━━━━━━━━━━━\u001b[0m \u001b[32m8.0/8.0 MB\u001b[0m \u001b[31m39.1 MB/s\u001b[0m eta \u001b[36m0:00:00\u001b[0m\n",
            "\u001b[2K   \u001b[90m━━━━━━━━━━━━━━━━━━━━━━━━━━━━━━━━━━━━━━━━\u001b[0m \u001b[32m31.8/31.8 MB\u001b[0m \u001b[31m11.3 MB/s\u001b[0m eta \u001b[36m0:00:00\u001b[0m\n",
            "\u001b[2K   \u001b[90m━━━━━━━━━━━━━━━━━━━━━━━━━━━━━━━━━━━━━━━━\u001b[0m \u001b[32m2.2/2.2 MB\u001b[0m \u001b[31m41.8 MB/s\u001b[0m eta \u001b[36m0:00:00\u001b[0m\n",
            "\u001b[2K   \u001b[90m━━━━━━━━━━━━━━━━━━━━━━━━━━━━━━━━━━━━━━━━\u001b[0m \u001b[32m49.5/49.5 kB\u001b[0m \u001b[31m3.4 MB/s\u001b[0m eta \u001b[36m0:00:00\u001b[0m\n",
            "\u001b[2K   \u001b[90m━━━━━━━━━━━━━━━━━━━━━━━━━━━━━━━━━━━━━━━━\u001b[0m \u001b[32m2.8/2.8 MB\u001b[0m \u001b[31m67.2 MB/s\u001b[0m eta \u001b[36m0:00:00\u001b[0m\n",
            "\u001b[?25h"
          ]
        }
      ],
      "source": [
        "# Gerekli kütüphaneleri yükleyelim (Colab hücresine)\n",
        "!pip install cirq qiskit qutip numpy matplotlib --quiet"
      ]
    },
    {
      "cell_type": "markdown",
      "source": [
        "QUANTUM FOURIER TRANSFORM (QFT)"
      ],
      "metadata": {
        "id": "ZV564259ILIL"
      }
    },
    {
      "cell_type": "markdown",
      "source": [
        "QuTiP ile QFT (matematiksel tanım)"
      ],
      "metadata": {
        "id": "36RtLlu0ILlW"
      }
    },
    {
      "cell_type": "code",
      "source": [
        "import numpy as np\n",
        "from qutip import Qobj, qeye, tensor, basis, hadamard_transform\n",
        "\n",
        "# n qubit sayısı\n",
        "n = 3\n",
        "N = 2**n\n",
        "\n",
        "# QFT operatörü tanımı\n",
        "def qft_matrix(n):\n",
        "    N = 2**n\n",
        "    omega = np.exp(2j * np.pi / N)\n",
        "    F = np.array([[omega**(j*k) for k in range(N)] for j in range(N)]) / np.sqrt(N)\n",
        "    return Qobj(F)\n",
        "\n",
        "# 3 qubitlik QFT operatörü\n",
        "QFT = qft_matrix(3)\n",
        "\n",
        "# Örnek durum |3> = |011>\n",
        "state = basis(N, 3)\n",
        "transformed = QFT * state\n",
        "\n",
        "print(\"Girdi durumu |3> = |011> :\\n\", state.full().T)\n",
        "print(\"\\nQFT(|3>):\\n\", np.round(transformed.full(), 3))\n"
      ],
      "metadata": {
        "colab": {
          "base_uri": "https://localhost:8080/",
          "height": 384
        },
        "id": "qxIs--51ILt2",
        "outputId": "511bc1fe-cad9-436e-820c-88f0004f6193"
      },
      "execution_count": 2,
      "outputs": [
        {
          "output_type": "error",
          "ename": "ImportError",
          "evalue": "cannot import name 'hadamard_transform' from 'qutip' (/usr/local/lib/python3.12/dist-packages/qutip/__init__.py)",
          "traceback": [
            "\u001b[0;31m---------------------------------------------------------------------------\u001b[0m",
            "\u001b[0;31mImportError\u001b[0m                               Traceback (most recent call last)",
            "\u001b[0;32m/tmp/ipython-input-498093817.py\u001b[0m in \u001b[0;36m<cell line: 0>\u001b[0;34m()\u001b[0m\n\u001b[1;32m      1\u001b[0m \u001b[0;32mimport\u001b[0m \u001b[0mnumpy\u001b[0m \u001b[0;32mas\u001b[0m \u001b[0mnp\u001b[0m\u001b[0;34m\u001b[0m\u001b[0;34m\u001b[0m\u001b[0m\n\u001b[0;32m----> 2\u001b[0;31m \u001b[0;32mfrom\u001b[0m \u001b[0mqutip\u001b[0m \u001b[0;32mimport\u001b[0m \u001b[0mQobj\u001b[0m\u001b[0;34m,\u001b[0m \u001b[0mqeye\u001b[0m\u001b[0;34m,\u001b[0m \u001b[0mtensor\u001b[0m\u001b[0;34m,\u001b[0m \u001b[0mbasis\u001b[0m\u001b[0;34m,\u001b[0m \u001b[0mhadamard_transform\u001b[0m\u001b[0;34m\u001b[0m\u001b[0;34m\u001b[0m\u001b[0m\n\u001b[0m\u001b[1;32m      3\u001b[0m \u001b[0;34m\u001b[0m\u001b[0m\n\u001b[1;32m      4\u001b[0m \u001b[0;31m# n qubit sayısı\u001b[0m\u001b[0;34m\u001b[0m\u001b[0;34m\u001b[0m\u001b[0m\n\u001b[1;32m      5\u001b[0m \u001b[0mn\u001b[0m \u001b[0;34m=\u001b[0m \u001b[0;36m3\u001b[0m\u001b[0;34m\u001b[0m\u001b[0;34m\u001b[0m\u001b[0m\n",
            "\u001b[0;31mImportError\u001b[0m: cannot import name 'hadamard_transform' from 'qutip' (/usr/local/lib/python3.12/dist-packages/qutip/__init__.py)",
            "",
            "\u001b[0;31m---------------------------------------------------------------------------\u001b[0;32m\nNOTE: If your import is failing due to a missing package, you can\nmanually install dependencies using either !pip or !apt.\n\nTo view examples of installing some common dependencies, click the\n\"Open Examples\" button below.\n\u001b[0;31m---------------------------------------------------------------------------\u001b[0m\n"
          ],
          "errorDetails": {
            "actions": [
              {
                "action": "open_url",
                "actionText": "Open Examples",
                "url": "/notebooks/snippets/importing_libraries.ipynb"
              }
            ]
          }
        }
      ]
    },
    {
      "cell_type": "markdown",
      "source": [
        "Qiskit ile QFT devresi"
      ],
      "metadata": {
        "id": "O18AiWkxIL1C"
      }
    },
    {
      "cell_type": "code",
      "source": [
        "from qiskit import QuantumCircuit, Aer, transpile, assemble\n",
        "from qiskit.visualization import plot_histogram\n",
        "from qiskit.circuit.library import QFT\n",
        "import numpy as np\n",
        "\n",
        "# 3 qubit QFT devresi oluştur\n",
        "n = 3\n",
        "qc = QuantumCircuit(n)\n",
        "\n",
        "# Giriş durumu |3> = |011>\n",
        "qc.x(0)\n",
        "qc.x(1)\n",
        "\n",
        "# QFT uygula\n",
        "qc.append(QFT(num_qubits=n, do_swaps=True), range(n))\n",
        "qc.measure_all()\n",
        "\n",
        "# Simülasyon\n",
        "sim = Aer.get_backend('qasm_simulator')\n",
        "result = sim.run(assemble(transpile(qc, sim))).result()\n",
        "counts = result.get_counts()\n",
        "\n",
        "print(\"QFT çıktı histogramı:\")\n",
        "print(counts)\n",
        "qc.draw('mpl')\n"
      ],
      "metadata": {
        "colab": {
          "base_uri": "https://localhost:8080/",
          "height": 384
        },
        "id": "dad9NHgJIL6V",
        "outputId": "6bf0a7f2-b19f-48b8-987c-b9d8195febaa"
      },
      "execution_count": 3,
      "outputs": [
        {
          "output_type": "error",
          "ename": "ImportError",
          "evalue": "cannot import name 'Aer' from 'qiskit' (/usr/local/lib/python3.12/dist-packages/qiskit/__init__.py)",
          "traceback": [
            "\u001b[0;31m---------------------------------------------------------------------------\u001b[0m",
            "\u001b[0;31mImportError\u001b[0m                               Traceback (most recent call last)",
            "\u001b[0;32m/tmp/ipython-input-1173004470.py\u001b[0m in \u001b[0;36m<cell line: 0>\u001b[0;34m()\u001b[0m\n\u001b[0;32m----> 1\u001b[0;31m \u001b[0;32mfrom\u001b[0m \u001b[0mqiskit\u001b[0m \u001b[0;32mimport\u001b[0m \u001b[0mQuantumCircuit\u001b[0m\u001b[0;34m,\u001b[0m \u001b[0mAer\u001b[0m\u001b[0;34m,\u001b[0m \u001b[0mtranspile\u001b[0m\u001b[0;34m,\u001b[0m \u001b[0massemble\u001b[0m\u001b[0;34m\u001b[0m\u001b[0;34m\u001b[0m\u001b[0m\n\u001b[0m\u001b[1;32m      2\u001b[0m \u001b[0;32mfrom\u001b[0m \u001b[0mqiskit\u001b[0m\u001b[0;34m.\u001b[0m\u001b[0mvisualization\u001b[0m \u001b[0;32mimport\u001b[0m \u001b[0mplot_histogram\u001b[0m\u001b[0;34m\u001b[0m\u001b[0;34m\u001b[0m\u001b[0m\n\u001b[1;32m      3\u001b[0m \u001b[0;32mfrom\u001b[0m \u001b[0mqiskit\u001b[0m\u001b[0;34m.\u001b[0m\u001b[0mcircuit\u001b[0m\u001b[0;34m.\u001b[0m\u001b[0mlibrary\u001b[0m \u001b[0;32mimport\u001b[0m \u001b[0mQFT\u001b[0m\u001b[0;34m\u001b[0m\u001b[0;34m\u001b[0m\u001b[0m\n\u001b[1;32m      4\u001b[0m \u001b[0;32mimport\u001b[0m \u001b[0mnumpy\u001b[0m \u001b[0;32mas\u001b[0m \u001b[0mnp\u001b[0m\u001b[0;34m\u001b[0m\u001b[0;34m\u001b[0m\u001b[0m\n\u001b[1;32m      5\u001b[0m \u001b[0;34m\u001b[0m\u001b[0m\n",
            "\u001b[0;31mImportError\u001b[0m: cannot import name 'Aer' from 'qiskit' (/usr/local/lib/python3.12/dist-packages/qiskit/__init__.py)",
            "",
            "\u001b[0;31m---------------------------------------------------------------------------\u001b[0;32m\nNOTE: If your import is failing due to a missing package, you can\nmanually install dependencies using either !pip or !apt.\n\nTo view examples of installing some common dependencies, click the\n\"Open Examples\" button below.\n\u001b[0;31m---------------------------------------------------------------------------\u001b[0m\n"
          ],
          "errorDetails": {
            "actions": [
              {
                "action": "open_url",
                "actionText": "Open Examples",
                "url": "/notebooks/snippets/importing_libraries.ipynb"
              }
            ]
          }
        }
      ]
    },
    {
      "cell_type": "markdown",
      "source": [
        "Cirq ile QFT devresi (elle inşa edilmiş)"
      ],
      "metadata": {
        "id": "eCoWX0vNIL_H"
      }
    },
    {
      "cell_type": "code",
      "source": [
        "import cirq\n",
        "import numpy as np\n",
        "\n",
        "# Yardımcı fonksiyonlar\n",
        "def qft_circuit(qubits):\n",
        "    circuit = cirq.Circuit()\n",
        "    n = len(qubits)\n",
        "    for i in range(n):\n",
        "        circuit.append(cirq.H(qubits[i]))\n",
        "        for j in range(i+1, n):\n",
        "            angle = np.pi / (2 ** (j - i))\n",
        "            circuit.append(cirq.CZ(qubits[j], qubits[i])**(1 / (2 ** (j - i))))\n",
        "    circuit.append([cirq.SWAP(qubits[i], qubits[n - i - 1]) for i in range(n//2)])\n",
        "    return circuit\n",
        "\n",
        "# 3 qubit\n",
        "qubits = [cirq.LineQubit(i) for i in range(3)]\n",
        "circuit = qft_circuit(qubits)\n",
        "\n",
        "print(\"QFT Devresi:\")\n",
        "print(circuit)\n"
      ],
      "metadata": {
        "colab": {
          "base_uri": "https://localhost:8080/"
        },
        "id": "lVLAn_yfIMEI",
        "outputId": "4e816ac3-5527-447d-8b43-e6885b62fcef"
      },
      "execution_count": 4,
      "outputs": [
        {
          "output_type": "stream",
          "name": "stdout",
          "text": [
            "QFT Devresi:\n",
            "                  ┌───────┐\n",
            "0: ───H───@────────@──────────────────────×───\n",
            "          │        │                      │\n",
            "1: ───────@^0.5────┼─────H────@───────────┼───\n",
            "                   │          │           │\n",
            "2: ────────────────@^0.25─────@^0.5───H───×───\n",
            "                  └───────┘\n"
          ]
        }
      ]
    },
    {
      "cell_type": "markdown",
      "source": [
        "QUANTUM WAVELET TRANSFORM"
      ],
      "metadata": {
        "id": "NIeUeQu5IMPu"
      }
    },
    {
      "cell_type": "markdown",
      "source": [
        "Cirq ile Quantum Wavelet Transform"
      ],
      "metadata": {
        "id": "YYjEeOrrIMTO"
      }
    },
    {
      "cell_type": "code",
      "source": [
        "import cirq\n",
        "import numpy as np\n",
        "\n",
        "# --- 1. Qubit tanımla ---\n",
        "qubits = [cirq.LineQubit(i) for i in range(2)]\n",
        "\n",
        "# --- 2. QWT devresi (Haar benzeri) ---\n",
        "circuit = cirq.Circuit()\n",
        "circuit.append(cirq.X(qubits[0]))  # |01> durumu hazırla\n",
        "circuit.append(cirq.H(qubits[1]))  # Haar transform başlat\n",
        "circuit.append(cirq.CNOT(qubits[1], qubits[0]))  # kontrollü işlem\n",
        "\n",
        "# --- 3. Ölçüm ---\n",
        "circuit.append(cirq.measure(*qubits, key='result'))\n",
        "\n",
        "# --- 4. Simülasyon ---\n",
        "sim = cirq.Simulator()\n",
        "result = sim.run(circuit, repetitions=1000)\n",
        "\n",
        "print(\"QWT devresi:\")\n",
        "print(circuit)\n",
        "print(\"\\nSonuçlar:\")\n",
        "print(result.histogram(key='result'))\n"
      ],
      "metadata": {
        "colab": {
          "base_uri": "https://localhost:8080/"
        },
        "id": "Dfil_fyrIMgP",
        "outputId": "c5899200-0d15-4bc3-b986-7071cf20ddc9"
      },
      "execution_count": 8,
      "outputs": [
        {
          "output_type": "stream",
          "name": "stdout",
          "text": [
            "QWT devresi:\n",
            "0: ───X───X───M('result')───\n",
            "          │   │\n",
            "1: ───H───@───M─────────────\n",
            "\n",
            "Sonuçlar:\n",
            "Counter({2: 528, 1: 472})\n"
          ]
        }
      ]
    },
    {
      "cell_type": "markdown",
      "source": [
        "Qiskit ile Quantum Wavelet Transform"
      ],
      "metadata": {
        "id": "0pbvF6PNIMny"
      }
    },
    {
      "cell_type": "code",
      "source": [
        "from qiskit import QuantumCircuit, Aer, transpile, assemble\n",
        "from qiskit.visualization import plot_histogram\n",
        "import numpy as np\n",
        "\n",
        "# --- 1. 2-qubitlik devre ---\n",
        "qc = QuantumCircuit(2)\n",
        "\n",
        "# --- 2. Giriş durumu |01> ---\n",
        "qc.x(0)\n",
        "\n",
        "# --- 3. Haar wavelet benzeri dönüşüm (Hadamard uygulaması) ---\n",
        "qc.h(1)\n",
        "qc.cx(1, 0)\n",
        "\n",
        "# --- 4. Ölçüm ---\n",
        "qc.measure_all()\n",
        "\n",
        "# --- 5. Simülasyon ---\n",
        "backend = Aer.get_backend(\"qasm_simulator\")\n",
        "result = backend.run(assemble(transpile(qc, backend))).result()\n",
        "counts = result.get_counts()\n",
        "\n",
        "print(\"QWT çıktı histogramı:\")\n",
        "print(counts)\n",
        "qc.draw('mpl')\n"
      ],
      "metadata": {
        "colab": {
          "base_uri": "https://localhost:8080/",
          "height": 384
        },
        "id": "VyHiKmx1IMtg",
        "outputId": "6a4792fe-5ef2-4043-d807-8971fb4fdb9d"
      },
      "execution_count": 7,
      "outputs": [
        {
          "output_type": "error",
          "ename": "ImportError",
          "evalue": "cannot import name 'Aer' from 'qiskit' (/usr/local/lib/python3.12/dist-packages/qiskit/__init__.py)",
          "traceback": [
            "\u001b[0;31m---------------------------------------------------------------------------\u001b[0m",
            "\u001b[0;31mImportError\u001b[0m                               Traceback (most recent call last)",
            "\u001b[0;32m/tmp/ipython-input-3374165798.py\u001b[0m in \u001b[0;36m<cell line: 0>\u001b[0;34m()\u001b[0m\n\u001b[0;32m----> 1\u001b[0;31m \u001b[0;32mfrom\u001b[0m \u001b[0mqiskit\u001b[0m \u001b[0;32mimport\u001b[0m \u001b[0mQuantumCircuit\u001b[0m\u001b[0;34m,\u001b[0m \u001b[0mAer\u001b[0m\u001b[0;34m,\u001b[0m \u001b[0mtranspile\u001b[0m\u001b[0;34m,\u001b[0m \u001b[0massemble\u001b[0m\u001b[0;34m\u001b[0m\u001b[0;34m\u001b[0m\u001b[0m\n\u001b[0m\u001b[1;32m      2\u001b[0m \u001b[0;32mfrom\u001b[0m \u001b[0mqiskit\u001b[0m\u001b[0;34m.\u001b[0m\u001b[0mvisualization\u001b[0m \u001b[0;32mimport\u001b[0m \u001b[0mplot_histogram\u001b[0m\u001b[0;34m\u001b[0m\u001b[0;34m\u001b[0m\u001b[0m\n\u001b[1;32m      3\u001b[0m \u001b[0;32mimport\u001b[0m \u001b[0mnumpy\u001b[0m \u001b[0;32mas\u001b[0m \u001b[0mnp\u001b[0m\u001b[0;34m\u001b[0m\u001b[0;34m\u001b[0m\u001b[0m\n\u001b[1;32m      4\u001b[0m \u001b[0;34m\u001b[0m\u001b[0m\n\u001b[1;32m      5\u001b[0m \u001b[0;31m# --- 1. 2-qubitlik devre ---\u001b[0m\u001b[0;34m\u001b[0m\u001b[0;34m\u001b[0m\u001b[0m\n",
            "\u001b[0;31mImportError\u001b[0m: cannot import name 'Aer' from 'qiskit' (/usr/local/lib/python3.12/dist-packages/qiskit/__init__.py)",
            "",
            "\u001b[0;31m---------------------------------------------------------------------------\u001b[0;32m\nNOTE: If your import is failing due to a missing package, you can\nmanually install dependencies using either !pip or !apt.\n\nTo view examples of installing some common dependencies, click the\n\"Open Examples\" button below.\n\u001b[0;31m---------------------------------------------------------------------------\u001b[0m\n"
          ],
          "errorDetails": {
            "actions": [
              {
                "action": "open_url",
                "actionText": "Open Examples",
                "url": "/notebooks/snippets/importing_libraries.ipynb"
              }
            ]
          }
        }
      ]
    },
    {
      "cell_type": "markdown",
      "source": [
        "QuTiP ile Quantum Wavelet Transform (QWT)"
      ],
      "metadata": {
        "id": "HrwDGRgmIMym"
      }
    },
    {
      "cell_type": "code",
      "source": [
        "import numpy as np\n",
        "from qutip import Qobj, tensor, qeye, basis, hadamard_transform\n",
        "\n",
        "# --- 1. Haar wavelet matrisi tanımı (2 boyut için) ---\n",
        "haar_wavelet = (1/np.sqrt(2)) * np.array([[1, 1],\n",
        "                                           [1, -1]])\n",
        "\n",
        "# --- 2. 2-qubit için genişletilmiş wavelet operatörü ---\n",
        "QWT = Qobj(tensor(haar_wavelet, haar_wavelet))\n",
        "\n",
        "# --- 3. Giriş durumu (örnek sinyal) ---\n",
        "# |f> = |01>\n",
        "f = tensor(basis(2, 0), basis(2, 1))\n",
        "\n",
        "# --- 4. QWT dönüşümü ---\n",
        "transformed = QWT * f\n",
        "\n",
        "print(\"Girdi durumu |f> = |01> :\")\n",
        "print(f.full().T)\n",
        "print(\"\\nQWT(|01>) sonucu:\")\n",
        "print(np.round(transformed.full(), 3))\n"
      ],
      "metadata": {
        "colab": {
          "base_uri": "https://localhost:8080/",
          "height": 384
        },
        "id": "AAyRuNP-IM3e",
        "outputId": "57afee5b-03c5-4900-cc4e-9e6a898d2a3f"
      },
      "execution_count": 6,
      "outputs": [
        {
          "output_type": "error",
          "ename": "ImportError",
          "evalue": "cannot import name 'hadamard_transform' from 'qutip' (/usr/local/lib/python3.12/dist-packages/qutip/__init__.py)",
          "traceback": [
            "\u001b[0;31m---------------------------------------------------------------------------\u001b[0m",
            "\u001b[0;31mImportError\u001b[0m                               Traceback (most recent call last)",
            "\u001b[0;32m/tmp/ipython-input-2957863234.py\u001b[0m in \u001b[0;36m<cell line: 0>\u001b[0;34m()\u001b[0m\n\u001b[1;32m      1\u001b[0m \u001b[0;32mimport\u001b[0m \u001b[0mnumpy\u001b[0m \u001b[0;32mas\u001b[0m \u001b[0mnp\u001b[0m\u001b[0;34m\u001b[0m\u001b[0;34m\u001b[0m\u001b[0m\n\u001b[0;32m----> 2\u001b[0;31m \u001b[0;32mfrom\u001b[0m \u001b[0mqutip\u001b[0m \u001b[0;32mimport\u001b[0m \u001b[0mQobj\u001b[0m\u001b[0;34m,\u001b[0m \u001b[0mtensor\u001b[0m\u001b[0;34m,\u001b[0m \u001b[0mqeye\u001b[0m\u001b[0;34m,\u001b[0m \u001b[0mbasis\u001b[0m\u001b[0;34m,\u001b[0m \u001b[0mhadamard_transform\u001b[0m\u001b[0;34m\u001b[0m\u001b[0;34m\u001b[0m\u001b[0m\n\u001b[0m\u001b[1;32m      3\u001b[0m \u001b[0;34m\u001b[0m\u001b[0m\n\u001b[1;32m      4\u001b[0m \u001b[0;31m# --- 1. Haar wavelet matrisi tanımı (2 boyut için) ---\u001b[0m\u001b[0;34m\u001b[0m\u001b[0;34m\u001b[0m\u001b[0m\n\u001b[1;32m      5\u001b[0m haar_wavelet = (1/np.sqrt(2)) * np.array([[1, 1],\n",
            "\u001b[0;31mImportError\u001b[0m: cannot import name 'hadamard_transform' from 'qutip' (/usr/local/lib/python3.12/dist-packages/qutip/__init__.py)",
            "",
            "\u001b[0;31m---------------------------------------------------------------------------\u001b[0;32m\nNOTE: If your import is failing due to a missing package, you can\nmanually install dependencies using either !pip or !apt.\n\nTo view examples of installing some common dependencies, click the\n\"Open Examples\" button below.\n\u001b[0;31m---------------------------------------------------------------------------\u001b[0m\n"
          ],
          "errorDetails": {
            "actions": [
              {
                "action": "open_url",
                "actionText": "Open Examples",
                "url": "/notebooks/snippets/importing_libraries.ipynb"
              }
            ]
          }
        }
      ]
    },
    {
      "cell_type": "markdown",
      "source": [
        "QUANTUM SIGNAL PROCESSİNG ALGORİTMALARI"
      ],
      "metadata": {
        "id": "N9k2LL7UIM_9"
      }
    },
    {
      "cell_type": "markdown",
      "source": [
        "QSP – Cirq ile Örnek"
      ],
      "metadata": {
        "id": "lpA0lXOwINDp"
      }
    },
    {
      "cell_type": "code",
      "source": [
        "import cirq\n",
        "import numpy as np\n",
        "\n",
        "# Tek qubit ve parametreli unitary (sinyal operatörü)\n",
        "q = cirq.GridQubit(0, 0)\n",
        "theta = np.pi / 4  # örnek sinyal parametresi\n",
        "\n",
        "# W(θ) = e^{iθX}\n",
        "W = cirq.rx(2 * theta)\n",
        "\n",
        "# Faz açıları (örnek)\n",
        "phi = [0.3, 1.1, 0.7]\n",
        "\n",
        "# QSP devresi oluşturma\n",
        "circuit = cirq.Circuit()\n",
        "for i, p in enumerate(phi):\n",
        "    circuit.append(cirq.rz(2 * p)(q))\n",
        "    circuit.append(W(q))\n",
        "\n",
        "# Devreyi çiz\n",
        "print(\"=== QSP Circuit (Cirq) ===\")\n",
        "print(circuit)\n",
        "\n",
        "# Simülasyon\n",
        "sim = cirq.Simulator()\n",
        "result = sim.simulate(circuit)\n",
        "print(\"\\nFinal state vector:\")\n",
        "print(np.round(result.final_state_vector, 3))\n"
      ],
      "metadata": {
        "colab": {
          "base_uri": "https://localhost:8080/"
        },
        "id": "jt1GWuFDINPo",
        "outputId": "40ce40eb-581f-4029-e22a-cca9684183d8"
      },
      "execution_count": 9,
      "outputs": [
        {
          "output_type": "stream",
          "name": "stdout",
          "text": [
            "=== QSP Circuit (Cirq) ===\n",
            "(0, 0): ───Rz(0.191π)───Rx(0.5π)───Rz(0.7π)───Rx(0.5π)───Rz(0.446π)───Rx(0.5π)───\n",
            "\n",
            "Final state vector:\n",
            "[-0.826-0.465j -0.216+0.235j]\n"
          ]
        }
      ]
    },
    {
      "cell_type": "markdown",
      "source": [
        "QSP – Qiskit ile Örnek"
      ],
      "metadata": {
        "id": "6IxDex53INVd"
      }
    },
    {
      "cell_type": "code",
      "source": [
        "from qiskit import QuantumCircuit, Aer, execute\n",
        "from qiskit.circuit.library import RXGate, RZGate\n",
        "import numpy as np\n",
        "\n",
        "theta = np.pi / 4\n",
        "phi = [0.3, 1.1, 0.7]\n",
        "\n",
        "qc = QuantumCircuit(1)\n",
        "\n",
        "for p in phi:\n",
        "    qc.append(RZGate(2 * p), [0])\n",
        "    qc.append(RXGate(2 * theta), [0])\n",
        "\n",
        "qc.draw('mpl')\n",
        "\n",
        "# Simülasyon\n",
        "backend = Aer.get_backend('statevector_simulator')\n",
        "result = execute(qc, backend).result()\n",
        "statevector = result.get_statevector(qc)\n",
        "\n",
        "print(\"=== QSP Circuit (Qiskit) ===\")\n",
        "print(qc)\n",
        "print(\"\\nFinal statevector:\", np.round(statevector, 3))\n"
      ],
      "metadata": {
        "colab": {
          "base_uri": "https://localhost:8080/",
          "height": 384
        },
        "id": "n-LmkMOVINa_",
        "outputId": "1d96232f-2e8b-4e07-a4eb-e58980cfcf51"
      },
      "execution_count": 10,
      "outputs": [
        {
          "output_type": "error",
          "ename": "ImportError",
          "evalue": "cannot import name 'Aer' from 'qiskit' (/usr/local/lib/python3.12/dist-packages/qiskit/__init__.py)",
          "traceback": [
            "\u001b[0;31m---------------------------------------------------------------------------\u001b[0m",
            "\u001b[0;31mImportError\u001b[0m                               Traceback (most recent call last)",
            "\u001b[0;32m/tmp/ipython-input-1000024202.py\u001b[0m in \u001b[0;36m<cell line: 0>\u001b[0;34m()\u001b[0m\n\u001b[0;32m----> 1\u001b[0;31m \u001b[0;32mfrom\u001b[0m \u001b[0mqiskit\u001b[0m \u001b[0;32mimport\u001b[0m \u001b[0mQuantumCircuit\u001b[0m\u001b[0;34m,\u001b[0m \u001b[0mAer\u001b[0m\u001b[0;34m,\u001b[0m \u001b[0mexecute\u001b[0m\u001b[0;34m\u001b[0m\u001b[0;34m\u001b[0m\u001b[0m\n\u001b[0m\u001b[1;32m      2\u001b[0m \u001b[0;32mfrom\u001b[0m \u001b[0mqiskit\u001b[0m\u001b[0;34m.\u001b[0m\u001b[0mcircuit\u001b[0m\u001b[0;34m.\u001b[0m\u001b[0mlibrary\u001b[0m \u001b[0;32mimport\u001b[0m \u001b[0mRXGate\u001b[0m\u001b[0;34m,\u001b[0m \u001b[0mRZGate\u001b[0m\u001b[0;34m\u001b[0m\u001b[0;34m\u001b[0m\u001b[0m\n\u001b[1;32m      3\u001b[0m \u001b[0;32mimport\u001b[0m \u001b[0mnumpy\u001b[0m \u001b[0;32mas\u001b[0m \u001b[0mnp\u001b[0m\u001b[0;34m\u001b[0m\u001b[0;34m\u001b[0m\u001b[0m\n\u001b[1;32m      4\u001b[0m \u001b[0;34m\u001b[0m\u001b[0m\n\u001b[1;32m      5\u001b[0m \u001b[0mtheta\u001b[0m \u001b[0;34m=\u001b[0m \u001b[0mnp\u001b[0m\u001b[0;34m.\u001b[0m\u001b[0mpi\u001b[0m \u001b[0;34m/\u001b[0m \u001b[0;36m4\u001b[0m\u001b[0;34m\u001b[0m\u001b[0;34m\u001b[0m\u001b[0m\n",
            "\u001b[0;31mImportError\u001b[0m: cannot import name 'Aer' from 'qiskit' (/usr/local/lib/python3.12/dist-packages/qiskit/__init__.py)",
            "",
            "\u001b[0;31m---------------------------------------------------------------------------\u001b[0;32m\nNOTE: If your import is failing due to a missing package, you can\nmanually install dependencies using either !pip or !apt.\n\nTo view examples of installing some common dependencies, click the\n\"Open Examples\" button below.\n\u001b[0;31m---------------------------------------------------------------------------\u001b[0m\n"
          ],
          "errorDetails": {
            "actions": [
              {
                "action": "open_url",
                "actionText": "Open Examples",
                "url": "/notebooks/snippets/importing_libraries.ipynb"
              }
            ]
          }
        }
      ]
    },
    {
      "cell_type": "markdown",
      "source": [
        "QSP – QuTiP ile Örnek"
      ],
      "metadata": {
        "id": "zB6oYR66INgJ"
      }
    },
    {
      "cell_type": "code",
      "source": [
        "import numpy as np\n",
        "from qutip import Qobj, rx, rz, tensor, basis\n",
        "\n",
        "# Parametreler\n",
        "theta = np.pi / 4\n",
        "phi = [0.3, 1.1, 0.7]\n",
        "\n",
        "# Başlangıç durumu |0>\n",
        "psi0 = basis(2, 0)\n",
        "\n",
        "# W(θ) = e^{iθX} (rx)\n",
        "W = rx(2 * theta)\n",
        "\n",
        "# QSP operatörünün oluşturulması\n",
        "U = Qobj(np.eye(2))\n",
        "for p in phi:\n",
        "    U = rz(2 * p) * W * U\n",
        "\n",
        "# U’nun uygulanması\n",
        "psi_final = U * psi0\n",
        "\n",
        "print(\"=== QSP Operator (QuTiP) ===\")\n",
        "print(U)\n",
        "print(\"\\nFinal state:\")\n",
        "print(psi_final)\n"
      ],
      "metadata": {
        "colab": {
          "base_uri": "https://localhost:8080/",
          "height": 384
        },
        "id": "d4Zr_0D5INk5",
        "outputId": "4de5ade1-3ca7-4523-82f0-fa7dcec0dd60"
      },
      "execution_count": 11,
      "outputs": [
        {
          "output_type": "error",
          "ename": "ImportError",
          "evalue": "cannot import name 'rx' from 'qutip' (/usr/local/lib/python3.12/dist-packages/qutip/__init__.py)",
          "traceback": [
            "\u001b[0;31m---------------------------------------------------------------------------\u001b[0m",
            "\u001b[0;31mImportError\u001b[0m                               Traceback (most recent call last)",
            "\u001b[0;32m/tmp/ipython-input-663528424.py\u001b[0m in \u001b[0;36m<cell line: 0>\u001b[0;34m()\u001b[0m\n\u001b[1;32m      1\u001b[0m \u001b[0;32mimport\u001b[0m \u001b[0mnumpy\u001b[0m \u001b[0;32mas\u001b[0m \u001b[0mnp\u001b[0m\u001b[0;34m\u001b[0m\u001b[0;34m\u001b[0m\u001b[0m\n\u001b[0;32m----> 2\u001b[0;31m \u001b[0;32mfrom\u001b[0m \u001b[0mqutip\u001b[0m \u001b[0;32mimport\u001b[0m \u001b[0mQobj\u001b[0m\u001b[0;34m,\u001b[0m \u001b[0mrx\u001b[0m\u001b[0;34m,\u001b[0m \u001b[0mrz\u001b[0m\u001b[0;34m,\u001b[0m \u001b[0mtensor\u001b[0m\u001b[0;34m,\u001b[0m \u001b[0mbasis\u001b[0m\u001b[0;34m\u001b[0m\u001b[0;34m\u001b[0m\u001b[0m\n\u001b[0m\u001b[1;32m      3\u001b[0m \u001b[0;34m\u001b[0m\u001b[0m\n\u001b[1;32m      4\u001b[0m \u001b[0;31m# Parametreler\u001b[0m\u001b[0;34m\u001b[0m\u001b[0;34m\u001b[0m\u001b[0m\n\u001b[1;32m      5\u001b[0m \u001b[0mtheta\u001b[0m \u001b[0;34m=\u001b[0m \u001b[0mnp\u001b[0m\u001b[0;34m.\u001b[0m\u001b[0mpi\u001b[0m \u001b[0;34m/\u001b[0m \u001b[0;36m4\u001b[0m\u001b[0;34m\u001b[0m\u001b[0;34m\u001b[0m\u001b[0m\n",
            "\u001b[0;31mImportError\u001b[0m: cannot import name 'rx' from 'qutip' (/usr/local/lib/python3.12/dist-packages/qutip/__init__.py)",
            "",
            "\u001b[0;31m---------------------------------------------------------------------------\u001b[0;32m\nNOTE: If your import is failing due to a missing package, you can\nmanually install dependencies using either !pip or !apt.\n\nTo view examples of installing some common dependencies, click the\n\"Open Examples\" button below.\n\u001b[0;31m---------------------------------------------------------------------------\u001b[0m\n"
          ],
          "errorDetails": {
            "actions": [
              {
                "action": "open_url",
                "actionText": "Open Examples",
                "url": "/notebooks/snippets/importing_libraries.ipynb"
              }
            ]
          }
        }
      ]
    },
    {
      "cell_type": "code",
      "execution_count": null,
      "metadata": {
        "id": "zcv8V-pgIGlx"
      },
      "outputs": [],
      "source": []
    }
  ]
}