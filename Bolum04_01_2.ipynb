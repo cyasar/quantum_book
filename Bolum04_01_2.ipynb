{
  "nbformat": 4,
  "nbformat_minor": 0,
  "metadata": {
    "colab": {
      "provenance": []
    },
    "kernelspec": {
      "name": "python3",
      "display_name": "Python 3"
    },
    "language_info": {
      "name": "python"
    }
  },
  "cells": [
    {
      "cell_type": "markdown",
      "source": [
        "Ön hazırlık (kütüphane kurulumu)"
      ],
      "metadata": {
        "id": "HkikwNrKNzeD"
      }
    },
    {
      "cell_type": "code",
      "execution_count": 1,
      "metadata": {
        "colab": {
          "base_uri": "https://localhost:8080/"
        },
        "id": "anfl_eMVNzeD",
        "outputId": "d91ebebc-aa13-4a3d-f507-40158beae299"
      },
      "outputs": [
        {
          "output_type": "stream",
          "name": "stdout",
          "text": [
            "\u001b[?25l   \u001b[90m━━━━━━━━━━━━━━━━━━━━━━━━━━━━━━━━━━━━━━━━\u001b[0m \u001b[32m0.0/2.0 MB\u001b[0m \u001b[31m?\u001b[0m eta \u001b[36m-:--:--\u001b[0m\r\u001b[2K   \u001b[91m━━━━━━━━━━\u001b[0m\u001b[90m╺\u001b[0m\u001b[90m━━━━━━━━━━━━━━━━━━━━━━━━━━━━━\u001b[0m \u001b[32m0.5/2.0 MB\u001b[0m \u001b[31m15.2 MB/s\u001b[0m eta \u001b[36m0:00:01\u001b[0m\r\u001b[2K   \u001b[91m━━━━━━━━━━━━━━━━━━━━━━━━━━━━━━━━━━━━━━━\u001b[0m\u001b[91m╸\u001b[0m \u001b[32m2.0/2.0 MB\u001b[0m \u001b[31m38.7 MB/s\u001b[0m eta \u001b[36m0:00:01\u001b[0m\r\u001b[2K   \u001b[90m━━━━━━━━━━━━━━━━━━━━━━━━━━━━━━━━━━━━━━━━\u001b[0m \u001b[32m2.0/2.0 MB\u001b[0m \u001b[31m27.8 MB/s\u001b[0m eta \u001b[36m0:00:00\u001b[0m\n",
            "\u001b[2K   \u001b[90m━━━━━━━━━━━━━━━━━━━━━━━━━━━━━━━━━━━━━━━━\u001b[0m \u001b[32m670.8/670.8 kB\u001b[0m \u001b[31m37.8 MB/s\u001b[0m eta \u001b[36m0:00:00\u001b[0m\n",
            "\u001b[2K   \u001b[90m━━━━━━━━━━━━━━━━━━━━━━━━━━━━━━━━━━━━━━━━\u001b[0m \u001b[32m73.5/73.5 kB\u001b[0m \u001b[31m4.8 MB/s\u001b[0m eta \u001b[36m0:00:00\u001b[0m\n",
            "\u001b[2K   \u001b[90m━━━━━━━━━━━━━━━━━━━━━━━━━━━━━━━━━━━━━━━━\u001b[0m \u001b[32m430.5/430.5 kB\u001b[0m \u001b[31m24.0 MB/s\u001b[0m eta \u001b[36m0:00:00\u001b[0m\n",
            "\u001b[2K   \u001b[90m━━━━━━━━━━━━━━━━━━━━━━━━━━━━━━━━━━━━━━━━\u001b[0m \u001b[32m8.0/8.0 MB\u001b[0m \u001b[31m95.5 MB/s\u001b[0m eta \u001b[36m0:00:00\u001b[0m\n",
            "\u001b[2K   \u001b[90m━━━━━━━━━━━━━━━━━━━━━━━━━━━━━━━━━━━━━━━━\u001b[0m \u001b[32m31.8/31.8 MB\u001b[0m \u001b[31m53.0 MB/s\u001b[0m eta \u001b[36m0:00:00\u001b[0m\n",
            "\u001b[2K   \u001b[90m━━━━━━━━━━━━━━━━━━━━━━━━━━━━━━━━━━━━━━━━\u001b[0m \u001b[32m2.2/2.2 MB\u001b[0m \u001b[31m61.3 MB/s\u001b[0m eta \u001b[36m0:00:00\u001b[0m\n",
            "\u001b[2K   \u001b[90m━━━━━━━━━━━━━━━━━━━━━━━━━━━━━━━━━━━━━━━━\u001b[0m \u001b[32m49.5/49.5 kB\u001b[0m \u001b[31m2.7 MB/s\u001b[0m eta \u001b[36m0:00:00\u001b[0m\n",
            "\u001b[2K   \u001b[90m━━━━━━━━━━━━━━━━━━━━━━━━━━━━━━━━━━━━━━━━\u001b[0m \u001b[32m2.6/2.6 MB\u001b[0m \u001b[31m81.5 MB/s\u001b[0m eta \u001b[36m0:00:00\u001b[0m\n",
            "\u001b[?25h"
          ]
        }
      ],
      "source": [
        "# Gerekli kütüphaneleri yükleyelim (Colab hücresine)\n",
        "!pip install cirq qiskit qutip numpy matplotlib --quiet"
      ]
    },
    {
      "cell_type": "markdown",
      "source": [
        "1. Matris Toplama ve Çıkarma\n",
        "Qiskit (Toplama–Çıkarma)"
      ],
      "metadata": {
        "id": "JID8LrzqcLUt"
      }
    },
    {
      "cell_type": "code",
      "execution_count": 2,
      "metadata": {
        "colab": {
          "base_uri": "https://localhost:8080/"
        },
        "id": "Xxpy1QMibyNH",
        "outputId": "4f065d6c-2366-456e-b6f5-8be8319d558b"
      },
      "outputs": [
        {
          "output_type": "stream",
          "name": "stdout",
          "text": [
            "A + B =\n",
            " [[ 6  8]\n",
            " [10 12]]\n",
            "A - B =\n",
            " [[-4 -4]\n",
            " [-4 -4]]\n"
          ]
        }
      ],
      "source": [
        "import numpy as np\n",
        "\n",
        "# Matrisler\n",
        "A = np.array([[1, 2],\n",
        "              [3, 4]])\n",
        "B = np.array([[5, 6],\n",
        "              [7, 8]])\n",
        "\n",
        "C = A + B  # Toplama\n",
        "D = A - B  # Çıkarma\n",
        "\n",
        "print(\"A + B =\\n\", C)\n",
        "print(\"A - B =\\n\", D)\n",
        "\n"
      ]
    },
    {
      "cell_type": "markdown",
      "source": [
        "Cirq (NumPy üzerinden matris işlemleri)"
      ],
      "metadata": {
        "id": "tf05RLApcQNA"
      }
    },
    {
      "cell_type": "code",
      "source": [
        "import numpy as np\n",
        "\n",
        "A = np.array([[1, 0],\n",
        "              [0, 1]])\n",
        "B = np.array([[0, 1],\n",
        "              [1, 0]])\n",
        "\n",
        "print(\"A + B =\\n\", A + B)\n",
        "print(\"A - B =\\n\", A - B)\n"
      ],
      "metadata": {
        "colab": {
          "base_uri": "https://localhost:8080/"
        },
        "id": "kQCIHtV-cPn3",
        "outputId": "207f59aa-03c6-4313-cf72-ef8dd14854f8"
      },
      "execution_count": 3,
      "outputs": [
        {
          "output_type": "stream",
          "name": "stdout",
          "text": [
            "A + B =\n",
            " [[1 1]\n",
            " [1 1]]\n",
            "A - B =\n",
            " [[ 1 -1]\n",
            " [-1  1]]\n"
          ]
        }
      ]
    },
    {
      "cell_type": "markdown",
      "source": [
        "QuTiP (Qobj ile işlemler)"
      ],
      "metadata": {
        "id": "_xrEyrg3cZYu"
      }
    },
    {
      "cell_type": "code",
      "source": [
        "import qutip as qt\n",
        "\n",
        "A = qt.Qobj([[1, 2],\n",
        "             [3, 4]])\n",
        "B = qt.Qobj([[5, 6],\n",
        "             [7, 8]])\n",
        "\n",
        "C = A + B\n",
        "D = A - B\n",
        "\n",
        "print(\"A + B =\\n\", C.full())\n",
        "print(\"A - B =\\n\", D.full())\n"
      ],
      "metadata": {
        "colab": {
          "base_uri": "https://localhost:8080/"
        },
        "id": "Um3NUJpNcQWt",
        "outputId": "fecae8b9-c3b1-4286-ea7c-5b387e092782"
      },
      "execution_count": 4,
      "outputs": [
        {
          "output_type": "stream",
          "name": "stdout",
          "text": [
            "A + B =\n",
            " [[ 6.+0.j  8.+0.j]\n",
            " [10.+0.j 12.+0.j]]\n",
            "A - B =\n",
            " [[-4.+0.j -4.+0.j]\n",
            " [-4.+0.j -4.+0.j]]\n"
          ]
        }
      ]
    },
    {
      "cell_type": "markdown",
      "source": [
        "2. Matris Çarpımı\n",
        "Qiskit (Matris Çarpımı)"
      ],
      "metadata": {
        "id": "RmzrB6bXcehY"
      }
    },
    {
      "cell_type": "code",
      "source": [
        "import numpy as np\n",
        "\n",
        "A = np.array([[1, 2],\n",
        "              [3, 4]])\n",
        "B = np.array([[0, 1],\n",
        "              [1, 0]])\n",
        "\n",
        "C = np.dot(A, B)\n",
        "print(\"A * B =\\n\", C)\n"
      ],
      "metadata": {
        "colab": {
          "base_uri": "https://localhost:8080/"
        },
        "id": "kLBe47EEce1p",
        "outputId": "ebab6d06-04bd-4d34-f8d4-05e2e391b00b"
      },
      "execution_count": 5,
      "outputs": [
        {
          "output_type": "stream",
          "name": "stdout",
          "text": [
            "A * B =\n",
            " [[2 1]\n",
            " [4 3]]\n"
          ]
        }
      ]
    },
    {
      "cell_type": "markdown",
      "source": [
        "Cirq (unitary çarpımı)"
      ],
      "metadata": {
        "id": "4er6bpH0cmXM"
      }
    },
    {
      "cell_type": "code",
      "source": [
        "import numpy as np\n",
        "import cirq\n",
        "\n",
        "X = cirq.unitary(cirq.X)  # Pauli-X matrisi\n",
        "Y = cirq.unitary(cirq.Y)  # Pauli-Y matrisi\n",
        "\n",
        "C = np.dot(X, Y)\n",
        "print(\"X * Y =\\n\", C)\n"
      ],
      "metadata": {
        "colab": {
          "base_uri": "https://localhost:8080/"
        },
        "id": "ZcQUKHfWcmfv",
        "outputId": "382a0d2f-597c-4ec2-cc1f-f519e5a19bca"
      },
      "execution_count": 6,
      "outputs": [
        {
          "output_type": "stream",
          "name": "stdout",
          "text": [
            "X * Y =\n",
            " [[0.+1.j 0.+0.j]\n",
            " [0.+0.j 0.-1.j]]\n"
          ]
        }
      ]
    },
    {
      "cell_type": "markdown",
      "source": [
        "QuTiP (Operatör çarpımı)"
      ],
      "metadata": {
        "id": "Bq46TCTecmtU"
      }
    },
    {
      "cell_type": "code",
      "source": [
        "import qutip as qt\n",
        "\n",
        "X = qt.sigmax()\n",
        "Y = qt.sigmay()\n",
        "\n",
        "C = X * Y\n",
        "print(\"X * Y =\\n\", C.full())\n"
      ],
      "metadata": {
        "colab": {
          "base_uri": "https://localhost:8080/"
        },
        "id": "PUKfgLNqcm1t",
        "outputId": "d8843957-1ca3-4ef9-c4c0-ecbf4ffc71fb"
      },
      "execution_count": 7,
      "outputs": [
        {
          "output_type": "stream",
          "name": "stdout",
          "text": [
            "X * Y =\n",
            " [[0.+1.j 0.+0.j]\n",
            " [0.+0.j 0.-1.j]]\n"
          ]
        }
      ]
    }
  ]
}