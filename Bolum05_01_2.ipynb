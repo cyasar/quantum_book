{
  "nbformat": 4,
  "nbformat_minor": 0,
  "metadata": {
    "colab": {
      "provenance": []
    },
    "kernelspec": {
      "name": "python3",
      "display_name": "Python 3"
    },
    "language_info": {
      "name": "python"
    }
  },
  "cells": [
    {
      "cell_type": "markdown",
      "source": [
        "Ön hazırlık (kütüphane kurulumu)"
      ],
      "metadata": {
        "id": "HkikwNrKNzeD"
      }
    },
    {
      "cell_type": "code",
      "execution_count": 1,
      "metadata": {
        "colab": {
          "base_uri": "https://localhost:8080/"
        },
        "id": "anfl_eMVNzeD",
        "outputId": "09b547e3-eacf-4cdc-af27-482891bf7926"
      },
      "outputs": [
        {
          "output_type": "stream",
          "name": "stdout",
          "text": [
            "\u001b[?25l   \u001b[90m━━━━━━━━━━━━━━━━━━━━━━━━━━━━━━━━━━━━━━━━\u001b[0m \u001b[32m0.0/2.0 MB\u001b[0m \u001b[31m?\u001b[0m eta \u001b[36m-:--:--\u001b[0m\r\u001b[2K   \u001b[91m━━━━━━━━━━━━━━\u001b[0m\u001b[91m╸\u001b[0m\u001b[90m━━━━━━━━━━━━━━━━━━━━━━━━━\u001b[0m \u001b[32m0.7/2.0 MB\u001b[0m \u001b[31m22.2 MB/s\u001b[0m eta \u001b[36m0:00:01\u001b[0m\r\u001b[2K   \u001b[90m━━━━━━━━━━━━━━━━━━━━━━━━━━━━━━━━━━━━━━━━\u001b[0m \u001b[32m2.0/2.0 MB\u001b[0m \u001b[31m32.8 MB/s\u001b[0m eta \u001b[36m0:00:00\u001b[0m\n",
            "\u001b[?25h\u001b[?25l   \u001b[90m━━━━━━━━━━━━━━━━━━━━━━━━━━━━━━━━━━━━━━━━\u001b[0m \u001b[32m0.0/670.8 kB\u001b[0m \u001b[31m?\u001b[0m eta \u001b[36m-:--:--\u001b[0m\r\u001b[2K   \u001b[90m━━━━━━━━━━━━━━━━━━━━━━━━━━━━━━━━━━━━━━━━\u001b[0m \u001b[32m670.8/670.8 kB\u001b[0m \u001b[31m54.9 MB/s\u001b[0m eta \u001b[36m0:00:00\u001b[0m\n",
            "\u001b[2K   \u001b[90m━━━━━━━━━━━━━━━━━━━━━━━━━━━━━━━━━━━━━━━━\u001b[0m \u001b[32m73.5/73.5 kB\u001b[0m \u001b[31m6.4 MB/s\u001b[0m eta \u001b[36m0:00:00\u001b[0m\n",
            "\u001b[2K   \u001b[90m━━━━━━━━━━━━━━━━━━━━━━━━━━━━━━━━━━━━━━━━\u001b[0m \u001b[32m430.5/430.5 kB\u001b[0m \u001b[31m35.2 MB/s\u001b[0m eta \u001b[36m0:00:00\u001b[0m\n",
            "\u001b[2K   \u001b[90m━━━━━━━━━━━━━━━━━━━━━━━━━━━━━━━━━━━━━━━━\u001b[0m \u001b[32m8.0/8.0 MB\u001b[0m \u001b[31m134.5 MB/s\u001b[0m eta \u001b[36m0:00:00\u001b[0m\n",
            "\u001b[2K   \u001b[90m━━━━━━━━━━━━━━━━━━━━━━━━━━━━━━━━━━━━━━━━\u001b[0m \u001b[32m31.8/31.8 MB\u001b[0m \u001b[31m86.4 MB/s\u001b[0m eta \u001b[36m0:00:00\u001b[0m\n",
            "\u001b[2K   \u001b[90m━━━━━━━━━━━━━━━━━━━━━━━━━━━━━━━━━━━━━━━━\u001b[0m \u001b[32m2.2/2.2 MB\u001b[0m \u001b[31m118.9 MB/s\u001b[0m eta \u001b[36m0:00:00\u001b[0m\n",
            "\u001b[2K   \u001b[90m━━━━━━━━━━━━━━━━━━━━━━━━━━━━━━━━━━━━━━━━\u001b[0m \u001b[32m49.5/49.5 kB\u001b[0m \u001b[31m4.5 MB/s\u001b[0m eta \u001b[36m0:00:00\u001b[0m\n",
            "\u001b[2K   \u001b[90m━━━━━━━━━━━━━━━━━━━━━━━━━━━━━━━━━━━━━━━━\u001b[0m \u001b[32m2.8/2.8 MB\u001b[0m \u001b[31m102.5 MB/s\u001b[0m eta \u001b[36m0:00:00\u001b[0m\n",
            "\u001b[?25h"
          ]
        }
      ],
      "source": [
        "# Gerekli kütüphaneleri yükleyelim (Colab hücresine)\n",
        "!pip install cirq qiskit qutip numpy matplotlib --quiet"
      ]
    },
    {
      "cell_type": "markdown",
      "source": [
        "Cirq ile"
      ],
      "metadata": {
        "id": "7pMuFFp9rOCI"
      }
    },
    {
      "cell_type": "code",
      "source": [
        "import cirq\n",
        "import numpy as np\n",
        "\n",
        "# Durum vektörünü tanımlayalım\n",
        "# |τ> = 1/sqrt(5)|u1> - i*sqrt(7/15)|u2> + 1/sqrt(3)|u3>\n",
        "# Burada u1,u2,u3 -> 3 boyutlu Hilbert uzayı (bir qutrit gibi düşünebiliriz)\n",
        "\n",
        "tau = np.array([1/np.sqrt(5), -1j*np.sqrt(7/15), 1/np.sqrt(3)])\n",
        "\n",
        "# Bra vektörü = Hermityen eşlenik\n",
        "bra_tau = np.conjugate(tau)\n",
        "\n",
        "print(\"Ket |τ> =\\n\", tau)\n",
        "print(\"Bra <τ| =\\n\", bra_tau)\n",
        "\n",
        "# Olasılıklar\n",
        "p_u1 = np.abs(tau[0])**2\n",
        "p_u2 = np.abs(tau[1])**2\n",
        "p_u3 = np.abs(tau[2])**2\n",
        "\n",
        "print(\"\\nOlasılıklar:\")\n",
        "print(\"P(u1) =\", p_u1)\n",
        "print(\"P(u2) =\", p_u2)\n",
        "print(\"P(u3) =\", p_u3)\n",
        "print(\"Toplam =\", p_u1+p_u2+p_u3)\n"
      ],
      "metadata": {
        "colab": {
          "base_uri": "https://localhost:8080/"
        },
        "id": "PPM4JPtbrOua",
        "outputId": "17b4b9c3-a0ec-4419-d8f8-a1e1384a4006"
      },
      "execution_count": 2,
      "outputs": [
        {
          "output_type": "stream",
          "name": "stdout",
          "text": [
            "Ket |τ> =\n",
            " [0.4472136 +0.j         0.        -0.68313005j 0.57735027+0.j        ]\n",
            "Bra <τ| =\n",
            " [0.4472136 -0.j         0.        +0.68313005j 0.57735027-0.j        ]\n",
            "\n",
            "Olasılıklar:\n",
            "P(u1) = 0.19999999999999998\n",
            "P(u2) = 0.4666666666666666\n",
            "P(u3) = 0.3333333333333334\n",
            "Toplam = 1.0\n"
          ]
        }
      ]
    },
    {
      "cell_type": "markdown",
      "source": [
        "Qiskit ile"
      ],
      "metadata": {
        "id": "iStKIlhKrXw0"
      }
    },
    {
      "cell_type": "code",
      "execution_count": 3,
      "metadata": {
        "colab": {
          "base_uri": "https://localhost:8080/"
        },
        "id": "uK4w9UvYq412",
        "outputId": "77f55c7c-72b7-415e-c746-a202b282b6eb"
      },
      "outputs": [
        {
          "output_type": "stream",
          "name": "stdout",
          "text": [
            "Ket |τ> = [0.4472136 +0.j         0.        -0.68313005j 0.57735027+0.j        ]\n",
            "Bra <τ| = [0.4472136 -0.j         0.        +0.68313005j 0.57735027-0.j        ]\n",
            "\n",
            "Olasılıklar: [0.2        0.46666667 0.33333333]\n",
            "Toplam = 1.0\n"
          ]
        }
      ],
      "source": [
        "import numpy as np\n",
        "from qiskit.quantum_info import Statevector\n",
        "\n",
        "# Durum vektörü tanımı\n",
        "tau = [1/np.sqrt(5), -1j*np.sqrt(7/15), 1/np.sqrt(3)]\n",
        "\n",
        "# Statevector (Qiskit normalde 2^n boyutlu uzayları kullanır, ama biz vektörü direkt kullanabiliriz)\n",
        "sv = Statevector(tau)\n",
        "\n",
        "print(\"Ket |τ> =\", sv.data)\n",
        "print(\"Bra <τ| =\", np.conjugate(sv.data))\n",
        "\n",
        "# Olasılıklar\n",
        "probs = np.abs(sv.data)**2\n",
        "print(\"\\nOlasılıklar:\", probs)\n",
        "print(\"Toplam =\", np.sum(probs))\n"
      ]
    },
    {
      "cell_type": "markdown",
      "source": [
        "QuTiP ile"
      ],
      "metadata": {
        "id": "bxUv1oL0ravu"
      }
    },
    {
      "cell_type": "code",
      "source": [
        "import numpy as np\n",
        "from qutip import Qobj\n",
        "\n",
        "# Durum vektörü\n",
        "tau = Qobj([1/np.sqrt(5), -1j*np.sqrt(7/15), 1/np.sqrt(3)])\n",
        "\n",
        "print(\"Ket |τ> =\\n\", tau)\n",
        "\n",
        "# Bra vektörü\n",
        "bra_tau = tau.dag()\n",
        "print(\"Bra <τ| =\\n\", bra_tau)\n",
        "\n",
        "# Olasılıklar\n",
        "p_u1 = abs(tau[0][0,0])**2\n",
        "p_u2 = abs(tau[1][0,0])**2\n",
        "p_u3 = abs(tau[2][0,0])**2\n",
        "\n",
        "print(\"\\nOlasılıklar:\")\n",
        "print(\"P(u1) =\", p_u1)\n",
        "print(\"P(u2) =\", p_u2)\n",
        "print(\"P(u3) =\", p_u3)\n",
        "print(\"Toplam =\", p_u1+p_u2+p_u3)\n"
      ],
      "metadata": {
        "colab": {
          "base_uri": "https://localhost:8080/",
          "height": 384
        },
        "id": "5DaZhNIqrbBe",
        "outputId": "fa0dcec3-a763-4ed3-d157-cd40bd78d3c1"
      },
      "execution_count": 6,
      "outputs": [
        {
          "output_type": "stream",
          "name": "stdout",
          "text": [
            "Ket |τ> =\n",
            " Quantum object: dims=[[3], [1]], shape=(3, 1), type='ket', dtype=Dense\n",
            "Qobj data =\n",
            "[[0.4472136 +0.j        ]\n",
            " [0.        -0.68313005j]\n",
            " [0.57735027+0.j        ]]\n",
            "Bra <τ| =\n",
            " Quantum object: dims=[[1], [3]], shape=(1, 3), type='bra', dtype=Dense\n",
            "Qobj data =\n",
            "[[0.4472136 -0.j         0.        +0.68313005j 0.57735027-0.j        ]]\n"
          ]
        },
        {
          "output_type": "error",
          "ename": "IndexError",
          "evalue": "too many indices for array: array is 1-dimensional, but 2 were indexed",
          "traceback": [
            "\u001b[0;31m---------------------------------------------------------------------------\u001b[0m",
            "\u001b[0;31mIndexError\u001b[0m                                Traceback (most recent call last)",
            "\u001b[0;32m/tmp/ipython-input-4191707519.py\u001b[0m in \u001b[0;36m<cell line: 0>\u001b[0;34m()\u001b[0m\n\u001b[1;32m     12\u001b[0m \u001b[0;34m\u001b[0m\u001b[0m\n\u001b[1;32m     13\u001b[0m \u001b[0;31m# Olasılıklar\u001b[0m\u001b[0;34m\u001b[0m\u001b[0;34m\u001b[0m\u001b[0m\n\u001b[0;32m---> 14\u001b[0;31m \u001b[0mp_u1\u001b[0m \u001b[0;34m=\u001b[0m \u001b[0mabs\u001b[0m\u001b[0;34m(\u001b[0m\u001b[0mtau\u001b[0m\u001b[0;34m[\u001b[0m\u001b[0;36m0\u001b[0m\u001b[0;34m]\u001b[0m\u001b[0;34m[\u001b[0m\u001b[0;36m0\u001b[0m\u001b[0;34m,\u001b[0m\u001b[0;36m0\u001b[0m\u001b[0;34m]\u001b[0m\u001b[0;34m)\u001b[0m\u001b[0;34m**\u001b[0m\u001b[0;36m2\u001b[0m\u001b[0;34m\u001b[0m\u001b[0;34m\u001b[0m\u001b[0m\n\u001b[0m\u001b[1;32m     15\u001b[0m \u001b[0mp_u2\u001b[0m \u001b[0;34m=\u001b[0m \u001b[0mabs\u001b[0m\u001b[0;34m(\u001b[0m\u001b[0mtau\u001b[0m\u001b[0;34m[\u001b[0m\u001b[0;36m1\u001b[0m\u001b[0;34m]\u001b[0m\u001b[0;34m[\u001b[0m\u001b[0;36m0\u001b[0m\u001b[0;34m,\u001b[0m\u001b[0;36m0\u001b[0m\u001b[0;34m]\u001b[0m\u001b[0;34m)\u001b[0m\u001b[0;34m**\u001b[0m\u001b[0;36m2\u001b[0m\u001b[0;34m\u001b[0m\u001b[0;34m\u001b[0m\u001b[0m\n\u001b[1;32m     16\u001b[0m \u001b[0mp_u3\u001b[0m \u001b[0;34m=\u001b[0m \u001b[0mabs\u001b[0m\u001b[0;34m(\u001b[0m\u001b[0mtau\u001b[0m\u001b[0;34m[\u001b[0m\u001b[0;36m2\u001b[0m\u001b[0;34m]\u001b[0m\u001b[0;34m[\u001b[0m\u001b[0;36m0\u001b[0m\u001b[0;34m,\u001b[0m\u001b[0;36m0\u001b[0m\u001b[0;34m]\u001b[0m\u001b[0;34m)\u001b[0m\u001b[0;34m**\u001b[0m\u001b[0;36m2\u001b[0m\u001b[0;34m\u001b[0m\u001b[0;34m\u001b[0m\u001b[0m\n",
            "\u001b[0;31mIndexError\u001b[0m: too many indices for array: array is 1-dimensional, but 2 were indexed"
          ]
        }
      ]
    }
  ]
}