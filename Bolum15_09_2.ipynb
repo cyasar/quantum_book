{
  "nbformat": 4,
  "nbformat_minor": 0,
  "metadata": {
    "colab": {
      "provenance": []
    },
    "kernelspec": {
      "name": "python3",
      "display_name": "Python 3"
    },
    "language_info": {
      "name": "python"
    }
  },
  "cells": [
    {
      "cell_type": "markdown",
      "metadata": {
        "id": "HkikwNrKNzeD"
      },
      "source": [
        "Ön hazırlık (kütüphane kurulumu)"
      ]
    },
    {
      "cell_type": "code",
      "execution_count": 1,
      "metadata": {
        "id": "anfl_eMVNzeD",
        "colab": {
          "base_uri": "https://localhost:8080/"
        },
        "outputId": "f7f18086-b274-4c78-f75f-d96a279f0313"
      },
      "outputs": [
        {
          "output_type": "stream",
          "name": "stdout",
          "text": [
            "\u001b[?25l   \u001b[90m━━━━━━━━━━━━━━━━━━━━━━━━━━━━━━━━━━━━━━━━\u001b[0m \u001b[32m0.0/2.0 MB\u001b[0m \u001b[31m?\u001b[0m eta \u001b[36m-:--:--\u001b[0m\r\u001b[2K   \u001b[91m━━━━━━━━━━━━\u001b[0m\u001b[90m╺\u001b[0m\u001b[90m━━━━━━━━━━━━━━━━━━━━━━━━━━━\u001b[0m \u001b[32m0.6/2.0 MB\u001b[0m \u001b[31m18.5 MB/s\u001b[0m eta \u001b[36m0:00:01\u001b[0m\r\u001b[2K   \u001b[91m━━━━━━━━━━━━━━━━━━━━━━━━━━━━━━━━━━━━━━━\u001b[0m\u001b[91m╸\u001b[0m \u001b[32m2.0/2.0 MB\u001b[0m \u001b[31m38.1 MB/s\u001b[0m eta \u001b[36m0:00:01\u001b[0m\r\u001b[2K   \u001b[90m━━━━━━━━━━━━━━━━━━━━━━━━━━━━━━━━━━━━━━━━\u001b[0m \u001b[32m2.0/2.0 MB\u001b[0m \u001b[31m26.7 MB/s\u001b[0m eta \u001b[36m0:00:00\u001b[0m\n",
            "\u001b[?25h\u001b[?25l   \u001b[90m━━━━━━━━━━━━━━━━━━━━━━━━━━━━━━━━━━━━━━━━\u001b[0m \u001b[32m0.0/670.8 kB\u001b[0m \u001b[31m?\u001b[0m eta \u001b[36m-:--:--\u001b[0m\r\u001b[2K   \u001b[90m━━━━━━━━━━━━━━━━━━━━━━━━━━━━━━━━━━━━━━━━\u001b[0m \u001b[32m670.8/670.8 kB\u001b[0m \u001b[31m30.0 MB/s\u001b[0m eta \u001b[36m0:00:00\u001b[0m\n",
            "\u001b[2K   \u001b[90m━━━━━━━━━━━━━━━━━━━━━━━━━━━━━━━━━━━━━━━━\u001b[0m \u001b[32m73.5/73.5 kB\u001b[0m \u001b[31m5.3 MB/s\u001b[0m eta \u001b[36m0:00:00\u001b[0m\n",
            "\u001b[2K   \u001b[90m━━━━━━━━━━━━━━━━━━━━━━━━━━━━━━━━━━━━━━━━\u001b[0m \u001b[32m430.5/430.5 kB\u001b[0m \u001b[31m28.0 MB/s\u001b[0m eta \u001b[36m0:00:00\u001b[0m\n",
            "\u001b[2K   \u001b[90m━━━━━━━━━━━━━━━━━━━━━━━━━━━━━━━━━━━━━━━━\u001b[0m \u001b[32m8.0/8.0 MB\u001b[0m \u001b[31m90.2 MB/s\u001b[0m eta \u001b[36m0:00:00\u001b[0m\n",
            "\u001b[2K   \u001b[90m━━━━━━━━━━━━━━━━━━━━━━━━━━━━━━━━━━━━━━━━\u001b[0m \u001b[32m31.8/31.8 MB\u001b[0m \u001b[31m48.6 MB/s\u001b[0m eta \u001b[36m0:00:00\u001b[0m\n",
            "\u001b[2K   \u001b[90m━━━━━━━━━━━━━━━━━━━━━━━━━━━━━━━━━━━━━━━━\u001b[0m \u001b[32m2.2/2.2 MB\u001b[0m \u001b[31m63.4 MB/s\u001b[0m eta \u001b[36m0:00:00\u001b[0m\n",
            "\u001b[2K   \u001b[90m━━━━━━━━━━━━━━━━━━━━━━━━━━━━━━━━━━━━━━━━\u001b[0m \u001b[32m49.5/49.5 kB\u001b[0m \u001b[31m3.1 MB/s\u001b[0m eta \u001b[36m0:00:00\u001b[0m\n",
            "\u001b[2K   \u001b[90m━━━━━━━━━━━━━━━━━━━━━━━━━━━━━━━━━━━━━━━━\u001b[0m \u001b[32m2.8/2.8 MB\u001b[0m \u001b[31m72.1 MB/s\u001b[0m eta \u001b[36m0:00:00\u001b[0m\n",
            "\u001b[?25h"
          ]
        }
      ],
      "source": [
        "# Gerekli kütüphaneleri yükleyelim (Colab hücresine)\n",
        "!pip install cirq qiskit qutip numpy matplotlib --quiet"
      ]
    },
    {
      "cell_type": "markdown",
      "source": [
        "QUANTUM COUNTING ALGORİTMASI"
      ],
      "metadata": {
        "id": "jklOD_ROUMON"
      }
    },
    {
      "cell_type": "markdown",
      "source": [
        "Cirq ile Quantum Counting Örneği"
      ],
      "metadata": {
        "id": "lYseZjfGUMRt"
      }
    },
    {
      "cell_type": "code",
      "source": [
        "import cirq\n",
        "import numpy as np\n",
        "\n",
        "# 2 qubitlik arama register + 2 qubit sayaç register\n",
        "search_qubits = [cirq.GridQubit(0,i) for i in range(2)]\n",
        "count_qubits = [cirq.GridQubit(1,i) for i in range(2)]\n",
        "\n",
        "# Basit oracle (çözüm |11>)\n",
        "oracle = cirq.Circuit(cirq.Z(search_qubits[0]).controlled_by(search_qubits[1]))\n",
        "\n",
        "# Grover diffusion operatörü\n",
        "def diffusion(qs):\n",
        "    return [cirq.H.on_each(*qs),\n",
        "            cirq.X.on_each(*qs),\n",
        "            cirq.Z.on_each(*qs),\n",
        "            cirq.X.on_each(*qs),\n",
        "            cirq.H.on_each(*qs)]\n",
        "\n",
        "# Sayaç register için Hadamard\n",
        "circuit = cirq.Circuit()\n",
        "circuit.append(cirq.H.on_each(*count_qubits))\n",
        "circuit.append(cirq.H.on_each(*search_qubits))\n",
        "\n",
        "# Basit 1 Grover iterasyonu\n",
        "circuit.append(oracle)\n",
        "circuit.append(diffusion(search_qubits))\n",
        "\n",
        "# Ölçüm\n",
        "circuit.append(cirq.measure(*search_qubits, key='result'))\n",
        "print(circuit)\n"
      ],
      "metadata": {
        "colab": {
          "base_uri": "https://localhost:8080/"
        },
        "id": "V4UBoDMuUMZe",
        "outputId": "527b161b-3aee-44f4-e5fe-18f225290512"
      },
      "execution_count": 3,
      "outputs": [
        {
          "output_type": "stream",
          "name": "stdout",
          "text": [
            "(0, 0): ───H───@───H───X───Z───X───H───M('result')───\n",
            "               │                       │\n",
            "(0, 1): ───H───@───H───X───Z───X───H───M─────────────\n",
            "\n",
            "(1, 0): ───H─────────────────────────────────────────\n",
            "\n",
            "(1, 1): ───H─────────────────────────────────────────\n"
          ]
        }
      ]
    },
    {
      "cell_type": "markdown",
      "source": [
        "Qiskit ile Quantum Counting Örneği"
      ],
      "metadata": {
        "id": "3rCOA6W4UMfT"
      }
    },
    {
      "cell_type": "code",
      "source": [
        "from qiskit import QuantumCircuit, Aer, execute\n",
        "from qiskit.circuit.library import GroverOperator\n",
        "import numpy as np\n",
        "\n",
        "# 2 qubitlik arama register + 2 qubit sayaç\n",
        "qc = QuantumCircuit(4,2)\n",
        "\n",
        "# Sayaç register Hadamard\n",
        "qc.h([0,1])\n",
        "\n",
        "# Arama register başlangıç (Hadamard)\n",
        "qc.h([2,3])\n",
        "\n",
        "# Basit oracle: çözüm |11>\n",
        "qc.cz(2,3)\n",
        "\n",
        "# Grover diffusion\n",
        "qc.h([2,3])\n",
        "qc.x([2,3])\n",
        "qc.cz(2,3)\n",
        "qc.x([2,3])\n",
        "qc.h([2,3])\n",
        "\n",
        "# Ölçüm\n",
        "qc.measure([2,3],[0,1])\n",
        "\n",
        "backend = Aer.get_backend('qasm_simulator')\n",
        "result = execute(qc, backend, shots=1024).result()\n",
        "counts = result.get_counts()\n",
        "print(counts)\n"
      ],
      "metadata": {
        "colab": {
          "base_uri": "https://localhost:8080/",
          "height": 384
        },
        "id": "qC_fCWUDUMjq",
        "outputId": "a705cae9-76c4-47d1-ba92-e28728ea1bbb"
      },
      "execution_count": 4,
      "outputs": [
        {
          "output_type": "error",
          "ename": "ImportError",
          "evalue": "cannot import name 'Aer' from 'qiskit' (/usr/local/lib/python3.12/dist-packages/qiskit/__init__.py)",
          "traceback": [
            "\u001b[0;31m---------------------------------------------------------------------------\u001b[0m",
            "\u001b[0;31mImportError\u001b[0m                               Traceback (most recent call last)",
            "\u001b[0;32m/tmp/ipython-input-3940011967.py\u001b[0m in \u001b[0;36m<cell line: 0>\u001b[0;34m()\u001b[0m\n\u001b[0;32m----> 1\u001b[0;31m \u001b[0;32mfrom\u001b[0m \u001b[0mqiskit\u001b[0m \u001b[0;32mimport\u001b[0m \u001b[0mQuantumCircuit\u001b[0m\u001b[0;34m,\u001b[0m \u001b[0mAer\u001b[0m\u001b[0;34m,\u001b[0m \u001b[0mexecute\u001b[0m\u001b[0;34m\u001b[0m\u001b[0;34m\u001b[0m\u001b[0m\n\u001b[0m\u001b[1;32m      2\u001b[0m \u001b[0;32mfrom\u001b[0m \u001b[0mqiskit\u001b[0m\u001b[0;34m.\u001b[0m\u001b[0mcircuit\u001b[0m\u001b[0;34m.\u001b[0m\u001b[0mlibrary\u001b[0m \u001b[0;32mimport\u001b[0m \u001b[0mGroverOperator\u001b[0m\u001b[0;34m\u001b[0m\u001b[0;34m\u001b[0m\u001b[0m\n\u001b[1;32m      3\u001b[0m \u001b[0;32mimport\u001b[0m \u001b[0mnumpy\u001b[0m \u001b[0;32mas\u001b[0m \u001b[0mnp\u001b[0m\u001b[0;34m\u001b[0m\u001b[0;34m\u001b[0m\u001b[0m\n\u001b[1;32m      4\u001b[0m \u001b[0;34m\u001b[0m\u001b[0m\n\u001b[1;32m      5\u001b[0m \u001b[0;31m# 2 qubitlik arama register + 2 qubit sayaç\u001b[0m\u001b[0;34m\u001b[0m\u001b[0;34m\u001b[0m\u001b[0m\n",
            "\u001b[0;31mImportError\u001b[0m: cannot import name 'Aer' from 'qiskit' (/usr/local/lib/python3.12/dist-packages/qiskit/__init__.py)",
            "",
            "\u001b[0;31m---------------------------------------------------------------------------\u001b[0;32m\nNOTE: If your import is failing due to a missing package, you can\nmanually install dependencies using either !pip or !apt.\n\nTo view examples of installing some common dependencies, click the\n\"Open Examples\" button below.\n\u001b[0;31m---------------------------------------------------------------------------\u001b[0m\n"
          ],
          "errorDetails": {
            "actions": [
              {
                "action": "open_url",
                "actionText": "Open Examples",
                "url": "/notebooks/snippets/importing_libraries.ipynb"
              }
            ]
          }
        }
      ]
    },
    {
      "cell_type": "markdown",
      "source": [
        "QuTiP ile Quantum Counting Simülasyonu"
      ],
      "metadata": {
        "id": "2og6V2jVUMoU"
      }
    },
    {
      "cell_type": "code",
      "source": [
        "import qutip as qt\n",
        "import numpy as np\n",
        "\n",
        "# 2 qubit arama register\n",
        "n = 2\n",
        "psi0 = qt.tensor([qt.basis(2,0) for _ in range(n)])\n",
        "# Grover operatörü (basit oracle + diffusion)\n",
        "oracle = qt.tensor([qt.qeye(2), qt.qeye(2)])\n",
        "diffusion = qt.tensor([qt.qeye(2), qt.qeye(2)])\n",
        "G = oracle * diffusion\n",
        "\n",
        "# Quantum counting: QPE simülasyonu (basitleştirilmiş)\n",
        "theta = np.pi / 3  # varsayım: çözüm sayısını kodlayan açı\n",
        "M = 2  # tahmini çözüm sayısı\n",
        "print(\"Tahmini çözüm sayısı M =\", M)\n"
      ],
      "metadata": {
        "colab": {
          "base_uri": "https://localhost:8080/"
        },
        "id": "Sj66xeOvUMsG",
        "outputId": "a97370f3-decd-42dd-8ef4-e9f33518480b"
      },
      "execution_count": 5,
      "outputs": [
        {
          "output_type": "stream",
          "name": "stdout",
          "text": [
            "Tahmini çözüm sayısı M = 2\n"
          ]
        }
      ]
    },
    {
      "cell_type": "markdown",
      "source": [
        "AMPLITUDE ESTIMATION ALGORİTMASI"
      ],
      "metadata": {
        "id": "DvD8YEEFUMzK"
      }
    },
    {
      "cell_type": "markdown",
      "source": [
        "Qiskit ile Küçük Örnek"
      ],
      "metadata": {
        "id": "paNt_RaMUM16"
      }
    },
    {
      "cell_type": "code",
      "source": [
        "from qiskit import QuantumCircuit, Aer, execute\n",
        "from qiskit.circuit.library import GroverOperator\n",
        "import numpy as np\n",
        "\n",
        "# Örnek: a = 0.25 olacak şekilde A operatörü\n",
        "qc = QuantumCircuit(2,1)\n",
        "\n",
        "# Başlangıç devresi: sqrt(a)|1> + sqrt(1-a)|0>\n",
        "theta = 2*np.arcsin(np.sqrt(0.25))\n",
        "qc.ry(theta, 1)\n",
        "qc.cx(1, 0)  # Basit Grover benzeri kontrol\n",
        "\n",
        "# Ölçüm\n",
        "qc.measure(1,0)\n",
        "\n",
        "backend = Aer.get_backend('qasm_simulator')\n",
        "result = execute(qc, backend, shots=1024).result()\n",
        "counts = result.get_counts()\n",
        "a_estimate = counts.get('1',0)/1024\n",
        "print(f\"Tahmini olasılık a ≈ {a_estimate}\")\n"
      ],
      "metadata": {
        "colab": {
          "base_uri": "https://localhost:8080/",
          "height": 384
        },
        "id": "ByHSL0ERUM-Y",
        "outputId": "923d1488-c50d-4617-dad0-8383e83f28fd"
      },
      "execution_count": 7,
      "outputs": [
        {
          "output_type": "error",
          "ename": "ImportError",
          "evalue": "cannot import name 'Aer' from 'qiskit' (/usr/local/lib/python3.12/dist-packages/qiskit/__init__.py)",
          "traceback": [
            "\u001b[0;31m---------------------------------------------------------------------------\u001b[0m",
            "\u001b[0;31mImportError\u001b[0m                               Traceback (most recent call last)",
            "\u001b[0;32m/tmp/ipython-input-1762833262.py\u001b[0m in \u001b[0;36m<cell line: 0>\u001b[0;34m()\u001b[0m\n\u001b[0;32m----> 1\u001b[0;31m \u001b[0;32mfrom\u001b[0m \u001b[0mqiskit\u001b[0m \u001b[0;32mimport\u001b[0m \u001b[0mQuantumCircuit\u001b[0m\u001b[0;34m,\u001b[0m \u001b[0mAer\u001b[0m\u001b[0;34m,\u001b[0m \u001b[0mexecute\u001b[0m\u001b[0;34m\u001b[0m\u001b[0;34m\u001b[0m\u001b[0m\n\u001b[0m\u001b[1;32m      2\u001b[0m \u001b[0;32mfrom\u001b[0m \u001b[0mqiskit\u001b[0m\u001b[0;34m.\u001b[0m\u001b[0mcircuit\u001b[0m\u001b[0;34m.\u001b[0m\u001b[0mlibrary\u001b[0m \u001b[0;32mimport\u001b[0m \u001b[0mGroverOperator\u001b[0m\u001b[0;34m\u001b[0m\u001b[0;34m\u001b[0m\u001b[0m\n\u001b[1;32m      3\u001b[0m \u001b[0;32mimport\u001b[0m \u001b[0mnumpy\u001b[0m \u001b[0;32mas\u001b[0m \u001b[0mnp\u001b[0m\u001b[0;34m\u001b[0m\u001b[0;34m\u001b[0m\u001b[0m\n\u001b[1;32m      4\u001b[0m \u001b[0;34m\u001b[0m\u001b[0m\n\u001b[1;32m      5\u001b[0m \u001b[0;31m# Örnek: a = 0.25 olacak şekilde A operatörü\u001b[0m\u001b[0;34m\u001b[0m\u001b[0;34m\u001b[0m\u001b[0m\n",
            "\u001b[0;31mImportError\u001b[0m: cannot import name 'Aer' from 'qiskit' (/usr/local/lib/python3.12/dist-packages/qiskit/__init__.py)",
            "",
            "\u001b[0;31m---------------------------------------------------------------------------\u001b[0;32m\nNOTE: If your import is failing due to a missing package, you can\nmanually install dependencies using either !pip or !apt.\n\nTo view examples of installing some common dependencies, click the\n\"Open Examples\" button below.\n\u001b[0;31m---------------------------------------------------------------------------\u001b[0m\n"
          ],
          "errorDetails": {
            "actions": [
              {
                "action": "open_url",
                "actionText": "Open Examples",
                "url": "/notebooks/snippets/importing_libraries.ipynb"
              }
            ]
          }
        }
      ]
    },
    {
      "cell_type": "markdown",
      "source": [
        "Cirq ile Küçük Örnek"
      ],
      "metadata": {
        "id": "uJZldl5WUND5"
      }
    },
    {
      "cell_type": "code",
      "source": [
        "import cirq\n",
        "import numpy as np\n",
        "\n",
        "q0, q1 = cirq.LineQubit.range(2)\n",
        "circuit = cirq.Circuit()\n",
        "\n",
        "# A operatörü: a=0.25\n",
        "theta = 2 * np.arcsin(np.sqrt(0.25))\n",
        "circuit.append(cirq.ry(theta)(q1))\n",
        "circuit.append(cirq.CNOT(q1, q0))\n",
        "\n",
        "# Ölçüm\n",
        "circuit.append(cirq.measure(q1, key='m'))\n",
        "\n",
        "simulator = cirq.Simulator()\n",
        "result = simulator.run(circuit, repetitions=1024)\n",
        "a_estimate = np.mean(result.measurements['m'])\n",
        "print(f\"Tahmini olasılık a ≈ {a_estimate}\")\n"
      ],
      "metadata": {
        "colab": {
          "base_uri": "https://localhost:8080/"
        },
        "id": "Lup1N_8hUNIW",
        "outputId": "3ae5afe1-6ca1-4a1d-cf88-f5c0968b212d"
      },
      "execution_count": 8,
      "outputs": [
        {
          "output_type": "stream",
          "name": "stdout",
          "text": [
            "Tahmini olasılık a ≈ 0.24609375\n"
          ]
        }
      ]
    },
    {
      "cell_type": "markdown",
      "source": [
        "Qutip\n"
      ],
      "metadata": {
        "id": "K0BeVm7iUNNk"
      }
    },
    {
      "cell_type": "code",
      "source": [
        "import numpy as np\n",
        "from qutip import basis, tensor, qeye, rx, cnot, measurement_statistics_povm\n",
        "\n",
        "# Başlangıç durumu |0>|0>\n",
        "psi0 = tensor(basis(2,0), basis(2,0))\n",
        "\n",
        "# Hedef olasılık a = 0.25\n",
        "a = 0.25\n",
        "theta = 2 * np.arcsin(np.sqrt(a))\n",
        "\n",
        "# A operatörü: |0>|0> -> sqrt(1-a)|ψ0>|0> + sqrt(a)|ψ1>|1>\n",
        "# Burada 2. qubit üzerinde rotasyon\n",
        "U_A = rx(theta)\n",
        "psi = U_A * psi0.ptrace(1)  # sadece hedef qubit\n",
        "\n",
        "# Toplam durum (basitleştirilmiş)\n",
        "psi_total = tensor(basis(2,0), psi)\n",
        "\n",
        "# POVM ölçümü\n",
        "p0 = (psi_total.dag() * tensor(basis(2,0)*basis(2,0).dag(), qeye(2)) * psi_total).tr()\n",
        "p1 = (psi_total.dag() * tensor(basis(2,1)*basis(2,1).dag(), qeye(2)) * psi_total).tr()\n",
        "\n",
        "print(f\"Tahmini olasılık a ≈ {p1:.3f}\")\n"
      ],
      "metadata": {
        "colab": {
          "base_uri": "https://localhost:8080/",
          "height": 384
        },
        "id": "NOl6wYgFUNRb",
        "outputId": "3886b1e6-0264-4c80-acc9-a13be91391e5"
      },
      "execution_count": 9,
      "outputs": [
        {
          "output_type": "error",
          "ename": "ImportError",
          "evalue": "cannot import name 'rx' from 'qutip' (/usr/local/lib/python3.12/dist-packages/qutip/__init__.py)",
          "traceback": [
            "\u001b[0;31m---------------------------------------------------------------------------\u001b[0m",
            "\u001b[0;31mImportError\u001b[0m                               Traceback (most recent call last)",
            "\u001b[0;32m/tmp/ipython-input-2041606118.py\u001b[0m in \u001b[0;36m<cell line: 0>\u001b[0;34m()\u001b[0m\n\u001b[1;32m      1\u001b[0m \u001b[0;32mimport\u001b[0m \u001b[0mnumpy\u001b[0m \u001b[0;32mas\u001b[0m \u001b[0mnp\u001b[0m\u001b[0;34m\u001b[0m\u001b[0;34m\u001b[0m\u001b[0m\n\u001b[0;32m----> 2\u001b[0;31m \u001b[0;32mfrom\u001b[0m \u001b[0mqutip\u001b[0m \u001b[0;32mimport\u001b[0m \u001b[0mbasis\u001b[0m\u001b[0;34m,\u001b[0m \u001b[0mtensor\u001b[0m\u001b[0;34m,\u001b[0m \u001b[0mqeye\u001b[0m\u001b[0;34m,\u001b[0m \u001b[0mrx\u001b[0m\u001b[0;34m,\u001b[0m \u001b[0mcnot\u001b[0m\u001b[0;34m,\u001b[0m \u001b[0mmeasurement_statistics_povm\u001b[0m\u001b[0;34m\u001b[0m\u001b[0;34m\u001b[0m\u001b[0m\n\u001b[0m\u001b[1;32m      3\u001b[0m \u001b[0;34m\u001b[0m\u001b[0m\n\u001b[1;32m      4\u001b[0m \u001b[0;31m# Başlangıç durumu |0>|0>\u001b[0m\u001b[0;34m\u001b[0m\u001b[0;34m\u001b[0m\u001b[0m\n\u001b[1;32m      5\u001b[0m \u001b[0mpsi0\u001b[0m \u001b[0;34m=\u001b[0m \u001b[0mtensor\u001b[0m\u001b[0;34m(\u001b[0m\u001b[0mbasis\u001b[0m\u001b[0;34m(\u001b[0m\u001b[0;36m2\u001b[0m\u001b[0;34m,\u001b[0m\u001b[0;36m0\u001b[0m\u001b[0;34m)\u001b[0m\u001b[0;34m,\u001b[0m \u001b[0mbasis\u001b[0m\u001b[0;34m(\u001b[0m\u001b[0;36m2\u001b[0m\u001b[0;34m,\u001b[0m\u001b[0;36m0\u001b[0m\u001b[0;34m)\u001b[0m\u001b[0;34m)\u001b[0m\u001b[0;34m\u001b[0m\u001b[0;34m\u001b[0m\u001b[0m\n",
            "\u001b[0;31mImportError\u001b[0m: cannot import name 'rx' from 'qutip' (/usr/local/lib/python3.12/dist-packages/qutip/__init__.py)",
            "",
            "\u001b[0;31m---------------------------------------------------------------------------\u001b[0;32m\nNOTE: If your import is failing due to a missing package, you can\nmanually install dependencies using either !pip or !apt.\n\nTo view examples of installing some common dependencies, click the\n\"Open Examples\" button below.\n\u001b[0;31m---------------------------------------------------------------------------\u001b[0m\n"
          ],
          "errorDetails": {
            "actions": [
              {
                "action": "open_url",
                "actionText": "Open Examples",
                "url": "/notebooks/snippets/importing_libraries.ipynb"
              }
            ]
          }
        }
      ]
    },
    {
      "cell_type": "markdown",
      "source": [
        "QUANTUM RANDOM WALK ALGORİTMALARI"
      ],
      "metadata": {
        "id": "mGtvOvrQUNYo"
      }
    },
    {
      "cell_type": "markdown",
      "source": [
        "Cirq ile 1D Kuantum Random Walk"
      ],
      "metadata": {
        "id": "XtyT8Y-2UNbc"
      }
    },
    {
      "cell_type": "code",
      "source": [
        "import cirq\n",
        "import numpy as np\n",
        "\n",
        "# Qubitler: 1 coin, 3 konum (2^2=4 konum)\n",
        "coin = cirq.NamedQubit(\"coin\")\n",
        "positions = [cirq.NamedQubit(f\"pos{i}\") for i in range(2)]  # 2 qubit = 4 konum\n",
        "\n",
        "# Coin operatörü (Hadamard)\n",
        "def coin_op():\n",
        "    return cirq.H(coin)\n",
        "\n",
        "# Shift operatörü\n",
        "def shift_op():\n",
        "    # Basit örnek: 1 adım sola veya sağa\n",
        "    return [\n",
        "        cirq.CNOT(coin, positions[0]),\n",
        "        cirq.CNOT(coin, positions[1])\n",
        "    ]\n",
        "\n",
        "# Devre oluşturma\n",
        "circuit = cirq.Circuit()\n",
        "circuit.append(coin_op())\n",
        "circuit.append(shift_op())\n",
        "\n",
        "# Birkaç adım tekrarlamak için\n",
        "steps = 3\n",
        "for _ in range(steps):\n",
        "    circuit.append(coin_op())\n",
        "    circuit.append(shift_op())\n",
        "\n",
        "print(circuit)\n",
        "\n",
        "# Simülasyon\n",
        "simulator = cirq.Simulator()\n",
        "result = simulator.simulate(circuit)\n",
        "print(result.final_state_vector)\n"
      ],
      "metadata": {
        "colab": {
          "base_uri": "https://localhost:8080/"
        },
        "id": "Goiyh6gFUNmq",
        "outputId": "eecc5c0d-d36f-4661-e3b2-9fe97cc14415"
      },
      "execution_count": 11,
      "outputs": [
        {
          "output_type": "stream",
          "name": "stdout",
          "text": [
            "coin: ───H───@───@───H───@───@───H───@───@───H───@───@───\n",
            "             │   │       │   │       │   │       │   │\n",
            "pos0: ───────X───┼───────X───┼───────X───┼───────X───┼───\n",
            "                 │           │           │           │\n",
            "pos1: ───────────X───────────X───────────X───────────X───\n",
            "[ 0.+0.j  0.+0.j  0.+0.j  1.+0.j -0.+0.j -0.+0.j -0.+0.j  0.+0.j]\n"
          ]
        }
      ]
    },
    {
      "cell_type": "markdown",
      "source": [
        "Qiskit ile 1D Kuantum Random Walk"
      ],
      "metadata": {
        "id": "EdX1Y_neUNsJ"
      }
    },
    {
      "cell_type": "code",
      "source": [
        "from qiskit import QuantumCircuit, Aer, execute\n",
        "import numpy as np\n",
        "\n",
        "# Qubitler: 1 coin, 2 konum qubit\n",
        "qc = QuantumCircuit(3)\n",
        "\n",
        "# Başlangıç durumu: coin |0>, konum |00>\n",
        "qc.h(0)  # Coin Hadamard\n",
        "\n",
        "# Shift operatörü (basitleştirilmiş)\n",
        "qc.cx(0,1)\n",
        "qc.cx(0,2)\n",
        "\n",
        "# Birkaç adım\n",
        "steps = 3\n",
        "for _ in range(steps):\n",
        "    qc.h(0)      # coin\n",
        "    qc.cx(0,1)   # shift\n",
        "    qc.cx(0,2)\n",
        "\n",
        "print(qc.draw())\n",
        "\n",
        "# Simülasyon\n",
        "backend = Aer.get_backend('statevector_simulator')\n",
        "result = execute(qc, backend).result()\n",
        "state = result.get_statevector()\n",
        "print(state)\n"
      ],
      "metadata": {
        "colab": {
          "base_uri": "https://localhost:8080/",
          "height": 384
        },
        "id": "2N67uZKxUNxE",
        "outputId": "21d07bcd-72f1-46a9-da02-df20623c2610"
      },
      "execution_count": 12,
      "outputs": [
        {
          "output_type": "error",
          "ename": "ImportError",
          "evalue": "cannot import name 'Aer' from 'qiskit' (/usr/local/lib/python3.12/dist-packages/qiskit/__init__.py)",
          "traceback": [
            "\u001b[0;31m---------------------------------------------------------------------------\u001b[0m",
            "\u001b[0;31mImportError\u001b[0m                               Traceback (most recent call last)",
            "\u001b[0;32m/tmp/ipython-input-2473190572.py\u001b[0m in \u001b[0;36m<cell line: 0>\u001b[0;34m()\u001b[0m\n\u001b[0;32m----> 1\u001b[0;31m \u001b[0;32mfrom\u001b[0m \u001b[0mqiskit\u001b[0m \u001b[0;32mimport\u001b[0m \u001b[0mQuantumCircuit\u001b[0m\u001b[0;34m,\u001b[0m \u001b[0mAer\u001b[0m\u001b[0;34m,\u001b[0m \u001b[0mexecute\u001b[0m\u001b[0;34m\u001b[0m\u001b[0;34m\u001b[0m\u001b[0m\n\u001b[0m\u001b[1;32m      2\u001b[0m \u001b[0;32mimport\u001b[0m \u001b[0mnumpy\u001b[0m \u001b[0;32mas\u001b[0m \u001b[0mnp\u001b[0m\u001b[0;34m\u001b[0m\u001b[0;34m\u001b[0m\u001b[0m\n\u001b[1;32m      3\u001b[0m \u001b[0;34m\u001b[0m\u001b[0m\n\u001b[1;32m      4\u001b[0m \u001b[0;31m# Qubitler: 1 coin, 2 konum qubit\u001b[0m\u001b[0;34m\u001b[0m\u001b[0;34m\u001b[0m\u001b[0m\n\u001b[1;32m      5\u001b[0m \u001b[0mqc\u001b[0m \u001b[0;34m=\u001b[0m \u001b[0mQuantumCircuit\u001b[0m\u001b[0;34m(\u001b[0m\u001b[0;36m3\u001b[0m\u001b[0;34m)\u001b[0m\u001b[0;34m\u001b[0m\u001b[0;34m\u001b[0m\u001b[0m\n",
            "\u001b[0;31mImportError\u001b[0m: cannot import name 'Aer' from 'qiskit' (/usr/local/lib/python3.12/dist-packages/qiskit/__init__.py)",
            "",
            "\u001b[0;31m---------------------------------------------------------------------------\u001b[0;32m\nNOTE: If your import is failing due to a missing package, you can\nmanually install dependencies using either !pip or !apt.\n\nTo view examples of installing some common dependencies, click the\n\"Open Examples\" button below.\n\u001b[0;31m---------------------------------------------------------------------------\u001b[0m\n"
          ],
          "errorDetails": {
            "actions": [
              {
                "action": "open_url",
                "actionText": "Open Examples",
                "url": "/notebooks/snippets/importing_libraries.ipynb"
              }
            ]
          }
        }
      ]
    },
    {
      "cell_type": "markdown",
      "source": [
        "QuTiP ile 1D Kuantum Random Walk (state-vector tabanlı)"
      ],
      "metadata": {
        "id": "qULwLW-lUN2A"
      }
    },
    {
      "cell_type": "code",
      "source": [
        "import numpy as np\n",
        "from qutip import basis, tensor, qeye, hadamard_transform\n",
        "\n",
        "# 1 coin qubit + 2 konum qubit = 4 konum\n",
        "coin_dim = 2\n",
        "pos_dim = 4\n",
        "\n",
        "# Başlangıç: coin |0>, konum |0>\n",
        "psi = tensor(basis(2,0), basis(4,0))\n",
        "\n",
        "# Coin operatörü (Hadamard)\n",
        "H_coin = hadamard_transform(1)\n",
        "\n",
        "# Shift operatörü: basit mod 4 adımı\n",
        "S = np.zeros((8,8))\n",
        "for i in range(4):\n",
        "    S[i*2, i*2] = 1  # coin=0, sola\n",
        "    S[i*2+1, (i*2+3)%8] = 1  # coin=1, sağa\n",
        "\n",
        "# 1 adım operatörü\n",
        "U = S @ np.kron(H_coin.full(), np.eye(4))\n",
        "\n",
        "# 3 adım QRW\n",
        "for _ in range(3):\n",
        "    psi = U @ psi.full()\n",
        "\n",
        "print(\"Final state vector:\")\n",
        "print(psi)\n"
      ],
      "metadata": {
        "colab": {
          "base_uri": "https://localhost:8080/",
          "height": 384
        },
        "id": "9aIVnZqeUN6X",
        "outputId": "ef1b4781-cca3-4369-c6a2-3443196e532f"
      },
      "execution_count": 13,
      "outputs": [
        {
          "output_type": "error",
          "ename": "ImportError",
          "evalue": "cannot import name 'hadamard_transform' from 'qutip' (/usr/local/lib/python3.12/dist-packages/qutip/__init__.py)",
          "traceback": [
            "\u001b[0;31m---------------------------------------------------------------------------\u001b[0m",
            "\u001b[0;31mImportError\u001b[0m                               Traceback (most recent call last)",
            "\u001b[0;32m/tmp/ipython-input-1118183504.py\u001b[0m in \u001b[0;36m<cell line: 0>\u001b[0;34m()\u001b[0m\n\u001b[1;32m      1\u001b[0m \u001b[0;32mimport\u001b[0m \u001b[0mnumpy\u001b[0m \u001b[0;32mas\u001b[0m \u001b[0mnp\u001b[0m\u001b[0;34m\u001b[0m\u001b[0;34m\u001b[0m\u001b[0m\n\u001b[0;32m----> 2\u001b[0;31m \u001b[0;32mfrom\u001b[0m \u001b[0mqutip\u001b[0m \u001b[0;32mimport\u001b[0m \u001b[0mbasis\u001b[0m\u001b[0;34m,\u001b[0m \u001b[0mtensor\u001b[0m\u001b[0;34m,\u001b[0m \u001b[0mqeye\u001b[0m\u001b[0;34m,\u001b[0m \u001b[0mhadamard_transform\u001b[0m\u001b[0;34m\u001b[0m\u001b[0;34m\u001b[0m\u001b[0m\n\u001b[0m\u001b[1;32m      3\u001b[0m \u001b[0;34m\u001b[0m\u001b[0m\n\u001b[1;32m      4\u001b[0m \u001b[0;31m# 1 coin qubit + 2 konum qubit = 4 konum\u001b[0m\u001b[0;34m\u001b[0m\u001b[0;34m\u001b[0m\u001b[0m\n\u001b[1;32m      5\u001b[0m \u001b[0mcoin_dim\u001b[0m \u001b[0;34m=\u001b[0m \u001b[0;36m2\u001b[0m\u001b[0;34m\u001b[0m\u001b[0;34m\u001b[0m\u001b[0m\n",
            "\u001b[0;31mImportError\u001b[0m: cannot import name 'hadamard_transform' from 'qutip' (/usr/local/lib/python3.12/dist-packages/qutip/__init__.py)",
            "",
            "\u001b[0;31m---------------------------------------------------------------------------\u001b[0;32m\nNOTE: If your import is failing due to a missing package, you can\nmanually install dependencies using either !pip or !apt.\n\nTo view examples of installing some common dependencies, click the\n\"Open Examples\" button below.\n\u001b[0;31m---------------------------------------------------------------------------\u001b[0m\n"
          ],
          "errorDetails": {
            "actions": [
              {
                "action": "open_url",
                "actionText": "Open Examples",
                "url": "/notebooks/snippets/importing_libraries.ipynb"
              }
            ]
          }
        }
      ]
    },
    {
      "cell_type": "markdown",
      "source": [
        "QUANTUM GIBBS SAMPLING"
      ],
      "metadata": {
        "id": "3PGM6g5eVmwL"
      }
    },
    {
      "cell_type": "markdown",
      "source": [
        "QuTiP ile Quantum Gibbs State"
      ],
      "metadata": {
        "id": "c34C5Yo9Vm1I"
      }
    },
    {
      "cell_type": "code",
      "source": [
        "import numpy as np\n",
        "from qutip import thermal_dm, basis, tensor, sigmax, sigmaz, qeye, Qobj, expect\n",
        "\n",
        "# Örnek: 1 qubit Hamiltonyen\n",
        "beta = 1.0  # ters sıcaklık\n",
        "H = 0.5 * sigmaz()  # simple Hamiltonian\n",
        "\n",
        "# Gibbs durumu (thermal state)\n",
        "rho_beta = thermal_dm(H.dims[0][0], beta * 1.0)  # qubit için\n",
        "\n",
        "print(\"Gibbs density matrix:\")\n",
        "print(rho_beta)\n",
        "\n",
        "# Örnek: ölçüm (sigma_z beklenen değeri)\n",
        "exp_val = expect(sigmaz(), rho_beta)\n",
        "print(\"Expectation <Z>:\", exp_val)\n"
      ],
      "metadata": {
        "colab": {
          "base_uri": "https://localhost:8080/"
        },
        "id": "e5mKpRKHVm77",
        "outputId": "5be45cf8-38e9-4c70-fbfb-7322240c8d40"
      },
      "execution_count": 14,
      "outputs": [
        {
          "output_type": "stream",
          "name": "stdout",
          "text": [
            "Gibbs density matrix:\n",
            "Quantum object: dims=[[2], [2]], shape=(2, 2), type='oper', dtype=Dia, isherm=True\n",
            "Qobj data =\n",
            "[[0.66666667 0.        ]\n",
            " [0.         0.33333333]]\n",
            "Expectation <Z>: 0.3333333333333333\n"
          ]
        }
      ]
    },
    {
      "cell_type": "markdown",
      "source": [
        "Cirq ile Imaginary Time Evolution (yaklaşık QITE)"
      ],
      "metadata": {
        "id": "9nS2TotgVnE6"
      }
    },
    {
      "cell_type": "code",
      "source": [
        "import cirq\n",
        "import numpy as np\n",
        "\n",
        "# 1 qubit\n",
        "q = cirq.GridQubit(0,0)\n",
        "circuit = cirq.Circuit()\n",
        "\n",
        "# Basit Hamiltonian: H = Z\n",
        "H = cirq.Z(q)\n",
        "\n",
        "# Başlangıç durumu: |0>\n",
        "circuit.append(cirq.H(q))  # süperpozisyon\n",
        "\n",
        "# Imaginary time evolution: U = exp(-beta H)\n",
        "beta = 1.0\n",
        "theta = -1j * beta  # -i H t, t -> -i beta\n",
        "circuit.append(cirq.rz(2 * beta)(q))  # yaklaşık küçük beta için\n",
        "\n",
        "simulator = cirq.Simulator()\n",
        "result = simulator.simulate(circuit)\n",
        "print(\"State vector after imaginary time evolution:\")\n",
        "print(result.final_state_vector)\n"
      ],
      "metadata": {
        "colab": {
          "base_uri": "https://localhost:8080/"
        },
        "id": "bnhH3WTgVnKX",
        "outputId": "3f45d30f-2299-43df-f85e-3dc9e4c91f5d"
      },
      "execution_count": 15,
      "outputs": [
        {
          "output_type": "stream",
          "name": "stdout",
          "text": [
            "State vector after imaginary time evolution:\n",
            "[0.38205147-0.59500986j 0.3820514 +0.59500986j]\n"
          ]
        }
      ]
    },
    {
      "cell_type": "markdown",
      "source": [
        "Qiskit ile Termal State Hazırlama (basit örnek)"
      ],
      "metadata": {
        "id": "4M5G5luVVnPZ"
      }
    },
    {
      "cell_type": "code",
      "source": [
        "from qiskit import QuantumCircuit, Aer, execute\n",
        "from qiskit.quantum_info import DensityMatrix, partial_trace\n",
        "import numpy as np\n",
        "\n",
        "# Basit Hamiltonian: H = Z\n",
        "beta = 1.0\n",
        "p0 = np.exp(-beta * 0.5)\n",
        "p1 = np.exp(beta * 0.5)\n",
        "Z = p0 + p1\n",
        "p0 /= Z\n",
        "p1 /= Z\n",
        "\n",
        "# Density matrix: rho = diag(p0, p1)\n",
        "rho = DensityMatrix([[p0,0],[0,p1]])\n",
        "print(\"Gibbs state density matrix:\")\n",
        "print(rho.data)\n",
        "\n",
        "# Qiskit simülasyonu ile ölçüm\n",
        "backend = Aer.get_backend('statevector_simulator')\n",
        "qc = QuantumCircuit(1)\n",
        "result = execute(qc, backend, initial_state=rho).result()\n",
        "state = result.get_statevector()\n",
        "print(\"Statevector (from Gibbs state):\", state)\n"
      ],
      "metadata": {
        "colab": {
          "base_uri": "https://localhost:8080/",
          "height": 384
        },
        "id": "_znlkDSwVnUP",
        "outputId": "4334161c-65b5-4ee6-98dc-e3f94ce8a9ff"
      },
      "execution_count": 16,
      "outputs": [
        {
          "output_type": "error",
          "ename": "ImportError",
          "evalue": "cannot import name 'Aer' from 'qiskit' (/usr/local/lib/python3.12/dist-packages/qiskit/__init__.py)",
          "traceback": [
            "\u001b[0;31m---------------------------------------------------------------------------\u001b[0m",
            "\u001b[0;31mImportError\u001b[0m                               Traceback (most recent call last)",
            "\u001b[0;32m/tmp/ipython-input-802888256.py\u001b[0m in \u001b[0;36m<cell line: 0>\u001b[0;34m()\u001b[0m\n\u001b[0;32m----> 1\u001b[0;31m \u001b[0;32mfrom\u001b[0m \u001b[0mqiskit\u001b[0m \u001b[0;32mimport\u001b[0m \u001b[0mQuantumCircuit\u001b[0m\u001b[0;34m,\u001b[0m \u001b[0mAer\u001b[0m\u001b[0;34m,\u001b[0m \u001b[0mexecute\u001b[0m\u001b[0;34m\u001b[0m\u001b[0;34m\u001b[0m\u001b[0m\n\u001b[0m\u001b[1;32m      2\u001b[0m \u001b[0;32mfrom\u001b[0m \u001b[0mqiskit\u001b[0m\u001b[0;34m.\u001b[0m\u001b[0mquantum_info\u001b[0m \u001b[0;32mimport\u001b[0m \u001b[0mDensityMatrix\u001b[0m\u001b[0;34m,\u001b[0m \u001b[0mpartial_trace\u001b[0m\u001b[0;34m\u001b[0m\u001b[0;34m\u001b[0m\u001b[0m\n\u001b[1;32m      3\u001b[0m \u001b[0;32mimport\u001b[0m \u001b[0mnumpy\u001b[0m \u001b[0;32mas\u001b[0m \u001b[0mnp\u001b[0m\u001b[0;34m\u001b[0m\u001b[0;34m\u001b[0m\u001b[0m\n\u001b[1;32m      4\u001b[0m \u001b[0;34m\u001b[0m\u001b[0m\n\u001b[1;32m      5\u001b[0m \u001b[0;31m# Basit Hamiltonian: H = Z\u001b[0m\u001b[0;34m\u001b[0m\u001b[0;34m\u001b[0m\u001b[0m\n",
            "\u001b[0;31mImportError\u001b[0m: cannot import name 'Aer' from 'qiskit' (/usr/local/lib/python3.12/dist-packages/qiskit/__init__.py)",
            "",
            "\u001b[0;31m---------------------------------------------------------------------------\u001b[0;32m\nNOTE: If your import is failing due to a missing package, you can\nmanually install dependencies using either !pip or !apt.\n\nTo view examples of installing some common dependencies, click the\n\"Open Examples\" button below.\n\u001b[0;31m---------------------------------------------------------------------------\u001b[0m\n"
          ],
          "errorDetails": {
            "actions": [
              {
                "action": "open_url",
                "actionText": "Open Examples",
                "url": "/notebooks/snippets/importing_libraries.ipynb"
              }
            ]
          }
        }
      ]
    },
    {
      "cell_type": "markdown",
      "source": [
        "QUANTUM MONTE CARLO"
      ],
      "metadata": {
        "id": "7mNtOd6OVngK"
      }
    },
    {
      "cell_type": "markdown",
      "source": [
        "QuTiP ile Variational Monte Carlo (VMC) örneği"
      ],
      "metadata": {
        "id": "-AlNJ9KNVnkI"
      }
    },
    {
      "cell_type": "code",
      "source": [
        "import numpy as np\n",
        "from qutip import sigmax, sigmaz, basis, expect\n",
        "\n",
        "# 1-qubit Hamiltonian H = X + Z\n",
        "H = sigmax() + sigmaz()\n",
        "\n",
        "# Trial state |psi_T> = cos(theta)|0> + sin(theta)|1>\n",
        "theta = np.pi/4\n",
        "psi_T = np.cos(theta)*basis(2,0) + np.sin(theta)*basis(2,1)\n",
        "\n",
        "# Energy expectation\n",
        "E = expect(H, psi_T)\n",
        "print(\"Trial state energy <H>:\", E)\n"
      ],
      "metadata": {
        "colab": {
          "base_uri": "https://localhost:8080/"
        },
        "id": "1m-l1SHqVnq8",
        "outputId": "764352d1-cbf1-45dc-c472-7805ee098e84"
      },
      "execution_count": 17,
      "outputs": [
        {
          "output_type": "stream",
          "name": "stdout",
          "text": [
            "Trial state energy <H>: 1.0\n"
          ]
        }
      ]
    },
    {
      "cell_type": "markdown",
      "source": [
        "Cirq ile Quantum Monte Carlo (Amplitude Estimation tabanlı)"
      ],
      "metadata": {
        "id": "rpafFA7YVnwY"
      }
    },
    {
      "cell_type": "code",
      "source": [
        "import cirq\n",
        "import numpy as np\n",
        "\n",
        "# 1-qubit örnek\n",
        "q = cirq.GridQubit(0, 0)\n",
        "circuit = cirq.Circuit()\n",
        "\n",
        "# Başlangıç: |0> -> |psi>\n",
        "circuit.append(cirq.H(q))\n",
        "\n",
        "# Energy measurement operator: Z\n",
        "# Örnek: <H> = <Z>\n",
        "simulator = cirq.Simulator()\n",
        "result = simulator.simulate(circuit)\n",
        "state = result.final_state_vector\n",
        "\n",
        "# Energy expectation <Z>\n",
        "E = abs(state[0])**2 - abs(state[1])**2\n",
        "print(\"Energy expectation <Z>:\", E)\n"
      ],
      "metadata": {
        "colab": {
          "base_uri": "https://localhost:8080/"
        },
        "id": "FPihFMSBVn1E",
        "outputId": "668624df-cb21-4cbb-8a7a-f09d530ff477"
      },
      "execution_count": 18,
      "outputs": [
        {
          "output_type": "stream",
          "name": "stdout",
          "text": [
            "Energy expectation <Z>: 0.0\n"
          ]
        }
      ]
    },
    {
      "cell_type": "markdown",
      "source": [
        "Qiskit ile Quantum Monte Carlo / Amplitude Estimation"
      ],
      "metadata": {
        "id": "XPWRVMc_Vn51"
      }
    },
    {
      "cell_type": "code",
      "source": [
        "from qiskit import QuantumCircuit, Aer, execute\n",
        "from qiskit.quantum_info import Statevector\n",
        "import numpy as np\n",
        "\n",
        "# Trial state |psi> = H|0> = (|0> + |1>)/√2\n",
        "qc = QuantumCircuit(1)\n",
        "qc.h(0)\n",
        "\n",
        "backend = Aer.get_backend('statevector_simulator')\n",
        "result = execute(qc, backend).result()\n",
        "state = Statevector(result.get_statevector())\n",
        "\n",
        "# Energy operator H = Z\n",
        "# <Z> = |0|^2 - |1|^2\n",
        "E = np.abs(state.data[0])**2 - np.abs(state.data[1])**2\n",
        "print(\"Energy expectation <Z>:\", E)\n"
      ],
      "metadata": {
        "colab": {
          "base_uri": "https://localhost:8080/",
          "height": 384
        },
        "id": "tT8rldWwVn9t",
        "outputId": "009558e9-5700-4fec-c7d0-ba9d7ef6441d"
      },
      "execution_count": 19,
      "outputs": [
        {
          "output_type": "error",
          "ename": "ImportError",
          "evalue": "cannot import name 'Aer' from 'qiskit' (/usr/local/lib/python3.12/dist-packages/qiskit/__init__.py)",
          "traceback": [
            "\u001b[0;31m---------------------------------------------------------------------------\u001b[0m",
            "\u001b[0;31mImportError\u001b[0m                               Traceback (most recent call last)",
            "\u001b[0;32m/tmp/ipython-input-3114190691.py\u001b[0m in \u001b[0;36m<cell line: 0>\u001b[0;34m()\u001b[0m\n\u001b[0;32m----> 1\u001b[0;31m \u001b[0;32mfrom\u001b[0m \u001b[0mqiskit\u001b[0m \u001b[0;32mimport\u001b[0m \u001b[0mQuantumCircuit\u001b[0m\u001b[0;34m,\u001b[0m \u001b[0mAer\u001b[0m\u001b[0;34m,\u001b[0m \u001b[0mexecute\u001b[0m\u001b[0;34m\u001b[0m\u001b[0;34m\u001b[0m\u001b[0m\n\u001b[0m\u001b[1;32m      2\u001b[0m \u001b[0;32mfrom\u001b[0m \u001b[0mqiskit\u001b[0m\u001b[0;34m.\u001b[0m\u001b[0mquantum_info\u001b[0m \u001b[0;32mimport\u001b[0m \u001b[0mStatevector\u001b[0m\u001b[0;34m\u001b[0m\u001b[0;34m\u001b[0m\u001b[0m\n\u001b[1;32m      3\u001b[0m \u001b[0;32mimport\u001b[0m \u001b[0mnumpy\u001b[0m \u001b[0;32mas\u001b[0m \u001b[0mnp\u001b[0m\u001b[0;34m\u001b[0m\u001b[0;34m\u001b[0m\u001b[0m\n\u001b[1;32m      4\u001b[0m \u001b[0;34m\u001b[0m\u001b[0m\n\u001b[1;32m      5\u001b[0m \u001b[0;31m# Trial state |psi> = H|0> = (|0> + |1>)/√2\u001b[0m\u001b[0;34m\u001b[0m\u001b[0;34m\u001b[0m\u001b[0m\n",
            "\u001b[0;31mImportError\u001b[0m: cannot import name 'Aer' from 'qiskit' (/usr/local/lib/python3.12/dist-packages/qiskit/__init__.py)",
            "",
            "\u001b[0;31m---------------------------------------------------------------------------\u001b[0;32m\nNOTE: If your import is failing due to a missing package, you can\nmanually install dependencies using either !pip or !apt.\n\nTo view examples of installing some common dependencies, click the\n\"Open Examples\" button below.\n\u001b[0;31m---------------------------------------------------------------------------\u001b[0m\n"
          ],
          "errorDetails": {
            "actions": [
              {
                "action": "open_url",
                "actionText": "Open Examples",
                "url": "/notebooks/snippets/importing_libraries.ipynb"
              }
            ]
          }
        }
      ]
    },
    {
      "cell_type": "code",
      "execution_count": null,
      "metadata": {
        "id": "cI6IzP5_T-lB"
      },
      "outputs": [],
      "source": []
    }
  ]
}