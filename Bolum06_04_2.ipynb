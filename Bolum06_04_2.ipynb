{
  "nbformat": 4,
  "nbformat_minor": 0,
  "metadata": {
    "colab": {
      "provenance": []
    },
    "kernelspec": {
      "name": "python3",
      "display_name": "Python 3"
    },
    "language_info": {
      "name": "python"
    }
  },
  "cells": [
    {
      "cell_type": "markdown",
      "source": [
        "Ön hazırlık (kütüphane kurulumu)"
      ],
      "metadata": {
        "id": "HkikwNrKNzeD"
      }
    },
    {
      "cell_type": "code",
      "execution_count": 1,
      "metadata": {
        "colab": {
          "base_uri": "https://localhost:8080/"
        },
        "id": "anfl_eMVNzeD",
        "outputId": "720f591a-f00f-4ff7-f0f3-761325e4be2c"
      },
      "outputs": [
        {
          "output_type": "stream",
          "name": "stdout",
          "text": [
            "\u001b[?25l   \u001b[90m━━━━━━━━━━━━━━━━━━━━━━━━━━━━━━━━━━━━━━━━\u001b[0m \u001b[32m0.0/2.0 MB\u001b[0m \u001b[31m?\u001b[0m eta \u001b[36m-:--:--\u001b[0m\r\u001b[2K   \u001b[91m━━━━━━━━━━━━━━━━━━━━━\u001b[0m\u001b[90m╺\u001b[0m\u001b[90m━━━━━━━━━━━━━━━━━━\u001b[0m \u001b[32m1.1/2.0 MB\u001b[0m \u001b[31m35.9 MB/s\u001b[0m eta \u001b[36m0:00:01\u001b[0m\r\u001b[2K   \u001b[90m━━━━━━━━━━━━━━━━━━━━━━━━━━━━━━━━━━━━━━━━\u001b[0m \u001b[32m2.0/2.0 MB\u001b[0m \u001b[31m29.7 MB/s\u001b[0m eta \u001b[36m0:00:00\u001b[0m\n",
            "\u001b[?25h\u001b[?25l   \u001b[90m━━━━━━━━━━━━━━━━━━━━━━━━━━━━━━━━━━━━━━━━\u001b[0m \u001b[32m0.0/670.8 kB\u001b[0m \u001b[31m?\u001b[0m eta \u001b[36m-:--:--\u001b[0m\r\u001b[2K   \u001b[90m━━━━━━━━━━━━━━━━━━━━━━━━━━━━━━━━━━━━━━━━\u001b[0m \u001b[32m670.8/670.8 kB\u001b[0m \u001b[31m35.8 MB/s\u001b[0m eta \u001b[36m0:00:00\u001b[0m\n",
            "\u001b[?25h\u001b[?25l   \u001b[90m━━━━━━━━━━━━━━━━━━━━━━━━━━━━━━━━━━━━━━━━\u001b[0m \u001b[32m0.0/73.5 kB\u001b[0m \u001b[31m?\u001b[0m eta \u001b[36m-:--:--\u001b[0m\r\u001b[2K   \u001b[90m━━━━━━━━━━━━━━━━━━━━━━━━━━━━━━━━━━━━━━━━\u001b[0m \u001b[32m73.5/73.5 kB\u001b[0m \u001b[31m5.1 MB/s\u001b[0m eta \u001b[36m0:00:00\u001b[0m\n",
            "\u001b[2K   \u001b[90m━━━━━━━━━━━━━━━━━━━━━━━━━━━━━━━━━━━━━━━━\u001b[0m \u001b[32m430.5/430.5 kB\u001b[0m \u001b[31m20.9 MB/s\u001b[0m eta \u001b[36m0:00:00\u001b[0m\n",
            "\u001b[2K   \u001b[90m━━━━━━━━━━━━━━━━━━━━━━━━━━━━━━━━━━━━━━━━\u001b[0m \u001b[32m8.0/8.0 MB\u001b[0m \u001b[31m95.4 MB/s\u001b[0m eta \u001b[36m0:00:00\u001b[0m\n",
            "\u001b[2K   \u001b[90m━━━━━━━━━━━━━━━━━━━━━━━━━━━━━━━━━━━━━━━━\u001b[0m \u001b[32m31.8/31.8 MB\u001b[0m \u001b[31m57.7 MB/s\u001b[0m eta \u001b[36m0:00:00\u001b[0m\n",
            "\u001b[2K   \u001b[90m━━━━━━━━━━━━━━━━━━━━━━━━━━━━━━━━━━━━━━━━\u001b[0m \u001b[32m2.2/2.2 MB\u001b[0m \u001b[31m77.0 MB/s\u001b[0m eta \u001b[36m0:00:00\u001b[0m\n",
            "\u001b[2K   \u001b[90m━━━━━━━━━━━━━━━━━━━━━━━━━━━━━━━━━━━━━━━━\u001b[0m \u001b[32m49.5/49.5 kB\u001b[0m \u001b[31m3.1 MB/s\u001b[0m eta \u001b[36m0:00:00\u001b[0m\n",
            "\u001b[2K   \u001b[90m━━━━━━━━━━━━━━━━━━━━━━━━━━━━━━━━━━━━━━━━\u001b[0m \u001b[32m2.8/2.8 MB\u001b[0m \u001b[31m76.7 MB/s\u001b[0m eta \u001b[36m0:00:00\u001b[0m\n",
            "\u001b[?25h"
          ]
        }
      ],
      "source": [
        "# Gerekli kütüphaneleri yükleyelim (Colab hücresine)\n",
        "!pip install cirq qiskit qutip numpy matplotlib --quiet"
      ]
    },
    {
      "cell_type": "markdown",
      "source": [
        "Hadamard Kapısı Birimsellik Kontrolü"
      ],
      "metadata": {
        "id": "9L--V14900Y5"
      }
    },
    {
      "cell_type": "code",
      "source": [
        "# --- Cirq ---\n",
        "import cirq\n",
        "import numpy as np\n",
        "\n",
        "H = cirq.H\n",
        "q = cirq.LineQubit(0)\n",
        "\n",
        "# Birimsel kontrolü: H^\\dagger * H = I\n",
        "matrix_H = cirq.unitary(H)\n",
        "unitary_check = np.allclose(matrix_H.conj().T @ matrix_H, np.eye(2))\n",
        "print(\"Cirq Hadamard unitary check:\", unitary_check)\n",
        "print(\"H matrisi:\\n\", matrix_H)\n",
        "\n",
        "# --- Qiskit ---\n",
        "from qiskit.quantum_info import Operator\n",
        "from qiskit import QuantumCircuit\n",
        "\n",
        "qc = QuantumCircuit(1)\n",
        "qc.h(0)\n",
        "matrix_H_qiskit = Operator(qc).data\n",
        "unitary_check_qiskit = np.allclose(matrix_H_qiskit.conj().T @ matrix_H_qiskit, np.eye(2))\n",
        "print(\"Qiskit Hadamard unitary check:\", unitary_check_qiskit)\n",
        "print(\"H matrisi:\\n\", matrix_H_qiskit)\n",
        "\n",
        "# --- QuTiP ---\n",
        "from qutip import hadamard_transform, qeye\n",
        "\n",
        "H_qutip = hadamard_transform()\n",
        "unitary_check_qutip = (H_qutip.dag() * H_qutip).full()\n",
        "print(\"QuTiP Hadamard unitary check:\\n\", unitary_check_qutip)\n"
      ],
      "metadata": {
        "colab": {
          "base_uri": "https://localhost:8080/",
          "height": 523
        },
        "id": "ZlXRhuqn01aO",
        "outputId": "dbc3de51-29ae-458a-fa07-2225ef57ed5a"
      },
      "execution_count": 4,
      "outputs": [
        {
          "output_type": "stream",
          "name": "stdout",
          "text": [
            "Cirq Hadamard unitary check: True\n",
            "H matrisi:\n",
            " [[ 0.70710678+0.j  0.70710678+0.j]\n",
            " [ 0.70710678+0.j -0.70710678+0.j]]\n",
            "Qiskit Hadamard unitary check: True\n",
            "H matrisi:\n",
            " [[ 0.70710678+0.j  0.70710678+0.j]\n",
            " [ 0.70710678+0.j -0.70710678+0.j]]\n"
          ]
        },
        {
          "output_type": "error",
          "ename": "ImportError",
          "evalue": "cannot import name 'hadamard_transform' from 'qutip' (/usr/local/lib/python3.12/dist-packages/qutip/__init__.py)",
          "traceback": [
            "\u001b[0;31m---------------------------------------------------------------------------\u001b[0m",
            "\u001b[0;31mImportError\u001b[0m                               Traceback (most recent call last)",
            "\u001b[0;32m/tmp/ipython-input-202045788.py\u001b[0m in \u001b[0;36m<cell line: 0>\u001b[0;34m()\u001b[0m\n\u001b[1;32m     24\u001b[0m \u001b[0;34m\u001b[0m\u001b[0m\n\u001b[1;32m     25\u001b[0m \u001b[0;31m# --- QuTiP ---\u001b[0m\u001b[0;34m\u001b[0m\u001b[0;34m\u001b[0m\u001b[0m\n\u001b[0;32m---> 26\u001b[0;31m \u001b[0;32mfrom\u001b[0m \u001b[0mqutip\u001b[0m \u001b[0;32mimport\u001b[0m \u001b[0mhadamard_transform\u001b[0m\u001b[0;34m,\u001b[0m \u001b[0mqeye\u001b[0m\u001b[0;34m\u001b[0m\u001b[0;34m\u001b[0m\u001b[0m\n\u001b[0m\u001b[1;32m     27\u001b[0m \u001b[0;34m\u001b[0m\u001b[0m\n\u001b[1;32m     28\u001b[0m \u001b[0mH_qutip\u001b[0m \u001b[0;34m=\u001b[0m \u001b[0mhadamard_transform\u001b[0m\u001b[0;34m(\u001b[0m\u001b[0;34m)\u001b[0m\u001b[0;34m\u001b[0m\u001b[0;34m\u001b[0m\u001b[0m\n",
            "\u001b[0;31mImportError\u001b[0m: cannot import name 'hadamard_transform' from 'qutip' (/usr/local/lib/python3.12/dist-packages/qutip/__init__.py)",
            "",
            "\u001b[0;31m---------------------------------------------------------------------------\u001b[0;32m\nNOTE: If your import is failing due to a missing package, you can\nmanually install dependencies using either !pip or !apt.\n\nTo view examples of installing some common dependencies, click the\n\"Open Examples\" button below.\n\u001b[0;31m---------------------------------------------------------------------------\u001b[0m\n"
          ],
          "errorDetails": {
            "actions": [
              {
                "action": "open_url",
                "actionText": "Open Examples",
                "url": "/notebooks/snippets/importing_libraries.ipynb"
              }
            ]
          }
        }
      ]
    },
    {
      "cell_type": "markdown",
      "source": [
        "Pauli-X Kapısı Birimsellik Kontrolü"
      ],
      "metadata": {
        "id": "seIwcHQ400eX"
      }
    },
    {
      "cell_type": "code",
      "source": [
        "# --- Cirq ---\n",
        "X = cirq.X\n",
        "matrix_X = cirq.unitary(X)\n",
        "unitary_check_X = np.allclose(matrix_X.conj().T @ matrix_X, np.eye(2))\n",
        "print(\"Cirq Pauli-X unitary check:\", unitary_check_X)\n",
        "print(\"X matrisi:\\n\", matrix_X)\n",
        "\n",
        "# --- Qiskit ---\n",
        "qc = QuantumCircuit(1)\n",
        "qc.x(0)\n",
        "matrix_X_qiskit = Operator(qc).data\n",
        "unitary_check_X_qiskit = np.allclose(matrix_X_qiskit.conj().T @ matrix_X_qiskit, np.eye(2))\n",
        "print(\"Qiskit Pauli-X unitary check:\", unitary_check_X_qiskit)\n",
        "print(\"X matrisi:\\n\", matrix_X_qiskit)\n",
        "\n",
        "# --- QuTiP ---\n",
        "from qutip import sigmax\n",
        "X_qutip = sigmax()\n",
        "unitary_check_X_qutip = (X_qutip.dag() * X_qutip).full()\n",
        "print(\"QuTiP Pauli-X unitary check:\\n\", unitary_check_X_qutip)\n"
      ],
      "metadata": {
        "colab": {
          "base_uri": "https://localhost:8080/"
        },
        "id": "odrEbtHU06Ju",
        "outputId": "f281cfcb-efd7-4bd2-c46a-545b4b08793c"
      },
      "execution_count": 3,
      "outputs": [
        {
          "output_type": "stream",
          "name": "stdout",
          "text": [
            "Cirq Pauli-X unitary check: True\n",
            "X matrisi:\n",
            " [[0.+0.j 1.+0.j]\n",
            " [1.+0.j 0.+0.j]]\n",
            "Qiskit Pauli-X unitary check: True\n",
            "X matrisi:\n",
            " [[0.+0.j 1.+0.j]\n",
            " [1.+0.j 0.+0.j]]\n",
            "QuTiP Pauli-X unitary check:\n",
            " [[1.+0.j 0.+0.j]\n",
            " [0.+0.j 1.+0.j]]\n"
          ]
        }
      ]
    },
    {
      "cell_type": "markdown",
      "source": [],
      "metadata": {
        "id": "PX7YGYZ509Ux"
      }
    },
    {
      "cell_type": "code",
      "execution_count": null,
      "metadata": {
        "id": "KY5a7z1K0pS5"
      },
      "outputs": [],
      "source": []
    }
  ]
}