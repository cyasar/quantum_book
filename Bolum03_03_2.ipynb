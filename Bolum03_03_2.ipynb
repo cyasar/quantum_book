{
  "nbformat": 4,
  "nbformat_minor": 0,
  "metadata": {
    "colab": {
      "provenance": []
    },
    "kernelspec": {
      "name": "python3",
      "display_name": "Python 3"
    },
    "language_info": {
      "name": "python"
    }
  },
  "cells": [
    {
      "cell_type": "markdown",
      "source": [
        "Ön hazırlık (kütüphane kurulumu)"
      ],
      "metadata": {
        "id": "HkikwNrKNzeD"
      }
    },
    {
      "cell_type": "code",
      "execution_count": 2,
      "metadata": {
        "colab": {
          "base_uri": "https://localhost:8080/"
        },
        "id": "anfl_eMVNzeD",
        "outputId": "11d0d06b-d3dc-451b-e3d8-bb77855fbfbe"
      },
      "outputs": [
        {
          "output_type": "stream",
          "name": "stdout",
          "text": [
            "\u001b[2K   \u001b[90m━━━━━━━━━━━━━━━━━━━━━━━━━━━━━━━━━━━━━━━━\u001b[0m \u001b[32m2.0/2.0 MB\u001b[0m \u001b[31m26.1 MB/s\u001b[0m eta \u001b[36m0:00:00\u001b[0m\n",
            "\u001b[2K   \u001b[90m━━━━━━━━━━━━━━━━━━━━━━━━━━━━━━━━━━━━━━━━\u001b[0m \u001b[32m670.8/670.8 kB\u001b[0m \u001b[31m38.1 MB/s\u001b[0m eta \u001b[36m0:00:00\u001b[0m\n",
            "\u001b[2K   \u001b[90m━━━━━━━━━━━━━━━━━━━━━━━━━━━━━━━━━━━━━━━━\u001b[0m \u001b[32m73.5/73.5 kB\u001b[0m \u001b[31m6.2 MB/s\u001b[0m eta \u001b[36m0:00:00\u001b[0m\n",
            "\u001b[2K   \u001b[90m━━━━━━━━━━━━━━━━━━━━━━━━━━━━━━━━━━━━━━━━\u001b[0m \u001b[32m430.5/430.5 kB\u001b[0m \u001b[31m23.9 MB/s\u001b[0m eta \u001b[36m0:00:00\u001b[0m\n",
            "\u001b[2K   \u001b[90m━━━━━━━━━━━━━━━━━━━━━━━━━━━━━━━━━━━━━━━━\u001b[0m \u001b[32m8.0/8.0 MB\u001b[0m \u001b[31m85.1 MB/s\u001b[0m eta \u001b[36m0:00:00\u001b[0m\n",
            "\u001b[2K   \u001b[90m━━━━━━━━━━━━━━━━━━━━━━━━━━━━━━━━━━━━━━━━\u001b[0m \u001b[32m31.8/31.8 MB\u001b[0m \u001b[31m49.5 MB/s\u001b[0m eta \u001b[36m0:00:00\u001b[0m\n",
            "\u001b[2K   \u001b[90m━━━━━━━━━━━━━━━━━━━━━━━━━━━━━━━━━━━━━━━━\u001b[0m \u001b[32m2.2/2.2 MB\u001b[0m \u001b[31m66.6 MB/s\u001b[0m eta \u001b[36m0:00:00\u001b[0m\n",
            "\u001b[2K   \u001b[90m━━━━━━━━━━━━━━━━━━━━━━━━━━━━━━━━━━━━━━━━\u001b[0m \u001b[32m49.5/49.5 kB\u001b[0m \u001b[31m4.1 MB/s\u001b[0m eta \u001b[36m0:00:00\u001b[0m\n",
            "\u001b[2K   \u001b[90m━━━━━━━━━━━━━━━━━━━━━━━━━━━━━━━━━━━━━━━━\u001b[0m \u001b[32m2.6/2.6 MB\u001b[0m \u001b[31m81.7 MB/s\u001b[0m eta \u001b[36m0:00:00\u001b[0m\n",
            "\u001b[?25h"
          ]
        }
      ],
      "source": [
        "# Gerekli kütüphaneleri yükleyelim (Colab hücresine)\n",
        "!pip install cirq qiskit qutip numpy matplotlib --quiet"
      ]
    },
    {
      "cell_type": "markdown",
      "source": [
        "Cirq ile Matris Gösterimi\n",
        "\n",
        "Cirq’de cirq.unitary() ile kapıların matris gösterimini alabiliyoruz."
      ],
      "metadata": {
        "id": "uLStRRUUYS1u"
      }
    },
    {
      "cell_type": "code",
      "source": [
        "import cirq\n",
        "import numpy as np\n",
        "\n",
        "# Qubit tanımla\n",
        "q = cirq.LineQubit(0)\n",
        "\n",
        "# Kapıların matris gösterimleri\n",
        "I = cirq.unitary(cirq.I)   # Birim operatör\n",
        "X = cirq.unitary(cirq.X)   # Pauli-X\n",
        "H = cirq.unitary(cirq.H)   # Hadamard\n",
        "\n",
        "# Örnek Hermitik matris (elle tanımlı)\n",
        "A = np.array([[2, 1j], [-1j, 3]])\n",
        "\n",
        "# Örnek birimsel matris (Hadamard benzeri)\n",
        "U = (1/np.sqrt(2)) * np.array([[1, 1], [-1, 1]])\n",
        "\n",
        "print(\"Cirq ile Matris Gösterimleri:\")\n",
        "print(\"I =\\n\", I)\n",
        "print(\"X =\\n\", X)\n",
        "print(\"H =\\n\", H)\n",
        "print(\"Hermitik A =\\n\", A)\n",
        "print(\"Unitary U =\\n\", U)\n",
        "\n",
        "# Özellik kontrolü\n",
        "print(\"\\nA Hermitik mi? ->\", np.allclose(A, A.conj().T))\n",
        "print(\"U Birimsel mi? ->\", np.allclose(U.conj().T @ U, np.eye(2)))\n"
      ],
      "metadata": {
        "colab": {
          "base_uri": "https://localhost:8080/"
        },
        "id": "mbnAJiRnYTFp",
        "outputId": "29a8c819-f95f-44d6-f31f-758fa8659c4f"
      },
      "execution_count": 3,
      "outputs": [
        {
          "output_type": "stream",
          "name": "stdout",
          "text": [
            "Cirq ile Matris Gösterimleri:\n",
            "I =\n",
            " [[1. 0.]\n",
            " [0. 1.]]\n",
            "X =\n",
            " [[0.+0.j 1.+0.j]\n",
            " [1.+0.j 0.+0.j]]\n",
            "H =\n",
            " [[ 0.70710678+0.j  0.70710678+0.j]\n",
            " [ 0.70710678+0.j -0.70710678+0.j]]\n",
            "Hermitik A =\n",
            " [[ 2.+0.j  0.+1.j]\n",
            " [-0.-1.j  3.+0.j]]\n",
            "Unitary U =\n",
            " [[ 0.70710678  0.70710678]\n",
            " [-0.70710678  0.70710678]]\n",
            "\n",
            "A Hermitik mi? -> True\n",
            "U Birimsel mi? -> True\n"
          ]
        }
      ]
    },
    {
      "cell_type": "markdown",
      "source": [
        "Qiskit ile Matris Gösterimi\n",
        "\n",
        "Qiskit’te Operator sınıfı kullanılarak kapıların ve matrislerin doğruluğu kontrol edilebilir."
      ],
      "metadata": {
        "id": "3u0fPLTvYqfJ"
      }
    },
    {
      "cell_type": "code",
      "source": [
        "from qiskit.quantum_info import Operator\n",
        "import numpy as np\n",
        "\n",
        "# Birim operatör\n",
        "I = np.eye(2)\n",
        "\n",
        "# Hermitik operatör\n",
        "A = np.array([[2, 1j], [-1j, 3]])\n",
        "\n",
        "# Birimsel operatör\n",
        "U = (1/np.sqrt(2)) * np.array([[1, 1], [-1, 1]])\n",
        "\n",
        "print(\"Qiskit ile Matris Gösterimleri:\")\n",
        "print(\"I =\\n\", I)\n",
        "print(\"A =\\n\", A)\n",
        "print(\"U =\\n\", U)\n",
        "\n",
        "# Özellik kontrolleri\n",
        "print(\"\\nA Hermitik mi? ->\", np.allclose(A, A.conj().T))\n",
        "print(\"U Birimsel mi? ->\", np.allclose(U.conj().T @ U, np.eye(2)))\n"
      ],
      "metadata": {
        "colab": {
          "base_uri": "https://localhost:8080/"
        },
        "id": "hm-DZe17Yqog",
        "outputId": "e26e0b3b-8b45-46f0-8573-d86614527ff0"
      },
      "execution_count": 4,
      "outputs": [
        {
          "output_type": "stream",
          "name": "stdout",
          "text": [
            "Qiskit ile Matris Gösterimleri:\n",
            "I =\n",
            " [[1. 0.]\n",
            " [0. 1.]]\n",
            "A =\n",
            " [[ 2.+0.j  0.+1.j]\n",
            " [-0.-1.j  3.+0.j]]\n",
            "U =\n",
            " [[ 0.70710678  0.70710678]\n",
            " [-0.70710678  0.70710678]]\n",
            "\n",
            "A Hermitik mi? -> True\n",
            "U Birimsel mi? -> True\n"
          ]
        }
      ]
    },
    {
      "cell_type": "markdown",
      "source": [
        "QuTiP ile Matris Gösterimi\n",
        "\n",
        "QuTiP, operatörlerin matematiksel özelliklerini kontrol etmek için çok uygundur."
      ],
      "metadata": {
        "id": "S6-P8DjUYuU1"
      }
    },
    {
      "cell_type": "code",
      "source": [
        "from qutip import qeye, Qobj\n",
        "import numpy as np\n",
        "\n",
        "# Birim operatör\n",
        "I = qeye(2)\n",
        "\n",
        "# Hermitik operatör\n",
        "A = Qobj([[2, 1j], [-1j, 3]])\n",
        "\n",
        "# Birimsel operatör\n",
        "U = Qobj((1/np.sqrt(2)) * np.array([[1, 1], [-1, 1]]))\n",
        "\n",
        "print(\"QuTiP ile Matris Gösterimleri:\")\n",
        "print(\"I =\\n\", I)\n",
        "print(\"A =\\n\", A)\n",
        "print(\"U =\\n\", U)\n",
        "\n",
        "# Özellik kontrolleri\n",
        "print(\"\\nA Hermitik mi? ->\", A.isherm)\n",
        "print(\"U Birimsel mi? ->\", U.isunitary())\n"
      ],
      "metadata": {
        "colab": {
          "base_uri": "https://localhost:8080/",
          "height": 488
        },
        "id": "r2F2jB_zYucy",
        "outputId": "a7ef6ea3-5400-43a4-c17d-65210a4741fa"
      },
      "execution_count": 6,
      "outputs": [
        {
          "output_type": "stream",
          "name": "stdout",
          "text": [
            "QuTiP ile Matris Gösterimleri:\n",
            "I =\n",
            " Quantum object: dims=[[2], [2]], shape=(2, 2), type='oper', dtype=Dia, isherm=True\n",
            "Qobj data =\n",
            "[[1. 0.]\n",
            " [0. 1.]]\n",
            "A =\n",
            " Quantum object: dims=[[2], [2]], shape=(2, 2), type='oper', dtype=Dense, isherm=True\n",
            "Qobj data =\n",
            "[[ 2.+0.j  0.+1.j]\n",
            " [-0.-1.j  3.+0.j]]\n",
            "U =\n",
            " Quantum object: dims=[[2], [2]], shape=(2, 2), type='oper', dtype=Dense, isherm=False\n",
            "Qobj data =\n",
            "[[ 0.70710678  0.70710678]\n",
            " [-0.70710678  0.70710678]]\n",
            "\n",
            "A Hermitik mi? -> True\n"
          ]
        },
        {
          "output_type": "error",
          "ename": "TypeError",
          "evalue": "'bool' object is not callable",
          "traceback": [
            "\u001b[0;31m---------------------------------------------------------------------------\u001b[0m",
            "\u001b[0;31mTypeError\u001b[0m                                 Traceback (most recent call last)",
            "\u001b[0;32m/tmp/ipython-input-3592689777.py\u001b[0m in \u001b[0;36m<cell line: 0>\u001b[0;34m()\u001b[0m\n\u001b[1;32m     18\u001b[0m \u001b[0;31m# Özellik kontrolleri\u001b[0m\u001b[0;34m\u001b[0m\u001b[0;34m\u001b[0m\u001b[0m\n\u001b[1;32m     19\u001b[0m \u001b[0mprint\u001b[0m\u001b[0;34m(\u001b[0m\u001b[0;34m\"\\nA Hermitik mi? ->\"\u001b[0m\u001b[0;34m,\u001b[0m \u001b[0mA\u001b[0m\u001b[0;34m.\u001b[0m\u001b[0misherm\u001b[0m\u001b[0;34m)\u001b[0m\u001b[0;34m\u001b[0m\u001b[0;34m\u001b[0m\u001b[0m\n\u001b[0;32m---> 20\u001b[0;31m \u001b[0mprint\u001b[0m\u001b[0;34m(\u001b[0m\u001b[0;34m\"U Birimsel mi? ->\"\u001b[0m\u001b[0;34m,\u001b[0m \u001b[0mU\u001b[0m\u001b[0;34m.\u001b[0m\u001b[0misunitary\u001b[0m\u001b[0;34m(\u001b[0m\u001b[0;34m)\u001b[0m\u001b[0;34m)\u001b[0m\u001b[0;34m\u001b[0m\u001b[0;34m\u001b[0m\u001b[0m\n\u001b[0m",
            "\u001b[0;31mTypeError\u001b[0m: 'bool' object is not callable"
          ]
        }
      ]
    }
  ]
}