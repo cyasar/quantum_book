{
  "nbformat": 4,
  "nbformat_minor": 0,
  "metadata": {
    "colab": {
      "provenance": []
    },
    "kernelspec": {
      "name": "python3",
      "display_name": "Python 3"
    },
    "language_info": {
      "name": "python"
    }
  },
  "cells": [
    {
      "cell_type": "code",
      "execution_count": null,
      "metadata": {
        "id": "Oi7mwHkkc2yT"
      },
      "outputs": [],
      "source": []
    },
    {
      "cell_type": "markdown",
      "source": [
        "Ön hazırlık (kütüphane kurulumu)"
      ],
      "metadata": {
        "id": "HkikwNrKNzeD"
      }
    },
    {
      "cell_type": "code",
      "execution_count": 1,
      "metadata": {
        "colab": {
          "base_uri": "https://localhost:8080/"
        },
        "id": "anfl_eMVNzeD",
        "outputId": "f4162d72-dc5c-414e-f5bb-843b644f6049"
      },
      "outputs": [
        {
          "output_type": "stream",
          "name": "stdout",
          "text": [
            "\u001b[?25l   \u001b[90m━━━━━━━━━━━━━━━━━━━━━━━━━━━━━━━━━━━━━━━━\u001b[0m \u001b[32m0.0/2.0 MB\u001b[0m \u001b[31m?\u001b[0m eta \u001b[36m-:--:--\u001b[0m\r\u001b[2K   \u001b[91m━━━━━━━━━━━━━━━━━━━━━━━━━━━━━━━━━━━━━━━\u001b[0m\u001b[91m╸\u001b[0m \u001b[32m2.0/2.0 MB\u001b[0m \u001b[31m86.0 MB/s\u001b[0m eta \u001b[36m0:00:01\u001b[0m\r\u001b[2K   \u001b[90m━━━━━━━━━━━━━━━━━━━━━━━━━━━━━━━━━━━━━━━━\u001b[0m \u001b[32m2.0/2.0 MB\u001b[0m \u001b[31m47.6 MB/s\u001b[0m eta \u001b[36m0:00:00\u001b[0m\n",
            "\u001b[?25h\u001b[?25l   \u001b[90m━━━━━━━━━━━━━━━━━━━━━━━━━━━━━━━━━━━━━━━━\u001b[0m \u001b[32m0.0/670.8 kB\u001b[0m \u001b[31m?\u001b[0m eta \u001b[36m-:--:--\u001b[0m\r\u001b[2K   \u001b[90m━━━━━━━━━━━━━━━━━━━━━━━━━━━━━━━━━━━━━━━━\u001b[0m \u001b[32m670.8/670.8 kB\u001b[0m \u001b[31m32.4 MB/s\u001b[0m eta \u001b[36m0:00:00\u001b[0m\n",
            "\u001b[2K   \u001b[90m━━━━━━━━━━━━━━━━━━━━━━━━━━━━━━━━━━━━━━━━\u001b[0m \u001b[32m73.5/73.5 kB\u001b[0m \u001b[31m5.7 MB/s\u001b[0m eta \u001b[36m0:00:00\u001b[0m\n",
            "\u001b[2K   \u001b[90m━━━━━━━━━━━━━━━━━━━━━━━━━━━━━━━━━━━━━━━━\u001b[0m \u001b[32m430.5/430.5 kB\u001b[0m \u001b[31m30.7 MB/s\u001b[0m eta \u001b[36m0:00:00\u001b[0m\n",
            "\u001b[2K   \u001b[90m━━━━━━━━━━━━━━━━━━━━━━━━━━━━━━━━━━━━━━━━\u001b[0m \u001b[32m8.0/8.0 MB\u001b[0m \u001b[31m108.9 MB/s\u001b[0m eta \u001b[36m0:00:00\u001b[0m\n",
            "\u001b[2K   \u001b[90m━━━━━━━━━━━━━━━━━━━━━━━━━━━━━━━━━━━━━━━━\u001b[0m \u001b[32m31.8/31.8 MB\u001b[0m \u001b[31m59.9 MB/s\u001b[0m eta \u001b[36m0:00:00\u001b[0m\n",
            "\u001b[2K   \u001b[90m━━━━━━━━━━━━━━━━━━━━━━━━━━━━━━━━━━━━━━━━\u001b[0m \u001b[32m2.2/2.2 MB\u001b[0m \u001b[31m78.0 MB/s\u001b[0m eta \u001b[36m0:00:00\u001b[0m\n",
            "\u001b[2K   \u001b[90m━━━━━━━━━━━━━━━━━━━━━━━━━━━━━━━━━━━━━━━━\u001b[0m \u001b[32m49.5/49.5 kB\u001b[0m \u001b[31m3.5 MB/s\u001b[0m eta \u001b[36m0:00:00\u001b[0m\n",
            "\u001b[2K   \u001b[90m━━━━━━━━━━━━━━━━━━━━━━━━━━━━━━━━━━━━━━━━\u001b[0m \u001b[32m2.6/2.6 MB\u001b[0m \u001b[31m90.6 MB/s\u001b[0m eta \u001b[36m0:00:00\u001b[0m\n",
            "\u001b[?25h"
          ]
        }
      ],
      "source": [
        "# Gerekli kütüphaneleri yükleyelim (Colab hücresine)\n",
        "!pip install cirq qiskit qutip numpy matplotlib --quiet"
      ]
    },
    {
      "cell_type": "markdown",
      "source": [
        "Matrislerle İlgili Özellikler\n",
        " 1. Skaler Çarpım"
      ],
      "metadata": {
        "id": "eW8vznzMdbYh"
      }
    },
    {
      "cell_type": "code",
      "source": [
        "# Qiskit (NumPy)\n",
        "import numpy as np\n",
        "A = np.array([[1, 2],\n",
        "              [3, 4]])\n",
        "alpha = 2\n",
        "print(alpha * A)\n",
        "\n",
        "# Cirq\n",
        "print(alpha * A)  # Cirq için NumPy kullanılır\n",
        "\n",
        "# QuTiP\n",
        "import qutip as qt\n",
        "A_q = qt.Qobj(A)\n",
        "print((alpha * A_q).full())\n"
      ],
      "metadata": {
        "colab": {
          "base_uri": "https://localhost:8080/"
        },
        "id": "wiuTHLhwdbdT",
        "outputId": "564f0ebf-c581-4583-d4f2-2c84080ad994"
      },
      "execution_count": 2,
      "outputs": [
        {
          "output_type": "stream",
          "name": "stdout",
          "text": [
            "[[2 4]\n",
            " [6 8]]\n",
            "[[2 4]\n",
            " [6 8]]\n",
            "[[2.+0.j 4.+0.j]\n",
            " [6.+0.j 8.+0.j]]\n"
          ]
        }
      ]
    },
    {
      "cell_type": "markdown",
      "source": [
        "2. Transpoz (Transpose)"
      ],
      "metadata": {
        "id": "OdNpBYiKdb5W"
      }
    },
    {
      "cell_type": "code",
      "source": [
        "# Qiskit (NumPy)\n",
        "print(A.T)\n",
        "\n",
        "# Cirq\n",
        "print(A.T)\n",
        "\n",
        "# QuTiP\n",
        "print(A_q.trans().full())\n"
      ],
      "metadata": {
        "colab": {
          "base_uri": "https://localhost:8080/"
        },
        "id": "et0JLTNkdb_B",
        "outputId": "be29025f-ae90-45dd-bbc5-cb6d9c53ad9c"
      },
      "execution_count": 3,
      "outputs": [
        {
          "output_type": "stream",
          "name": "stdout",
          "text": [
            "[[1 3]\n",
            " [2 4]]\n",
            "[[1 3]\n",
            " [2 4]]\n",
            "[[1.+0.j 3.+0.j]\n",
            " [2.+0.j 4.+0.j]]\n"
          ]
        }
      ]
    },
    {
      "cell_type": "markdown",
      "source": [
        "3. Kompleks Eşlenik"
      ],
      "metadata": {
        "id": "Kq7HGs8EdpaA"
      }
    },
    {
      "cell_type": "code",
      "source": [
        "A_complex = np.array([[1+2j, 2-1j],\n",
        "                      [3+0j, 4-2j]])\n",
        "\n",
        "# Qiskit\n",
        "print(np.conjugate(A_complex))\n",
        "\n",
        "# Cirq\n",
        "print(np.conjugate(A_complex))\n",
        "\n",
        "# QuTiP\n",
        "A_cq = qt.Qobj(A_complex)\n",
        "print(A_cq.conj().full())\n"
      ],
      "metadata": {
        "colab": {
          "base_uri": "https://localhost:8080/"
        },
        "id": "SH83MgDodphn",
        "outputId": "830420be-0962-493f-b6f7-4294a879a074"
      },
      "execution_count": 4,
      "outputs": [
        {
          "output_type": "stream",
          "name": "stdout",
          "text": [
            "[[1.-2.j 2.+1.j]\n",
            " [3.-0.j 4.+2.j]]\n",
            "[[1.-2.j 2.+1.j]\n",
            " [3.-0.j 4.+2.j]]\n",
            "[[1.-2.j 2.+1.j]\n",
            " [3.-0.j 4.+2.j]]\n"
          ]
        }
      ]
    },
    {
      "cell_type": "markdown",
      "source": [
        "4. Hermitik Eşlenik (Adjoint)"
      ],
      "metadata": {
        "id": "qThIaIf0dxF3"
      }
    },
    {
      "cell_type": "code",
      "source": [
        "# Qiskit\n",
        "print(A_complex.conj().T)\n",
        "\n",
        "# Cirq\n",
        "print(A_complex.conj().T)\n",
        "\n",
        "# QuTiP\n",
        "print(A_cq.dag().full())\n"
      ],
      "metadata": {
        "colab": {
          "base_uri": "https://localhost:8080/"
        },
        "id": "fbUNhQiRdxmf",
        "outputId": "f86ca6e7-ecec-4098-ebd2-65ac8d420fd3"
      },
      "execution_count": 5,
      "outputs": [
        {
          "output_type": "stream",
          "name": "stdout",
          "text": [
            "[[1.-2.j 3.-0.j]\n",
            " [2.+1.j 4.+2.j]]\n",
            "[[1.-2.j 3.-0.j]\n",
            " [2.+1.j 4.+2.j]]\n",
            "[[1.-2.j 3.-0.j]\n",
            " [2.+1.j 4.+2.j]]\n"
          ]
        }
      ]
    },
    {
      "cell_type": "markdown",
      "source": [
        "5. Hermitik Matris"
      ],
      "metadata": {
        "id": "FVRgNV6wd1f-"
      }
    },
    {
      "cell_type": "code",
      "source": [
        "H = np.array([[2, 1j],\n",
        "              [-1j, 3]])\n",
        "print(np.allclose(H, H.conj().T))  # True ise Hermitik\n",
        "\n",
        "# QuTiP\n",
        "H_q = qt.Qobj(H)\n",
        "print(H_q.isherm)\n"
      ],
      "metadata": {
        "colab": {
          "base_uri": "https://localhost:8080/"
        },
        "id": "LQFd6arId1ph",
        "outputId": "370e6f55-e32f-4305-a22e-b0af1f7a7a87"
      },
      "execution_count": 6,
      "outputs": [
        {
          "output_type": "stream",
          "name": "stdout",
          "text": [
            "True\n",
            "True\n"
          ]
        }
      ]
    },
    {
      "cell_type": "markdown",
      "source": [
        "6. Birimsel (Unitary) Matris"
      ],
      "metadata": {
        "id": "zx4_Qf5id5v0"
      }
    },
    {
      "cell_type": "code",
      "source": [
        "from qiskit.quantum_info import Operator\n",
        "\n",
        "H = (1/np.sqrt(2)) * np.array([[1, 1],\n",
        "                                [1, -1]])\n",
        "print(np.allclose(H.conj().T @ H, np.eye(2)))  # True\n",
        "\n",
        "# Cirq\n",
        "import cirq\n",
        "print(np.allclose(cirq.unitary(cirq.H), H))\n",
        "\n",
        "# QuTiP\n",
        "H_q = qt.Qobj(H)\n",
        "print(H_q.isunitary)\n"
      ],
      "metadata": {
        "colab": {
          "base_uri": "https://localhost:8080/"
        },
        "id": "kqLoyPF1d53y",
        "outputId": "25242b0a-c757-4cef-b660-774e47e8c3ef"
      },
      "execution_count": 7,
      "outputs": [
        {
          "output_type": "stream",
          "name": "stdout",
          "text": [
            "True\n",
            "True\n",
            "True\n"
          ]
        }
      ]
    },
    {
      "cell_type": "markdown",
      "source": [
        "7. Simetrik Matris"
      ],
      "metadata": {
        "id": "R6CdTr1aeAPM"
      }
    },
    {
      "cell_type": "code",
      "source": [
        "S = np.array([[1, 2],\n",
        "              [2, 3]])\n",
        "print(np.allclose(S, S.T))  # True\n"
      ],
      "metadata": {
        "colab": {
          "base_uri": "https://localhost:8080/"
        },
        "id": "IN9oEOtueAWr",
        "outputId": "b53cdab1-b777-4c3e-e82c-514f122761a1"
      },
      "execution_count": 8,
      "outputs": [
        {
          "output_type": "stream",
          "name": "stdout",
          "text": [
            "True\n"
          ]
        }
      ]
    },
    {
      "cell_type": "markdown",
      "source": [
        "8. Asimetrik (Antisymmetric) Matris"
      ],
      "metadata": {
        "id": "Se-u28SzeCPE"
      }
    },
    {
      "cell_type": "code",
      "source": [
        "AS = np.array([[0, -2],\n",
        "               [2,  0]])\n",
        "print(np.allclose(AS.T, -AS))  # True\n"
      ],
      "metadata": {
        "colab": {
          "base_uri": "https://localhost:8080/"
        },
        "id": "NYB9z2t0eCVP",
        "outputId": "f729324a-ded9-4a8a-81a5-1b5b3713e00c"
      },
      "execution_count": 9,
      "outputs": [
        {
          "output_type": "stream",
          "name": "stdout",
          "text": [
            "True\n"
          ]
        }
      ]
    },
    {
      "cell_type": "markdown",
      "source": [
        "9. Ortogonal Matris"
      ],
      "metadata": {
        "id": "UFj01Hp_eG_f"
      }
    },
    {
      "cell_type": "code",
      "source": [
        "theta = np.pi/4\n",
        "O = np.array([[np.cos(theta), -np.sin(theta)],\n",
        "              [np.sin(theta),  np.cos(theta)]])\n",
        "print(np.allclose(O.T @ O, np.eye(2)))\n"
      ],
      "metadata": {
        "colab": {
          "base_uri": "https://localhost:8080/"
        },
        "id": "8Ax-lryNeHgs",
        "outputId": "4525923b-6aa1-49d5-d50a-877a2af4e596"
      },
      "execution_count": 10,
      "outputs": [
        {
          "output_type": "stream",
          "name": "stdout",
          "text": [
            "True\n"
          ]
        }
      ]
    }
  ]
}