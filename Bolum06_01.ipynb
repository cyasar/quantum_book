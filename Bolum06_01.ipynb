{
  "nbformat": 4,
  "nbformat_minor": 0,
  "metadata": {
    "colab": {
      "provenance": []
    },
    "kernelspec": {
      "name": "python3",
      "display_name": "Python 3"
    },
    "language_info": {
      "name": "python"
    }
  },
  "cells": [
    {
      "cell_type": "markdown",
      "source": [
        "Ön hazırlık (kütüphane kurulumu)"
      ],
      "metadata": {
        "id": "HkikwNrKNzeD"
      }
    },
    {
      "cell_type": "code",
      "execution_count": 1,
      "metadata": {
        "colab": {
          "base_uri": "https://localhost:8080/"
        },
        "id": "anfl_eMVNzeD",
        "outputId": "950ce446-2828-4d9e-ec5f-2ad9c72bbeae"
      },
      "outputs": [
        {
          "output_type": "stream",
          "name": "stdout",
          "text": [
            "\u001b[?25l   \u001b[90m━━━━━━━━━━━━━━━━━━━━━━━━━━━━━━━━━━━━━━━━\u001b[0m \u001b[32m0.0/2.0 MB\u001b[0m \u001b[31m?\u001b[0m eta \u001b[36m-:--:--\u001b[0m\r\u001b[2K   \u001b[91m━━━━━━━━━━━━━━━\u001b[0m\u001b[91m╸\u001b[0m\u001b[90m━━━━━━━━━━━━━━━━━━━━━━━━\u001b[0m \u001b[32m0.8/2.0 MB\u001b[0m \u001b[31m23.4 MB/s\u001b[0m eta \u001b[36m0:00:01\u001b[0m\r\u001b[2K   \u001b[90m━━━━━━━━━━━━━━━━━━━━━━━━━━━━━━━━━━━━━━━━\u001b[0m \u001b[32m2.0/2.0 MB\u001b[0m \u001b[31m34.3 MB/s\u001b[0m eta \u001b[36m0:00:00\u001b[0m\n",
            "\u001b[2K   \u001b[90m━━━━━━━━━━━━━━━━━━━━━━━━━━━━━━━━━━━━━━━━\u001b[0m \u001b[32m670.8/670.8 kB\u001b[0m \u001b[31m60.1 MB/s\u001b[0m eta \u001b[36m0:00:00\u001b[0m\n",
            "\u001b[2K   \u001b[90m━━━━━━━━━━━━━━━━━━━━━━━━━━━━━━━━━━━━━━━━\u001b[0m \u001b[32m73.5/73.5 kB\u001b[0m \u001b[31m7.2 MB/s\u001b[0m eta \u001b[36m0:00:00\u001b[0m\n",
            "\u001b[2K   \u001b[90m━━━━━━━━━━━━━━━━━━━━━━━━━━━━━━━━━━━━━━━━\u001b[0m \u001b[32m430.5/430.5 kB\u001b[0m \u001b[31m34.1 MB/s\u001b[0m eta \u001b[36m0:00:00\u001b[0m\n",
            "\u001b[2K   \u001b[90m━━━━━━━━━━━━━━━━━━━━━━━━━━━━━━━━━━━━━━━━\u001b[0m \u001b[32m8.0/8.0 MB\u001b[0m \u001b[31m129.3 MB/s\u001b[0m eta \u001b[36m0:00:00\u001b[0m\n",
            "\u001b[2K   \u001b[90m━━━━━━━━━━━━━━━━━━━━━━━━━━━━━━━━━━━━━━━━\u001b[0m \u001b[32m31.8/31.8 MB\u001b[0m \u001b[31m72.9 MB/s\u001b[0m eta \u001b[36m0:00:00\u001b[0m\n",
            "\u001b[2K   \u001b[90m━━━━━━━━━━━━━━━━━━━━━━━━━━━━━━━━━━━━━━━━\u001b[0m \u001b[32m2.2/2.2 MB\u001b[0m \u001b[31m94.4 MB/s\u001b[0m eta \u001b[36m0:00:00\u001b[0m\n",
            "\u001b[2K   \u001b[90m━━━━━━━━━━━━━━━━━━━━━━━━━━━━━━━━━━━━━━━━\u001b[0m \u001b[32m49.5/49.5 kB\u001b[0m \u001b[31m5.1 MB/s\u001b[0m eta \u001b[36m0:00:00\u001b[0m\n",
            "\u001b[2K   \u001b[90m━━━━━━━━━━━━━━━━━━━━━━━━━━━━━━━━━━━━━━━━\u001b[0m \u001b[32m2.8/2.8 MB\u001b[0m \u001b[31m127.4 MB/s\u001b[0m eta \u001b[36m0:00:00\u001b[0m\n",
            "\u001b[?25h"
          ]
        }
      ],
      "source": [
        "# Gerekli kütüphaneleri yükleyelim (Colab hücresine)\n",
        "!pip install cirq qiskit qutip numpy matplotlib --quiet"
      ]
    },
    {
      "cell_type": "markdown",
      "source": [
        "Cirq ile Temel Kapılar"
      ],
      "metadata": {
        "id": "Rg_sJmIQx_mv"
      }
    },
    {
      "cell_type": "code",
      "execution_count": 6,
      "metadata": {
        "colab": {
          "base_uri": "https://localhost:8080/"
        },
        "id": "u2FlCL88xZ2r",
        "outputId": "278da3d7-596c-49e9-e52b-3eb0ec373755"
      },
      "outputs": [
        {
          "output_type": "stream",
          "name": "stdout",
          "text": [
            "Cirq devresi:\n",
            "0: ───I───X───Y───Z───H───Rx(0.5π)───Ry(0.5π)───Rz(0.5π)───@───\n",
            "                                                           │\n",
            "1: ────────────────────────────────────────────────────────X───\n"
          ]
        }
      ],
      "source": [
        "import cirq\n",
        "\n",
        "# Qubit tanımla\n",
        "q0, q1 = cirq.LineQubit.range(2)\n",
        "\n",
        "# Devre oluştur\n",
        "circuit = cirq.Circuit(\n",
        "    cirq.I(q0),         # Identity\n",
        "    cirq.X(q0),         # NOT (Pauli-X)\n",
        "    cirq.Y(q0),         # Pauli-Y\n",
        "    cirq.Z(q0),         # Pauli-Z\n",
        "    cirq.H(q0),         # Hadamard\n",
        "    cirq.rx(3.14/2)(q0), # Rx(π/2)\n",
        "    cirq.ry(3.14/2)(q0), # Ry(π/2)\n",
        "    cirq.rz(3.14/2)(q0), # Rz(π/2)\n",
        "    cirq.CNOT(q0, q1),  # Kontrollü-X (CNOT)\n",
        "    #cirq.CH(q0, q1)     # Kontrollü-Hadamard\n",
        ")\n",
        "\n",
        "print(\"Cirq devresi:\")\n",
        "print(circuit)\n"
      ]
    },
    {
      "cell_type": "markdown",
      "source": [
        "Qiskit ile Temel Kapılar"
      ],
      "metadata": {
        "id": "kwmk7n5kyBuX"
      }
    },
    {
      "cell_type": "code",
      "source": [
        "from qiskit import QuantumCircuit\n",
        "\n",
        "# 2 qubitlik devre\n",
        "qc = QuantumCircuit(2)\n",
        "\n",
        "# Tek qubit kapıları\n",
        "# qc.i(0)          # Identity\n",
        "qc.x(0)          # X (NOT)\n",
        "qc.y(0)          # Y\n",
        "qc.z(0)          # Z\n",
        "qc.h(0)          # Hadamard\n",
        "qc.rx(3.14/2, 0) # Rx(π/2)\n",
        "qc.ry(3.14/2, 0) # Ry(π/2)\n",
        "qc.rz(3.14/2, 0) # Rz(π/2)\n",
        "\n",
        "# İki qubit kapıları\n",
        "qc.cx(0, 1)      # CNOT\n",
        "qc.ch(0, 1)      # Kontrollü Hadamard\n",
        "\n",
        "print(\"Qiskit devresi:\")\n",
        "print(qc.draw())\n"
      ],
      "metadata": {
        "colab": {
          "base_uri": "https://localhost:8080/"
        },
        "id": "ihZWcKznyB4c",
        "outputId": "2d0d27ea-3c7d-4291-dd37-fb174e2b5038"
      },
      "execution_count": 8,
      "outputs": [
        {
          "output_type": "stream",
          "name": "stdout",
          "text": [
            "Qiskit devresi:\n",
            "     ┌───┐┌───┐┌───┐┌───┐┌──────────┐┌──────────┐┌──────────┐          \n",
            "q_0: ┤ X ├┤ Y ├┤ Z ├┤ H ├┤ Rx(1.57) ├┤ Ry(1.57) ├┤ Rz(1.57) ├──■────■──\n",
            "     └───┘└───┘└───┘└───┘└──────────┘└──────────┘└──────────┘┌─┴─┐┌─┴─┐\n",
            "q_1: ────────────────────────────────────────────────────────┤ X ├┤ H ├\n",
            "                                                             └───┘└───┘\n"
          ]
        }
      ]
    },
    {
      "cell_type": "markdown",
      "source": [
        "QuTiP ile Temel Kapılar"
      ],
      "metadata": {
        "id": "6eGuEepyyQ-8"
      }
    },
    {
      "cell_type": "code",
      "source": [
        "import qutip as qt\n",
        "from qutip.qip.operations import gate_sequence_product\n",
        "\n",
        "# Tek qubit kapıları\n",
        "I = qt.qeye(2)     # Identity\n",
        "X = qt.sigmax()    # Pauli-X\n",
        "Y = qt.sigmay()    # Pauli-Y\n",
        "Z = qt.sigmaz()    # Pauli-Z\n",
        "H = (1/qt.qsqrt(2)) * (X + Z)  # Hadamard matrisi\n",
        "Rx = qt.rx(3.14/2) # Rx(π/2)\n",
        "Ry = qt.ry(3.14/2) # Ry(π/2)\n",
        "Rz = qt.rz(3.14/2) # Rz(π/2)\n",
        "\n",
        "print(\"Hadamard Matrisi (QuTiP):\")\n",
        "print(H)\n",
        "\n",
        "# İki qubit kapıları\n",
        "CNOT = qt.cnot()   # Kontrollü NOT\n",
        "CH = qt.control(qt.hadamard_transform(1), N=2, control=0, target=1) # Kontrollü H\n",
        "\n",
        "print(\"CNOT Matrisi:\")\n",
        "print(CNOT)\n"
      ],
      "metadata": {
        "colab": {
          "base_uri": "https://localhost:8080/",
          "height": 599
        },
        "id": "PZhLeZ0ByRSH",
        "outputId": "7ce20e85-200b-4653-ba42-68180f4c009f"
      },
      "execution_count": 9,
      "outputs": [
        {
          "output_type": "error",
          "ename": "ImportError",
          "evalue": "Importing 'qutip.qip' requires the 'qutip_qip' package. Install it with `pip install qutip-qip` (for more details, go to https://qutip-qip.readthedocs.io/).",
          "traceback": [
            "\u001b[0;31m---------------------------------------------------------------------------\u001b[0m",
            "\u001b[0;31mModuleNotFoundError\u001b[0m                       Traceback (most recent call last)",
            "\u001b[0;32m/usr/local/lib/python3.12/dist-packages/qutip/qip.py\u001b[0m in \u001b[0;36m<module>\u001b[0;34m\u001b[0m\n\u001b[1;32m      4\u001b[0m \u001b[0;32mtry\u001b[0m\u001b[0;34m:\u001b[0m\u001b[0;34m\u001b[0m\u001b[0;34m\u001b[0m\u001b[0m\n\u001b[0;32m----> 5\u001b[0;31m     \u001b[0;32mimport\u001b[0m \u001b[0mqutip_qip\u001b[0m\u001b[0;34m\u001b[0m\u001b[0;34m\u001b[0m\u001b[0m\n\u001b[0m\u001b[1;32m      6\u001b[0m     \u001b[0;32mdel\u001b[0m \u001b[0mqutip_qip\u001b[0m\u001b[0;34m\u001b[0m\u001b[0;34m\u001b[0m\u001b[0m\n",
            "\u001b[0;31mModuleNotFoundError\u001b[0m: No module named 'qutip_qip'",
            "\nDuring handling of the above exception, another exception occurred:\n",
            "\u001b[0;31mImportError\u001b[0m                               Traceback (most recent call last)",
            "\u001b[0;32m/tmp/ipython-input-4136041584.py\u001b[0m in \u001b[0;36m<cell line: 0>\u001b[0;34m()\u001b[0m\n\u001b[1;32m      1\u001b[0m \u001b[0;32mimport\u001b[0m \u001b[0mqutip\u001b[0m \u001b[0;32mas\u001b[0m \u001b[0mqt\u001b[0m\u001b[0;34m\u001b[0m\u001b[0;34m\u001b[0m\u001b[0m\n\u001b[0;32m----> 2\u001b[0;31m \u001b[0;32mfrom\u001b[0m \u001b[0mqutip\u001b[0m\u001b[0;34m.\u001b[0m\u001b[0mqip\u001b[0m\u001b[0;34m.\u001b[0m\u001b[0moperations\u001b[0m \u001b[0;32mimport\u001b[0m \u001b[0mgate_sequence_product\u001b[0m\u001b[0;34m\u001b[0m\u001b[0;34m\u001b[0m\u001b[0m\n\u001b[0m\u001b[1;32m      3\u001b[0m \u001b[0;34m\u001b[0m\u001b[0m\n\u001b[1;32m      4\u001b[0m \u001b[0;31m# Tek qubit kapıları\u001b[0m\u001b[0;34m\u001b[0m\u001b[0;34m\u001b[0m\u001b[0m\n\u001b[1;32m      5\u001b[0m \u001b[0mI\u001b[0m \u001b[0;34m=\u001b[0m \u001b[0mqt\u001b[0m\u001b[0;34m.\u001b[0m\u001b[0mqeye\u001b[0m\u001b[0;34m(\u001b[0m\u001b[0;36m2\u001b[0m\u001b[0;34m)\u001b[0m     \u001b[0;31m# Identity\u001b[0m\u001b[0;34m\u001b[0m\u001b[0;34m\u001b[0m\u001b[0m\n",
            "\u001b[0;32m/usr/local/lib/python3.12/dist-packages/qutip/qip.py\u001b[0m in \u001b[0;36m<module>\u001b[0;34m\u001b[0m\n\u001b[1;32m      7\u001b[0m     \u001b[0msys\u001b[0m\u001b[0;34m.\u001b[0m\u001b[0mmodules\u001b[0m\u001b[0;34m[\u001b[0m\u001b[0;34m\"qutip.qip\"\u001b[0m\u001b[0;34m]\u001b[0m \u001b[0;34m=\u001b[0m \u001b[0msys\u001b[0m\u001b[0;34m.\u001b[0m\u001b[0mmodules\u001b[0m\u001b[0;34m[\u001b[0m\u001b[0;34m\"qutip_qip\"\u001b[0m\u001b[0;34m]\u001b[0m\u001b[0;34m\u001b[0m\u001b[0;34m\u001b[0m\u001b[0m\n\u001b[1;32m      8\u001b[0m \u001b[0;32mexcept\u001b[0m \u001b[0mImportError\u001b[0m\u001b[0;34m:\u001b[0m\u001b[0;34m\u001b[0m\u001b[0;34m\u001b[0m\u001b[0m\n\u001b[0;32m----> 9\u001b[0;31m     raise ImportError(\n\u001b[0m\u001b[1;32m     10\u001b[0m         \u001b[0;34m\"Importing 'qutip.qip' requires the 'qutip_qip' package. Install it \"\u001b[0m\u001b[0;34m\u001b[0m\u001b[0;34m\u001b[0m\u001b[0m\n\u001b[1;32m     11\u001b[0m         \u001b[0;34m\"with `pip install qutip-qip` (for more details, go to \"\u001b[0m\u001b[0;34m\u001b[0m\u001b[0;34m\u001b[0m\u001b[0m\n",
            "\u001b[0;31mImportError\u001b[0m: Importing 'qutip.qip' requires the 'qutip_qip' package. Install it with `pip install qutip-qip` (for more details, go to https://qutip-qip.readthedocs.io/).",
            "",
            "\u001b[0;31m---------------------------------------------------------------------------\u001b[0;32m\nNOTE: If your import is failing due to a missing package, you can\nmanually install dependencies using either !pip or !apt.\n\nTo view examples of installing some common dependencies, click the\n\"Open Examples\" button below.\n\u001b[0;31m---------------------------------------------------------------------------\u001b[0m\n"
          ],
          "errorDetails": {
            "actions": [
              {
                "action": "open_url",
                "actionText": "Open Examples",
                "url": "/notebooks/snippets/importing_libraries.ipynb"
              }
            ]
          }
        }
      ]
    }
  ]
}