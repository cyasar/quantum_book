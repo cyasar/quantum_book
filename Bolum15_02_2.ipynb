{
  "nbformat": 4,
  "nbformat_minor": 0,
  "metadata": {
    "colab": {
      "provenance": []
    },
    "kernelspec": {
      "name": "python3",
      "display_name": "Python 3"
    },
    "language_info": {
      "name": "python"
    }
  },
  "cells": [
    {
      "cell_type": "markdown",
      "metadata": {
        "id": "HkikwNrKNzeD"
      },
      "source": [
        "Ön hazırlık (kütüphane kurulumu)"
      ]
    },
    {
      "cell_type": "code",
      "execution_count": 1,
      "metadata": {
        "colab": {
          "base_uri": "https://localhost:8080/"
        },
        "id": "anfl_eMVNzeD",
        "outputId": "5d736bee-6052-4812-fe24-c025b99ecc39"
      },
      "outputs": [
        {
          "output_type": "stream",
          "name": "stdout",
          "text": [
            "\u001b[?25l   \u001b[90m━━━━━━━━━━━━━━━━━━━━━━━━━━━━━━━━━━━━━━━━\u001b[0m \u001b[32m0.0/2.0 MB\u001b[0m \u001b[31m?\u001b[0m eta \u001b[36m-:--:--\u001b[0m\r\u001b[2K   \u001b[91m━━━━━━━━━━━━━━━━━\u001b[0m\u001b[91m╸\u001b[0m\u001b[90m━━━━━━━━━━━━━━━━━━━━━━\u001b[0m \u001b[32m0.9/2.0 MB\u001b[0m \u001b[31m26.9 MB/s\u001b[0m eta \u001b[36m0:00:01\u001b[0m\r\u001b[2K   \u001b[90m━━━━━━━━━━━━━━━━━━━━━━━━━━━━━━━━━━━━━━━━\u001b[0m \u001b[32m2.0/2.0 MB\u001b[0m \u001b[31m32.0 MB/s\u001b[0m eta \u001b[36m0:00:00\u001b[0m\n",
            "\u001b[?25h\u001b[?25l   \u001b[90m━━━━━━━━━━━━━━━━━━━━━━━━━━━━━━━━━━━━━━━━\u001b[0m \u001b[32m0.0/670.8 kB\u001b[0m \u001b[31m?\u001b[0m eta \u001b[36m-:--:--\u001b[0m\r\u001b[2K   \u001b[90m━━━━━━━━━━━━━━━━━━━━━━━━━━━━━━━━━━━━━━━━\u001b[0m \u001b[32m670.8/670.8 kB\u001b[0m \u001b[31m40.7 MB/s\u001b[0m eta \u001b[36m0:00:00\u001b[0m\n",
            "\u001b[2K   \u001b[90m━━━━━━━━━━━━━━━━━━━━━━━━━━━━━━━━━━━━━━━━\u001b[0m \u001b[32m73.5/73.5 kB\u001b[0m \u001b[31m5.8 MB/s\u001b[0m eta \u001b[36m0:00:00\u001b[0m\n",
            "\u001b[2K   \u001b[90m━━━━━━━━━━━━━━━━━━━━━━━━━━━━━━━━━━━━━━━━\u001b[0m \u001b[32m430.5/430.5 kB\u001b[0m \u001b[31m32.6 MB/s\u001b[0m eta \u001b[36m0:00:00\u001b[0m\n",
            "\u001b[2K   \u001b[90m━━━━━━━━━━━━━━━━━━━━━━━━━━━━━━━━━━━━━━━━\u001b[0m \u001b[32m8.0/8.0 MB\u001b[0m \u001b[31m53.4 MB/s\u001b[0m eta \u001b[36m0:00:00\u001b[0m\n",
            "\u001b[2K   \u001b[90m━━━━━━━━━━━━━━━━━━━━━━━━━━━━━━━━━━━━━━━━\u001b[0m \u001b[32m31.8/31.8 MB\u001b[0m \u001b[31m27.5 MB/s\u001b[0m eta \u001b[36m0:00:00\u001b[0m\n",
            "\u001b[2K   \u001b[90m━━━━━━━━━━━━━━━━━━━━━━━━━━━━━━━━━━━━━━━━\u001b[0m \u001b[32m2.2/2.2 MB\u001b[0m \u001b[31m73.3 MB/s\u001b[0m eta \u001b[36m0:00:00\u001b[0m\n",
            "\u001b[2K   \u001b[90m━━━━━━━━━━━━━━━━━━━━━━━━━━━━━━━━━━━━━━━━\u001b[0m \u001b[32m49.5/49.5 kB\u001b[0m \u001b[31m3.2 MB/s\u001b[0m eta \u001b[36m0:00:00\u001b[0m\n",
            "\u001b[2K   \u001b[90m━━━━━━━━━━━━━━━━━━━━━━━━━━━━━━━━━━━━━━━━\u001b[0m \u001b[32m2.8/2.8 MB\u001b[0m \u001b[31m61.2 MB/s\u001b[0m eta \u001b[36m0:00:00\u001b[0m\n",
            "\u001b[?25h"
          ]
        }
      ],
      "source": [
        "# Gerekli kütüphaneleri yükleyelim (Colab hücresine)\n",
        "!pip install cirq qiskit qutip numpy matplotlib --quiet"
      ]
    },
    {
      "cell_type": "code",
      "execution_count": null,
      "metadata": {
        "id": "AGAzM0W24b_3"
      },
      "outputs": [],
      "source": []
    },
    {
      "cell_type": "markdown",
      "source": [
        "Deutsch Algoritması\n",
        "\n",
        "\n",
        "Cirq Örneği"
      ],
      "metadata": {
        "id": "sfLQLvI64dZr"
      }
    },
    {
      "cell_type": "code",
      "source": [
        "import cirq\n",
        "\n",
        "# Qubitleri oluştur\n",
        "q0, q1 = cirq.LineQubit.range(2)\n",
        "\n",
        "# Fonksiyon (oracle) sabit veya dengeli olabilir\n",
        "def deutsch_oracle(qubits, balanced=False):\n",
        "    if balanced:\n",
        "        return [cirq.CNOT(qubits[0], qubits[1])]\n",
        "    else:\n",
        "        return []  # sabit fonksiyon: hiçbir şey yapma\n",
        "\n",
        "# Devre oluştur\n",
        "circuit = cirq.Circuit()\n",
        "circuit.append([cirq.H(q0), cirq.X(q1), cirq.H(q1)])\n",
        "circuit.append(deutsch_oracle([q0, q1], balanced=True))\n",
        "circuit.append(cirq.H(q0))\n",
        "circuit.append(cirq.measure(q0, key='result'))\n",
        "\n",
        "# Simüle et\n",
        "simulator = cirq.Simulator()\n",
        "result = simulator.run(circuit, repetitions=10)\n",
        "print(result)\n"
      ],
      "metadata": {
        "colab": {
          "base_uri": "https://localhost:8080/"
        },
        "id": "3vzCkRZS4dgq",
        "outputId": "7ec9f46c-db8b-4374-f3c5-4187aeb5913e"
      },
      "execution_count": 2,
      "outputs": [
        {
          "output_type": "stream",
          "name": "stdout",
          "text": [
            "result=1111111111\n"
          ]
        }
      ]
    },
    {
      "cell_type": "markdown",
      "source": [
        "Qiskit Örneği"
      ],
      "metadata": {
        "id": "jgKyVvoZ4dpe"
      }
    },
    {
      "cell_type": "code",
      "source": [
        "from qiskit import QuantumCircuit, Aer, transpile, execute\n",
        "\n",
        "qc = QuantumCircuit(2,1)\n",
        "qc.x(1)\n",
        "qc.h([0,1])\n",
        "\n",
        "# Oracle\n",
        "def deutsch_oracle(qc, balanced=False):\n",
        "    if balanced:\n",
        "        qc.cx(0,1)\n",
        "\n",
        "deutsch_oracle(qc, balanced=True)\n",
        "qc.h(0)\n",
        "qc.measure(0,0)\n",
        "\n",
        "sim = Aer.get_backend('aer_simulator')\n",
        "result = sim.run(qc, shots=10).result()\n",
        "print(result.get_counts())\n"
      ],
      "metadata": {
        "colab": {
          "base_uri": "https://localhost:8080/",
          "height": 384
        },
        "id": "tLXk9YEx4dvH",
        "outputId": "1d2e5cc9-1f96-4a5c-ba13-edd8aa5e7a8d"
      },
      "execution_count": 5,
      "outputs": [
        {
          "output_type": "error",
          "ename": "ImportError",
          "evalue": "cannot import name 'Aer' from 'qiskit' (/usr/local/lib/python3.12/dist-packages/qiskit/__init__.py)",
          "traceback": [
            "\u001b[0;31m---------------------------------------------------------------------------\u001b[0m",
            "\u001b[0;31mImportError\u001b[0m                               Traceback (most recent call last)",
            "\u001b[0;32m/tmp/ipython-input-690354734.py\u001b[0m in \u001b[0;36m<cell line: 0>\u001b[0;34m()\u001b[0m\n\u001b[0;32m----> 1\u001b[0;31m \u001b[0;32mfrom\u001b[0m \u001b[0mqiskit\u001b[0m \u001b[0;32mimport\u001b[0m \u001b[0mQuantumCircuit\u001b[0m\u001b[0;34m,\u001b[0m \u001b[0mAer\u001b[0m\u001b[0;34m,\u001b[0m \u001b[0mtranspile\u001b[0m\u001b[0;34m,\u001b[0m \u001b[0mexecute\u001b[0m\u001b[0;34m\u001b[0m\u001b[0;34m\u001b[0m\u001b[0m\n\u001b[0m\u001b[1;32m      2\u001b[0m \u001b[0;34m\u001b[0m\u001b[0m\n\u001b[1;32m      3\u001b[0m \u001b[0mqc\u001b[0m \u001b[0;34m=\u001b[0m \u001b[0mQuantumCircuit\u001b[0m\u001b[0;34m(\u001b[0m\u001b[0;36m2\u001b[0m\u001b[0;34m,\u001b[0m\u001b[0;36m1\u001b[0m\u001b[0;34m)\u001b[0m\u001b[0;34m\u001b[0m\u001b[0;34m\u001b[0m\u001b[0m\n\u001b[1;32m      4\u001b[0m \u001b[0mqc\u001b[0m\u001b[0;34m.\u001b[0m\u001b[0mx\u001b[0m\u001b[0;34m(\u001b[0m\u001b[0;36m1\u001b[0m\u001b[0;34m)\u001b[0m\u001b[0;34m\u001b[0m\u001b[0;34m\u001b[0m\u001b[0m\n\u001b[1;32m      5\u001b[0m \u001b[0mqc\u001b[0m\u001b[0;34m.\u001b[0m\u001b[0mh\u001b[0m\u001b[0;34m(\u001b[0m\u001b[0;34m[\u001b[0m\u001b[0;36m0\u001b[0m\u001b[0;34m,\u001b[0m\u001b[0;36m1\u001b[0m\u001b[0;34m]\u001b[0m\u001b[0;34m)\u001b[0m\u001b[0;34m\u001b[0m\u001b[0;34m\u001b[0m\u001b[0m\n",
            "\u001b[0;31mImportError\u001b[0m: cannot import name 'Aer' from 'qiskit' (/usr/local/lib/python3.12/dist-packages/qiskit/__init__.py)",
            "",
            "\u001b[0;31m---------------------------------------------------------------------------\u001b[0;32m\nNOTE: If your import is failing due to a missing package, you can\nmanually install dependencies using either !pip or !apt.\n\nTo view examples of installing some common dependencies, click the\n\"Open Examples\" button below.\n\u001b[0;31m---------------------------------------------------------------------------\u001b[0m\n"
          ],
          "errorDetails": {
            "actions": [
              {
                "action": "open_url",
                "actionText": "Open Examples",
                "url": "/notebooks/snippets/importing_libraries.ipynb"
              }
            ]
          }
        }
      ]
    },
    {
      "cell_type": "markdown",
      "source": [
        "QuTiP Örneği"
      ],
      "metadata": {
        "id": "Um83TzuZ4d05"
      }
    },
    {
      "cell_type": "code",
      "source": [
        "from qutip import *\n",
        "\n",
        "# Başlangıç durumu |0>|1>\n",
        "psi0 = tensor(basis(2,0), basis(2,1))\n",
        "H = snot()  # Hadamard kapısı\n",
        "\n",
        "# Başlangıçta Hadamard\n",
        "psi1 = tensor(H*psi0.ptrace(0), H*psi0.ptrace(1))\n",
        "\n",
        "# Oracle (dengeli)\n",
        "Uf = cnot()\n",
        "psi2 = Uf*psi1\n",
        "\n",
        "# Ölçüm\n",
        "proj0 = tensor(basis(2,0)*basis(2,0).dag(), qeye(2))\n",
        "prob0 = expect(proj0, psi2)\n",
        "print(\"Qubit 0 ölçüm olasılığı |0>:\", prob0)\n"
      ],
      "metadata": {
        "colab": {
          "base_uri": "https://localhost:8080/",
          "height": 211
        },
        "id": "uM-iMIYS4d6B",
        "outputId": "32370348-aaf8-413c-ec5c-977b4d42c2d8"
      },
      "execution_count": 6,
      "outputs": [
        {
          "output_type": "error",
          "ename": "NameError",
          "evalue": "name 'snot' is not defined",
          "traceback": [
            "\u001b[0;31m---------------------------------------------------------------------------\u001b[0m",
            "\u001b[0;31mNameError\u001b[0m                                 Traceback (most recent call last)",
            "\u001b[0;32m/tmp/ipython-input-176901460.py\u001b[0m in \u001b[0;36m<cell line: 0>\u001b[0;34m()\u001b[0m\n\u001b[1;32m      3\u001b[0m \u001b[0;31m# Başlangıç durumu |0>|1>\u001b[0m\u001b[0;34m\u001b[0m\u001b[0;34m\u001b[0m\u001b[0m\n\u001b[1;32m      4\u001b[0m \u001b[0mpsi0\u001b[0m \u001b[0;34m=\u001b[0m \u001b[0mtensor\u001b[0m\u001b[0;34m(\u001b[0m\u001b[0mbasis\u001b[0m\u001b[0;34m(\u001b[0m\u001b[0;36m2\u001b[0m\u001b[0;34m,\u001b[0m\u001b[0;36m0\u001b[0m\u001b[0;34m)\u001b[0m\u001b[0;34m,\u001b[0m \u001b[0mbasis\u001b[0m\u001b[0;34m(\u001b[0m\u001b[0;36m2\u001b[0m\u001b[0;34m,\u001b[0m\u001b[0;36m1\u001b[0m\u001b[0;34m)\u001b[0m\u001b[0;34m)\u001b[0m\u001b[0;34m\u001b[0m\u001b[0;34m\u001b[0m\u001b[0m\n\u001b[0;32m----> 5\u001b[0;31m \u001b[0mH\u001b[0m \u001b[0;34m=\u001b[0m \u001b[0msnot\u001b[0m\u001b[0;34m(\u001b[0m\u001b[0;34m)\u001b[0m  \u001b[0;31m# Hadamard kapısı\u001b[0m\u001b[0;34m\u001b[0m\u001b[0;34m\u001b[0m\u001b[0m\n\u001b[0m\u001b[1;32m      6\u001b[0m \u001b[0;34m\u001b[0m\u001b[0m\n\u001b[1;32m      7\u001b[0m \u001b[0;31m# Başlangıçta Hadamard\u001b[0m\u001b[0;34m\u001b[0m\u001b[0;34m\u001b[0m\u001b[0m\n",
            "\u001b[0;31mNameError\u001b[0m: name 'snot' is not defined"
          ]
        }
      ]
    },
    {
      "cell_type": "markdown",
      "source": [
        "Deutsch-Jozsa Algoritması\n",
        "\n",
        "\n",
        "Cirq Örneği"
      ],
      "metadata": {
        "id": "Tbbfx2_R40Af"
      }
    },
    {
      "cell_type": "code",
      "source": [
        "n = 3\n",
        "qubits = cirq.LineQubit.range(n+1)\n",
        "circuit = cirq.Circuit()\n",
        "\n",
        "# Başlangıç ve Hadamard\n",
        "circuit.append(cirq.X(qubits[-1]))\n",
        "circuit.append(cirq.H.on_each(*qubits))\n",
        "\n",
        "# Oracle örneği (dengeli)\n",
        "def dj_oracle(qubits):\n",
        "    # Örnek olarak sadece qubit 0 ve 1 arasında CNOT\n",
        "    return [cirq.CNOT(qubits[0], qubits[-1]), cirq.CNOT(qubits[1], qubits[-1])]\n",
        "\n",
        "circuit.append(dj_oracle(qubits))\n",
        "circuit.append(cirq.H.on_each(*qubits[:-1]))\n",
        "circuit.append(cirq.measure(*qubits[:-1], key='result'))\n",
        "\n",
        "simulator = cirq.Simulator()\n",
        "result = simulator.run(circuit, repetitions=10)\n",
        "print(result)\n"
      ],
      "metadata": {
        "colab": {
          "base_uri": "https://localhost:8080/"
        },
        "id": "_9YIEd6O40FD",
        "outputId": "216006b5-904b-4470-ec04-5444651b3198"
      },
      "execution_count": 4,
      "outputs": [
        {
          "output_type": "stream",
          "name": "stdout",
          "text": [
            "result=1111111111, 1111111111, 0000000000\n"
          ]
        }
      ]
    },
    {
      "cell_type": "markdown",
      "source": [
        "Qiskit Örneği"
      ],
      "metadata": {
        "id": "J6h-39b540JG"
      }
    },
    {
      "cell_type": "code",
      "source": [
        "from qiskit import QuantumCircuit, Aer, execute\n",
        "\n",
        "n = 3\n",
        "qc = QuantumCircuit(n+1, n)\n",
        "\n",
        "qc.x(n)\n",
        "qc.h(range(n+1))\n",
        "\n",
        "# Oracle örneği (dengeli)\n",
        "qc.cx(0,n)\n",
        "qc.cx(1,n)\n",
        "\n",
        "qc.h(range(n))\n",
        "qc.measure(range(n), range(n))\n",
        "\n",
        "sim = Aer.get_backend('aer_simulator')\n",
        "result = sim.run(qc, shots=10).result()\n",
        "print(result.get_counts())\n"
      ],
      "metadata": {
        "colab": {
          "base_uri": "https://localhost:8080/",
          "height": 384
        },
        "id": "jrs6mlCP40NR",
        "outputId": "dd50044c-2fa2-402f-a56a-78b692b771ee"
      },
      "execution_count": 7,
      "outputs": [
        {
          "output_type": "error",
          "ename": "ImportError",
          "evalue": "cannot import name 'Aer' from 'qiskit' (/usr/local/lib/python3.12/dist-packages/qiskit/__init__.py)",
          "traceback": [
            "\u001b[0;31m---------------------------------------------------------------------------\u001b[0m",
            "\u001b[0;31mImportError\u001b[0m                               Traceback (most recent call last)",
            "\u001b[0;32m/tmp/ipython-input-1622297088.py\u001b[0m in \u001b[0;36m<cell line: 0>\u001b[0;34m()\u001b[0m\n\u001b[0;32m----> 1\u001b[0;31m \u001b[0;32mfrom\u001b[0m \u001b[0mqiskit\u001b[0m \u001b[0;32mimport\u001b[0m \u001b[0mQuantumCircuit\u001b[0m\u001b[0;34m,\u001b[0m \u001b[0mAer\u001b[0m\u001b[0;34m,\u001b[0m \u001b[0mexecute\u001b[0m\u001b[0;34m\u001b[0m\u001b[0;34m\u001b[0m\u001b[0m\n\u001b[0m\u001b[1;32m      2\u001b[0m \u001b[0;34m\u001b[0m\u001b[0m\n\u001b[1;32m      3\u001b[0m \u001b[0mn\u001b[0m \u001b[0;34m=\u001b[0m \u001b[0;36m3\u001b[0m\u001b[0;34m\u001b[0m\u001b[0;34m\u001b[0m\u001b[0m\n\u001b[1;32m      4\u001b[0m \u001b[0mqc\u001b[0m \u001b[0;34m=\u001b[0m \u001b[0mQuantumCircuit\u001b[0m\u001b[0;34m(\u001b[0m\u001b[0mn\u001b[0m\u001b[0;34m+\u001b[0m\u001b[0;36m1\u001b[0m\u001b[0;34m,\u001b[0m \u001b[0mn\u001b[0m\u001b[0;34m)\u001b[0m\u001b[0;34m\u001b[0m\u001b[0;34m\u001b[0m\u001b[0m\n\u001b[1;32m      5\u001b[0m \u001b[0;34m\u001b[0m\u001b[0m\n",
            "\u001b[0;31mImportError\u001b[0m: cannot import name 'Aer' from 'qiskit' (/usr/local/lib/python3.12/dist-packages/qiskit/__init__.py)",
            "",
            "\u001b[0;31m---------------------------------------------------------------------------\u001b[0;32m\nNOTE: If your import is failing due to a missing package, you can\nmanually install dependencies using either !pip or !apt.\n\nTo view examples of installing some common dependencies, click the\n\"Open Examples\" button below.\n\u001b[0;31m---------------------------------------------------------------------------\u001b[0m\n"
          ],
          "errorDetails": {
            "actions": [
              {
                "action": "open_url",
                "actionText": "Open Examples",
                "url": "/notebooks/snippets/importing_libraries.ipynb"
              }
            ]
          }
        }
      ]
    },
    {
      "cell_type": "markdown",
      "source": [
        "QuTiP Örneği"
      ],
      "metadata": {
        "id": "q6WysLuk40RC"
      }
    },
    {
      "cell_type": "code",
      "source": [
        "from qutip import *\n",
        "\n",
        "n = 3\n",
        "psi0 = tensor([basis(2,0) for _ in range(n)] + [basis(2,1)])\n",
        "H = snot()\n",
        "for i in range(n):\n",
        "    psi0 = tensor(H*basis(2,0), psi0.ptrace(i+1))\n",
        "\n",
        "# Oracle örneği: Dengeli\n",
        "Uf = cnot()\n",
        "psi1 = Uf*psi0\n",
        "\n",
        "# Hadamard\n",
        "for i in range(n):\n",
        "    psi1 = tensor(H*psi1.ptrace(i), psi1.ptrace(i+1))\n",
        "\n",
        "# Ölçüm\n",
        "proj = tensor([basis(2,0)*basis(2,0).dag() for _ in range(n)] + [qeye(2)])\n",
        "prob0 = expect(proj, psi1)\n",
        "print(\"Tüm qubit |0> olasılığı:\", prob0)\n"
      ],
      "metadata": {
        "colab": {
          "base_uri": "https://localhost:8080/",
          "height": 211
        },
        "id": "6y70DsFB40Vf",
        "outputId": "a486e83f-3960-471c-84c4-fbc76d83340b"
      },
      "execution_count": 8,
      "outputs": [
        {
          "output_type": "error",
          "ename": "NameError",
          "evalue": "name 'snot' is not defined",
          "traceback": [
            "\u001b[0;31m---------------------------------------------------------------------------\u001b[0m",
            "\u001b[0;31mNameError\u001b[0m                                 Traceback (most recent call last)",
            "\u001b[0;32m/tmp/ipython-input-2044334112.py\u001b[0m in \u001b[0;36m<cell line: 0>\u001b[0;34m()\u001b[0m\n\u001b[1;32m      3\u001b[0m \u001b[0mn\u001b[0m \u001b[0;34m=\u001b[0m \u001b[0;36m3\u001b[0m\u001b[0;34m\u001b[0m\u001b[0;34m\u001b[0m\u001b[0m\n\u001b[1;32m      4\u001b[0m \u001b[0mpsi0\u001b[0m \u001b[0;34m=\u001b[0m \u001b[0mtensor\u001b[0m\u001b[0;34m(\u001b[0m\u001b[0;34m[\u001b[0m\u001b[0mbasis\u001b[0m\u001b[0;34m(\u001b[0m\u001b[0;36m2\u001b[0m\u001b[0;34m,\u001b[0m\u001b[0;36m0\u001b[0m\u001b[0;34m)\u001b[0m \u001b[0;32mfor\u001b[0m \u001b[0m_\u001b[0m \u001b[0;32min\u001b[0m \u001b[0mrange\u001b[0m\u001b[0;34m(\u001b[0m\u001b[0mn\u001b[0m\u001b[0;34m)\u001b[0m\u001b[0;34m]\u001b[0m \u001b[0;34m+\u001b[0m \u001b[0;34m[\u001b[0m\u001b[0mbasis\u001b[0m\u001b[0;34m(\u001b[0m\u001b[0;36m2\u001b[0m\u001b[0;34m,\u001b[0m\u001b[0;36m1\u001b[0m\u001b[0;34m)\u001b[0m\u001b[0;34m]\u001b[0m\u001b[0;34m)\u001b[0m\u001b[0;34m\u001b[0m\u001b[0;34m\u001b[0m\u001b[0m\n\u001b[0;32m----> 5\u001b[0;31m \u001b[0mH\u001b[0m \u001b[0;34m=\u001b[0m \u001b[0msnot\u001b[0m\u001b[0;34m(\u001b[0m\u001b[0;34m)\u001b[0m\u001b[0;34m\u001b[0m\u001b[0;34m\u001b[0m\u001b[0m\n\u001b[0m\u001b[1;32m      6\u001b[0m \u001b[0;32mfor\u001b[0m \u001b[0mi\u001b[0m \u001b[0;32min\u001b[0m \u001b[0mrange\u001b[0m\u001b[0;34m(\u001b[0m\u001b[0mn\u001b[0m\u001b[0;34m)\u001b[0m\u001b[0;34m:\u001b[0m\u001b[0;34m\u001b[0m\u001b[0;34m\u001b[0m\u001b[0m\n\u001b[1;32m      7\u001b[0m     \u001b[0mpsi0\u001b[0m \u001b[0;34m=\u001b[0m \u001b[0mtensor\u001b[0m\u001b[0;34m(\u001b[0m\u001b[0mH\u001b[0m\u001b[0;34m*\u001b[0m\u001b[0mbasis\u001b[0m\u001b[0;34m(\u001b[0m\u001b[0;36m2\u001b[0m\u001b[0;34m,\u001b[0m\u001b[0;36m0\u001b[0m\u001b[0;34m)\u001b[0m\u001b[0;34m,\u001b[0m \u001b[0mpsi0\u001b[0m\u001b[0;34m.\u001b[0m\u001b[0mptrace\u001b[0m\u001b[0;34m(\u001b[0m\u001b[0mi\u001b[0m\u001b[0;34m+\u001b[0m\u001b[0;36m1\u001b[0m\u001b[0;34m)\u001b[0m\u001b[0;34m)\u001b[0m\u001b[0;34m\u001b[0m\u001b[0;34m\u001b[0m\u001b[0m\n",
            "\u001b[0;31mNameError\u001b[0m: name 'snot' is not defined"
          ]
        }
      ]
    },
    {
      "cell_type": "markdown",
      "source": [
        "Bernstein-Vazirani Algoritması\n",
        "\n",
        "\n",
        "Cirq Örneği"
      ],
      "metadata": {
        "id": "xYhc6b-N5Tzn"
      }
    },
    {
      "cell_type": "code",
      "source": [
        "n = 4\n",
        "s = [1,0,1,1]  # gizli bit dizisi\n",
        "qubits = cirq.LineQubit.range(n+1)\n",
        "circuit = cirq.Circuit()\n",
        "\n",
        "circuit.append(cirq.X(qubits[-1]))\n",
        "circuit.append(cirq.H.on_each(*qubits))\n",
        "\n",
        "# Oracle U_f\n",
        "for i, bit in enumerate(s):\n",
        "    if bit:\n",
        "        circuit.append(cirq.CNOT(qubits[i], qubits[-1]))\n",
        "\n",
        "circuit.append(cirq.H.on_each(*qubits[:-1]))\n",
        "circuit.append(cirq.measure(*qubits[:-1], key='result'))\n",
        "\n",
        "simulator = cirq.Simulator()\n",
        "result = simulator.run(circuit, repetitions=10)\n",
        "print(result)\n"
      ],
      "metadata": {
        "colab": {
          "base_uri": "https://localhost:8080/"
        },
        "id": "s0YDlQhn5T4y",
        "outputId": "10023784-1806-4d88-f42d-e9c2c0a52adc"
      },
      "execution_count": 9,
      "outputs": [
        {
          "output_type": "stream",
          "name": "stdout",
          "text": [
            "result=1111111111, 0000000000, 1111111111, 1111111111\n"
          ]
        }
      ]
    },
    {
      "cell_type": "markdown",
      "source": [
        "Qiskit Örneği"
      ],
      "metadata": {
        "id": "4QnbPYMD5T9X"
      }
    },
    {
      "cell_type": "code",
      "source": [
        "n = 4\n",
        "s = [1,0,1,1]\n",
        "qc = QuantumCircuit(n+1,n)\n",
        "qc.x(n)\n",
        "qc.h(range(n+1))\n",
        "\n",
        "# Oracle\n",
        "for i, bit in enumerate(s):\n",
        "    if bit == 1:\n",
        "        qc.cx(i,n)\n",
        "\n",
        "qc.h(range(n))\n",
        "qc.measure(range(n), range(n))\n",
        "\n",
        "sim = Aer.get_backend('aer_simulator')\n",
        "result = sim.run(qc, shots=10).result()\n",
        "print(result.get_counts())\n"
      ],
      "metadata": {
        "colab": {
          "base_uri": "https://localhost:8080/",
          "height": 211
        },
        "id": "mC4taxwU5UB7",
        "outputId": "40f2344f-d047-49fe-cc1d-89d685f014af"
      },
      "execution_count": 10,
      "outputs": [
        {
          "output_type": "error",
          "ename": "NameError",
          "evalue": "name 'Aer' is not defined",
          "traceback": [
            "\u001b[0;31m---------------------------------------------------------------------------\u001b[0m",
            "\u001b[0;31mNameError\u001b[0m                                 Traceback (most recent call last)",
            "\u001b[0;32m/tmp/ipython-input-2845252248.py\u001b[0m in \u001b[0;36m<cell line: 0>\u001b[0;34m()\u001b[0m\n\u001b[1;32m     13\u001b[0m \u001b[0mqc\u001b[0m\u001b[0;34m.\u001b[0m\u001b[0mmeasure\u001b[0m\u001b[0;34m(\u001b[0m\u001b[0mrange\u001b[0m\u001b[0;34m(\u001b[0m\u001b[0mn\u001b[0m\u001b[0;34m)\u001b[0m\u001b[0;34m,\u001b[0m \u001b[0mrange\u001b[0m\u001b[0;34m(\u001b[0m\u001b[0mn\u001b[0m\u001b[0;34m)\u001b[0m\u001b[0;34m)\u001b[0m\u001b[0;34m\u001b[0m\u001b[0;34m\u001b[0m\u001b[0m\n\u001b[1;32m     14\u001b[0m \u001b[0;34m\u001b[0m\u001b[0m\n\u001b[0;32m---> 15\u001b[0;31m \u001b[0msim\u001b[0m \u001b[0;34m=\u001b[0m \u001b[0mAer\u001b[0m\u001b[0;34m.\u001b[0m\u001b[0mget_backend\u001b[0m\u001b[0;34m(\u001b[0m\u001b[0;34m'aer_simulator'\u001b[0m\u001b[0;34m)\u001b[0m\u001b[0;34m\u001b[0m\u001b[0;34m\u001b[0m\u001b[0m\n\u001b[0m\u001b[1;32m     16\u001b[0m \u001b[0mresult\u001b[0m \u001b[0;34m=\u001b[0m \u001b[0msim\u001b[0m\u001b[0;34m.\u001b[0m\u001b[0mrun\u001b[0m\u001b[0;34m(\u001b[0m\u001b[0mqc\u001b[0m\u001b[0;34m,\u001b[0m \u001b[0mshots\u001b[0m\u001b[0;34m=\u001b[0m\u001b[0;36m10\u001b[0m\u001b[0;34m)\u001b[0m\u001b[0;34m.\u001b[0m\u001b[0mresult\u001b[0m\u001b[0;34m(\u001b[0m\u001b[0;34m)\u001b[0m\u001b[0;34m\u001b[0m\u001b[0;34m\u001b[0m\u001b[0m\n\u001b[1;32m     17\u001b[0m \u001b[0mprint\u001b[0m\u001b[0;34m(\u001b[0m\u001b[0mresult\u001b[0m\u001b[0;34m.\u001b[0m\u001b[0mget_counts\u001b[0m\u001b[0;34m(\u001b[0m\u001b[0;34m)\u001b[0m\u001b[0;34m)\u001b[0m\u001b[0;34m\u001b[0m\u001b[0;34m\u001b[0m\u001b[0m\n",
            "\u001b[0;31mNameError\u001b[0m: name 'Aer' is not defined"
          ]
        }
      ]
    },
    {
      "cell_type": "markdown",
      "source": [
        "QuTiP Örneği"
      ],
      "metadata": {
        "id": "WCPGmY_55UHH"
      }
    },
    {
      "cell_type": "code",
      "source": [
        "from qutip import *\n",
        "\n",
        "n = 4\n",
        "s = [1,0,1,1]\n",
        "psi0 = tensor([basis(2,0) for _ in range(n)] + [basis(2,1)])\n",
        "H = snot()\n",
        "for i in range(n+1):\n",
        "    psi0 = tensor(H*basis(2,0), psi0.ptrace(i+1))\n",
        "\n",
        "# Oracle\n",
        "for i, bit in enumerate(s):\n",
        "    if bit:\n",
        "        psi0 = cnot() * psi0\n",
        "\n",
        "# Hadamard\n",
        "for i in range(n):\n",
        "    psi0 = tensor(H*psi0.ptrace(i), psi0.ptrace(i+1))\n",
        "\n",
        "# Ölçüm\n",
        "proj = tensor([basis(2,0)*basis(2,0).dag() for _ in range(n)] + [qeye(2)])\n",
        "prob0 = expect(proj, psi0)\n",
        "print(\"Gizli bit dizisi ölçüm olasılığı |0>:\", prob0)\n"
      ],
      "metadata": {
        "colab": {
          "base_uri": "https://localhost:8080/",
          "height": 211
        },
        "id": "DV5TG0r95UM6",
        "outputId": "ab5ba996-f0fb-4741-88d3-f0f2c7f3b89b"
      },
      "execution_count": 11,
      "outputs": [
        {
          "output_type": "error",
          "ename": "NameError",
          "evalue": "name 'snot' is not defined",
          "traceback": [
            "\u001b[0;31m---------------------------------------------------------------------------\u001b[0m",
            "\u001b[0;31mNameError\u001b[0m                                 Traceback (most recent call last)",
            "\u001b[0;32m/tmp/ipython-input-2047697762.py\u001b[0m in \u001b[0;36m<cell line: 0>\u001b[0;34m()\u001b[0m\n\u001b[1;32m      4\u001b[0m \u001b[0ms\u001b[0m \u001b[0;34m=\u001b[0m \u001b[0;34m[\u001b[0m\u001b[0;36m1\u001b[0m\u001b[0;34m,\u001b[0m\u001b[0;36m0\u001b[0m\u001b[0;34m,\u001b[0m\u001b[0;36m1\u001b[0m\u001b[0;34m,\u001b[0m\u001b[0;36m1\u001b[0m\u001b[0;34m]\u001b[0m\u001b[0;34m\u001b[0m\u001b[0;34m\u001b[0m\u001b[0m\n\u001b[1;32m      5\u001b[0m \u001b[0mpsi0\u001b[0m \u001b[0;34m=\u001b[0m \u001b[0mtensor\u001b[0m\u001b[0;34m(\u001b[0m\u001b[0;34m[\u001b[0m\u001b[0mbasis\u001b[0m\u001b[0;34m(\u001b[0m\u001b[0;36m2\u001b[0m\u001b[0;34m,\u001b[0m\u001b[0;36m0\u001b[0m\u001b[0;34m)\u001b[0m \u001b[0;32mfor\u001b[0m \u001b[0m_\u001b[0m \u001b[0;32min\u001b[0m \u001b[0mrange\u001b[0m\u001b[0;34m(\u001b[0m\u001b[0mn\u001b[0m\u001b[0;34m)\u001b[0m\u001b[0;34m]\u001b[0m \u001b[0;34m+\u001b[0m \u001b[0;34m[\u001b[0m\u001b[0mbasis\u001b[0m\u001b[0;34m(\u001b[0m\u001b[0;36m2\u001b[0m\u001b[0;34m,\u001b[0m\u001b[0;36m1\u001b[0m\u001b[0;34m)\u001b[0m\u001b[0;34m]\u001b[0m\u001b[0;34m)\u001b[0m\u001b[0;34m\u001b[0m\u001b[0;34m\u001b[0m\u001b[0m\n\u001b[0;32m----> 6\u001b[0;31m \u001b[0mH\u001b[0m \u001b[0;34m=\u001b[0m \u001b[0msnot\u001b[0m\u001b[0;34m(\u001b[0m\u001b[0;34m)\u001b[0m\u001b[0;34m\u001b[0m\u001b[0;34m\u001b[0m\u001b[0m\n\u001b[0m\u001b[1;32m      7\u001b[0m \u001b[0;32mfor\u001b[0m \u001b[0mi\u001b[0m \u001b[0;32min\u001b[0m \u001b[0mrange\u001b[0m\u001b[0;34m(\u001b[0m\u001b[0mn\u001b[0m\u001b[0;34m+\u001b[0m\u001b[0;36m1\u001b[0m\u001b[0;34m)\u001b[0m\u001b[0;34m:\u001b[0m\u001b[0;34m\u001b[0m\u001b[0;34m\u001b[0m\u001b[0m\n\u001b[1;32m      8\u001b[0m     \u001b[0mpsi0\u001b[0m \u001b[0;34m=\u001b[0m \u001b[0mtensor\u001b[0m\u001b[0;34m(\u001b[0m\u001b[0mH\u001b[0m\u001b[0;34m*\u001b[0m\u001b[0mbasis\u001b[0m\u001b[0;34m(\u001b[0m\u001b[0;36m2\u001b[0m\u001b[0;34m,\u001b[0m\u001b[0;36m0\u001b[0m\u001b[0;34m)\u001b[0m\u001b[0;34m,\u001b[0m \u001b[0mpsi0\u001b[0m\u001b[0;34m.\u001b[0m\u001b[0mptrace\u001b[0m\u001b[0;34m(\u001b[0m\u001b[0mi\u001b[0m\u001b[0;34m+\u001b[0m\u001b[0;36m1\u001b[0m\u001b[0;34m)\u001b[0m\u001b[0;34m)\u001b[0m\u001b[0;34m\u001b[0m\u001b[0;34m\u001b[0m\u001b[0m\n",
            "\u001b[0;31mNameError\u001b[0m: name 'snot' is not defined"
          ]
        }
      ]
    },
    {
      "cell_type": "markdown",
      "source": [
        "![image.png](data:image/png;base64,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)"
      ],
      "metadata": {
        "id": "V83DNdvS5tat"
      }
    },
    {
      "cell_type": "markdown",
      "source": [
        "Simon’s Algoritması\n",
        "\n",
        "Cirq Örneği"
      ],
      "metadata": {
        "id": "4DByUtPA5sqf"
      }
    },
    {
      "cell_type": "code",
      "source": [
        "import cirq\n",
        "import numpy as np\n",
        "\n",
        "# Qubit tanımı\n",
        "qubits = cirq.LineQubit.range(6)  # 3 input + 3 output qubit\n",
        "\n",
        "# Gizli bit dizisi\n",
        "s = [1, 0, 1]\n",
        "\n",
        "# Oracle fonksiyonu (basitleştirilmiş)\n",
        "def simon_oracle(qubits):\n",
        "    circuit = cirq.Circuit()\n",
        "    # Her bit için XOR maskesi\n",
        "    for i, bit in enumerate(s):\n",
        "        if bit == 1:\n",
        "            circuit.append(cirq.CNOT(qubits[i], qubits[i+3]))\n",
        "    return circuit\n",
        "\n",
        "# Devre oluşturma\n",
        "circuit = cirq.Circuit()\n",
        "# Başlangıç durumunu hazırlama\n",
        "circuit.append(cirq.H.on_each(*qubits[:3]))  # Hadamard giriş qubitleri\n",
        "circuit.append(simon_oracle(qubits))        # Oracle\n",
        "circuit.append(cirq.H.on_each(*qubits[:3])) # Tekrar Hadamard giriş qubitleri\n",
        "circuit.append(cirq.measure(*qubits[:3], key='result'))\n",
        "\n",
        "# Simülasyon\n",
        "simulator = cirq.Simulator()\n",
        "result = simulator.run(circuit, repetitions=10)\n",
        "print(result)\n"
      ],
      "metadata": {
        "colab": {
          "base_uri": "https://localhost:8080/"
        },
        "id": "_lJo6i6Z5su8",
        "outputId": "7074fd2f-94c5-41ba-abdf-e4d97c813308"
      },
      "execution_count": 17,
      "outputs": [
        {
          "output_type": "stream",
          "name": "stdout",
          "text": [
            "result=1101101001, 0000000000, 0110101110\n"
          ]
        }
      ]
    },
    {
      "cell_type": "markdown",
      "source": [
        "Qiskit Örneği"
      ],
      "metadata": {
        "id": "Blw2iZdN5szK"
      }
    },
    {
      "cell_type": "code",
      "source": [
        "from qiskit import QuantumCircuit, Aer, transpile, execute\n",
        "from qiskit.visualization import plot_histogram\n",
        "\n",
        "n = 3\n",
        "s = [1,0,1]\n",
        "\n",
        "qc = QuantumCircuit(6,3)  # 3 input + 3 output\n",
        "\n",
        "# Başlangıç: Hadamard\n",
        "qc.h(range(n))\n",
        "\n",
        "# Oracle U_f uygulaması\n",
        "for i, bit in enumerate(s):\n",
        "    if bit == 1:\n",
        "        qc.cx(i, i+n)\n",
        "\n",
        "# Hadamard tekrar\n",
        "qc.h(range(n))\n",
        "\n",
        "# Ölçüm\n",
        "qc.measure(range(n), range(n))\n",
        "\n",
        "# Simülasyon\n",
        "simulator = Aer.get_backend('qasm_simulator')\n",
        "result = execute(qc, simulator, shots=10).result()\n",
        "counts = result.get_counts()\n",
        "print(counts)\n"
      ],
      "metadata": {
        "colab": {
          "base_uri": "https://localhost:8080/",
          "height": 384
        },
        "id": "CnRWuYTH5s3q",
        "outputId": "120f292e-7951-4e17-fe31-5396d3da6176"
      },
      "execution_count": 13,
      "outputs": [
        {
          "output_type": "error",
          "ename": "ImportError",
          "evalue": "cannot import name 'Aer' from 'qiskit' (/usr/local/lib/python3.12/dist-packages/qiskit/__init__.py)",
          "traceback": [
            "\u001b[0;31m---------------------------------------------------------------------------\u001b[0m",
            "\u001b[0;31mImportError\u001b[0m                               Traceback (most recent call last)",
            "\u001b[0;32m/tmp/ipython-input-4274535629.py\u001b[0m in \u001b[0;36m<cell line: 0>\u001b[0;34m()\u001b[0m\n\u001b[0;32m----> 1\u001b[0;31m \u001b[0;32mfrom\u001b[0m \u001b[0mqiskit\u001b[0m \u001b[0;32mimport\u001b[0m \u001b[0mQuantumCircuit\u001b[0m\u001b[0;34m,\u001b[0m \u001b[0mAer\u001b[0m\u001b[0;34m,\u001b[0m \u001b[0mtranspile\u001b[0m\u001b[0;34m,\u001b[0m \u001b[0mexecute\u001b[0m\u001b[0;34m\u001b[0m\u001b[0;34m\u001b[0m\u001b[0m\n\u001b[0m\u001b[1;32m      2\u001b[0m \u001b[0;32mfrom\u001b[0m \u001b[0mqiskit\u001b[0m\u001b[0;34m.\u001b[0m\u001b[0mvisualization\u001b[0m \u001b[0;32mimport\u001b[0m \u001b[0mplot_histogram\u001b[0m\u001b[0;34m\u001b[0m\u001b[0;34m\u001b[0m\u001b[0m\n\u001b[1;32m      3\u001b[0m \u001b[0;34m\u001b[0m\u001b[0m\n\u001b[1;32m      4\u001b[0m \u001b[0mn\u001b[0m \u001b[0;34m=\u001b[0m \u001b[0;36m3\u001b[0m\u001b[0;34m\u001b[0m\u001b[0;34m\u001b[0m\u001b[0m\n\u001b[1;32m      5\u001b[0m \u001b[0ms\u001b[0m \u001b[0;34m=\u001b[0m \u001b[0;34m[\u001b[0m\u001b[0;36m1\u001b[0m\u001b[0;34m,\u001b[0m\u001b[0;36m0\u001b[0m\u001b[0;34m,\u001b[0m\u001b[0;36m1\u001b[0m\u001b[0;34m]\u001b[0m\u001b[0;34m\u001b[0m\u001b[0;34m\u001b[0m\u001b[0m\n",
            "\u001b[0;31mImportError\u001b[0m: cannot import name 'Aer' from 'qiskit' (/usr/local/lib/python3.12/dist-packages/qiskit/__init__.py)",
            "",
            "\u001b[0;31m---------------------------------------------------------------------------\u001b[0;32m\nNOTE: If your import is failing due to a missing package, you can\nmanually install dependencies using either !pip or !apt.\n\nTo view examples of installing some common dependencies, click the\n\"Open Examples\" button below.\n\u001b[0;31m---------------------------------------------------------------------------\u001b[0m\n"
          ],
          "errorDetails": {
            "actions": [
              {
                "action": "open_url",
                "actionText": "Open Examples",
                "url": "/notebooks/snippets/importing_libraries.ipynb"
              }
            ]
          }
        }
      ]
    },
    {
      "cell_type": "markdown",
      "source": [
        "QuTiP Örneği"
      ],
      "metadata": {
        "id": "7-FiIok75s79"
      }
    },
    {
      "cell_type": "code",
      "source": [
        "import qutip as qt\n",
        "import numpy as np\n",
        "\n",
        "# Qubit sayısı\n",
        "n = 3\n",
        "s = [1,0,1]\n",
        "\n",
        "# Başlangıç durumu |000000>\n",
        "psi0 = qt.tensor([qt.basis(2,0)]*6)\n",
        "\n",
        "# Hadamard operasyonları\n",
        "H = qt.hadamard_transform()\n",
        "Hn = qt.tensor([H]*n)\n",
        "\n",
        "psi1 = Hn * psi0[:n]  # giriş qubitlerine Hadamard\n",
        "psi1 = qt.tensor(psi1, psi0[n:]) # çıkış qubitleri ekle\n",
        "\n",
        "# Oracle U_f\n",
        "U_f = qt.qeye(2**6)\n",
        "for x in range(2**3):\n",
        "    y = np.array([int(b) for b in format(x, '03b')])\n",
        "    y_xor_s = np.bitwise_xor(y, s)\n",
        "    for i in range(3):\n",
        "        if y_xor_s[i] == 1:\n",
        "            # X kapısı simülasyonu\n",
        "            X = qt.sigmax()\n",
        "            op_list = [qt.qeye(2)]*6\n",
        "            op_list[i+3] = X\n",
        "            U_f = U_f * qt.tensor(op_list)\n",
        "\n",
        "psi2 = U_f * psi1\n",
        "\n",
        "# Tekrar Hadamard\n",
        "psi3 = qt.tensor([H]*n) * psi2[:n]\n",
        "psi3 = qt.tensor(psi3, psi2[n:])\n",
        "\n",
        "# Ölçüm olasılıkları\n",
        "probs = np.abs(psi3.full())**2\n",
        "print(\"Olasılıklar: \", probs.flatten())\n"
      ],
      "metadata": {
        "colab": {
          "base_uri": "https://localhost:8080/",
          "height": 211
        },
        "id": "ARjw5_c85tAa",
        "outputId": "9a05b2a8-d3f6-491b-a4de-0806de5ed292"
      },
      "execution_count": 15,
      "outputs": [
        {
          "output_type": "error",
          "ename": "AttributeError",
          "evalue": "module 'qutip' has no attribute 'hadamard_transform'",
          "traceback": [
            "\u001b[0;31m---------------------------------------------------------------------------\u001b[0m",
            "\u001b[0;31mAttributeError\u001b[0m                            Traceback (most recent call last)",
            "\u001b[0;32m/tmp/ipython-input-3569462905.py\u001b[0m in \u001b[0;36m<cell line: 0>\u001b[0;34m()\u001b[0m\n\u001b[1;32m     10\u001b[0m \u001b[0;34m\u001b[0m\u001b[0m\n\u001b[1;32m     11\u001b[0m \u001b[0;31m# Hadamard operasyonları\u001b[0m\u001b[0;34m\u001b[0m\u001b[0;34m\u001b[0m\u001b[0m\n\u001b[0;32m---> 12\u001b[0;31m \u001b[0mH\u001b[0m \u001b[0;34m=\u001b[0m \u001b[0mqt\u001b[0m\u001b[0;34m.\u001b[0m\u001b[0mhadamard_transform\u001b[0m\u001b[0;34m(\u001b[0m\u001b[0;34m)\u001b[0m\u001b[0;34m\u001b[0m\u001b[0;34m\u001b[0m\u001b[0m\n\u001b[0m\u001b[1;32m     13\u001b[0m \u001b[0mHn\u001b[0m \u001b[0;34m=\u001b[0m \u001b[0mqt\u001b[0m\u001b[0;34m.\u001b[0m\u001b[0mtensor\u001b[0m\u001b[0;34m(\u001b[0m\u001b[0;34m[\u001b[0m\u001b[0mH\u001b[0m\u001b[0;34m]\u001b[0m\u001b[0;34m*\u001b[0m\u001b[0mn\u001b[0m\u001b[0;34m)\u001b[0m\u001b[0;34m\u001b[0m\u001b[0;34m\u001b[0m\u001b[0m\n\u001b[1;32m     14\u001b[0m \u001b[0;34m\u001b[0m\u001b[0m\n",
            "\u001b[0;31mAttributeError\u001b[0m: module 'qutip' has no attribute 'hadamard_transform'"
          ]
        }
      ]
    }
  ]
}