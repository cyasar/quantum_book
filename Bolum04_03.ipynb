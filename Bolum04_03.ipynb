{
  "nbformat": 4,
  "nbformat_minor": 0,
  "metadata": {
    "colab": {
      "provenance": []
    },
    "kernelspec": {
      "name": "python3",
      "display_name": "Python 3"
    },
    "language_info": {
      "name": "python"
    }
  },
  "cells": [
    {
      "cell_type": "markdown",
      "source": [
        "Ön hazırlık (kütüphane kurulumu)"
      ],
      "metadata": {
        "id": "HkikwNrKNzeD"
      }
    },
    {
      "cell_type": "code",
      "execution_count": null,
      "metadata": {
        "colab": {
          "base_uri": "https://localhost:8080/"
        },
        "id": "anfl_eMVNzeD",
        "outputId": "1355d68c-bc89-4773-9ffc-7cab29e83743"
      },
      "outputs": [
        {
          "output_type": "stream",
          "name": "stdout",
          "text": [
            "\u001b[?25l   \u001b[90m━━━━━━━━━━━━━━━━━━━━━━━━━━━━━━━━━━━━━━━━\u001b[0m \u001b[32m0.0/2.0 MB\u001b[0m \u001b[31m?\u001b[0m eta \u001b[36m-:--:--\u001b[0m\r\u001b[2K   \u001b[91m━━━━━━━━━━━━━━\u001b[0m\u001b[90m╺\u001b[0m\u001b[90m━━━━━━━━━━━━━━━━━━━━━━━━━\u001b[0m \u001b[32m0.7/2.0 MB\u001b[0m \u001b[31m21.6 MB/s\u001b[0m eta \u001b[36m0:00:01\u001b[0m\r\u001b[2K   \u001b[91m━━━━━━━━━━━━━━━━━━━━━━━━━━━━━━━━━━━━━━━\u001b[0m\u001b[91m╸\u001b[0m \u001b[32m2.0/2.0 MB\u001b[0m \u001b[31m38.1 MB/s\u001b[0m eta \u001b[36m0:00:01\u001b[0m\r\u001b[2K   \u001b[90m━━━━━━━━━━━━━━━━━━━━━━━━━━━━━━━━━━━━━━━━\u001b[0m \u001b[32m2.0/2.0 MB\u001b[0m \u001b[31m22.3 MB/s\u001b[0m eta \u001b[36m0:00:00\u001b[0m\n",
            "\u001b[?25h\u001b[?25l   \u001b[90m━━━━━━━━━━━━━━━━━━━━━━━━━━━━━━━━━━━━━━━━\u001b[0m \u001b[32m0.0/670.8 kB\u001b[0m \u001b[31m?\u001b[0m eta \u001b[36m-:--:--\u001b[0m\r\u001b[2K   \u001b[90m━━━━━━━━━━━━━━━━━━━━━━━━━━━━━━━━━━━━━━━━\u001b[0m \u001b[32m670.8/670.8 kB\u001b[0m \u001b[31m26.5 MB/s\u001b[0m eta \u001b[36m0:00:00\u001b[0m\n",
            "\u001b[2K   \u001b[90m━━━━━━━━━━━━━━━━━━━━━━━━━━━━━━━━━━━━━━━━\u001b[0m \u001b[32m73.5/73.5 kB\u001b[0m \u001b[31m3.6 MB/s\u001b[0m eta \u001b[36m0:00:00\u001b[0m\n",
            "\u001b[2K   \u001b[90m━━━━━━━━━━━━━━━━━━━━━━━━━━━━━━━━━━━━━━━━\u001b[0m \u001b[32m430.5/430.5 kB\u001b[0m \u001b[31m13.5 MB/s\u001b[0m eta \u001b[36m0:00:00\u001b[0m\n",
            "\u001b[2K   \u001b[90m━━━━━━━━━━━━━━━━━━━━━━━━━━━━━━━━━━━━━━━━\u001b[0m \u001b[32m8.0/8.0 MB\u001b[0m \u001b[31m55.8 MB/s\u001b[0m eta \u001b[36m0:00:00\u001b[0m\n",
            "\u001b[2K   \u001b[90m━━━━━━━━━━━━━━━━━━━━━━━━━━━━━━━━━━━━━━━━\u001b[0m \u001b[32m31.8/31.8 MB\u001b[0m \u001b[31m41.7 MB/s\u001b[0m eta \u001b[36m0:00:00\u001b[0m\n",
            "\u001b[2K   \u001b[90m━━━━━━━━━━━━━━━━━━━━━━━━━━━━━━━━━━━━━━━━\u001b[0m \u001b[32m2.2/2.2 MB\u001b[0m \u001b[31m33.9 MB/s\u001b[0m eta \u001b[36m0:00:00\u001b[0m\n",
            "\u001b[2K   \u001b[90m━━━━━━━━━━━━━━━━━━━━━━━━━━━━━━━━━━━━━━━━\u001b[0m \u001b[32m49.5/49.5 kB\u001b[0m \u001b[31m2.1 MB/s\u001b[0m eta \u001b[36m0:00:00\u001b[0m\n",
            "\u001b[2K   \u001b[90m━━━━━━━━━━━━━━━━━━━━━━━━━━━━━━━━━━━━━━━━\u001b[0m \u001b[32m2.6/2.6 MB\u001b[0m \u001b[31m56.7 MB/s\u001b[0m eta \u001b[36m0:00:00\u001b[0m\n",
            "\u001b[?25h"
          ]
        }
      ],
      "source": [
        "# Gerekli kütüphaneleri yükleyelim (Colab hücresine)\n",
        "!pip install cirq qiskit qutip numpy matplotlib --quiet"
      ]
    },
    {
      "cell_type": "markdown",
      "source": [
        "1. Determinant"
      ],
      "metadata": {
        "id": "ut9COXvCero-"
      }
    },
    {
      "cell_type": "code",
      "execution_count": null,
      "metadata": {
        "colab": {
          "base_uri": "https://localhost:8080/"
        },
        "id": "cgsXf-e8eWi9",
        "outputId": "47d04d54-6640-48a1-bf00-03d24b0d065d"
      },
      "outputs": [
        {
          "output_type": "stream",
          "name": "stdout",
          "text": [
            "Det(A) = -2.0000000000000004\n",
            "Det(A) = -2.0000000000000004\n",
            "Det(A) = (-2.0000000000000004+0j)\n"
          ]
        }
      ],
      "source": [
        "import numpy as np\n",
        "\n",
        "# Örnek kare matris\n",
        "A = np.array([[1, 2],\n",
        "              [3, 4]])\n",
        "\n",
        "# Qiskit (NumPy üzerinden)\n",
        "det_A = np.linalg.det(A)\n",
        "print(\"Det(A) =\", det_A)\n",
        "\n",
        "# Cirq (NumPy kullanılabilir)\n",
        "print(\"Det(A) =\", np.linalg.det(A))\n",
        "\n",
        "# QuTiP\n",
        "import qutip as qt\n",
        "A_q = qt.Qobj(A)\n",
        "print(\"Det(A) =\", np.linalg.det(A_q.full()))\n"
      ]
    },
    {
      "cell_type": "markdown",
      "source": [
        "2. İz (Trace)"
      ],
      "metadata": {
        "id": "Q-vZXivfezbZ"
      }
    },
    {
      "cell_type": "code",
      "source": [
        "# Qiskit (NumPy)\n",
        "print(\"Tr(A) =\", np.trace(A))\n",
        "\n",
        "# Cirq\n",
        "print(\"Tr(A) =\", np.trace(A))\n",
        "\n",
        "# QuTiP\n",
        "print(\"Tr(A) =\", A_q.tr())\n"
      ],
      "metadata": {
        "colab": {
          "base_uri": "https://localhost:8080/"
        },
        "id": "bf5qKU86e3hF",
        "outputId": "7e292689-3193-488b-c6b1-f32078771327"
      },
      "execution_count": null,
      "outputs": [
        {
          "output_type": "stream",
          "name": "stdout",
          "text": [
            "Tr(A) = 5\n",
            "Tr(A) = 5\n",
            "Tr(A) = (5+0j)\n"
          ]
        }
      ]
    },
    {
      "cell_type": "markdown",
      "source": [
        "Ek Örnek: Özellik Doğrulama\n",
        "Özellik:\n",
        " ![image.png](data:image/png;base64,iVBORw0KGgoAAAANSUhEUgAAAxYAAABHCAYAAACahNFoAAAABGdBTUEAALGPC/xhBQAAAAlwSFlzAAAZ1QAAGdUBtWjrgAAAIhtJREFUeF7tnenPLkXRh/lX+OxXEhMTvxk/GIxRYohojBojasSFoEQ5EiMag+JK3FHAIygaDeKCC64xiDtqjOJG1KDivu8673vNOXWsp0/NTC8zc899P79KrnB47p6tu7q6qrqn55xzzz23E0IIIYQQQogWFFgIIYQQQgghmlFgIYQQQgghhGhGgYUQQgghhBCiGQUWQgghhBBCiGYUWAghhBBCCCGaUWAhhBBCCCGEaEaBhRBCCCGEEKIZBRZCCCGEEEKIZhRYCCGEEEIIIZpRYCGEEEIIIYRoRoGFEEIIIYQQohkFFkIIIYQQQohmFFgIIYQQQgghmlFgIYQQQgghhGhGgYUQQgghhBCiGQUWQgghhBBCiGYUWAghhBBCCCGaUWCRydVXX93ddNNN3UMf+tDw9+MAz/6Rj3ykO3HiRPi7OGy20gekh/Nx/vnnd7feemt3xRVXhL/vgmc+85ndxz72se5Rj3pU+LvI48EPfnB38803d9dcc034+3HhpS99aXfbbbf19RH9LvYP+WPbtpMKLCZ4wAMe0F1//fXdP/7xj+6jH/1o//9RuVYe/vCHd094whM2bfy4tzvvvLP7+9//3r3pTW8Ky4jDY40+wDkvuuiinqnzSw/n4cILL+zuvffe7re//W339Kc/PSyzC57ylKd0P//5z3v4d1RGjIPD9dWvfrX7y1/+0r3kJS8Jy7Ry3nnndY9//OO7Cy64IPx9K1x55ZXdH/7wh+473/mOgtU9Z42xaJeUjINbtpOLBhZmeJ70pCd1L3jBC7pXvepV3YMe9KCw7FZ5+9vf3v373//uvva1ry3m9FNHv/rVrzrkzW9+c1hmK1AH1IWcujyoLwJG+gADPNmzqNyWWaMPvO51r+uv8fvf/76vq6iMZ9d6iDPFfeKQv+ENb+id9KjcVsHB+vGPf9z99a9/XczxbIF6JeBRcFGO9Q36E303KjMH73//+7v//ve/3U9+8pM+MRaV2QroOLqu4GK/WWMs2iWl4+BW7eQigcWLX/zifsBPZR8MkMeM0U9/+tPFjBFRKdNZJu973/vCclOQwa0V2ur+++/vMwA5yowC/+Y3v9msU7IFCBAj+eY3vxmW3ypr9AHOy/kRMqzPe97zwnIpa+shtgsblgr9B5sXHbNFvON54403hmUiHvOYx3S//OUvTz91meCA0rY/+tGP+oxjzhKGt7zlLf09EgCt5Qy+7W1v67PbS/Dtb3+7e9jDHhZedy4YT7Dj1DfjylIZ3Wc84xnd7373u75tSYo99rGPDcuNsbY+sXyS4w7VKR2D/vP9738/1Ms5eO1rXxted05qx6LnPve53Z///OfTmlMm//nPf7o//elPfd/lGUmWR9eYg9pxcBd2copFAgvW62Iw0uBinwILc1r++c9/dq94xSvCMnPw/Oc/v1ciEwaFqNwYD3nIQ3qH1Tp5Wu8o3R//+McjhsCg09B5THje22+/fdLwmjITKTNARGWOMxgh6pf69LJPgcVafcAyn0ipk76mHuIUMsDQX+1+kX0LLMzBIntb4mBddtll3S9+8Yter7En1LsX6sHbFo+3cQhZtle+8pXhdQxmt1nOg3zmM59ZzEn2YH+XEnT00Y9+dHjduVijP9AOd9111+mn6rKzqylr6xO+B0v/0H3W50dlDhXah3ZaSt75zneG152LlrGI8gTB6E3q7yDoUqpfRupL0a/Q2+g6rdSOg7uwk1MsuhSKB/zgBz/YPzCyVmDBsoS3vvWt3ZOf/OTw9ym84fz617++2PItBnUGdy9f/OIXw7Il4NSakUZRGWyicgb1dc899/TlEY6ZWr/o730ryrxFyHBYp0fWCiz2pQ88+9nP7o29CXpbkv3alR6ybpvsGbJmYMFSupYlpZbImOOesVUmOC1TunbVVVf1g7VJzkyT6cfSwa3xiU984vTddb3TSx9K3yEgOLjvvvtOl+q6f/3rX/0SBl+GYy699NK+75sjU+uA52JLaulDzLxEZeaAdvAJE/QpN7s6xhr6ZPeOTqFbUZlDBMec4A3h+b/whS90z3nOc85KLNxwww19GZPvfe97R2aDKM/SXvSLYM6kJiGay5xjEUnYH/zgB/25kCmflGvjP/kAg+ee+5201nFwbTs5xeIvbzN4WaOsFVjYNWvfV7DjMVS8GxKVmQNbT+dlDsfTZ91QNnYPiMp5MBZkBExyHA8z0gwsOCxRGXF0WdRagcU+9AE/YHgpvedd6CF2zJZF5fSVuUB/au0oAzIDM/LlL3+5KQjzz49897vfzRrwX//61x+xeTkDOwEjwlKOpXeBoX4R/jt0rfTZp9rf1oXn2uJazO6zPGipeuK8tIOXOfR/LX3yiQhsT0sf2CfMngM7KkVlIF3COzZeseyG5TfI5z73ubDMHMw5FhGs+pmb3Pv+wAc+cPqIUzJnsm2OcXBtOznFQQYWlrGvcar84Muyh7mUJ4VpaqbVyGbZ9BdCNE1UHR2TA/eLUTYpqXOfMUI+/OEPh+UMlJdBDGl1VA4Zb6zXCiz2oQ9YQOAdA6T0PaNd6KF3hOZwrHKwbFutHTVbTJ2/7GUvC8vkgoPsM2y5GUvW4ttGFcjf/va37oUvfGFY1sCZwKlAT3AkozJzgN5861vfmqwf3/bIVPubfi6pJ0996lP7TCpjycmTJ8Myc8ASIq7h+yz/LsmuRqypTxaMLJ043BLM7rCT0pQ9LwkswOpyqXFt7rHo5S9/eT/DiOSs5jCYkSNxZcLSKpKxUdlS5hoH17KTORxkYEGDIDVOlTVOidLVwDpngoo77rijDzBMWusIZbeX6pCSTIKf6UByjLvVNdOsl1xySVjmuLOLwGLrfQAdZ70zxprvKJixR3KdCs/aeuidy7UCC3OiamwETjNBFzKHHX7jG9/Y6wdC2zFgR+VSfL0hOXXnly8sGejavU29C1HzDCRpSuqpFMuo5iwhqsXWuaODjF9eauyMZ0198sHIpz/96bDMoWFj0NS7EH6sQqbGK/M3cmeYSpl7LKIfmpTMIKbvqMy1rBH9nWscXMtO5nBwgQWVaRn7GmNnzvWSBtrWwzFlxbpYbxhbI+E0IsdgR+VScDy+8Y1v9MeZ5ETMPpJncIvKHHe8sV4jsNiHPkDmk8CaF9a8jUDIUEXHjLG2HnqHJseZmQPr2zV2lHa0gbEmcEshYWFSYrP8fSC0Wc76fAscl8wyP+IRj+h3ZWHWYmzWq8aZNce5pj9O4e8HG77EjB3nZKkF2VCW8KYO6NTs9hRr65PNzhMotYy3+wLvRDBjwcxF9LuRtuvUeMWGFiyHqrFJOcw5FvlxEeG+c3dpS8coAtOandBS5h4H17CTORxcYOGvV2rEvYFeKgLnnLzQx9SXvWRD5zWhA7VEwqZYSElEjnH171jkZn59nbUu4zpUvLFeI7DYeh+wzKftXJNmg2rqaG099NejrqnzqNxc0A62JIDrcv2o3BBk+3Bs58ia+8wYUqIn6Zr43Mya1+mchEcNpodTs7y+7ZGc9rf7X2L3HF83S+3O86IXvah3VmwnMX9NpCVY3YU+WX/g2NZlXPsA7ZPjD5QGFkCZqVm+GuYei9JlcyWrOdJ3LOaY6VpiHFzDTuZwUIGFf5kIKXWqfNazNQMzhK2n8y+OoUAmOWtEh+B8ZNtMciNyjvPf0sDgMtUdlY2wbFNJIHOcWDOw2HofSDOf/C01qCWZJM+aerh2YGEvACM1dtQytK0zouB3mEFy9cTv047gqOKwRmVTcFpsyeiSAS/PNeUk1wQW1q/mmC1KsWRSy9gxhr3wzP3b5ghpYFGTXTV2oU/YB+wEUuJg7ivsdpaTtKwJLLAtOecuZe6xyN4zQUpWc/hvtiAEA+hsVDaXpcbBNexkDs2BBZHWe9/73r4S2PqNSicjz84DbLVZGlhgxPjgDZVj2/RR+T/72c/6bEz0tjvXYftHtgf08vnPf74/l2dsmpTzI0tlMXh21tOhpCir/d2m+5AWJ6U2IvdOCx2Oj+3RDlHZCKZZ7djcznpI8OIkgRg6Sh/gY4Ns53f55Zf3BqQ0sDjkPmCZT5ZsmI6ljlqN4wxz6iH3du211/btRX+lXdl6kanr888//8g95/ZZZgB5z4HnN+HDTdhLPuIUHYPzRNBv/RPBxnIfvk153kgvwA82c8zm2MYASO4MCPXJh8lMqLOSL6b7pMkcwVFE7hbNqb7mtD9tQxtZ37NrYfupl7vvvvuM3eBZ2VaY7Dt6x3/5f/6enhfHAQcCmWt5RgrZfdrbf3BvjuyqsQt9smVvSG0iY5/I3aa6JrBAp7394VqMIwQctBF2k++a8X2zRz7ykf1Yia4D/+Zv6Tlh7rGoZjVHmqijPzLORmVLWGocXMNO5nAOg2T0wxRUBh9SI/uO8F8aAEUyh4j/vvvd7+47PTJVUfbBHIRK58VmBk3OaQ4W5/TRYtoYUzKWMbKMJ1HymPNVi19P5//uA4sWp6g0IscQeKeFNnzPe95T/HVJf90lMnJbhb6D8TTdRM8xojgJOH/8ne+D+GnUKUN9yH0Am5FmPiG9/1qDOJce8qEt26OdOsdho01pW/oI7cIgZY7JlGPJc3M/9DP6JckFBk3OYdfhN/TEO4/pID8mYxlDn51FX6MyJfhvPeS01cUXX9zXnQl948SJE2HZMey6OY78kqT6WnM/lLdx0QtOAXqAg40zhiODoB8kgNLzzB00ptjuhfQB3ge0v8+RXTV2oU/eAVsi276v1AQWKRyTCrp+3XXX9bqEjcZ22niG7uDAp+eZcyzy7Y3k6CuJQZ+o4xh0LypbwtLj4Bbs5Dk167CoGMsWMFB+5StfOSvqTDs/QqVReb6cgVNARSMo3ROf+MQjv5M9NEPsFZEInEgc5wvHHSNjUpKt9ZmfJQyNbQfIs6WdyDKtJnRu/3suPiKnLtkykedI4aUeHFarbwYtMqn8Fp13Cu+4tGSu9gmfyaD+CNDSjHFqmJCx+jn0PoCeW115Bzo1+rXXnkMP/ewdbUcb+t/TYBwZM+DYSmYksJMcc8sttxx5doJTMtIIv3vnkcy5tRntaEL7lsxY+A0dWgP/dD38D3/4w962mW3xkGWkHayu0G0SF0P3OYVlMJFaGzkHcwQWNmPx8Y9//IzOIug+s1h8WJY6xLkwiZyhpW2vBcQ33njjkb/7jD8yNraPsUt9Msd1lw7Y1pgjsLAZC5Jq2D0E+/PrX/+6n6UgKcbSJpMoCTr3WJSu5jB/J4V7ow7QQwt8sLf01dKE6xBLj4NbsJPFgQUPj7ExhSHAYPCMyvoABBkyPvbFUGSok3Nd+wAI106z/pAa/JJK9Yay1kgOYfeOMqVfaIW0M9cM/qlS5grH8IVYjo/OmwPKTydAosGvBAaaNCCdW2iHlq3r0sCa9hqqPx+AIEOG+tD7wFDm06BeTGoH+lY95Ku9tkxp6uuqPgAZu1/ayGwl69AZMNMy/qurQ/XjbURp2/jERetAw8Dr18PnCBnKD33oQ80vd/o6WOL9n1zSPtbqmKaJJXtBGtvB8keT6MXkJWeL/e6FqfOe1kGtE7RLfaK+EPpn7SoBA/vGDNOSgm3KfYekltQXaQlW0+CT2V7bsObkyZNn7CJ/T78bM/dY5PtJrhDg46TPOQu4xji4BTtZvBSKB+WBETIGfBY+KmfkDIjWwZGxF0585i06V2rsSgZR75TMocgeq7Mhx8I/F1IzQKQROWt1eaYhmLVIl9ek2dlcfL1jDDAKUbkccJ7pzNzbUlA3filRKZZxQMhqX3TRRWE5w+v3kKE+9D7A81Fn1F30u2UPkVqD2qKHab0xsxCVM3xdDd2vzVIitNnQ2nHa2rJzDLZR0JtjR4fwulWiDxHpenjO5+1KCrv2YFsQbM2XvvSlwTXVU/ixh+n+qMwapLpSq6+Gb1vq1n/ciiU+6DJ2K53BBH9szbgxBDrJeDX0bF5nkdrAYpf65OtuyC7lQiBIsJOONXPCTkTpaoe58XWCtAQWaT/xX4Snvj71qU/1bUmSJk3M0dZzjkXpag6SSKluGfgGJ/8/8DHbTeBD36qdGfOsMQ5uwU4WvbxN49tHlpCcNZ1eUSMFSR3isQiL9WY2NUwmJX35JlVkru1/HwOFMkVu6UwpdCAyUNwvGaCojFcEpOb6PiLPzcDQnii6ZQ64h5IX4Axf77UDzL6AcbGvPCM5a9a9Yxe17aH3Act8WiY2KuPrCCm5b6NFD/22lQw8U2t6fV0NDQB+MJtaL+uXBjC4pL9P2dExrG5rBypP6Xp4SGftcCZqAntvJ+fUz1LSPtZar75toz49hj+2ps8MYbsXMkOaOn0GbWBSWwe71Cdfd/SRqMxxw9cJ0tLP0n4S2bUh5hyL0N/S9yuAGWsLLhDGr5bAbq1xcAt2siiwSB2gHKfKK2o0IKZTVO9617t6pYqgYe67776+XGTIUkUuaZSl1qpadnts+1a2CGSrQBM6wZAxH8I7MSWDUzrdTkci0xqVHcLX+6EHFjicOJ4mOUsJpwKLQ+4Dlvmcmsb3jjVSk0Fs0UNsmQk2DlsXlTM491hgkQ5mtBlt59vSQ5ubRHU/ZUfHmGsteboefmxmLYWlDjiqJkOzt2NsYcCEtI+11qtvW5zkkiU+S6yntudjbfmYw04bmmC/sGNRuSF2rU++3hVYnMLXCdLSz9J+gq5G5SLmHItSv7UkwDnplmwhtXqCbq41Dm7BThYFFqkDnFPJUwNiqsi5EmXlU0UuMbRLNIatm+decUbZ4SOCDmRLkpConsZAaf20dOnxfoBASpXZ1/uhBxbonDc0OTo2FVgcch/gnSICa2AtdaT/4IM1pMaA1+oh2SufAc3pP5x7LLBI26FEooya15Gc+/PQlkirA+wHe6SkjfxMG4IulGaZtzBgQtq2rfXa0rbetpT09THsvSAc96ivGtYWJqXX37U++XqvsTeHiK8TpKWfpf2kRD/m7Ot++TB6XfJ+Zerz1i71XnMc3IKdLAos/A0jOQ/tFTUymt4wImPZWg+GJZ1OalFkjJK9RDZXY6TPliulytsSkUN6n6XK7Ov90AOL1PDm6Jiv30i3DrUPpPdSIjVrQ2v1ML1P/s3forIG5x4LLPzvyNSMheeCCy44ci6YsqNj2HKT6D5LSNfDD70zEpHWcc29bGHAhDmexdPStiSBTEr6+hD+vaBSKU1I7VqffL2XjnmHiq8TpKWfpW1Uop9zjkW1qzkAe+zteI1/k9ZDidSMg1uwkzsPLPxULtJiHFsU2SvQHI3B/sREn2Pr6Yz0vkuVtyUiB57XS87yHo+//5qOt0+khjdHx6YCi0PtA2Q+mYlja9Tod09qW2quX6uHaZ3xb/4WlTV8XUVOjf++AJJzzjG83pWey/Svxvny2JIqhGef+pCcx9cXgm0s3Zt+CwMmpPrSWq8tbeuPbbEbwPK9u+66q5+psN17xvDXRkqd813rk79/BRanSNu0pZ+l/aREP+cai1pXc6TjUs4y2ZS1x8Et2MmiwCJdXz5HYOGzFkiJ8qVMKTLXsi9A+r+DV+RS5UshkOCLirkDTqr8pVG1j8hLDWzqADGopFu/TeHrfR92hWI9fUn9emr0dSqwOMQ+wJflWaqQe550WUTJemujVg/Ttd459+zrKurnNeccg3Y0Sc/Fsim2ImW3M3+M4fWvVrfS5+Hf/C0qG+GTHwjvdZW+COkHzJpM3lx4PUNy7fwQY207hT+21Tnm+wM8S+77CmmblsyUb0GffN3VrGX3MOYvvSvUZz/72e5xj3tceP258HWCbCGwaLGdNe8Fe9KkX7Tl8xi7GAe3YCeLAov0Rd8cpZsymizn8B/0aqmIVJFTY8G9DA0COCE4I0iLIoOtpxvbUSOFujQpGajSoKT03vnwkXdqoz3Lp/BGIHfHhSEYXLb8HYtLLrnkzBQtkjOYTwUWh9YHSjOf4HUIqbl+ix6ylaMJ5+BcUTnDX2uoPv0X19GZ0jXgHm9H06DJ2nzIHs+xXCYd8EqcWEu0mDCrGn2DZQpfB2M7py1N2sdK7HWEf65SvfcbP7QEFth8bD9tzJK9qEwKz8yzm5Q4oVvQJ7PLHK/vWJzC6yJS0qYpaT8psT1zjUUtqznwd+0eEPyG6DtkQ+xqHNyCnSwKLMAPwDk7WEwZTat8E7/X8RB8ZZjMPBkW//dUkVNjxb0MDQI+g5LjWAxhH0CZ2lEjxe9KgwKTWY7KpaQvsZVE5Ol2ahgu9neOyo7hB4kWQ7QPEMjZl5KRnIyCDWBIVD+H1gdsq0q+OJ2bbUkzSzVTzi166HeZYSBiQIrKGTmBhS2HROjT/vsEERZUs5vUAx/4wCO/eTuato21+dAz+xmxEgfO4zctKLFP4D8miBD0lWaXwWcPqY+ozBqkfWyXgYVfRdBie1mmwXKNsd0LU9IVDCWzDlvQJ1uK1dp+h4TXRaRFp9J+UtJn5xqL/C5L6Gruag7GZGyl6SjCrNHUsnbPrsbBLdjJ4g/k+Ze7piKx1GEaMpo2XYRgMMaiQhqIqdpo6pPffPY+HURRsrHMoTn3JQro4Xn5TDtCtjIqM4R3PpFchaiNyMlKeQWm3jHYUdkpfNZsl5nEtWAQYjBCpjJ8lgk0GTLUh9IHLMtDkMpHGKMyEekgVDOYtOih1anJ1GyjzUoiQ46JtwfI1Gwg52AHkpMnT571m+/nad1YcmFopss7gKVLAYya9fA8//XXX38mYEMYO8a+aD4Gz4dQR+zWEpXxy0JrBuUcthRYeEekdDmRYbaHZBi6FJWJ8ME1UnLvu9YnzmXbQfPsJc99yGwlsIDWsSgdC3P187zzzuvHTb9TZ2nwustxMMdOLs05pS/qgs8YDFU4HZev11o5BAUZ+lK3PycdPVIkzsnSHQz5kBPsHXS/Hs6UbCwbbJEe91GSQQFmKvgKKMqIg5/zoo7Bc33yk5/sr22S4xhxnHdccjogbcUx3jhz3Gte85qwfA621KKm3vYR6h09s2zGUCaDvzHD57MeY1/q3uc+wH3xlWB7X6dkSQUw82nf50BqjGKrHvoZvLHZO9qF9vEy9KVu+hs2EkEP0IdIVy688MK+3JA9xfEyJ46+69+DIuhAH4ZmRPx7VDXOpw2SJlPnQBdo+3vuueeI7vNs0dejc+Cc5giOBQw+OORjrhwXlWvBL9NACPhe/epXh2Vz8EvVOK9f5jaFd55KAykcKAJk03l0hHEsKhvxtKc97ciy0FwHfQv65NuwNiA7RLwuIsyglmTpPWk/4dxRuSFa/DEgCe4D36mkCv3hyiuvPGMrEfSNZXe5Cfhdj4O5dnJpqgILbp6MvDlBOEs0CA3jjQAG10dfCI43lY3Dk66B5qvPDJAIgyeKQLRHxHbppZf2U0pcE8eJ6/hjDe8cUJbn43j+y7nHMsE+E53j2JP15flwzL3BQ/h//k7mMzoWxw4FYO9iu6YXqyd+Z4A0w3fbbbcd2fPYX9cfExGVZ9eqiy+++Kz7K8GyT7mZp0MAY3vnnXeeqU8MMHqPXnoDRdv695IQ9JIBOXrZdt/6APeLQxHpMNfmt6FZTRz0+++/v68LyqbC86O3nINgKjqHZw49pN24JsIzsfWv9T0flNOm6TPTv6IX4zmOfmaCvSTziv2gXRhwaS8Yyr7S1j6YZcCm/oB/j82GcKytSc9x/siacb9mN9LntHYZIi3PLNLtt98+OlszhQ+OeJZI970jQz3VvkflwaGZej4ksr1DL9MDOoKuRLqPHtk5ct4dsERCrhNiYwjtmAp/Qz8vu+yy8FgSUOgQz8ozp0LdcG5mP2yZ5hb1yS+bpP6iMoeMbfjg63mqTY2hzT8M9J5y6LEX9Bx95zf6Kd/5io43av0xu89Uv9PnSEnLc/8EN4zn0fU8WxkHc+zkGhQvhfLwIhFGKBWMOlHX5ZdfftbUmsnQtBRO7t133x1WMFlEKnaqsmgo/zIsQuPceuuto8fiAJgTSBbIMr1DpB9Li2TIaOFAmGGbEss6Ywws+1kr1ANKzH2VfmE7wk/d5dTZIYEuoQM+K2LigzYb+FMZmmbepz7gM8SRYGiHlom84x3vOF1qXOhjJ4PlQZ459ZDZA2ahokHWBhsGsajdh56XwemGG244E/B54flIxExlXwlm77jjjrPuC1s7tLTNoP64Ts77IzinOKktQj0xM0YA1TLGGN7JoP6jMt5ZZJBmo4WoXAnp+GWDfETqSI0tI/HPw3H+PN45yXF6/ftBQ3Vj5IwhY4G5f8dyTLgfm1Xboj4RdOb2h0PE20uEukj10Egd3jGbDug9wjEWSIAPXNAxkirR8cYS/tiYWB3gb1177bVFMzVbGQdz7OQaFL+8HUEGDANMp6dB/FIPDBR/Z1kBigQ5046UIVPLscCLkCUNzUD+rGc9q7vuuuv6e0JJo3IpZjhbsp7HCRxYOmOO0h8qOOqsU0bX0FVerPZBM3XE323mgf6So8vqA/ksoYfUP21J3VOH1KVlr8iWMpBRrzbzEH3YLgVdIVPHcZw3tZc5oFt2Xzx3TkbN72a2jxlaZtuQsYCB2QVzgI5TksM7YLvMUu4Ttn6fesu1i2J95I+VkWMn12CWwOKQsOwPDsocU+mHzlYUWczHPvYB6eE4ONlk4pCh2eKtQoDHOnjEZm+jcvbSIoI+RGUOFTlg+fgX3qm3qIzYBvLH8sm1k2ugwCKBjLCth95142wdsrZMTyMl3+wQ22bf+oD0MA/b/tAvU9kHmLVjCSD3PbROGR1llgJh5oqZnKjcocL7XSw1Oc4zx7mwyQEzW9RXyYu1Yn3kj+WTYyfXQoFFgA3ANBKNFZUR/6snGejDY5/6gPQwDz9IL7Vj0txwjwSLCPc+tBTQZ6H3bUZmDnw9je36dtzxfUBJiP1A/tg0uXZyLRRYBBAVs/sOwks5ipLPxhvofVyzLcbZlz4gPSyDDTcYoKdewNwKlonfl/vdJbzrw4YNZONLt/Y8LpiTyiYKc2xeIpZH/tg0W7OTCiwGsC07MUIYo6jMcYb1jgxgQ/vui/1nH/qA9LAMMlsEYCyZ2UJmawxzKLhX7lnZ5WnsWzhsOVnyTYrjALNY9957b18/Q98AEttE/tgwW7STCixGYCcrsnvsuSyn5X9YJ6duhj4iJg6DLfcB6WEdBBNsp4uDlfN9kF1hTrKCxnx84Mg3VxSMncLXy9AHTcW2kT8Ws0U7qcBiAms0GaNTmFPClBsfhYnKiMNii31AetgGAxAD0VaDMgsaybxPfaNDHMX6Bn1WmflTmFPKLJ2c0v1F/thRtmonFVhMQKaD/eL52udxn46nIzPlJmfueLG1PiA9nAc+BMjSEAYmBqiozC7gXngRW0FFPby8TR9hh6zjPpt31VVX9fWgoGL/kT/2P7ZsJxVYZHL11Vd3N91007HebYNnpw5OnDgR/i4Om630AenhfPAVY77GfsUVV4S/7wK+w8A9yQlsgwD85ptv7q655prw9+MCun3LLbcow31AyB/btp1UYCGEEEIIIYRoRoGFEEIIIYQQohkFFkIIIYQQQohmFFgIIYQQQgghmlFgIYQQQgghhGhGgYUQQgghhBCiGQUWQgghhBBCiGYUWAghhBBCCCGaUWAhhBBCCCGEaEaBhRBCCCGEEKIZBRZCCCGEEEKIZhRYCCGEEEIIIZpRYCGEEEIIIYRoRoGFEEIIIYQQopFzu/8DS5c1vsJblW4AAAAASUVORK5CYII=)"
      ],
      "metadata": {
        "id": "kqzF92WBe5Sd"
      }
    },
    {
      "cell_type": "code",
      "source": [
        "B = np.array([[0, 1],\n",
        "              [1, 0]])\n",
        "\n",
        "# Determinant özelliği\n",
        "lhs = np.linalg.det(A @ B)\n",
        "rhs = np.linalg.det(A) * np.linalg.det(B)\n",
        "print(\"Det(AB) == Det(A)*Det(B) ?\", np.isclose(lhs, rhs))\n",
        "\n",
        "# Trace özelliği\n",
        "lhs = np.trace(A @ B)\n",
        "rhs = np.trace(B @ A)\n",
        "print(\"Tr(AB) == Tr(BA) ?\", np.isclose(lhs, rhs))\n"
      ],
      "metadata": {
        "colab": {
          "base_uri": "https://localhost:8080/"
        },
        "id": "pNUjB0u9e5Z8",
        "outputId": "d8668168-d306-4ad8-a72f-6a785f658fad"
      },
      "execution_count": null,
      "outputs": [
        {
          "output_type": "stream",
          "name": "stdout",
          "text": [
            "Det(AB) == Det(A)*Det(B) ? True\n",
            "Tr(AB) == Tr(BA) ? True\n"
          ]
        }
      ]
    }
  ]
}