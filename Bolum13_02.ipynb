{
  "nbformat": 4,
  "nbformat_minor": 0,
  "metadata": {
    "colab": {
      "provenance": []
    },
    "kernelspec": {
      "name": "python3",
      "display_name": "Python 3"
    },
    "language_info": {
      "name": "python"
    }
  },
  "cells": [
    {
      "cell_type": "markdown",
      "source": [
        "Ön hazırlık (kütüphane kurulumu)"
      ],
      "metadata": {
        "id": "HkikwNrKNzeD"
      }
    },
    {
      "cell_type": "code",
      "execution_count": 1,
      "metadata": {
        "colab": {
          "base_uri": "https://localhost:8080/"
        },
        "id": "anfl_eMVNzeD",
        "outputId": "51abe14e-4538-4a88-e83d-75b778e95298"
      },
      "outputs": [
        {
          "output_type": "stream",
          "name": "stdout",
          "text": [
            "\u001b[2K   \u001b[90m━━━━━━━━━━━━━━━━━━━━━━━━━━━━━━━━━━━━━━━━\u001b[0m \u001b[32m2.0/2.0 MB\u001b[0m \u001b[31m24.7 MB/s\u001b[0m eta \u001b[36m0:00:00\u001b[0m\n",
            "\u001b[2K   \u001b[90m━━━━━━━━━━━━━━━━━━━━━━━━━━━━━━━━━━━━━━━━\u001b[0m \u001b[32m670.8/670.8 kB\u001b[0m \u001b[31m34.8 MB/s\u001b[0m eta \u001b[36m0:00:00\u001b[0m\n",
            "\u001b[2K   \u001b[90m━━━━━━━━━━━━━━━━━━━━━━━━━━━━━━━━━━━━━━━━\u001b[0m \u001b[32m73.5/73.5 kB\u001b[0m \u001b[31m4.4 MB/s\u001b[0m eta \u001b[36m0:00:00\u001b[0m\n",
            "\u001b[2K   \u001b[90m━━━━━━━━━━━━━━━━━━━━━━━━━━━━━━━━━━━━━━━━\u001b[0m \u001b[32m430.5/430.5 kB\u001b[0m \u001b[31m23.3 MB/s\u001b[0m eta \u001b[36m0:00:00\u001b[0m\n",
            "\u001b[2K   \u001b[90m━━━━━━━━━━━━━━━━━━━━━━━━━━━━━━━━━━━━━━━━\u001b[0m \u001b[32m8.0/8.0 MB\u001b[0m \u001b[31m93.8 MB/s\u001b[0m eta \u001b[36m0:00:00\u001b[0m\n",
            "\u001b[2K   \u001b[90m━━━━━━━━━━━━━━━━━━━━━━━━━━━━━━━━━━━━━━━━\u001b[0m \u001b[32m31.8/31.8 MB\u001b[0m \u001b[31m47.4 MB/s\u001b[0m eta \u001b[36m0:00:00\u001b[0m\n",
            "\u001b[2K   \u001b[90m━━━━━━━━━━━━━━━━━━━━━━━━━━━━━━━━━━━━━━━━\u001b[0m \u001b[32m2.2/2.2 MB\u001b[0m \u001b[31m58.5 MB/s\u001b[0m eta \u001b[36m0:00:00\u001b[0m\n",
            "\u001b[2K   \u001b[90m━━━━━━━━━━━━━━━━━━━━━━━━━━━━━━━━━━━━━━━━\u001b[0m \u001b[32m49.5/49.5 kB\u001b[0m \u001b[31m2.8 MB/s\u001b[0m eta \u001b[36m0:00:00\u001b[0m\n",
            "\u001b[2K   \u001b[90m━━━━━━━━━━━━━━━━━━━━━━━━━━━━━━━━━━━━━━━━\u001b[0m \u001b[32m2.8/2.8 MB\u001b[0m \u001b[31m65.1 MB/s\u001b[0m eta \u001b[36m0:00:00\u001b[0m\n",
            "\u001b[?25h"
          ]
        }
      ],
      "source": [
        "# Gerekli kütüphaneleri yükleyelim (Colab hücresine)\n",
        "!pip install cirq qiskit qutip numpy matplotlib --quiet"
      ]
    },
    {
      "cell_type": "markdown",
      "source": [
        "1. Cirq ile Dolanıklık Takası"
      ],
      "metadata": {
        "id": "NJu_zTiVjHUV"
      }
    },
    {
      "cell_type": "code",
      "source": [
        "import cirq\n",
        "import numpy as np\n",
        "\n",
        "# Qubit tanımları\n",
        "A, C, Cp, B = cirq.LineQubit.range(4)\n",
        "\n",
        "# Devre\n",
        "circuit = cirq.Circuit()\n",
        "\n",
        "# 1️⃣ Ayşe-Caner ve Caner'-Burak dolanıklığı\n",
        "circuit.append([cirq.H(A), cirq.CNOT(A, C)])\n",
        "circuit.append([cirq.H(Cp), cirq.CNOT(Cp, B)])\n",
        "\n",
        "# 2️⃣ Caner'in (C, C') üzerinde Bell ölçümü\n",
        "circuit.append([cirq.CNOT(C, Cp), cirq.H(C)])\n",
        "circuit.append([cirq.measure(C, Cp, key='bell_meas')])\n",
        "\n",
        "# Simülasyon\n",
        "sim = cirq.Simulator()\n",
        "result = sim.run(circuit, repetitions=1)\n",
        "measurement = result.measurements['bell_meas'][0]\n",
        "print(\"Caner'in ölçüm sonucu:\", measurement)\n",
        "\n",
        "# 3️⃣ Ölçüm sonucuna göre düzeltme işlemleri\n",
        "corrections = {\n",
        "    (0, 0): [],\n",
        "    (0, 1): [cirq.Z(B)],\n",
        "    (1, 0): [cirq.X(B)],\n",
        "    (1, 1): [cirq.Z(B), cirq.X(B)]\n",
        "}\n",
        "\n",
        "circuit.append(corrections[tuple(measurement)])\n",
        "\n",
        "# Son devre\n",
        "print(\"\\nDolanıklık Takası Devresi:\\n\")\n",
        "print(circuit)\n",
        "\n",
        "# Durum vektörü simülasyonu\n",
        "state = sim.simulate(circuit).final_state_vector\n",
        "print(\"\\nSon Kuantum Durumu (|ψ⟩):\")\n",
        "print(np.round(state, 3))\n"
      ],
      "metadata": {
        "colab": {
          "base_uri": "https://localhost:8080/"
        },
        "id": "QQ2Wr3HTjHZT",
        "outputId": "a8242175-3cb8-4330-df32-b28bd3d576d8"
      },
      "execution_count": 2,
      "outputs": [
        {
          "output_type": "stream",
          "name": "stdout",
          "text": [
            "Caner'in ölçüm sonucu: [1 0]\n",
            "\n",
            "Dolanıklık Takası Devresi:\n",
            "\n",
            "0: ───H───@────────────────────────────\n",
            "          │\n",
            "1: ───────X───@───H───M('bell_meas')───\n",
            "              │       │\n",
            "2: ───H───@───X───────M────────────────\n",
            "          │\n",
            "3: ───────X───X────────────────────────\n",
            "\n",
            "Son Kuantum Durumu (|ψ⟩):\n",
            "[0.   +0.j 0.   +0.j 0.707+0.j 0.   +0.j 0.   +0.j 0.   +0.j 0.   +0.j\n",
            " 0.   +0.j 0.   +0.j 0.   +0.j 0.   +0.j 0.707+0.j 0.   +0.j 0.   +0.j\n",
            " 0.   +0.j 0.   +0.j]\n"
          ]
        }
      ]
    },
    {
      "cell_type": "markdown",
      "source": [
        "2. Qiskit ile Dolanıklık Takası"
      ],
      "metadata": {
        "id": "uqyHgWQwjHeC"
      }
    },
    {
      "cell_type": "code",
      "source": [
        "from qiskit import QuantumCircuit, Aer, execute\n",
        "from qiskit.visualization import plot_state_city\n",
        "\n",
        "# 4 qubit (A, C, C', B)\n",
        "qc = QuantumCircuit(4, 2)\n",
        "\n",
        "# 1️⃣ Ayşe-Caner ve Caner'-Burak dolanıklığı\n",
        "qc.h(0)\n",
        "qc.cx(0, 1)\n",
        "qc.h(2)\n",
        "qc.cx(2, 3)\n",
        "\n",
        "# 2️⃣ Caner (1,2) üzerinde Bell ölçümü\n",
        "qc.cx(1, 2)\n",
        "qc.h(1)\n",
        "qc.measure([1, 2], [0, 1])\n",
        "\n",
        "# 3️⃣ Klasik ölçüm sonuçlarına göre düzeltme\n",
        "qc.x(3).c_if(qc.cregs[0], 2)  # 10 durumu -> X\n",
        "qc.z(3).c_if(qc.cregs[0], 1)  # 01 durumu -> Z\n",
        "qc.x(3).c_if(qc.cregs[0], 3)  # 11 durumu -> ZX\n",
        "\n",
        "# Görselleştir\n",
        "print(qc.draw())\n",
        "\n",
        "# Simülasyon\n",
        "sim = Aer.get_backend('statevector_simulator')\n",
        "result = execute(qc.remove_final_measurements(inplace=False), sim).result()\n",
        "state = result.get_statevector()\n",
        "print(\"\\nSon durum vektörü:\\n\", state)\n"
      ],
      "metadata": {
        "colab": {
          "base_uri": "https://localhost:8080/",
          "height": 384
        },
        "id": "mlWfBFzFjHjv",
        "outputId": "5a07d711-ee3c-4464-f09b-9b367a4edeef"
      },
      "execution_count": 6,
      "outputs": [
        {
          "output_type": "error",
          "ename": "ImportError",
          "evalue": "cannot import name 'Aer' from 'qiskit' (/usr/local/lib/python3.12/dist-packages/qiskit/__init__.py)",
          "traceback": [
            "\u001b[0;31m---------------------------------------------------------------------------\u001b[0m",
            "\u001b[0;31mImportError\u001b[0m                               Traceback (most recent call last)",
            "\u001b[0;32m/tmp/ipython-input-1981812203.py\u001b[0m in \u001b[0;36m<cell line: 0>\u001b[0;34m()\u001b[0m\n\u001b[0;32m----> 1\u001b[0;31m \u001b[0;32mfrom\u001b[0m \u001b[0mqiskit\u001b[0m \u001b[0;32mimport\u001b[0m \u001b[0mQuantumCircuit\u001b[0m\u001b[0;34m,\u001b[0m \u001b[0mAer\u001b[0m\u001b[0;34m,\u001b[0m \u001b[0mexecute\u001b[0m\u001b[0;34m\u001b[0m\u001b[0;34m\u001b[0m\u001b[0m\n\u001b[0m\u001b[1;32m      2\u001b[0m \u001b[0;32mfrom\u001b[0m \u001b[0mqiskit\u001b[0m\u001b[0;34m.\u001b[0m\u001b[0mvisualization\u001b[0m \u001b[0;32mimport\u001b[0m \u001b[0mplot_state_city\u001b[0m\u001b[0;34m\u001b[0m\u001b[0;34m\u001b[0m\u001b[0m\n\u001b[1;32m      3\u001b[0m \u001b[0;34m\u001b[0m\u001b[0m\n\u001b[1;32m      4\u001b[0m \u001b[0;31m# 4 qubit (A, C, C', B)\u001b[0m\u001b[0;34m\u001b[0m\u001b[0;34m\u001b[0m\u001b[0m\n\u001b[1;32m      5\u001b[0m \u001b[0mqc\u001b[0m \u001b[0;34m=\u001b[0m \u001b[0mQuantumCircuit\u001b[0m\u001b[0;34m(\u001b[0m\u001b[0;36m4\u001b[0m\u001b[0;34m,\u001b[0m \u001b[0;36m2\u001b[0m\u001b[0;34m)\u001b[0m\u001b[0;34m\u001b[0m\u001b[0;34m\u001b[0m\u001b[0m\n",
            "\u001b[0;31mImportError\u001b[0m: cannot import name 'Aer' from 'qiskit' (/usr/local/lib/python3.12/dist-packages/qiskit/__init__.py)",
            "",
            "\u001b[0;31m---------------------------------------------------------------------------\u001b[0;32m\nNOTE: If your import is failing due to a missing package, you can\nmanually install dependencies using either !pip or !apt.\n\nTo view examples of installing some common dependencies, click the\n\"Open Examples\" button below.\n\u001b[0;31m---------------------------------------------------------------------------\u001b[0m\n"
          ],
          "errorDetails": {
            "actions": [
              {
                "action": "open_url",
                "actionText": "Open Examples",
                "url": "/notebooks/snippets/importing_libraries.ipynb"
              }
            ]
          }
        }
      ]
    },
    {
      "cell_type": "markdown",
      "source": [
        "3. QuTiP ile Dolanıklık Takası"
      ],
      "metadata": {
        "id": "T57mAdcNjHpN"
      }
    },
    {
      "cell_type": "code",
      "source": [
        "from qutip import *\n",
        "import numpy as np\n",
        "\n",
        "# Bell durum fonksiyonu\n",
        "def bell_state():\n",
        "    return (tensor(basis(2,0), basis(2,0)) + tensor(basis(2,1), basis(2,1))).unit()\n",
        "\n",
        "# Başlangıç durumları: |Φ+>_AC ⊗ |Φ+>_C'B\n",
        "phi_AC = bell_state()\n",
        "phi_CpB = bell_state()\n",
        "psi_init = tensor(phi_AC, phi_CpB)\n",
        "\n",
        "# Bell ölçüm operatörleri\n",
        "bell_basis = [\n",
        "    (tensor(basis(2,0), basis(2,0)) + tensor(basis(2,1), basis(2,1))).unit(),  # Φ+\n",
        "    (tensor(basis(2,0), basis(2,0)) - tensor(basis(2,1), basis(2,1))).unit(),  # Φ-\n",
        "    (tensor(basis(2,0), basis(2,1)) + tensor(basis(2,1), basis(2,0))).unit(),  # Ψ+\n",
        "    (tensor(basis(2,0), basis(2,1)) - tensor(basis(2,1), basis(2,0))).unit(),  # Ψ-\n",
        "]\n",
        "\n",
        "# Ölçüm: C ve C' qubitleri (2 ve 3)\n",
        "rho = ket2dm(psi_init)\n",
        "proj_ops = [tensor(qeye(2), ket2dm(bell), qeye(2)) for bell in bell_basis]\n",
        "\n",
        "# Ölçüm olasılıkları\n",
        "probs = [expect(P, rho) for P in proj_ops]\n",
        "print(\"Ölçüm olasılıkları:\", np.round(probs, 3))\n",
        "\n",
        "# Ölçüm sonucu Φ+ durumu olsun (en olası)\n",
        "rho_post = proj_ops[0] * rho * proj_ops[0]\n",
        "rho_post = rho_post / rho_post.tr()\n",
        "\n",
        "# Ayşe-Burak (0 ve 3) indirgenmiş yoğunluk matrisi\n",
        "rho_AB = rho_post.ptrace([0, 3])\n",
        "print(\"\\nAyşe-Burak yoğunluk matrisi:\\n\", rho_AB)\n",
        "print(\"Fidelity(|Φ+>):\", fidelity(rho_AB, bell_state()))\n"
      ],
      "metadata": {
        "colab": {
          "base_uri": "https://localhost:8080/"
        },
        "id": "EafmAmFijHtR",
        "outputId": "ba5efb06-adb4-4432-e856-f6fda38fb313"
      },
      "execution_count": 5,
      "outputs": [
        {
          "output_type": "stream",
          "name": "stdout",
          "text": [
            "Ölçüm olasılıkları: [0.25 0.25 0.25 0.25]\n",
            "\n",
            "Ayşe-Burak yoğunluk matrisi:\n",
            " Quantum object: dims=[[2, 2], [2, 2]], shape=(4, 4), type='oper', dtype=CSR, isherm=True\n",
            "Qobj data =\n",
            "[[0.5 0.  0.  0.5]\n",
            " [0.  0.  0.  0. ]\n",
            " [0.  0.  0.  0. ]\n",
            " [0.5 0.  0.  0.5]]\n",
            "Fidelity(|Φ+>): 0.9999999999999998\n"
          ]
        }
      ]
    },
    {
      "cell_type": "code",
      "execution_count": null,
      "metadata": {
        "id": "zc6dxtumi9O6"
      },
      "outputs": [],
      "source": []
    }
  ]
}