{
  "nbformat": 4,
  "nbformat_minor": 0,
  "metadata": {
    "colab": {
      "provenance": []
    },
    "kernelspec": {
      "name": "python3",
      "display_name": "Python 3"
    },
    "language_info": {
      "name": "python"
    }
  },
  "cells": [
    {
      "cell_type": "markdown",
      "source": [
        "Ön hazırlık (kütüphane kurulumu)"
      ],
      "metadata": {
        "id": "HkikwNrKNzeD"
      }
    },
    {
      "cell_type": "code",
      "execution_count": 1,
      "metadata": {
        "colab": {
          "base_uri": "https://localhost:8080/"
        },
        "id": "anfl_eMVNzeD",
        "outputId": "1a48fa7d-c71e-4ff3-be4f-daf7a6bdfcaa"
      },
      "outputs": [
        {
          "output_type": "stream",
          "name": "stdout",
          "text": [
            "\u001b[2K   \u001b[90m━━━━━━━━━━━━━━━━━━━━━━━━━━━━━━━━━━━━━━━━\u001b[0m \u001b[32m2.0/2.0 MB\u001b[0m \u001b[31m23.4 MB/s\u001b[0m eta \u001b[36m0:00:00\u001b[0m\n",
            "\u001b[2K   \u001b[90m━━━━━━━━━━━━━━━━━━━━━━━━━━━━━━━━━━━━━━━━\u001b[0m \u001b[32m670.8/670.8 kB\u001b[0m \u001b[31m42.1 MB/s\u001b[0m eta \u001b[36m0:00:00\u001b[0m\n",
            "\u001b[2K   \u001b[90m━━━━━━━━━━━━━━━━━━━━━━━━━━━━━━━━━━━━━━━━\u001b[0m \u001b[32m73.5/73.5 kB\u001b[0m \u001b[31m6.4 MB/s\u001b[0m eta \u001b[36m0:00:00\u001b[0m\n",
            "\u001b[2K   \u001b[90m━━━━━━━━━━━━━━━━━━━━━━━━━━━━━━━━━━━━━━━━\u001b[0m \u001b[32m430.5/430.5 kB\u001b[0m \u001b[31m34.1 MB/s\u001b[0m eta \u001b[36m0:00:00\u001b[0m\n",
            "\u001b[2K   \u001b[90m━━━━━━━━━━━━━━━━━━━━━━━━━━━━━━━━━━━━━━━━\u001b[0m \u001b[32m8.0/8.0 MB\u001b[0m \u001b[31m101.0 MB/s\u001b[0m eta \u001b[36m0:00:00\u001b[0m\n",
            "\u001b[2K   \u001b[90m━━━━━━━━━━━━━━━━━━━━━━━━━━━━━━━━━━━━━━━━\u001b[0m \u001b[32m31.8/31.8 MB\u001b[0m \u001b[31m44.2 MB/s\u001b[0m eta \u001b[36m0:00:00\u001b[0m\n",
            "\u001b[2K   \u001b[90m━━━━━━━━━━━━━━━━━━━━━━━━━━━━━━━━━━━━━━━━\u001b[0m \u001b[32m2.2/2.2 MB\u001b[0m \u001b[31m80.1 MB/s\u001b[0m eta \u001b[36m0:00:00\u001b[0m\n",
            "\u001b[2K   \u001b[90m━━━━━━━━━━━━━━━━━━━━━━━━━━━━━━━━━━━━━━━━\u001b[0m \u001b[32m49.5/49.5 kB\u001b[0m \u001b[31m3.4 MB/s\u001b[0m eta \u001b[36m0:00:00\u001b[0m\n",
            "\u001b[2K   \u001b[90m━━━━━━━━━━━━━━━━━━━━━━━━━━━━━━━━━━━━━━━━\u001b[0m \u001b[32m2.8/2.8 MB\u001b[0m \u001b[31m58.6 MB/s\u001b[0m eta \u001b[36m0:00:00\u001b[0m\n",
            "\u001b[?25h"
          ]
        }
      ],
      "source": [
        "# Gerekli kütüphaneleri yükleyelim (Colab hücresine)\n",
        "!pip install cirq qiskit qutip numpy matplotlib --quiet"
      ]
    },
    {
      "cell_type": "markdown",
      "source": [
        "Örnek: Saf Kuantum Durumundan Yoğunluk Matrisi ve Trace Hesabı\n",
        "\n",
        "Durum:\n",
        "\n",
        "∣\n",
        "𝜓\n",
        "⟩\n",
        "=\n",
        "1\n",
        "3\n",
        "∣\n",
        "0\n",
        "⟩\n",
        "+\n",
        "𝑖\n",
        "2\n",
        "3\n",
        "∣\n",
        "1\n",
        "⟩\n",
        "∣ψ⟩=\n",
        "3\n",
        "\t​\n",
        "\n",
        "1\n",
        "\t​\n",
        "\n",
        "∣0⟩+i\n",
        "3\n",
        "2\n",
        "\t​\n",
        "\n",
        "\t​\n",
        "\n",
        "∣1⟩\n",
        "Cirq ile"
      ],
      "metadata": {
        "id": "cNx2eQWBMnOR"
      }
    },
    {
      "cell_type": "code",
      "execution_count": 2,
      "metadata": {
        "colab": {
          "base_uri": "https://localhost:8080/"
        },
        "id": "aj0Eg7jyMZnC",
        "outputId": "b5c844a4-3dc8-4c96-90aa-7aa66525a284"
      },
      "outputs": [
        {
          "output_type": "stream",
          "name": "stdout",
          "text": [
            "Yoğunluk matrisi (rho):\n",
            " [[0.333+0.j    0.   -0.471j]\n",
            " [0.   +0.471j 0.667+0.j   ]]\n",
            "Trace(rho) = (1+0j)\n",
            "Tr(rho^2) = (1.0000000000000002+0j)\n",
            "Sistem saf durumdur.\n"
          ]
        }
      ],
      "source": [
        "import cirq\n",
        "import numpy as np\n",
        "\n",
        "# Qubit ve devre tanımı\n",
        "q = cirq.LineQubit(0)\n",
        "\n",
        "# Saf durum vektörü\n",
        "psi = np.array([1/np.sqrt(3), 1j*np.sqrt(2/3)])\n",
        "\n",
        "# Yoğunluk matrisi\n",
        "rho = np.outer(psi, np.conj(psi))\n",
        "print(\"Yoğunluk matrisi (rho):\\n\", np.round(rho,3))\n",
        "\n",
        "# Trace (iz) hesabı\n",
        "trace_rho = np.trace(rho)\n",
        "print(\"Trace(rho) =\", trace_rho)\n",
        "\n",
        "# Saflık kontrolü\n",
        "purity = np.trace(rho @ rho)\n",
        "print(\"Tr(rho^2) =\", purity)\n",
        "if np.isclose(purity,1):\n",
        "    print(\"Sistem saf durumdur.\")\n",
        "else:\n",
        "    print(\"Sistem karışık durumdadır.\")\n"
      ]
    },
    {
      "cell_type": "markdown",
      "source": [
        "Qiskit"
      ],
      "metadata": {
        "id": "BrMMqKHWMsqW"
      }
    },
    {
      "cell_type": "code",
      "source": [
        "import numpy as np\n",
        "from qiskit.quantum_info import DensityMatrix\n",
        "\n",
        "# Saf durum vektörü\n",
        "psi = np.array([1/np.sqrt(3), 1j*np.sqrt(2/3)])\n",
        "\n",
        "# Yoğunluk matrisi\n",
        "rho = DensityMatrix(psi)\n",
        "print(\"Yoğunluk matrisi (rho):\\n\", np.round(rho.data,3))\n",
        "\n",
        "# Trace (iz) ve saflık\n",
        "trace_rho = np.trace(rho.data)\n",
        "purity = np.trace(rho.data @ rho.data)\n",
        "print(\"Trace(rho) =\", trace_rho)\n",
        "print(\"Tr(rho^2) =\", purity)\n",
        "\n",
        "if np.isclose(purity,1):\n",
        "    print(\"Sistem saf durumdur.\")\n",
        "else:\n",
        "    print(\"Sistem karışık durumdadır.\")\n"
      ],
      "metadata": {
        "colab": {
          "base_uri": "https://localhost:8080/"
        },
        "id": "rbyvfreNMswb",
        "outputId": "d48f8498-3d7c-4421-80b7-594258f89061"
      },
      "execution_count": 3,
      "outputs": [
        {
          "output_type": "stream",
          "name": "stdout",
          "text": [
            "Yoğunluk matrisi (rho):\n",
            " [[0.333+0.j    0.   -0.471j]\n",
            " [0.   +0.471j 0.667+0.j   ]]\n",
            "Trace(rho) = (1+0j)\n",
            "Tr(rho^2) = (1.0000000000000002+0j)\n",
            "Sistem saf durumdur.\n"
          ]
        }
      ]
    },
    {
      "cell_type": "markdown",
      "source": [
        "QuTiP"
      ],
      "metadata": {
        "id": "GDS14SBfMs3P"
      }
    },
    {
      "cell_type": "code",
      "source": [
        "from qutip import basis, ket2dm\n",
        "\n",
        "# Saf durum |psi>\n",
        "psi = (1/np.sqrt(3))*basis(2,0) + 1j*np.sqrt(2/3)*basis(2,1)\n",
        "\n",
        "# Yoğunluk matrisi\n",
        "rho = ket2dm(psi)\n",
        "print(\"Yoğunluk matrisi (rho):\")\n",
        "print(rho.full().round(3))\n",
        "\n",
        "# Trace (iz)\n",
        "trace_rho = rho.tr()\n",
        "print(\"Trace(rho) =\", trace_rho)\n",
        "\n",
        "# Saflık kontrolü\n",
        "purity = (rho*rho).tr()\n",
        "print(\"Tr(rho^2) =\", purity)\n",
        "\n",
        "if np.isclose(purity,1):\n",
        "    print(\"Sistem saf durumdur.\")\n",
        "else:\n",
        "    print(\"Sistem karışık durumdadır.\")\n"
      ],
      "metadata": {
        "colab": {
          "base_uri": "https://localhost:8080/"
        },
        "id": "AkGD1_3MMs87",
        "outputId": "91111e82-749c-46f4-bf05-fb2f9203773c"
      },
      "execution_count": 4,
      "outputs": [
        {
          "output_type": "stream",
          "name": "stdout",
          "text": [
            "Yoğunluk matrisi (rho):\n",
            "[[0.333+0.j    0.   -0.471j]\n",
            " [0.   +0.471j 0.667+0.j   ]]\n",
            "Trace(rho) = 1.0\n",
            "Tr(rho^2) = 1.0000000000000002\n",
            "Sistem saf durumdur.\n"
          ]
        }
      ]
    }
  ]
}