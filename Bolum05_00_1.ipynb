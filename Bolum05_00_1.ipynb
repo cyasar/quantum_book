{
  "nbformat": 4,
  "nbformat_minor": 0,
  "metadata": {
    "colab": {
      "provenance": []
    },
    "kernelspec": {
      "name": "python3",
      "display_name": "Python 3"
    },
    "language_info": {
      "name": "python"
    }
  },
  "cells": [
    {
      "cell_type": "markdown",
      "source": [
        "Ön hazırlık (kütüphane kurulumu)"
      ],
      "metadata": {
        "id": "HkikwNrKNzeD"
      }
    },
    {
      "cell_type": "code",
      "execution_count": 1,
      "metadata": {
        "colab": {
          "base_uri": "https://localhost:8080/"
        },
        "id": "anfl_eMVNzeD",
        "outputId": "ea8570b0-a141-4927-963c-868c6b08b3d5"
      },
      "outputs": [
        {
          "output_type": "stream",
          "name": "stdout",
          "text": [
            "\u001b[?25l   \u001b[90m━━━━━━━━━━━━━━━━━━━━━━━━━━━━━━━━━━━━━━━━\u001b[0m \u001b[32m0.0/2.0 MB\u001b[0m \u001b[31m?\u001b[0m eta \u001b[36m-:--:--\u001b[0m\r\u001b[2K   \u001b[91m━━━━━━━━━━━━━━━\u001b[0m\u001b[90m╺\u001b[0m\u001b[90m━━━━━━━━━━━━━━━━━━━━━━━━\u001b[0m \u001b[32m0.8/2.0 MB\u001b[0m \u001b[31m22.9 MB/s\u001b[0m eta \u001b[36m0:00:01\u001b[0m\r\u001b[2K   \u001b[90m━━━━━━━━━━━━━━━━━━━━━━━━━━━━━━━━━━━━━━━━\u001b[0m \u001b[32m2.0/2.0 MB\u001b[0m \u001b[31m32.3 MB/s\u001b[0m eta \u001b[36m0:00:00\u001b[0m\n",
            "\u001b[?25h\u001b[?25l   \u001b[90m━━━━━━━━━━━━━━━━━━━━━━━━━━━━━━━━━━━━━━━━\u001b[0m \u001b[32m0.0/670.8 kB\u001b[0m \u001b[31m?\u001b[0m eta \u001b[36m-:--:--\u001b[0m\r\u001b[2K   \u001b[90m━━━━━━━━━━━━━━━━━━━━━━━━━━━━━━━━━━━━━━━━\u001b[0m \u001b[32m670.8/670.8 kB\u001b[0m \u001b[31m48.0 MB/s\u001b[0m eta \u001b[36m0:00:00\u001b[0m\n",
            "\u001b[?25h\u001b[?25l   \u001b[90m━━━━━━━━━━━━━━━━━━━━━━━━━━━━━━━━━━━━━━━━\u001b[0m \u001b[32m0.0/73.5 kB\u001b[0m \u001b[31m?\u001b[0m eta \u001b[36m-:--:--\u001b[0m\r\u001b[2K   \u001b[90m━━━━━━━━━━━━━━━━━━━━━━━━━━━━━━━━━━━━━━━━\u001b[0m \u001b[32m73.5/73.5 kB\u001b[0m \u001b[31m6.0 MB/s\u001b[0m eta \u001b[36m0:00:00\u001b[0m\n",
            "\u001b[?25h\u001b[?25l   \u001b[90m━━━━━━━━━━━━━━━━━━━━━━━━━━━━━━━━━━━━━━━━\u001b[0m \u001b[32m0.0/430.5 kB\u001b[0m \u001b[31m?\u001b[0m eta \u001b[36m-:--:--\u001b[0m\r\u001b[2K   \u001b[90m━━━━━━━━━━━━━━━━━━━━━━━━━━━━━━━━━━━━━━━━\u001b[0m \u001b[32m430.5/430.5 kB\u001b[0m \u001b[31m33.5 MB/s\u001b[0m eta \u001b[36m0:00:00\u001b[0m\n",
            "\u001b[2K   \u001b[90m━━━━━━━━━━━━━━━━━━━━━━━━━━━━━━━━━━━━━━━━\u001b[0m \u001b[32m8.0/8.0 MB\u001b[0m \u001b[31m134.8 MB/s\u001b[0m eta \u001b[36m0:00:00\u001b[0m\n",
            "\u001b[2K   \u001b[90m━━━━━━━━━━━━━━━━━━━━━━━━━━━━━━━━━━━━━━━━\u001b[0m \u001b[32m31.8/31.8 MB\u001b[0m \u001b[31m26.9 MB/s\u001b[0m eta \u001b[36m0:00:00\u001b[0m\n",
            "\u001b[2K   \u001b[90m━━━━━━━━━━━━━━━━━━━━━━━━━━━━━━━━━━━━━━━━\u001b[0m \u001b[32m2.2/2.2 MB\u001b[0m \u001b[31m98.5 MB/s\u001b[0m eta \u001b[36m0:00:00\u001b[0m\n",
            "\u001b[2K   \u001b[90m━━━━━━━━━━━━━━━━━━━━━━━━━━━━━━━━━━━━━━━━\u001b[0m \u001b[32m49.5/49.5 kB\u001b[0m \u001b[31m4.4 MB/s\u001b[0m eta \u001b[36m0:00:00\u001b[0m\n",
            "\u001b[2K   \u001b[90m━━━━━━━━━━━━━━━━━━━━━━━━━━━━━━━━━━━━━━━━\u001b[0m \u001b[32m2.8/2.8 MB\u001b[0m \u001b[31m99.6 MB/s\u001b[0m eta \u001b[36m0:00:00\u001b[0m\n",
            "\u001b[?25h"
          ]
        }
      ],
      "source": [
        "# Gerekli kütüphaneleri yükleyelim (Colab hücresine)\n",
        "!pip install cirq qiskit qutip numpy matplotlib --quiet"
      ]
    },
    {
      "cell_type": "markdown",
      "source": [
        "DIRAC (BRA-KET =PARANTEZ) GÖSTERİMİ"
      ],
      "metadata": {
        "id": "qvGT1vcvo5KL"
      }
    },
    {
      "cell_type": "markdown",
      "source": [
        "Cirq ile Dirac Gösterimi"
      ],
      "metadata": {
        "id": "9L4uOczaqmXu"
      }
    },
    {
      "cell_type": "code",
      "execution_count": 2,
      "metadata": {
        "id": "1AU1XOI5kIdY",
        "colab": {
          "base_uri": "https://localhost:8080/"
        },
        "outputId": "d92a9a9c-c8b8-4690-9bc8-15dafebbabb8"
      },
      "outputs": [
        {
          "output_type": "stream",
          "name": "stdout",
          "text": [
            "Cirq örneği:\n",
            "|0> = [[1]\n",
            " [0]]\n",
            "<0| = [[1 0]]\n",
            "<0|0> = [[1]]\n",
            "<0|1> = [[0]]\n",
            "|0><0| =\n",
            " [[1 0]\n",
            " [0 0]]\n",
            "Süperpozisyon |ψ> =\n",
            " [[0.70710678]\n",
            " [0.70710678]]\n"
          ]
        }
      ],
      "source": [
        "import numpy as np\n",
        "import cirq\n",
        "\n",
        "# |0> ve |1> temel baz durumları\n",
        "ket0 = np.array([[1], [0]])\n",
        "ket1 = np.array([[0], [1]])\n",
        "\n",
        "# Bra (hermitian conjugate = conj transpose)\n",
        "bra0 = ket0.conj().T\n",
        "bra1 = ket1.conj().T\n",
        "\n",
        "print(\"Cirq örneği:\")\n",
        "print(\"|0> =\", ket0)\n",
        "print(\"<0| =\", bra0)\n",
        "print(\"<0|0> =\", bra0 @ ket0)   # iç çarpım -> 1\n",
        "print(\"<0|1> =\", bra0 @ ket1)   # iç çarpım -> 0\n",
        "\n",
        "# Dış çarpım -> |0><0|\n",
        "proj0 = ket0 @ bra0\n",
        "print(\"|0><0| =\\n\", proj0)\n",
        "\n",
        "# Genel süperpozisyon: |ψ> = α|0> + β|1>\n",
        "alpha, beta = 1/np.sqrt(2), 1/np.sqrt(2)\n",
        "psi = alpha*ket0 + beta*ket1\n",
        "print(\"Süperpozisyon |ψ> =\\n\", psi)\n"
      ]
    },
    {
      "cell_type": "markdown",
      "source": [
        "Qiskit ile Dirac Gösterimi"
      ],
      "metadata": {
        "id": "dIpbUPfGqnRr"
      }
    },
    {
      "cell_type": "code",
      "source": [
        "import numpy as np\n",
        "from qiskit.quantum_info import Statevector\n",
        "\n",
        "# |0> ve |1> durumları\n",
        "ket0 = Statevector.from_label('0').data.reshape(-1,1)\n",
        "ket1 = Statevector.from_label('1').data.reshape(-1,1)\n",
        "\n",
        "bra0 = ket0.conj().T\n",
        "bra1 = ket1.conj().T\n",
        "\n",
        "print(\"Qiskit örneği:\")\n",
        "print(\"|0> =\", ket0)\n",
        "print(\"<0| =\", bra0)\n",
        "print(\"<0|0> =\", bra0 @ ket0)\n",
        "print(\"<0|1> =\", bra0 @ ket1)\n",
        "\n",
        "# Süperpozisyon: (|0> + |1>) / √2\n",
        "psi = (ket0 + ket1) / np.sqrt(2)\n",
        "print(\"|ψ> =\", psi)\n",
        "\n",
        "# Dış çarpım\n",
        "proj = ket0 @ bra0\n",
        "print(\"|0><0| =\\n\", proj)\n"
      ],
      "metadata": {
        "colab": {
          "base_uri": "https://localhost:8080/"
        },
        "id": "DqoGG3MAqpEu",
        "outputId": "5fdb73a9-dca2-4445-f10b-addf2b8647b1"
      },
      "execution_count": 3,
      "outputs": [
        {
          "output_type": "stream",
          "name": "stdout",
          "text": [
            "Qiskit örneği:\n",
            "|0> = [[1.+0.j]\n",
            " [0.+0.j]]\n",
            "<0| = [[1.-0.j 0.-0.j]]\n",
            "<0|0> = [[1.+0.j]]\n",
            "<0|1> = [[0.+0.j]]\n",
            "|ψ> = [[0.70710678+0.j]\n",
            " [0.70710678+0.j]]\n",
            "|0><0| =\n",
            " [[1.+0.j 0.+0.j]\n",
            " [0.+0.j 0.+0.j]]\n"
          ]
        }
      ]
    },
    {
      "cell_type": "markdown",
      "source": [
        "QuTiP ile Dirac Gösterimi"
      ],
      "metadata": {
        "id": "yV_d5vntqrER"
      }
    },
    {
      "cell_type": "code",
      "source": [
        "import qutip as qt\n",
        "\n",
        "# |0> ve |1> durumları\n",
        "ket0 = qt.basis(2,0)   # boyut 2, index 0\n",
        "ket1 = qt.basis(2,1)\n",
        "\n",
        "bra0 = ket0.dag()\n",
        "bra1 = ket1.dag()\n",
        "\n",
        "print(\"QuTiP örneği:\")\n",
        "print(\"|0> =\\n\", ket0)\n",
        "print(\"<0| =\\n\", bra0)\n",
        "print(\"<0|0> =\", (bra0*ket0).full())\n",
        "print(\"<0|1> =\", (bra0*ket1).full())\n",
        "\n",
        "# Süperpozisyon durumu\n",
        "psi = (ket0 + ket1).unit()\n",
        "print(\"|ψ> =\\n\", psi)\n",
        "\n",
        "# Dış çarpım\n",
        "proj = ket0 * bra0\n",
        "print(\"|0><0| =\\n\", proj)\n"
      ],
      "metadata": {
        "id": "WjDASngDqsq7"
      },
      "execution_count": null,
      "outputs": []
    }
  ]
}