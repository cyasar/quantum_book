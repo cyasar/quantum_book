{
  "nbformat": 4,
  "nbformat_minor": 0,
  "metadata": {
    "colab": {
      "provenance": []
    },
    "kernelspec": {
      "name": "python3",
      "display_name": "Python 3"
    },
    "language_info": {
      "name": "python"
    }
  },
  "cells": [
    {
      "cell_type": "markdown",
      "metadata": {
        "id": "HkikwNrKNzeD"
      },
      "source": [
        "Ön hazırlık (kütüphane kurulumu)"
      ]
    },
    {
      "cell_type": "code",
      "execution_count": 1,
      "metadata": {
        "colab": {
          "base_uri": "https://localhost:8080/"
        },
        "id": "anfl_eMVNzeD",
        "outputId": "5e6cdec1-3213-4181-a9d3-e7aacf75833e"
      },
      "outputs": [
        {
          "output_type": "stream",
          "name": "stdout",
          "text": [
            "\u001b[?25l   \u001b[90m━━━━━━━━━━━━━━━━━━━━━━━━━━━━━━━━━━━━━━━━\u001b[0m \u001b[32m0.0/2.0 MB\u001b[0m \u001b[31m?\u001b[0m eta \u001b[36m-:--:--\u001b[0m\r\u001b[2K   \u001b[91m━━━━━━━━━━━━━━━━━━━\u001b[0m\u001b[91m╸\u001b[0m\u001b[90m━━━━━━━━━━━━━━━━━━━━\u001b[0m \u001b[32m1.0/2.0 MB\u001b[0m \u001b[31m32.3 MB/s\u001b[0m eta \u001b[36m0:00:01\u001b[0m\r\u001b[2K   \u001b[90m━━━━━━━━━━━━━━━━━━━━━━━━━━━━━━━━━━━━━━━━\u001b[0m \u001b[32m2.0/2.0 MB\u001b[0m \u001b[31m29.1 MB/s\u001b[0m eta \u001b[36m0:00:00\u001b[0m\n",
            "\u001b[2K   \u001b[90m━━━━━━━━━━━━━━━━━━━━━━━━━━━━━━━━━━━━━━━━\u001b[0m \u001b[32m670.8/670.8 kB\u001b[0m \u001b[31m35.1 MB/s\u001b[0m eta \u001b[36m0:00:00\u001b[0m\n",
            "\u001b[2K   \u001b[90m━━━━━━━━━━━━━━━━━━━━━━━━━━━━━━━━━━━━━━━━\u001b[0m \u001b[32m73.5/73.5 kB\u001b[0m \u001b[31m4.1 MB/s\u001b[0m eta \u001b[36m0:00:00\u001b[0m\n",
            "\u001b[2K   \u001b[90m━━━━━━━━━━━━━━━━━━━━━━━━━━━━━━━━━━━━━━━━\u001b[0m \u001b[32m430.5/430.5 kB\u001b[0m \u001b[31m20.3 MB/s\u001b[0m eta \u001b[36m0:00:00\u001b[0m\n",
            "\u001b[2K   \u001b[90m━━━━━━━━━━━━━━━━━━━━━━━━━━━━━━━━━━━━━━━━\u001b[0m \u001b[32m8.0/8.0 MB\u001b[0m \u001b[31m83.2 MB/s\u001b[0m eta \u001b[36m0:00:00\u001b[0m\n",
            "\u001b[2K   \u001b[90m━━━━━━━━━━━━━━━━━━━━━━━━━━━━━━━━━━━━━━━━\u001b[0m \u001b[32m31.8/31.8 MB\u001b[0m \u001b[31m37.5 MB/s\u001b[0m eta \u001b[36m0:00:00\u001b[0m\n",
            "\u001b[2K   \u001b[90m━━━━━━━━━━━━━━━━━━━━━━━━━━━━━━━━━━━━━━━━\u001b[0m \u001b[32m2.2/2.2 MB\u001b[0m \u001b[31m85.3 MB/s\u001b[0m eta \u001b[36m0:00:00\u001b[0m\n",
            "\u001b[2K   \u001b[90m━━━━━━━━━━━━━━━━━━━━━━━━━━━━━━━━━━━━━━━━\u001b[0m \u001b[32m49.5/49.5 kB\u001b[0m \u001b[31m3.5 MB/s\u001b[0m eta \u001b[36m0:00:00\u001b[0m\n",
            "\u001b[2K   \u001b[90m━━━━━━━━━━━━━━━━━━━━━━━━━━━━━━━━━━━━━━━━\u001b[0m \u001b[32m2.8/2.8 MB\u001b[0m \u001b[31m75.3 MB/s\u001b[0m eta \u001b[36m0:00:00\u001b[0m\n",
            "\u001b[?25h"
          ]
        }
      ],
      "source": [
        "# Gerekli kütüphaneleri yükleyelim (Colab hücresine)\n",
        "!pip install cirq qiskit qutip numpy matplotlib --quiet"
      ]
    },
    {
      "cell_type": "markdown",
      "source": [
        "Cirq — 3-qubit QFT, adım adım ara durumlar"
      ],
      "metadata": {
        "id": "B0feQmC01qQs"
      }
    },
    {
      "cell_type": "code",
      "source": [
        "# requirements: pip install cirq numpy\n",
        "import cirq\n",
        "import numpy as np\n",
        "\n",
        "def controlled_R(k, control, target):\n",
        "    \"\"\"Controlled R_k where R_k = diag(1, exp(2pi i / 2^k)).\n",
        "       Cirq CPhase uses angle theta so that |11> gets e^{i theta}.\n",
        "       We want theta = 2*pi / 2^k.\n",
        "    \"\"\"\n",
        "    theta = 2 * np.pi / (2 ** k)\n",
        "    return cirq.CPhase(theta).on(control, target)\n",
        "\n",
        "def qft_stepwise_cirq(x_bits):\n",
        "    # qubit ordering: q0 = x1 (MSB), q1 = x2, q2 = x3 (LSB)\n",
        "    q0, q1, q2 = cirq.LineQubit.range(3)\n",
        "    qubits = [q0, q1, q2]\n",
        "\n",
        "    # prepare input basis state |x1 x2 x3>\n",
        "    circuit_prep = cirq.Circuit()\n",
        "    for qb, bit in zip(qubits, x_bits):\n",
        "        if bit == 1:\n",
        "            circuit_prep.append(cirq.X(qb))\n",
        "\n",
        "    # We'll build circuit incrementally and simulate after each main step\n",
        "    sim = cirq.Simulator()\n",
        "    print(\"Input bits:\", x_bits)\n",
        "    print(\"Initial statevector (computational basis):\")\n",
        "    print(np.round(sim.simulate(circuit_prep).final_state_vector, 6))\n",
        "\n",
        "    # Step 1: apply H on q0, then controlled-R2 between q1->q0 and q2->q0\n",
        "    circ1 = circuit_prep.copy()\n",
        "    circ1.append(cirq.H(q0))\n",
        "    circ1.append(controlled_R(2, q1, q0))  # R_2 controlled by q1 on q0\n",
        "    circ1.append(controlled_R(3, q2, q0))  # R_3 controlled by q2 on q0\n",
        "    state1 = sim.simulate(circ1).final_state_vector\n",
        "    print(\"\\nAfter processing q0 (H + controlled R_k from q1,q2):\")\n",
        "    print(np.round(state1, 6))\n",
        "\n",
        "    # Step 2: apply H on q1, then controlled-R2 from q2->q1\n",
        "    circ2 = circ1.copy()\n",
        "    circ2.append(cirq.H(q1))\n",
        "    circ2.append(controlled_R(2, q2, q1))\n",
        "    state2 = sim.simulate(circ2).final_state_vector\n",
        "    print(\"\\nAfter processing q1 (H + controlled R_k from q2):\")\n",
        "    print(np.round(state2, 6))\n",
        "\n",
        "    # Step 3: apply H on q2 (last qubit)\n",
        "    circ3 = circ2.copy()\n",
        "    circ3.append(cirq.H(q2))\n",
        "    # final swaps for full QFT (swap q0<->q2)\n",
        "    circ3.append(cirq.SWAP(q0, q2))\n",
        "    state3 = sim.simulate(circ3).final_state_vector\n",
        "    print(\"\\nAfter processing q2 (H) and final SWAP (full QFT):\")\n",
        "    print(np.round(state3, 6))\n",
        "\n",
        "if __name__ == \"__main__\":\n",
        "    # örnek girdiler: değiştirerek x1,x2,x3 deneyebilirsin\n",
        "    qft_stepwise_cirq((0,1,0))  # örn |010>  -> gözlemler q1,q2,q3 dönüşümlerini\n"
      ],
      "metadata": {
        "colab": {
          "base_uri": "https://localhost:8080/",
          "height": 374
        },
        "id": "QdLQdvBT1qU0",
        "outputId": "d5aa2e6a-897f-44f9-b615-451419132f0f"
      },
      "execution_count": 2,
      "outputs": [
        {
          "output_type": "stream",
          "name": "stdout",
          "text": [
            "Input bits: (0, 1, 0)\n",
            "Initial statevector (computational basis):\n",
            "[0.+0.j 1.+0.j]\n"
          ]
        },
        {
          "output_type": "error",
          "ename": "AttributeError",
          "evalue": "module 'cirq' has no attribute 'CPhase'",
          "traceback": [
            "\u001b[0;31m---------------------------------------------------------------------------\u001b[0m",
            "\u001b[0;31mAttributeError\u001b[0m                            Traceback (most recent call last)",
            "\u001b[0;32m/tmp/ipython-input-2756571465.py\u001b[0m in \u001b[0;36m<cell line: 0>\u001b[0;34m()\u001b[0m\n\u001b[1;32m     56\u001b[0m \u001b[0;32mif\u001b[0m \u001b[0m__name__\u001b[0m \u001b[0;34m==\u001b[0m \u001b[0;34m\"__main__\"\u001b[0m\u001b[0;34m:\u001b[0m\u001b[0;34m\u001b[0m\u001b[0;34m\u001b[0m\u001b[0m\n\u001b[1;32m     57\u001b[0m     \u001b[0;31m# örnek girdiler: değiştirerek x1,x2,x3 deneyebilirsin\u001b[0m\u001b[0;34m\u001b[0m\u001b[0;34m\u001b[0m\u001b[0m\n\u001b[0;32m---> 58\u001b[0;31m     \u001b[0mqft_stepwise_cirq\u001b[0m\u001b[0;34m(\u001b[0m\u001b[0;34m(\u001b[0m\u001b[0;36m0\u001b[0m\u001b[0;34m,\u001b[0m\u001b[0;36m1\u001b[0m\u001b[0;34m,\u001b[0m\u001b[0;36m0\u001b[0m\u001b[0;34m)\u001b[0m\u001b[0;34m)\u001b[0m  \u001b[0;31m# örn |010>  -> gözlemler q1,q2,q3 dönüşümlerini\u001b[0m\u001b[0;34m\u001b[0m\u001b[0;34m\u001b[0m\u001b[0m\n\u001b[0m",
            "\u001b[0;32m/tmp/ipython-input-2756571465.py\u001b[0m in \u001b[0;36mqft_stepwise_cirq\u001b[0;34m(x_bits)\u001b[0m\n\u001b[1;32m     31\u001b[0m     \u001b[0mcirc1\u001b[0m \u001b[0;34m=\u001b[0m \u001b[0mcircuit_prep\u001b[0m\u001b[0;34m.\u001b[0m\u001b[0mcopy\u001b[0m\u001b[0;34m(\u001b[0m\u001b[0;34m)\u001b[0m\u001b[0;34m\u001b[0m\u001b[0;34m\u001b[0m\u001b[0m\n\u001b[1;32m     32\u001b[0m     \u001b[0mcirc1\u001b[0m\u001b[0;34m.\u001b[0m\u001b[0mappend\u001b[0m\u001b[0;34m(\u001b[0m\u001b[0mcirq\u001b[0m\u001b[0;34m.\u001b[0m\u001b[0mH\u001b[0m\u001b[0;34m(\u001b[0m\u001b[0mq0\u001b[0m\u001b[0;34m)\u001b[0m\u001b[0;34m)\u001b[0m\u001b[0;34m\u001b[0m\u001b[0;34m\u001b[0m\u001b[0m\n\u001b[0;32m---> 33\u001b[0;31m     \u001b[0mcirc1\u001b[0m\u001b[0;34m.\u001b[0m\u001b[0mappend\u001b[0m\u001b[0;34m(\u001b[0m\u001b[0mcontrolled_R\u001b[0m\u001b[0;34m(\u001b[0m\u001b[0;36m2\u001b[0m\u001b[0;34m,\u001b[0m \u001b[0mq1\u001b[0m\u001b[0;34m,\u001b[0m \u001b[0mq0\u001b[0m\u001b[0;34m)\u001b[0m\u001b[0;34m)\u001b[0m  \u001b[0;31m# R_2 controlled by q1 on q0\u001b[0m\u001b[0;34m\u001b[0m\u001b[0;34m\u001b[0m\u001b[0m\n\u001b[0m\u001b[1;32m     34\u001b[0m     \u001b[0mcirc1\u001b[0m\u001b[0;34m.\u001b[0m\u001b[0mappend\u001b[0m\u001b[0;34m(\u001b[0m\u001b[0mcontrolled_R\u001b[0m\u001b[0;34m(\u001b[0m\u001b[0;36m3\u001b[0m\u001b[0;34m,\u001b[0m \u001b[0mq2\u001b[0m\u001b[0;34m,\u001b[0m \u001b[0mq0\u001b[0m\u001b[0;34m)\u001b[0m\u001b[0;34m)\u001b[0m  \u001b[0;31m# R_3 controlled by q2 on q0\u001b[0m\u001b[0;34m\u001b[0m\u001b[0;34m\u001b[0m\u001b[0m\n\u001b[1;32m     35\u001b[0m     \u001b[0mstate1\u001b[0m \u001b[0;34m=\u001b[0m \u001b[0msim\u001b[0m\u001b[0;34m.\u001b[0m\u001b[0msimulate\u001b[0m\u001b[0;34m(\u001b[0m\u001b[0mcirc1\u001b[0m\u001b[0;34m)\u001b[0m\u001b[0;34m.\u001b[0m\u001b[0mfinal_state_vector\u001b[0m\u001b[0;34m\u001b[0m\u001b[0;34m\u001b[0m\u001b[0m\n",
            "\u001b[0;32m/tmp/ipython-input-2756571465.py\u001b[0m in \u001b[0;36mcontrolled_R\u001b[0;34m(k, control, target)\u001b[0m\n\u001b[1;32m      9\u001b[0m     \"\"\"\n\u001b[1;32m     10\u001b[0m     \u001b[0mtheta\u001b[0m \u001b[0;34m=\u001b[0m \u001b[0;36m2\u001b[0m \u001b[0;34m*\u001b[0m \u001b[0mnp\u001b[0m\u001b[0;34m.\u001b[0m\u001b[0mpi\u001b[0m \u001b[0;34m/\u001b[0m \u001b[0;34m(\u001b[0m\u001b[0;36m2\u001b[0m \u001b[0;34m**\u001b[0m \u001b[0mk\u001b[0m\u001b[0;34m)\u001b[0m\u001b[0;34m\u001b[0m\u001b[0;34m\u001b[0m\u001b[0m\n\u001b[0;32m---> 11\u001b[0;31m     \u001b[0;32mreturn\u001b[0m \u001b[0mcirq\u001b[0m\u001b[0;34m.\u001b[0m\u001b[0mCPhase\u001b[0m\u001b[0;34m(\u001b[0m\u001b[0mtheta\u001b[0m\u001b[0;34m)\u001b[0m\u001b[0;34m.\u001b[0m\u001b[0mon\u001b[0m\u001b[0;34m(\u001b[0m\u001b[0mcontrol\u001b[0m\u001b[0;34m,\u001b[0m \u001b[0mtarget\u001b[0m\u001b[0;34m)\u001b[0m\u001b[0;34m\u001b[0m\u001b[0;34m\u001b[0m\u001b[0m\n\u001b[0m\u001b[1;32m     12\u001b[0m \u001b[0;34m\u001b[0m\u001b[0m\n\u001b[1;32m     13\u001b[0m \u001b[0;32mdef\u001b[0m \u001b[0mqft_stepwise_cirq\u001b[0m\u001b[0;34m(\u001b[0m\u001b[0mx_bits\u001b[0m\u001b[0;34m)\u001b[0m\u001b[0;34m:\u001b[0m\u001b[0;34m\u001b[0m\u001b[0;34m\u001b[0m\u001b[0m\n",
            "\u001b[0;31mAttributeError\u001b[0m: module 'cirq' has no attribute 'CPhase'"
          ]
        }
      ]
    },
    {
      "cell_type": "markdown",
      "source": [
        "Qiskit — 3-qubit QFT adım adım (ara durumlar)"
      ],
      "metadata": {
        "id": "yGM5-38C1qaC"
      }
    },
    {
      "cell_type": "code",
      "source": [
        "# requirements: pip install qiskit numpy\n",
        "import numpy as np\n",
        "from qiskit import QuantumCircuit, Aer, execute\n",
        "from qiskit.quantum_info import Statevector\n",
        "\n",
        "def controlled_R_qiskit(qc, k, control, target):\n",
        "    theta = 2 * np.pi / (2 ** k)   # angle for cp(θ)\n",
        "    qc.cp(theta, control, target)\n",
        "\n",
        "def qft_stepwise_qiskit(x_bits):\n",
        "    # qubit index: 0 -> q0 (MSB x1), 1 -> q1 (x2), 2 -> q2 (LSB x3)\n",
        "    qc_prep = QuantumCircuit(3)\n",
        "    for idx, bit in enumerate(x_bits):\n",
        "        if bit == 1:\n",
        "            qc_prep.x(idx)\n",
        "\n",
        "    backend = Aer.get_backend('statevector_simulator')\n",
        "\n",
        "    print(\"Input bits:\", x_bits)\n",
        "    sv0 = Statevector.from_instruction(qc_prep)\n",
        "    print(\"Initial statevector:\", np.round(sv0.data, 6))\n",
        "\n",
        "    # Step 1: process q0\n",
        "    qc1 = qc_prep.copy()\n",
        "    qc1.h(0)\n",
        "    controlled_R_qiskit(qc1, 2, 1, 0)\n",
        "    controlled_R_qiskit(qc1, 3, 2, 0)\n",
        "    sv1 = Statevector.from_instruction(qc1)\n",
        "    print(\"\\nAfter q0 step (H + controlled R_k from q1,q2):\")\n",
        "    print(np.round(sv1.data, 6))\n",
        "\n",
        "    # Step 2: process q1\n",
        "    qc2 = qc1.copy()\n",
        "    qc2.h(1)\n",
        "    controlled_R_qiskit(qc2, 2, 2, 1)\n",
        "    sv2 = Statevector.from_instruction(qc2)\n",
        "    print(\"\\nAfter q1 step (H + controlled R_k from q2):\")\n",
        "    print(np.round(sv2.data, 6))\n",
        "\n",
        "    # Step 3: process q2 and swap\n",
        "    qc3 = qc2.copy()\n",
        "    qc3.h(2)\n",
        "    qc3.swap(0, 2)   # final bit reversal\n",
        "    sv3 = Statevector.from_instruction(qc3)\n",
        "    print(\"\\nAfter q2 step (H) and swap (full QFT):\")\n",
        "    print(np.round(sv3.data, 6))\n",
        "\n",
        "if __name__ == \"__main__\":\n",
        "    # test örneği: |101>\n",
        "    qft_stepwise_qiskit((1,0,1))\n"
      ],
      "metadata": {
        "colab": {
          "base_uri": "https://localhost:8080/",
          "height": 384
        },
        "id": "hLXAjpRZ1qe3",
        "outputId": "83c0e7df-8f4e-4122-ca57-2ad52940d4f8"
      },
      "execution_count": 3,
      "outputs": [
        {
          "output_type": "error",
          "ename": "ImportError",
          "evalue": "cannot import name 'Aer' from 'qiskit' (/usr/local/lib/python3.12/dist-packages/qiskit/__init__.py)",
          "traceback": [
            "\u001b[0;31m---------------------------------------------------------------------------\u001b[0m",
            "\u001b[0;31mImportError\u001b[0m                               Traceback (most recent call last)",
            "\u001b[0;32m/tmp/ipython-input-186755381.py\u001b[0m in \u001b[0;36m<cell line: 0>\u001b[0;34m()\u001b[0m\n\u001b[1;32m      1\u001b[0m \u001b[0;31m# requirements: pip install qiskit numpy\u001b[0m\u001b[0;34m\u001b[0m\u001b[0;34m\u001b[0m\u001b[0m\n\u001b[1;32m      2\u001b[0m \u001b[0;32mimport\u001b[0m \u001b[0mnumpy\u001b[0m \u001b[0;32mas\u001b[0m \u001b[0mnp\u001b[0m\u001b[0;34m\u001b[0m\u001b[0;34m\u001b[0m\u001b[0m\n\u001b[0;32m----> 3\u001b[0;31m \u001b[0;32mfrom\u001b[0m \u001b[0mqiskit\u001b[0m \u001b[0;32mimport\u001b[0m \u001b[0mQuantumCircuit\u001b[0m\u001b[0;34m,\u001b[0m \u001b[0mAer\u001b[0m\u001b[0;34m,\u001b[0m \u001b[0mexecute\u001b[0m\u001b[0;34m\u001b[0m\u001b[0;34m\u001b[0m\u001b[0m\n\u001b[0m\u001b[1;32m      4\u001b[0m \u001b[0;32mfrom\u001b[0m \u001b[0mqiskit\u001b[0m\u001b[0;34m.\u001b[0m\u001b[0mquantum_info\u001b[0m \u001b[0;32mimport\u001b[0m \u001b[0mStatevector\u001b[0m\u001b[0;34m\u001b[0m\u001b[0;34m\u001b[0m\u001b[0m\n\u001b[1;32m      5\u001b[0m \u001b[0;34m\u001b[0m\u001b[0m\n",
            "\u001b[0;31mImportError\u001b[0m: cannot import name 'Aer' from 'qiskit' (/usr/local/lib/python3.12/dist-packages/qiskit/__init__.py)",
            "",
            "\u001b[0;31m---------------------------------------------------------------------------\u001b[0;32m\nNOTE: If your import is failing due to a missing package, you can\nmanually install dependencies using either !pip or !apt.\n\nTo view examples of installing some common dependencies, click the\n\"Open Examples\" button below.\n\u001b[0;31m---------------------------------------------------------------------------\u001b[0m\n"
          ],
          "errorDetails": {
            "actions": [
              {
                "action": "open_url",
                "actionText": "Open Examples",
                "url": "/notebooks/snippets/importing_libraries.ipynb"
              }
            ]
          }
        }
      ]
    },
    {
      "cell_type": "markdown",
      "source": [
        "QuTiP — Matris tabanlı, adım adım QFT uygulaması"
      ],
      "metadata": {
        "id": "oxjhJZ0F1qjt"
      }
    },
    {
      "cell_type": "code",
      "source": [
        "# requirements: pip install qutip numpy\n",
        "import numpy as np\n",
        "from qutip import tensor, basis, qeye, Qobj\n",
        "\n",
        "# single-qubit gates\n",
        "H = Qobj([[1,1],[1,-1]]) / np.sqrt(2)\n",
        "proj0 = Qobj([[1,0],[0,0]])\n",
        "proj1 = Qobj([[0,0],[0,1]])\n",
        "\n",
        "def Rk(k):\n",
        "    \"\"\"R_k unitary (single qubit)\"\"\"\n",
        "    phase = np.exp(2j * np.pi / (2 ** k))\n",
        "    return Qobj([[1,0],[0,phase]])\n",
        "\n",
        "def controlled_Rk_op(n_qubits, control_idx, target_idx, k):\n",
        "    \"\"\"Construct controlled-R_k operator on n_qubits via projector decomposition.\"\"\"\n",
        "    ops = []\n",
        "    for i in range(n_qubits):\n",
        "        if i == control_idx:\n",
        "            ops.append(proj0)  # when control=0 -> identity on target\n",
        "        else:\n",
        "            ops.append(qeye(2))\n",
        "    P0 = tensor(ops)\n",
        "\n",
        "    ops = []\n",
        "    for i in range(n_qubits):\n",
        "        if i == control_idx:\n",
        "            ops.append(proj1)  # when control=1 -> apply R_k on target\n",
        "        elif i == target_idx:\n",
        "            ops.append(Rk(k))\n",
        "        else:\n",
        "            ops.append(qeye(2))\n",
        "    P1R = tensor(ops)\n",
        "\n",
        "    return P0 + P1R\n",
        "\n",
        "def qft_stepwise_qutip(x_bits):\n",
        "    n = 3\n",
        "    # build input state |x1 x2 x3>\n",
        "    states = [basis(2, b) for b in x_bits]\n",
        "    psi = tensor(*states)\n",
        "    print(\"Input bits:\", x_bits)\n",
        "    print(\"Initial statevector:\\n\", np.round(psi.full().reshape(-1), 6))\n",
        "\n",
        "    # Step 1: H on q0 then CR2 (q1->q0) and CR3 (q2->q0)\n",
        "    U1 = tensor(H, qeye(2), qeye(2))\n",
        "    CR2 = controlled_Rk_op(3, 1, 0, 2)  # control q1 target q0\n",
        "    CR3 = controlled_Rk_op(3, 2, 0, 3)  # control q2 target q0\n",
        "    psi1 = CR3 * (CR2 * (U1 * psi))\n",
        "    print(\"\\nAfter processing q0 (H + controlled R2,R3):\")\n",
        "    print(np.round(psi1.full().reshape(-1), 6))\n",
        "\n",
        "    # Step 2: H on q1 then CR2 (q2->q1)\n",
        "    U2 = tensor(qeye(2), H, qeye(2))\n",
        "    CR2_q1 = controlled_Rk_op(3, 2, 1, 2)  # control q2 target q1\n",
        "    psi2 = CR2_q1 * (U2 * psi1)\n",
        "    print(\"\\nAfter processing q1 (H + controlled R2):\")\n",
        "    print(np.round(psi2.full().reshape(-1), 6))\n",
        "\n",
        "    # Step 3: H on q2, then swap q0<->q2 for final bit reversal\n",
        "    U3 = tensor(qeye(2), qeye(2), H)\n",
        "    psi3 = U3 * psi2\n",
        "    # swap op (0<->2)\n",
        "    SWAP_02 = Qobj(np.zeros((8,8), dtype=complex))\n",
        "    # build SWAP by swapping basis states\n",
        "    import itertools\n",
        "    dim = 2**3\n",
        "    mat = np.zeros((dim,dim), dtype=complex)\n",
        "    for i in range(dim):\n",
        "        b = format(i, '03b')\n",
        "        b_list = list(b)\n",
        "        # swap positions 0 and 2\n",
        "        b_list[0], b_list[2] = b_list[2], b_list[0]\n",
        "        j = int(''.join(b_list), 2)\n",
        "        mat[j, i] = 1.0\n",
        "    SWAP_02 = Qobj(mat)\n",
        "    psi_final = SWAP_02 * psi3\n",
        "    print(\"\\nAfter processing q2 (H) and final SWAP (full QFT):\")\n",
        "    print(np.round(psi_final.full().reshape(-1), 6))\n",
        "\n",
        "if __name__ == \"__main__\":\n",
        "    # örnek: |011>\n",
        "    qft_stepwise_qutip((0,1,1))\n"
      ],
      "metadata": {
        "colab": {
          "base_uri": "https://localhost:8080/",
          "height": 530
        },
        "id": "evc_b-Ok1qn1",
        "outputId": "851b9b75-0440-4eec-ae43-f10630bf7034"
      },
      "execution_count": 4,
      "outputs": [
        {
          "output_type": "stream",
          "name": "stdout",
          "text": [
            "Input bits: (0, 1, 1)\n",
            "Initial statevector:\n",
            " [0.+0.j 0.+0.j 0.+0.j 1.+0.j 0.+0.j 0.+0.j 0.+0.j 0.+0.j]\n",
            "\n",
            "After processing q0 (H + controlled R2,R3):\n",
            "[ 0.      +0.j   0.      +0.j   0.      +0.j   0.707107+0.j\n",
            "  0.      +0.j   0.      +0.j   0.      +0.j  -0.5     +0.5j]\n",
            "\n",
            "After processing q1 (H + controlled R2):\n",
            "[ 0.      +0.j        0.5     +0.j        0.      +0.j\n",
            "  0.      -0.5j       0.      +0.j       -0.353553+0.353553j\n",
            "  0.      +0.j        0.353553+0.353553j]\n"
          ]
        },
        {
          "output_type": "error",
          "ename": "TypeError",
          "evalue": "incompatible dimensions [[8], [8]] and [[2, 2, 2], [1]]",
          "traceback": [
            "\u001b[0;31m---------------------------------------------------------------------------\u001b[0m",
            "\u001b[0;31mTypeError\u001b[0m                                 Traceback (most recent call last)",
            "\u001b[0;32m/tmp/ipython-input-3341911015.py\u001b[0m in \u001b[0;36m<cell line: 0>\u001b[0;34m()\u001b[0m\n\u001b[1;32m     81\u001b[0m \u001b[0;32mif\u001b[0m \u001b[0m__name__\u001b[0m \u001b[0;34m==\u001b[0m \u001b[0;34m\"__main__\"\u001b[0m\u001b[0;34m:\u001b[0m\u001b[0;34m\u001b[0m\u001b[0;34m\u001b[0m\u001b[0m\n\u001b[1;32m     82\u001b[0m     \u001b[0;31m# örnek: |011>\u001b[0m\u001b[0;34m\u001b[0m\u001b[0;34m\u001b[0m\u001b[0m\n\u001b[0;32m---> 83\u001b[0;31m     \u001b[0mqft_stepwise_qutip\u001b[0m\u001b[0;34m(\u001b[0m\u001b[0;34m(\u001b[0m\u001b[0;36m0\u001b[0m\u001b[0;34m,\u001b[0m\u001b[0;36m1\u001b[0m\u001b[0;34m,\u001b[0m\u001b[0;36m1\u001b[0m\u001b[0;34m)\u001b[0m\u001b[0;34m)\u001b[0m\u001b[0;34m\u001b[0m\u001b[0;34m\u001b[0m\u001b[0m\n\u001b[0m",
            "\u001b[0;32m/tmp/ipython-input-3341911015.py\u001b[0m in \u001b[0;36mqft_stepwise_qutip\u001b[0;34m(x_bits)\u001b[0m\n\u001b[1;32m     75\u001b[0m         \u001b[0mmat\u001b[0m\u001b[0;34m[\u001b[0m\u001b[0mj\u001b[0m\u001b[0;34m,\u001b[0m \u001b[0mi\u001b[0m\u001b[0;34m]\u001b[0m \u001b[0;34m=\u001b[0m \u001b[0;36m1.0\u001b[0m\u001b[0;34m\u001b[0m\u001b[0;34m\u001b[0m\u001b[0m\n\u001b[1;32m     76\u001b[0m     \u001b[0mSWAP_02\u001b[0m \u001b[0;34m=\u001b[0m \u001b[0mQobj\u001b[0m\u001b[0;34m(\u001b[0m\u001b[0mmat\u001b[0m\u001b[0;34m)\u001b[0m\u001b[0;34m\u001b[0m\u001b[0;34m\u001b[0m\u001b[0m\n\u001b[0;32m---> 77\u001b[0;31m     \u001b[0mpsi_final\u001b[0m \u001b[0;34m=\u001b[0m \u001b[0mSWAP_02\u001b[0m \u001b[0;34m*\u001b[0m \u001b[0mpsi3\u001b[0m\u001b[0;34m\u001b[0m\u001b[0;34m\u001b[0m\u001b[0m\n\u001b[0m\u001b[1;32m     78\u001b[0m     \u001b[0mprint\u001b[0m\u001b[0;34m(\u001b[0m\u001b[0;34m\"\\nAfter processing q2 (H) and final SWAP (full QFT):\"\u001b[0m\u001b[0;34m)\u001b[0m\u001b[0;34m\u001b[0m\u001b[0;34m\u001b[0m\u001b[0m\n\u001b[1;32m     79\u001b[0m     \u001b[0mprint\u001b[0m\u001b[0;34m(\u001b[0m\u001b[0mnp\u001b[0m\u001b[0;34m.\u001b[0m\u001b[0mround\u001b[0m\u001b[0;34m(\u001b[0m\u001b[0mpsi_final\u001b[0m\u001b[0;34m.\u001b[0m\u001b[0mfull\u001b[0m\u001b[0;34m(\u001b[0m\u001b[0;34m)\u001b[0m\u001b[0;34m.\u001b[0m\u001b[0mreshape\u001b[0m\u001b[0;34m(\u001b[0m\u001b[0;34m-\u001b[0m\u001b[0;36m1\u001b[0m\u001b[0;34m)\u001b[0m\u001b[0;34m,\u001b[0m \u001b[0;36m6\u001b[0m\u001b[0;34m)\u001b[0m\u001b[0;34m)\u001b[0m\u001b[0;34m\u001b[0m\u001b[0;34m\u001b[0m\u001b[0m\n",
            "\u001b[0;32m/usr/local/lib/python3.12/dist-packages/qutip/core/qobj.py\u001b[0m in \u001b[0;36m__mul__\u001b[0;34m(self, other)\u001b[0m\n\u001b[1;32m    422\u001b[0m \u001b[0;34m\u001b[0m\u001b[0m\n\u001b[1;32m    423\u001b[0m         \u001b[0;32mif\u001b[0m \u001b[0misinstance\u001b[0m\u001b[0;34m(\u001b[0m\u001b[0mother\u001b[0m\u001b[0;34m,\u001b[0m \u001b[0mQobj\u001b[0m\u001b[0;34m)\u001b[0m\u001b[0;34m:\u001b[0m\u001b[0;34m\u001b[0m\u001b[0;34m\u001b[0m\u001b[0m\n\u001b[0;32m--> 424\u001b[0;31m             \u001b[0;32mreturn\u001b[0m \u001b[0mself\u001b[0m\u001b[0;34m.\u001b[0m\u001b[0m__matmul__\u001b[0m\u001b[0;34m(\u001b[0m\u001b[0mother\u001b[0m\u001b[0;34m)\u001b[0m\u001b[0;34m\u001b[0m\u001b[0;34m\u001b[0m\u001b[0m\n\u001b[0m\u001b[1;32m    425\u001b[0m \u001b[0;34m\u001b[0m\u001b[0m\n\u001b[1;32m    426\u001b[0m         \u001b[0;31m# We send other to mul instead of complex(other) to be more flexible.\u001b[0m\u001b[0;34m\u001b[0m\u001b[0;34m\u001b[0m\u001b[0m\n",
            "\u001b[0;32m/usr/local/lib/python3.12/dist-packages/qutip/core/qobj.py\u001b[0m in \u001b[0;36m__matmul__\u001b[0;34m(self, other)\u001b[0m\n\u001b[1;32m    459\u001b[0m             \u001b[0;32mexcept\u001b[0m \u001b[0mTypeError\u001b[0m\u001b[0;34m:\u001b[0m\u001b[0;34m\u001b[0m\u001b[0;34m\u001b[0m\u001b[0m\n\u001b[1;32m    460\u001b[0m                 \u001b[0;32mreturn\u001b[0m \u001b[0mNotImplemented\u001b[0m\u001b[0;34m\u001b[0m\u001b[0;34m\u001b[0m\u001b[0m\n\u001b[0;32m--> 461\u001b[0;31m         \u001b[0mnew_dims\u001b[0m \u001b[0;34m=\u001b[0m \u001b[0mself\u001b[0m\u001b[0;34m.\u001b[0m\u001b[0m_dims\u001b[0m \u001b[0;34m@\u001b[0m \u001b[0mother\u001b[0m\u001b[0;34m.\u001b[0m\u001b[0m_dims\u001b[0m\u001b[0;34m\u001b[0m\u001b[0;34m\u001b[0m\u001b[0m\n\u001b[0m\u001b[1;32m    462\u001b[0m         \u001b[0;32mif\u001b[0m \u001b[0mnew_dims\u001b[0m\u001b[0;34m.\u001b[0m\u001b[0mtype\u001b[0m \u001b[0;34m==\u001b[0m \u001b[0;34m'scalar'\u001b[0m\u001b[0;34m:\u001b[0m\u001b[0;34m\u001b[0m\u001b[0;34m\u001b[0m\u001b[0m\n\u001b[1;32m    463\u001b[0m             \u001b[0;32mreturn\u001b[0m \u001b[0m_data\u001b[0m\u001b[0;34m.\u001b[0m\u001b[0minner\u001b[0m\u001b[0;34m(\u001b[0m\u001b[0mself\u001b[0m\u001b[0;34m.\u001b[0m\u001b[0m_data\u001b[0m\u001b[0;34m,\u001b[0m \u001b[0mother\u001b[0m\u001b[0;34m.\u001b[0m\u001b[0m_data\u001b[0m\u001b[0;34m)\u001b[0m\u001b[0;34m\u001b[0m\u001b[0;34m\u001b[0m\u001b[0m\n",
            "\u001b[0;32m/usr/local/lib/python3.12/dist-packages/qutip/core/dimensions.py\u001b[0m in \u001b[0;36m__matmul__\u001b[0;34m(self, other)\u001b[0m\n\u001b[1;32m    798\u001b[0m     \u001b[0;32mdef\u001b[0m \u001b[0m__matmul__\u001b[0m\u001b[0;34m(\u001b[0m\u001b[0mself\u001b[0m\u001b[0;34m,\u001b[0m \u001b[0mother\u001b[0m\u001b[0;34m:\u001b[0m \u001b[0;34m\"Dimensions\"\u001b[0m\u001b[0;34m)\u001b[0m \u001b[0;34m->\u001b[0m \u001b[0;34m\"Dimensions\"\u001b[0m\u001b[0;34m:\u001b[0m\u001b[0;34m\u001b[0m\u001b[0;34m\u001b[0m\u001b[0m\n\u001b[1;32m    799\u001b[0m         \u001b[0;32mif\u001b[0m \u001b[0mself\u001b[0m\u001b[0;34m.\u001b[0m\u001b[0mfrom_\u001b[0m \u001b[0;34m!=\u001b[0m \u001b[0mother\u001b[0m\u001b[0;34m.\u001b[0m\u001b[0mto_\u001b[0m\u001b[0;34m:\u001b[0m\u001b[0;34m\u001b[0m\u001b[0;34m\u001b[0m\u001b[0m\n\u001b[0;32m--> 800\u001b[0;31m             \u001b[0;32mraise\u001b[0m \u001b[0mTypeError\u001b[0m\u001b[0;34m(\u001b[0m\u001b[0;34mf\"incompatible dimensions {self} and {other}\"\u001b[0m\u001b[0;34m)\u001b[0m\u001b[0;34m\u001b[0m\u001b[0;34m\u001b[0m\u001b[0m\n\u001b[0m\u001b[1;32m    801\u001b[0m         \u001b[0margs\u001b[0m \u001b[0;34m=\u001b[0m \u001b[0mother\u001b[0m\u001b[0;34m.\u001b[0m\u001b[0mfrom_\u001b[0m\u001b[0;34m,\u001b[0m \u001b[0mself\u001b[0m\u001b[0;34m.\u001b[0m\u001b[0mto_\u001b[0m\u001b[0;34m\u001b[0m\u001b[0;34m\u001b[0m\u001b[0m\n\u001b[1;32m    802\u001b[0m         \u001b[0;32mif\u001b[0m \u001b[0margs\u001b[0m \u001b[0;32min\u001b[0m \u001b[0mDimensions\u001b[0m\u001b[0;34m.\u001b[0m\u001b[0m_stored_dims\u001b[0m\u001b[0;34m:\u001b[0m\u001b[0;34m\u001b[0m\u001b[0;34m\u001b[0m\u001b[0m\n",
            "\u001b[0;31mTypeError\u001b[0m: incompatible dimensions [[8], [8]] and [[2, 2, 2], [1]]"
          ]
        }
      ]
    },
    {
      "cell_type": "code",
      "execution_count": null,
      "metadata": {
        "id": "KFWGtbBS1m8e"
      },
      "outputs": [],
      "source": []
    }
  ]
}