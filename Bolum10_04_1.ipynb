{
  "nbformat": 4,
  "nbformat_minor": 0,
  "metadata": {
    "colab": {
      "provenance": []
    },
    "kernelspec": {
      "name": "python3",
      "display_name": "Python 3"
    },
    "language_info": {
      "name": "python"
    }
  },
  "cells": [
    {
      "cell_type": "markdown",
      "source": [
        "Ön hazırlık (kütüphane kurulumu)"
      ],
      "metadata": {
        "id": "HkikwNrKNzeD"
      }
    },
    {
      "cell_type": "code",
      "execution_count": 1,
      "metadata": {
        "colab": {
          "base_uri": "https://localhost:8080/"
        },
        "id": "anfl_eMVNzeD",
        "outputId": "ee8707ed-a61f-43a1-a397-8b8c12caeae3"
      },
      "outputs": [
        {
          "output_type": "stream",
          "name": "stdout",
          "text": [
            "\u001b[?25l   \u001b[90m━━━━━━━━━━━━━━━━━━━━━━━━━━━━━━━━━━━━━━━━\u001b[0m \u001b[32m0.0/2.0 MB\u001b[0m \u001b[31m?\u001b[0m eta \u001b[36m-:--:--\u001b[0m\r\u001b[2K   \u001b[91m━━━━━━━━━━━━━━━━━━━━\u001b[0m\u001b[90m╺\u001b[0m\u001b[90m━━━━━━━━━━━━━━━━━━━\u001b[0m \u001b[32m1.0/2.0 MB\u001b[0m \u001b[31m31.7 MB/s\u001b[0m eta \u001b[36m0:00:01\u001b[0m\r\u001b[2K   \u001b[90m━━━━━━━━━━━━━━━━━━━━━━━━━━━━━━━━━━━━━━━━\u001b[0m \u001b[32m2.0/2.0 MB\u001b[0m \u001b[31m32.0 MB/s\u001b[0m eta \u001b[36m0:00:00\u001b[0m\n",
            "\u001b[?25h\u001b[?25l   \u001b[90m━━━━━━━━━━━━━━━━━━━━━━━━━━━━━━━━━━━━━━━━\u001b[0m \u001b[32m0.0/670.8 kB\u001b[0m \u001b[31m?\u001b[0m eta \u001b[36m-:--:--\u001b[0m\r\u001b[2K   \u001b[90m━━━━━━━━━━━━━━━━━━━━━━━━━━━━━━━━━━━━━━━━\u001b[0m \u001b[32m670.8/670.8 kB\u001b[0m \u001b[31m40.6 MB/s\u001b[0m eta \u001b[36m0:00:00\u001b[0m\n",
            "\u001b[2K   \u001b[90m━━━━━━━━━━━━━━━━━━━━━━━━━━━━━━━━━━━━━━━━\u001b[0m \u001b[32m73.5/73.5 kB\u001b[0m \u001b[31m5.3 MB/s\u001b[0m eta \u001b[36m0:00:00\u001b[0m\n",
            "\u001b[2K   \u001b[90m━━━━━━━━━━━━━━━━━━━━━━━━━━━━━━━━━━━━━━━━\u001b[0m \u001b[32m430.5/430.5 kB\u001b[0m \u001b[31m27.1 MB/s\u001b[0m eta \u001b[36m0:00:00\u001b[0m\n",
            "\u001b[2K   \u001b[90m━━━━━━━━━━━━━━━━━━━━━━━━━━━━━━━━━━━━━━━━\u001b[0m \u001b[32m8.0/8.0 MB\u001b[0m \u001b[31m79.1 MB/s\u001b[0m eta \u001b[36m0:00:00\u001b[0m\n",
            "\u001b[2K   \u001b[90m━━━━━━━━━━━━━━━━━━━━━━━━━━━━━━━━━━━━━━━━\u001b[0m \u001b[32m31.8/31.8 MB\u001b[0m \u001b[31m46.5 MB/s\u001b[0m eta \u001b[36m0:00:00\u001b[0m\n",
            "\u001b[2K   \u001b[90m━━━━━━━━━━━━━━━━━━━━━━━━━━━━━━━━━━━━━━━━\u001b[0m \u001b[32m2.2/2.2 MB\u001b[0m \u001b[31m60.2 MB/s\u001b[0m eta \u001b[36m0:00:00\u001b[0m\n",
            "\u001b[2K   \u001b[90m━━━━━━━━━━━━━━━━━━━━━━━━━━━━━━━━━━━━━━━━\u001b[0m \u001b[32m49.5/49.5 kB\u001b[0m \u001b[31m3.5 MB/s\u001b[0m eta \u001b[36m0:00:00\u001b[0m\n",
            "\u001b[2K   \u001b[90m━━━━━━━━━━━━━━━━━━━━━━━━━━━━━━━━━━━━━━━━\u001b[0m \u001b[32m2.8/2.8 MB\u001b[0m \u001b[31m74.5 MB/s\u001b[0m eta \u001b[36m0:00:00\u001b[0m\n",
            "\u001b[?25h"
          ]
        }
      ],
      "source": [
        "# Gerekli kütüphaneleri yükleyelim (Colab hücresine)\n",
        "!pip install cirq qiskit qutip numpy matplotlib --quiet"
      ]
    },
    {
      "cell_type": "markdown",
      "source": [
        "Cirq ile"
      ],
      "metadata": {
        "id": "MtTAskA5NTgi"
      }
    },
    {
      "cell_type": "code",
      "execution_count": 2,
      "metadata": {
        "colab": {
          "base_uri": "https://localhost:8080/"
        },
        "id": "qEhOLUrWM7cx",
        "outputId": "b5e7e75e-5e9b-4f0f-ff23-d1d801542c10"
      },
      "outputs": [
        {
          "output_type": "stream",
          "name": "stdout",
          "text": [
            "Soru 1 - Yoğunluk matrisi:\n",
            " [[0.5+0.j  0. -0.5j]\n",
            " [0. +0.5j 0.5+0.j ]]\n",
            "Trace: (0.9999999999999998+0j) Tr(rho^2): (0.9999999999999996+0j)\n",
            "\n",
            "Soru 3 - Yoğunluk matrisi:\n",
            " [[0.5 0. ]\n",
            " [0.  0.5]]\n",
            "Tr(rho^2): 0.5\n",
            "\n",
            "Soru 4 - Yoğunluk matrisi:\n",
            " [[0.5 0.5]\n",
            " [0.5 0.5]]\n",
            "\n",
            "Soru 5 - <Z> = 0.0\n"
          ]
        }
      ],
      "source": [
        "import cirq\n",
        "import numpy as np\n",
        "\n",
        "# Soru 1: Saf Durum\n",
        "psi1 = np.array([1/np.sqrt(2), 1j/np.sqrt(2)])\n",
        "rho1 = np.outer(psi1, np.conj(psi1))\n",
        "print(\"Soru 1 - Yoğunluk matrisi:\\n\", np.round(rho1,3))\n",
        "\n",
        "# Soru 2: İz ve Saflık\n",
        "trace1 = np.trace(rho1)\n",
        "purity1 = np.trace(rho1 @ rho1)\n",
        "print(\"Trace:\", trace1, \"Tr(rho^2):\", purity1)\n",
        "\n",
        "# Soru 3: Karışık durum (%50 |0>, %50 |1>)\n",
        "rho2 = 0.5*np.array([[1,0],[0,0]]) + 0.5*np.array([[0,0],[0,1]])\n",
        "purity2 = np.trace(rho2 @ rho2)\n",
        "print(\"\\nSoru 3 - Yoğunluk matrisi:\\n\", rho2)\n",
        "print(\"Tr(rho^2):\", purity2)\n",
        "\n",
        "# Soru 4: Hadamard sonrası\n",
        "H = 1/np.sqrt(2)*np.array([[1,1],[1,-1]])\n",
        "psi0 = np.array([1,0])\n",
        "psi_h = H @ psi0\n",
        "rho3 = np.outer(psi_h, np.conj(psi_h))\n",
        "print(\"\\nSoru 4 - Yoğunluk matrisi:\\n\", np.round(rho3,3))\n",
        "\n",
        "# Soru 5: Beklenen değer <Z>\n",
        "Z = np.array([[1,0],[0,-1]])\n",
        "rho_mixed = 0.5*np.eye(2)\n",
        "expval_Z = np.trace(rho_mixed @ Z)\n",
        "print(\"\\nSoru 5 - <Z> =\", expval_Z)\n"
      ]
    },
    {
      "cell_type": "markdown",
      "source": [
        "Qiskit"
      ],
      "metadata": {
        "id": "DFG7H0YYNYGh"
      }
    },
    {
      "cell_type": "code",
      "source": [
        "import numpy as np\n",
        "from qiskit.quantum_info import DensityMatrix, Operator\n",
        "\n",
        "# Soru 1\n",
        "psi1 = np.array([1/np.sqrt(2), 1j/np.sqrt(2)])\n",
        "rho1 = DensityMatrix(psi1)\n",
        "print(\"Soru 1 - Yoğunluk matrisi:\\n\", np.round(rho1.data,3))\n",
        "\n",
        "# Soru 2: İz ve Saflık\n",
        "trace1 = np.trace(rho1.data)\n",
        "purity1 = np.trace(rho1.data @ rho1.data)\n",
        "print(\"Trace:\", trace1, \"Tr(rho^2):\", purity1)\n",
        "\n",
        "# Soru 3: Karışık durum\n",
        "rho2 = DensityMatrix([[0.5,0],[0,0.5]])\n",
        "purity2 = np.trace(rho2.data @ rho2.data)\n",
        "print(\"\\nSoru 3 - Yoğunluk matrisi:\\n\", rho2.data)\n",
        "print(\"Tr(rho^2):\", purity2)\n",
        "\n",
        "# Soru 4: Hadamard sonrası\n",
        "H = 1/np.sqrt(2)*np.array([[1,1],[1,-1]])\n",
        "psi0 = np.array([1,0])\n",
        "psi_h = H @ psi0\n",
        "rho3 = DensityMatrix(psi_h)\n",
        "print(\"\\nSoru 4 - Yoğunluk matrisi:\\n\", np.round(rho3.data,3))\n",
        "\n",
        "# Soru 5: Beklenen değer <Z>\n",
        "Z = Operator([[1,0],[0,-1]])\n",
        "rho_mixed = DensityMatrix([[0.5,0],[0,0.5]])\n",
        "expval_Z = np.trace(rho_mixed.data @ Z.data)\n",
        "print(\"\\nSoru 5 - <Z> =\", expval_Z)\n"
      ],
      "metadata": {
        "colab": {
          "base_uri": "https://localhost:8080/"
        },
        "id": "3db17cK8NYMx",
        "outputId": "28b97a95-425f-4b2d-a757-6d77dd3453e6"
      },
      "execution_count": 3,
      "outputs": [
        {
          "output_type": "stream",
          "name": "stdout",
          "text": [
            "Soru 1 - Yoğunluk matrisi:\n",
            " [[0.5+0.j  0. -0.5j]\n",
            " [0. +0.5j 0.5+0.j ]]\n",
            "Trace: (0.9999999999999998+0j) Tr(rho^2): (0.9999999999999996+0j)\n",
            "\n",
            "Soru 3 - Yoğunluk matrisi:\n",
            " [[0.5+0.j 0. +0.j]\n",
            " [0. +0.j 0.5+0.j]]\n",
            "Tr(rho^2): (0.5+0j)\n",
            "\n",
            "Soru 4 - Yoğunluk matrisi:\n",
            " [[0.5+0.j 0.5+0.j]\n",
            " [0.5+0.j 0.5+0.j]]\n",
            "\n",
            "Soru 5 - <Z> = 0j\n"
          ]
        }
      ]
    },
    {
      "cell_type": "markdown",
      "source": [
        "QuTiP"
      ],
      "metadata": {
        "id": "Slhe3Ma8NYR-"
      }
    },
    {
      "cell_type": "code",
      "source": [
        "from qutip import basis, ket2dm, Qobj\n",
        "\n",
        "# Soru 1\n",
        "psi1 = (1/np.sqrt(2))*basis(2,0) + 1j*(1/np.sqrt(2))*basis(2,1)\n",
        "rho1 = ket2dm(psi1)\n",
        "print(\"Soru 1 - Yoğunluk matrisi:\\n\", rho1.full().round(3))\n",
        "\n",
        "# Soru 2: İz ve Saflık\n",
        "trace1 = rho1.tr()\n",
        "purity1 = (rho1*rho1).tr()\n",
        "print(\"Trace:\", trace1, \"Tr(rho^2):\", purity1)\n",
        "\n",
        "# Soru 3: Karışık durum\n",
        "rho2 = 0.5*ket2dm(basis(2,0)) + 0.5*ket2dm(basis(2,1))\n",
        "purity2 = (rho2*rho2).tr()\n",
        "print(\"\\nSoru 3 - Yoğunluk matrisi:\\n\", rho2.full())\n",
        "print(\"Tr(rho^2):\", purity2)\n",
        "\n",
        "# Soru 4: Hadamard sonrası\n",
        "H = (1/np.sqrt(2))*Qobj([[1,1],[1,-1]])\n",
        "psi0 = basis(2,0)\n",
        "psi_h = H*psi0\n",
        "rho3 = ket2dm(psi_h)\n",
        "print(\"\\nSoru 4 - Yoğunluk matrisi:\\n\", rho3.full().round(3))\n",
        "\n",
        "# Soru 5: Beklenen değer <Z>\n",
        "Z = Qobj([[1,0],[0,-1]])\n",
        "rho_mixed = 0.5*Qobj([[1,0],[0,1]])\n",
        "expval_Z = (rho_mixed*Z).tr()\n",
        "print(\"\\nSoru 5 - <Z> =\", expval_Z)\n"
      ],
      "metadata": {
        "colab": {
          "base_uri": "https://localhost:8080/"
        },
        "id": "j5fHY8HXNYXt",
        "outputId": "c37dba9c-ea00-470b-b419-763b4d92e1ce"
      },
      "execution_count": 4,
      "outputs": [
        {
          "output_type": "stream",
          "name": "stdout",
          "text": [
            "Soru 1 - Yoğunluk matrisi:\n",
            " [[0.5+0.j  0. -0.5j]\n",
            " [0. +0.5j 0.5+0.j ]]\n",
            "Trace: 0.9999999999999998 Tr(rho^2): 0.9999999999999996\n",
            "\n",
            "Soru 3 - Yoğunluk matrisi:\n",
            " [[0.5+0.j 0. +0.j]\n",
            " [0. +0.j 0.5+0.j]]\n",
            "Tr(rho^2): 0.5\n",
            "\n",
            "Soru 4 - Yoğunluk matrisi:\n",
            " [[0.5+0.j 0.5+0.j]\n",
            " [0.5+0.j 0.5+0.j]]\n",
            "\n",
            "Soru 5 - <Z> = 0.0\n"
          ]
        }
      ]
    }
  ]
}