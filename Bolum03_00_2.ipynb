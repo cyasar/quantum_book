{
  "nbformat": 4,
  "nbformat_minor": 0,
  "metadata": {
    "colab": {
      "provenance": []
    },
    "kernelspec": {
      "name": "python3",
      "display_name": "Python 3"
    },
    "language_info": {
      "name": "python"
    }
  },
  "cells": [
    {
      "cell_type": "markdown",
      "source": [
        "Ön hazırlık (kütüphane kurulumu)"
      ],
      "metadata": {
        "id": "HkikwNrKNzeD"
      }
    },
    {
      "cell_type": "code",
      "execution_count": 1,
      "metadata": {
        "colab": {
          "base_uri": "https://localhost:8080/"
        },
        "id": "anfl_eMVNzeD",
        "outputId": "3d531e8c-0c8b-4af2-b01e-39c2aabf669c"
      },
      "outputs": [
        {
          "output_type": "stream",
          "name": "stdout",
          "text": [
            "\u001b[?25l   \u001b[90m━━━━━━━━━━━━━━━━━━━━━━━━━━━━━━━━━━━━━━━━\u001b[0m \u001b[32m0.0/2.0 MB\u001b[0m \u001b[31m?\u001b[0m eta \u001b[36m-:--:--\u001b[0m\r\u001b[2K   \u001b[91m━━━━━━━━━━━━━━━━━━━━━━\u001b[0m\u001b[91m╸\u001b[0m\u001b[90m━━━━━━━━━━━━━━━━━\u001b[0m \u001b[32m1.1/2.0 MB\u001b[0m \u001b[31m32.8 MB/s\u001b[0m eta \u001b[36m0:00:01\u001b[0m\r\u001b[2K   \u001b[90m━━━━━━━━━━━━━━━━━━━━━━━━━━━━━━━━━━━━━━━━\u001b[0m \u001b[32m2.0/2.0 MB\u001b[0m \u001b[31m29.2 MB/s\u001b[0m eta \u001b[36m0:00:00\u001b[0m\n",
            "\u001b[?25h\u001b[?25l   \u001b[90m━━━━━━━━━━━━━━━━━━━━━━━━━━━━━━━━━━━━━━━━\u001b[0m \u001b[32m0.0/670.8 kB\u001b[0m \u001b[31m?\u001b[0m eta \u001b[36m-:--:--\u001b[0m\r\u001b[2K   \u001b[90m━━━━━━━━━━━━━━━━━━━━━━━━━━━━━━━━━━━━━━━━\u001b[0m \u001b[32m670.8/670.8 kB\u001b[0m \u001b[31m33.1 MB/s\u001b[0m eta \u001b[36m0:00:00\u001b[0m\n",
            "\u001b[2K   \u001b[90m━━━━━━━━━━━━━━━━━━━━━━━━━━━━━━━━━━━━━━━━\u001b[0m \u001b[32m73.5/73.5 kB\u001b[0m \u001b[31m4.4 MB/s\u001b[0m eta \u001b[36m0:00:00\u001b[0m\n",
            "\u001b[2K   \u001b[90m━━━━━━━━━━━━━━━━━━━━━━━━━━━━━━━━━━━━━━━━\u001b[0m \u001b[32m430.5/430.5 kB\u001b[0m \u001b[31m21.5 MB/s\u001b[0m eta \u001b[36m0:00:00\u001b[0m\n",
            "\u001b[2K   \u001b[90m━━━━━━━━━━━━━━━━━━━━━━━━━━━━━━━━━━━━━━━━\u001b[0m \u001b[32m8.0/8.0 MB\u001b[0m \u001b[31m39.6 MB/s\u001b[0m eta \u001b[36m0:00:00\u001b[0m\n",
            "\u001b[2K   \u001b[90m━━━━━━━━━━━━━━━━━━━━━━━━━━━━━━━━━━━━━━━━\u001b[0m \u001b[32m31.8/31.8 MB\u001b[0m \u001b[31m42.5 MB/s\u001b[0m eta \u001b[36m0:00:00\u001b[0m\n",
            "\u001b[2K   \u001b[90m━━━━━━━━━━━━━━━━━━━━━━━━━━━━━━━━━━━━━━━━\u001b[0m \u001b[32m2.2/2.2 MB\u001b[0m \u001b[31m55.6 MB/s\u001b[0m eta \u001b[36m0:00:00\u001b[0m\n",
            "\u001b[2K   \u001b[90m━━━━━━━━━━━━━━━━━━━━━━━━━━━━━━━━━━━━━━━━\u001b[0m \u001b[32m49.5/49.5 kB\u001b[0m \u001b[31m2.3 MB/s\u001b[0m eta \u001b[36m0:00:00\u001b[0m\n",
            "\u001b[2K   \u001b[90m━━━━━━━━━━━━━━━━━━━━━━━━━━━━━━━━━━━━━━━━\u001b[0m \u001b[32m2.6/2.6 MB\u001b[0m \u001b[31m49.2 MB/s\u001b[0m eta \u001b[36m0:00:00\u001b[0m\n",
            "\u001b[?25h"
          ]
        }
      ],
      "source": [
        "# Gerekli kütüphaneleri yükleyelim (Colab hücresine)\n",
        "!pip install cirq qiskit qutip numpy matplotlib --quiet"
      ]
    },
    {
      "cell_type": "markdown",
      "source": [
        "Cirq Örneği"
      ],
      "metadata": {
        "id": "kWAkQ5mDSjgK"
      }
    },
    {
      "cell_type": "code",
      "source": [
        "import cirq\n",
        "import numpy as np\n",
        "\n",
        "# Qubit tanımlama\n",
        "q = cirq.LineQubit(0)\n",
        "\n",
        "# Devre oluşturma\n",
        "circuit = cirq.Circuit()\n",
        "\n",
        "# Temel kapıları ekleme\n",
        "circuit.append(cirq.X(q))   # Pauli-X kapısı\n",
        "circuit.append(cirq.Y(q))   # Pauli-Y kapısı\n",
        "circuit.append(cirq.Z(q))   # Pauli-Z kapısı\n",
        "circuit.append(cirq.H(q))   # Hadamard kapısı\n",
        "\n",
        "# Devreyi göster\n",
        "print(\"Cirq Devresi:\")\n",
        "print(circuit)\n",
        "\n",
        "# Simülasyon\n",
        "simulator = cirq.Simulator()\n",
        "result = simulator.simulate(circuit)\n",
        "print(\"\\nSon durum vektörü:\")\n",
        "print(np.around(result.final_state_vector, 3))\n"
      ],
      "metadata": {
        "colab": {
          "base_uri": "https://localhost:8080/"
        },
        "id": "ZwmgeJ6jSjTp",
        "outputId": "c5011a4f-432f-4cdc-f025-0c3d1b36c5a2"
      },
      "execution_count": 2,
      "outputs": [
        {
          "output_type": "stream",
          "name": "stdout",
          "text": [
            "Cirq Devresi:\n",
            "0: ───X───Y───Z───H───\n",
            "\n",
            "Son durum vektörü:\n",
            "[0.-0.707j 0.-0.707j]\n"
          ]
        }
      ]
    },
    {
      "cell_type": "markdown",
      "source": [
        "Qiskit Örneği"
      ],
      "metadata": {
        "id": "_Fvjnw7AWYZZ"
      }
    },
    {
      "cell_type": "code",
      "source": [
        "from qiskit import QuantumCircuit, Aer, transpile, assemble\n",
        "from qiskit.visualization import plot_bloch_multivector\n",
        "import matplotlib.pyplot as plt\n",
        "\n",
        "# Kuantum devresi\n",
        "qc = QuantumCircuit(1)\n",
        "\n",
        "# Temel kapılar\n",
        "qc.x(0)  # Pauli-X\n",
        "qc.y(0)  # Pauli-Y\n",
        "qc.z(0)  # Pauli-Z\n",
        "qc.h(0)  # Hadamard\n",
        "\n",
        "print(\"Qiskit Devresi:\")\n",
        "print(qc.draw())\n",
        "\n",
        "# Simülasyon\n",
        "sim = Aer.get_backend('statevector_simulator')\n",
        "result = sim.run(assemble(transpile(qc, sim))).result()\n",
        "state = result.get_statevector()\n",
        "print(\"\\nSon durum vektörü:\")\n",
        "print(state)\n",
        "\n",
        "# Bloch küresi ile görselleştirme\n",
        "plot_bloch_multivector(state)\n",
        "plt.show()\n"
      ],
      "metadata": {
        "colab": {
          "base_uri": "https://localhost:8080/",
          "height": 384
        },
        "id": "5rP-5OQ9WbVh",
        "outputId": "ff418b2c-f9a3-483e-d2ec-401a47fba2bf"
      },
      "execution_count": 3,
      "outputs": [
        {
          "output_type": "error",
          "ename": "ImportError",
          "evalue": "cannot import name 'Aer' from 'qiskit' (/usr/local/lib/python3.12/dist-packages/qiskit/__init__.py)",
          "traceback": [
            "\u001b[0;31m---------------------------------------------------------------------------\u001b[0m",
            "\u001b[0;31mImportError\u001b[0m                               Traceback (most recent call last)",
            "\u001b[0;32m/tmp/ipython-input-3179510049.py\u001b[0m in \u001b[0;36m<cell line: 0>\u001b[0;34m()\u001b[0m\n\u001b[0;32m----> 1\u001b[0;31m \u001b[0;32mfrom\u001b[0m \u001b[0mqiskit\u001b[0m \u001b[0;32mimport\u001b[0m \u001b[0mQuantumCircuit\u001b[0m\u001b[0;34m,\u001b[0m \u001b[0mAer\u001b[0m\u001b[0;34m,\u001b[0m \u001b[0mtranspile\u001b[0m\u001b[0;34m,\u001b[0m \u001b[0massemble\u001b[0m\u001b[0;34m\u001b[0m\u001b[0;34m\u001b[0m\u001b[0m\n\u001b[0m\u001b[1;32m      2\u001b[0m \u001b[0;32mfrom\u001b[0m \u001b[0mqiskit\u001b[0m\u001b[0;34m.\u001b[0m\u001b[0mvisualization\u001b[0m \u001b[0;32mimport\u001b[0m \u001b[0mplot_bloch_multivector\u001b[0m\u001b[0;34m\u001b[0m\u001b[0;34m\u001b[0m\u001b[0m\n\u001b[1;32m      3\u001b[0m \u001b[0;32mimport\u001b[0m \u001b[0mmatplotlib\u001b[0m\u001b[0;34m.\u001b[0m\u001b[0mpyplot\u001b[0m \u001b[0;32mas\u001b[0m \u001b[0mplt\u001b[0m\u001b[0;34m\u001b[0m\u001b[0;34m\u001b[0m\u001b[0m\n\u001b[1;32m      4\u001b[0m \u001b[0;34m\u001b[0m\u001b[0m\n\u001b[1;32m      5\u001b[0m \u001b[0;31m# Kuantum devresi\u001b[0m\u001b[0;34m\u001b[0m\u001b[0;34m\u001b[0m\u001b[0m\n",
            "\u001b[0;31mImportError\u001b[0m: cannot import name 'Aer' from 'qiskit' (/usr/local/lib/python3.12/dist-packages/qiskit/__init__.py)",
            "",
            "\u001b[0;31m---------------------------------------------------------------------------\u001b[0;32m\nNOTE: If your import is failing due to a missing package, you can\nmanually install dependencies using either !pip or !apt.\n\nTo view examples of installing some common dependencies, click the\n\"Open Examples\" button below.\n\u001b[0;31m---------------------------------------------------------------------------\u001b[0m\n"
          ],
          "errorDetails": {
            "actions": [
              {
                "action": "open_url",
                "actionText": "Open Examples",
                "url": "/notebooks/snippets/importing_libraries.ipynb"
              }
            ]
          }
        }
      ]
    },
    {
      "cell_type": "markdown",
      "source": [
        "QuTiP Örneği"
      ],
      "metadata": {
        "id": "gT0SMz04WblD"
      }
    },
    {
      "cell_type": "code",
      "source": [
        "from qutip import basis, sigmax, sigmay, sigmaz, hadamard_transform\n",
        "\n",
        "# Qubit başlangıç durumu |0>\n",
        "q0 = basis(2, 0)\n",
        "\n",
        "# Temel kapılar\n",
        "x_op = sigmax()\n",
        "y_op = sigmay()\n",
        "z_op = sigmaz()\n",
        "h_op = hadamard_transform(1)\n",
        "\n",
        "# Operatörleri uygulama\n",
        "state_x = x_op * q0\n",
        "state_y = y_op * q0\n",
        "state_z = z_op * q0\n",
        "state_h = h_op * q0\n",
        "\n",
        "print(\"QuTiP ile Operatör Uygulamaları:\")\n",
        "print(\"X|0> =\", state_x)\n",
        "print(\"Y|0> =\", state_y)\n",
        "print(\"Z|0> =\", state_z)\n",
        "print(\"H|0> =\", state_h)\n"
      ],
      "metadata": {
        "colab": {
          "base_uri": "https://localhost:8080/",
          "height": 384
        },
        "id": "IajEfYN3WbuC",
        "outputId": "631be4c1-2c1f-4724-a12e-a3d935fe1668"
      },
      "execution_count": 5,
      "outputs": [
        {
          "output_type": "error",
          "ename": "ImportError",
          "evalue": "cannot import name 'hadamard_transform' from 'qutip' (/usr/local/lib/python3.12/dist-packages/qutip/__init__.py)",
          "traceback": [
            "\u001b[0;31m---------------------------------------------------------------------------\u001b[0m",
            "\u001b[0;31mImportError\u001b[0m                               Traceback (most recent call last)",
            "\u001b[0;32m/tmp/ipython-input-3862672781.py\u001b[0m in \u001b[0;36m<cell line: 0>\u001b[0;34m()\u001b[0m\n\u001b[0;32m----> 1\u001b[0;31m \u001b[0;32mfrom\u001b[0m \u001b[0mqutip\u001b[0m \u001b[0;32mimport\u001b[0m \u001b[0mbasis\u001b[0m\u001b[0;34m,\u001b[0m \u001b[0msigmax\u001b[0m\u001b[0;34m,\u001b[0m \u001b[0msigmay\u001b[0m\u001b[0;34m,\u001b[0m \u001b[0msigmaz\u001b[0m\u001b[0;34m,\u001b[0m \u001b[0mhadamard_transform\u001b[0m\u001b[0;34m\u001b[0m\u001b[0;34m\u001b[0m\u001b[0m\n\u001b[0m\u001b[1;32m      2\u001b[0m \u001b[0;34m\u001b[0m\u001b[0m\n\u001b[1;32m      3\u001b[0m \u001b[0;31m# Qubit başlangıç durumu |0>\u001b[0m\u001b[0;34m\u001b[0m\u001b[0;34m\u001b[0m\u001b[0m\n\u001b[1;32m      4\u001b[0m \u001b[0mq0\u001b[0m \u001b[0;34m=\u001b[0m \u001b[0mbasis\u001b[0m\u001b[0;34m(\u001b[0m\u001b[0;36m2\u001b[0m\u001b[0;34m,\u001b[0m \u001b[0;36m0\u001b[0m\u001b[0;34m)\u001b[0m\u001b[0;34m\u001b[0m\u001b[0;34m\u001b[0m\u001b[0m\n\u001b[1;32m      5\u001b[0m \u001b[0;34m\u001b[0m\u001b[0m\n",
            "\u001b[0;31mImportError\u001b[0m: cannot import name 'hadamard_transform' from 'qutip' (/usr/local/lib/python3.12/dist-packages/qutip/__init__.py)",
            "",
            "\u001b[0;31m---------------------------------------------------------------------------\u001b[0;32m\nNOTE: If your import is failing due to a missing package, you can\nmanually install dependencies using either !pip or !apt.\n\nTo view examples of installing some common dependencies, click the\n\"Open Examples\" button below.\n\u001b[0;31m---------------------------------------------------------------------------\u001b[0m\n"
          ],
          "errorDetails": {
            "actions": [
              {
                "action": "open_url",
                "actionText": "Open Examples",
                "url": "/notebooks/snippets/importing_libraries.ipynb"
              }
            ]
          }
        }
      ]
    }
  ]
}